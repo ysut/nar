{
 "cells": [
  {
   "cell_type": "code",
   "execution_count": 2,
   "metadata": {},
   "outputs": [],
   "source": [
    "import numpy as np\n",
    "import pandas as pd\n",
    "import gffutils"
   ]
  },
  {
   "cell_type": "code",
   "execution_count": 4,
   "metadata": {},
   "outputs": [],
   "source": [
    "try:\n",
    "    db_anno_gencode = '../Resources/06_gffutilsdb/gencode.v43lift37.annotation.gtf.db'\n",
    "    db_anno_intron = '../Resources/06_gffutilsdb/gencode.v43lift37.annotation.intron.gtf.db'\n",
    "    db = gffutils.FeatureDB(db_anno_gencode)\n",
    "    db_intron = gffutils.FeatureDB(db_anno_intron)\n",
    "except ValueError:\n",
    "    db_anno_gencode = '/resources/DBs/gencode.v43lift37.annotation.gtf.db'\n",
    "    db_anno_intron = '/resources/DBs/gencode.v43lift37.annotation.intron.gtf.db'\n",
    "    db = gffutils.FeatureDB(db_anno_gencode)\n",
    "    db_intron = gffutils.FeatureDB(db_anno_intron)"
   ]
  },
  {
   "cell_type": "code",
   "execution_count": 79,
   "metadata": {},
   "outputs": [],
   "source": [
    "query_enst = 'ENST00000262376.11_8'\n",
    "chrom, pos = 'chr16', int(4918905)\n",
    "\n",
    "query_enst = 'ENST00000254898.7_4'\n",
    "chrom, pos = 'chr8', int(99028891)\n",
    "\n",
    "query_enst = 'ENST00000376936.9_9'\n",
    "chrom, pos = 'chr1', int(11129615)"
   ]
  },
  {
   "cell_type": "code",
   "execution_count": 80,
   "metadata": {},
   "outputs": [],
   "source": [
    "strand = next(db.children(query_enst, featuretype='transcript')).strand\n",
    "if strand == '+':\n",
    "\tregion: tuple = (chrom, pos-1, pos)\n",
    "\t# region: tuple = (chrom, pos, pos+1)\n",
    "elif strand == '-':\n",
    "\tregion: tuple = (chrom, pos, pos+1)\n",
    "else:\n",
    "\tprint(f'Warning: unkown strand -> {query_enst}')\n",
    "\tregion: tuple = (chrom, pos-1, pos)"
   ]
  },
  {
   "cell_type": "code",
   "execution_count": 68,
   "metadata": {},
   "outputs": [],
   "source": [
    "try:\n",
    "\tfetched_data = db.children(\n",
    "\t\tquery_enst, limit=region, featuretype='exon')\n",
    "\td = next(fetched_data)\n",
    "except StopIteration: \n",
    "\ttry:\n",
    "\t\tfetched_data = db_intron.children(\n",
    "\t\t\tquery_enst, limit=region, featuretype='intron')\n",
    "\t\td = next(fetched_data)\n",
    "\texcept StopIteration:\n",
    "\t\t# print(f'Warning: No exon or intron found -> {row[\"variant_id\"]}: {row[\"ENST_Full\"]}')\n",
    "\t\tprint('w')\n",
    "\telse:\n",
    "\t\tpass\n",
    "else:\n",
    "\tpass\n",
    "\n",
    "d_attr: list = d.attributes\n",
    "curtFeature = d.featuretype"
   ]
  },
  {
   "cell_type": "code",
   "execution_count": 84,
   "metadata": {},
   "outputs": [
    {
     "data": {
      "text/plain": [
       "'-'"
      ]
     },
     "execution_count": 84,
     "metadata": {},
     "output_type": "execute_result"
    }
   ],
   "source": [
    "strand"
   ]
  },
  {
   "cell_type": "code",
   "execution_count": 81,
   "metadata": {},
   "outputs": [],
   "source": [
    "fetched_data = db_intron.children(\n",
    "\tquery_enst, limit=region, featuretype='intron')\n",
    "d2 = next(fetched_data)\n"
   ]
  },
  {
   "cell_type": "code",
   "execution_count": 82,
   "metadata": {},
   "outputs": [
    {
     "name": "stdout",
     "output_type": "stream",
     "text": [
      "chr1\tgffutils_derived\tintron\t11128764\t11129615\t.\t-\t.\tgene_id \"ENSG00000171824.14_11\"; transcript_id \"ENST00000376936.9_9\"; gene_type \"protein_coding\"; gene_name \"EXOSC10\"; transcript_type \"protein_coding\"; transcript_name \"EXOSC10-202\"; exon_number \"22\"; exon_number \"23\"; exon_id \"ENSE00003477758.1_1\"; exon_id \"ENSE00003494373.1_1\"; level \"2\"; protein_id \"ENSP00000366135.4\"; transcript_support_level \"1\"; hgnc_id \"HGNC:9138\"; tag \"CCDS\"; tag \"Ensembl_canonical\"; tag \"MANE_Select\"; tag \"appris_principal_1\"; tag \"basic\"; ccdsid \"CCDS30584.1\"; havana_gene \"OTTHUMG00000002123.3_11\"; havana_transcript \"OTTHUMT00000006078.1_9\"; remap_original_location \"chr1:-:11068645-11068706\"; remap_original_location \"chr1:-:11069559-11069730\"; remap_status \"full_contig\";\n"
     ]
    }
   ],
   "source": [
    "print(d2)"
   ]
  },
  {
   "cell_type": "code",
   "execution_count": 83,
   "metadata": {},
   "outputs": [
    {
     "name": "stdout",
     "output_type": "stream",
     "text": [
      "('chr1', 11129615, 11129616)\n",
      "chr16\tgffutils_derived\tintron\t4918905\t4920212\t.\t+\t.\tgene_id \"ENSG00000118900.15_12\"; transcript_id \"ENST00000262376.11_8\"; gene_type \"protein_coding\"; gene_name \"UBN1\"; transcript_type \"protein_coding\"; transcript_name \"UBN1-201\"; exon_number \"8\"; exon_number \"9\"; exon_id \"ENSE00003506737.1_1\"; exon_id \"ENSE00003608604.1_1\"; level \"2\"; protein_id \"ENSP00000262376.5\"; transcript_support_level \"1\"; hgnc_id \"HGNC:12506\"; tag \"CCDS\"; tag \"Ensembl_canonical\"; tag \"MANE_Select\"; tag \"appris_principal_2\"; tag \"basic\"; ccdsid \"CCDS10525.1\"; havana_gene \"OTTHUMG00000129531.6_12\"; havana_transcript \"OTTHUMT00000251718.3_8\"; remap_original_location \"chr16:+:4868833-4868903\"; remap_original_location \"chr16:+:4870212-4870341\"; remap_status \"full_contig\";\n"
     ]
    }
   ],
   "source": [
    "print(region)\n",
    "print(d)"
   ]
  },
  {
   "cell_type": "code",
   "execution_count": null,
   "metadata": {},
   "outputs": [],
   "source": []
  }
 ],
 "metadata": {
  "kernelspec": {
   "display_name": "gakui",
   "language": "python",
   "name": "python3"
  },
  "language_info": {
   "codemirror_mode": {
    "name": "ipython",
    "version": 3
   },
   "file_extension": ".py",
   "mimetype": "text/x-python",
   "name": "python",
   "nbconvert_exporter": "python",
   "pygments_lexer": "ipython3",
   "version": "3.9.18"
  }
 },
 "nbformat": 4,
 "nbformat_minor": 2
}
