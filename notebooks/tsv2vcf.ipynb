{
 "cells": [
  {
   "cell_type": "code",
   "execution_count": 10,
   "metadata": {},
   "outputs": [],
   "source": [
    "import pandas as pd\n",
    "import cyvcf2\n",
    "import pyfaidx"
   ]
  },
  {
   "cell_type": "code",
   "execution_count": null,
   "metadata": {},
   "outputs": [],
   "source": [
    "fasta = pyfaidx.Fasta(\"./human_g1k_v37_fix.fasta\")\n",
    "mydata = \"../ValidationData/mydata/original.snpeff.state.disease.identifiedgene.filtered.splai.tsv\"\n",
    "df = pd.read_table(mydata, sep='\\t', dtype=str)\n",
    "out_vcf = \"./mydata_simple.vcf\"\n",
    "\n",
    "minimum_header = \"\"\"##fileformat=VCFv4.2\n",
    "#CHROM\\tPOS\\tID\\tREF\\tALT\\tQUAL\\tFILTER\\tINFO\n",
    "\"\"\"\n",
    "\n",
    "writer = cyvcf2.Writer.from_string(out_vcf, minimum_header, mode=\"w\")\n",
    "\n",
    "def natural_key(x) -> tuple:\n",
    "    if x.isdigit():\n",
    "        return (0, int(x))\n",
    "    else:\n",
    "        return (1, x)\n",
    "\n",
    "def add_contigs_from_series(\n",
    "        df: pd.DataFrame, writer: cyvcf2.Writer, fasta: pyfaidx.Fasta\n",
    "        ) -> cyvcf2.Writer:\n",
    "    sorted_arr = sorted(df[\"CHROM\"].unique(), key=natural_key)\n",
    "    for contig in sorted_arr:\n",
    "        writer.add_to_header(\n",
    "            f\"##contig=<ID={contig},length={len(fasta[contig])}>\"\n",
    "            )\n",
    "    return writer"
   ]
  },
  {
   "cell_type": "code",
   "execution_count": 12,
   "metadata": {},
   "outputs": [],
   "source": [
    "writer = add_contigs_from_series(df, writer, fasta)\n",
    "writer.write_header()\n",
    "\n",
    "for row in df.iterrows():\n",
    "    chrom, pos = row[1].iloc[34], row[1].iloc[35] \n",
    "    ref, alt = row[1].iloc[36], row[1].iloc[37]\n",
    "    var_str = \"\\t\".join([\n",
    "        chrom, str(pos), \".\", str(ref), str(alt), \".\", \"PASS\", \".\"\n",
    "        ])\n",
    "    variant = writer.variant_from_string(var_str)\n",
    "    writer.write_record(variant)\n",
    "\n",
    "writer.close()\n"
   ]
  }
 ],
 "metadata": {
  "kernelspec": {
   "display_name": "nar",
   "language": "python",
   "name": "python3"
  },
  "language_info": {
   "codemirror_mode": {
    "name": "ipython",
    "version": 3
   },
   "file_extension": ".py",
   "mimetype": "text/x-python",
   "name": "python",
   "nbconvert_exporter": "python",
   "pygments_lexer": "ipython3",
   "version": "3.8.20"
  }
 },
 "nbformat": 4,
 "nbformat_minor": 2
}
