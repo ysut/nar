{
 "cells": [
  {
   "cell_type": "code",
   "execution_count": 27,
   "metadata": {},
   "outputs": [],
   "source": [
    "import pandas as pd\n",
    "import numpy as np\n",
    "import cyvcf2\n",
    "from pyfaidx import Fasta\n"
   ]
  },
  {
   "cell_type": "code",
   "execution_count": 31,
   "metadata": {},
   "outputs": [],
   "source": [
    "mydata = \"../ValidationData/mydata/original.snpeff.state.disease.identifiedgene.filtered.splai.tsv\"\n",
    "df = pd.read_table(mydata, sep='\\t', dtype=str)\n",
    "out_vcf = \"./mydata_simple.vcf\"\n",
    "# tmpl_vcf = cyvcf2.VCF(\"./header.vcf\")\n",
    "# tmpl_vcf = cyvcf2.VCF(\"/Users/utsu/work/Github/nar/ValidationData/TP/additional/splai_vep_vcfs/Non_maxentscan_loftee_HGMD/all_DM_vcfs/all_DM_chr1.splai.vep.vcf\")\n",
    "# writer = cyvcf2.Writer(fname=out_vcf, tmpl=tmpl_vcf)\n",
    "\n",
    "header_string = \"\"\"##fileformat=VCFv4.2\n",
    "#CHROM\\tPOS\\tID\\tREF\\tALT\\tQUAL\\tFILTER\\tINFO\n",
    "\"\"\"\n",
    "\n",
    "writer = cyvcf2.Writer.from_string(out_vcf, header_string, mode=\"w\")\n",
    "\n",
    "def natural_key(x):\n",
    "    if x.isdigit():\n",
    "        return (0, int(x))  # タプルの最初は0で数字と識別し、2番目で数値比較\n",
    "    else:\n",
    "        return (1, x)       # タプルの最初を1にして非数字は後ろへ\n",
    "\n",
    "def add_contigs_from_series(df: pd.DataFrame, writer: cyvcf2.Writer) -> cyvcf2.Writer:\n",
    "    sorted_arr = sorted(df[\"CHROM\"].unique(), key=natural_key)\n",
    "    print(sorted_arr)\n",
    "    for contig in sorted_arr:\n",
    "        writer.add_to_header(f\"##contig=<ID={contig},length=1000000>\")\n",
    "    return writer"
   ]
  },
  {
   "cell_type": "code",
   "execution_count": 29,
   "metadata": {},
   "outputs": [],
   "source": [
    "sorted_arr = sorted(df[\"CHROM\"].unique(), key=natural_key)"
   ]
  },
  {
   "cell_type": "code",
   "execution_count": 32,
   "metadata": {},
   "outputs": [
    {
     "name": "stdout",
     "output_type": "stream",
     "text": [
      "['1', '2', '3', '4', '5', '6', '7', '8', '9', '10', '11', '12', '13', '14', '15', '16', '17', '18', '19', '20', '21', '22', 'X']\n"
     ]
    }
   ],
   "source": [
    "writer = add_contigs_from_series(df, writer)\n",
    "writer.write_header()\n",
    "\n",
    "for row in df.iterrows():\n",
    "    # if i >= 2000:\n",
    "\n",
    "    chrom, pos, ref, alt = row[1].iloc[34], row[1].iloc[35], row[1].iloc[36], row[1].iloc[37]\n",
    "\n",
    "    var_str = \"\\t\".join([chrom, str(pos), \".\", str(ref), str(alt), \".\", \"PASS\", \".\"])\n",
    "    variant = writer.variant_from_string(var_str)\n",
    "    writer.write_record(variant)\n",
    "\n",
    "writer.close()\n"
   ]
  },
  {
   "cell_type": "code",
   "execution_count": 9,
   "metadata": {},
   "outputs": [
    {
     "data": {
      "text/plain": [
       "Index(['sample', 'fa', 'mo', 'type', 'ID_x', 'vqslod', 'triodenovo',\n",
       "       'dnmfilter', 'denovogear', 'denovofilter', 'sanger', 'Gene.refGene',\n",
       "       'SIFT_score', 'SIFT_pred', 'Polyphen2_HVAR_score',\n",
       "       'Polyphen2_HVAR_pred', 'PROVEAN_score', 'PROVEAN_pred', 'CADD_phred',\n",
       "       'GERP++_RS', 'gerp++gt2', 'phyloP7way_vertebrate',\n",
       "       'phastCons7way_vertebrate', 'ExAC_ALL', 'ExAC_AFR', 'ExAC_AMR',\n",
       "       'ExAC_EAS', 'ExAC_FIN', 'ExAC_NFE', 'ExAC_OTH', 'ExAC_SAS',\n",
       "       'snp138NonFlagged', 'snp20160620_tommo_exome', 'esp6500siv2_all',\n",
       "       'CHROM', 'POS', 'REF', 'ALT', 'gene', 'ENSG', 'ENST', 'c.HGVS',\n",
       "       'p.HVGS', 'Rank', 'csq', 'Biotype', 'DNA_ID', 'Identified_Gene',\n",
       "       'Disease', 'State', 'variant_id', 'GeneSymbol', 'ENST_Full',\n",
       "       'ENSG_Full', 'Strand', 'Tag', 'ID_y', 'is_Multi', 'SpliceAI', 'DS_AG',\n",
       "       'DS_AL', 'DS_DG', 'DS_DL', 'DP_AG', 'DP_AL', 'DP_DG', 'DP_DL',\n",
       "       'maxsplai'],\n",
       "      dtype='object')"
      ]
     },
     "execution_count": 9,
     "metadata": {},
     "output_type": "execute_result"
    }
   ],
   "source": [
    "df.columns"
   ]
  },
  {
   "cell_type": "code",
   "execution_count": 59,
   "metadata": {},
   "outputs": [],
   "source": []
  },
  {
   "cell_type": "code",
   "execution_count": null,
   "metadata": {},
   "outputs": [],
   "source": []
  }
 ],
 "metadata": {
  "kernelspec": {
   "display_name": "gakui",
   "language": "python",
   "name": "python3"
  },
  "language_info": {
   "codemirror_mode": {
    "name": "ipython",
    "version": 3
   },
   "file_extension": ".py",
   "mimetype": "text/x-python",
   "name": "python",
   "nbconvert_exporter": "python",
   "pygments_lexer": "ipython3",
   "version": "3.9.18"
  }
 },
 "nbformat": 4,
 "nbformat_minor": 2
}
