{
 "cells": [
  {
   "cell_type": "markdown",
   "metadata": {},
   "source": [
    "##### Import package"
   ]
  },
  {
   "cell_type": "code",
   "execution_count": 1,
   "metadata": {},
   "outputs": [],
   "source": [
    "import re\n",
    "import pandas as pd\n",
    "from Bio.Seq import Seq\n",
    "from liftover import get_lifter\n",
    "# from concurrent.futures import ThreadPoolExecutor"
   ]
  },
  {
   "cell_type": "code",
   "execution_count": 2,
   "metadata": {},
   "outputs": [],
   "source": [
    "def _liftover_to_hg19(chrom, pos):\n",
    "    converter = get_lifter('hg38', 'hg19')\n",
    "    result = converter.query(chrom, pos)\n",
    "    if result:\n",
    "        return result[0]\n",
    "    else:\n",
    "        return None\n",
    "    \n",
    "def anno_vars_id(row):\n",
    "    variant_id = f'{row[\"CHROM\"]}:{row[\"POS_hg19\"]}-{row[\"REF\"]}-{row[\"ALT\"]}'\n",
    "    return variant_id\n",
    "\n",
    "def anno_hg19_pos(row):\n",
    "    converted = _liftover_to_hg19(row['CHROM'], row['POS_hg38'])\n",
    "    return converted[1]\n",
    "\n",
    "def remove_dot_ver(x):\n",
    "    if x == '.':\n",
    "        pass\n",
    "    else:\n",
    "        return re.match(r'[a-zA-Z_]+\\d+', x).group()\n",
    "    \n",
    "def remove_non_canon(x):\n",
    "    if x in enst_set:\n",
    "        return True\n",
    "    else:\n",
    "        pass\n",
    "\n",
    "def create_refalt(row, nt):\n",
    "    if row['Strand'] == '+':\n",
    "        return row[nt]\n",
    "    elif row['Strand'] == '-':\n",
    "        return str(Seq(row[nt]).complement())\n",
    "    else:\n",
    "        pass"
   ]
  },
  {
   "cell_type": "code",
   "execution_count": 3,
   "metadata": {},
   "outputs": [],
   "source": [
    "canonlist = '/Github/Projects/DeNovo/data/CanonicalTranscripts_COMP/CanonicalTranscripts.exoncount.tsv'\n",
    "refseq = '/work/CanonicalTrasncripts/gencode.v43lift37.metadata.RefSeq.gz'\n",
    "\n",
    "df_canon = pd.read_table(canonlist, header=0)\n",
    "df_canon = df_canon[(df_canon['ENST'] != 'ENST00000649912')\n",
    "                    & (df_canon['ENST'] != 'ENST00000609375')]\n",
    "df_enst = df_canon.drop_duplicates(subset='ENST')\n",
    "enst_set = set(df_enst['ENST'])\n",
    "df_refseq = pd.read_table(refseq, header=None, \n",
    "                          names=['ENST_refseq', 'RefSeq_RNA', 'RefSeq_Pro'])\n",
    "df_refseq.fillna(value='.', inplace=True)\n",
    "\n",
    "df_refseq['ENST_refseq'] = df_refseq['ENST_refseq'].apply(remove_dot_ver)\n",
    "df_refseq['RefSeq_RNA'] = df_refseq['RefSeq_RNA'].apply(remove_dot_ver)\n",
    "df_refseq['RefSeq_Pro'] = df_refseq['RefSeq_Pro'].apply(remove_dot_ver)\n",
    "\n",
    "df_refseq['is_Canonical'] =  df_refseq['ENST_refseq'].apply(remove_non_canon)\n",
    "df_refseq_canon = df_refseq[df_refseq['is_Canonical'] == True].copy()"
   ]
  },
  {
   "cell_type": "markdown",
   "metadata": {},
   "source": [
    "##### Generate VCF"
   ]
  },
  {
   "cell_type": "code",
   "execution_count": 4,
   "metadata": {},
   "outputs": [],
   "source": [
    "# Loading HGMD splicing variants list (tsv)\n",
    "hgmd_file = '/Github/MyProjects/DeNovo/data/ValidationData/Positive/allmut.trim.colfixed.maf0.tsv.txt'\n",
    "df = pd.read_table(hgmd_file, header=0)\n",
    "\n",
    "# Pre-processing\n",
    "df = df.dropna(subset=['startCoord'])\n",
    "df['startCoord'] = df['startCoord'].astype(int)\n",
    "df['refseq'] = df['refseq'].apply(remove_dot_ver)\n",
    "\n",
    "# Extract REF and ALT from HGVS descriptions\n",
    "sr_alt_nt = df['hgvs'].str[-1:].rename('alt_nt')\n",
    "sr_ref_nt = df['hgvs'].str[-3:-2].rename('ref_nt')\n",
    "df = pd.concat([df, sr_ref_nt, sr_alt_nt], axis=1)\n",
    "\n",
    "# Insert cols as VCF\n",
    "df.loc[:,'ID'] = '.'\n",
    "df.loc[:,'QUAL'] = '.'\n",
    "df.loc[:,'FILTER'] = '.'\n",
    "df.loc[:,'INFO'] = '.'\n",
    "\n",
    "# Annotate ENST IDs\n",
    "df = pd.merge(df, df_enst, how='left', \n",
    "              left_on='gene', right_on='GeneSymbol')\n",
    "\n",
    "# Rename cols for downstream processing\n",
    "df = df.rename(columns={'CHROM': 'Chr',\n",
    "                        'chromosome': 'CHROM', \n",
    "                        'startCoord': 'POS_hg38'})\n",
    "\n",
    "# Create REF and ALT columns\n",
    "df['REF'] = df.apply(create_refalt, nt='ref_nt', axis=1)\n",
    "df['ALT'] = df.apply(create_refalt, nt='alt_nt', axis=1)"
   ]
  },
  {
   "cell_type": "code",
   "execution_count": 5,
   "metadata": {},
   "outputs": [],
   "source": [
    "# Liftover to hg19\n",
    "df['POS_hg19'] = df.apply(anno_hg19_pos, axis=1)"
   ]
  },
  {
   "cell_type": "code",
   "execution_count": null,
   "metadata": {},
   "outputs": [],
   "source": [
    "df2 = df.copy()\n",
    "df2 = df2.astype({'POS_hg19': str})\n",
    "\n",
    "# Annotate variant IDs\n",
    "df2['variant_id'] = df2.apply(anno_vars_id, axis=1)\n",
    "\n",
    "# Extract columns for VCF\n",
    "df_19 = df2[['CHROM', 'POS_hg19', \n",
    "             'ID', 'REF', 'ALT', 'QUAL', 'FILTER', 'INFO']]\n",
    "df_38 = df2[['CHROM', 'POS_hg38', \n",
    "             'ID', 'REF', 'ALT', 'QUAL', 'FILTER', 'INFO']]"
   ]
  },
  {
   "cell_type": "code",
   "execution_count": 265,
   "metadata": {},
   "outputs": [],
   "source": [
    "df_19 = df_19.dropna(subset=['REF'])\n",
    "df_38 = df_38.dropna(subset=['REF'])"
   ]
  },
  {
   "cell_type": "code",
   "execution_count": 266,
   "metadata": {},
   "outputs": [],
   "source": [
    "# Output as VCF\n",
    "df_19.to_csv('./patho.hg19.vcf', sep='\\t', index=False, header=False)\n",
    "df_38.to_csv('./patho.hg38.vcf', sep='\\t', index=False, header=False)"
   ]
  },
  {
   "cell_type": "markdown",
   "metadata": {},
   "source": [
    "##### Concatenate header and variant list"
   ]
  },
  {
   "cell_type": "code",
   "execution_count": 267,
   "metadata": {},
   "outputs": [],
   "source": [
    "!cat ../header_for_VCF.tsv ./patho.hg19.vcf > patho.hg19.header.vcf\n",
    "!cat ../header_for_VCF.tsv ./patho.hg38.vcf > patho.hg38.header.vcf"
   ]
  },
  {
   "cell_type": "code",
   "execution_count": 263,
   "metadata": {},
   "outputs": [
    {
     "data": {
      "text/html": [
       "<div>\n",
       "<style scoped>\n",
       "    .dataframe tbody tr th:only-of-type {\n",
       "        vertical-align: middle;\n",
       "    }\n",
       "\n",
       "    .dataframe tbody tr th {\n",
       "        vertical-align: top;\n",
       "    }\n",
       "\n",
       "    .dataframe thead th {\n",
       "        text-align: right;\n",
       "    }\n",
       "</style>\n",
       "<table border=\"1\" class=\"dataframe\">\n",
       "  <thead>\n",
       "    <tr style=\"text-align: right;\">\n",
       "      <th></th>\n",
       "      <th>Strand</th>\n",
       "      <th>ref_nt</th>\n",
       "      <th>REF</th>\n",
       "      <th>alt_nt</th>\n",
       "      <th>ALT</th>\n",
       "    </tr>\n",
       "  </thead>\n",
       "  <tbody>\n",
       "    <tr>\n",
       "      <th>0</th>\n",
       "      <td>+</td>\n",
       "      <td>A</td>\n",
       "      <td>A</td>\n",
       "      <td>G</td>\n",
       "      <td>G</td>\n",
       "    </tr>\n",
       "    <tr>\n",
       "      <th>1</th>\n",
       "      <td>-</td>\n",
       "      <td>T</td>\n",
       "      <td>A</td>\n",
       "      <td>G</td>\n",
       "      <td>C</td>\n",
       "    </tr>\n",
       "    <tr>\n",
       "      <th>2</th>\n",
       "      <td>-</td>\n",
       "      <td>G</td>\n",
       "      <td>C</td>\n",
       "      <td>A</td>\n",
       "      <td>T</td>\n",
       "    </tr>\n",
       "    <tr>\n",
       "      <th>3</th>\n",
       "      <td>+</td>\n",
       "      <td>A</td>\n",
       "      <td>A</td>\n",
       "      <td>G</td>\n",
       "      <td>G</td>\n",
       "    </tr>\n",
       "    <tr>\n",
       "      <th>4</th>\n",
       "      <td>-</td>\n",
       "      <td>A</td>\n",
       "      <td>T</td>\n",
       "      <td>G</td>\n",
       "      <td>C</td>\n",
       "    </tr>\n",
       "    <tr>\n",
       "      <th>...</th>\n",
       "      <td>...</td>\n",
       "      <td>...</td>\n",
       "      <td>...</td>\n",
       "      <td>...</td>\n",
       "      <td>...</td>\n",
       "    </tr>\n",
       "    <tr>\n",
       "      <th>10553</th>\n",
       "      <td>NaN</td>\n",
       "      <td>G</td>\n",
       "      <td>None</td>\n",
       "      <td>A</td>\n",
       "      <td>None</td>\n",
       "    </tr>\n",
       "    <tr>\n",
       "      <th>10554</th>\n",
       "      <td>+</td>\n",
       "      <td>G</td>\n",
       "      <td>G</td>\n",
       "      <td>A</td>\n",
       "      <td>A</td>\n",
       "    </tr>\n",
       "    <tr>\n",
       "      <th>10555</th>\n",
       "      <td>-</td>\n",
       "      <td>G</td>\n",
       "      <td>C</td>\n",
       "      <td>A</td>\n",
       "      <td>T</td>\n",
       "    </tr>\n",
       "    <tr>\n",
       "      <th>10556</th>\n",
       "      <td>-</td>\n",
       "      <td>G</td>\n",
       "      <td>C</td>\n",
       "      <td>A</td>\n",
       "      <td>T</td>\n",
       "    </tr>\n",
       "    <tr>\n",
       "      <th>10557</th>\n",
       "      <td>+</td>\n",
       "      <td>G</td>\n",
       "      <td>G</td>\n",
       "      <td>A</td>\n",
       "      <td>A</td>\n",
       "    </tr>\n",
       "  </tbody>\n",
       "</table>\n",
       "<p>10558 rows × 5 columns</p>\n",
       "</div>"
      ],
      "text/plain": [
       "      Strand ref_nt   REF alt_nt   ALT\n",
       "0          +      A     A      G     G\n",
       "1          -      T     A      G     C\n",
       "2          -      G     C      A     T\n",
       "3          +      A     A      G     G\n",
       "4          -      A     T      G     C\n",
       "...      ...    ...   ...    ...   ...\n",
       "10553    NaN      G  None      A  None\n",
       "10554      +      G     G      A     A\n",
       "10555      -      G     C      A     T\n",
       "10556      -      G     C      A     T\n",
       "10557      +      G     G      A     A\n",
       "\n",
       "[10558 rows x 5 columns]"
      ]
     },
     "execution_count": 263,
     "metadata": {},
     "output_type": "execute_result"
    }
   ],
   "source": [
    "df[['Strand', 'ref_nt', 'REF', 'alt_nt', 'ALT']]"
   ]
  },
  {
   "cell_type": "code",
   "execution_count": 277,
   "metadata": {},
   "outputs": [],
   "source": [
    "df2 =df2[['gene', 'gdbid', 'omimid', 'amino', 'codon', 'codonAff', 'descr',\n",
    "       'refseq', 'hgvs', 'CHROM', 'POS_hg38', 'endCoord', \n",
    "       'expected_inheritance', 'dmsupport', 'mutype', 'acc_num', 'new_date', \n",
    "       'clinvarID', 'clinvar_clnsig', 'Chr', 'Start', 'End', 'Strand', \n",
    "       'GeneSymbol', 'HGNC_ID', 'ENSG', 'ENST', 'GeneType', 'Tag', \n",
    "       'REF', 'ALT', 'POS_hg19', 'variant_id']]"
   ]
  },
  {
   "cell_type": "code",
   "execution_count": 278,
   "metadata": {},
   "outputs": [],
   "source": [
    "df2.to_csv('./patho2.tsv', sep='\\t', index=False)"
   ]
  },
  {
   "cell_type": "code",
   "execution_count": null,
   "metadata": {},
   "outputs": [],
   "source": []
  }
 ],
 "metadata": {
  "kernelspec": {
   "display_name": "env",
   "language": "python",
   "name": "python3"
  },
  "language_info": {
   "codemirror_mode": {
    "name": "ipython",
    "version": 3
   },
   "file_extension": ".py",
   "mimetype": "text/x-python",
   "name": "python",
   "nbconvert_exporter": "python",
   "pygments_lexer": "ipython3",
   "version": "3.9.16"
  },
  "orig_nbformat": 4
 },
 "nbformat": 4,
 "nbformat_minor": 2
}
