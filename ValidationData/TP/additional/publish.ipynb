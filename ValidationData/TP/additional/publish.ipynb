{
 "cells": [
  {
   "cell_type": "code",
   "execution_count": 53,
   "metadata": {},
   "outputs": [
    {
     "name": "stdout",
     "output_type": "stream",
     "text": [
      "INFO: Pandarallel will run on 16 workers.\n",
      "INFO: Pandarallel will use standard multiprocessing data transfer (pipe) to transfer data between the main process and workers.\n"
     ]
    }
   ],
   "source": [
    "# conda create -n sss python=3.8 -y && conda activate sss\n",
    "# pip install gffutils jupyter tqdm cyvcf2 pathlib2 pandarallel pysam liftover \n",
    "# conda install -y -c bioconda pybedtools\n",
    "\n",
    "import os\n",
    "import numpy as np\n",
    "import pandas as pd\n",
    "# from Bio.Seq import Seq\n",
    "# from liftover import get_lifter\n",
    "from pathlib2 import Path\n",
    "from pandarallel import pandarallel\n",
    "from tqdm import tqdm\n",
    "import gffutils\n",
    "import pysam\n",
    "from cyvcf2 import VCF\n",
    "\n",
    "### Logging setup\n",
    "from logging import getLogger, config\n",
    "import yaml\n",
    "parent_directory = os.path.dirname(os.path.dirname('__file__'))\n",
    "\n",
    "config_path: str = os.path.join(parent_directory, '../../../config/logging.yaml')\n",
    "with open(config_path, 'r') as f:\n",
    "    config.dictConfig(yaml.safe_load(f))\n",
    "logger = getLogger(__name__)\n",
    "\n",
    "########   Initialize and setup pandas methods   ########\n",
    "os.environ['JOBLIB_TEMP_FOLDER'] = '/tmp' \n",
    "# pandarallel.initialize(nb_workers=os.cpu_count()-8, progress_bar=False, verbose=2, use_memory_fs=False) \n",
    "pandarallel.initialize(nb_workers=16, progress_bar=False, verbose=2, use_memory_fs=False) \n",
    "\n",
    "tqdm.pandas()\n",
    "\n",
    "\n",
    "import sys\n",
    "try: \n",
    "    __file__\n",
    "    sys.path.append(os.path.join(os.path.dirname('__file__')))\n",
    "except NameError:\n",
    "    Path().resolve()\n",
    "    sys.path.append(os.path.join(Path().resolve(), '../../../'))\n",
    "\n",
    "from libs import utils, preprocess, variantfilter, posparser, splaiparser\n",
    "# from libs import predeffect, scoring\n",
    "from libs import anno_spliceai, anno_clinvar\n",
    "from libs.deco import print_filtering_count\n",
    "# from libs import predeffect\n",
    "from libs.scoring import Scoring\n",
    "from libs import predeffect\n",
    "\n",
    "\n",
    "gencode_gff = '../../../Resources/05_GENCODE_v43lift37/gencode.v43lift37.annotation.sort.gff3.gz'\n",
    "\n",
    "try:\n",
    "    db_anno_gencode = '../../../Resources/06_gffutilsdb/gencode.v43lift37.annotation.gtf.db'\n",
    "    db_anno_intron = '../../../Resources/06_gffutilsdb/gencode.v43lift37.annotation.intron.gtf.db'\n",
    "    db = gffutils.FeatureDB(db_anno_gencode)\n",
    "    db_intron = gffutils.FeatureDB(db_anno_intron)\n",
    "except ValueError:\n",
    "    db_anno_gencode = '/resources/DBs/gencode.v43lift37.annotation.gtf.db'\n",
    "    db_anno_intron = '/resources/DBs/gencode.v43lift37.annotation.intron.gtf.db'\n",
    "    db = gffutils.FeatureDB(db_anno_gencode)\n",
    "    db_intron = gffutils.FeatureDB(db_anno_intron)\n",
    "\n",
    "## Thresholds configuration\n",
    "thresholds_SpliceAI_parser: dict = {\n",
    "    'TH_min_sALDL': 0.02, 'TH_max_sALDL': 0.2, \n",
    "    'TH_min_sAGDG': 0.01, 'TH_max_sAGDG': 0.05,\n",
    "    'TH_min_GExon': 25, 'TH_max_GExon': 500,\n",
    "    'TH_sAG': 0.2, 'TH_sDG': 0.2\n",
    "    }\n",
    "\n",
    "from sklearn.metrics import roc_curve\n",
    "from sklearn.metrics import roc_auc_score\n",
    "from sklearn.metrics import confusion_matrix\n",
    "from sklearn.metrics import accuracy_score\n",
    "from sklearn.metrics import precision_score\n",
    "from sklearn.metrics import recall_score\n",
    "from sklearn.metrics import f1_score\n",
    "import matplotlib.pyplot as plt\n",
    "import seaborn as sns\n",
    "import scipy\n",
    "\n",
    "import plotly.express as px\n",
    "import plotly.graph_objects as go\n",
    "import plotly.io as pio\n",
    "from plotly.subplots import make_subplots\n",
    "\n",
    "try: \n",
    "    __file__\n",
    "    sys.path.append(os.path.join(os.path.dirname('__file__')))\n",
    "except NameError:\n",
    "    Path().resolve()\n",
    "    sys.path.append(os.path.join(Path().resolve(), '../../'))\n",
    "\n",
    "from libs.scoring import Scoring\n",
    "\n",
    "import warnings\n",
    "warnings.simplefilter('ignore')"
   ]
  },
  {
   "cell_type": "code",
   "execution_count": 54,
   "metadata": {},
   "outputs": [],
   "source": [
    "# 関数の設定\n",
    "def specificity_sensitivity_plotly(data):\n",
    "    thresholds = np.arange(0, 11, 1)\n",
    "    results = []\n",
    "\n",
    "    for threshold in thresholds:\n",
    "        tp = data[(data['PriorityScore'] >= threshold) & (data['LABEL'] == 1)].shape[0]\n",
    "        fn = data[(data['PriorityScore'] < threshold) & (data['LABEL'] == 1)].shape[0]\n",
    "        tn = data[(data['PriorityScore'] < threshold) & (data['LABEL'] == 0)].shape[0]\n",
    "        fp = data[(data['PriorityScore'] >= threshold) & (data['LABEL'] == 0)].shape[0]\n",
    "        specificity = tn / (tn + fp) if (tn + fp) else 0\n",
    "        sensitivity = tp / (tp + fn) if (tp + fn) else 0\n",
    "        # print(f\"Threshold: {threshold}, TP: {tp}, FN: {fn}, TN: {tn}, FP: {fp}\")\n",
    "        # print(f\"Threshold: {threshold}, Specificity: {specificity:.6f}, Sensitivity: {sensitivity:.6f}\")\n",
    "        results.append({'Threshold': threshold, 'Metric': 'Specificity', 'Value': specificity})\n",
    "        results.append({'Threshold': threshold, 'Metric': 'Sensitivity', 'Value': sensitivity})\n",
    "\n",
    "    results_df = pd.DataFrame(results)\n",
    "    return results_df\n",
    "\n",
    "def plot_sensitivity_specificity_plotly(\n",
    "        results_df: pd.DataFrame, w: int, h: int):\n",
    "    # Separate the dataframes for specificity and sensitivity\n",
    "    specificity_df = results_df[results_df['Metric'] == 'Specificity']\n",
    "    sensitivity_df = results_df[results_df['Metric'] == 'Sensitivity']\n",
    "\n",
    "    # Plotly Graph Objectsを使用してプロット\n",
    "    fig = go.Figure()\n",
    "\n",
    "    # 特異性\n",
    "    fig.add_trace(go.Scatter(\n",
    "        x=specificity_df['Threshold'],\n",
    "        y=specificity_df['Value'],\n",
    "        marker=dict(color='#665990'),\n",
    "        mode='lines+markers',\n",
    "        name='Specificity',\n",
    "        text=[f'Threshold: {th}, Specificity: {val:.3f}' for th, val in zip(specificity_df['Threshold'], specificity_df['Value'])],\n",
    "        hoverinfo='text'\n",
    "    ))\n",
    "    \n",
    "    # 感度\n",
    "    fig.add_trace(go.Scatter(\n",
    "        x=sensitivity_df['Threshold'],\n",
    "        y=sensitivity_df['Value'],\n",
    "        marker=dict(color='#F8ACAC'),\n",
    "        mode='lines+markers',\n",
    "        name='Sensitivity',\n",
    "        text=[f'Threshold: {th}, Sensitivity: {val:.3f}' for th, val in zip(sensitivity_df['Threshold'], sensitivity_df['Value'])],\n",
    "        hoverinfo='text'\n",
    "    ))\n",
    "\n",
    "    # Y軸のフォーマット設定\n",
    "    fig.update_yaxes(tickformat=\".1f\")\n",
    "\n",
    "    # グラフのレイアウト設定\n",
    "    fig.update_layout(title='Sensitivity and Specificity for each threshold',\n",
    "                      xaxis_title='Threshold',\n",
    "                      yaxis_title='Sensitivity/Specificity',\n",
    "                      plot_bgcolor='rgba(243, 243, 243, 1)',\n",
    "                      paper_bgcolor='rgba(243, 243, 243, 0)',\n",
    "                      font=dict(family=\"Arial, sans-serif\", size=12, color=\"black\"),\n",
    "                      legend=dict(y=0.075, x=0.75, xanchor='right', yanchor='bottom', \n",
    "                              bgcolor='rgba(243, 243, 243, 1)',\n",
    "                              font=dict(family=\"Arial, sans-serif\", size=12, color=\"black\"))\n",
    "                              )\n",
    "\n",
    "    # グラフサイズの調整\n",
    "    fig.update_layout(width=w, height=h)\n",
    "    fig.write_html(\"sensitivity_specificity_plot.html\")\n",
    "\n",
    "    # fig.show()\n",
    "    return fig\n",
    "\n",
    "def plot_sensitivity_specificity_plotly_without_legened(results_df):\n",
    "    # Separate the dataframes for specificity and sensitivity\n",
    "    specificity_df = results_df[results_df['Metric'] == 'Specificity']\n",
    "    sensitivity_df = results_df[results_df['Metric'] == 'Sensitivity']\n",
    "\n",
    "    # Plotly Graph Objectsを使用してプロット\n",
    "    fig = go.Figure()\n",
    "\n",
    "    # 特異性\n",
    "    fig.add_trace(go.Scatter(\n",
    "        x=specificity_df['Threshold'],\n",
    "        y=specificity_df['Value'],\n",
    "        marker=dict(color='green'),\n",
    "        mode='lines+markers',\n",
    "        name='Specificity',\n",
    "        text=[f'Threshold: {th}, Specificity: {val:.8f}' for th, val in zip(specificity_df['Threshold'], specificity_df['Value'])],\n",
    "        hoverinfo='text',\n",
    "        showlegend=False \n",
    "    ))\n",
    "    \n",
    "    # 感度\n",
    "    fig.add_trace(go.Scatter(\n",
    "        x=sensitivity_df['Threshold'],\n",
    "        y=sensitivity_df['Value'],\n",
    "        marker=dict(color='orange'),\n",
    "        mode='lines+markers',\n",
    "        name='Sensitivity',\n",
    "        text=[f'Threshold: {th}, Sensitivity: {val:.8f}' for th, val in zip(sensitivity_df['Threshold'], sensitivity_df['Value'])],\n",
    "        hoverinfo='text',\n",
    "        showlegend=False\n",
    "    ))\n",
    "\n",
    "    # Y軸のフォーマット設定\n",
    "    fig.update_yaxes(tickformat=\".1f\")\n",
    "\n",
    "    # グラフのレイアウト設定\n",
    "    fig.update_layout(title='Sensitivity and Specificity for each threshold',\n",
    "                      xaxis_title='Threshold',\n",
    "                      yaxis_title='Sensitivity/Specificity',\n",
    "                      plot_bgcolor='rgba(243, 243, 243, 1)',\n",
    "                      paper_bgcolor='rgba(243, 243, 243, 0)',\n",
    "                      font=dict(family=\"Arial, sans-serif\", size=12, color=\"black\"),\n",
    "                      legend=dict(y=0.075, x=0.75, xanchor='right', yanchor='bottom', \n",
    "                              bgcolor='rgba(243, 243, 243, 1)',\n",
    "                              font=dict(family=\"Arial, sans-serif\", size=12, color=\"black\"))\n",
    "                              )\n",
    "\n",
    "    # グラフサイズの調整\n",
    "    fig.update_layout(width=600, height=600)\n",
    "    fig.write_html(\"sensitivity_specificity_plot.html\")\n",
    "\n",
    "    # fig.show()\n",
    "    return fig\n",
    "\n",
    "\n",
    "# Code below is adapted from Netflix's VMAF and BesenbacherLab's ROC-utils\n",
    "# https://github.com/Netflix/vmaf/\n",
    "# https://github.com/BesenbacherLab/ROC-utils\n",
    "# Modifications: np.float -> np.float64\n",
    "\n",
    "def compute_midrank(x):\n",
    "    \"\"\"Computes midranks.\n",
    "    Args:\n",
    "       x - a 1D numpy array\n",
    "    Returns:\n",
    "       array of midranks\n",
    "    \"\"\"\n",
    "    J = np.argsort(x)\n",
    "    Z = x[J]\n",
    "    N = len(x)\n",
    "    T = np.zeros(N, dtype=np.float64)\n",
    "    i = 0\n",
    "    while i < N:\n",
    "        j = i\n",
    "        while j < N and Z[j] == Z[i]:\n",
    "            j += 1\n",
    "        T[i:j] = 0.5*(i + j - 1)\n",
    "        i = j\n",
    "    T2 = np.empty(N, dtype=np.float64)\n",
    "    # Note(kazeevn) +1 is due to Python using 0-based indexing\n",
    "    # instead of 1-based in the AUC formula in the paper\n",
    "    T2[J] = T + 1\n",
    "    return T2\n",
    "\n",
    "\n",
    "def fastDeLong(predictions_sorted_transposed, label_1_count):\n",
    "    \"\"\"\n",
    "    The fast version of DeLong's method for computing the covariance of\n",
    "    unadjusted AUC.\n",
    "    Args:\n",
    "       predictions_sorted_transposed: a 2D numpy.array[n_classifiers, n_examples]\n",
    "          sorted such as the examples with label \"1\" are first\n",
    "    Returns:\n",
    "       (AUC value, DeLong covariance)\n",
    "    Reference:\n",
    "     @article{sun2014fast,\n",
    "       title={Fast Implementation of DeLong's Algorithm for\n",
    "              Comparing the Areas Under Correlated Receiver Operating Characteristic Curves},\n",
    "       author={Xu Sun and Weichao Xu},\n",
    "       journal={IEEE Signal Processing Letters},\n",
    "       volume={21},\n",
    "       number={11},\n",
    "       pages={1389--1393},\n",
    "       year={2014},\n",
    "       publisher={IEEE}\n",
    "     }\n",
    "    \"\"\"\n",
    "    # Short variables are named as they are in the paper\n",
    "    m = label_1_count\n",
    "    n = predictions_sorted_transposed.shape[1] - m\n",
    "    positive_examples = predictions_sorted_transposed[:, :m]\n",
    "    negative_examples = predictions_sorted_transposed[:, m:]\n",
    "    k = predictions_sorted_transposed.shape[0]\n",
    "\n",
    "    tx = np.empty([k, m], dtype=np.float64)\n",
    "    ty = np.empty([k, n], dtype=np.float64)\n",
    "    tz = np.empty([k, m + n], dtype=np.float64)\n",
    "    for r in range(k):\n",
    "        tx[r, :] = compute_midrank(positive_examples[r, :])\n",
    "        ty[r, :] = compute_midrank(negative_examples[r, :])\n",
    "        tz[r, :] = compute_midrank(predictions_sorted_transposed[r, :])\n",
    "    aucs = tz[:, :m].sum(axis=1) / m / n - float(m + 1.0) / 2.0 / n\n",
    "    v01 = (tz[:, :m] - tx[:, :]) / n\n",
    "    v10 = 1.0 - (tz[:, m:] - ty[:, :]) / m\n",
    "    sx = np.cov(v01)\n",
    "    sy = np.cov(v10)\n",
    "    delongcov = sx / m + sy / n\n",
    "    return aucs, delongcov\n",
    "\n",
    "\n",
    "def calc_pvalue(aucs, sigma):\n",
    "    \"\"\"Computes log(10) of p-values.\n",
    "    Args:\n",
    "       aucs: 1D array of AUCs\n",
    "       sigma: AUC DeLong covariances\n",
    "    Returns:\n",
    "       log10(pvalue)\n",
    "    \"\"\"\n",
    "    l = np.array([[1, -1]])\n",
    "    z = np.abs(np.diff(aucs)) / np.sqrt(np.dot(np.dot(l, sigma), l.T))\n",
    "    return np.log10(2) + scipy.stats.norm.logsf(z, loc=0, scale=1) / np.log(10)\n",
    "\n",
    "\n",
    "def compute_ground_truth_statistics(ground_truth):\n",
    "    assert np.array_equal(np.unique(ground_truth), [0, 1])\n",
    "    order = (-ground_truth).argsort()\n",
    "    label_1_count = int(ground_truth.sum())\n",
    "    return order, label_1_count\n",
    "\n",
    "\n",
    "def delong_roc_variance(ground_truth, predictions):\n",
    "    \"\"\"\n",
    "    Computes ROC AUC variance for a single set of predictions\n",
    "    Args:\n",
    "       ground_truth: np.array of 0 and 1\n",
    "       predictions: np.array of floats of the probability of being class 1\n",
    "    \"\"\"\n",
    "    order, label_1_count = compute_ground_truth_statistics(ground_truth)\n",
    "    predictions_sorted_transposed = predictions[np.newaxis, order]\n",
    "    aucs, delongcov = fastDeLong(predictions_sorted_transposed, label_1_count)\n",
    "    assert len(aucs) == 1, \"There is a bug in the code, please forward this to the developers\"\n",
    "    return aucs[0], delongcov\n",
    "\n",
    "\n",
    "def delong_roc_test(ground_truth, predictions_one, predictions_two):\n",
    "    \"\"\"\n",
    "    Computes log(p-value) for hypothesis that two ROC AUCs are different\n",
    "    Args:\n",
    "       ground_truth: np.array of 0 and 1\n",
    "       predictions_one: predictions of the first model,\n",
    "          np.array of floats of the probability of being class 1\n",
    "       predictions_two: predictions of the second model,\n",
    "          np.array of floats of the probability of being class 1\n",
    "    \"\"\"\n",
    "    order, label_1_count = compute_ground_truth_statistics(ground_truth)\n",
    "    predictions_sorted_transposed = np.vstack((predictions_one, predictions_two))[:, order]\n",
    "    aucs, delongcov = fastDeLong(predictions_sorted_transposed, label_1_count)\n",
    "    return calc_pvalue(aucs, delongcov)\n",
    "\n",
    "# Calculate AUC confidence interval (95%)\n",
    "def compute_auc_confidence_interval(auc, var, confidence_level=0.95):\n",
    "    alpha = 1 - confidence_level\n",
    "    z_score = scipy.stats.norm.ppf(1 - alpha/2)  # 2-tailed z score\n",
    "    se = np.sqrt(var)  # Calculate SE from variance\n",
    "    lower_bound = auc - z_score * se\n",
    "    upper_bound = auc + z_score * se\n",
    "    return lower_bound, upper_bound\n",
    "\n"
   ]
  },
  {
   "cell_type": "markdown",
   "metadata": {},
   "source": [
    "#### 前処理．SQLから抽出したallmut.csvを編集する．(ここは処理済み)"
   ]
  },
  {
   "cell_type": "code",
   "execution_count": null,
   "metadata": {},
   "outputs": [],
   "source": [
    "all_mut_default_colnames: list = [\n",
    "    \"disase\", \"gene\", \"chrom\", \"genename\", \"gdbid\", \"omimid\", \"amino\", \n",
    "    \"deletion\", \"insertion\", \"codon\", \"codonAff\", \"descr\", \"refseq\", \"hgvs\", \n",
    "    \"hgvsAll\", \"dbsnp\", \"chromosome\", \"startCoord\", \"endCoord\", \n",
    "    \"expected_inheritance\", \"gnomad_AC\", \"gnomad_AF\", \"gnomad_AN\", \"tag\", \n",
    "    \"dmsupport\", \"rankscore\", \"mutype\", \"author\", \"title\", \"fullname\", \n",
    "    \"allname\", \"vol\", \"page\", \"year\", \"pmid\", \"pmidAll\", \"reftag\", \"comments\", \n",
    "    \"acc_num\", \"new_date\", \"base\", \"clinvarID\", \"clinvar_clnsig\"\n",
    "]\n",
    "\n",
    "allmut: pd.DataFrame = pd.read_csv(\n",
    "    'allmut.csv', sep=';', encoding='cp1252', names=all_mut_default_colnames, \n",
    "    skiprows=1,low_memory=False)\n",
    "\n",
    "allmut = allmut[\n",
    "    [\"gene\", \"genename\", \"mutype\", \"clinvar_clnsig\", \"tag\",\n",
    "     \"refseq\", \"hgvs\", \"hgvsAll\", \"chromosome\", \"startCoord\", \"endCoord\", \n",
    "     \"amino\", \"deletion\", \"insertion\", \"expected_inheritance\", \"gnomad_AF\"]]\n",
    "\n",
    "# Drop non-numeric values in 'startCoord'\n",
    "allmut = allmut.dropna(subset=['startCoord'])\n",
    "\n",
    "# Drop duplicates in 'chrom', 'startCoord', and 'endCoord'\n",
    "allmut = allmut.drop_duplicates(subset=['chromosome', 'startCoord', 'endCoord'])\n",
    "\n",
    "# Extract tag == \"DM\" from allmut\n",
    "allmut_dm = allmut[allmut.tag == \"DM\"].copy()\n",
    "print(f\"A total of {len(allmut_dm)} DM mutations are found in allmut.\")\n",
    "\n",
    "allmut_dm['startCoord'] = allmut_dm['startCoord'].astype(int)\n",
    "allmut_dm = allmut_dm.rename(columns={'chromosome': 'CHROM', 'startCoord': 'POS_hg38'})\n",
    "\n",
    "# Fillna with empty string in \"gnomad_AF\" colmun in allmut_dm\n",
    "# Extratct MAF 0 from allmut_dm\n",
    "allmut_dm['gnomad_AF'].fillna(0, inplace=True)\n",
    "allmut_dm_maf0 = allmut_dm[allmut_dm['gnomad_AF'] == 0].copy()\n",
    "print(f\"A total of {len(allmut_dm_maf0)} DM mutations are found in allmut with MAF 0.\")\n",
    "\n",
    "# Extract non-deletion or non-insertion from allmut_dm\n",
    "allmut_dm_maf0_snv = allmut_dm_maf0[(allmut_dm_maf0['deletion'].isnull()) & (allmut_dm_maf0['insertion'].isnull())]\n",
    "print(f\"A total of {len(allmut_dm_maf0_snv)} DM mutations are found in allmut with MAF 0 and non-deletion or non-insertion.\")\n",
    "\n",
    "# Extract the mutation type from the mutype column\n",
    "splice_mutations = allmut_dm_maf0_snv[allmut_dm_maf0_snv[\"mutype\"].str.contains(\"splice\")].copy()\n",
    "non_splice_mutations = allmut_dm_maf0_snv[~allmut_dm_maf0_snv[\"mutype\"].str.contains(\"splice\")]\n",
    "print(f\"Splicing_DM: {len(splice_mutations)}, Non-splicing_DM: {len(non_splice_mutations)}\")\n",
    "\n",
    "# Convert startCoord to hg19\n",
    "from liftover import get_lifter\n",
    "\n",
    "def _liftover_to_hg19(chrom, pos):\n",
    "    converter = get_lifter('hg38', 'hg19')\n",
    "    result = converter.query(chrom, pos)\n",
    "    if result:\n",
    "        return result[0]\n",
    "    else:\n",
    "        return None\n",
    "    \n",
    "def anno_hg19_pos(row):\n",
    "    converted = _liftover_to_hg19(row['CHROM'], row['POS_hg38'])\n",
    "    if converted:\n",
    "        return converted[0]\n",
    "    else:\n",
    "        return None\n",
    "\n",
    "allmut_dm_maf0_snv['POS_hg19'] = allmut_dm_maf0_snv.parallel_apply(anno_hg19_pos, axis=1)\n",
    "# allmut_dm_maf0_snv.to_pickle('allmut_dm_maf0_snv_liftover.pkl', mode='x')"
   ]
  },
  {
   "cell_type": "markdown",
   "metadata": {},
   "source": [
    "#### 計算済み - 重みづけのパターンの探索"
   ]
  },
  {
   "cell_type": "code",
   "execution_count": null,
   "metadata": {},
   "outputs": [],
   "source": [
    "from ortools.sat.python import cp_model\n",
    "\n",
    "class SolutionCollector(cp_model.CpSolverSolutionCallback):\n",
    "    def __init__(self, variables):\n",
    "        cp_model.CpSolverSolutionCallback.__init__(self)\n",
    "        self.__variables = variables\n",
    "        self.__solutions = []\n",
    "\n",
    "    def OnSolutionCallback(self):\n",
    "        solution = {v.Name(): self.Value(v) for v in self.__variables}\n",
    "        self.__solutions.append(solution)\n",
    "\n",
    "    def GetAllSolutions(self):\n",
    "        return self.__solutions\n",
    "\n",
    "def find_all_solutions(lowerlimit: int):\n",
    "    # Initialize the model\n",
    "    model = cp_model.CpModel()\n",
    "\n",
    "    # Define the variables (s1, s2, ..., s15)\n",
    "    s = {i: model.NewIntVar(lowerlimit, 9, f's{i}') for i in range(1, 16)}\n",
    "\n",
    "    \"\"\"\n",
    "    Rule 1\tScore 1 > Score 2 > Score 3 = 0 > Score 15\n",
    "    Rule 2\tScore 9 ≥ Score 7 > Score 6 ≥ 0 ≥ Score 5 > Score 4\n",
    "    Rule 3\tScore 10 > Score 8 > Score 9 > Score 11 ≥ 0\n",
    "    Rule 4\tScore 14 > 0 ≥ Score 13 ≥ Score 4 ≥ Score12\n",
    "    Rule 5\tScore 1 + Score 10 + Score 14 = 9\n",
    "    Rule 6\tScore 3 + Score 11 + Score 12 = 0\n",
    "            Score 15 + Score 4 \n",
    "    \"\"\"\n",
    "    # Add constraints\n",
    "    # Rule 1: \n",
    "    # Most higheset score \n",
    "    # model.Add(s[1] + s[10] + s[14] == 9)\n",
    "    # model.Add(s[15] + s[10] + s[14] == 0)\n",
    "\n",
    "    # Baseline constraints\n",
    "    # model.Add(s[15] + s[4] <= 0)\n",
    "    # model.Add(s[3] + s[11] + s[12] == 0)    #\n",
    "    # model.Add(s[15] + s[11] + s[12] == 0)    #\n",
    "    # model.Add(s[1] + s[7] < 9)\n",
    "    # model.Add(s[1] == 3)\n",
    "\n",
    "    \n",
    "    \"\"\"\n",
    "    Maximum: s[1] + s[10] + s[14]\n",
    "    Minimum: s[15] + s[4]\n",
    "    Max - min > 9\n",
    "    \"\"\"\n",
    "    # model.Add(s[1] + s[10] + s[14] - s[15] - s[4] > 9)\n",
    "\n",
    "    # Knowledge-based\n",
    "    # s[15] < 0 = s[3] < s[2] < s[1]\n",
    "    model.Add(s[15] < 0)\n",
    "    model.Add(0 == s[3])\n",
    "    model.Add(s[3] < s[2])\n",
    "    model.Add(s[2] < s[1])  \n",
    "\n",
    "    # s[4] < s[5] < 0 <= s[6] < s[7] <= s[9] < s[8] < s[10]\n",
    "    model.Add(s[4] < s[5])\n",
    "    model.Add(s[5] < 0)\n",
    "    model.Add(0 <= s[6])\n",
    "    model.Add(s[6] < s[7])  \n",
    "    model.Add(s[7] <= s[9])  \n",
    "    model.Add(s[9] < s[8])\n",
    "    model.Add(s[8] < s[10])  \n",
    "    \n",
    "    # 0 < s[11] && s[6] <= s[11] <= s[9]\n",
    "    model.Add(0 < s[11])\n",
    "    model.Add(s[6] <= s[11])\n",
    "    model.Add(s[11] <= s[9]) \n",
    "\n",
    "    \"\"\"\n",
    "    ClinVarでは, Benignだけど, CaonicalでSpliceAIも高く病原性が疑われそうな\n",
    "    バリアントをPriortiyScore 0 とした.\n",
    "    s[15] + s[10] + s[14] = 0\n",
    "    \"\"\"\n",
    "    # model.Add(s[15] + s[10] + s[14] == 0)\n",
    "\n",
    "    \"\"\"\n",
    "    canonical splice siteのバリアントは, ClinGenのガイドラインを参考にすると, \n",
    "    insilico予測ツールの結果をあまり重視していないようだ. \n",
    "    そのため, s[14] < s[11] という制約を追加した．\n",
    "    s[12] < 0 && 0 < s[14] && s[12] < s[13] < s[14] < s[11]\n",
    "    \"\"\"\n",
    "    model.Add(s[12] < 0)\n",
    "    model.Add(s[12] < s[13])\n",
    "    model.Add(s[13] < s[14])\n",
    "    model.Add(0 < s[14])\n",
    "    model.Add(s[14] < s[11])\n",
    "\n",
    "    # model.Add(s[1] + s[10] + s[14] - s[15] - s[4] > 9)\n",
    "\n",
    "    # Create a solver and solve the model\n",
    "    solver = cp_model.CpSolver()\n",
    "    solution_collector = SolutionCollector([s[i] for i in range(1, 16)])\n",
    "    solver.SearchForAllSolutions(model, solution_collector)\n",
    "    \n",
    "    # Return all solutions\n",
    "    return solution_collector.GetAllSolutions()\n",
    "\n",
    "# Find all solutions\n",
    "\n",
    "for lowerlimit in range(-5, -4):\n",
    "    all_solutions = find_all_solutions(lowerlimit=lowerlimit)\n",
    "    print(f'Total solutions found (lowerlimit {lowerlimit}): {len(all_solutions)}')\n"
   ]
  },
  {
   "cell_type": "code",
   "execution_count": 16,
   "metadata": {},
   "outputs": [],
   "source": [
    "all_solutions_pkl = 'all_solutions_-5-9_withoutbaseline.pkl'"
   ]
  },
  {
   "cell_type": "code",
   "execution_count": 17,
   "metadata": {},
   "outputs": [],
   "source": [
    "# To pickle the results of ortools\n",
    "import pickle\n",
    "with open(all_solutions_pkl, 'wb') as f:\n",
    "    pickle.dump(all_solutions, f)"
   ]
  },
  {
   "cell_type": "markdown",
   "metadata": {},
   "source": [
    "#### Liftoverなどの処理後（ここから解析すればOK）"
   ]
  },
  {
   "cell_type": "code",
   "execution_count": null,
   "metadata": {},
   "outputs": [
    {
     "name": "stdout",
     "output_type": "stream",
     "text": [
      "179423\n",
      "126859\n",
      "Splicing: 18432, Non-splicing: 102095, total: 120527\n"
     ]
    }
   ],
   "source": [
    "# Loading allmut variants from pickle\n",
    "allmut_dm_maf0_snv_hg19 = pd.read_pickle('allmut_dm_maf0_snv_liftover.pkl')\n",
    "\n",
    "# Rename POS_hg19 to POS\n",
    "allmut_dm_maf0_snv_hg19.rename(columns={'POS_hg19': 'POS'}, inplace=True)\n",
    "\n",
    "# Drop unknown positions in 'POS' column and assign integer type\n",
    "allmut_dm_maf0_snv_hg19.dropna(subset=['POS'], inplace=True)\n",
    "allmut_dm_maf0_snv_hg19 = allmut_dm_maf0_snv_hg19.astype({'POS': int})\n",
    "\n",
    "# Change object name to allmut\n",
    "allmut = allmut_dm_maf0_snv_hg19\n",
    "\n",
    "# Generate ID column\n",
    "allmut['ID'] = allmut['CHROM'].astype(str) + '-' + allmut['POS'].astype(str) + '-' + allmut['hgvs']\n",
    "\n",
    "# Extract useful columns\n",
    "allmut = allmut[['ID', 'mutype', 'clinvar_clnsig', 'tag', 'deletion', 'insertion', 'expected_inheritance', 'gnomad_AF']]\n",
    "\n",
    "# Load VCF file annoteted by analysis pipeline\n",
    "\n",
    "# df = pd.read_pickle('splai_vep_vcfs/hgmd_dm/allchr.DM.splai.vep.nondel.enst.prescore.hgnconly.v2.pkl')\n",
    "df = pd.read_pickle(\"variant_data_set_vcfs/hgmd_all.prescore.onlyhgnc.pkl\")\n",
    "\n",
    "df['HGVSc'] = df['HGVSc'].str.replace('c.', '')\n",
    "df['ID'] = df['CHROM'].astype(str) + '-' + df['POS'].astype(str) + '-' + df['HGVSc']\n",
    "\n",
    "# merge df and allmut on 'ID' column with inner join\n",
    "print(len(df))\n",
    "df = pd.merge(df, allmut, on='ID', how='inner')\n",
    "print(len(df))\n",
    "\n",
    "exclude_csq = {\n",
    "    '3_prime_UTR_variant', '5_prime_UTR_variant', 'mature_miRNA_variant',\n",
    "    'mature_miRNA_variant', 'downstream_gene_variant', 'upstream_gene_variant',\n",
    "    'non_coding_transcript_exon_variant'\n",
    "}\n",
    "\n",
    "exclude_non_spl_dm: set = {'splice_region_variant'}\n",
    "\n",
    "def is_orf_variants(row):\n",
    "    csqs: list = row['Consequence'].split('&')\n",
    "    if set(csqs).isdisjoint(exclude_csq):\n",
    "        return True\n",
    "    else:\n",
    "        return False\n",
    "    \n",
    "def is_non_spl_tn(row):\n",
    "    csqs: list = row['Consequence'].split('&')\n",
    "    if set(csqs).isdisjoint(exclude_non_spl_dm):\n",
    "        return True\n",
    "    else:\n",
    "        return False\n",
    "\n",
    "def is_gnomad_tn(row):\n",
    "    if row['gnomad_AF'] == 0:\n",
    "        return True\n",
    "    else:\n",
    "        return False\n",
    "\n",
    "\n",
    "df = df[df.apply(is_orf_variants, axis=1)]\n",
    "\n",
    "# df_spl contains splicing mutations (splice, canonical-splice, exonic-splice)\n",
    "df_spl = df[df['mutype'].str.contains('splice')].copy()\n",
    "\n",
    "# df_non_spl contains non-splicing mutations\n",
    "df_non_spl = df[df['mutype'].str.contains('missense|nonsense|synonymous')].copy()\n",
    "# df_non_spl = df[df['mutype'].str.contains('missense|synonymous')].copy()\n",
    "# df_non_spl = df[df['mutype'].str.contains('missense|nonsense')].copy()\n",
    "# df_non_spl = df[df['mutype'].str.contains('missense')].copy()\n",
    "# df_non_spl = df[df['mutype'].str.contains('synonymous')].copy()\n",
    "# df_non_spl = df[df['mutype'].str.contains('nonsense')].copy()\n",
    "\n",
    "df_non_spl = df_non_spl[df_non_spl.apply(is_non_spl_tn, axis=1)]\n",
    "\n",
    "print(f\"Splicing: {len(df_spl)}, Non-splicing: {len(df_non_spl)}, total: {len(df_spl) + len(df_non_spl)}\")"
   ]
  },
  {
   "cell_type": "code",
   "execution_count": 31,
   "metadata": {},
   "outputs": [
    {
     "name": "stdout",
     "output_type": "stream",
     "text": [
      "TP: 18432, TN: 78048\n"
     ]
    }
   ],
   "source": [
    "### Annotating the label and variant_id (CHROM-POS-REF-ALT)\n",
    "### When mutype is splice, the label is 1, otherwise 0\n",
    "df_gnomad = pd.read_pickle('variant_data_set_vcfs/gnomad_all.prescore.onlyhgnc.pkl')\n",
    "df_gnomad = df_gnomad[df_gnomad.apply(is_orf_variants, axis=1)]\n",
    "\n",
    "df_spl['LABEL'] = 1\n",
    "df_non_spl['LABEL'] = 0\n",
    "df_gnomad['LABEL'] = 0\n",
    "\n",
    "df_spl['variant_id'] = df_spl['CHROM'].astype(str) + '-' + df_spl['POS'].astype(str) + '-' + df_spl['REF'] + '-' + df_spl['ALT']\n",
    "df_non_spl['variant_id'] = df_non_spl['CHROM'].astype(str) + '-' + df_non_spl['POS'].astype(str) + '-' + df_non_spl['REF'] + '-' + df_non_spl['ALT']\n",
    "df_gnomad['variant_id'] = df_gnomad['CHROM'].astype(str) + '-' + df_gnomad['POS'].astype(str) + '-' + df_gnomad['REF'] + '-' + df_gnomad['ALT']\n",
    "\n",
    "### Create a dataframe tp (True Positive)\n",
    "tp = df_spl.copy()\n",
    "\n",
    "# Concatenate df_gnomad and df_non_spl\n",
    "n = int(len(tp) / 2)\n",
    "# df_non_spl = df_non_spl.sample(n=int(n/10), random_state=42)\n",
    "# df_gnomad = df_gnomad.sample(n=n, random_state=42)\n",
    "tn = pd.concat([df_gnomad, df_non_spl], ignore_index=True)\n",
    "tn = tn.drop_duplicates(subset=['variant_id'], keep='first')\n",
    "\n",
    "# tn = df_non_spl.copy()\n",
    "tn = df_gnomad.copy()\n",
    "\n",
    "### Exclude non-ORF variants\n",
    "tn['is_ORF'] = tn.apply(is_orf_variants, axis=1)\n",
    "tn = tn[tn['is_ORF']]\n",
    "\n",
    "## Summary of the dataset\n",
    "print(f\"TP: {len(tp)}, TN: {len(tn)}\")"
   ]
  },
  {
   "cell_type": "markdown",
   "metadata": {},
   "source": [
    "### trainとtestのデータセットの分割"
   ]
  },
  {
   "cell_type": "code",
   "execution_count": 32,
   "metadata": {},
   "outputs": [
    {
     "name": "stdout",
     "output_type": "stream",
     "text": [
      "TP: 18432, TN: 78048\n",
      "Filtered out [Warning] ENST_with_Ver_not_available, TP: 17258, TN: 72199\n"
     ]
    }
   ],
   "source": [
    "frac = 0.8\n",
    "random_state = 12\n",
    "\n",
    "print(f\"TP: {len(tp)}, TN: {len(tn)}\")\n",
    "tp = tp[tp['ENST_Full'] != \"[Warning] ENST_with_Ver_not_available\"]\n",
    "tn = tn[tn['ENST_Full'] != \"[Warning] ENST_with_Ver_not_available\"]\n",
    "tp = tp[tp['maxsplai'] != \"NA\"]\n",
    "tn = tn[tn['maxsplai'] != \"NA\"]\n",
    "print(f\"Filtered out [Warning] ENST_with_Ver_not_available, TP: {len(tp)}, TN: {len(tn)}\")\n",
    "\n",
    "# Split the data into training and test sets\n",
    "tp_train = tp.sample(frac=frac, random_state=random_state)\n",
    "tp_test = tp.drop(tp_train.index)\n",
    "tn_train = tn.sample(frac=frac, random_state=random_state)\n",
    "tn_test = tn.drop(tn_train.index)\n",
    "\n",
    "# Save the dataframes as pickle files\n",
    "tp_train.to_pickle(f'train_test_pkls/tp_prescore_train_{random_state}.pkl')\n",
    "tp_test.to_pickle(f'train_test_pkls/tp_prescore_test_{random_state}.pkl')\n",
    "tn_train.to_pickle(f'train_test_pkls/tn_prescore_train_{random_state}.pkl')\n",
    "tn_test.to_pickle(f'train_test_pkls/tn_prescore_test_{random_state}.pkl')"
   ]
  },
  {
   "cell_type": "markdown",
   "metadata": {},
   "source": [
    "### 変数によるスコアリング（具体的なスコアはまだ入れない）"
   ]
  },
  {
   "cell_type": "code",
   "execution_count": 14,
   "metadata": {},
   "outputs": [
    {
     "name": "stdout",
     "output_type": "stream",
     "text": [
      "AUC - SpliceAI (95%CI) : 0.983 [0.9818-0.9849]\n"
     ]
    }
   ],
   "source": [
    "## Scoring with \"s*\"\n",
    "scoring = Scoring()\n",
    "\n",
    "# Load the dataframes\n",
    "tp_train = pd.read_pickle(f'train_test_pkls/tp_prescore_train_{random_state}.pkl')\n",
    "tn_train = pd.read_pickle(f'train_test_pkls/tn_prescore_train_{random_state}.pkl')\n",
    "\n",
    "# Scoring\n",
    "tp_train['insilico_screening'] = tp_train.parallel_apply(scoring.insilico_screening, axis=1)\n",
    "tp_train['clinvar_screening'] = tp_train.parallel_apply(scoring.clinvar_screening, axis=1)\n",
    "tp_train['recalibrated_splai'] = tp_train.parallel_apply(scoring.recal_scores_in_canon, axis=1)\n",
    "tn_train['insilico_screening'] = tn_train.parallel_apply(scoring.insilico_screening, axis=1)\n",
    "tn_train['clinvar_screening'] = tn_train.parallel_apply(scoring.clinvar_screening, axis=1)\n",
    "tn_train['recalibrated_splai'] = tn_train.parallel_apply(scoring.recal_scores_in_canon, axis=1)\n",
    "\n",
    "tp_train = tp_train[tp_train['insilico_screening'] != 'Not available']\n",
    "tn_train = tn_train[tn_train['insilico_screening'] != 'Not available']\n",
    "tp_train = tp_train[['variant_id', 'LABEL', 'maxsplai', 'recalibrated_splai', 'insilico_screening', 'clinvar_screening']]\n",
    "tn_train = tn_train[['variant_id', 'LABEL', 'maxsplai', 'recalibrated_splai', 'insilico_screening', 'clinvar_screening']]\n",
    "\n",
    "# Save the dataframes as pickle files\n",
    "tp_train.to_pickle(f'train_test_pkls/tp_prescore_train_{random_state}_scored.pkl')\n",
    "tn_train.to_pickle(f'train_test_pkls/tn_prescore_train_{random_state}_scored.pkl')\n",
    "\n",
    "### 具体的なスコアをマッピングしてPSを算出する関数\n",
    "def map_and_calc_score(row, score_map: dict) -> int:\n",
    "    \"\"\"\n",
    "    Map the score to the solution\n",
    "    s1, s2, s3, and s15 are clinvar_screening\n",
    "    s4, s5, s6, s7, s8, s9, s10 and s11 are insilico_screening\n",
    "    s12, s13 and s14 are recalibrated_splai\n",
    "    PriortiyScore is the sum of the \"clinvar_screening\", \"insilico_screening\", and \"recalibrated_splai\"\n",
    "    \"\"\"\n",
    "    # print(row)\n",
    "    return int(score_map[row['recalibrated_splai']]) + int(score_map[row['insilico_screening']]) + int(score_map[row['clinvar_screening']])\n",
    "\n",
    "data = pd.concat([tp_train, tn_train], ignore_index=True)\n",
    "data.drop_duplicates(subset='variant_id', keep=False, inplace=True)\n",
    "# data = data[data['PriorityScore'] != 'Not available']\n",
    "data['LABEL'] = data['LABEL'].astype(int)\n",
    "# data['PriorityScore'] = data['PriorityScore'].astype(float)\n",
    "data['maxsplai'] = data['maxsplai'].astype(float)\n",
    "ground_truth = np.array(data['LABEL'])\n",
    "predictions_sp = np.array(data['maxsplai'])\n",
    "auc2, var2 = delong_roc_variance(ground_truth, predictions_sp)\n",
    "cilower2, ciupper2 = compute_auc_confidence_interval(auc2, var2)\n",
    "\n",
    "print(f\"AUC - SpliceAI (95%CI) : {auc2:.3f} [{cilower2:.4f}-{ciupper2:.4f}]\")"
   ]
  },
  {
   "cell_type": "markdown",
   "metadata": {},
   "source": [
    "### 重みづけのパターンの呼び出し "
   ]
  },
  {
   "cell_type": "code",
   "execution_count": 11,
   "metadata": {},
   "outputs": [],
   "source": [
    "# Load the results of ortools\n",
    "import pickle\n",
    "all_solutions = pickle.load(open(all_solutions_pkl, 'rb'))"
   ]
  },
  {
   "cell_type": "markdown",
   "metadata": {},
   "source": [
    "### 最適な重み付けの検索 - search_optimal.pyで4つのチャンクに分けて実行"
   ]
  },
  {
   "cell_type": "code",
   "execution_count": null,
   "metadata": {},
   "outputs": [
    {
     "name": "stdout",
     "output_type": "stream",
     "text": [
      "###  Processed 11 solutions. Max AUC: 0.96722315  ###\n",
      "###  Processed 21 solutions. Max AUC: 0.96757415  ###\n",
      "###  Processed 31 solutions. Max AUC: 0.96757415  ###\n",
      "###  Processed 41 solutions. Max AUC: 0.96757415  ###\n",
      "###  Processed 51 solutions. Max AUC: 0.96757415  ###\n"
     ]
    },
    {
     "name": "stderr",
     "output_type": "stream",
     "text": [
      "Exception ignored in: <function _releaseLock at 0x7086c127a940>\n",
      "Traceback (most recent call last):\n",
      "  File \"/home/utsu/miniforge3/envs/nar/lib/python3.8/logging/__init__.py\", line 227, in _releaseLock\n",
      "    def _releaseLock():\n",
      "KeyboardInterrupt: \n"
     ]
    },
    {
     "name": "stdout",
     "output_type": "stream",
     "text": [
      "###  Processed 61 solutions. Max AUC: 0.96757415  ###\n"
     ]
    }
   ],
   "source": [
    "start = 0\n",
    "\n",
    "def search_optimal(all_solutions, start, tp_train, tn_train, auc2=auc2):\n",
    "    results = []\n",
    "    buf: float = auc2\n",
    "    max_auc: float = 0\n",
    "\n",
    "    for i, solution in enumerate(all_solutions):\n",
    "        if i <= start:\n",
    "            continue\n",
    "\n",
    "        solution.update({\"s0\": 0})\n",
    "\n",
    "        tp_train['PriorityScore'] = tp_train.parallel_apply(\n",
    "            map_and_calc_score, args=(solution,), axis=1)\n",
    "        tn_train['PriorityScore'] = tn_train.parallel_apply(\n",
    "            map_and_calc_score, args=(solution,), axis=1)\n",
    "\n",
    "        data = pd.concat([tp_train, tn_train], ignore_index=True)\n",
    "        data.drop_duplicates(subset='variant_id', keep=False, inplace=True)\n",
    "        data = data[data['PriorityScore'] != 'Not available']\n",
    "        data['LABEL'] = data['LABEL'].astype(int)\n",
    "        data['PriorityScore'] = data['PriorityScore'].astype(float)\n",
    "        data['maxsplai'] = data['maxsplai'].astype(float)\n",
    "        ground_truth = np.array(data['LABEL'])\n",
    "\n",
    "        predictions_fw = np.array(data['PriorityScore'])\n",
    "        auc1, var1 = delong_roc_variance(ground_truth, predictions_fw)\n",
    "        cilower1, ciupper1 = compute_auc_confidence_interval(auc1, var1)\n",
    "\n",
    "        results.append({'index': i+1, 'solution': solution, \n",
    "                        'AUC': auc1, 'CI_lower': cilower1, 'CI_upper': ciupper1})\n",
    "\n",
    "        max_auc = max(max_auc, auc1)\n",
    "        \n",
    "        if auc1 > buf:\n",
    "            buf = auc1\n",
    "            print(f\"\\n===== New best AUC: {auc1:.10f} with solution {i+1} =======\")\n",
    "            print(f\"New best solution {i}: {solution} \\n\")\n",
    "            predictions_sp = np.array(data['maxsplai'])\n",
    "            auc2, var2 = delong_roc_variance(ground_truth, predictions_sp)\n",
    "            cilower2, ciupper2 = compute_auc_confidence_interval(auc2, var2)\n",
    "            p_value_log = delong_roc_test(ground_truth, predictions_fw, predictions_sp)\n",
    "            print(f\"AUC - Framework (95%CI): {auc1:.3f} [{cilower1:.4f}-{ciupper1:.4f}]\")\n",
    "            print(f\"AUC - SpliceAI (95%CI) : {auc2:.3f} [{cilower2:.4f}-{ciupper2:.4f}]\")\n",
    "            print(f\"p-value (DeLong Test)  : {10**p_value_log[0][0]:.2e}\\n\")\n",
    "\n",
    "        if i % 10 == 0:\n",
    "            print(f\"###  Processed {i+1} solutions. Max AUC: {max_auc:.8f}  ###\")\n",
    "    \n",
    "    return results\n",
    "\n",
    "\n",
    "# Load train data from pickle\n",
    "tp_train = pd.read_pickle(f'train_test_pkls/tp_prescore_train_{random_state}_scored.pkl')\n",
    "tn_train = pd.read_pickle(f'train_test_pkls/tn_prescore_train_{random_state}_scored.pkl')\n",
    "\n",
    "results = search_optimal(all_solutions, start=0, tp_train=tp_train, tn_train=tn_train)\n",
    "# Save the results with start index\n",
    "results_pkl = f'results/results_{start}_to_end.pkl'\n",
    "with open(results_pkl, 'wb') as f:\n",
    "    pickle.dump(results, f)\n",
    "\n",
    "\n",
    "# for i, solution in enumerate(all_solutions):\n",
    "#     if i < start:\n",
    "#         continue\n",
    "    \n",
    "#     solution.update({\"s0\": 0})\n",
    "    \n",
    "#     tp_train['PriorityScore'] = tp_train.parallel_apply(\n",
    "#         map_and_calc_score, args=(solution,), axis=1)\n",
    "#     tn_train['PriorityScore'] = tn_train.parallel_apply(\n",
    "#         map_and_calc_score, args=(solution,), axis=1)\n",
    "    \n",
    "#     data = pd.concat([tp_train, tn_train], ignore_index=True)\n",
    "#     data.drop_duplicates(subset='variant_id', keep=False, inplace=True)\n",
    "#     data = data[data['PriorityScore'] != 'Not available']\n",
    "#     data['LABEL'] = data['LABEL'].astype(int)\n",
    "#     data['PriorityScore'] = data['PriorityScore'].astype(float)\n",
    "#     data['maxsplai'] = data['maxsplai'].astype(float)\n",
    "#     ground_truth = np.array(data['LABEL'])\n",
    "\n",
    "#     predictions_fw = np.array(data['PriorityScore'])\n",
    "#     auc1, var1 = delong_roc_variance(ground_truth, predictions_fw)\n",
    "#     cilower1, ciupper1 = compute_auc_confidence_interval(auc1, var1)\n",
    "\n",
    "#     results.append({'index': i+1, 'solution': solution, \n",
    "#                     'AUC': auc1, 'CI_lower': cilower1, 'CI_upper': ciupper1})\n",
    "\n",
    "#     if auc1 > buf:\n",
    "#         buf = auc1\n",
    "#         print(f\"\\n===== New best AUC: {auc1:.10f} with solution {i+1} =======\")\n",
    "#         print(f\"New best solution {i}: {solution} \\n\")\n",
    "#         predictions_sp = np.array(data['maxsplai'])\n",
    "#         auc2, var2 = delong_roc_variance(ground_truth, predictions_sp)\n",
    "#         cilower2, ciupper2 = compute_auc_confidence_interval(auc2, var2)\n",
    "#         p_value_log = delong_roc_test(ground_truth, predictions_fw, predictions_sp)\n",
    "#         print(f\"AUC - Framework (95%CI): {auc1:.3f} [{cilower1:.4f}-{ciupper1:.4f}]\")\n",
    "#         print(f\"AUC - SpliceAI (95%CI) : {auc2:.3f} [{cilower2:.4f}-{ciupper2:.4f}]\")\n",
    "#         print(f\"p-value (DeLong Test)  : {10**p_value_log[0][0]:.2e}\\n\")\n",
    "#         print(\"===========================================================\")\n",
    "\n",
    "#     if i % 10 == 0:\n",
    "#         print(f\"###  Processed {i+1} solutions  ###\")\n",
    "#         print(f\"Solution {i+1}: {solution}, AUC: {auc1:.10f}\")\n",
    "\n",
    "#     if i > 1000:\n",
    "#         break"
   ]
  },
  {
   "cell_type": "markdown",
   "metadata": {},
   "source": [
    "## Scoring System Test"
   ]
  },
  {
   "cell_type": "code",
   "execution_count": 44,
   "metadata": {},
   "outputs": [],
   "source": [
    "results = []\n",
    "buf: float = 0.984\n",
    "\n",
    "scoring = Scoring()\n",
    "\n",
    "tp_train = pd.read_pickle(f'train_test_pkls/tp_prescore_train_{random_state}.pkl')\n",
    "tn_train = pd.read_pickle(f'train_test_pkls/tn_prescore_train_{random_state}.pkl')\n",
    "\n",
    "tp_train['recalibrated_splai'] = tp_train.parallel_apply(scoring.recal_scores_in_canon, axis=1)\n",
    "tp_train['insilico_screening'] = tp_train.parallel_apply(scoring.insilico_screening, axis=1)\n",
    "tp_train['clinvar_screening'] = tp_train.parallel_apply(scoring.clinvar_screening, axis=1)\n",
    "tp_train = tp_train[tp_train['insilico_screening'] != 'Not available']\n",
    "\n",
    "tn_train['recalibrated_splai'] = tn_train.parallel_apply(scoring.recal_scores_in_canon, axis=1)\n",
    "tn_train['insilico_screening'] = tn_train.parallel_apply(scoring.insilico_screening, axis=1)\n",
    "tn_train['clinvar_screening'] = tn_train.parallel_apply(scoring.clinvar_screening, axis=1)\n",
    "tn_train = tn_train[tn_train['insilico_screening'] != 'Not available']\n",
    "\n",
    "tp_train = tp_train[['variant_id', 'LABEL', 'maxsplai', 'recalibrated_splai', 'insilico_screening', 'clinvar_screening']]\n",
    "tn_train = tn_train[['variant_id', 'LABEL', 'maxsplai', 'recalibrated_splai', 'insilico_screening', 'clinvar_screening']]\n",
    "\n",
    "def map_and_calc_score(row, score_map: dict):\n",
    "    \"\"\"\n",
    "    Mapping the scores.\n",
    "    s1, s2, s3, and s15: clinvar_screening\n",
    "    s4, s5, s6, s7, s8, s9, s10 and s11: insilico_screening\n",
    "    s12, s13 and s14: recalibrated_splai\n",
    "    PriortiyScore is the sum of the \"clinvar_screening\", \"insilico_screening\", and \"recalibrated_splai\"\n",
    "    \"\"\"\n",
    "    if row['recalibrated_splai'] == \"s0\":\n",
    "        recal_score: int = 0\n",
    "    else:\n",
    "        recal_score: int = int(score_map[row['recalibrated_splai']])\n",
    "        \n",
    "    priority_score = recal_score + int(score_map[row['insilico_screening']]) + int(score_map[row['clinvar_screening']])\n",
    "    return priority_score"
   ]
  },
  {
   "cell_type": "code",
   "execution_count": 45,
   "metadata": {},
   "outputs": [],
   "source": [
    "solution = all_solutions[4]"
   ]
  },
  {
   "cell_type": "code",
   "execution_count": 56,
   "metadata": {},
   "outputs": [
    {
     "name": "stdout",
     "output_type": "stream",
     "text": [
      "\n",
      "===== New best AUC: 0.9869208765 with solution 2 =======\n",
      "New best solution 1: {'s1': 3, 's2': 2, 's3': 1, 's4': 0, 's5': 1, 's6': 2, 's7': 3, 's8': 4, 's9': 3, 's10': 9, 's11': 2, 's12': 0, 's13': 0, 's14': 1, 's15': 0} \n",
      "\n",
      "AUC - Framework (95%CI): 0.987 [0.9851-0.9888]\n",
      "AUC - SpliceAI (95%CI) : 0.985 [0.9823-0.9880]\n",
      "p-value (DeLong Test)  : 1.97e-01\n",
      "\n",
      "===========================================================\n"
     ]
    }
   ],
   "source": [
    "tp_train['PriorityScore'] = tp_train.parallel_apply(map_and_calc_score, args=(solution,), axis=1)\n",
    "tn_train['PriorityScore'] = tn_train.parallel_apply(map_and_calc_score, args=(solution,), axis=1)\n",
    "data = pd.concat([tp_train, tn_train], ignore_index=True)\n",
    "data.drop_duplicates(subset='variant_id', keep=False, inplace=True)\n",
    "\n",
    "data['LABEL'] = data['LABEL'].astype(int)\n",
    "# Extract rows with PriorityScore not 'Not available'\n",
    "data = data[data['PriorityScore'] != 'Not available']\n",
    "data['PriorityScore'] = data['PriorityScore'].astype(float)\n",
    "data['maxsplai'] = data['maxsplai'].astype(float)\n",
    "\n",
    "ground_truth = np.array(data['LABEL'])\n",
    "predictions_fw = np.array(data['PriorityScore'])\n",
    "\n",
    "auc1, var1 = delong_roc_variance(ground_truth, predictions_fw)\n",
    "cilower1, ciupper1 = compute_auc_confidence_interval(auc1, var1)\n",
    "\n",
    "i = 1\n",
    "if auc1 > buf:\n",
    "    buf = auc1\n",
    "    print(f\"\\n===== New best AUC: {auc1:.10f} with solution {i+1} =======\")\n",
    "    print(f\"New best solution {i}: {solution} \\n\")\n",
    "    predictions_sp = np.array(data['maxsplai'])\n",
    "    auc2, var2 = delong_roc_variance(ground_truth, predictions_sp)\n",
    "    cilower2, ciupper2 = compute_auc_confidence_interval(auc2, var2)\n",
    "    p_value_log = delong_roc_test(ground_truth, predictions_fw, predictions_sp)\n",
    "    print(f\"AUC - Framework (95%CI): {auc1:.3f} [{cilower1:.4f}-{ciupper1:.4f}]\")\n",
    "    print(f\"AUC - SpliceAI (95%CI) : {auc2:.3f} [{cilower2:.4f}-{ciupper2:.4f}]\")\n",
    "    print(f\"p-value (DeLong Test)  : {10**p_value_log[0][0]:.2e}\\n\")\n",
    "    print(\"===========================================================\")"
   ]
  },
  {
   "cell_type": "code",
   "execution_count": 54,
   "metadata": {},
   "outputs": [
    {
     "name": "stdout",
     "output_type": "stream",
     "text": [
      "0.9869208764921695 0.9850764378574689 0.9887653151268702\n"
     ]
    }
   ],
   "source": [
    "print(auc1, cilower1, ciupper1)"
   ]
  },
  {
   "cell_type": "code",
   "execution_count": null,
   "metadata": {},
   "outputs": [],
   "source": [
    "# tp_train['PriorityScore'] = tp_train.parallel_apply(scoring.calc_priority_score, axis=1)\n",
    "# tp_train = scoring.calc_priority_score(tp_train)\n",
    "\n",
    "# tp_train['PriorityScore'] = tp_train['insilico_screening'] + tp_train['clinvar_screening']\n",
    "# If PriorityScore under 0, set it to 0\n",
    "tp_train['PriorityScore'] = tp_train['PriorityScore'].apply(lambda x: 0 if x < 0 else x)\n",
    "\n",
    "tn_train['insilico_screening'] = tn_train.parallel_apply(scoring.insilico_screening, axis=1)\n",
    "tn_train['clinvar_screening'] = tn_train.parallel_apply(scoring.clinvar_screening, axis=1)\n",
    "# tn_train['PriorityScore'] = tn_train.parallel_apply(scoring.calc_priority_score, axis=1)\n",
    "# tn_train = scoring.calc_priority_score(tn_train)\n",
    "tn_train = tn_train[tn_train['insilico_screening'] != 'Not available']\n",
    "tn_train['PriorityScore'] = tn_train['insilico_screening'] + tn_train['clinvar_screening']\n",
    "# If PriorityScore under 0, set it to 0\n",
    "tn_train['PriorityScore'] = tn_train['PriorityScore'].apply(lambda x: 0 if x < 0 else x)\n",
    "\n"
   ]
  },
  {
   "cell_type": "code",
   "execution_count": null,
   "metadata": {},
   "outputs": [],
   "source": [
    "\n",
    "\n",
    "for i, solution in enumerate(all_solutions):\n",
    "    # if i < 2000:\n",
    "    #     continue\n",
    "\n",
    "    ths_scores = {'clinvar_same_pos': solution['s1'],\n",
    "            'clinvar_same_motif': solution['s2'],\n",
    "            'clinvar_else': solution['s3'],\n",
    "            'non_canon_splai_lte_0.1_outside': solution['s4'],    \n",
    "            'non_canon_splai_lte_0.1_other': solution['s5'],\n",
    "            'non_canon_splai_bet_0.1_0.2': solution['s6'],\n",
    "            'non_canon_splai_gte_0.2': solution['s7'],\n",
    "            'canon_strong': solution['s8'], \n",
    "            'canon_moderate': solution['s9'], \n",
    "            'frameshift_nmd_eloF': solution['s10'], \n",
    "            'frameshift_nmd_not_eloF': solution['s11'],\n",
    "            'canon_splai_lte_0.1': solution['s12'],\n",
    "            'canon_splai_bet_0.1_0.2': solution['s13'],\n",
    "            'canon_splai_gte_0.2': solution['s14'],\n",
    "            'clinvar_blb': solution['s15']\n",
    "            }\n",
    "    \n",
    "\n",
    "    # Extract the columns needed\n",
    "    tp_train = tp_train[['variant_id', 'LABEL', 'PriorityScore', 'maxsplai']]\n",
    "    tn_train = tn_train[['variant_id', 'LABEL', 'PriorityScore', 'maxsplai']]\n",
    "\n",
    "    ### ========================================================== ##\n",
    "    data = pd.concat([tp_train, tn_train], ignore_index=True)\n",
    "    data.drop_duplicates(subset='variant_id', keep=False, inplace=True)\n",
    "\n",
    "    # Cast the columns to float type\n",
    "    data['LABEL'] = data['LABEL'].astype(int)\n",
    "    # Extract rows with PriorityScore not 'Not available'\n",
    "    data = data[data['PriorityScore'] != 'Not available']\n",
    "    data['PriorityScore'] = data['PriorityScore'].astype(float)\n",
    "    data['maxsplai'] = data['maxsplai'].astype(float)\n",
    "\n",
    "    ## DeLong test and AUC confidence interval\n",
    "    ground_truth = np.array(data['LABEL'])\n",
    "    predictions_fw = np.array(data['PriorityScore'])\n",
    "\n",
    "    auc1, var1 = delong_roc_variance(ground_truth, predictions_fw)\n",
    "    cilower1, ciupper1 = compute_auc_confidence_interval(auc1, var1)\n",
    "\n",
    "    results.append(\n",
    "        {'index': i+1, 's1': solution['s1'], 's2': solution['s2'], \n",
    "         's3': solution['s3'], 's4': solution['s4'], 's5': solution['s5'], \n",
    "         's6': solution['s6'], 's7': solution['s7'], 's8': solution['s8'], \n",
    "         's9': solution['s9'], 's10': solution['s10'], 's11': solution['s11'], \n",
    "         's12': solution['s12'], 's13': solution['s13'], 's14': solution['s14'], 's15': solution['s15'],\n",
    "         'auROC': f\"{auc1:.10f}, '95% Confidence Interval': {cilower1:.12f}-{ciupper1:.12f}\"\n",
    "        }\n",
    "    )\n",
    "    # logger.info(f\"Processed solution {i+1}: AUC: {auc1:.10f}\")\n",
    "    if i % 50 == 0:\n",
    "        print(f\"###  Processed {i} solutions  ###\")\n",
    "    \n",
    "    if auc1 > buf:\n",
    "        buf = auc1\n",
    "        print(f\"\\n===== New best AUC: {auc1:.10f} with solution {i+1} =======\")\n",
    "        print(f\"New best solution {i}: {solution} \\n\")\n",
    "        predictions_sp = np.array(data['maxsplai'])\n",
    "        auc2, var2 = delong_roc_variance(ground_truth, predictions_sp)\n",
    "        cilower2, ciupper2 = compute_auc_confidence_interval(auc2, var2)\n",
    "        p_value_log = delong_roc_test(ground_truth, predictions_fw, predictions_sp)\n",
    "        print(f\"AUC - Framework (95%CI): {auc1:.3f} [{cilower1:.4f}-{ciupper1:.4f}]\")\n",
    "        print(f\"AUC - SpliceAI (95%CI) : {auc2:.3f} [{cilower2:.4f}-{ciupper2:.4f}]\")\n",
    "        print(f\"p-value (DeLong Test)  : {10**p_value_log[0][0]:.2e}\\n\")\n",
    "        print(\"===========================================================\")\n"
   ]
  },
  {
   "cell_type": "markdown",
   "metadata": {},
   "source": [
    "#### 昔の計算テスト"
   ]
  },
  {
   "cell_type": "code",
   "execution_count": null,
   "metadata": {},
   "outputs": [],
   "source": [
    "for i in range(len(tn_train)):\n",
    "\tcol_num = tn_train.columns.get_loc('clinvar_same_pos')\n",
    "\tsame_pos = tn_train.iat[i, tn_train.columns.get_loc('clinvar_same_pos')].replace(\"'\", \"\")\n",
    "\tsame_motif_clinsigs:list = tn_train.iat[i, tn_train.columns.get_loc('same_motif_clinsigs')]\n",
    "\tprint(f\"Pos: {same_pos}  Motifs: {same_motif_clinsigs}\")\n",
    "\tif same_pos in ['Benign', 'Likely_benign', 'Benign/Likely_benign']:\n",
    "\t\tprint(\"B/LB\")\n",
    "\telse:\n",
    "\t\tif same_pos in ['Pathogenic', 'Likely_pathogenic', 'Pathogenic/Likely_pathogenic']:\n",
    "\t\t\tprint(\"P/LP\")\n",
    "\t\telse:\n",
    "\t\t\tif 'Pathogenic' in same_motif_clinsigs:\n",
    "\t\t\t\tprint(\"Same motif pathogenic\")\n",
    "\t\t\telif 'pathogenic' in same_motif_clinsigs:\n",
    "\t\t\t\tprint(\"Same motif pathogenic\")\n",
    "\t\t\telse:\n",
    "\t\t\t\tprint(\"VUS\")"
   ]
  },
  {
   "cell_type": "code",
   "execution_count": 10,
   "metadata": {},
   "outputs": [],
   "source": [
    "solution = all_solutions[4]\n",
    "ths_scores = {'clinvar_same_pos': solution['s1'],\n",
    "        'clinvar_same_motif': solution['s2'],\n",
    "        'clinvar_else': solution['s3'],\n",
    "        'non_canon_splai_lte_0.1_outside': solution['s4'],    \n",
    "        'non_canon_splai_lte_0.1_other': solution['s5'],\n",
    "        'non_canon_splai_bet_0.1_0.2': solution['s6'],\n",
    "        'non_canon_splai_gte_0.2': solution['s7'],\n",
    "        'canon_strong': solution['s8'], \n",
    "        'canon_moderate': solution['s9'], \n",
    "        'frameshift_nmd_eloF': solution['s10'], \n",
    "        'frameshift_nmd_not_eloF': solution['s11'],\n",
    "        'canon_splai_lte_0.1': solution['s12'],\n",
    "        'canon_splai_bet_0.1_0.2': solution['s13'],\n",
    "        'canon_splai_gte_0.2': solution['s14'],\n",
    "        'clinvar_blb': solution['s15']\n",
    "        }\n",
    "scoring = Scoring(ths=ths_scores)"
   ]
  },
  {
   "cell_type": "code",
   "execution_count": null,
   "metadata": {},
   "outputs": [],
   "source": [
    "tp_train = pd.read_pickle(f'train_test_pkls/tp_prescore_train_{random_state}.pkl')\n",
    "tn_train = pd.read_pickle(f'train_test_pkls/tn_prescore_train_{random_state}.pkl')\n",
    "\n",
    "tp_train['insilico_screening'] = tp_train.parallel_apply(scoring.insilico_screening, axis=1)\n",
    "tp_train['clinvar_screening'] = tp_train.parallel_apply(scoring.clinvar_screening, axis=1)\n",
    "# tp_train['PriorityScore'] = tp_train.parallel_apply(scoring.calc_priority_score, axis=1)\n",
    "# tp_train = scoring.calc_priority_score(tp_train)\n",
    "tp_train = tp_train[tp_train['insilico_screening'] != 'Not available']\n",
    "tp_train['PriorityScore'] = tp_train['insilico_screening'] + tp_train['clinvar_screening']\n",
    "# If PriorityScore under 0, set it to 0\n",
    "tp_train['PriorityScore'] = tp_train['PriorityScore'].apply(lambda x: 0 if x < 0 else x)"
   ]
  },
  {
   "cell_type": "code",
   "execution_count": 13,
   "metadata": {},
   "outputs": [
    {
     "data": {
      "text/html": [
       "<div>\n",
       "<style scoped>\n",
       "    .dataframe tbody tr th:only-of-type {\n",
       "        vertical-align: middle;\n",
       "    }\n",
       "\n",
       "    .dataframe tbody tr th {\n",
       "        vertical-align: top;\n",
       "    }\n",
       "\n",
       "    .dataframe thead th {\n",
       "        text-align: right;\n",
       "    }\n",
       "</style>\n",
       "<table border=\"1\" class=\"dataframe\">\n",
       "  <thead>\n",
       "    <tr style=\"text-align: right;\">\n",
       "      <th></th>\n",
       "      <th>clinvar_same_pos</th>\n",
       "      <th>same_motif_clinsigs</th>\n",
       "      <th>clinvar_screening</th>\n",
       "      <th>insilico_screening</th>\n",
       "      <th>PriorityScore</th>\n",
       "    </tr>\n",
       "  </thead>\n",
       "  <tbody>\n",
       "    <tr>\n",
       "      <th>25929</th>\n",
       "      <td>'Pathogenic'</td>\n",
       "      <td>[Pathogenic]</td>\n",
       "      <td>2</td>\n",
       "      <td>5</td>\n",
       "      <td>7</td>\n",
       "    </tr>\n",
       "    <tr>\n",
       "      <th>93761</th>\n",
       "      <td>'Pathogenic'</td>\n",
       "      <td>[Pathogenic, Pathogenic/Likely_pathogenic, Pat...</td>\n",
       "      <td>2</td>\n",
       "      <td>1</td>\n",
       "      <td>3</td>\n",
       "    </tr>\n",
       "    <tr>\n",
       "      <th>121362</th>\n",
       "      <td>No_ClinVar_info_found</td>\n",
       "      <td>[Likely_benign, Likely_benign, Pathogenic]</td>\n",
       "      <td>1</td>\n",
       "      <td>7</td>\n",
       "      <td>8</td>\n",
       "    </tr>\n",
       "    <tr>\n",
       "      <th>41523</th>\n",
       "      <td>'Pathogenic/Likely_pathogenic'</td>\n",
       "      <td>[Likely_pathogenic, Likely_pathogenic, Likely_...</td>\n",
       "      <td>2</td>\n",
       "      <td>7</td>\n",
       "      <td>9</td>\n",
       "    </tr>\n",
       "    <tr>\n",
       "      <th>87754</th>\n",
       "      <td>No_ClinVar_info_found</td>\n",
       "      <td>[No_ClinVar_info_found]</td>\n",
       "      <td>0</td>\n",
       "      <td>5</td>\n",
       "      <td>5</td>\n",
       "    </tr>\n",
       "    <tr>\n",
       "      <th>40326</th>\n",
       "      <td>No_ClinVar_info_found</td>\n",
       "      <td>[Likely_benign, Likely_benign, Likely_benign, ...</td>\n",
       "      <td>1</td>\n",
       "      <td>7</td>\n",
       "      <td>8</td>\n",
       "    </tr>\n",
       "    <tr>\n",
       "      <th>2221</th>\n",
       "      <td>No_ClinVar_info_found</td>\n",
       "      <td>[No_ClinVar_info_found]</td>\n",
       "      <td>0</td>\n",
       "      <td>5</td>\n",
       "      <td>5</td>\n",
       "    </tr>\n",
       "    <tr>\n",
       "      <th>70327</th>\n",
       "      <td>No_ClinVar_info_found</td>\n",
       "      <td>[Likely_pathogenic]</td>\n",
       "      <td>0</td>\n",
       "      <td>5</td>\n",
       "      <td>5</td>\n",
       "    </tr>\n",
       "    <tr>\n",
       "      <th>51058</th>\n",
       "      <td>No_ClinVar_info_found</td>\n",
       "      <td>[No_ClinVar_info_found]</td>\n",
       "      <td>0</td>\n",
       "      <td>1</td>\n",
       "      <td>1</td>\n",
       "    </tr>\n",
       "    <tr>\n",
       "      <th>113035</th>\n",
       "      <td>No_ClinVar_info_found</td>\n",
       "      <td>[Likely_benign, Likely_benign]</td>\n",
       "      <td>0</td>\n",
       "      <td>5</td>\n",
       "      <td>5</td>\n",
       "    </tr>\n",
       "  </tbody>\n",
       "</table>\n",
       "</div>"
      ],
      "text/plain": [
       "                      clinvar_same_pos  \\\n",
       "25929                     'Pathogenic'   \n",
       "93761                     'Pathogenic'   \n",
       "121362           No_ClinVar_info_found   \n",
       "41523   'Pathogenic/Likely_pathogenic'   \n",
       "87754            No_ClinVar_info_found   \n",
       "40326            No_ClinVar_info_found   \n",
       "2221             No_ClinVar_info_found   \n",
       "70327            No_ClinVar_info_found   \n",
       "51058            No_ClinVar_info_found   \n",
       "113035           No_ClinVar_info_found   \n",
       "\n",
       "                                      same_motif_clinsigs  clinvar_screening  \\\n",
       "25929                                        [Pathogenic]                  2   \n",
       "93761   [Pathogenic, Pathogenic/Likely_pathogenic, Pat...                  2   \n",
       "121362         [Likely_benign, Likely_benign, Pathogenic]                  1   \n",
       "41523   [Likely_pathogenic, Likely_pathogenic, Likely_...                  2   \n",
       "87754                             [No_ClinVar_info_found]                  0   \n",
       "40326   [Likely_benign, Likely_benign, Likely_benign, ...                  1   \n",
       "2221                              [No_ClinVar_info_found]                  0   \n",
       "70327                                 [Likely_pathogenic]                  0   \n",
       "51058                             [No_ClinVar_info_found]                  0   \n",
       "113035                     [Likely_benign, Likely_benign]                  0   \n",
       "\n",
       "        insilico_screening  PriorityScore  \n",
       "25929                    5              7  \n",
       "93761                    1              3  \n",
       "121362                   7              8  \n",
       "41523                    7              9  \n",
       "87754                    5              5  \n",
       "40326                    7              8  \n",
       "2221                     5              5  \n",
       "70327                    5              5  \n",
       "51058                    1              1  \n",
       "113035                   5              5  "
      ]
     },
     "execution_count": 13,
     "metadata": {},
     "output_type": "execute_result"
    }
   ],
   "source": [
    "tp_train[['clinvar_same_pos', 'same_motif_clinsigs', 'clinvar_screening', 'insilico_screening', 'PriorityScore']].head(10)"
   ]
  },
  {
   "cell_type": "markdown",
   "metadata": {},
   "source": [
    "テストここまで -------------------"
   ]
  },
  {
   "cell_type": "markdown",
   "metadata": {},
   "source": [
    "### Find optimal weights"
   ]
  },
  {
   "cell_type": "code",
   "execution_count": null,
   "metadata": {},
   "outputs": [],
   "source": [
    "results = []\n",
    "buf: float = 0.984\n",
    "\n",
    "for i, solution in enumerate(all_solutions):\n",
    "    # if i < 2000:\n",
    "    #     continue\n",
    "\n",
    "    ths_scores = {'clinvar_same_pos': solution['s1'],\n",
    "            'clinvar_same_motif': solution['s2'],\n",
    "            'clinvar_else': solution['s3'],\n",
    "            'non_canon_splai_lte_0.1_outside': solution['s4'],    \n",
    "            'non_canon_splai_lte_0.1_other': solution['s5'],\n",
    "            'non_canon_splai_bet_0.1_0.2': solution['s6'],\n",
    "            'non_canon_splai_gte_0.2': solution['s7'],\n",
    "            'canon_strong': solution['s8'], \n",
    "            'canon_moderate': solution['s9'], \n",
    "            'frameshift_nmd_eloF': solution['s10'], \n",
    "            'frameshift_nmd_not_eloF': solution['s11'],\n",
    "            'canon_splai_lte_0.1': solution['s12'],\n",
    "            'canon_splai_bet_0.1_0.2': solution['s13'],\n",
    "            'canon_splai_gte_0.2': solution['s14'],\n",
    "            'clinvar_blb': solution['s15']\n",
    "            }\n",
    "    \n",
    "    scoring = Scoring(ths=ths_scores)\n",
    "\n",
    "    tp_train = pd.read_pickle(f'train_test_pkls/tp_prescore_train_{random_state}.pkl')\n",
    "    tn_train = pd.read_pickle(f'train_test_pkls/tn_prescore_train_{random_state}.pkl')\n",
    "\n",
    "    tp_train['insilico_screening'] = tp_train.parallel_apply(scoring.insilico_screening, axis=1)\n",
    "    tp_train['clinvar_screening'] = tp_train.parallel_apply(scoring.clinvar_screening, axis=1)\n",
    "    # tp_train['PriorityScore'] = tp_train.parallel_apply(scoring.calc_priority_score, axis=1)\n",
    "    # tp_train = scoring.calc_priority_score(tp_train)\n",
    "    tp_train = tp_train[tp_train['insilico_screening'] != 'Not available']\n",
    "    tp_train['PriorityScore'] = tp_train['insilico_screening'] + tp_train['clinvar_screening']\n",
    "    # If PriorityScore under 0, set it to 0\n",
    "    tp_train['PriorityScore'] = tp_train['PriorityScore'].apply(lambda x: 0 if x < 0 else x)\n",
    "\n",
    "    tn_train['insilico_screening'] = tn_train.parallel_apply(scoring.insilico_screening, axis=1)\n",
    "    tn_train['clinvar_screening'] = tn_train.parallel_apply(scoring.clinvar_screening, axis=1)\n",
    "    # tn_train['PriorityScore'] = tn_train.parallel_apply(scoring.calc_priority_score, axis=1)\n",
    "    # tn_train = scoring.calc_priority_score(tn_train)\n",
    "    tn_train = tn_train[tn_train['insilico_screening'] != 'Not available']\n",
    "    tn_train['PriorityScore'] = tn_train['insilico_screening'] + tn_train['clinvar_screening']\n",
    "    # If PriorityScore under 0, set it to 0\n",
    "    tn_train['PriorityScore'] = tn_train['PriorityScore'].apply(lambda x: 0 if x < 0 else x)\n",
    "\n",
    "    # Extract the columns needed\n",
    "    tp_train = tp_train[['variant_id', 'LABEL', 'PriorityScore', 'maxsplai']]\n",
    "    tn_train = tn_train[['variant_id', 'LABEL', 'PriorityScore', 'maxsplai']]\n",
    "\n",
    "    ### ========================================================== ##\n",
    "    data = pd.concat([tp_train, tn_train], ignore_index=True)\n",
    "    data.drop_duplicates(subset='variant_id', keep=False, inplace=True)\n",
    "\n",
    "    # Cast the columns to float type\n",
    "    data['LABEL'] = data['LABEL'].astype(int)\n",
    "    # Extract rows with PriorityScore not 'Not available'\n",
    "    data = data[data['PriorityScore'] != 'Not available']\n",
    "    data['PriorityScore'] = data['PriorityScore'].astype(float)\n",
    "    data['maxsplai'] = data['maxsplai'].astype(float)\n",
    "\n",
    "    ## DeLong test and AUC confidence interval\n",
    "    ground_truth = np.array(data['LABEL'])\n",
    "    predictions_fw = np.array(data['PriorityScore'])\n",
    "\n",
    "    auc1, var1 = delong_roc_variance(ground_truth, predictions_fw)\n",
    "    cilower1, ciupper1 = compute_auc_confidence_interval(auc1, var1)\n",
    "\n",
    "    results.append(\n",
    "        {'index': i+1, 's1': solution['s1'], 's2': solution['s2'], \n",
    "         's3': solution['s3'], 's4': solution['s4'], 's5': solution['s5'], \n",
    "         's6': solution['s6'], 's7': solution['s7'], 's8': solution['s8'], \n",
    "         's9': solution['s9'], 's10': solution['s10'], 's11': solution['s11'], \n",
    "         's12': solution['s12'], 's13': solution['s13'], 's14': solution['s14'], 's15': solution['s15'],\n",
    "         'auROC': f\"{auc1:.10f}, '95% Confidence Interval': {cilower1:.12f}-{ciupper1:.12f}\"\n",
    "        }\n",
    "    )\n",
    "    # logger.info(f\"Processed solution {i+1}: AUC: {auc1:.10f}\")\n",
    "    if i % 50 == 0:\n",
    "        print(f\"###  Processed {i} solutions  ###\")\n",
    "    \n",
    "    if auc1 > buf:\n",
    "        buf = auc1\n",
    "        print(f\"\\n===== New best AUC: {auc1:.10f} with solution {i+1} =======\")\n",
    "        print(f\"New best solution {i}: {solution} \\n\")\n",
    "        predictions_sp = np.array(data['maxsplai'])\n",
    "        auc2, var2 = delong_roc_variance(ground_truth, predictions_sp)\n",
    "        cilower2, ciupper2 = compute_auc_confidence_interval(auc2, var2)\n",
    "        p_value_log = delong_roc_test(ground_truth, predictions_fw, predictions_sp)\n",
    "        print(f\"AUC - Framework (95%CI): {auc1:.3f} [{cilower1:.4f}-{ciupper1:.4f}]\")\n",
    "        print(f\"AUC - SpliceAI (95%CI) : {auc2:.3f} [{cilower2:.4f}-{ciupper2:.4f}]\")\n",
    "        print(f\"p-value (DeLong Test)  : {10**p_value_log[0][0]:.2e}\\n\")\n",
    "        print(\"===========================================================\")\n",
    "\n",
    "# 1800から続き"
   ]
  },
  {
   "cell_type": "markdown",
   "metadata": {},
   "source": [
    "### パフォーマンスの確認 - テストバリアントセットを使う"
   ]
  },
  {
   "cell_type": "code",
   "execution_count": 33,
   "metadata": {},
   "outputs": [],
   "source": [
    "start = [0, 4050, 8100, 12151]\n",
    "\n",
    "results_1 = pd.read_pickle(f'results/results_{start[0]}_to_end.pkl')\n",
    "df1 = pd.DataFrame(results_1)\n",
    "results_2 = pd.read_pickle(f'results/results_{start[1]}_to_end.pkl')\n",
    "df2 = pd.DataFrame(results_2)\n",
    "results_3 = pd.read_pickle(f'results/results_{start[2]}_to_end.pkl')\n",
    "df3 = pd.DataFrame(results_3)\n",
    "results_4 = pd.read_pickle(f'results/results_{start[3]}_to_end.pkl')\n",
    "df4 = pd.DataFrame(results_4)\n",
    "\n",
    "# Concatenate the dataframes\n",
    "df = pd.concat([df1, df2, df3, df4], ignore_index=True)\n",
    "# Separate the solution into columns\n",
    "df = pd.concat([df.drop(['solution'], axis=1), df['solution'].apply(pd.Series)], axis=1)\n",
    "def calc_sample_var(row) -> float:\n",
    "    score_arr = np.array([row['s1'], row['s2'], row['s3'], row['s4'], row['s5'],\n",
    "                          row['s6'], row['s7'], row['s8'], row['s9'], row['s10'], \n",
    "                          row['s11'], row['s12'], row['s13'], row['s14'], row['s15']])\n",
    "    return np.var(score_arr)\n",
    "\n",
    "df['sample_var'] = df.apply(calc_sample_var, axis=1)\n",
    "max_auc = df['AUC'].max()\n",
    "df_max_auc = df.loc[df['AUC'] == df['AUC'].max(), :]\n",
    "solution = df_max_auc.iloc[0, 1:].to_dict()\n",
    "\n",
    "s = solution.pop('AUC')\n",
    "s = solution.pop('CI_lower')\n",
    "s = solution.pop('CI_upper')\n",
    "s = solution.pop('sample_var')\n",
    "# solution.update({\"s0\": 0})"
   ]
  },
  {
   "cell_type": "code",
   "execution_count": 34,
   "metadata": {},
   "outputs": [],
   "source": [
    "random_state = 12\n",
    "\n",
    "## Scoring with \"s*\"\n",
    "scoring = Scoring()\n",
    "\n",
    "tp_test = pd.read_pickle(f'train_test_pkls/tp_prescore_test_{random_state}.pkl')\n",
    "tn_test = pd.read_pickle(f'train_test_pkls/tn_prescore_test_{random_state}.pkl')\n",
    "tp_test['insilico_screening'] = tp_test.parallel_apply(scoring.insilico_screening, axis=1)\n",
    "tp_test['clinvar_screening'] = tp_test.parallel_apply(scoring.clinvar_screening, axis=1)\n",
    "tp_test['recalibrated_splai'] = tp_test.parallel_apply(scoring.recal_scores_in_canon, axis=1)\n",
    "tn_test['insilico_screening'] = tn_test.parallel_apply(scoring.insilico_screening, axis=1)\n",
    "tn_test['clinvar_screening'] = tn_test.parallel_apply(scoring.clinvar_screening, axis=1)\n",
    "tn_test['recalibrated_splai'] = tn_test.parallel_apply(scoring.recal_scores_in_canon, axis=1)\n",
    "# Save the dataframes as pickle files\n",
    "tp_test.to_pickle(f'train_test_pkls/tp_prescore_test_{random_state}_scored.pkl')\n",
    "tn_test.to_pickle(f'train_test_pkls/tn_prescore_test_{random_state}_scored.pkl')"
   ]
  },
  {
   "cell_type": "code",
   "execution_count": 35,
   "metadata": {},
   "outputs": [],
   "source": [
    "def map_and_calc_score(row, score_map: dict) -> int:\n",
    "    return int(score_map[row['recalibrated_splai']]) + int(score_map[row['insilico_screening']]) + int(score_map[row['clinvar_screening']])\n",
    "\n",
    "# Load test data\n",
    "tp_test = pd.read_pickle(f'train_test_pkls/tp_prescore_test_{random_state}_scored.pkl')\n",
    "tn_test = pd.read_pickle(f'train_test_pkls/tn_prescore_test_{random_state}_scored.pkl')\n",
    "\n",
    "tp_test['PriorityScore'] = tp_test.parallel_apply(\n",
    "    map_and_calc_score, args=(solution,), axis=1)\n",
    "tn_test['PriorityScore'] = tn_test.parallel_apply(\n",
    "    map_and_calc_score, args=(solution,), axis=1)\n",
    "\n",
    "# Extract the columns needed\n",
    "tp_test = tp_test[['variant_id', 'LABEL', 'PriorityScore', 'maxsplai', \n",
    "\t\t\t\t   'maxentscan_diff', 'maxpangolin', 'Squirls']]\n",
    "tn_test = tn_test[['variant_id', 'LABEL', 'PriorityScore', 'maxsplai', \n",
    "\t\t\t\t   'maxentscan_diff', 'maxpangolin', 'Squirls']]\n"
   ]
  },
  {
   "cell_type": "code",
   "execution_count": 36,
   "metadata": {},
   "outputs": [],
   "source": [
    "\n",
    "data = pd.concat([tp_test, tn_test], ignore_index=True)\n",
    "data.drop_duplicates(subset='variant_id', keep=False, inplace=True)\n",
    "data = data[data['PriorityScore'] != 'Not available']\n",
    "data['LABEL'] = data['LABEL'].astype(int)\n",
    "data['PriorityScore'] = data['PriorityScore'].astype(float)\n",
    "data['maxsplai'] = data['maxsplai'].astype(float)\n",
    "\n",
    "# data['maxentscan_diff'] = data['maxentscan_diff'].replace('', np.nan)\n",
    "# data['maxentscan_diff'] = data['maxentscan_diff'].fillna(np.nan)\n",
    "data.loc[data['maxentscan_diff'] == '', 'maxentscan_diff'] = np.nan\n",
    "data2 = data.copy()\n",
    "data2= data2.dropna(subset=['maxentscan_diff'])\n",
    "data2['maxentscan_diff'] = data2['maxentscan_diff'].astype(float)\n",
    "# data['maxentscan_diff'] = data['maxentscan_diff'].astype(float)\n",
    "data['maxpangolin'] = data['maxpangolin'].astype(float)\n",
    "data.loc[data['Squirls'] == \"NA\", 'Squirls'] = np.nan\n",
    "data3 = data.copy()\n",
    "data3 = data3.dropna(subset=['Squirls'])\n",
    "data3['Squirls'] = data3['Squirls'].astype(float)\n"
   ]
  },
  {
   "cell_type": "code",
   "execution_count": 37,
   "metadata": {},
   "outputs": [],
   "source": [
    "## DeLong test and AUC confidence interval\n",
    "ground_truth = np.array(data['LABEL'])\n",
    "ground_truth2 = np.array(data2['LABEL'])\n",
    "ground_truth3 = np.array(data3['LABEL'])\n",
    "predictions_fw = np.array(data['PriorityScore'])\n",
    "predictions_sp = np.array(data['maxsplai'])\n",
    "predictions_en = np.array(data2['maxentscan_diff'])\n",
    "predictions_pa = np.array(data['maxpangolin'])\n",
    "predictions_sq = np.array(data3['Squirls'])\n"
   ]
  },
  {
   "cell_type": "code",
   "execution_count": 38,
   "metadata": {},
   "outputs": [],
   "source": [
    "auc1, var1 = delong_roc_variance(ground_truth, predictions_fw)\n",
    "cilower1, ciupper1 = compute_auc_confidence_interval(auc1, var1)\n",
    "auc2, var2 = delong_roc_variance(ground_truth, predictions_sp)\n",
    "cilower2, ciupper2 = compute_auc_confidence_interval(auc2, var2)\n",
    "auc3, var3 = delong_roc_variance(ground_truth2, predictions_en)\n",
    "cilower3, ciupper3 = compute_auc_confidence_interval(auc3, var3)\n",
    "auc4, var4 = delong_roc_variance(ground_truth, predictions_pa)\n",
    "cilower4, ciupper4 = compute_auc_confidence_interval(auc4, var4)\n",
    "auc5, var5 = delong_roc_variance(ground_truth3, predictions_sq)\n",
    "cilower5, ciupper5 = compute_auc_confidence_interval(auc5, var5)"
   ]
  },
  {
   "cell_type": "code",
   "execution_count": 40,
   "metadata": {},
   "outputs": [
    {
     "name": "stdout",
     "output_type": "stream",
     "text": [
      "AUC - Framework (95%CI): 0.993 [0.9907-0.9948]\n",
      "AUC - SpliceAI (95%CI) : 0.984 [0.9804-0.9879]\n",
      "p-value (DeLong Test)  : 3.73e-07\n",
      "AUC - MaxEntScan (95%CI): 0.989 [0.9850-0.9928]\n",
      "AUC - MaxPangolin (95%CI): 0.950 [0.9441-0.9566]\n",
      "AUC - Squirls (95%CI): 0.984 [0.9810-0.9872]\n"
     ]
    }
   ],
   "source": [
    "p_value_log = delong_roc_test(ground_truth, predictions_fw, predictions_sp)\n",
    "\n",
    "print(f\"AUC - Framework (95%CI): {auc1:.3f} [{cilower1:.4f}-{ciupper1:.4f}]\")\n",
    "print(f\"AUC - SpliceAI (95%CI) : {auc2:.3f} [{cilower2:.4f}-{ciupper2:.4f}]\")\n",
    "print(f\"p-value (DeLong Test)  : {10**p_value_log[0][0]:.2e}\")\n",
    "\n",
    "print(f\"AUC - MaxEntScan (95%CI): {auc3:.3f} [{cilower3:.4f}-{ciupper3:.4f}]\")\n",
    "print(f\"AUC - MaxPangolin (95%CI): {auc4:.3f} [{cilower4:.4f}-{ciupper4:.4f}]\")\n",
    "print(f\"AUC - Squirls (95%CI): {auc5:.3f} [{cilower5:.4f}-{ciupper5:.4f}]\")"
   ]
  },
  {
   "cell_type": "code",
   "execution_count": 41,
   "metadata": {},
   "outputs": [
    {
     "name": "stdout",
     "output_type": "stream",
     "text": [
      "Optimal threshold (using Youden index): 1.0\n",
      "Optimal threshold (using Youden index) - MaxEntScan: 1.798\n",
      "Optimal threshold (using Youden index) - Pangolin: 0.15000000596046448\n",
      "Optimal threshold (using Youden index) - Squirls: 0.03\n"
     ]
    },
    {
     "data": {
      "application/vnd.plotly.v1+json": {
       "config": {
        "plotlyServerURL": "https://plot.ly"
       },
       "data": [
        {
         "line": {
          "color": "#E41A1C",
          "width": 2
         },
         "mode": "lines",
         "name": "Framework      (0.993 [0.9907-0.9948])",
         "type": "scatter",
         "x": [
          0,
          0,
          0,
          0,
          0,
          0,
          0,
          0,
          0,
          0,
          0,
          0.016333938294010888,
          0.016333938294010888,
          0.043557168784029036,
          0.2558983666061706,
          0.6987295825771325,
          0.7132486388384754,
          0.8021778584392014,
          1
         ],
         "y": [
          0,
          0.1477404403244496,
          0.1581691772885284,
          0.33053302433371956,
          0.39745075318655854,
          0.4461181923522596,
          0.5246234067207416,
          0.5266512166859791,
          0.6903244495944381,
          0.7059675550405562,
          0.8426998841251448,
          0.9690034762456546,
          0.9756662804171495,
          0.9817497103128621,
          0.9927578215527231,
          0.9973928157589803,
          0.9979721900347625,
          0.9991309385863267,
          1
         ]
        },
        {
         "line": {
          "color": "#377EB8",
          "width": 2
         },
         "mode": "lines",
         "name": "SpliceAI Alone (0.984 [0.9804-0.9879])",
         "type": "scatter",
         "x": [
          0,
          0,
          0,
          0.0018148820326678765,
          0.0018148820326678765,
          0.0018148820326678765,
          0.0018148820326678765,
          0.0018148820326678765,
          0.0018148820326678765,
          0.0018148820326678765,
          0.0018148820326678765,
          0.0018148820326678765,
          0.0018148820326678765,
          0.0018148820326678765,
          0.0018148820326678765,
          0.0018148820326678765,
          0.0018148820326678765,
          0.0018148820326678765,
          0.0018148820326678765,
          0.0018148820326678765,
          0.0018148820326678765,
          0.0018148820326678765,
          0.0018148820326678765,
          0.0018148820326678765,
          0.0018148820326678765,
          0.0018148820326678765,
          0.0018148820326678765,
          0.0018148820326678765,
          0.0018148820326678765,
          0.0018148820326678765,
          0.0018148820326678765,
          0.0018148820326678765,
          0.0018148820326678765,
          0.0018148820326678765,
          0.003629764065335753,
          0.003629764065335753,
          0.003629764065335753,
          0.003629764065335753,
          0.003629764065335753,
          0.003629764065335753,
          0.003629764065335753,
          0.003629764065335753,
          0.003629764065335753,
          0.003629764065335753,
          0.003629764065335753,
          0.003629764065335753,
          0.003629764065335753,
          0.003629764065335753,
          0.003629764065335753,
          0.003629764065335753,
          0.003629764065335753,
          0.003629764065335753,
          0.003629764065335753,
          0.0054446460980036296,
          0.0054446460980036296,
          0.0054446460980036296,
          0.0054446460980036296,
          0.007259528130671506,
          0.009074410163339383,
          0.009074410163339383,
          0.009074410163339383,
          0.010889292196007259,
          0.010889292196007259,
          0.012704174228675136,
          0.012704174228675136,
          0.014519056261343012,
          0.014519056261343012,
          0.014519056261343012,
          0.014519056261343012,
          0.014519056261343012,
          0.014519056261343012,
          0.014519056261343012,
          0.016333938294010888,
          0.016333938294010888,
          0.016333938294010888,
          0.016333938294010888,
          0.016333938294010888,
          0.016333938294010888,
          0.018148820326678767,
          0.023593466424682397,
          0.02722323049001815,
          0.02722323049001815,
          0.030852994555353903,
          0.038112522686025406,
          0.039927404718693285,
          0.04900181488203267,
          0.056261343012704176,
          0.05989110707803993,
          0.07622504537205081,
          0.0852994555353902,
          0.10707803992740472,
          0.13611615245009073,
          0.15970961887477314,
          0.19600725952813067,
          0.2413793103448276,
          0.3121597096188748,
          0.4101633393829401,
          0.6787658802177858,
          1
         ],
         "y": [
          0,
          0.1842410196987254,
          0.3780417149478563,
          0.4646581691772885,
          0.5196987253765932,
          0.552143684820394,
          0.5851680185399768,
          0.6051564310544612,
          0.6257242178447276,
          0.6422363847045192,
          0.6564310544611819,
          0.6691772885283893,
          0.6807647740440325,
          0.6926419466975666,
          0.7068366164542295,
          0.7213209733487833,
          0.7305909617612978,
          0.7381228273464658,
          0.7447856315179606,
          0.7630359212050984,
          0.7705677867902665,
          0.776361529548088,
          0.7812862108922364,
          0.787369640787949,
          0.7937427578215527,
          0.7983777520278099,
          0.8035921205098494,
          0.8093858632676709,
          0.8157589803012746,
          0.8195249130938587,
          0.8253186558516802,
          0.8290845886442642,
          0.8337195828505214,
          0.8392236384704519,
          0.8424101969872537,
          0.84675550405562,
          0.8499420625724218,
          0.8539976825028969,
          0.8568945538818077,
          0.8592120509849362,
          0.8626882966396292,
          0.865874855156431,
          0.8676129779837776,
          0.8705098493626883,
          0.8742757821552724,
          0.876882966396292,
          0.8797798377752027,
          0.8818076477404403,
          0.884125144843569,
          0.8861529548088065,
          0.8876013904982619,
          0.8887601390498262,
          0.891657010428737,
          0.8931054461181923,
          0.8960023174971031,
          0.8986095017381228,
          0.9009269988412515,
          0.9041135573580533,
          0.9064310544611819,
          0.9096176129779838,
          0.9142526071842411,
          0.9162804171494786,
          0.9188876013904983,
          0.9206257242178447,
          0.921784472769409,
          0.9232329084588644,
          0.9264194669756662,
          0.9275782155272306,
          0.9301853997682503,
          0.9316338354577057,
          0.9348203939745076,
          0.936558516801854,
          0.9391657010428737,
          0.9406141367323291,
          0.9417728852838934,
          0.944380069524913,
          0.9455388180764774,
          0.9484356894553881,
          0.9507531865585168,
          0.9527809965237544,
          0.9533603707995365,
          0.9542294322132098,
          0.9565469293163383,
          0.9574159907300116,
          0.959154113557358,
          0.9603128621089224,
          0.9608922363847046,
          0.9623406720741599,
          0.9646581691772885,
          0.9669756662804172,
          0.9684241019698725,
          0.97045191193511,
          0.973638470451912,
          0.9771147161066048,
          0.9791425260718424,
          0.9820393974507532,
          0.9884125144843569,
          0.9927578215527231,
          1
         ]
        },
        {
         "line": {
          "color": "#4DAF4A",
          "width": 2
         },
         "mode": "lines",
         "name": "MaxEntScan   (0.989 [0.9850-0.9928])",
         "type": "scatter",
         "x": [
          0,
          0,
          0,
          0,
          0,
          0,
          0,
          0,
          0,
          0,
          0,
          0,
          0,
          0,
          0,
          0,
          0,
          0,
          0,
          0,
          0,
          0,
          0,
          0,
          0,
          0,
          0,
          0,
          0,
          0,
          0,
          0,
          0,
          0,
          0,
          0,
          0,
          0,
          0,
          0,
          0,
          0,
          0,
          0,
          0,
          0,
          0,
          0,
          0,
          0,
          0,
          0,
          0,
          0,
          0,
          0,
          0,
          0,
          0,
          0,
          0,
          0,
          0,
          0,
          0,
          0,
          0,
          0,
          0,
          0,
          0,
          0,
          0,
          0,
          0,
          0,
          0,
          0,
          0,
          0,
          0,
          0,
          0,
          0,
          0,
          0,
          0,
          0,
          0,
          0,
          0,
          0,
          0,
          0,
          0,
          0,
          0,
          0,
          0,
          0,
          0,
          0,
          0,
          0,
          0,
          0,
          0,
          0,
          0,
          0,
          0,
          0,
          0,
          0,
          0,
          0,
          0,
          0,
          0,
          0,
          0.021739130434782608,
          0.021739130434782608,
          0.021739130434782608,
          0.021739130434782608,
          0.021739130434782608,
          0.021739130434782608,
          0.021739130434782608,
          0.021739130434782608,
          0.021739130434782608,
          0.021739130434782608,
          0.021739130434782608,
          0.021739130434782608,
          0.021739130434782608,
          0.021739130434782608,
          0.021739130434782608,
          0.043478260869565216,
          0.043478260869565216,
          0.043478260869565216,
          0.043478260869565216,
          0.06521739130434782,
          0.08695652173913043,
          0.08695652173913043,
          0.08695652173913043,
          0.08695652173913043,
          0.10869565217391304,
          0.10869565217391304,
          0.15217391304347827,
          0.15217391304347827,
          0.17391304347826086,
          0.17391304347826086,
          0.21739130434782608,
          0.21739130434782608,
          0.2391304347826087,
          0.2391304347826087,
          0.30434782608695654,
          0.30434782608695654,
          0.32608695652173914,
          0.32608695652173914,
          0.34782608695652173,
          0.34782608695652173,
          0.3695652173913043,
          0.3695652173913043,
          0.391304347826087,
          0.391304347826087,
          0.5217391304347826,
          0.5217391304347826,
          0.5869565217391305,
          0.5869565217391305,
          0.6086956521739131,
          0.6086956521739131,
          0.6304347826086957,
          0.6304347826086957,
          0.6521739130434783,
          0.6521739130434783,
          0.6739130434782609,
          0.717391304347826,
          0.717391304347826,
          0.7608695652173914,
          0.7608695652173914,
          0.782608695652174,
          0.782608695652174,
          0.8260869565217391,
          0.8260869565217391,
          0.8695652173913043,
          0.8695652173913043,
          0.8913043478260869,
          0.8913043478260869,
          0.9565217391304348,
          0.9565217391304348,
          0.9782608695652174,
          0.9782608695652174,
          1,
          1,
          1,
          1
         ],
         "y": [
          0,
          0.00030807147258163895,
          0.010474430067775724,
          0.011090573012939002,
          0.019408502772643253,
          0.020640788662969808,
          0.02279728897104128,
          0.02341343191620456,
          0.028342575477510783,
          0.02895871842267406,
          0.029574861367837338,
          0.030191004313000615,
          0.036352433764633395,
          0.036968576709796676,
          0.03727664818237831,
          0.03789279112754159,
          0.14849044978434997,
          0.14910659272951324,
          0.1836105976586568,
          0.18484288354898337,
          0.24799753542821934,
          0.2501540357362908,
          0.2711028958718423,
          0.2714109673444239,
          0.31176833025261863,
          0.31300061614294516,
          0.33579790511398644,
          0.503388786198398,
          0.5058533579790512,
          0.562230437461491,
          0.5911891558841651,
          0.5914972273567468,
          0.5927295132470733,
          0.7020948860135552,
          0.7027110289587184,
          0.7033271719038817,
          0.7045594577942083,
          0.7652495378927912,
          0.7664818237831177,
          0.7960566851509551,
          0.7975970425138632,
          0.7988293284041897,
          0.8006777572396796,
          0.8016019716574245,
          0.8083795440542206,
          0.8096118299445472,
          0.8111521873074553,
          0.8117683302526186,
          0.8133086876155268,
          0.8139248305606901,
          0.8145409735058533,
          0.8151571164510166,
          0.8160813308687616,
          0.8166974738139249,
          0.8176216882316697,
          0.818237831176833,
          0.8194701170671596,
          0.8200862600123229,
          0.8231669747381393,
          0.8240911891558842,
          0.8247073321010474,
          0.8256315465187923,
          0.825939617991374,
          0.8265557609365373,
          0.830252618607517,
          0.8314849044978435,
          0.8345656192236599,
          0.8351817621688231,
          0.8376463339494763,
          0.8382624768946395,
          0.8425754775107825,
          0.8431916204559458,
          0.8444239063462723,
          0.8450400492914356,
          0.8536660505237215,
          0.8545902649414664,
          0.8558225508317929,
          0.8564386937769563,
          0.8570548367221196,
          0.8576709796672828,
          0.8579790511398645,
          0.8585951940850277,
          0.8610597658656809,
          0.8616759088108441,
          0.8687615526802218,
          0.8693776956253851,
          0.8715341959334566,
          0.8721503388786198,
          0.8743068391866913,
          0.8749229821318546,
          0.884781269254467,
          0.8853974121996303,
          0.8857054836722119,
          0.8863216266173752,
          0.9063462723351817,
          0.906962415280345,
          0.9081947011706716,
          0.9091189155884165,
          0.9106592729513248,
          0.911275415896488,
          0.9115834873690696,
          0.9121996303142329,
          0.9174368453481208,
          0.9180529882932841,
          0.9186691312384473,
          0.9192852741836106,
          0.922365988909427,
          0.9232902033271719,
          0.9245224892174985,
          0.9251386321626618,
          0.9260628465804066,
          0.9272951324707333,
          0.9279112754158965,
          0.9300677757239679,
          0.9306839186691312,
          0.9328404189772027,
          0.933456561922366,
          0.9451632778804683,
          0.9460874922982132,
          0.9467036352433764,
          0.9467036352433764,
          0.9473197781885397,
          0.9476278496611213,
          0.9482439926062847,
          0.9516327788046827,
          0.952248921749846,
          0.9596426370918053,
          0.9602587800369686,
          0.9624152803450401,
          0.9630314232902033,
          0.966728280961183,
          0.9673444239063462,
          0.967652495378928,
          0.9682686383240912,
          0.9698089956869994,
          0.9698089956869994,
          0.9710412815773259,
          0.9716574245224893,
          0.9728897104128158,
          0.973505853357979,
          0.973505853357979,
          0.9765865680837954,
          0.9772027110289587,
          0.9793592113370302,
          0.9793592113370302,
          0.98120764017252,
          0.98120764017252,
          0.9839802834257547,
          0.9839802834257547,
          0.9852125693160814,
          0.9852125693160814,
          0.9861367837338263,
          0.9861367837338263,
          0.9873690696241528,
          0.9873690696241528,
          0.9876771410967344,
          0.9876771410967344,
          0.9892174984596427,
          0.9892174984596427,
          0.9895255699322243,
          0.9895255699322243,
          0.9901417128773875,
          0.9901417128773875,
          0.9907578558225508,
          0.9907578558225508,
          0.9913739987677141,
          0.9913739987677141,
          0.9916820702402958,
          0.9916820702402958,
          0.9926062846580407,
          0.9926062846580407,
          0.9929143561306223,
          0.9929143561306223,
          0.9932224276032039,
          0.9935304990757856,
          0.9935304990757856,
          0.9947627849661121,
          0.9947627849661121,
          0.9950708564386938,
          0.9950708564386938,
          0.9953789279112755,
          0.9953789279112755,
          0.9956869993838571,
          0.9956869993838571,
          0.9959950708564387,
          0.9959950708564387,
          0.9969192852741836,
          0.9969192852741836,
          0.9972273567467652,
          0.9972273567467652,
          0.9975354282193469,
          0.9975354282193469,
          0.9990757855822551,
          0.9996919285274184,
          1
         ]
        },
        {
         "line": {
          "color": "#984EA3",
          "width": 2
         },
         "mode": "lines",
         "name": "Pangolin         (0.950 [0.9441-0.9566])",
         "type": "scatter",
         "x": [
          0,
          0,
          0,
          0,
          0,
          0,
          0,
          0,
          0,
          0,
          0,
          0,
          0,
          0,
          0,
          0,
          0,
          0,
          0,
          0,
          0,
          0,
          0.0018148820326678765,
          0.0018148820326678765,
          0.0018148820326678765,
          0.0018148820326678765,
          0.0018148820326678765,
          0.0018148820326678765,
          0.0018148820326678765,
          0.0018148820326678765,
          0.0018148820326678765,
          0.0018148820326678765,
          0.0018148820326678765,
          0.0018148820326678765,
          0.0018148820326678765,
          0.0018148820326678765,
          0.0018148820326678765,
          0.0018148820326678765,
          0.0018148820326678765,
          0.0018148820326678765,
          0.0018148820326678765,
          0.0018148820326678765,
          0.0018148820326678765,
          0.0018148820326678765,
          0.0018148820326678765,
          0.0018148820326678765,
          0.0018148820326678765,
          0.0018148820326678765,
          0.0018148820326678765,
          0.0018148820326678765,
          0.0018148820326678765,
          0.0018148820326678765,
          0.0018148820326678765,
          0.003629764065335753,
          0.003629764065335753,
          0.003629764065335753,
          0.003629764065335753,
          0.003629764065335753,
          0.003629764065335753,
          0.0054446460980036296,
          0.0054446460980036296,
          0.0054446460980036296,
          0.0054446460980036296,
          0.0054446460980036296,
          0.0054446460980036296,
          0.0054446460980036296,
          0.009074410163339383,
          0.012704174228675136,
          0.016333938294010888,
          0.018148820326678767,
          0.018148820326678767,
          0.018148820326678767,
          0.019963702359346643,
          0.019963702359346643,
          0.025408348457350273,
          0.032667876588021776,
          0.039927404718693285,
          0.043557168784029036,
          0.04900181488203267,
          0.0544464609800363,
          0.06533575317604355,
          0.0780399274047187,
          0.0998185117967332,
          0.132486388384755,
          0.17967332123411978,
          0.2395644283121597,
          0.3393829401088929,
          0.5970961887477314,
          1
         ],
         "y": [
          0,
          0.00028968713789107763,
          0.004634994206257242,
          0.021147161066048668,
          0.058516801853997685,
          0.11993047508690614,
          0.20162224797219003,
          0.28041714947856317,
          0.3473348783314021,
          0.40382387022016225,
          0.45712630359212053,
          0.49652375434530704,
          0.52954808806489,
          0.5588064889918888,
          0.5822711471610661,
          0.6028389339513326,
          0.6181923522595597,
          0.6347045191193511,
          0.6497682502896871,
          0.6628041714947857,
          0.679316338354577,
          0.6911935110081112,
          0.7019119351100811,
          0.7132097334878331,
          0.7227694090382387,
          0.7311703360370799,
          0.7384125144843569,
          0.7471031286210892,
          0.7543453070683661,
          0.7586906141367323,
          0.764774044032445,
          0.7705677867902665,
          0.7754924681344149,
          0.7821552723059096,
          0.7867902665121669,
          0.7920046349942063,
          0.7951911935110081,
          0.8006952491309386,
          0.8030127462340672,
          0.8061993047508691,
          0.8146002317497103,
          0.8195249130938587,
          0.8227114716106605,
          0.8241599073001159,
          0.8267670915411356,
          0.8302433371958285,
          0.8331402085747392,
          0.8366164542294322,
          0.8383545770567786,
          0.8409617612977984,
          0.8444380069524913,
          0.84675550405562,
          0.8482039397450754,
          0.8499420625724218,
          0.854577056778679,
          0.8571842410196987,
          0.8595017381228274,
          0.8603707995365005,
          0.8626882966396292,
          0.8652954808806489,
          0.8667439165701043,
          0.8670336037079953,
          0.8716685979142526,
          0.8734067207415991,
          0.8754345307068366,
          0.8800695249130939,
          0.8820973348783314,
          0.8849942062572422,
          0.8890498261877172,
          0.8907879490150638,
          0.8922363847045192,
          0.8939745075318656,
          0.895422943221321,
          0.8980301274623407,
          0.8994785631517961,
          0.9009269988412515,
          0.902954808806489,
          0.9041135573580533,
          0.9075898030127463,
          0.9096176129779838,
          0.910486674391657,
          0.9148319814600232,
          0.9171494785631518,
          0.9209154113557358,
          0.9264194669756662,
          0.9319235225955967,
          0.9382966396292005,
          0.955388180764774,
          1
         ]
        },
        {
         "line": {
          "color": "#FF7F00",
          "width": 2
         },
         "mode": "lines",
         "name": "Squirls            (0.984 [0.9810-0.9872])",
         "type": "scatter",
         "x": [
          0,
          0,
          0,
          0,
          0,
          0,
          0,
          0,
          0,
          0,
          0,
          0,
          0,
          0,
          0,
          0,
          0,
          0,
          0,
          0,
          0,
          0,
          0,
          0,
          0,
          0,
          0,
          0,
          0,
          0,
          0,
          0,
          0,
          0,
          0,
          0,
          0,
          0,
          0,
          0,
          0,
          0,
          0,
          0,
          0,
          0,
          0,
          0,
          0,
          0,
          0,
          0,
          0,
          0,
          0,
          0,
          0,
          0,
          0,
          0,
          0,
          0,
          0,
          0,
          0,
          0,
          0,
          0,
          0,
          0,
          0,
          0,
          0,
          0,
          0,
          0,
          0,
          0,
          0,
          0,
          0,
          0,
          0,
          0,
          0,
          0,
          0,
          0,
          0,
          0,
          0,
          0,
          0,
          0,
          0,
          0,
          0,
          0,
          0,
          0,
          0,
          0,
          0,
          0,
          0,
          0,
          0,
          0,
          0,
          0,
          0,
          0,
          0,
          0,
          0,
          0,
          0,
          0,
          0,
          0,
          0,
          0,
          0,
          0,
          0,
          0,
          0,
          0,
          0,
          0,
          0,
          0,
          0,
          0,
          0,
          0,
          0,
          0,
          0,
          0,
          0,
          0,
          0,
          0,
          0,
          0,
          0,
          0.0018148820326678765,
          0.0018148820326678765,
          0.0018148820326678765,
          0.0018148820326678765,
          0.0018148820326678765,
          0.0018148820326678765,
          0.0018148820326678765,
          0.0018148820326678765,
          0.0018148820326678765,
          0.0018148820326678765,
          0.0018148820326678765,
          0.0018148820326678765,
          0.003629764065335753,
          0.003629764065335753,
          0.003629764065335753,
          0.003629764065335753,
          0.003629764065335753,
          0.003629764065335753,
          0.003629764065335753,
          0.003629764065335753,
          0.003629764065335753,
          0.003629764065335753,
          0.003629764065335753,
          0.003629764065335753,
          0.003629764065335753,
          0.003629764065335753,
          0.003629764065335753,
          0.003629764065335753,
          0.003629764065335753,
          0.003629764065335753,
          0.003629764065335753,
          0.003629764065335753,
          0.003629764065335753,
          0.003629764065335753,
          0.003629764065335753,
          0.003629764065335753,
          0.003629764065335753,
          0.003629764065335753,
          0.003629764065335753,
          0.0054446460980036296,
          0.0054446460980036296,
          0.0054446460980036296,
          0.0054446460980036296,
          0.007259528130671506,
          0.007259528130671506,
          0.007259528130671506,
          0.007259528130671506,
          0.007259528130671506,
          0.007259528130671506,
          0.007259528130671506,
          0.009074410163339383,
          0.009074410163339383,
          0.009074410163339383,
          0.009074410163339383,
          0.010889292196007259,
          0.010889292196007259,
          0.010889292196007259,
          0.010889292196007259,
          0.010889292196007259,
          0.010889292196007259,
          0.010889292196007259,
          0.010889292196007259,
          0.010889292196007259,
          0.010889292196007259,
          0.010889292196007259,
          0.014519056261343012,
          0.014519056261343012,
          0.016333938294010888,
          0.018148820326678767,
          0.021778584392014518,
          0.02722323049001815,
          0.02722323049001815,
          0.030852994555353903,
          0.032667876588021776,
          0.034482758620689655,
          0.041742286751361164,
          0.045372050816696916,
          0.05807622504537205,
          0.06170598911070781,
          0.06896551724137931,
          0.08348457350272233,
          0.09800362976406533,
          0.10526315789473684,
          0.12522686025408347,
          0.12885662431941924,
          0.12885662431941924,
          0.132486388384755,
          0.132486388384755,
          0.13793103448275862,
          0.13793103448275862,
          0.1397459165154265,
          0.1397459165154265,
          0.14519056261343014,
          0.14519056261343014,
          0.15063520871143377,
          0.15063520871143377,
          0.15789473684210525,
          0.15789473684210525,
          0.16333938294010888,
          0.16333938294010888,
          0.1724137931034483,
          0.1724137931034483,
          0.18148820326678766,
          0.18148820326678766,
          0.18874773139745918,
          0.18874773139745918,
          0.19056261343012704,
          0.19419237749546278,
          0.20326678765880218,
          0.20508166969147004,
          0.21052631578947367,
          0.21052631578947367,
          0.21415607985480944,
          0.2177858439201452,
          0.2177858439201452,
          0.22141560798548093,
          0.22686025408348456,
          0.22686025408348456,
          0.23049001814882034,
          0.23411978221415608,
          0.2395644283121597,
          0.24319419237749546,
          0.24682395644283123,
          0.2540834845735027,
          0.2540834845735027,
          0.2558983666061706,
          0.2595281306715064,
          0.26497277676951,
          0.26860254083484575,
          0.2813067150635209,
          0.2813067150635209,
          0.2885662431941924,
          0.2885662431941924,
          0.29038112522686027,
          0.29038112522686027,
          0.29219600725952816,
          0.29219600725952816,
          0.294010889292196,
          0.294010889292196,
          0.2958257713248639,
          0.2958257713248639,
          0.30127041742286753,
          0.30127041742286753,
          0.3030852994555354,
          0.3030852994555354,
          0.3103448275862069,
          0.3103448275862069,
          0.3121597096188748,
          0.3121597096188748,
          0.3157894736842105,
          0.3157894736842105,
          0.3176043557168784,
          0.3176043557168784,
          0.3194192377495463,
          0.3194192377495463,
          0.32123411978221417,
          0.32123411978221417,
          0.3248638838475499,
          0.3248638838475499,
          0.32667876588021777,
          0.32667876588021777,
          0.33212341197822143,
          0.3339382940108893,
          0.3339382940108893,
          0.33575317604355714,
          0.35390199637023595,
          0.35390199637023595,
          0.3647912885662432,
          0.3647912885662432,
          0.3666061705989111,
          0.3702359346642468,
          0.3738656987295826,
          0.3738656987295826,
          0.3793103448275862,
          0.3793103448275862,
          0.38294010889292196,
          0.38475499092558985,
          0.38475499092558985,
          0.38838475499092556,
          0.4029038112522686,
          0.4047186932849365,
          0.4047186932849365,
          0.41742286751361163,
          0.41742286751361163,
          0.4192377495462795,
          0.4192377495462795,
          0.426497277676951,
          0.4301270417422868,
          0.4337568058076225,
          0.43738656987295826,
          0.43920145190562615,
          0.43920145190562615,
          0.455535390199637,
          0.4573502722323049,
          0.4591651542649728,
          0.4591651542649728,
          0.46098003629764067,
          0.46098003629764067,
          0.4627949183303085,
          0.4664246823956443,
          0.4664246823956443,
          0.47005444646098005,
          0.47005444646098005,
          0.47368421052631576,
          0.47368421052631576,
          0.47731397459165154,
          0.47731397459165154,
          0.484573502722323,
          0.4900181488203267,
          0.5009074410163339,
          0.5009074410163339,
          0.5027223230490018,
          0.5027223230490018,
          0.5136116152450091,
          0.5136116152450091,
          0.5335753176043557,
          0.5335753176043557,
          0.5372050816696915,
          0.5372050816696915,
          0.5390199637023594,
          0.5390199637023594,
          0.542649727767695,
          0.5462794918330308,
          0.5462794918330308,
          0.5480943738656987,
          0.5480943738656987,
          0.5517241379310345,
          0.5535390199637024,
          0.5535390199637024,
          0.5607985480943739,
          0.5607985480943739,
          0.5626134301270418,
          0.5626134301270418,
          0.5644283121597096,
          0.5644283121597096,
          0.5662431941923775,
          0.573502722323049,
          0.573502722323049,
          0.5753176043557169,
          0.5753176043557169,
          0.5862068965517241,
          0.5862068965517241,
          0.5916515426497277,
          0.5916515426497277,
          0.5934664246823956,
          0.5970961887477314,
          0.6025408348457351,
          0.6279491833030852,
          0.631578947368421,
          0.6352087114337568,
          0.6388384754990926,
          0.6551724137931034,
          0.6551724137931034,
          0.6678765880217786,
          0.6696914700544465,
          0.6733212341197822,
          0.6823956442831216,
          0.6823956442831216,
          0.6842105263157895,
          0.6842105263157895,
          0.7005444646098004,
          0.7041742286751361,
          0.7150635208711433,
          0.7150635208711433,
          0.7223230490018149,
          0.7259528130671506,
          0.7313974591651543,
          0.73502722323049,
          0.7386569872958257,
          0.7386569872958257,
          0.7459165154264973,
          0.7495462794918331,
          0.7604355716878403,
          0.7604355716878403,
          0.764065335753176,
          0.7676950998185118,
          0.7695099818511797,
          0.7695099818511797,
          0.7876588021778584,
          0.7876588021778584,
          0.8021778584392014,
          0.8058076225045372,
          0.8076225045372051,
          0.8076225045372051,
          0.809437386569873,
          0.8112522686025408,
          0.8148820326678766,
          0.8257713248638838,
          0.8366606170598911,
          0.8402903811252269,
          0.8457350272232305,
          0.8475499092558983,
          0.8511796733212341,
          0.852994555353902,
          0.8566243194192378,
          0.8638838475499092,
          0.8656987295825771,
          0.8693284936479129,
          0.8711433756805808,
          0.8747731397459165,
          0.8784029038112523,
          0.8820326678765881,
          0.896551724137931,
          0.9001814882032668,
          0.9019963702359347,
          0.9056261343012704,
          0.9092558983666061,
          0.9128856624319419,
          0.9183303085299456,
          0.9219600725952813,
          0.925589836660617,
          0.9310344827586207,
          0.9328493647912885,
          0.9382940108892922,
          0.9455535390199638,
          0.9491833030852994,
          0.956442831215971,
          0.9637023593466425,
          0.969147005444646,
          0.9764065335753176,
          0.9836660617059891,
          0.9872958257713249,
          0.9909255898366606,
          0.9963702359346642,
          1
         ],
         "y": [
          0,
          0.02433371958285052,
          0.03447276940903824,
          0.04200463499420626,
          0.05040556199304751,
          0.05706836616454229,
          0.06720741599073002,
          0.08487833140208574,
          0.10457705677867903,
          0.126882966396292,
          0.15005793742757823,
          0.16801853997682503,
          0.18453070683661646,
          0.1981460023174971,
          0.21958285052143686,
          0.2473928157589803,
          0.28070683661645424,
          0.3093858632676709,
          0.3328505214368482,
          0.35979142526071844,
          0.38180764774044035,
          0.39831981460023175,
          0.4133835457705678,
          0.4275782155272306,
          0.4406141367323291,
          0.4608922363847045,
          0.4753765932792584,
          0.4884125144843569,
          0.503476245654693,
          0.5191193511008111,
          0.5312862108922364,
          0.5396871378910776,
          0.5506952491309386,
          0.5573580533024334,
          0.5721320973348784,
          0.5802433371958285,
          0.5903823870220162,
          0.6060254924681344,
          0.615874855156431,
          0.6265932792584009,
          0.6332560834298957,
          0.6410776361529548,
          0.6506373117033604,
          0.6587485515643106,
          0.6677288528389339,
          0.6790266512166859,
          0.6900347624565469,
          0.6984356894553881,
          0.7065469293163383,
          0.716396292004635,
          0.7224797219003476,
          0.7279837775202781,
          0.7311703360370799,
          0.7366743916570104,
          0.7398609501738123,
          0.7468134414831982,
          0.7505793742757821,
          0.7546349942062572,
          0.757531865585168,
          0.7653534183082271,
          0.7711471610660486,
          0.7734646581691773,
          0.7772305909617613,
          0.779837775202781,
          0.7838933951332561,
          0.7891077636152954,
          0.7899768250289687,
          0.7940324449594438,
          0.7969293163383546,
          0.8001158748551565,
          0.802143684820394,
          0.802433371958285,
          0.8044611819235226,
          0.805619930475087,
          0.8108342989571263,
          0.8119930475086906,
          0.8148899188876014,
          0.8157589803012746,
          0.8160486674391657,
          0.816917728852839,
          0.81720741599073,
          0.8189455388180765,
          0.8203939745075318,
          0.8212630359212051,
          0.8224217844727694,
          0.8232908458864426,
          0.8238702201622248,
          0.8241599073001159,
          0.8253186558516802,
          0.8261877172653534,
          0.8273464658169177,
          0.8276361529548089,
          0.828215527230591,
          0.828505214368482,
          0.8290845886442642,
          0.8293742757821553,
          0.8311123986095017,
          0.8322711471610661,
          0.8334298957126304,
          0.8337195828505214,
          0.8354577056778679,
          0.8363267670915412,
          0.8374855156431055,
          0.8377752027809965,
          0.8386442641946698,
          0.839513325608343,
          0.8409617612977984,
          0.8418308227114716,
          0.8424101969872537,
          0.843279258400927,
          0.8438586326767091,
          0.8450173812282734,
          0.8455967555040557,
          0.8464658169177288,
          0.847045191193511,
          0.8473348783314021,
          0.8482039397450754,
          0.8493626882966396,
          0.8499420625724218,
          0.8511008111239861,
          0.8516801853997682,
          0.8525492468134415,
          0.8531286210892236,
          0.8537079953650057,
          0.854287369640788,
          0.8551564310544612,
          0.8560254924681344,
          0.8566048667439166,
          0.858053302433372,
          0.8592120509849362,
          0.8615295480880649,
          0.8623986095017381,
          0.8626882966396292,
          0.8632676709154113,
          0.8652954808806489,
          0.865874855156431,
          0.8664542294322132,
          0.8673232908458864,
          0.8687717265353418,
          0.869351100811124,
          0.876882966396292,
          0.8774623406720742,
          0.8783314020857474,
          0.8789107763615296,
          0.8815179606025493,
          0.8823870220162224,
          0.8835457705677868,
          0.8838354577056778,
          0.8876013904982619,
          0.8881807647740441,
          0.8899188876013905,
          0.8904982618771726,
          0.8931054461181923,
          0.8942641946697567,
          0.8960023174971031,
          0.8965816917728853,
          0.8994785631517961,
          0.9006373117033604,
          0.9015063731170336,
          0.9015063731170336,
          0.9026651216685979,
          0.9035341830822712,
          0.9038238702201622,
          0.9044032444959443,
          0.906720741599073,
          0.9078794901506373,
          0.9084588644264194,
          0.9116454229432214,
          0.9128041714947857,
          0.9145422943221321,
          0.9151216685979142,
          0.9157010428736964,
          0.9162804171494786,
          0.9174391657010429,
          0.918018539976825,
          0.9188876013904983,
          0.9194669756662804,
          0.9200463499420626,
          0.9206257242178447,
          0.9209154113557358,
          0.9220741599073001,
          0.9223638470451911,
          0.9229432213209734,
          0.9232329084588644,
          0.9241019698725377,
          0.9275782155272306,
          0.9278679026651216,
          0.9284472769409038,
          0.9287369640787949,
          0.9298957126303592,
          0.9301853997682503,
          0.9307647740440325,
          0.9313441483198146,
          0.9322132097334879,
          0.93279258400927,
          0.9336616454229433,
          0.9342410196987254,
          0.9348203939745076,
          0.9359791425260718,
          0.9377172653534183,
          0.9400347624565469,
          0.9400347624565469,
          0.9409038238702202,
          0.9417728852838934,
          0.9423522595596755,
          0.9429316338354577,
          0.9438006952491309,
          0.944090382387022,
          0.9452491309385863,
          0.9461181923522596,
          0.9466975666280417,
          0.9469872537659328,
          0.9472769409038239,
          0.947856315179606,
          0.9484356894553881,
          0.9493047508690614,
          0.9498841251448435,
          0.9504634994206257,
          0.9507531865585168,
          0.9510428736964078,
          0.951332560834299,
          0.9519119351100811,
          0.9524913093858632,
          0.9533603707995365,
          0.9550984936268829,
          0.9559675550405562,
          0.9565469293163383,
          0.9582850521436849,
          0.9597334878331402,
          0.9629200463499421,
          0.9649478563151797,
          0.9649478563151797,
          0.9655272305909618,
          0.9655272305909618,
          0.9658169177288528,
          0.9658169177288528,
          0.9669756662804172,
          0.9669756662804172,
          0.9672653534183082,
          0.9672653534183082,
          0.9675550405561993,
          0.9675550405561993,
          0.9678447276940904,
          0.9678447276940904,
          0.9681344148319815,
          0.9681344148319815,
          0.9684241019698725,
          0.9684241019698725,
          0.9690034762456546,
          0.9690034762456546,
          0.9695828505214369,
          0.9695828505214369,
          0.9698725376593279,
          0.9698725376593279,
          0.9698725376593279,
          0.9698725376593279,
          0.970162224797219,
          0.970162224797219,
          0.97045191193511,
          0.9707415990730012,
          0.9707415990730012,
          0.9710312862108922,
          0.9710312862108922,
          0.9710312862108922,
          0.9713209733487833,
          0.9713209733487833,
          0.9713209733487833,
          0.9713209733487833,
          0.9713209733487833,
          0.9716106604866744,
          0.9716106604866744,
          0.9719003476245655,
          0.9719003476245655,
          0.9719003476245655,
          0.9719003476245655,
          0.9719003476245655,
          0.9719003476245655,
          0.9724797219003476,
          0.9724797219003476,
          0.9730590961761297,
          0.9730590961761297,
          0.973928157589803,
          0.973928157589803,
          0.9742178447276941,
          0.9742178447276941,
          0.9745075318655851,
          0.9747972190034763,
          0.9750869061413673,
          0.9750869061413673,
          0.9756662804171495,
          0.9756662804171495,
          0.9771147161066048,
          0.9771147161066048,
          0.977694090382387,
          0.977694090382387,
          0.9785631517960602,
          0.9785631517960602,
          0.9788528389339514,
          0.9788528389339514,
          0.9794322132097335,
          0.9797219003476245,
          0.9800115874855156,
          0.9800115874855156,
          0.9803012746234068,
          0.9803012746234068,
          0.9805909617612978,
          0.9805909617612978,
          0.9808806488991889,
          0.9808806488991889,
          0.9811703360370799,
          0.981460023174971,
          0.9817497103128621,
          0.9817497103128621,
          0.9820393974507532,
          0.9820393974507532,
          0.9823290845886443,
          0.9823290845886443,
          0.9823290845886443,
          0.9823290845886443,
          0.9826187717265353,
          0.9826187717265353,
          0.9829084588644265,
          0.9829084588644265,
          0.9829084588644265,
          0.9831981460023175,
          0.9837775202780996,
          0.9837775202780996,
          0.9840672074159907,
          0.9843568945538818,
          0.9843568945538818,
          0.9846465816917729,
          0.9846465816917729,
          0.984936268829664,
          0.984936268829664,
          0.984936268829664,
          0.984936268829664,
          0.984936268829664,
          0.984936268829664,
          0.985225955967555,
          0.985225955967555,
          0.9855156431054461,
          0.9855156431054461,
          0.9858053302433372,
          0.9858053302433372,
          0.9860950173812283,
          0.9860950173812283,
          0.9860950173812283,
          0.9863847045191193,
          0.9863847045191193,
          0.9866743916570104,
          0.9866743916570104,
          0.9869640787949016,
          0.9869640787949016,
          0.9872537659327926,
          0.9872537659327926,
          0.9872537659327926,
          0.9872537659327926,
          0.9875434530706837,
          0.9875434530706837,
          0.9884125144843569,
          0.9884125144843569,
          0.988702201622248,
          0.988702201622248,
          0.9895712630359212,
          0.9895712630359212,
          0.9898609501738123,
          0.9898609501738123,
          0.9907300115874855,
          0.9907300115874855,
          0.9907300115874855,
          0.9910196987253765,
          0.9910196987253765,
          0.9918887601390498,
          0.9918887601390498,
          0.9921784472769409,
          0.9927578215527231,
          0.9927578215527231,
          0.9933371958285052,
          0.9933371958285052,
          0.9936268829663963,
          0.9936268829663963,
          0.9942062572421785,
          0.9944959443800695,
          0.9944959443800695,
          0.9947856315179606,
          0.9947856315179606,
          0.9950753186558516,
          0.9950753186558516,
          0.9953650057937428,
          0.9953650057937428,
          0.9956546929316339,
          0.9956546929316339,
          0.9956546929316339,
          0.9956546929316339,
          0.9956546929316339,
          0.9956546929316339,
          0.9956546929316339,
          0.9956546929316339,
          0.9956546929316339,
          0.996234067207416,
          0.996234067207416,
          0.996523754345307,
          0.996523754345307,
          0.996523754345307,
          0.9968134414831982,
          0.9968134414831982,
          0.9971031286210892,
          0.9971031286210892,
          0.9971031286210892,
          0.9971031286210892,
          0.9973928157589803,
          0.9973928157589803,
          0.9973928157589803,
          0.9973928157589803,
          0.9973928157589803,
          0.9973928157589803,
          0.9976825028968713,
          0.9976825028968713,
          0.9976825028968713,
          0.9976825028968713,
          0.9979721900347625,
          0.9979721900347625,
          0.9979721900347625,
          0.9979721900347625,
          0.9982618771726536,
          0.9982618771726536,
          0.9985515643105446,
          0.9985515643105446,
          0.9985515643105446,
          0.9985515643105446,
          0.9988412514484357,
          0.9991309385863267,
          0.9991309385863267,
          0.9991309385863267,
          0.9991309385863267,
          0.9991309385863267,
          0.9991309385863267,
          0.9991309385863267,
          0.9991309385863267,
          0.9991309385863267,
          0.9994206257242179,
          0.9994206257242179,
          0.9994206257242179,
          0.9994206257242179,
          0.9994206257242179,
          0.9997103128621089,
          0.9997103128621089,
          0.9997103128621089,
          0.9997103128621089,
          0.9997103128621089,
          0.9997103128621089,
          1,
          1,
          1,
          1,
          1,
          1,
          1,
          1,
          1,
          1,
          1,
          1,
          1,
          1,
          1,
          1,
          1,
          1,
          1,
          1,
          1
         ]
        },
        {
         "line": {
          "color": "gray",
          "dash": "dash",
          "width": 2
         },
         "mode": "lines",
         "name": "Chance",
         "showlegend": false,
         "type": "scatter",
         "x": [
          0,
          1
         ],
         "y": [
          0,
          1
         ]
        },
        {
         "line": {
          "color": "#E41A1C",
          "width": 2
         },
         "mode": "lines",
         "name": "Framework      (0.993 [0.9907-0.9948])",
         "showlegend": false,
         "type": "scatter",
         "x": [
          0,
          0,
          0,
          0,
          0,
          0,
          0,
          0,
          0,
          0,
          0,
          0.016333938294010888,
          0.016333938294010888,
          0.043557168784029036,
          0.2558983666061706,
          0.6987295825771325,
          0.7132486388384754,
          0.8021778584392014,
          1
         ],
         "y": [
          0,
          0.1477404403244496,
          0.1581691772885284,
          0.33053302433371956,
          0.39745075318655854,
          0.4461181923522596,
          0.5246234067207416,
          0.5266512166859791,
          0.6903244495944381,
          0.7059675550405562,
          0.8426998841251448,
          0.9690034762456546,
          0.9756662804171495,
          0.9817497103128621,
          0.9927578215527231,
          0.9973928157589803,
          0.9979721900347625,
          0.9991309385863267,
          1
         ]
        }
       ],
       "layout": {
        "height": 480,
        "legend": {
         "bgcolor": "rgba(243, 243, 243, 1)",
         "font": {
          "color": "black",
          "family": "Arial, sans-serif",
          "size": 12
         },
         "title": {
          "text": "Prediction methods (AUC [95%CI])"
         },
         "x": 0.925,
         "xanchor": "right",
         "y": 0.09,
         "yanchor": "bottom"
        },
        "margin": {
         "b": 40,
         "l": 40,
         "r": 40,
         "t": 40
        },
        "paper_bgcolor": "rgba(243, 243, 243, 0)",
        "plot_bgcolor": "rgba(243, 243, 243, 1)",
        "template": {
         "data": {
          "bar": [
           {
            "error_x": {
             "color": "#2a3f5f"
            },
            "error_y": {
             "color": "#2a3f5f"
            },
            "marker": {
             "line": {
              "color": "#E5ECF6",
              "width": 0.5
             },
             "pattern": {
              "fillmode": "overlay",
              "size": 10,
              "solidity": 0.2
             }
            },
            "type": "bar"
           }
          ],
          "barpolar": [
           {
            "marker": {
             "line": {
              "color": "#E5ECF6",
              "width": 0.5
             },
             "pattern": {
              "fillmode": "overlay",
              "size": 10,
              "solidity": 0.2
             }
            },
            "type": "barpolar"
           }
          ],
          "carpet": [
           {
            "aaxis": {
             "endlinecolor": "#2a3f5f",
             "gridcolor": "white",
             "linecolor": "white",
             "minorgridcolor": "white",
             "startlinecolor": "#2a3f5f"
            },
            "baxis": {
             "endlinecolor": "#2a3f5f",
             "gridcolor": "white",
             "linecolor": "white",
             "minorgridcolor": "white",
             "startlinecolor": "#2a3f5f"
            },
            "type": "carpet"
           }
          ],
          "choropleth": [
           {
            "colorbar": {
             "outlinewidth": 0,
             "ticks": ""
            },
            "type": "choropleth"
           }
          ],
          "contour": [
           {
            "colorbar": {
             "outlinewidth": 0,
             "ticks": ""
            },
            "colorscale": [
             [
              0,
              "#0d0887"
             ],
             [
              0.1111111111111111,
              "#46039f"
             ],
             [
              0.2222222222222222,
              "#7201a8"
             ],
             [
              0.3333333333333333,
              "#9c179e"
             ],
             [
              0.4444444444444444,
              "#bd3786"
             ],
             [
              0.5555555555555556,
              "#d8576b"
             ],
             [
              0.6666666666666666,
              "#ed7953"
             ],
             [
              0.7777777777777778,
              "#fb9f3a"
             ],
             [
              0.8888888888888888,
              "#fdca26"
             ],
             [
              1,
              "#f0f921"
             ]
            ],
            "type": "contour"
           }
          ],
          "contourcarpet": [
           {
            "colorbar": {
             "outlinewidth": 0,
             "ticks": ""
            },
            "type": "contourcarpet"
           }
          ],
          "heatmap": [
           {
            "colorbar": {
             "outlinewidth": 0,
             "ticks": ""
            },
            "colorscale": [
             [
              0,
              "#0d0887"
             ],
             [
              0.1111111111111111,
              "#46039f"
             ],
             [
              0.2222222222222222,
              "#7201a8"
             ],
             [
              0.3333333333333333,
              "#9c179e"
             ],
             [
              0.4444444444444444,
              "#bd3786"
             ],
             [
              0.5555555555555556,
              "#d8576b"
             ],
             [
              0.6666666666666666,
              "#ed7953"
             ],
             [
              0.7777777777777778,
              "#fb9f3a"
             ],
             [
              0.8888888888888888,
              "#fdca26"
             ],
             [
              1,
              "#f0f921"
             ]
            ],
            "type": "heatmap"
           }
          ],
          "heatmapgl": [
           {
            "colorbar": {
             "outlinewidth": 0,
             "ticks": ""
            },
            "colorscale": [
             [
              0,
              "#0d0887"
             ],
             [
              0.1111111111111111,
              "#46039f"
             ],
             [
              0.2222222222222222,
              "#7201a8"
             ],
             [
              0.3333333333333333,
              "#9c179e"
             ],
             [
              0.4444444444444444,
              "#bd3786"
             ],
             [
              0.5555555555555556,
              "#d8576b"
             ],
             [
              0.6666666666666666,
              "#ed7953"
             ],
             [
              0.7777777777777778,
              "#fb9f3a"
             ],
             [
              0.8888888888888888,
              "#fdca26"
             ],
             [
              1,
              "#f0f921"
             ]
            ],
            "type": "heatmapgl"
           }
          ],
          "histogram": [
           {
            "marker": {
             "pattern": {
              "fillmode": "overlay",
              "size": 10,
              "solidity": 0.2
             }
            },
            "type": "histogram"
           }
          ],
          "histogram2d": [
           {
            "colorbar": {
             "outlinewidth": 0,
             "ticks": ""
            },
            "colorscale": [
             [
              0,
              "#0d0887"
             ],
             [
              0.1111111111111111,
              "#46039f"
             ],
             [
              0.2222222222222222,
              "#7201a8"
             ],
             [
              0.3333333333333333,
              "#9c179e"
             ],
             [
              0.4444444444444444,
              "#bd3786"
             ],
             [
              0.5555555555555556,
              "#d8576b"
             ],
             [
              0.6666666666666666,
              "#ed7953"
             ],
             [
              0.7777777777777778,
              "#fb9f3a"
             ],
             [
              0.8888888888888888,
              "#fdca26"
             ],
             [
              1,
              "#f0f921"
             ]
            ],
            "type": "histogram2d"
           }
          ],
          "histogram2dcontour": [
           {
            "colorbar": {
             "outlinewidth": 0,
             "ticks": ""
            },
            "colorscale": [
             [
              0,
              "#0d0887"
             ],
             [
              0.1111111111111111,
              "#46039f"
             ],
             [
              0.2222222222222222,
              "#7201a8"
             ],
             [
              0.3333333333333333,
              "#9c179e"
             ],
             [
              0.4444444444444444,
              "#bd3786"
             ],
             [
              0.5555555555555556,
              "#d8576b"
             ],
             [
              0.6666666666666666,
              "#ed7953"
             ],
             [
              0.7777777777777778,
              "#fb9f3a"
             ],
             [
              0.8888888888888888,
              "#fdca26"
             ],
             [
              1,
              "#f0f921"
             ]
            ],
            "type": "histogram2dcontour"
           }
          ],
          "mesh3d": [
           {
            "colorbar": {
             "outlinewidth": 0,
             "ticks": ""
            },
            "type": "mesh3d"
           }
          ],
          "parcoords": [
           {
            "line": {
             "colorbar": {
              "outlinewidth": 0,
              "ticks": ""
             }
            },
            "type": "parcoords"
           }
          ],
          "pie": [
           {
            "automargin": true,
            "type": "pie"
           }
          ],
          "scatter": [
           {
            "fillpattern": {
             "fillmode": "overlay",
             "size": 10,
             "solidity": 0.2
            },
            "type": "scatter"
           }
          ],
          "scatter3d": [
           {
            "line": {
             "colorbar": {
              "outlinewidth": 0,
              "ticks": ""
             }
            },
            "marker": {
             "colorbar": {
              "outlinewidth": 0,
              "ticks": ""
             }
            },
            "type": "scatter3d"
           }
          ],
          "scattercarpet": [
           {
            "marker": {
             "colorbar": {
              "outlinewidth": 0,
              "ticks": ""
             }
            },
            "type": "scattercarpet"
           }
          ],
          "scattergeo": [
           {
            "marker": {
             "colorbar": {
              "outlinewidth": 0,
              "ticks": ""
             }
            },
            "type": "scattergeo"
           }
          ],
          "scattergl": [
           {
            "marker": {
             "colorbar": {
              "outlinewidth": 0,
              "ticks": ""
             }
            },
            "type": "scattergl"
           }
          ],
          "scattermapbox": [
           {
            "marker": {
             "colorbar": {
              "outlinewidth": 0,
              "ticks": ""
             }
            },
            "type": "scattermapbox"
           }
          ],
          "scatterpolar": [
           {
            "marker": {
             "colorbar": {
              "outlinewidth": 0,
              "ticks": ""
             }
            },
            "type": "scatterpolar"
           }
          ],
          "scatterpolargl": [
           {
            "marker": {
             "colorbar": {
              "outlinewidth": 0,
              "ticks": ""
             }
            },
            "type": "scatterpolargl"
           }
          ],
          "scatterternary": [
           {
            "marker": {
             "colorbar": {
              "outlinewidth": 0,
              "ticks": ""
             }
            },
            "type": "scatterternary"
           }
          ],
          "surface": [
           {
            "colorbar": {
             "outlinewidth": 0,
             "ticks": ""
            },
            "colorscale": [
             [
              0,
              "#0d0887"
             ],
             [
              0.1111111111111111,
              "#46039f"
             ],
             [
              0.2222222222222222,
              "#7201a8"
             ],
             [
              0.3333333333333333,
              "#9c179e"
             ],
             [
              0.4444444444444444,
              "#bd3786"
             ],
             [
              0.5555555555555556,
              "#d8576b"
             ],
             [
              0.6666666666666666,
              "#ed7953"
             ],
             [
              0.7777777777777778,
              "#fb9f3a"
             ],
             [
              0.8888888888888888,
              "#fdca26"
             ],
             [
              1,
              "#f0f921"
             ]
            ],
            "type": "surface"
           }
          ],
          "table": [
           {
            "cells": {
             "fill": {
              "color": "#EBF0F8"
             },
             "line": {
              "color": "white"
             }
            },
            "header": {
             "fill": {
              "color": "#C8D4E3"
             },
             "line": {
              "color": "white"
             }
            },
            "type": "table"
           }
          ]
         },
         "layout": {
          "annotationdefaults": {
           "arrowcolor": "#2a3f5f",
           "arrowhead": 0,
           "arrowwidth": 1
          },
          "autotypenumbers": "strict",
          "coloraxis": {
           "colorbar": {
            "outlinewidth": 0,
            "ticks": ""
           }
          },
          "colorscale": {
           "diverging": [
            [
             0,
             "#8e0152"
            ],
            [
             0.1,
             "#c51b7d"
            ],
            [
             0.2,
             "#de77ae"
            ],
            [
             0.3,
             "#f1b6da"
            ],
            [
             0.4,
             "#fde0ef"
            ],
            [
             0.5,
             "#f7f7f7"
            ],
            [
             0.6,
             "#e6f5d0"
            ],
            [
             0.7,
             "#b8e186"
            ],
            [
             0.8,
             "#7fbc41"
            ],
            [
             0.9,
             "#4d9221"
            ],
            [
             1,
             "#276419"
            ]
           ],
           "sequential": [
            [
             0,
             "#0d0887"
            ],
            [
             0.1111111111111111,
             "#46039f"
            ],
            [
             0.2222222222222222,
             "#7201a8"
            ],
            [
             0.3333333333333333,
             "#9c179e"
            ],
            [
             0.4444444444444444,
             "#bd3786"
            ],
            [
             0.5555555555555556,
             "#d8576b"
            ],
            [
             0.6666666666666666,
             "#ed7953"
            ],
            [
             0.7777777777777778,
             "#fb9f3a"
            ],
            [
             0.8888888888888888,
             "#fdca26"
            ],
            [
             1,
             "#f0f921"
            ]
           ],
           "sequentialminus": [
            [
             0,
             "#0d0887"
            ],
            [
             0.1111111111111111,
             "#46039f"
            ],
            [
             0.2222222222222222,
             "#7201a8"
            ],
            [
             0.3333333333333333,
             "#9c179e"
            ],
            [
             0.4444444444444444,
             "#bd3786"
            ],
            [
             0.5555555555555556,
             "#d8576b"
            ],
            [
             0.6666666666666666,
             "#ed7953"
            ],
            [
             0.7777777777777778,
             "#fb9f3a"
            ],
            [
             0.8888888888888888,
             "#fdca26"
            ],
            [
             1,
             "#f0f921"
            ]
           ]
          },
          "colorway": [
           "#636efa",
           "#EF553B",
           "#00cc96",
           "#ab63fa",
           "#FFA15A",
           "#19d3f3",
           "#FF6692",
           "#B6E880",
           "#FF97FF",
           "#FECB52"
          ],
          "font": {
           "color": "#2a3f5f"
          },
          "geo": {
           "bgcolor": "white",
           "lakecolor": "white",
           "landcolor": "#E5ECF6",
           "showlakes": true,
           "showland": true,
           "subunitcolor": "white"
          },
          "hoverlabel": {
           "align": "left"
          },
          "hovermode": "closest",
          "mapbox": {
           "style": "light"
          },
          "paper_bgcolor": "white",
          "plot_bgcolor": "#E5ECF6",
          "polar": {
           "angularaxis": {
            "gridcolor": "white",
            "linecolor": "white",
            "ticks": ""
           },
           "bgcolor": "#E5ECF6",
           "radialaxis": {
            "gridcolor": "white",
            "linecolor": "white",
            "ticks": ""
           }
          },
          "scene": {
           "xaxis": {
            "backgroundcolor": "#E5ECF6",
            "gridcolor": "white",
            "gridwidth": 2,
            "linecolor": "white",
            "showbackground": true,
            "ticks": "",
            "zerolinecolor": "white"
           },
           "yaxis": {
            "backgroundcolor": "#E5ECF6",
            "gridcolor": "white",
            "gridwidth": 2,
            "linecolor": "white",
            "showbackground": true,
            "ticks": "",
            "zerolinecolor": "white"
           },
           "zaxis": {
            "backgroundcolor": "#E5ECF6",
            "gridcolor": "white",
            "gridwidth": 2,
            "linecolor": "white",
            "showbackground": true,
            "ticks": "",
            "zerolinecolor": "white"
           }
          },
          "shapedefaults": {
           "line": {
            "color": "#2a3f5f"
           }
          },
          "ternary": {
           "aaxis": {
            "gridcolor": "white",
            "linecolor": "white",
            "ticks": ""
           },
           "baxis": {
            "gridcolor": "white",
            "linecolor": "white",
            "ticks": ""
           },
           "bgcolor": "#E5ECF6",
           "caxis": {
            "gridcolor": "white",
            "linecolor": "white",
            "ticks": ""
           }
          },
          "title": {
           "x": 0.05
          },
          "xaxis": {
           "automargin": true,
           "gridcolor": "white",
           "linecolor": "white",
           "ticks": "",
           "title": {
            "standoff": 15
           },
           "zerolinecolor": "white",
           "zerolinewidth": 2
          },
          "yaxis": {
           "automargin": true,
           "gridcolor": "white",
           "linecolor": "white",
           "ticks": "",
           "title": {
            "standoff": 15
           },
           "zerolinecolor": "white",
           "zerolinewidth": 2
          }
         }
        },
        "title": {
         "text": "ROC Curve Comparison"
        },
        "width": 480,
        "xaxis": {
         "range": [
          -0.05,
          1.05
         ],
         "tickfont": {
          "size": 16
         },
         "title": {
          "text": "False Positive Rate"
         }
        },
        "yaxis": {
         "range": [
          -0.05,
          1.05
         ],
         "tickfont": {
          "size": 16
         },
         "title": {
          "text": "True Positive Rate"
         }
        }
       }
      }
     },
     "metadata": {},
     "output_type": "display_data"
    }
   ],
   "source": [
    "import plotly.graph_objects as go\n",
    "import numpy as np\n",
    "from sklearn.metrics import roc_curve, roc_auc_score\n",
    "\n",
    "# ROC curve (LABEL, PriorityScore)\n",
    "fpr1, tpr1, thresholds1 = roc_curve(data['LABEL'], data['PriorityScore'])\n",
    "auc1 = roc_auc_score(data['LABEL'], data['PriorityScore'])\n",
    "\n",
    "fpr2, tpr2, thresholds2 = roc_curve(data['LABEL'], data['maxsplai'])\n",
    "auc2 = roc_auc_score(data['LABEL'], data['maxsplai'])\n",
    "\n",
    "fpr3, tpr3, thresholds3 = roc_curve(data2['LABEL'], data2['maxentscan_diff'])\n",
    "auc3 = roc_auc_score(data2['LABEL'], data2['maxentscan_diff'])\n",
    "\n",
    "fpr4, tpr4, thresholds4 = roc_curve(data['LABEL'], data['maxpangolin'])\n",
    "auc4 = roc_auc_score(data['LABEL'], data['maxpangolin'])\n",
    "\n",
    "fpr5, tpr5, thresholds5 = roc_curve(data3['LABEL'], data3['Squirls'])\n",
    "auc5 = roc_auc_score(data3['LABEL'], data3['Squirls'])\n",
    "\n",
    "# Calculate optimal threshold from ROC curve by Youden's J statistic\n",
    "Youden_index = np.argmax(tpr1 - fpr1)\n",
    "optimal_threshold = thresholds1[Youden_index]\n",
    "print('Optimal threshold (using Youden index):', optimal_threshold)\n",
    "\n",
    "youden_maxent = np.argmax(tpr3 - fpr3)\n",
    "optimal_threshold_maxent = thresholds3[youden_maxent]\n",
    "print('Optimal threshold (using Youden index) - MaxEntScan:', optimal_threshold_maxent)\n",
    "youden_pangolin = np.argmax(tpr4 - fpr4)\n",
    "optimal_threshold_pangolin = thresholds4[youden_pangolin]\n",
    "print('Optimal threshold (using Youden index) - Pangolin:', optimal_threshold_pangolin)\n",
    "youden_squirls = np.argmax(tpr5 - fpr5)\n",
    "optimal_threshold_squirls = thresholds5[youden_squirls]\n",
    "print('Optimal threshold (using Youden index) - Squirls:', optimal_threshold_squirls)\n",
    "\n",
    "\n",
    "# plot ROC curve using Plotly\n",
    "fig = go.Figure()\n",
    "\n",
    "# Add traces\n",
    "fig.add_trace(go.Scatter(\n",
    "    x=fpr1, y=tpr1, mode='lines', \n",
    "    name=f\"Framework      ({auc1:.3f} [{cilower1:.4f}-{ciupper1:.4f}])\", \n",
    "    line=dict(color='#E41A1C', width=2))\n",
    "    )\n",
    "fig.add_trace(go.Scatter(\n",
    "    x=fpr2, y=tpr2, mode='lines', \n",
    "    name=f\"SpliceAI Alone ({auc2:.3f} [{cilower2:.4f}-{ciupper2:.4f}])\", \n",
    "    line=dict(color='#377EB8', width=2))\n",
    "    )\n",
    "fig.add_trace(go.Scatter(\n",
    "    x=fpr3, y=tpr3, mode='lines',\n",
    "    name=f\"MaxEntScan   ({auc3:.3f} [{cilower3:.4f}-{ciupper3:.4f}])\",\n",
    "    line=dict(color='#4DAF4A', width=2))\n",
    "    )\n",
    "fig.add_trace(go.Scatter(\n",
    "    x=fpr4, y=tpr4, mode='lines',\n",
    "    name=f\"Pangolin         ({auc4:.3f} [{cilower4:.4f}-{ciupper4:.4f}])\",\n",
    "    line=dict(color='#984EA3', width=2))\n",
    "    )\n",
    "\n",
    "fig.add_trace(go.Scatter(\n",
    "    x=fpr5, y=tpr5, mode='lines',\n",
    "    name=f\"Squirls            ({auc5:.3f} [{cilower5:.4f}-{ciupper5:.4f}])\",\n",
    "    line=dict(color='#FF7F00', width=2))\n",
    "    )\n",
    "\n",
    "fig.add_trace(go.Scatter(\n",
    "    x=[0, 1], y=[0, 1], mode='lines', name='Chance', \n",
    "    line=dict(color='gray', width=2, dash='dash'), showlegend=False)\n",
    "    )\n",
    "\n",
    "# Add an annotation\n",
    "# fig.add_annotation(x=0.6, y=0.05, xref=\"paper\", yref=\"paper\",\n",
    "#                    text=f\"DeLong's test p-value = {10**p_value_log[0][0]:.2e}\",\n",
    "#                    showarrow=False,\n",
    "#                    font=dict(family=\"Arial, sans-serif\", size=12, color=\"black\"),\n",
    "#                    bgcolor='rgba(243, 243, 243, 1)',\n",
    "#                 #    bordercolor=\"black\",\n",
    "#                    borderwidth=2)\n",
    "\n",
    "# Add titles and labels\n",
    "fig.update_layout(title='ROC Curve Comparison',\n",
    "                  xaxis_title='False Positive Rate',\n",
    "                  yaxis_title='True Positive Rate',\n",
    "                  plot_bgcolor='rgba(243, 243, 243, 1)',\n",
    "                  paper_bgcolor='rgba(243, 243, 243, 0)',\n",
    "                  legend_title='Prediction methods (AUC [95%CI])',\n",
    "                  legend=dict(y=0.09, x=0.925, xanchor='right', yanchor='bottom', \n",
    "                              bgcolor='rgba(243, 243, 243, 1)',\n",
    "                              font=dict(family=\"Arial, sans-serif\", size=12, color=\"black\")),\n",
    "                  margin=dict(l=40, r=40, t=40, b=40))\n",
    "\n",
    "fig.update_xaxes(range=[-0.05, 1.05])\n",
    "fig.update_yaxes(range=[-0.05, 1.05])\n",
    "fig.update_layout(width=480, height=480)\n",
    "fig.write_html(\"figs/roc-auc.html\")\n",
    "\n",
    "# Change the font size of axix labels\n",
    "fig.update_xaxes(tickfont=dict(size=16))\n",
    "fig.update_yaxes(tickfont=dict(size=16))\n",
    "\n",
    "# Add zoomed-in ROC curve in the top left corner\n",
    "fig.add_trace(go.Scatter(\n",
    "    x=fpr1, y=tpr1, mode='lines', \n",
    "    name=f\"Framework      ({auc1:.3f} [{cilower1:.4f}-{ciupper1:.4f}])\", \n",
    "    line=dict(color='#E41A1C', width=2), showlegend=False)\n",
    "    )\n",
    "\n",
    "# fig.update_layout(showlegend=False)\n",
    "\n",
    "# Show figure\n",
    "fig.show()\n"
   ]
  },
  {
   "cell_type": "code",
   "execution_count": 49,
   "metadata": {},
   "outputs": [
    {
     "data": {
      "text/plain": [
       "0.15"
      ]
     },
     "execution_count": 49,
     "metadata": {},
     "output_type": "execute_result"
    }
   ],
   "source": [
    "np.round(optimal_threshold_pangolin, 3)\n"
   ]
  },
  {
   "cell_type": "code",
   "execution_count": 110,
   "metadata": {},
   "outputs": [
    {
     "data": {
      "text/plain": [
       "-9.0"
      ]
     },
     "execution_count": 110,
     "metadata": {},
     "output_type": "execute_result"
    }
   ],
   "source": [
    "data['PriorityScore'].min()"
   ]
  },
  {
   "cell_type": "code",
   "execution_count": 25,
   "metadata": {},
   "outputs": [
    {
     "data": {
      "application/vnd.plotly.v1+json": {
       "config": {
        "plotlyServerURL": "https://plot.ly"
       },
       "data": [
        {
         "line": {
          "color": "#1F77B4",
          "width": 2
         },
         "mode": "lines",
         "name": "Sensitivity",
         "type": "scatter",
         "x": [
          -9,
          -8,
          -7,
          -6,
          -5,
          -4,
          -3,
          -2,
          -1,
          0,
          1,
          2,
          3,
          4,
          5,
          6,
          7,
          8,
          9,
          10,
          11,
          12
         ],
         "y": [
          1,
          0.9983582810236601,
          0.9967165620473202,
          0.9967165620473202,
          0.9967165620473202,
          0.9965234186383389,
          0.9906325446644133,
          0.9795267986479962,
          0.9794302269435056,
          0.9794302269435056,
          0.9722839208112023,
          0.9669724770642202,
          0.8397875422501208,
          0.6970545630130371,
          0.6877836793819411,
          0.5267986479961372,
          0.5253500724287784,
          0.44403669724770645,
          0.3945919845485273,
          0.33104780299372283,
          0.1521004345726702,
          0.14640270400772573
         ]
        },
        {
         "line": {
          "color": "#FF7F0E",
          "width": 2
         },
         "mode": "lines",
         "name": "Specificity",
         "type": "scatter",
         "x": [
          -9,
          -8,
          -7,
          -6,
          -5,
          -4,
          -3,
          -2,
          -1,
          0,
          1,
          2,
          3,
          4,
          5,
          6,
          7,
          8,
          9,
          10,
          11,
          12
         ],
         "y": [
          0,
          0.16210780370072406,
          0.24818986323411102,
          0.24818986323411102,
          0.24818986323411102,
          0.2614641995172969,
          0.7369267900241352,
          0.9448913917940467,
          0.9452936444086887,
          0.9452936444086887,
          0.9766693483507642,
          0.9782783588093322,
          0.999597747385358,
          1,
          1,
          1,
          1,
          1,
          1,
          1,
          1,
          1
         ]
        }
       ],
       "layout": {
        "annotations": [
         {
          "bgcolor": "rgba(243, 243, 243, 1)",
          "borderwidth": 2,
          "font": {
           "color": "black",
           "family": "Arial, sans-serif",
           "size": 12
          },
          "showarrow": false,
          "text": "Optimal threshold (Youden index) = 1.00",
          "x": 0.6,
          "xref": "paper",
          "y": 0.05,
          "yref": "paper"
         }
        ],
        "height": 480,
        "legend": {
         "bgcolor": "rgba(243, 243, 243, 1)",
         "font": {
          "color": "black",
          "family": "Arial, sans-serif",
          "size": 12
         },
         "title": {
          "text": "Rate"
         },
         "x": 0.925,
         "xanchor": "right",
         "y": 0.09,
         "yanchor": "bottom"
        },
        "margin": {
         "b": 40,
         "l": 40,
         "r": 40,
         "t": 40
        },
        "paper_bgcolor": "rgba(243, 243, 243, 0)",
        "plot_bgcolor": "rgba(243, 243, 243, 1)",
        "showlegend": false,
        "template": {
         "data": {
          "bar": [
           {
            "error_x": {
             "color": "#2a3f5f"
            },
            "error_y": {
             "color": "#2a3f5f"
            },
            "marker": {
             "line": {
              "color": "#E5ECF6",
              "width": 0.5
             },
             "pattern": {
              "fillmode": "overlay",
              "size": 10,
              "solidity": 0.2
             }
            },
            "type": "bar"
           }
          ],
          "barpolar": [
           {
            "marker": {
             "line": {
              "color": "#E5ECF6",
              "width": 0.5
             },
             "pattern": {
              "fillmode": "overlay",
              "size": 10,
              "solidity": 0.2
             }
            },
            "type": "barpolar"
           }
          ],
          "carpet": [
           {
            "aaxis": {
             "endlinecolor": "#2a3f5f",
             "gridcolor": "white",
             "linecolor": "white",
             "minorgridcolor": "white",
             "startlinecolor": "#2a3f5f"
            },
            "baxis": {
             "endlinecolor": "#2a3f5f",
             "gridcolor": "white",
             "linecolor": "white",
             "minorgridcolor": "white",
             "startlinecolor": "#2a3f5f"
            },
            "type": "carpet"
           }
          ],
          "choropleth": [
           {
            "colorbar": {
             "outlinewidth": 0,
             "ticks": ""
            },
            "type": "choropleth"
           }
          ],
          "contour": [
           {
            "colorbar": {
             "outlinewidth": 0,
             "ticks": ""
            },
            "colorscale": [
             [
              0,
              "#0d0887"
             ],
             [
              0.1111111111111111,
              "#46039f"
             ],
             [
              0.2222222222222222,
              "#7201a8"
             ],
             [
              0.3333333333333333,
              "#9c179e"
             ],
             [
              0.4444444444444444,
              "#bd3786"
             ],
             [
              0.5555555555555556,
              "#d8576b"
             ],
             [
              0.6666666666666666,
              "#ed7953"
             ],
             [
              0.7777777777777778,
              "#fb9f3a"
             ],
             [
              0.8888888888888888,
              "#fdca26"
             ],
             [
              1,
              "#f0f921"
             ]
            ],
            "type": "contour"
           }
          ],
          "contourcarpet": [
           {
            "colorbar": {
             "outlinewidth": 0,
             "ticks": ""
            },
            "type": "contourcarpet"
           }
          ],
          "heatmap": [
           {
            "colorbar": {
             "outlinewidth": 0,
             "ticks": ""
            },
            "colorscale": [
             [
              0,
              "#0d0887"
             ],
             [
              0.1111111111111111,
              "#46039f"
             ],
             [
              0.2222222222222222,
              "#7201a8"
             ],
             [
              0.3333333333333333,
              "#9c179e"
             ],
             [
              0.4444444444444444,
              "#bd3786"
             ],
             [
              0.5555555555555556,
              "#d8576b"
             ],
             [
              0.6666666666666666,
              "#ed7953"
             ],
             [
              0.7777777777777778,
              "#fb9f3a"
             ],
             [
              0.8888888888888888,
              "#fdca26"
             ],
             [
              1,
              "#f0f921"
             ]
            ],
            "type": "heatmap"
           }
          ],
          "heatmapgl": [
           {
            "colorbar": {
             "outlinewidth": 0,
             "ticks": ""
            },
            "colorscale": [
             [
              0,
              "#0d0887"
             ],
             [
              0.1111111111111111,
              "#46039f"
             ],
             [
              0.2222222222222222,
              "#7201a8"
             ],
             [
              0.3333333333333333,
              "#9c179e"
             ],
             [
              0.4444444444444444,
              "#bd3786"
             ],
             [
              0.5555555555555556,
              "#d8576b"
             ],
             [
              0.6666666666666666,
              "#ed7953"
             ],
             [
              0.7777777777777778,
              "#fb9f3a"
             ],
             [
              0.8888888888888888,
              "#fdca26"
             ],
             [
              1,
              "#f0f921"
             ]
            ],
            "type": "heatmapgl"
           }
          ],
          "histogram": [
           {
            "marker": {
             "pattern": {
              "fillmode": "overlay",
              "size": 10,
              "solidity": 0.2
             }
            },
            "type": "histogram"
           }
          ],
          "histogram2d": [
           {
            "colorbar": {
             "outlinewidth": 0,
             "ticks": ""
            },
            "colorscale": [
             [
              0,
              "#0d0887"
             ],
             [
              0.1111111111111111,
              "#46039f"
             ],
             [
              0.2222222222222222,
              "#7201a8"
             ],
             [
              0.3333333333333333,
              "#9c179e"
             ],
             [
              0.4444444444444444,
              "#bd3786"
             ],
             [
              0.5555555555555556,
              "#d8576b"
             ],
             [
              0.6666666666666666,
              "#ed7953"
             ],
             [
              0.7777777777777778,
              "#fb9f3a"
             ],
             [
              0.8888888888888888,
              "#fdca26"
             ],
             [
              1,
              "#f0f921"
             ]
            ],
            "type": "histogram2d"
           }
          ],
          "histogram2dcontour": [
           {
            "colorbar": {
             "outlinewidth": 0,
             "ticks": ""
            },
            "colorscale": [
             [
              0,
              "#0d0887"
             ],
             [
              0.1111111111111111,
              "#46039f"
             ],
             [
              0.2222222222222222,
              "#7201a8"
             ],
             [
              0.3333333333333333,
              "#9c179e"
             ],
             [
              0.4444444444444444,
              "#bd3786"
             ],
             [
              0.5555555555555556,
              "#d8576b"
             ],
             [
              0.6666666666666666,
              "#ed7953"
             ],
             [
              0.7777777777777778,
              "#fb9f3a"
             ],
             [
              0.8888888888888888,
              "#fdca26"
             ],
             [
              1,
              "#f0f921"
             ]
            ],
            "type": "histogram2dcontour"
           }
          ],
          "mesh3d": [
           {
            "colorbar": {
             "outlinewidth": 0,
             "ticks": ""
            },
            "type": "mesh3d"
           }
          ],
          "parcoords": [
           {
            "line": {
             "colorbar": {
              "outlinewidth": 0,
              "ticks": ""
             }
            },
            "type": "parcoords"
           }
          ],
          "pie": [
           {
            "automargin": true,
            "type": "pie"
           }
          ],
          "scatter": [
           {
            "fillpattern": {
             "fillmode": "overlay",
             "size": 10,
             "solidity": 0.2
            },
            "type": "scatter"
           }
          ],
          "scatter3d": [
           {
            "line": {
             "colorbar": {
              "outlinewidth": 0,
              "ticks": ""
             }
            },
            "marker": {
             "colorbar": {
              "outlinewidth": 0,
              "ticks": ""
             }
            },
            "type": "scatter3d"
           }
          ],
          "scattercarpet": [
           {
            "marker": {
             "colorbar": {
              "outlinewidth": 0,
              "ticks": ""
             }
            },
            "type": "scattercarpet"
           }
          ],
          "scattergeo": [
           {
            "marker": {
             "colorbar": {
              "outlinewidth": 0,
              "ticks": ""
             }
            },
            "type": "scattergeo"
           }
          ],
          "scattergl": [
           {
            "marker": {
             "colorbar": {
              "outlinewidth": 0,
              "ticks": ""
             }
            },
            "type": "scattergl"
           }
          ],
          "scattermapbox": [
           {
            "marker": {
             "colorbar": {
              "outlinewidth": 0,
              "ticks": ""
             }
            },
            "type": "scattermapbox"
           }
          ],
          "scatterpolar": [
           {
            "marker": {
             "colorbar": {
              "outlinewidth": 0,
              "ticks": ""
             }
            },
            "type": "scatterpolar"
           }
          ],
          "scatterpolargl": [
           {
            "marker": {
             "colorbar": {
              "outlinewidth": 0,
              "ticks": ""
             }
            },
            "type": "scatterpolargl"
           }
          ],
          "scatterternary": [
           {
            "marker": {
             "colorbar": {
              "outlinewidth": 0,
              "ticks": ""
             }
            },
            "type": "scatterternary"
           }
          ],
          "surface": [
           {
            "colorbar": {
             "outlinewidth": 0,
             "ticks": ""
            },
            "colorscale": [
             [
              0,
              "#0d0887"
             ],
             [
              0.1111111111111111,
              "#46039f"
             ],
             [
              0.2222222222222222,
              "#7201a8"
             ],
             [
              0.3333333333333333,
              "#9c179e"
             ],
             [
              0.4444444444444444,
              "#bd3786"
             ],
             [
              0.5555555555555556,
              "#d8576b"
             ],
             [
              0.6666666666666666,
              "#ed7953"
             ],
             [
              0.7777777777777778,
              "#fb9f3a"
             ],
             [
              0.8888888888888888,
              "#fdca26"
             ],
             [
              1,
              "#f0f921"
             ]
            ],
            "type": "surface"
           }
          ],
          "table": [
           {
            "cells": {
             "fill": {
              "color": "#EBF0F8"
             },
             "line": {
              "color": "white"
             }
            },
            "header": {
             "fill": {
              "color": "#C8D4E3"
             },
             "line": {
              "color": "white"
             }
            },
            "type": "table"
           }
          ]
         },
         "layout": {
          "annotationdefaults": {
           "arrowcolor": "#2a3f5f",
           "arrowhead": 0,
           "arrowwidth": 1
          },
          "autotypenumbers": "strict",
          "coloraxis": {
           "colorbar": {
            "outlinewidth": 0,
            "ticks": ""
           }
          },
          "colorscale": {
           "diverging": [
            [
             0,
             "#8e0152"
            ],
            [
             0.1,
             "#c51b7d"
            ],
            [
             0.2,
             "#de77ae"
            ],
            [
             0.3,
             "#f1b6da"
            ],
            [
             0.4,
             "#fde0ef"
            ],
            [
             0.5,
             "#f7f7f7"
            ],
            [
             0.6,
             "#e6f5d0"
            ],
            [
             0.7,
             "#b8e186"
            ],
            [
             0.8,
             "#7fbc41"
            ],
            [
             0.9,
             "#4d9221"
            ],
            [
             1,
             "#276419"
            ]
           ],
           "sequential": [
            [
             0,
             "#0d0887"
            ],
            [
             0.1111111111111111,
             "#46039f"
            ],
            [
             0.2222222222222222,
             "#7201a8"
            ],
            [
             0.3333333333333333,
             "#9c179e"
            ],
            [
             0.4444444444444444,
             "#bd3786"
            ],
            [
             0.5555555555555556,
             "#d8576b"
            ],
            [
             0.6666666666666666,
             "#ed7953"
            ],
            [
             0.7777777777777778,
             "#fb9f3a"
            ],
            [
             0.8888888888888888,
             "#fdca26"
            ],
            [
             1,
             "#f0f921"
            ]
           ],
           "sequentialminus": [
            [
             0,
             "#0d0887"
            ],
            [
             0.1111111111111111,
             "#46039f"
            ],
            [
             0.2222222222222222,
             "#7201a8"
            ],
            [
             0.3333333333333333,
             "#9c179e"
            ],
            [
             0.4444444444444444,
             "#bd3786"
            ],
            [
             0.5555555555555556,
             "#d8576b"
            ],
            [
             0.6666666666666666,
             "#ed7953"
            ],
            [
             0.7777777777777778,
             "#fb9f3a"
            ],
            [
             0.8888888888888888,
             "#fdca26"
            ],
            [
             1,
             "#f0f921"
            ]
           ]
          },
          "colorway": [
           "#636efa",
           "#EF553B",
           "#00cc96",
           "#ab63fa",
           "#FFA15A",
           "#19d3f3",
           "#FF6692",
           "#B6E880",
           "#FF97FF",
           "#FECB52"
          ],
          "font": {
           "color": "#2a3f5f"
          },
          "geo": {
           "bgcolor": "white",
           "lakecolor": "white",
           "landcolor": "#E5ECF6",
           "showlakes": true,
           "showland": true,
           "subunitcolor": "white"
          },
          "hoverlabel": {
           "align": "left"
          },
          "hovermode": "closest",
          "mapbox": {
           "style": "light"
          },
          "paper_bgcolor": "white",
          "plot_bgcolor": "#E5ECF6",
          "polar": {
           "angularaxis": {
            "gridcolor": "white",
            "linecolor": "white",
            "ticks": ""
           },
           "bgcolor": "#E5ECF6",
           "radialaxis": {
            "gridcolor": "white",
            "linecolor": "white",
            "ticks": ""
           }
          },
          "scene": {
           "xaxis": {
            "backgroundcolor": "#E5ECF6",
            "gridcolor": "white",
            "gridwidth": 2,
            "linecolor": "white",
            "showbackground": true,
            "ticks": "",
            "zerolinecolor": "white"
           },
           "yaxis": {
            "backgroundcolor": "#E5ECF6",
            "gridcolor": "white",
            "gridwidth": 2,
            "linecolor": "white",
            "showbackground": true,
            "ticks": "",
            "zerolinecolor": "white"
           },
           "zaxis": {
            "backgroundcolor": "#E5ECF6",
            "gridcolor": "white",
            "gridwidth": 2,
            "linecolor": "white",
            "showbackground": true,
            "ticks": "",
            "zerolinecolor": "white"
           }
          },
          "shapedefaults": {
           "line": {
            "color": "#2a3f5f"
           }
          },
          "ternary": {
           "aaxis": {
            "gridcolor": "white",
            "linecolor": "white",
            "ticks": ""
           },
           "baxis": {
            "gridcolor": "white",
            "linecolor": "white",
            "ticks": ""
           },
           "bgcolor": "#E5ECF6",
           "caxis": {
            "gridcolor": "white",
            "linecolor": "white",
            "ticks": ""
           }
          },
          "title": {
           "x": 0.05
          },
          "xaxis": {
           "automargin": true,
           "gridcolor": "white",
           "linecolor": "white",
           "ticks": "",
           "title": {
            "standoff": 15
           },
           "zerolinecolor": "white",
           "zerolinewidth": 2
          },
          "yaxis": {
           "automargin": true,
           "gridcolor": "white",
           "linecolor": "white",
           "ticks": "",
           "title": {
            "standoff": 15
           },
           "zerolinecolor": "white",
           "zerolinewidth": 2
          }
         }
        },
        "title": {
         "text": "Sensitivity-Specificity Curve"
        },
        "width": 480,
        "xaxis": {
         "range": [
          -10,
          13.5
         ],
         "tickfont": {
          "size": 16
         },
         "title": {
          "text": "Threshold"
         }
        },
        "yaxis": {
         "range": [
          -0.05,
          1.05
         ],
         "tickfont": {
          "size": 16
         },
         "title": {
          "text": "Rate"
         }
        }
       }
      }
     },
     "metadata": {},
     "output_type": "display_data"
    }
   ],
   "source": [
    "# Plot Sensitivity-Specificity of PriorityScore curve\n",
    "# x-axis: PriortyScore, y-axis: Sensitivity and Specificity\n",
    "\n",
    "# Calculate Sensitivity and Specificity\n",
    "def calc_sensitivity_specificity(df: pd.DataFrame, threshold: float) -> tuple:\n",
    "\ttp = df[(df['PriorityScore'] >= threshold) & (df['LABEL'] == 1)].shape[0]\n",
    "\ttn = df[(df['PriorityScore'] < threshold) & (df['LABEL'] == 0)].shape[0]\n",
    "\tfp = df[(df['PriorityScore'] >= threshold) & (df['LABEL'] == 0)].shape[0]\n",
    "\tfn = df[(df['PriorityScore'] < threshold) & (df['LABEL'] == 1)].shape[0]\n",
    "\tsensitivity = tp / (tp + fn)\n",
    "\tspecificity = tn / (tn + fp)\n",
    "\treturn sensitivity, specificity\n",
    "\n",
    "thresholds = np.linspace(-9,12,22)\n",
    "sensitivity = []\n",
    "specificity = []\n",
    "\n",
    "for threshold in thresholds:\n",
    "\tsens, spec = calc_sensitivity_specificity(data, threshold)\n",
    "\tsensitivity.append(sens)\n",
    "\tspecificity.append(spec)\n",
    "\n",
    "fig = go.Figure()\n",
    "\n",
    "# Add traces\n",
    "fig.add_trace(go.Scatter(\n",
    "\tx=thresholds, y=sensitivity, mode='lines', \n",
    "\tname='Sensitivity', line=dict(color='#1F77B4', width=2))\n",
    "\t)\n",
    "fig.add_trace(go.Scatter(\n",
    "\tx=thresholds, y=specificity, mode='lines', \n",
    "\tname='Specificity', line=dict(color='#FF7F0E', width=2))\n",
    "\t)\n",
    "\n",
    "# Add an annotation\n",
    "fig.add_annotation(x=0.6, y=0.05, xref=\"paper\", yref=\"paper\",\n",
    "\t\t\t\t   text=f\"Optimal threshold (Youden index) = {optimal_threshold:.2f}\",\n",
    "\t\t\t\t   showarrow=False,\n",
    "\t\t\t\t   font=dict(family=\"Arial, sans-serif\", size=12, color=\"black\"),\n",
    "\t\t\t\t   bgcolor='rgba(243, 243, 243, 1)',\n",
    "\t\t\t\t#    bordercolor=\"black\",\n",
    "\t\t\t\t   borderwidth=2)\n",
    "\n",
    "# Add titles and labels\n",
    "fig.update_layout(title='Sensitivity-Specificity Curve',\n",
    "\t\t\t\t  xaxis_title='Threshold',\n",
    "\t\t\t\t  yaxis_title='Rate',\n",
    "\t\t\t\t  plot_bgcolor='rgba(243, 243, 243, 1)',\n",
    "\t\t\t\t  paper_bgcolor='rgba(243, 243, 243, 0)',\n",
    "\t\t\t\t  legend_title='Rate',\n",
    "\t\t\t\t  legend=dict(y=0.09, x=0.925, xanchor='right', yanchor='bottom', \n",
    "\t\t\t\t\t\t\t  bgcolor='rgba(243, 243, 243, 1)',\n",
    "\t\t\t\t\t\t\t  font=dict(family=\"Arial, sans-serif\", size=12, color=\"black\")),\n",
    "\t\t\t\t  margin=dict(l=40, r=40, t=40, b=40))\n",
    "\n",
    "fig.update_xaxes(range=[-10, 13.5])\n",
    "fig.update_yaxes(range=[-0.05, 1.05])\n",
    "fig.update_layout(width=480, height=480)\n",
    "fig.write_html(\"figs/sens-spec.html\")\n",
    "\n",
    "# Change the font size of axix labels\n",
    "fig.update_xaxes(tickfont=dict(size=16))\n",
    "fig.update_yaxes(tickfont=dict(size=16))\n",
    "\n",
    "# Legened off\n",
    "fig.update_layout(showlegend=False)\n",
    "\n",
    "\n",
    "# Show figure\n",
    "fig.show()"
   ]
  },
  {
   "cell_type": "code",
   "execution_count": 30,
   "metadata": {},
   "outputs": [
    {
     "name": "stdout",
     "output_type": "stream",
     "text": [
      "AUC - Framework (95%CI): 0.985 [0.9835-0.9871]\n",
      "AUC - SpliceAI (95%CI) : 0.983 [0.9813-0.9856]\n",
      "p-value (DeLong Test)  : 3.00e-02\n"
     ]
    }
   ],
   "source": [
    "thsdict = {\n",
    "    'opti': \n",
    "            {'clinvar_same_pos': 3,\n",
    "             'clinvar_same_motif': 1,\n",
    "             'clinvar_else': 0,\n",
    "             'non_canon_splai_lte_0.1_outside': -2,\n",
    "             'non_canon_splai_lte_0.1_other': 0,\n",
    "             'non_canon_splai_bet_0.1_0.2': 1,\n",
    "             'non_canon_splai_gte_0.2': 2,\n",
    "             'canon_strong': 4, \n",
    "             'canon_moderate': 3, \n",
    "             'frameshift_nmd_eloF': 6, \n",
    "             'frameshift_nmd_not_eloF': 1,\n",
    "             'canon_splai_lte_0.1': -1,\n",
    "             'canon_splai_bet_0.1_0.2': 0,\n",
    "             'canon_splai_gte_0.2': 2,\n",
    "             'clinvar_blb': -6\n",
    "\t\t\t },\n",
    "}\n",
    "\n",
    "# Laod the dataframes from the pickle files as the test set\n",
    "tp_test = pd.read_pickle(f'train_test_pkls/tp_prescore_test_{random_state}.pkl')\n",
    "tn_test = pd.read_pickle(f'train_test_pkls/tn_prescore_test_{random_state}.pkl')\n",
    "\n",
    "ths = thsdict['opti']\n",
    "scoring = Scoring(ths=ths)\n",
    "\n",
    "tp_test['insilico_screening'] = tp_test.parallel_apply(scoring.insilico_screening, axis=1)\n",
    "tp_test['clinvar_screening'] = tp_test.parallel_apply(scoring.clinvar_screening, axis=1)\n",
    "# tp_test['PriorityScore'] = tp_test.parallel_apply(scoring.calc_priority_score, axis=1)\n",
    "# tp_test = scoring.calc_priority_score(tp_test)\n",
    "tp_test = tp_test[tp_test['insilico_screening'] != 'Not available']\n",
    "tp_test['PriorityScore'] = tp_test['insilico_screening'] + tp_test['clinvar_screening']\n",
    "# If PriorityScore under 0, set it to 0\n",
    "tp_test['PriorityScore'] = tp_test['PriorityScore'].apply(lambda x: 0 if x < 0 else x)\n",
    "\n",
    "tn_test['insilico_screening'] = tn_test.parallel_apply(scoring.insilico_screening, axis=1)\n",
    "tn_test['clinvar_screening'] = tn_test.parallel_apply(scoring.clinvar_screening, axis=1)\n",
    "# tn_test['PriorityScore'] = tn_test.parallel_apply(scoring.calc_priority_score, axis=1)\n",
    "# tn_test = scoring.calc_priority_score(tn_test)\n",
    "tn_test = tn_test[tn_test['insilico_screening'] != 'Not available']\n",
    "tn_test['PriorityScore'] = tn_test['insilico_screening'] + tn_test['clinvar_screening']\n",
    "# If PriorityScore under 0, set it to 0\n",
    "tn_test['PriorityScore'] = tn_test['PriorityScore'].apply(lambda x: 0 if x < 0 else x)\n",
    "\n",
    "# Extract the columns needed\n",
    "tp_test = tp_test[['variant_id', 'LABEL', 'PriorityScore', 'maxsplai', \n",
    "\t\t\t\t   'maxentscan_diff', 'maxpangolin', 'Squirls']]\n",
    "tn_test = tn_test[['variant_id', 'LABEL', 'PriorityScore', 'maxsplai', \n",
    "\t\t\t\t   'maxentscan_diff', 'maxpangolin', 'Squirls']]\n",
    "\n",
    "### ========================================================== ##\n",
    "data = pd.concat([tp_test, tn_test], ignore_index=True)\n",
    "data.drop_duplicates(subset='variant_id', keep=False, inplace=True)\n",
    "\n",
    "# Cast the columns to float type\n",
    "data['LABEL'] = data['LABEL'].astype(int)\n",
    "data = data[data['PriorityScore'] != 'Not available']   # Exclude rows with PriorityScore not 'Not available'\n",
    "data['PriorityScore'] = data['PriorityScore'].astype(float)\n",
    "data['maxsplai'] = data['maxsplai'].astype(float)\n",
    "# data['maxentscan_diff'] = data['maxentscan_diff'].astype(float) # ToDo: remove string\n",
    "data['maxpangolin'] = data['maxpangolin'].astype(float)\n",
    "# data['Squirls'] = data['Squirls'].astype(float) # ToDo: remove NA\n",
    "\n",
    "# Plot the sensitivity and specificity for each threshold\n",
    "results_df = specificity_sensitivity_plotly(data)\n",
    "fig_opti = plot_sensitivity_specificity_plotly(results_df, 800, 800)\n",
    "# fig2 = plot_sensitivity_specificity_plotly_without_legened(results_df)\n",
    "# print(tp_test['PriorityScore'].isnull().sum(), tn_test['PriorityScore'].isnull().sum())\n",
    "\n",
    "## DeLong test and AUC confidence interval\n",
    "ground_truth = np.array(data['LABEL'])\n",
    "predictions_fw = np.array(data['PriorityScore'])\n",
    "predictions_sp = np.array(data['maxsplai'])\n",
    "predictions_en = np.array(data['maxentscan_diff'])\n",
    "predictions_pa = np.array(data['maxpangolin'])\n",
    "predictions_sq = np.array(data['Squirls'])\n",
    "\n",
    "auc1, var1 = delong_roc_variance(ground_truth, predictions_fw)\n",
    "cilower1, ciupper1 = compute_auc_confidence_interval(auc1, var1)\n",
    "auc2, var2 = delong_roc_variance(ground_truth, predictions_sp)\n",
    "cilower2, ciupper2 = compute_auc_confidence_interval(auc2, var2)\n",
    "\n",
    "p_value_log = delong_roc_test(ground_truth, predictions_fw, predictions_sp)\n",
    "\n",
    "print(f\"AUC - Framework (95%CI): {auc1:.3f} [{cilower1:.4f}-{ciupper1:.4f}]\")\n",
    "print(f\"AUC - SpliceAI (95%CI) : {auc2:.3f} [{cilower2:.4f}-{ciupper2:.4f}]\")\n",
    "print(f\"p-value (DeLong Test)  : {10**p_value_log[0][0]:.2e}\")\n"
   ]
  },
  {
   "cell_type": "markdown",
   "metadata": {},
   "source": [
    "<!-- ## auROCの比較とperformance metricsの比較 -->"
   ]
  },
  {
   "cell_type": "code",
   "execution_count": 140,
   "metadata": {},
   "outputs": [
    {
     "name": "stdout",
     "output_type": "stream",
     "text": [
      "Optimal threshold (using Youden index): 2.0\n"
     ]
    },
    {
     "data": {
      "application/vnd.plotly.v1+json": {
       "config": {
        "plotlyServerURL": "https://plot.ly"
       },
       "data": [
        {
         "line": {
          "color": "#E41A1C",
          "width": 2
         },
         "mode": "lines",
         "name": "Framework      (0.987 [0.9837-0.9896])",
         "type": "scatter",
         "x": [
          0,
          0,
          0,
          0,
          0,
          0,
          0,
          0.042735042735042736,
          0.04487179487179487,
          0.11324786324786325,
          1
         ],
         "y": [
          0,
          0.09269988412514485,
          0.17033603707995365,
          0.41367323290845887,
          0.518539976825029,
          0.7346465816917729,
          0.8308227114716107,
          0.9522016222479722,
          0.9629200463499421,
          0.9846465816917729,
          1
         ]
        },
        {
         "line": {
          "color": "#377EB8",
          "width": 2
         },
         "mode": "lines",
         "name": "SpliceAI Alone (0.981 [0.9764-0.9850])",
         "type": "scatter",
         "x": [
          0,
          0,
          0,
          0.002136752136752137,
          0.002136752136752137,
          0.002136752136752137,
          0.002136752136752137,
          0.002136752136752137,
          0.002136752136752137,
          0.002136752136752137,
          0.002136752136752137,
          0.002136752136752137,
          0.002136752136752137,
          0.002136752136752137,
          0.002136752136752137,
          0.002136752136752137,
          0.002136752136752137,
          0.002136752136752137,
          0.002136752136752137,
          0.002136752136752137,
          0.002136752136752137,
          0.002136752136752137,
          0.002136752136752137,
          0.002136752136752137,
          0.002136752136752137,
          0.002136752136752137,
          0.002136752136752137,
          0.002136752136752137,
          0.002136752136752137,
          0.002136752136752137,
          0.002136752136752137,
          0.004273504273504274,
          0.004273504273504274,
          0.004273504273504274,
          0.004273504273504274,
          0.004273504273504274,
          0.004273504273504274,
          0.004273504273504274,
          0.004273504273504274,
          0.004273504273504274,
          0.004273504273504274,
          0.004273504273504274,
          0.004273504273504274,
          0.004273504273504274,
          0.004273504273504274,
          0.00641025641025641,
          0.00641025641025641,
          0.00641025641025641,
          0.00641025641025641,
          0.00641025641025641,
          0.00641025641025641,
          0.00641025641025641,
          0.008547008547008548,
          0.008547008547008548,
          0.010683760683760684,
          0.010683760683760684,
          0.010683760683760684,
          0.010683760683760684,
          0.010683760683760684,
          0.01282051282051282,
          0.01282051282051282,
          0.01282051282051282,
          0.017094017094017096,
          0.019230769230769232,
          0.019230769230769232,
          0.019230769230769232,
          0.02564102564102564,
          0.027777777777777776,
          0.027777777777777776,
          0.027777777777777776,
          0.029914529914529916,
          0.029914529914529916,
          0.029914529914529916,
          0.03205128205128205,
          0.03205128205128205,
          0.03418803418803419,
          0.038461538461538464,
          0.0405982905982906,
          0.0405982905982906,
          0.042735042735042736,
          0.04487179487179487,
          0.04487179487179487,
          0.04487179487179487,
          0.049145299145299144,
          0.053418803418803416,
          0.057692307692307696,
          0.05982905982905983,
          0.0641025641025641,
          0.07051282051282051,
          0.07905982905982906,
          0.10042735042735043,
          0.11538461538461539,
          0.1388888888888889,
          0.16025641025641027,
          0.17735042735042736,
          0.22863247863247863,
          0.3076923076923077,
          0.4337606837606838,
          0.6816239316239316,
          1
         ],
         "y": [
          0,
          0.17584009269988413,
          0.3792004634994206,
          0.46552723059096174,
          0.514774044032445,
          0.5538818076477404,
          0.6054461181923523,
          0.626882966396292,
          0.6442641946697567,
          0.660196987253766,
          0.6746813441483198,
          0.6871378910776361,
          0.7004634994206257,
          0.7120509849362688,
          0.7216106604866744,
          0.7320393974507532,
          0.7418887601390498,
          0.7508690614136733,
          0.7563731170336037,
          0.7627462340672074,
          0.772595596755504,
          0.7775202780996524,
          0.7841830822711472,
          0.7914252607184241,
          0.7983777520278099,
          0.8038818076477404,
          0.8085168018539977,
          0.8119930475086906,
          0.8163383545770567,
          0.8227114716106605,
          0.8267670915411356,
          0.8311123986095017,
          0.8348783314020858,
          0.8377752027809965,
          0.8412514484356894,
          0.8455967555040557,
          0.8487833140208575,
          0.8522595596755504,
          0.8554461181923523,
          0.8597914252607184,
          0.8623986095017381,
          0.8644264194669756,
          0.8676129779837776,
          0.869351100811124,
          0.8736964078794901,
          0.8760139049826188,
          0.8786210892236385,
          0.8809385863267671,
          0.8835457705677868,
          0.8858632676709154,
          0.8887601390498262,
          0.8925260718424102,
          0.8939745075318656,
          0.8965816917728853,
          0.8988991888760139,
          0.9017960602549246,
          0.9038238702201622,
          0.9046929316338355,
          0.9058516801853997,
          0.9093279258400927,
          0.9145422943221321,
          0.9165701042873696,
          0.9197566628041715,
          0.9212050984936269,
          0.9229432213209734,
          0.9235225955967555,
          0.925260718424102,
          0.9267091541135574,
          0.9281575898030128,
          0.9301853997682503,
          0.9313441483198146,
          0.933082271147161,
          0.9345307068366164,
          0.9371378910776361,
          0.9382966396292005,
          0.9391657010428737,
          0.9409038238702202,
          0.9432213209733488,
          0.9446697566628042,
          0.9461181923522596,
          0.9484356894553881,
          0.9490150637311703,
          0.9501738122827347,
          0.9519119351100811,
          0.9545191193511008,
          0.9559675550405562,
          0.9574159907300116,
          0.958864426419467,
          0.9603128621089224,
          0.9620509849362688,
          0.9632097334878331,
          0.9649478563151797,
          0.9666859791425261,
          0.9695828505214369,
          0.9721900347624566,
          0.9727694090382387,
          0.9768250289687138,
          0.9843568945538818,
          0.9927578215527231,
          1
         ]
        },
        {
         "line": {
          "color": "gray",
          "dash": "dash",
          "width": 2
         },
         "mode": "lines",
         "name": "Chance",
         "showlegend": false,
         "type": "scatter",
         "x": [
          0,
          1
         ],
         "y": [
          0,
          1
         ]
        },
        {
         "line": {
          "color": "#E41A1C",
          "width": 2
         },
         "mode": "lines",
         "name": "Framework      (0.987 [0.9837-0.9896])",
         "showlegend": false,
         "type": "scatter",
         "x": [
          0,
          0,
          0,
          0,
          0,
          0,
          0,
          0.042735042735042736,
          0.04487179487179487,
          0.11324786324786325,
          1
         ],
         "y": [
          0,
          0.09269988412514485,
          0.17033603707995365,
          0.41367323290845887,
          0.518539976825029,
          0.7346465816917729,
          0.8308227114716107,
          0.9522016222479722,
          0.9629200463499421,
          0.9846465816917729,
          1
         ]
        }
       ],
       "layout": {
        "annotations": [
         {
          "bgcolor": "rgba(243, 243, 243, 1)",
          "borderwidth": 2,
          "font": {
           "color": "black",
           "family": "Arial, sans-serif",
           "size": 12
          },
          "showarrow": false,
          "text": "DeLong's test p-value = 7.89e-04",
          "x": 0.6,
          "xref": "paper",
          "y": 0.05,
          "yref": "paper"
         }
        ],
        "height": 500,
        "legend": {
         "bgcolor": "rgba(243, 243, 243, 1)",
         "font": {
          "color": "black",
          "family": "Arial, sans-serif",
          "size": 12
         },
         "title": {
          "text": "Prediction methods (AUC [95%CI])"
         },
         "x": 0.925,
         "xanchor": "right",
         "y": 0.09,
         "yanchor": "bottom"
        },
        "margin": {
         "b": 40,
         "l": 40,
         "r": 40,
         "t": 40
        },
        "paper_bgcolor": "rgba(243, 243, 243, 0)",
        "plot_bgcolor": "rgba(243, 243, 243, 1)",
        "template": {
         "data": {
          "bar": [
           {
            "error_x": {
             "color": "#2a3f5f"
            },
            "error_y": {
             "color": "#2a3f5f"
            },
            "marker": {
             "line": {
              "color": "#E5ECF6",
              "width": 0.5
             },
             "pattern": {
              "fillmode": "overlay",
              "size": 10,
              "solidity": 0.2
             }
            },
            "type": "bar"
           }
          ],
          "barpolar": [
           {
            "marker": {
             "line": {
              "color": "#E5ECF6",
              "width": 0.5
             },
             "pattern": {
              "fillmode": "overlay",
              "size": 10,
              "solidity": 0.2
             }
            },
            "type": "barpolar"
           }
          ],
          "carpet": [
           {
            "aaxis": {
             "endlinecolor": "#2a3f5f",
             "gridcolor": "white",
             "linecolor": "white",
             "minorgridcolor": "white",
             "startlinecolor": "#2a3f5f"
            },
            "baxis": {
             "endlinecolor": "#2a3f5f",
             "gridcolor": "white",
             "linecolor": "white",
             "minorgridcolor": "white",
             "startlinecolor": "#2a3f5f"
            },
            "type": "carpet"
           }
          ],
          "choropleth": [
           {
            "colorbar": {
             "outlinewidth": 0,
             "ticks": ""
            },
            "type": "choropleth"
           }
          ],
          "contour": [
           {
            "colorbar": {
             "outlinewidth": 0,
             "ticks": ""
            },
            "colorscale": [
             [
              0,
              "#0d0887"
             ],
             [
              0.1111111111111111,
              "#46039f"
             ],
             [
              0.2222222222222222,
              "#7201a8"
             ],
             [
              0.3333333333333333,
              "#9c179e"
             ],
             [
              0.4444444444444444,
              "#bd3786"
             ],
             [
              0.5555555555555556,
              "#d8576b"
             ],
             [
              0.6666666666666666,
              "#ed7953"
             ],
             [
              0.7777777777777778,
              "#fb9f3a"
             ],
             [
              0.8888888888888888,
              "#fdca26"
             ],
             [
              1,
              "#f0f921"
             ]
            ],
            "type": "contour"
           }
          ],
          "contourcarpet": [
           {
            "colorbar": {
             "outlinewidth": 0,
             "ticks": ""
            },
            "type": "contourcarpet"
           }
          ],
          "heatmap": [
           {
            "colorbar": {
             "outlinewidth": 0,
             "ticks": ""
            },
            "colorscale": [
             [
              0,
              "#0d0887"
             ],
             [
              0.1111111111111111,
              "#46039f"
             ],
             [
              0.2222222222222222,
              "#7201a8"
             ],
             [
              0.3333333333333333,
              "#9c179e"
             ],
             [
              0.4444444444444444,
              "#bd3786"
             ],
             [
              0.5555555555555556,
              "#d8576b"
             ],
             [
              0.6666666666666666,
              "#ed7953"
             ],
             [
              0.7777777777777778,
              "#fb9f3a"
             ],
             [
              0.8888888888888888,
              "#fdca26"
             ],
             [
              1,
              "#f0f921"
             ]
            ],
            "type": "heatmap"
           }
          ],
          "heatmapgl": [
           {
            "colorbar": {
             "outlinewidth": 0,
             "ticks": ""
            },
            "colorscale": [
             [
              0,
              "#0d0887"
             ],
             [
              0.1111111111111111,
              "#46039f"
             ],
             [
              0.2222222222222222,
              "#7201a8"
             ],
             [
              0.3333333333333333,
              "#9c179e"
             ],
             [
              0.4444444444444444,
              "#bd3786"
             ],
             [
              0.5555555555555556,
              "#d8576b"
             ],
             [
              0.6666666666666666,
              "#ed7953"
             ],
             [
              0.7777777777777778,
              "#fb9f3a"
             ],
             [
              0.8888888888888888,
              "#fdca26"
             ],
             [
              1,
              "#f0f921"
             ]
            ],
            "type": "heatmapgl"
           }
          ],
          "histogram": [
           {
            "marker": {
             "pattern": {
              "fillmode": "overlay",
              "size": 10,
              "solidity": 0.2
             }
            },
            "type": "histogram"
           }
          ],
          "histogram2d": [
           {
            "colorbar": {
             "outlinewidth": 0,
             "ticks": ""
            },
            "colorscale": [
             [
              0,
              "#0d0887"
             ],
             [
              0.1111111111111111,
              "#46039f"
             ],
             [
              0.2222222222222222,
              "#7201a8"
             ],
             [
              0.3333333333333333,
              "#9c179e"
             ],
             [
              0.4444444444444444,
              "#bd3786"
             ],
             [
              0.5555555555555556,
              "#d8576b"
             ],
             [
              0.6666666666666666,
              "#ed7953"
             ],
             [
              0.7777777777777778,
              "#fb9f3a"
             ],
             [
              0.8888888888888888,
              "#fdca26"
             ],
             [
              1,
              "#f0f921"
             ]
            ],
            "type": "histogram2d"
           }
          ],
          "histogram2dcontour": [
           {
            "colorbar": {
             "outlinewidth": 0,
             "ticks": ""
            },
            "colorscale": [
             [
              0,
              "#0d0887"
             ],
             [
              0.1111111111111111,
              "#46039f"
             ],
             [
              0.2222222222222222,
              "#7201a8"
             ],
             [
              0.3333333333333333,
              "#9c179e"
             ],
             [
              0.4444444444444444,
              "#bd3786"
             ],
             [
              0.5555555555555556,
              "#d8576b"
             ],
             [
              0.6666666666666666,
              "#ed7953"
             ],
             [
              0.7777777777777778,
              "#fb9f3a"
             ],
             [
              0.8888888888888888,
              "#fdca26"
             ],
             [
              1,
              "#f0f921"
             ]
            ],
            "type": "histogram2dcontour"
           }
          ],
          "mesh3d": [
           {
            "colorbar": {
             "outlinewidth": 0,
             "ticks": ""
            },
            "type": "mesh3d"
           }
          ],
          "parcoords": [
           {
            "line": {
             "colorbar": {
              "outlinewidth": 0,
              "ticks": ""
             }
            },
            "type": "parcoords"
           }
          ],
          "pie": [
           {
            "automargin": true,
            "type": "pie"
           }
          ],
          "scatter": [
           {
            "fillpattern": {
             "fillmode": "overlay",
             "size": 10,
             "solidity": 0.2
            },
            "type": "scatter"
           }
          ],
          "scatter3d": [
           {
            "line": {
             "colorbar": {
              "outlinewidth": 0,
              "ticks": ""
             }
            },
            "marker": {
             "colorbar": {
              "outlinewidth": 0,
              "ticks": ""
             }
            },
            "type": "scatter3d"
           }
          ],
          "scattercarpet": [
           {
            "marker": {
             "colorbar": {
              "outlinewidth": 0,
              "ticks": ""
             }
            },
            "type": "scattercarpet"
           }
          ],
          "scattergeo": [
           {
            "marker": {
             "colorbar": {
              "outlinewidth": 0,
              "ticks": ""
             }
            },
            "type": "scattergeo"
           }
          ],
          "scattergl": [
           {
            "marker": {
             "colorbar": {
              "outlinewidth": 0,
              "ticks": ""
             }
            },
            "type": "scattergl"
           }
          ],
          "scattermapbox": [
           {
            "marker": {
             "colorbar": {
              "outlinewidth": 0,
              "ticks": ""
             }
            },
            "type": "scattermapbox"
           }
          ],
          "scatterpolar": [
           {
            "marker": {
             "colorbar": {
              "outlinewidth": 0,
              "ticks": ""
             }
            },
            "type": "scatterpolar"
           }
          ],
          "scatterpolargl": [
           {
            "marker": {
             "colorbar": {
              "outlinewidth": 0,
              "ticks": ""
             }
            },
            "type": "scatterpolargl"
           }
          ],
          "scatterternary": [
           {
            "marker": {
             "colorbar": {
              "outlinewidth": 0,
              "ticks": ""
             }
            },
            "type": "scatterternary"
           }
          ],
          "surface": [
           {
            "colorbar": {
             "outlinewidth": 0,
             "ticks": ""
            },
            "colorscale": [
             [
              0,
              "#0d0887"
             ],
             [
              0.1111111111111111,
              "#46039f"
             ],
             [
              0.2222222222222222,
              "#7201a8"
             ],
             [
              0.3333333333333333,
              "#9c179e"
             ],
             [
              0.4444444444444444,
              "#bd3786"
             ],
             [
              0.5555555555555556,
              "#d8576b"
             ],
             [
              0.6666666666666666,
              "#ed7953"
             ],
             [
              0.7777777777777778,
              "#fb9f3a"
             ],
             [
              0.8888888888888888,
              "#fdca26"
             ],
             [
              1,
              "#f0f921"
             ]
            ],
            "type": "surface"
           }
          ],
          "table": [
           {
            "cells": {
             "fill": {
              "color": "#EBF0F8"
             },
             "line": {
              "color": "white"
             }
            },
            "header": {
             "fill": {
              "color": "#C8D4E3"
             },
             "line": {
              "color": "white"
             }
            },
            "type": "table"
           }
          ]
         },
         "layout": {
          "annotationdefaults": {
           "arrowcolor": "#2a3f5f",
           "arrowhead": 0,
           "arrowwidth": 1
          },
          "autotypenumbers": "strict",
          "coloraxis": {
           "colorbar": {
            "outlinewidth": 0,
            "ticks": ""
           }
          },
          "colorscale": {
           "diverging": [
            [
             0,
             "#8e0152"
            ],
            [
             0.1,
             "#c51b7d"
            ],
            [
             0.2,
             "#de77ae"
            ],
            [
             0.3,
             "#f1b6da"
            ],
            [
             0.4,
             "#fde0ef"
            ],
            [
             0.5,
             "#f7f7f7"
            ],
            [
             0.6,
             "#e6f5d0"
            ],
            [
             0.7,
             "#b8e186"
            ],
            [
             0.8,
             "#7fbc41"
            ],
            [
             0.9,
             "#4d9221"
            ],
            [
             1,
             "#276419"
            ]
           ],
           "sequential": [
            [
             0,
             "#0d0887"
            ],
            [
             0.1111111111111111,
             "#46039f"
            ],
            [
             0.2222222222222222,
             "#7201a8"
            ],
            [
             0.3333333333333333,
             "#9c179e"
            ],
            [
             0.4444444444444444,
             "#bd3786"
            ],
            [
             0.5555555555555556,
             "#d8576b"
            ],
            [
             0.6666666666666666,
             "#ed7953"
            ],
            [
             0.7777777777777778,
             "#fb9f3a"
            ],
            [
             0.8888888888888888,
             "#fdca26"
            ],
            [
             1,
             "#f0f921"
            ]
           ],
           "sequentialminus": [
            [
             0,
             "#0d0887"
            ],
            [
             0.1111111111111111,
             "#46039f"
            ],
            [
             0.2222222222222222,
             "#7201a8"
            ],
            [
             0.3333333333333333,
             "#9c179e"
            ],
            [
             0.4444444444444444,
             "#bd3786"
            ],
            [
             0.5555555555555556,
             "#d8576b"
            ],
            [
             0.6666666666666666,
             "#ed7953"
            ],
            [
             0.7777777777777778,
             "#fb9f3a"
            ],
            [
             0.8888888888888888,
             "#fdca26"
            ],
            [
             1,
             "#f0f921"
            ]
           ]
          },
          "colorway": [
           "#636efa",
           "#EF553B",
           "#00cc96",
           "#ab63fa",
           "#FFA15A",
           "#19d3f3",
           "#FF6692",
           "#B6E880",
           "#FF97FF",
           "#FECB52"
          ],
          "font": {
           "color": "#2a3f5f"
          },
          "geo": {
           "bgcolor": "white",
           "lakecolor": "white",
           "landcolor": "#E5ECF6",
           "showlakes": true,
           "showland": true,
           "subunitcolor": "white"
          },
          "hoverlabel": {
           "align": "left"
          },
          "hovermode": "closest",
          "mapbox": {
           "style": "light"
          },
          "paper_bgcolor": "white",
          "plot_bgcolor": "#E5ECF6",
          "polar": {
           "angularaxis": {
            "gridcolor": "white",
            "linecolor": "white",
            "ticks": ""
           },
           "bgcolor": "#E5ECF6",
           "radialaxis": {
            "gridcolor": "white",
            "linecolor": "white",
            "ticks": ""
           }
          },
          "scene": {
           "xaxis": {
            "backgroundcolor": "#E5ECF6",
            "gridcolor": "white",
            "gridwidth": 2,
            "linecolor": "white",
            "showbackground": true,
            "ticks": "",
            "zerolinecolor": "white"
           },
           "yaxis": {
            "backgroundcolor": "#E5ECF6",
            "gridcolor": "white",
            "gridwidth": 2,
            "linecolor": "white",
            "showbackground": true,
            "ticks": "",
            "zerolinecolor": "white"
           },
           "zaxis": {
            "backgroundcolor": "#E5ECF6",
            "gridcolor": "white",
            "gridwidth": 2,
            "linecolor": "white",
            "showbackground": true,
            "ticks": "",
            "zerolinecolor": "white"
           }
          },
          "shapedefaults": {
           "line": {
            "color": "#2a3f5f"
           }
          },
          "ternary": {
           "aaxis": {
            "gridcolor": "white",
            "linecolor": "white",
            "ticks": ""
           },
           "baxis": {
            "gridcolor": "white",
            "linecolor": "white",
            "ticks": ""
           },
           "bgcolor": "#E5ECF6",
           "caxis": {
            "gridcolor": "white",
            "linecolor": "white",
            "ticks": ""
           }
          },
          "title": {
           "x": 0.05
          },
          "xaxis": {
           "automargin": true,
           "gridcolor": "white",
           "linecolor": "white",
           "ticks": "",
           "title": {
            "standoff": 15
           },
           "zerolinecolor": "white",
           "zerolinewidth": 2
          },
          "yaxis": {
           "automargin": true,
           "gridcolor": "white",
           "linecolor": "white",
           "ticks": "",
           "title": {
            "standoff": 15
           },
           "zerolinecolor": "white",
           "zerolinewidth": 2
          }
         }
        },
        "title": {
         "text": "ROC Curve Comparison"
        },
        "width": 500,
        "xaxis": {
         "range": [
          -0.05,
          1.05
         ],
         "title": {
          "text": "False Positive Rate"
         }
        },
        "yaxis": {
         "range": [
          -0.05,
          1.05
         ],
         "title": {
          "text": "True Positive Rate"
         }
        }
       }
      }
     },
     "metadata": {},
     "output_type": "display_data"
    }
   ],
   "source": [
    "def specificity_sensitivity_plotly(data):\n",
    "    thresholds = [0, 1, 2, 3, 4, 5, 6, 7, 8, 9]\n",
    "    results = []\n",
    "\n",
    "    for threshold in thresholds:\n",
    "        tp = data[(data['PriorityScore'] >= threshold) & (data['LABEL'] == 1)].shape[0]\n",
    "        fn = data[(data['PriorityScore'] < threshold) & (data['LABEL'] == 1)].shape[0]\n",
    "        tn = data[(data['PriorityScore'] < threshold) & (data['LABEL'] == 0)].shape[0]\n",
    "        fp = data[(data['PriorityScore'] >= threshold) & (data['LABEL'] == 0)].shape[0]\n",
    "        specificity = tn / (tn + fp) if (tn + fp) else 0\n",
    "        sensitivity = tp / (tp + fn) if (tp + fn) else 0\n",
    "        results.append({'Threshold': threshold, 'Metric': 'Specificity', 'Value': specificity})\n",
    "        results.append({'Threshold': threshold, 'Metric': 'Sensitivity', 'Value': sensitivity})\n",
    "\n",
    "    return results_df\n",
    "\n",
    "import plotly.graph_objects as go\n",
    "import numpy as np\n",
    "from sklearn.metrics import roc_curve, roc_auc_score\n",
    "\n",
    "# ROC curve (LABEL, PriorityScore)\n",
    "fpr1, tpr1, thresholds1 = roc_curve(data['LABEL'], data['PriorityScore'])\n",
    "auc1 = roc_auc_score(data['LABEL'], data['PriorityScore'])\n",
    "fpr2, tpr2, thresholds2 = roc_curve(data['LABEL'], data['maxsplai'])\n",
    "auc2 = roc_auc_score(data['LABEL'], data['maxsplai'])\n",
    "\n",
    "# Calculate optimal threshold from ROC curve by Youden's J statistic\n",
    "Youden_index = np.argmax(tpr1 - fpr1)\n",
    "optimal_threshold = thresholds1[Youden_index]\n",
    "print('Optimal threshold (using Youden index):', optimal_threshold)\n",
    "\n",
    "# Calculate Youden's J statistic for the optimal threshold\n",
    "\n",
    "\n",
    "# plot ROC curve using Plotly\n",
    "fig = go.Figure()\n",
    "\n",
    "# Add traces\n",
    "fig.add_trace(go.Scatter(\n",
    "    x=fpr1, y=tpr1, mode='lines', \n",
    "    name=f\"Framework      ({auc1:.3f} [{cilower1:.4f}-{ciupper1:.4f}])\", \n",
    "    line=dict(color='#E41A1C', width=2))\n",
    "    )\n",
    "fig.add_trace(go.Scatter(\n",
    "    x=fpr2, y=tpr2, mode='lines', \n",
    "    name=f\"SpliceAI Alone ({auc2:.3f} [{cilower2:.4f}-{ciupper2:.4f}])\", \n",
    "    line=dict(color='#377EB8', width=2))\n",
    "    )\n",
    "fig.add_trace(go.Scatter(\n",
    "    x=[0, 1], y=[0, 1], mode='lines', name='Chance', \n",
    "    line=dict(color='gray', width=2, dash='dash'), showlegend=False)\n",
    "    )\n",
    "\n",
    "# Add an annotation\n",
    "fig.add_annotation(x=0.6, y=0.05, xref=\"paper\", yref=\"paper\",\n",
    "                   text=f\"DeLong's test p-value = {10**p_value_log[0][0]:.2e}\",\n",
    "                   showarrow=False,\n",
    "                   font=dict(family=\"Arial, sans-serif\", size=12, color=\"black\"),\n",
    "                   bgcolor='rgba(243, 243, 243, 1)',\n",
    "                #    bordercolor=\"black\",\n",
    "                   borderwidth=2)\n",
    "\n",
    "# Add titles and labels\n",
    "fig.update_layout(title='ROC Curve Comparison',\n",
    "                  xaxis_title='False Positive Rate',\n",
    "                  yaxis_title='True Positive Rate',\n",
    "                  legend_title='Prediction methods (AUC [95%CI])',\n",
    "                  plot_bgcolor='rgba(243, 243, 243, 1)',\n",
    "                  paper_bgcolor='rgba(243, 243, 243, 0)',\n",
    "                  legend=dict(y=0.09, x=0.925, xanchor='right', yanchor='bottom', \n",
    "                              bgcolor='rgba(243, 243, 243, 1)',\n",
    "                              font=dict(family=\"Arial, sans-serif\", size=12, color=\"black\")),\n",
    "                  margin=dict(l=40, r=40, t=40, b=40))\n",
    "\n",
    "fig.update_xaxes(range=[-0.05, 1.05])\n",
    "fig.update_yaxes(range=[-0.05, 1.05])\n",
    "fig.update_layout(width=500, height=500)\n",
    "fig.write_html(\"roc-auc.html\")\n",
    "\n",
    "# Add zoomed-in ROC curve in the top left corner\n",
    "fig.add_trace(go.Scatter(\n",
    "    x=fpr1, y=tpr1, mode='lines', \n",
    "    name=f\"Framework      ({auc1:.3f} [{cilower1:.4f}-{ciupper1:.4f}])\", \n",
    "    line=dict(color='#E41A1C', width=2), showlegend=False)\n",
    "    )\n",
    "\n",
    "\n",
    "# Show figure\n",
    "fig.show()\n"
   ]
  },
  {
   "cell_type": "code",
   "execution_count": 43,
   "metadata": {},
   "outputs": [],
   "source": [
    "from sklearn.metrics import confusion_matrix, accuracy_score, precision_score, f1_score, matthews_corrcoef\n",
    "\n",
    "# Compare the performance of the two models\n",
    "# Confusion matrix\n",
    "th_4, th_5 = 1, 2\n",
    "th_02, th_05, th_08 = 0.2, 0.5, 0.8\n",
    "thresholds_fw = [th_4, th_5]\n",
    "thresholds_spl = [th_02, th_05, th_08]\n",
    "\n",
    "def calculate_performance_metrics_fw(data, threshold):\n",
    "    data['Prediction'] = data['PriorityScore'] >= threshold\n",
    "    tn, fp, fn, tp = confusion_matrix(data['LABEL'], data['Prediction']).ravel()\n",
    "    specificity = tn / (tn + fp) if (tn + fp) else 0\n",
    "    sensitivity = tp / (tp + fn) if (tp + fn) else 0\n",
    "    accuracy = accuracy_score(data['LABEL'], data['Prediction'])\n",
    "    precision = precision_score(data['LABEL'], data['Prediction'])\n",
    "    f1 = f1_score(data['LABEL'], data['Prediction'])\n",
    "    mcc = matthews_corrcoef(data['LABEL'], data['Prediction'])\n",
    "    return specificity, sensitivity, accuracy, precision, f1, mcc\n",
    "\n",
    "def calculate_performance_metrics_spl(data, threshold):\n",
    "    data['Prediction'] = data['maxsplai'] >= threshold\n",
    "    tn, fp, fn, tp = confusion_matrix(data['LABEL'], data['Prediction']).ravel()\n",
    "    specificity = tn / (tn + fp) if (tn + fp) else 0\n",
    "    sensitivity = tp / (tp + fn) if (tp + fn) else 0\n",
    "    accuracy = accuracy_score(data['LABEL'], data['Prediction'])\n",
    "    precision = precision_score(data['LABEL'], data['Prediction'])\n",
    "    f1 = f1_score(data['LABEL'], data['Prediction'])\n",
    "    mcc = matthews_corrcoef(data['LABEL'], data['Prediction'])\n",
    "\n",
    "    return specificity, sensitivity, accuracy, precision, f1, mcc\n",
    "\n",
    "def calculate_performance_metrics(data, target, threshold):\n",
    "    data['Prediction'] = data[target] >= threshold\n",
    "    tn, fp, fn, tp = confusion_matrix(data['LABEL'], data['Prediction']).ravel()\n",
    "    specificity = tn / (tn + fp) if (tn + fp) else 0\n",
    "    sensitivity = tp / (tp + fn) if (tp + fn) else 0\n",
    "    accuracy = accuracy_score(data['LABEL'], data['Prediction'])\n",
    "    precision = precision_score(data['LABEL'], data['Prediction'])\n",
    "    f1 = f1_score(data['LABEL'], data['Prediction'])\n",
    "    mcc = matthews_corrcoef(data['LABEL'], data['Prediction'])\n",
    "    return specificity, sensitivity, accuracy, precision, f1, mcc\n",
    "\n",
    "threshold_maxent = np.round(optimal_threshold_maxent, 2)\n",
    "threshold_pangolin = np.round(optimal_threshold_pangolin, 3)\n",
    "threshold_sqirls = np.round(optimal_threshold_squirls, 3)\n",
    "\n",
    "performance_metrics = []\n",
    "for threshold in thresholds_fw:\n",
    "    specificity, sensitivity, accuracy, precision, f1, mcc = calculate_performance_metrics_fw(data, threshold)\n",
    "    performance_metrics.append({'Threshold': threshold, 'Specificity': specificity, 'Sensitivity': sensitivity, 'Accuracy': accuracy, 'Precision': precision, 'F1': f1, 'MCC': mcc})\n",
    "\n",
    "for threshold in thresholds_spl:\n",
    "    specificity, sensitivity, accuracy, precision, f1, mcc = calculate_performance_metrics(data, 'maxsplai', threshold)\n",
    "    performance_metrics.append({'Threshold': threshold, 'Specificity': specificity, 'Sensitivity': sensitivity, 'Accuracy': accuracy, 'Precision': precision, 'F1': f1, 'MCC': mcc})\n",
    "\n",
    "sensitivity, specificity, accuracy, precision, f1, mcc = calculate_performance_metrics(data2, 'maxentscan_diff', 1.8)\n",
    "performance_metrics.append({'Threshold': 'MaxEntScan', 'Specificity': specificity, 'Sensitivity': sensitivity, 'Accuracy': accuracy, 'Precision': precision, 'F1': f1, 'MCC': mcc})\n",
    "sensitivity, specificity, accuracy, precision, f1, mcc = calculate_performance_metrics(data, 'maxpangolin', 0.15)\n",
    "performance_metrics.append({'Threshold': 'Pangolin', 'Specificity': specificity, 'Sensitivity': sensitivity, 'Accuracy': accuracy, 'Precision': precision, 'F1': f1, 'MCC': mcc})\n",
    "sensitivity, specificity, accuracy, precision, f1, mcc = calculate_performance_metrics(data3, 'Squirls', 0.03)\n",
    "performance_metrics.append({'Threshold': 'Squirls', 'Specificity': specificity, 'Sensitivity': sensitivity, 'Accuracy': accuracy, 'Precision': precision, 'F1': f1, 'MCC': mcc}) \n",
    "\n",
    "performance_metrics_df = pd.DataFrame(performance_metrics)\n",
    "columns = ['Category', 'Specificity', 'Sensitivity', 'Accuracy', 'Precision', 'F1', 'MCC']\n",
    "# columns = ['Category', 'Specificity', 'Sensitivity', 'Accuracy', 'MCC', 'F1']\n",
    "performance_metrics_df.columns = columns\n",
    "performance_metrics_df.replace(\n",
    "    {'Category': {\n",
    "        1.0: 'Framework (1.0)<br> High sensitivity', \n",
    "        2.0: 'Framework (2.0)<br> High specificity', \n",
    "        0.2: 'SpliceAI (0.2)<br> High sensitivity', \n",
    "        0.5: 'SpliceAI (0.5)<br> Recommended', \n",
    "        0.8: 'SpliceAI (0.8)<br> High precision',\n",
    "        'MaxEntScan': 'MaxEntScan ({threshold_maxent})',\n",
    "        'Pangolin': 'Pangolin ({thrshold_pangolin})',\n",
    "        'Squirls': 'Squirls ({threshold_sqirls})'\n",
    "        }}, inplace=True)\n"
   ]
  },
  {
   "cell_type": "code",
   "execution_count": 52,
   "metadata": {},
   "outputs": [
    {
     "name": "stdout",
     "output_type": "stream",
     "text": [
      "1.8\n",
      "0.15\n",
      "0.03\n"
     ]
    }
   ],
   "source": [
    "print(np.round(optimal_threshold_maxent, 2))\n",
    "print(np.round(optimal_threshold_pangolin, 3))\n",
    "print(np.round(optimal_threshold_squirls, 3))"
   ]
  },
  {
   "cell_type": "markdown",
   "metadata": {},
   "source": [
    "Optimal threshold (using Youden index): 1.0\n",
    "Optimal threshold (using Youden index) - MaxEntScan: 2.073\n",
    "Optimal threshold (using Youden index) - Pangolin: 0.20000000298023224\n",
    "Optimal threshold (using Youden index) - Squirls: 0.041"
   ]
  },
  {
   "cell_type": "code",
   "execution_count": 44,
   "metadata": {},
   "outputs": [
    {
     "data": {
      "text/html": [
       "<div>\n",
       "<style scoped>\n",
       "    .dataframe tbody tr th:only-of-type {\n",
       "        vertical-align: middle;\n",
       "    }\n",
       "\n",
       "    .dataframe tbody tr th {\n",
       "        vertical-align: top;\n",
       "    }\n",
       "\n",
       "    .dataframe thead th {\n",
       "        text-align: right;\n",
       "    }\n",
       "</style>\n",
       "<table border=\"1\" class=\"dataframe\">\n",
       "  <thead>\n",
       "    <tr style=\"text-align: right;\">\n",
       "      <th></th>\n",
       "      <th>Category</th>\n",
       "      <th>Specificity</th>\n",
       "      <th>Sensitivity</th>\n",
       "      <th>Accuracy</th>\n",
       "      <th>Precision</th>\n",
       "      <th>F1</th>\n",
       "      <th>MCC</th>\n",
       "    </tr>\n",
       "  </thead>\n",
       "  <tbody>\n",
       "    <tr>\n",
       "      <th>0</th>\n",
       "      <td>Framework (1.0)&lt;br&gt; High sensitivity</td>\n",
       "      <td>0.983666</td>\n",
       "      <td>0.975666</td>\n",
       "      <td>0.976767</td>\n",
       "      <td>0.997335</td>\n",
       "      <td>0.986382</td>\n",
       "      <td>0.909971</td>\n",
       "    </tr>\n",
       "    <tr>\n",
       "      <th>1</th>\n",
       "      <td>Framework (2.0)&lt;br&gt; High specificity</td>\n",
       "      <td>0.983666</td>\n",
       "      <td>0.969003</td>\n",
       "      <td>0.971022</td>\n",
       "      <td>0.997317</td>\n",
       "      <td>0.982956</td>\n",
       "      <td>0.890532</td>\n",
       "    </tr>\n",
       "    <tr>\n",
       "      <th>2</th>\n",
       "      <td>SpliceAI (0.2)&lt;br&gt; High sensitivity</td>\n",
       "      <td>0.981851</td>\n",
       "      <td>0.950753</td>\n",
       "      <td>0.955034</td>\n",
       "      <td>0.996962</td>\n",
       "      <td>0.973310</td>\n",
       "      <td>0.840706</td>\n",
       "    </tr>\n",
       "    <tr>\n",
       "      <th>3</th>\n",
       "      <td>SpliceAI (0.5)&lt;br&gt; Recommended</td>\n",
       "      <td>0.996370</td>\n",
       "      <td>0.886153</td>\n",
       "      <td>0.901324</td>\n",
       "      <td>0.999347</td>\n",
       "      <td>0.939352</td>\n",
       "      <td>0.716771</td>\n",
       "    </tr>\n",
       "    <tr>\n",
       "      <th>4</th>\n",
       "      <td>SpliceAI (0.8)&lt;br&gt; High precision</td>\n",
       "      <td>0.998185</td>\n",
       "      <td>0.763036</td>\n",
       "      <td>0.795403</td>\n",
       "      <td>0.999620</td>\n",
       "      <td>0.865451</td>\n",
       "      <td>0.552954</td>\n",
       "    </tr>\n",
       "    <tr>\n",
       "      <th>5</th>\n",
       "      <td>MaxEntScan (2.1)&lt;br&gt; Youden index</td>\n",
       "      <td>0.969501</td>\n",
       "      <td>0.978261</td>\n",
       "      <td>0.969623</td>\n",
       "      <td>0.999682</td>\n",
       "      <td>0.984360</td>\n",
       "      <td>0.543943</td>\n",
       "    </tr>\n",
       "    <tr>\n",
       "      <th>6</th>\n",
       "      <td>Pangolin (0.2)&lt;br&gt; Youden index</td>\n",
       "      <td>0.898030</td>\n",
       "      <td>0.980036</td>\n",
       "      <td>0.909318</td>\n",
       "      <td>0.996464</td>\n",
       "      <td>0.944690</td>\n",
       "      <td>0.726953</td>\n",
       "    </tr>\n",
       "    <tr>\n",
       "      <th>7</th>\n",
       "      <td>Squirls (0.04)&lt;br&gt; Youden index</td>\n",
       "      <td>0.946987</td>\n",
       "      <td>0.989111</td>\n",
       "      <td>0.952785</td>\n",
       "      <td>0.998168</td>\n",
       "      <td>0.971904</td>\n",
       "      <td>0.836106</td>\n",
       "    </tr>\n",
       "  </tbody>\n",
       "</table>\n",
       "</div>"
      ],
      "text/plain": [
       "                               Category  Specificity  Sensitivity  Accuracy  \\\n",
       "0  Framework (1.0)<br> High sensitivity     0.983666     0.975666  0.976767   \n",
       "1  Framework (2.0)<br> High specificity     0.983666     0.969003  0.971022   \n",
       "2   SpliceAI (0.2)<br> High sensitivity     0.981851     0.950753  0.955034   \n",
       "3        SpliceAI (0.5)<br> Recommended     0.996370     0.886153  0.901324   \n",
       "4     SpliceAI (0.8)<br> High precision     0.998185     0.763036  0.795403   \n",
       "5     MaxEntScan (2.1)<br> Youden index     0.969501     0.978261  0.969623   \n",
       "6       Pangolin (0.2)<br> Youden index     0.898030     0.980036  0.909318   \n",
       "7       Squirls (0.04)<br> Youden index     0.946987     0.989111  0.952785   \n",
       "\n",
       "   Precision        F1       MCC  \n",
       "0   0.997335  0.986382  0.909971  \n",
       "1   0.997317  0.982956  0.890532  \n",
       "2   0.996962  0.973310  0.840706  \n",
       "3   0.999347  0.939352  0.716771  \n",
       "4   0.999620  0.865451  0.552954  \n",
       "5   0.999682  0.984360  0.543943  \n",
       "6   0.996464  0.944690  0.726953  \n",
       "7   0.998168  0.971904  0.836106  "
      ]
     },
     "execution_count": 44,
     "metadata": {},
     "output_type": "execute_result"
    }
   ],
   "source": [
    "performance_metrics_df"
   ]
  },
  {
   "cell_type": "code",
   "execution_count": 27,
   "metadata": {},
   "outputs": [
    {
     "data": {
      "text/html": [
       "<div>\n",
       "<style scoped>\n",
       "    .dataframe tbody tr th:only-of-type {\n",
       "        vertical-align: middle;\n",
       "    }\n",
       "\n",
       "    .dataframe tbody tr th {\n",
       "        vertical-align: top;\n",
       "    }\n",
       "\n",
       "    .dataframe thead th {\n",
       "        text-align: right;\n",
       "    }\n",
       "</style>\n",
       "<table border=\"1\" class=\"dataframe\">\n",
       "  <thead>\n",
       "    <tr style=\"text-align: right;\">\n",
       "      <th></th>\n",
       "      <th>Category</th>\n",
       "      <th>Specificity</th>\n",
       "      <th>Sensitivity</th>\n",
       "      <th>Accuracy</th>\n",
       "      <th>Precision</th>\n",
       "      <th>F1</th>\n",
       "      <th>MCC</th>\n",
       "    </tr>\n",
       "  </thead>\n",
       "  <tbody>\n",
       "    <tr>\n",
       "      <th>0</th>\n",
       "      <td>Framework (1.0)&lt;br&gt; High sensitivity</td>\n",
       "      <td>0.976669</td>\n",
       "      <td>0.972284</td>\n",
       "      <td>0.973133</td>\n",
       "      <td>0.994272</td>\n",
       "      <td>0.983155</td>\n",
       "      <td>0.918262</td>\n",
       "    </tr>\n",
       "    <tr>\n",
       "      <th>1</th>\n",
       "      <td>Framework (2.0)&lt;br&gt; High specificity</td>\n",
       "      <td>0.978278</td>\n",
       "      <td>0.966972</td>\n",
       "      <td>0.969161</td>\n",
       "      <td>0.994636</td>\n",
       "      <td>0.980609</td>\n",
       "      <td>0.907548</td>\n",
       "    </tr>\n",
       "    <tr>\n",
       "      <th>2</th>\n",
       "      <td>SpliceAI (0.2)&lt;br&gt; High sensitivity</td>\n",
       "      <td>0.973451</td>\n",
       "      <td>0.948720</td>\n",
       "      <td>0.953508</td>\n",
       "      <td>0.993327</td>\n",
       "      <td>0.970511</td>\n",
       "      <td>0.866073</td>\n",
       "    </tr>\n",
       "    <tr>\n",
       "      <th>3</th>\n",
       "      <td>SpliceAI (0.5)&lt;br&gt; Recommended</td>\n",
       "      <td>0.996782</td>\n",
       "      <td>0.890005</td>\n",
       "      <td>0.910677</td>\n",
       "      <td>0.999133</td>\n",
       "      <td>0.941417</td>\n",
       "      <td>0.778952</td>\n",
       "    </tr>\n",
       "    <tr>\n",
       "      <th>4</th>\n",
       "      <td>SpliceAI (0.8)&lt;br&gt; High precision</td>\n",
       "      <td>0.998793</td>\n",
       "      <td>0.763979</td>\n",
       "      <td>0.809439</td>\n",
       "      <td>0.999621</td>\n",
       "      <td>0.866057</td>\n",
       "      <td>0.619771</td>\n",
       "    </tr>\n",
       "    <tr>\n",
       "      <th>5</th>\n",
       "      <td>MaxEntScan (2.1)&lt;br&gt; Youden index</td>\n",
       "      <td>0.962575</td>\n",
       "      <td>0.956938</td>\n",
       "      <td>0.962456</td>\n",
       "      <td>0.999040</td>\n",
       "      <td>0.980468</td>\n",
       "      <td>0.570250</td>\n",
       "    </tr>\n",
       "    <tr>\n",
       "      <th>6</th>\n",
       "      <td>Pangolin (0.2)&lt;br&gt; Youden index</td>\n",
       "      <td>0.889812</td>\n",
       "      <td>0.981496</td>\n",
       "      <td>0.907562</td>\n",
       "      <td>0.995032</td>\n",
       "      <td>0.939485</td>\n",
       "      <td>0.767697</td>\n",
       "    </tr>\n",
       "    <tr>\n",
       "      <th>7</th>\n",
       "      <td>Squirls (0.04)&lt;br&gt; Youden index</td>\n",
       "      <td>0.942443</td>\n",
       "      <td>0.985087</td>\n",
       "      <td>0.950686</td>\n",
       "      <td>0.996223</td>\n",
       "      <td>0.968587</td>\n",
       "      <td>0.861500</td>\n",
       "    </tr>\n",
       "  </tbody>\n",
       "</table>\n",
       "</div>"
      ],
      "text/plain": [
       "                               Category  Specificity  Sensitivity  Accuracy  \\\n",
       "0  Framework (1.0)<br> High sensitivity     0.976669     0.972284  0.973133   \n",
       "1  Framework (2.0)<br> High specificity     0.978278     0.966972  0.969161   \n",
       "2   SpliceAI (0.2)<br> High sensitivity     0.973451     0.948720  0.953508   \n",
       "3        SpliceAI (0.5)<br> Recommended     0.996782     0.890005  0.910677   \n",
       "4     SpliceAI (0.8)<br> High precision     0.998793     0.763979  0.809439   \n",
       "5     MaxEntScan (2.1)<br> Youden index     0.962575     0.956938  0.962456   \n",
       "6       Pangolin (0.2)<br> Youden index     0.889812     0.981496  0.907562   \n",
       "7       Squirls (0.04)<br> Youden index     0.942443     0.985087  0.950686   \n",
       "\n",
       "   Precision        F1       MCC  \n",
       "0   0.994272  0.983155  0.918262  \n",
       "1   0.994636  0.980609  0.907548  \n",
       "2   0.993327  0.970511  0.866073  \n",
       "3   0.999133  0.941417  0.778952  \n",
       "4   0.999621  0.866057  0.619771  \n",
       "5   0.999040  0.980468  0.570250  \n",
       "6   0.995032  0.939485  0.767697  \n",
       "7   0.996223  0.968587  0.861500  "
      ]
     },
     "execution_count": 27,
     "metadata": {},
     "output_type": "execute_result"
    }
   ],
   "source": [
    "performance_metrics_df"
   ]
  },
  {
   "cell_type": "code",
   "execution_count": 45,
   "metadata": {},
   "outputs": [
    {
     "data": {
      "application/vnd.plotly.v1+json": {
       "config": {
        "plotlyServerURL": "https://plot.ly"
       },
       "data": [
        {
         "marker": {
          "color": "steelblue",
          "size": 10
         },
         "mode": "markers+text",
         "name": "F1",
         "text": [
          "0.986",
          "0.983",
          "0.973",
          "0.939",
          "0.865",
          "0.984",
          "0.945",
          "0.972"
         ],
         "textfont": {
          "size": 10
         },
         "textposition": "middle right",
         "type": "scatter",
         "x": [
          0.9863816078488797,
          0.9829562151043196,
          0.9733096085409253,
          0.939352065100568,
          0.8654509610645638,
          0.9843603378167032,
          0.9446899283864086,
          0.971904266389178
         ],
         "y": [
          0,
          1,
          2,
          3,
          4,
          5,
          6,
          7
         ]
        }
       ],
       "layout": {
        "height": 500,
        "shapes": [
         {
          "line": {
           "color": "skyblue",
           "width": 3
          },
          "type": "line",
          "x0": 0,
          "x1": 0.9863816078488797,
          "xref": "x",
          "y0": 0,
          "y1": 0,
          "yref": "y"
         },
         {
          "line": {
           "color": "skyblue",
           "width": 3
          },
          "type": "line",
          "x0": 0,
          "x1": 0.9829562151043196,
          "xref": "x",
          "y0": 1,
          "y1": 1,
          "yref": "y"
         },
         {
          "line": {
           "color": "skyblue",
           "width": 3
          },
          "type": "line",
          "x0": 0,
          "x1": 0.9733096085409253,
          "xref": "x",
          "y0": 2,
          "y1": 2,
          "yref": "y"
         },
         {
          "line": {
           "color": "skyblue",
           "width": 3
          },
          "type": "line",
          "x0": 0,
          "x1": 0.939352065100568,
          "xref": "x",
          "y0": 3,
          "y1": 3,
          "yref": "y"
         },
         {
          "line": {
           "color": "skyblue",
           "width": 3
          },
          "type": "line",
          "x0": 0,
          "x1": 0.8654509610645638,
          "xref": "x",
          "y0": 4,
          "y1": 4,
          "yref": "y"
         },
         {
          "line": {
           "color": "skyblue",
           "width": 3
          },
          "type": "line",
          "x0": 0,
          "x1": 0.9843603378167032,
          "xref": "x",
          "y0": 5,
          "y1": 5,
          "yref": "y"
         },
         {
          "line": {
           "color": "skyblue",
           "width": 3
          },
          "type": "line",
          "x0": 0,
          "x1": 0.9446899283864086,
          "xref": "x",
          "y0": 6,
          "y1": 6,
          "yref": "y"
         },
         {
          "line": {
           "color": "skyblue",
           "width": 3
          },
          "type": "line",
          "x0": 0,
          "x1": 0.971904266389178,
          "xref": "x",
          "y0": 7,
          "y1": 7,
          "yref": "y"
         }
        ],
        "template": {
         "data": {
          "bar": [
           {
            "error_x": {
             "color": "#2a3f5f"
            },
            "error_y": {
             "color": "#2a3f5f"
            },
            "marker": {
             "line": {
              "color": "#E5ECF6",
              "width": 0.5
             },
             "pattern": {
              "fillmode": "overlay",
              "size": 10,
              "solidity": 0.2
             }
            },
            "type": "bar"
           }
          ],
          "barpolar": [
           {
            "marker": {
             "line": {
              "color": "#E5ECF6",
              "width": 0.5
             },
             "pattern": {
              "fillmode": "overlay",
              "size": 10,
              "solidity": 0.2
             }
            },
            "type": "barpolar"
           }
          ],
          "carpet": [
           {
            "aaxis": {
             "endlinecolor": "#2a3f5f",
             "gridcolor": "white",
             "linecolor": "white",
             "minorgridcolor": "white",
             "startlinecolor": "#2a3f5f"
            },
            "baxis": {
             "endlinecolor": "#2a3f5f",
             "gridcolor": "white",
             "linecolor": "white",
             "minorgridcolor": "white",
             "startlinecolor": "#2a3f5f"
            },
            "type": "carpet"
           }
          ],
          "choropleth": [
           {
            "colorbar": {
             "outlinewidth": 0,
             "ticks": ""
            },
            "type": "choropleth"
           }
          ],
          "contour": [
           {
            "colorbar": {
             "outlinewidth": 0,
             "ticks": ""
            },
            "colorscale": [
             [
              0,
              "#0d0887"
             ],
             [
              0.1111111111111111,
              "#46039f"
             ],
             [
              0.2222222222222222,
              "#7201a8"
             ],
             [
              0.3333333333333333,
              "#9c179e"
             ],
             [
              0.4444444444444444,
              "#bd3786"
             ],
             [
              0.5555555555555556,
              "#d8576b"
             ],
             [
              0.6666666666666666,
              "#ed7953"
             ],
             [
              0.7777777777777778,
              "#fb9f3a"
             ],
             [
              0.8888888888888888,
              "#fdca26"
             ],
             [
              1,
              "#f0f921"
             ]
            ],
            "type": "contour"
           }
          ],
          "contourcarpet": [
           {
            "colorbar": {
             "outlinewidth": 0,
             "ticks": ""
            },
            "type": "contourcarpet"
           }
          ],
          "heatmap": [
           {
            "colorbar": {
             "outlinewidth": 0,
             "ticks": ""
            },
            "colorscale": [
             [
              0,
              "#0d0887"
             ],
             [
              0.1111111111111111,
              "#46039f"
             ],
             [
              0.2222222222222222,
              "#7201a8"
             ],
             [
              0.3333333333333333,
              "#9c179e"
             ],
             [
              0.4444444444444444,
              "#bd3786"
             ],
             [
              0.5555555555555556,
              "#d8576b"
             ],
             [
              0.6666666666666666,
              "#ed7953"
             ],
             [
              0.7777777777777778,
              "#fb9f3a"
             ],
             [
              0.8888888888888888,
              "#fdca26"
             ],
             [
              1,
              "#f0f921"
             ]
            ],
            "type": "heatmap"
           }
          ],
          "heatmapgl": [
           {
            "colorbar": {
             "outlinewidth": 0,
             "ticks": ""
            },
            "colorscale": [
             [
              0,
              "#0d0887"
             ],
             [
              0.1111111111111111,
              "#46039f"
             ],
             [
              0.2222222222222222,
              "#7201a8"
             ],
             [
              0.3333333333333333,
              "#9c179e"
             ],
             [
              0.4444444444444444,
              "#bd3786"
             ],
             [
              0.5555555555555556,
              "#d8576b"
             ],
             [
              0.6666666666666666,
              "#ed7953"
             ],
             [
              0.7777777777777778,
              "#fb9f3a"
             ],
             [
              0.8888888888888888,
              "#fdca26"
             ],
             [
              1,
              "#f0f921"
             ]
            ],
            "type": "heatmapgl"
           }
          ],
          "histogram": [
           {
            "marker": {
             "pattern": {
              "fillmode": "overlay",
              "size": 10,
              "solidity": 0.2
             }
            },
            "type": "histogram"
           }
          ],
          "histogram2d": [
           {
            "colorbar": {
             "outlinewidth": 0,
             "ticks": ""
            },
            "colorscale": [
             [
              0,
              "#0d0887"
             ],
             [
              0.1111111111111111,
              "#46039f"
             ],
             [
              0.2222222222222222,
              "#7201a8"
             ],
             [
              0.3333333333333333,
              "#9c179e"
             ],
             [
              0.4444444444444444,
              "#bd3786"
             ],
             [
              0.5555555555555556,
              "#d8576b"
             ],
             [
              0.6666666666666666,
              "#ed7953"
             ],
             [
              0.7777777777777778,
              "#fb9f3a"
             ],
             [
              0.8888888888888888,
              "#fdca26"
             ],
             [
              1,
              "#f0f921"
             ]
            ],
            "type": "histogram2d"
           }
          ],
          "histogram2dcontour": [
           {
            "colorbar": {
             "outlinewidth": 0,
             "ticks": ""
            },
            "colorscale": [
             [
              0,
              "#0d0887"
             ],
             [
              0.1111111111111111,
              "#46039f"
             ],
             [
              0.2222222222222222,
              "#7201a8"
             ],
             [
              0.3333333333333333,
              "#9c179e"
             ],
             [
              0.4444444444444444,
              "#bd3786"
             ],
             [
              0.5555555555555556,
              "#d8576b"
             ],
             [
              0.6666666666666666,
              "#ed7953"
             ],
             [
              0.7777777777777778,
              "#fb9f3a"
             ],
             [
              0.8888888888888888,
              "#fdca26"
             ],
             [
              1,
              "#f0f921"
             ]
            ],
            "type": "histogram2dcontour"
           }
          ],
          "mesh3d": [
           {
            "colorbar": {
             "outlinewidth": 0,
             "ticks": ""
            },
            "type": "mesh3d"
           }
          ],
          "parcoords": [
           {
            "line": {
             "colorbar": {
              "outlinewidth": 0,
              "ticks": ""
             }
            },
            "type": "parcoords"
           }
          ],
          "pie": [
           {
            "automargin": true,
            "type": "pie"
           }
          ],
          "scatter": [
           {
            "fillpattern": {
             "fillmode": "overlay",
             "size": 10,
             "solidity": 0.2
            },
            "type": "scatter"
           }
          ],
          "scatter3d": [
           {
            "line": {
             "colorbar": {
              "outlinewidth": 0,
              "ticks": ""
             }
            },
            "marker": {
             "colorbar": {
              "outlinewidth": 0,
              "ticks": ""
             }
            },
            "type": "scatter3d"
           }
          ],
          "scattercarpet": [
           {
            "marker": {
             "colorbar": {
              "outlinewidth": 0,
              "ticks": ""
             }
            },
            "type": "scattercarpet"
           }
          ],
          "scattergeo": [
           {
            "marker": {
             "colorbar": {
              "outlinewidth": 0,
              "ticks": ""
             }
            },
            "type": "scattergeo"
           }
          ],
          "scattergl": [
           {
            "marker": {
             "colorbar": {
              "outlinewidth": 0,
              "ticks": ""
             }
            },
            "type": "scattergl"
           }
          ],
          "scattermapbox": [
           {
            "marker": {
             "colorbar": {
              "outlinewidth": 0,
              "ticks": ""
             }
            },
            "type": "scattermapbox"
           }
          ],
          "scatterpolar": [
           {
            "marker": {
             "colorbar": {
              "outlinewidth": 0,
              "ticks": ""
             }
            },
            "type": "scatterpolar"
           }
          ],
          "scatterpolargl": [
           {
            "marker": {
             "colorbar": {
              "outlinewidth": 0,
              "ticks": ""
             }
            },
            "type": "scatterpolargl"
           }
          ],
          "scatterternary": [
           {
            "marker": {
             "colorbar": {
              "outlinewidth": 0,
              "ticks": ""
             }
            },
            "type": "scatterternary"
           }
          ],
          "surface": [
           {
            "colorbar": {
             "outlinewidth": 0,
             "ticks": ""
            },
            "colorscale": [
             [
              0,
              "#0d0887"
             ],
             [
              0.1111111111111111,
              "#46039f"
             ],
             [
              0.2222222222222222,
              "#7201a8"
             ],
             [
              0.3333333333333333,
              "#9c179e"
             ],
             [
              0.4444444444444444,
              "#bd3786"
             ],
             [
              0.5555555555555556,
              "#d8576b"
             ],
             [
              0.6666666666666666,
              "#ed7953"
             ],
             [
              0.7777777777777778,
              "#fb9f3a"
             ],
             [
              0.8888888888888888,
              "#fdca26"
             ],
             [
              1,
              "#f0f921"
             ]
            ],
            "type": "surface"
           }
          ],
          "table": [
           {
            "cells": {
             "fill": {
              "color": "#EBF0F8"
             },
             "line": {
              "color": "white"
             }
            },
            "header": {
             "fill": {
              "color": "#C8D4E3"
             },
             "line": {
              "color": "white"
             }
            },
            "type": "table"
           }
          ]
         },
         "layout": {
          "annotationdefaults": {
           "arrowcolor": "#2a3f5f",
           "arrowhead": 0,
           "arrowwidth": 1
          },
          "autotypenumbers": "strict",
          "coloraxis": {
           "colorbar": {
            "outlinewidth": 0,
            "ticks": ""
           }
          },
          "colorscale": {
           "diverging": [
            [
             0,
             "#8e0152"
            ],
            [
             0.1,
             "#c51b7d"
            ],
            [
             0.2,
             "#de77ae"
            ],
            [
             0.3,
             "#f1b6da"
            ],
            [
             0.4,
             "#fde0ef"
            ],
            [
             0.5,
             "#f7f7f7"
            ],
            [
             0.6,
             "#e6f5d0"
            ],
            [
             0.7,
             "#b8e186"
            ],
            [
             0.8,
             "#7fbc41"
            ],
            [
             0.9,
             "#4d9221"
            ],
            [
             1,
             "#276419"
            ]
           ],
           "sequential": [
            [
             0,
             "#0d0887"
            ],
            [
             0.1111111111111111,
             "#46039f"
            ],
            [
             0.2222222222222222,
             "#7201a8"
            ],
            [
             0.3333333333333333,
             "#9c179e"
            ],
            [
             0.4444444444444444,
             "#bd3786"
            ],
            [
             0.5555555555555556,
             "#d8576b"
            ],
            [
             0.6666666666666666,
             "#ed7953"
            ],
            [
             0.7777777777777778,
             "#fb9f3a"
            ],
            [
             0.8888888888888888,
             "#fdca26"
            ],
            [
             1,
             "#f0f921"
            ]
           ],
           "sequentialminus": [
            [
             0,
             "#0d0887"
            ],
            [
             0.1111111111111111,
             "#46039f"
            ],
            [
             0.2222222222222222,
             "#7201a8"
            ],
            [
             0.3333333333333333,
             "#9c179e"
            ],
            [
             0.4444444444444444,
             "#bd3786"
            ],
            [
             0.5555555555555556,
             "#d8576b"
            ],
            [
             0.6666666666666666,
             "#ed7953"
            ],
            [
             0.7777777777777778,
             "#fb9f3a"
            ],
            [
             0.8888888888888888,
             "#fdca26"
            ],
            [
             1,
             "#f0f921"
            ]
           ]
          },
          "colorway": [
           "#636efa",
           "#EF553B",
           "#00cc96",
           "#ab63fa",
           "#FFA15A",
           "#19d3f3",
           "#FF6692",
           "#B6E880",
           "#FF97FF",
           "#FECB52"
          ],
          "font": {
           "color": "#2a3f5f"
          },
          "geo": {
           "bgcolor": "white",
           "lakecolor": "white",
           "landcolor": "#E5ECF6",
           "showlakes": true,
           "showland": true,
           "subunitcolor": "white"
          },
          "hoverlabel": {
           "align": "left"
          },
          "hovermode": "closest",
          "mapbox": {
           "style": "light"
          },
          "paper_bgcolor": "white",
          "plot_bgcolor": "#E5ECF6",
          "polar": {
           "angularaxis": {
            "gridcolor": "white",
            "linecolor": "white",
            "ticks": ""
           },
           "bgcolor": "#E5ECF6",
           "radialaxis": {
            "gridcolor": "white",
            "linecolor": "white",
            "ticks": ""
           }
          },
          "scene": {
           "xaxis": {
            "backgroundcolor": "#E5ECF6",
            "gridcolor": "white",
            "gridwidth": 2,
            "linecolor": "white",
            "showbackground": true,
            "ticks": "",
            "zerolinecolor": "white"
           },
           "yaxis": {
            "backgroundcolor": "#E5ECF6",
            "gridcolor": "white",
            "gridwidth": 2,
            "linecolor": "white",
            "showbackground": true,
            "ticks": "",
            "zerolinecolor": "white"
           },
           "zaxis": {
            "backgroundcolor": "#E5ECF6",
            "gridcolor": "white",
            "gridwidth": 2,
            "linecolor": "white",
            "showbackground": true,
            "ticks": "",
            "zerolinecolor": "white"
           }
          },
          "shapedefaults": {
           "line": {
            "color": "#2a3f5f"
           }
          },
          "ternary": {
           "aaxis": {
            "gridcolor": "white",
            "linecolor": "white",
            "ticks": ""
           },
           "baxis": {
            "gridcolor": "white",
            "linecolor": "white",
            "ticks": ""
           },
           "bgcolor": "#E5ECF6",
           "caxis": {
            "gridcolor": "white",
            "linecolor": "white",
            "ticks": ""
           }
          },
          "title": {
           "x": 0.05
          },
          "xaxis": {
           "automargin": true,
           "gridcolor": "white",
           "linecolor": "white",
           "ticks": "",
           "title": {
            "standoff": 15
           },
           "zerolinecolor": "white",
           "zerolinewidth": 2
          },
          "yaxis": {
           "automargin": true,
           "gridcolor": "white",
           "linecolor": "white",
           "ticks": "",
           "title": {
            "standoff": 15
           },
           "zerolinecolor": "white",
           "zerolinewidth": 2
          }
         }
        },
        "title": {
         "text": "Lollipop Chart of F1"
        },
        "width": 800,
        "xaxis": {
         "title": {
          "text": "F1"
         }
        },
        "yaxis": {
         "autorange": "reversed",
         "tickmode": "array",
         "ticktext": [
          "Framework (1.0)<br> High sensitivity",
          "Framework (2.0)<br> High specificity",
          "SpliceAI (0.2)<br> High sensitivity",
          "SpliceAI (0.5)<br> Recommended",
          "SpliceAI (0.8)<br> High precision",
          "MaxEntScan (2.1)<br> Youden index",
          "Pangolin (0.2)<br> Youden index",
          "Squirls (0.04)<br> Youden index"
         ],
         "tickvals": [
          0,
          1,
          2,
          3,
          4,
          5,
          6,
          7
         ]
        }
       }
      }
     },
     "metadata": {},
     "output_type": "display_data"
    }
   ],
   "source": [
    "df = performance_metrics_df\n",
    "\n",
    "metric = \"MCC\"\n",
    "metric = \"F1\" \n",
    "fig = go.Figure()\n",
    "\n",
    "for i, row in df.iterrows():\n",
    "    fig.add_shape(\n",
    "        type=\"line\",\n",
    "        xref=\"x\", yref=\"y\",\n",
    "        x0=0,      # 線の始点 (横軸 0)\n",
    "        x1=row[metric],  # 線の終点 (行のAccuracy値)\n",
    "        y0=i,      # 線の縦位置 (カテゴリ index)\n",
    "        y1=i,\n",
    "        line=dict(color=\"skyblue\", width=3)\n",
    "    )\n",
    "\n",
    "fig.add_trace(\n",
    "    go.Scatter(\n",
    "        x=df[metric],              # 丸の x 座標\n",
    "        y=list(range(len(df))),    # 丸の y 座標（0,1,2,...）\n",
    "        mode=\"markers+text\",\n",
    "        marker=dict(color=\"steelblue\", size=10),\n",
    "        text=df[metric].apply(lambda x: f\"{x:.3f}\"),  # 値をラベル表示（小数第3位まで）\n",
    "        textposition=\"middle right\",\n",
    "        textfont=dict(size=10),\n",
    "        name=metric\n",
    "    )\n",
    ")\n",
    "\n",
    "fig.update_layout(\n",
    "    title=f\"Lollipop Chart of {metric}\",\n",
    "    xaxis_title=metric,\n",
    "    yaxis=dict(\n",
    "        tickmode=\"array\",\n",
    "        tickvals=list(range(len(df))),\n",
    "        ticktext=df[\"Category\"],  # カスタムの軸ラベルにカテゴリ名をセット\n",
    "        autorange=\"reversed\"      # y=0 が上に来るのを防ぎたいときは削除\n",
    "    ),\n",
    "    width=800,\n",
    "    height=500\n",
    ")\n",
    "\n",
    "fig.show()"
   ]
  },
  {
   "cell_type": "code",
   "execution_count": null,
   "metadata": {},
   "outputs": [
    {
     "data": {
      "application/vnd.plotly.v1+json": {
       "config": {
        "plotlyServerURL": "https://plot.ly"
       },
       "data": [
        {
         "marker": {
          "color": "steelblue",
          "size": 10
         },
         "mode": "markers+text",
         "showlegend": false,
         "text": [
          "0.977",
          "0.978",
          "0.973",
          "0.997",
          "0.999",
          "0.963",
          "0.890",
          "0.942"
         ],
         "textposition": "bottom center",
         "type": "scatter",
         "x": [
          0.9766693483507642,
          0.9782783588093322,
          0.9734513274336283,
          0.996781979082864,
          0.998793242156074,
          0.9625745424634999,
          0.8898116851762433,
          0.9424432641236118
         ],
         "xaxis": "x",
         "y": [
          0,
          1,
          2,
          3,
          4,
          5,
          6,
          7
         ],
         "yaxis": "y"
        },
        {
         "marker": {
          "color": "steelblue",
          "size": 10
         },
         "mode": "markers+text",
         "showlegend": false,
         "text": [
          "0.972",
          "0.967",
          "0.949",
          "0.890",
          "0.764",
          "0.957",
          "0.981",
          "0.985"
         ],
         "textposition": "bottom center",
         "type": "scatter",
         "x": [
          0.9722839208112023,
          0.9669724770642202,
          0.9487204249154998,
          0.8900048285852246,
          0.763978754225012,
          0.9569377990430622,
          0.9814963797264682,
          0.985086658605401
         ],
         "xaxis": "x2",
         "y": [
          0,
          1,
          2,
          3,
          4,
          5,
          6,
          7
         ],
         "yaxis": "y2"
        },
        {
         "marker": {
          "color": "steelblue",
          "size": 10
         },
         "mode": "markers+text",
         "showlegend": false,
         "text": [
          "0.983",
          "0.981",
          "0.971",
          "0.941",
          "0.866",
          "0.980",
          "0.939",
          "0.969"
         ],
         "textposition": "bottom center",
         "type": "scatter",
         "x": [
          0.9831551193789366,
          0.9806091469983351,
          0.9705112373425537,
          0.9414168241483222,
          0.866057255460069,
          0.9804681363564959,
          0.9394850879429009,
          0.9685871668899807
         ],
         "xaxis": "x3",
         "y": [
          0,
          1,
          2,
          3,
          4,
          5,
          6,
          7
         ],
         "yaxis": "y3"
        },
        {
         "marker": {
          "color": "steelblue",
          "size": 10
         },
         "mode": "markers+text",
         "showlegend": false,
         "text": [
          "0.918",
          "0.908",
          "0.866",
          "0.779",
          "0.620",
          "0.570",
          "0.768",
          "0.861"
         ],
         "textposition": "bottom center",
         "type": "scatter",
         "x": [
          0.9182618923412357,
          0.9075476178360043,
          0.8660733560695882,
          0.7789524290346965,
          0.6197707131527396,
          0.5702500307471577,
          0.7676967354881691,
          0.8614998037677488
         ],
         "xaxis": "x4",
         "y": [
          0,
          1,
          2,
          3,
          4,
          5,
          6,
          7
         ],
         "yaxis": "y4"
        }
       ],
       "layout": {
        "height": 600,
        "shapes": [
         {
          "line": {
           "color": "steelblue",
           "width": 2.5
          },
          "type": "line",
          "x0": 0,
          "x1": 0.9766693483507642,
          "xref": "x",
          "y0": 0,
          "y1": 0,
          "yref": "y"
         },
         {
          "line": {
           "color": "steelblue",
           "width": 2.5
          },
          "type": "line",
          "x0": 0,
          "x1": 0.9782783588093322,
          "xref": "x",
          "y0": 1,
          "y1": 1,
          "yref": "y"
         },
         {
          "line": {
           "color": "steelblue",
           "width": 2.5
          },
          "type": "line",
          "x0": 0,
          "x1": 0.9734513274336283,
          "xref": "x",
          "y0": 2,
          "y1": 2,
          "yref": "y"
         },
         {
          "line": {
           "color": "steelblue",
           "width": 2.5
          },
          "type": "line",
          "x0": 0,
          "x1": 0.996781979082864,
          "xref": "x",
          "y0": 3,
          "y1": 3,
          "yref": "y"
         },
         {
          "line": {
           "color": "steelblue",
           "width": 2.5
          },
          "type": "line",
          "x0": 0,
          "x1": 0.998793242156074,
          "xref": "x",
          "y0": 4,
          "y1": 4,
          "yref": "y"
         },
         {
          "line": {
           "color": "steelblue",
           "width": 2.5
          },
          "type": "line",
          "x0": 0,
          "x1": 0.9625745424634999,
          "xref": "x",
          "y0": 5,
          "y1": 5,
          "yref": "y"
         },
         {
          "line": {
           "color": "steelblue",
           "width": 2.5
          },
          "type": "line",
          "x0": 0,
          "x1": 0.8898116851762433,
          "xref": "x",
          "y0": 6,
          "y1": 6,
          "yref": "y"
         },
         {
          "line": {
           "color": "steelblue",
           "width": 2.5
          },
          "type": "line",
          "x0": 0,
          "x1": 0.9424432641236118,
          "xref": "x",
          "y0": 7,
          "y1": 7,
          "yref": "y"
         },
         {
          "line": {
           "color": "steelblue",
           "width": 2.5
          },
          "type": "line",
          "x0": 0,
          "x1": 0.9722839208112023,
          "xref": "x2",
          "y0": 0,
          "y1": 0,
          "yref": "y2"
         },
         {
          "line": {
           "color": "steelblue",
           "width": 2.5
          },
          "type": "line",
          "x0": 0,
          "x1": 0.9669724770642202,
          "xref": "x2",
          "y0": 1,
          "y1": 1,
          "yref": "y2"
         },
         {
          "line": {
           "color": "steelblue",
           "width": 2.5
          },
          "type": "line",
          "x0": 0,
          "x1": 0.9487204249154998,
          "xref": "x2",
          "y0": 2,
          "y1": 2,
          "yref": "y2"
         },
         {
          "line": {
           "color": "steelblue",
           "width": 2.5
          },
          "type": "line",
          "x0": 0,
          "x1": 0.8900048285852246,
          "xref": "x2",
          "y0": 3,
          "y1": 3,
          "yref": "y2"
         },
         {
          "line": {
           "color": "steelblue",
           "width": 2.5
          },
          "type": "line",
          "x0": 0,
          "x1": 0.763978754225012,
          "xref": "x2",
          "y0": 4,
          "y1": 4,
          "yref": "y2"
         },
         {
          "line": {
           "color": "steelblue",
           "width": 2.5
          },
          "type": "line",
          "x0": 0,
          "x1": 0.9569377990430622,
          "xref": "x2",
          "y0": 5,
          "y1": 5,
          "yref": "y2"
         },
         {
          "line": {
           "color": "steelblue",
           "width": 2.5
          },
          "type": "line",
          "x0": 0,
          "x1": 0.9814963797264682,
          "xref": "x2",
          "y0": 6,
          "y1": 6,
          "yref": "y2"
         },
         {
          "line": {
           "color": "steelblue",
           "width": 2.5
          },
          "type": "line",
          "x0": 0,
          "x1": 0.985086658605401,
          "xref": "x2",
          "y0": 7,
          "y1": 7,
          "yref": "y2"
         },
         {
          "line": {
           "color": "steelblue",
           "width": 2.5
          },
          "type": "line",
          "x0": 0,
          "x1": 0.9831551193789366,
          "xref": "x3",
          "y0": 0,
          "y1": 0,
          "yref": "y3"
         },
         {
          "line": {
           "color": "steelblue",
           "width": 2.5
          },
          "type": "line",
          "x0": 0,
          "x1": 0.9806091469983351,
          "xref": "x3",
          "y0": 1,
          "y1": 1,
          "yref": "y3"
         },
         {
          "line": {
           "color": "steelblue",
           "width": 2.5
          },
          "type": "line",
          "x0": 0,
          "x1": 0.9705112373425537,
          "xref": "x3",
          "y0": 2,
          "y1": 2,
          "yref": "y3"
         },
         {
          "line": {
           "color": "steelblue",
           "width": 2.5
          },
          "type": "line",
          "x0": 0,
          "x1": 0.9414168241483222,
          "xref": "x3",
          "y0": 3,
          "y1": 3,
          "yref": "y3"
         },
         {
          "line": {
           "color": "steelblue",
           "width": 2.5
          },
          "type": "line",
          "x0": 0,
          "x1": 0.866057255460069,
          "xref": "x3",
          "y0": 4,
          "y1": 4,
          "yref": "y3"
         },
         {
          "line": {
           "color": "steelblue",
           "width": 2.5
          },
          "type": "line",
          "x0": 0,
          "x1": 0.9804681363564959,
          "xref": "x3",
          "y0": 5,
          "y1": 5,
          "yref": "y3"
         },
         {
          "line": {
           "color": "steelblue",
           "width": 2.5
          },
          "type": "line",
          "x0": 0,
          "x1": 0.9394850879429009,
          "xref": "x3",
          "y0": 6,
          "y1": 6,
          "yref": "y3"
         },
         {
          "line": {
           "color": "steelblue",
           "width": 2.5
          },
          "type": "line",
          "x0": 0,
          "x1": 0.9685871668899807,
          "xref": "x3",
          "y0": 7,
          "y1": 7,
          "yref": "y3"
         },
         {
          "line": {
           "color": "steelblue",
           "width": 2.5
          },
          "type": "line",
          "x0": 0,
          "x1": 0.9182618923412357,
          "xref": "x4",
          "y0": 0,
          "y1": 0,
          "yref": "y4"
         },
         {
          "line": {
           "color": "steelblue",
           "width": 2.5
          },
          "type": "line",
          "x0": 0,
          "x1": 0.9075476178360043,
          "xref": "x4",
          "y0": 1,
          "y1": 1,
          "yref": "y4"
         },
         {
          "line": {
           "color": "steelblue",
           "width": 2.5
          },
          "type": "line",
          "x0": 0,
          "x1": 0.8660733560695882,
          "xref": "x4",
          "y0": 2,
          "y1": 2,
          "yref": "y4"
         },
         {
          "line": {
           "color": "steelblue",
           "width": 2.5
          },
          "type": "line",
          "x0": 0,
          "x1": 0.7789524290346965,
          "xref": "x4",
          "y0": 3,
          "y1": 3,
          "yref": "y4"
         },
         {
          "line": {
           "color": "steelblue",
           "width": 2.5
          },
          "type": "line",
          "x0": 0,
          "x1": 0.6197707131527396,
          "xref": "x4",
          "y0": 4,
          "y1": 4,
          "yref": "y4"
         },
         {
          "line": {
           "color": "steelblue",
           "width": 2.5
          },
          "type": "line",
          "x0": 0,
          "x1": 0.5702500307471577,
          "xref": "x4",
          "y0": 5,
          "y1": 5,
          "yref": "y4"
         },
         {
          "line": {
           "color": "steelblue",
           "width": 2.5
          },
          "type": "line",
          "x0": 0,
          "x1": 0.7676967354881691,
          "xref": "x4",
          "y0": 6,
          "y1": 6,
          "yref": "y4"
         },
         {
          "line": {
           "color": "steelblue",
           "width": 2.5
          },
          "type": "line",
          "x0": 0,
          "x1": 0.8614998037677488,
          "xref": "x4",
          "y0": 7,
          "y1": 7,
          "yref": "y4"
         }
        ],
        "template": {
         "data": {
          "bar": [
           {
            "error_x": {
             "color": "#2a3f5f"
            },
            "error_y": {
             "color": "#2a3f5f"
            },
            "marker": {
             "line": {
              "color": "#E5ECF6",
              "width": 0.5
             },
             "pattern": {
              "fillmode": "overlay",
              "size": 10,
              "solidity": 0.2
             }
            },
            "type": "bar"
           }
          ],
          "barpolar": [
           {
            "marker": {
             "line": {
              "color": "#E5ECF6",
              "width": 0.5
             },
             "pattern": {
              "fillmode": "overlay",
              "size": 10,
              "solidity": 0.2
             }
            },
            "type": "barpolar"
           }
          ],
          "carpet": [
           {
            "aaxis": {
             "endlinecolor": "#2a3f5f",
             "gridcolor": "white",
             "linecolor": "white",
             "minorgridcolor": "white",
             "startlinecolor": "#2a3f5f"
            },
            "baxis": {
             "endlinecolor": "#2a3f5f",
             "gridcolor": "white",
             "linecolor": "white",
             "minorgridcolor": "white",
             "startlinecolor": "#2a3f5f"
            },
            "type": "carpet"
           }
          ],
          "choropleth": [
           {
            "colorbar": {
             "outlinewidth": 0,
             "ticks": ""
            },
            "type": "choropleth"
           }
          ],
          "contour": [
           {
            "colorbar": {
             "outlinewidth": 0,
             "ticks": ""
            },
            "colorscale": [
             [
              0,
              "#0d0887"
             ],
             [
              0.1111111111111111,
              "#46039f"
             ],
             [
              0.2222222222222222,
              "#7201a8"
             ],
             [
              0.3333333333333333,
              "#9c179e"
             ],
             [
              0.4444444444444444,
              "#bd3786"
             ],
             [
              0.5555555555555556,
              "#d8576b"
             ],
             [
              0.6666666666666666,
              "#ed7953"
             ],
             [
              0.7777777777777778,
              "#fb9f3a"
             ],
             [
              0.8888888888888888,
              "#fdca26"
             ],
             [
              1,
              "#f0f921"
             ]
            ],
            "type": "contour"
           }
          ],
          "contourcarpet": [
           {
            "colorbar": {
             "outlinewidth": 0,
             "ticks": ""
            },
            "type": "contourcarpet"
           }
          ],
          "heatmap": [
           {
            "colorbar": {
             "outlinewidth": 0,
             "ticks": ""
            },
            "colorscale": [
             [
              0,
              "#0d0887"
             ],
             [
              0.1111111111111111,
              "#46039f"
             ],
             [
              0.2222222222222222,
              "#7201a8"
             ],
             [
              0.3333333333333333,
              "#9c179e"
             ],
             [
              0.4444444444444444,
              "#bd3786"
             ],
             [
              0.5555555555555556,
              "#d8576b"
             ],
             [
              0.6666666666666666,
              "#ed7953"
             ],
             [
              0.7777777777777778,
              "#fb9f3a"
             ],
             [
              0.8888888888888888,
              "#fdca26"
             ],
             [
              1,
              "#f0f921"
             ]
            ],
            "type": "heatmap"
           }
          ],
          "heatmapgl": [
           {
            "colorbar": {
             "outlinewidth": 0,
             "ticks": ""
            },
            "colorscale": [
             [
              0,
              "#0d0887"
             ],
             [
              0.1111111111111111,
              "#46039f"
             ],
             [
              0.2222222222222222,
              "#7201a8"
             ],
             [
              0.3333333333333333,
              "#9c179e"
             ],
             [
              0.4444444444444444,
              "#bd3786"
             ],
             [
              0.5555555555555556,
              "#d8576b"
             ],
             [
              0.6666666666666666,
              "#ed7953"
             ],
             [
              0.7777777777777778,
              "#fb9f3a"
             ],
             [
              0.8888888888888888,
              "#fdca26"
             ],
             [
              1,
              "#f0f921"
             ]
            ],
            "type": "heatmapgl"
           }
          ],
          "histogram": [
           {
            "marker": {
             "pattern": {
              "fillmode": "overlay",
              "size": 10,
              "solidity": 0.2
             }
            },
            "type": "histogram"
           }
          ],
          "histogram2d": [
           {
            "colorbar": {
             "outlinewidth": 0,
             "ticks": ""
            },
            "colorscale": [
             [
              0,
              "#0d0887"
             ],
             [
              0.1111111111111111,
              "#46039f"
             ],
             [
              0.2222222222222222,
              "#7201a8"
             ],
             [
              0.3333333333333333,
              "#9c179e"
             ],
             [
              0.4444444444444444,
              "#bd3786"
             ],
             [
              0.5555555555555556,
              "#d8576b"
             ],
             [
              0.6666666666666666,
              "#ed7953"
             ],
             [
              0.7777777777777778,
              "#fb9f3a"
             ],
             [
              0.8888888888888888,
              "#fdca26"
             ],
             [
              1,
              "#f0f921"
             ]
            ],
            "type": "histogram2d"
           }
          ],
          "histogram2dcontour": [
           {
            "colorbar": {
             "outlinewidth": 0,
             "ticks": ""
            },
            "colorscale": [
             [
              0,
              "#0d0887"
             ],
             [
              0.1111111111111111,
              "#46039f"
             ],
             [
              0.2222222222222222,
              "#7201a8"
             ],
             [
              0.3333333333333333,
              "#9c179e"
             ],
             [
              0.4444444444444444,
              "#bd3786"
             ],
             [
              0.5555555555555556,
              "#d8576b"
             ],
             [
              0.6666666666666666,
              "#ed7953"
             ],
             [
              0.7777777777777778,
              "#fb9f3a"
             ],
             [
              0.8888888888888888,
              "#fdca26"
             ],
             [
              1,
              "#f0f921"
             ]
            ],
            "type": "histogram2dcontour"
           }
          ],
          "mesh3d": [
           {
            "colorbar": {
             "outlinewidth": 0,
             "ticks": ""
            },
            "type": "mesh3d"
           }
          ],
          "parcoords": [
           {
            "line": {
             "colorbar": {
              "outlinewidth": 0,
              "ticks": ""
             }
            },
            "type": "parcoords"
           }
          ],
          "pie": [
           {
            "automargin": true,
            "type": "pie"
           }
          ],
          "scatter": [
           {
            "fillpattern": {
             "fillmode": "overlay",
             "size": 10,
             "solidity": 0.2
            },
            "type": "scatter"
           }
          ],
          "scatter3d": [
           {
            "line": {
             "colorbar": {
              "outlinewidth": 0,
              "ticks": ""
             }
            },
            "marker": {
             "colorbar": {
              "outlinewidth": 0,
              "ticks": ""
             }
            },
            "type": "scatter3d"
           }
          ],
          "scattercarpet": [
           {
            "marker": {
             "colorbar": {
              "outlinewidth": 0,
              "ticks": ""
             }
            },
            "type": "scattercarpet"
           }
          ],
          "scattergeo": [
           {
            "marker": {
             "colorbar": {
              "outlinewidth": 0,
              "ticks": ""
             }
            },
            "type": "scattergeo"
           }
          ],
          "scattergl": [
           {
            "marker": {
             "colorbar": {
              "outlinewidth": 0,
              "ticks": ""
             }
            },
            "type": "scattergl"
           }
          ],
          "scattermapbox": [
           {
            "marker": {
             "colorbar": {
              "outlinewidth": 0,
              "ticks": ""
             }
            },
            "type": "scattermapbox"
           }
          ],
          "scatterpolar": [
           {
            "marker": {
             "colorbar": {
              "outlinewidth": 0,
              "ticks": ""
             }
            },
            "type": "scatterpolar"
           }
          ],
          "scatterpolargl": [
           {
            "marker": {
             "colorbar": {
              "outlinewidth": 0,
              "ticks": ""
             }
            },
            "type": "scatterpolargl"
           }
          ],
          "scatterternary": [
           {
            "marker": {
             "colorbar": {
              "outlinewidth": 0,
              "ticks": ""
             }
            },
            "type": "scatterternary"
           }
          ],
          "surface": [
           {
            "colorbar": {
             "outlinewidth": 0,
             "ticks": ""
            },
            "colorscale": [
             [
              0,
              "#0d0887"
             ],
             [
              0.1111111111111111,
              "#46039f"
             ],
             [
              0.2222222222222222,
              "#7201a8"
             ],
             [
              0.3333333333333333,
              "#9c179e"
             ],
             [
              0.4444444444444444,
              "#bd3786"
             ],
             [
              0.5555555555555556,
              "#d8576b"
             ],
             [
              0.6666666666666666,
              "#ed7953"
             ],
             [
              0.7777777777777778,
              "#fb9f3a"
             ],
             [
              0.8888888888888888,
              "#fdca26"
             ],
             [
              1,
              "#f0f921"
             ]
            ],
            "type": "surface"
           }
          ],
          "table": [
           {
            "cells": {
             "fill": {
              "color": "#EBF0F8"
             },
             "line": {
              "color": "white"
             }
            },
            "header": {
             "fill": {
              "color": "#C8D4E3"
             },
             "line": {
              "color": "white"
             }
            },
            "type": "table"
           }
          ]
         },
         "layout": {
          "annotationdefaults": {
           "arrowcolor": "#2a3f5f",
           "arrowhead": 0,
           "arrowwidth": 1
          },
          "autotypenumbers": "strict",
          "coloraxis": {
           "colorbar": {
            "outlinewidth": 0,
            "ticks": ""
           }
          },
          "colorscale": {
           "diverging": [
            [
             0,
             "#8e0152"
            ],
            [
             0.1,
             "#c51b7d"
            ],
            [
             0.2,
             "#de77ae"
            ],
            [
             0.3,
             "#f1b6da"
            ],
            [
             0.4,
             "#fde0ef"
            ],
            [
             0.5,
             "#f7f7f7"
            ],
            [
             0.6,
             "#e6f5d0"
            ],
            [
             0.7,
             "#b8e186"
            ],
            [
             0.8,
             "#7fbc41"
            ],
            [
             0.9,
             "#4d9221"
            ],
            [
             1,
             "#276419"
            ]
           ],
           "sequential": [
            [
             0,
             "#0d0887"
            ],
            [
             0.1111111111111111,
             "#46039f"
            ],
            [
             0.2222222222222222,
             "#7201a8"
            ],
            [
             0.3333333333333333,
             "#9c179e"
            ],
            [
             0.4444444444444444,
             "#bd3786"
            ],
            [
             0.5555555555555556,
             "#d8576b"
            ],
            [
             0.6666666666666666,
             "#ed7953"
            ],
            [
             0.7777777777777778,
             "#fb9f3a"
            ],
            [
             0.8888888888888888,
             "#fdca26"
            ],
            [
             1,
             "#f0f921"
            ]
           ],
           "sequentialminus": [
            [
             0,
             "#0d0887"
            ],
            [
             0.1111111111111111,
             "#46039f"
            ],
            [
             0.2222222222222222,
             "#7201a8"
            ],
            [
             0.3333333333333333,
             "#9c179e"
            ],
            [
             0.4444444444444444,
             "#bd3786"
            ],
            [
             0.5555555555555556,
             "#d8576b"
            ],
            [
             0.6666666666666666,
             "#ed7953"
            ],
            [
             0.7777777777777778,
             "#fb9f3a"
            ],
            [
             0.8888888888888888,
             "#fdca26"
            ],
            [
             1,
             "#f0f921"
            ]
           ]
          },
          "colorway": [
           "#636efa",
           "#EF553B",
           "#00cc96",
           "#ab63fa",
           "#FFA15A",
           "#19d3f3",
           "#FF6692",
           "#B6E880",
           "#FF97FF",
           "#FECB52"
          ],
          "font": {
           "color": "#2a3f5f"
          },
          "geo": {
           "bgcolor": "white",
           "lakecolor": "white",
           "landcolor": "#E5ECF6",
           "showlakes": true,
           "showland": true,
           "subunitcolor": "white"
          },
          "hoverlabel": {
           "align": "left"
          },
          "hovermode": "closest",
          "mapbox": {
           "style": "light"
          },
          "paper_bgcolor": "white",
          "plot_bgcolor": "#E5ECF6",
          "polar": {
           "angularaxis": {
            "gridcolor": "white",
            "linecolor": "white",
            "ticks": ""
           },
           "bgcolor": "#E5ECF6",
           "radialaxis": {
            "gridcolor": "white",
            "linecolor": "white",
            "ticks": ""
           }
          },
          "scene": {
           "xaxis": {
            "backgroundcolor": "#E5ECF6",
            "gridcolor": "white",
            "gridwidth": 2,
            "linecolor": "white",
            "showbackground": true,
            "ticks": "",
            "zerolinecolor": "white"
           },
           "yaxis": {
            "backgroundcolor": "#E5ECF6",
            "gridcolor": "white",
            "gridwidth": 2,
            "linecolor": "white",
            "showbackground": true,
            "ticks": "",
            "zerolinecolor": "white"
           },
           "zaxis": {
            "backgroundcolor": "#E5ECF6",
            "gridcolor": "white",
            "gridwidth": 2,
            "linecolor": "white",
            "showbackground": true,
            "ticks": "",
            "zerolinecolor": "white"
           }
          },
          "shapedefaults": {
           "line": {
            "color": "#2a3f5f"
           }
          },
          "ternary": {
           "aaxis": {
            "gridcolor": "white",
            "linecolor": "white",
            "ticks": ""
           },
           "baxis": {
            "gridcolor": "white",
            "linecolor": "white",
            "ticks": ""
           },
           "bgcolor": "#E5ECF6",
           "caxis": {
            "gridcolor": "white",
            "linecolor": "white",
            "ticks": ""
           }
          },
          "title": {
           "x": 0.05
          },
          "xaxis": {
           "automargin": true,
           "gridcolor": "white",
           "linecolor": "white",
           "ticks": "",
           "title": {
            "standoff": 15
           },
           "zerolinecolor": "white",
           "zerolinewidth": 2
          },
          "yaxis": {
           "automargin": true,
           "gridcolor": "white",
           "linecolor": "white",
           "ticks": "",
           "title": {
            "standoff": 15
           },
           "zerolinecolor": "white",
           "zerolinewidth": 2
          }
         }
        },
        "title": {
         "text": "Lollipop Charts for Each Metric"
        },
        "width": 1200,
        "xaxis": {
         "anchor": "y",
         "domain": [
          0,
          0.2275
         ],
         "title": {
          "text": "Specificity"
         }
        },
        "xaxis2": {
         "anchor": "y2",
         "domain": [
          0.2575,
          0.485
         ],
         "title": {
          "text": "Sensitivity"
         }
        },
        "xaxis3": {
         "anchor": "y3",
         "domain": [
          0.515,
          0.7425
         ],
         "title": {
          "text": "F1"
         }
        },
        "xaxis4": {
         "anchor": "y4",
         "domain": [
          0.7725,
          1
         ],
         "title": {
          "text": "MCC"
         }
        },
        "yaxis": {
         "anchor": "x",
         "domain": [
          0,
          1
         ],
         "tickmode": "array",
         "ticktext": [
          "Framework (1.0)<br> High sensitivity",
          "Framework (2.0)<br> High specificity",
          "SpliceAI (0.2)<br> High sensitivity",
          "SpliceAI (0.5)<br> Recommended",
          "SpliceAI (0.8)<br> High precision",
          "MaxEntScan (2.1)<br> Youden index",
          "Pangolin (0.2)<br> Youden index",
          "Squirls (0.04)<br> Youden index"
         ],
         "tickvals": [
          0,
          1,
          2,
          3,
          4,
          5,
          6,
          7
         ]
        },
        "yaxis2": {
         "anchor": "x2",
         "domain": [
          0,
          1
         ],
         "matches": "y",
         "showticklabels": false,
         "tickmode": "array",
         "ticktext": [
          "Framework (1.0)<br> High sensitivity",
          "Framework (2.0)<br> High specificity",
          "SpliceAI (0.2)<br> High sensitivity",
          "SpliceAI (0.5)<br> Recommended",
          "SpliceAI (0.8)<br> High precision",
          "MaxEntScan (2.1)<br> Youden index",
          "Pangolin (0.2)<br> Youden index",
          "Squirls (0.04)<br> Youden index"
         ],
         "tickvals": [
          0,
          1,
          2,
          3,
          4,
          5,
          6,
          7
         ]
        },
        "yaxis3": {
         "anchor": "x3",
         "domain": [
          0,
          1
         ],
         "matches": "y",
         "showticklabels": false,
         "tickmode": "array",
         "ticktext": [
          "Framework (1.0)<br> High sensitivity",
          "Framework (2.0)<br> High specificity",
          "SpliceAI (0.2)<br> High sensitivity",
          "SpliceAI (0.5)<br> Recommended",
          "SpliceAI (0.8)<br> High precision",
          "MaxEntScan (2.1)<br> Youden index",
          "Pangolin (0.2)<br> Youden index",
          "Squirls (0.04)<br> Youden index"
         ],
         "tickvals": [
          0,
          1,
          2,
          3,
          4,
          5,
          6,
          7
         ]
        },
        "yaxis4": {
         "anchor": "x4",
         "domain": [
          0,
          1
         ],
         "matches": "y",
         "showticklabels": false,
         "tickmode": "array",
         "ticktext": [
          "Framework (1.0)<br> High sensitivity",
          "Framework (2.0)<br> High specificity",
          "SpliceAI (0.2)<br> High sensitivity",
          "SpliceAI (0.5)<br> Recommended",
          "SpliceAI (0.8)<br> High precision",
          "MaxEntScan (2.1)<br> Youden index",
          "Pangolin (0.2)<br> Youden index",
          "Squirls (0.04)<br> Youden index"
         ],
         "tickvals": [
          0,
          1,
          2,
          3,
          4,
          5,
          6,
          7
         ]
        }
       }
      }
     },
     "metadata": {},
     "output_type": "display_data"
    }
   ],
   "source": [
    "import pandas as pd\n",
    "import plotly.graph_objects as go\n",
    "from plotly.subplots import make_subplots\n",
    "\n",
    "# df = performance_metrics_df\n",
    "# metrics = [\"Specificity\", \"Sensitivity\", \"Accuracy\", \"Precision\", \"F1\", \"MCC\"]\n",
    "metrics = [\"Specificity\", \"Sensitivity\", \"F1\", \"MCC\"]\n",
    "\n",
    "categories = [\n",
    "    'Framework (1.0)<br> High sensitivity', \n",
    "    'Framework (2.0)<br> High specificity', \n",
    "    'SpliceAI (0.2)<br> High sensitivity', \n",
    "    'SpliceAI (0.5)<br> Recommended', \n",
    "    'SpliceAI (0.8)<br> High precision',\n",
    "    'MaxEntScan (2.1)<br> Youden index',\n",
    "    'Pangolin (0.2)<br> Youden index',\n",
    "    'Squirls (0.04)<br> Youden index']\n",
    "\n",
    "desired_order = [\n",
    "    'Framework (1.0)<br> High sensitivity', \n",
    "    'Framework (2.0)<br> High specificity', \n",
    "    'SpliceAI (0.2)<br> High sensitivity', \n",
    "    'SpliceAI (0.5)<br> Recommended', \n",
    "    'SpliceAI (0.8)<br> High precision',\n",
    "    'MaxEntScan (2.1)<br> Youden index',\n",
    "    'Pangolin (0.2)<br> Youden index',\n",
    "    'Squirls (0.04)<br> Youden index',\n",
    "]\n",
    "\n",
    "# 1) まず 'Category' 列をインデックスにセット\n",
    "df_reindexed = performance_metrics_df.set_index(\"Category\")\n",
    "# 2) desired_order の順に並べ替え (loc[リスト] で並べ替え)\n",
    "df_reindexed = df_reindexed.loc[desired_order]\n",
    "# 3) Plotly で使いやすいように連番インデックスへ戻す\n",
    "df_reindexed = df_reindexed.reset_index()\n",
    "df = df_reindexed.copy()\n",
    "\n",
    "# categories の要素を desired_order のインデックス順に並べ替えたリストを作る\n",
    "# ここでは単純なサンプル用に x 軸の値も用意\n",
    "x_values = list(range(len(categories)))  # 適当な x 値\n",
    "\n",
    "# desired_order の各カテゴリが、元の categories のどのインデックスに該当するかを探す\n",
    "idx_map = {cat: i for i, cat in enumerate(categories)}\n",
    "ordered_indices = [idx_map[cat] for cat in desired_order]\n",
    "# ordered_indices = [idx_map[cat] for cat in categories]\n",
    "\n",
    "# サブプロットの作成（横に6つ並べる例）\n",
    "fig = make_subplots(rows=1, cols=len(metrics), shared_yaxes=True, horizontal_spacing=0.03)\n",
    "\n",
    "for col_idx, metric in enumerate(metrics, start=1):\n",
    "    fig.add_trace(\n",
    "        go.Scatter(\n",
    "            x=df[metric],\n",
    "            y=list(range(len(df))),\n",
    "            mode=\"markers+text\",\n",
    "            marker=dict(color=\"steelblue\", size=10),\n",
    "            text=df[metric].apply(lambda x: f\"{x:.3f}\"),\n",
    "            textposition=\"bottom center\",\n",
    "            showlegend=False\n",
    "        ),\n",
    "        row=1,\n",
    "        col=col_idx\n",
    "    )\n",
    "    for i, row in df.iterrows():\n",
    "        # 線を追加\n",
    "        fig.add_shape(\n",
    "            type=\"line\",\n",
    "            xref=f\"x{col_idx}\",\n",
    "            yref=f\"y{col_idx}\",\n",
    "            x0=0,\n",
    "            x1=row[metric],\n",
    "            y0=i,\n",
    "            y1=i,\n",
    "            line=dict(color=\"steelblue\", width=2.5),\n",
    "            row=1,\n",
    "            col=col_idx,\n",
    "            # layer=\"below\"\n",
    "        )\n",
    "    # 丸（marker）を追加\n",
    "    # 各サブプロットごとに x 軸ラベルを設定\n",
    "    fig.update_xaxes(title_text=metric, row=1, col=col_idx)\n",
    "\n",
    "# 左端のサブプロットだけにカテゴリ名を表示\n",
    "fig.update_yaxes(\n",
    "    tickmode=\"array\",\n",
    "    tickvals=list(range(len(df))),\n",
    "    ticktext=df[\"Category\"],\n",
    "    row=1,\n",
    "    col=1\n",
    ")\n",
    "# y 軸を desired_order の並びで表示\n",
    "fig.update_yaxes(\n",
    "    tickmode=\"array\",\n",
    "    tickvals=list(range(len(desired_order))),  # 0,1,2,3,4,5,6,7\n",
    "    ticktext=desired_order                     # 表示ラベル\n",
    ")\n",
    "\n",
    "fig.update_layout(\n",
    "    width=300 * len(metrics),\n",
    "    height=600,\n",
    "    title=\"Lollipop Charts for Each Metric\"\n",
    ")\n",
    "\n",
    "fig.show()"
   ]
  },
  {
   "cell_type": "code",
   "execution_count": 99,
   "metadata": {},
   "outputs": [
    {
     "data": {
      "text/html": [
       "<div>\n",
       "<style scoped>\n",
       "    .dataframe tbody tr th:only-of-type {\n",
       "        vertical-align: middle;\n",
       "    }\n",
       "\n",
       "    .dataframe tbody tr th {\n",
       "        vertical-align: top;\n",
       "    }\n",
       "\n",
       "    .dataframe thead th {\n",
       "        text-align: right;\n",
       "    }\n",
       "</style>\n",
       "<table border=\"1\" class=\"dataframe\">\n",
       "  <thead>\n",
       "    <tr style=\"text-align: right;\">\n",
       "      <th></th>\n",
       "      <th>Category</th>\n",
       "      <th>Specificity</th>\n",
       "      <th>Sensitivity</th>\n",
       "      <th>Accuracy</th>\n",
       "      <th>Precision</th>\n",
       "      <th>F1</th>\n",
       "      <th>MCC</th>\n",
       "    </tr>\n",
       "  </thead>\n",
       "  <tbody>\n",
       "    <tr>\n",
       "      <th>0</th>\n",
       "      <td>Framework (1.0)&lt;br&gt; High sensitivity</td>\n",
       "      <td>0.976669</td>\n",
       "      <td>0.972284</td>\n",
       "      <td>0.973133</td>\n",
       "      <td>0.994272</td>\n",
       "      <td>0.983155</td>\n",
       "      <td>0.918262</td>\n",
       "    </tr>\n",
       "    <tr>\n",
       "      <th>1</th>\n",
       "      <td>Framework (2.0)&lt;br&gt; High specificity</td>\n",
       "      <td>0.978278</td>\n",
       "      <td>0.966972</td>\n",
       "      <td>0.969161</td>\n",
       "      <td>0.994636</td>\n",
       "      <td>0.980609</td>\n",
       "      <td>0.907548</td>\n",
       "    </tr>\n",
       "    <tr>\n",
       "      <th>2</th>\n",
       "      <td>SpliceAI (0.2)&lt;br&gt; High sensitivity</td>\n",
       "      <td>0.973451</td>\n",
       "      <td>0.948720</td>\n",
       "      <td>0.953508</td>\n",
       "      <td>0.993327</td>\n",
       "      <td>0.970511</td>\n",
       "      <td>0.866073</td>\n",
       "    </tr>\n",
       "    <tr>\n",
       "      <th>3</th>\n",
       "      <td>SpliceAI (0.5)&lt;br&gt; Recommended</td>\n",
       "      <td>0.996782</td>\n",
       "      <td>0.890005</td>\n",
       "      <td>0.910677</td>\n",
       "      <td>0.999133</td>\n",
       "      <td>0.941417</td>\n",
       "      <td>0.778952</td>\n",
       "    </tr>\n",
       "    <tr>\n",
       "      <th>4</th>\n",
       "      <td>SpliceAI (0.8)&lt;br&gt; High precision</td>\n",
       "      <td>0.998793</td>\n",
       "      <td>0.763979</td>\n",
       "      <td>0.809439</td>\n",
       "      <td>0.999621</td>\n",
       "      <td>0.866057</td>\n",
       "      <td>0.619771</td>\n",
       "    </tr>\n",
       "    <tr>\n",
       "      <th>5</th>\n",
       "      <td>MaxEntScan (2.1)&lt;br&gt; Youden index</td>\n",
       "      <td>0.962575</td>\n",
       "      <td>0.956938</td>\n",
       "      <td>0.962456</td>\n",
       "      <td>0.999040</td>\n",
       "      <td>0.980468</td>\n",
       "      <td>0.570250</td>\n",
       "    </tr>\n",
       "    <tr>\n",
       "      <th>6</th>\n",
       "      <td>Pangolin (0.2)&lt;br&gt; Youden index</td>\n",
       "      <td>0.889812</td>\n",
       "      <td>0.981496</td>\n",
       "      <td>0.907562</td>\n",
       "      <td>0.995032</td>\n",
       "      <td>0.939485</td>\n",
       "      <td>0.767697</td>\n",
       "    </tr>\n",
       "    <tr>\n",
       "      <th>7</th>\n",
       "      <td>Squirls (0.04)&lt;br&gt; Youden index</td>\n",
       "      <td>0.942443</td>\n",
       "      <td>0.985087</td>\n",
       "      <td>0.950686</td>\n",
       "      <td>0.996223</td>\n",
       "      <td>0.968587</td>\n",
       "      <td>0.861500</td>\n",
       "    </tr>\n",
       "  </tbody>\n",
       "</table>\n",
       "</div>"
      ],
      "text/plain": [
       "                               Category  Specificity  Sensitivity  Accuracy  \\\n",
       "0  Framework (1.0)<br> High sensitivity     0.976669     0.972284  0.973133   \n",
       "1  Framework (2.0)<br> High specificity     0.978278     0.966972  0.969161   \n",
       "2   SpliceAI (0.2)<br> High sensitivity     0.973451     0.948720  0.953508   \n",
       "3        SpliceAI (0.5)<br> Recommended     0.996782     0.890005  0.910677   \n",
       "4     SpliceAI (0.8)<br> High precision     0.998793     0.763979  0.809439   \n",
       "5     MaxEntScan (2.1)<br> Youden index     0.962575     0.956938  0.962456   \n",
       "6       Pangolin (0.2)<br> Youden index     0.889812     0.981496  0.907562   \n",
       "7       Squirls (0.04)<br> Youden index     0.942443     0.985087  0.950686   \n",
       "\n",
       "   Precision        F1       MCC  \n",
       "0   0.994272  0.983155  0.918262  \n",
       "1   0.994636  0.980609  0.907548  \n",
       "2   0.993327  0.970511  0.866073  \n",
       "3   0.999133  0.941417  0.778952  \n",
       "4   0.999621  0.866057  0.619771  \n",
       "5   0.999040  0.980468  0.570250  \n",
       "6   0.995032  0.939485  0.767697  \n",
       "7   0.996223  0.968587  0.861500  "
      ]
     },
     "execution_count": 99,
     "metadata": {},
     "output_type": "execute_result"
    }
   ],
   "source": [
    "df"
   ]
  },
  {
   "cell_type": "code",
   "execution_count": 125,
   "metadata": {},
   "outputs": [
    {
     "data": {
      "application/vnd.plotly.v1+json": {
       "config": {
        "plotlyServerURL": "https://plot.ly"
       },
       "data": [
        {
         "marker": {
          "color": "steelblue",
          "size": 10
         },
         "mode": "markers+text",
         "showlegend": false,
         "text": [
          "0.977",
          "0.978",
          "0.973",
          "0.997",
          "0.999",
          "0.963",
          "0.890",
          "0.942"
         ],
         "textposition": "bottom center",
         "type": "scatter",
         "x": [
          0.9766693483507642,
          0.9782783588093322,
          0.9734513274336283,
          0.996781979082864,
          0.998793242156074,
          0.9625745424634999,
          0.8898116851762433,
          0.9424432641236118
         ],
         "xaxis": "x",
         "y": [
          0,
          1,
          2,
          3,
          4,
          5,
          6,
          7
         ],
         "yaxis": "y"
        },
        {
         "marker": {
          "color": "steelblue",
          "size": 10
         },
         "mode": "markers+text",
         "showlegend": false,
         "text": [
          "0.972",
          "0.967",
          "0.949",
          "0.890",
          "0.764",
          "0.957",
          "0.981",
          "0.985"
         ],
         "textposition": "bottom center",
         "type": "scatter",
         "x": [
          0.9722839208112023,
          0.9669724770642202,
          0.9487204249154998,
          0.8900048285852246,
          0.763978754225012,
          0.9569377990430622,
          0.9814963797264682,
          0.985086658605401
         ],
         "xaxis": "x2",
         "y": [
          0,
          1,
          2,
          3,
          4,
          5,
          6,
          7
         ],
         "yaxis": "y2"
        },
        {
         "marker": {
          "color": "steelblue",
          "size": 10
         },
         "mode": "markers+text",
         "showlegend": false,
         "text": [
          "0.983",
          "0.981",
          "0.971",
          "0.941",
          "0.866",
          "0.980",
          "0.939",
          "0.969"
         ],
         "textposition": "bottom center",
         "type": "scatter",
         "x": [
          0.9831551193789366,
          0.9806091469983351,
          0.9705112373425537,
          0.9414168241483222,
          0.866057255460069,
          0.9804681363564959,
          0.9394850879429009,
          0.9685871668899807
         ],
         "xaxis": "x3",
         "y": [
          0,
          1,
          2,
          3,
          4,
          5,
          6,
          7
         ],
         "yaxis": "y3"
        },
        {
         "marker": {
          "color": "steelblue",
          "size": 10
         },
         "mode": "markers+text",
         "showlegend": false,
         "text": [
          "0.918",
          "0.908",
          "0.866",
          "0.779",
          "0.620",
          "0.570",
          "0.768",
          "0.861"
         ],
         "textposition": "bottom center",
         "type": "scatter",
         "x": [
          0.9182618923412357,
          0.9075476178360043,
          0.8660733560695882,
          0.7789524290346965,
          0.6197707131527396,
          0.5702500307471577,
          0.7676967354881691,
          0.8614998037677488
         ],
         "xaxis": "x4",
         "y": [
          0,
          1,
          2,
          3,
          4,
          5,
          6,
          7
         ],
         "yaxis": "y4"
        }
       ],
       "layout": {
        "height": 600,
        "paper_bgcolor": "rgba(243, 243, 243, 0)",
        "plot_bgcolor": "rgba(243, 243, 243, 1)",
        "shapes": [
         {
          "line": {
           "color": "steelblue",
           "width": 2.5
          },
          "type": "line",
          "x0": 0,
          "x1": 0.9766693483507642,
          "xref": "x",
          "y0": 0,
          "y1": 0,
          "yref": "y"
         },
         {
          "line": {
           "color": "steelblue",
           "width": 2.5
          },
          "type": "line",
          "x0": 0,
          "x1": 0.9782783588093322,
          "xref": "x",
          "y0": 1,
          "y1": 1,
          "yref": "y"
         },
         {
          "line": {
           "color": "steelblue",
           "width": 2.5
          },
          "type": "line",
          "x0": 0,
          "x1": 0.9734513274336283,
          "xref": "x",
          "y0": 2,
          "y1": 2,
          "yref": "y"
         },
         {
          "line": {
           "color": "steelblue",
           "width": 2.5
          },
          "type": "line",
          "x0": 0,
          "x1": 0.996781979082864,
          "xref": "x",
          "y0": 3,
          "y1": 3,
          "yref": "y"
         },
         {
          "line": {
           "color": "steelblue",
           "width": 2.5
          },
          "type": "line",
          "x0": 0,
          "x1": 0.998793242156074,
          "xref": "x",
          "y0": 4,
          "y1": 4,
          "yref": "y"
         },
         {
          "line": {
           "color": "steelblue",
           "width": 2.5
          },
          "type": "line",
          "x0": 0,
          "x1": 0.9625745424634999,
          "xref": "x",
          "y0": 5,
          "y1": 5,
          "yref": "y"
         },
         {
          "line": {
           "color": "steelblue",
           "width": 2.5
          },
          "type": "line",
          "x0": 0,
          "x1": 0.8898116851762433,
          "xref": "x",
          "y0": 6,
          "y1": 6,
          "yref": "y"
         },
         {
          "line": {
           "color": "steelblue",
           "width": 2.5
          },
          "type": "line",
          "x0": 0,
          "x1": 0.9424432641236118,
          "xref": "x",
          "y0": 7,
          "y1": 7,
          "yref": "y"
         },
         {
          "line": {
           "color": "steelblue",
           "width": 2.5
          },
          "type": "line",
          "x0": 0,
          "x1": 0.9722839208112023,
          "xref": "x2",
          "y0": 0,
          "y1": 0,
          "yref": "y2"
         },
         {
          "line": {
           "color": "steelblue",
           "width": 2.5
          },
          "type": "line",
          "x0": 0,
          "x1": 0.9669724770642202,
          "xref": "x2",
          "y0": 1,
          "y1": 1,
          "yref": "y2"
         },
         {
          "line": {
           "color": "steelblue",
           "width": 2.5
          },
          "type": "line",
          "x0": 0,
          "x1": 0.9487204249154998,
          "xref": "x2",
          "y0": 2,
          "y1": 2,
          "yref": "y2"
         },
         {
          "line": {
           "color": "steelblue",
           "width": 2.5
          },
          "type": "line",
          "x0": 0,
          "x1": 0.8900048285852246,
          "xref": "x2",
          "y0": 3,
          "y1": 3,
          "yref": "y2"
         },
         {
          "line": {
           "color": "steelblue",
           "width": 2.5
          },
          "type": "line",
          "x0": 0,
          "x1": 0.763978754225012,
          "xref": "x2",
          "y0": 4,
          "y1": 4,
          "yref": "y2"
         },
         {
          "line": {
           "color": "steelblue",
           "width": 2.5
          },
          "type": "line",
          "x0": 0,
          "x1": 0.9569377990430622,
          "xref": "x2",
          "y0": 5,
          "y1": 5,
          "yref": "y2"
         },
         {
          "line": {
           "color": "steelblue",
           "width": 2.5
          },
          "type": "line",
          "x0": 0,
          "x1": 0.9814963797264682,
          "xref": "x2",
          "y0": 6,
          "y1": 6,
          "yref": "y2"
         },
         {
          "line": {
           "color": "steelblue",
           "width": 2.5
          },
          "type": "line",
          "x0": 0,
          "x1": 0.985086658605401,
          "xref": "x2",
          "y0": 7,
          "y1": 7,
          "yref": "y2"
         },
         {
          "line": {
           "color": "steelblue",
           "width": 2.5
          },
          "type": "line",
          "x0": 0,
          "x1": 0.9831551193789366,
          "xref": "x3",
          "y0": 0,
          "y1": 0,
          "yref": "y3"
         },
         {
          "line": {
           "color": "steelblue",
           "width": 2.5
          },
          "type": "line",
          "x0": 0,
          "x1": 0.9806091469983351,
          "xref": "x3",
          "y0": 1,
          "y1": 1,
          "yref": "y3"
         },
         {
          "line": {
           "color": "steelblue",
           "width": 2.5
          },
          "type": "line",
          "x0": 0,
          "x1": 0.9705112373425537,
          "xref": "x3",
          "y0": 2,
          "y1": 2,
          "yref": "y3"
         },
         {
          "line": {
           "color": "steelblue",
           "width": 2.5
          },
          "type": "line",
          "x0": 0,
          "x1": 0.9414168241483222,
          "xref": "x3",
          "y0": 3,
          "y1": 3,
          "yref": "y3"
         },
         {
          "line": {
           "color": "steelblue",
           "width": 2.5
          },
          "type": "line",
          "x0": 0,
          "x1": 0.866057255460069,
          "xref": "x3",
          "y0": 4,
          "y1": 4,
          "yref": "y3"
         },
         {
          "line": {
           "color": "steelblue",
           "width": 2.5
          },
          "type": "line",
          "x0": 0,
          "x1": 0.9804681363564959,
          "xref": "x3",
          "y0": 5,
          "y1": 5,
          "yref": "y3"
         },
         {
          "line": {
           "color": "steelblue",
           "width": 2.5
          },
          "type": "line",
          "x0": 0,
          "x1": 0.9394850879429009,
          "xref": "x3",
          "y0": 6,
          "y1": 6,
          "yref": "y3"
         },
         {
          "line": {
           "color": "steelblue",
           "width": 2.5
          },
          "type": "line",
          "x0": 0,
          "x1": 0.9685871668899807,
          "xref": "x3",
          "y0": 7,
          "y1": 7,
          "yref": "y3"
         },
         {
          "line": {
           "color": "steelblue",
           "width": 2.5
          },
          "type": "line",
          "x0": 0,
          "x1": 0.9182618923412357,
          "xref": "x4",
          "y0": 0,
          "y1": 0,
          "yref": "y4"
         },
         {
          "line": {
           "color": "steelblue",
           "width": 2.5
          },
          "type": "line",
          "x0": 0,
          "x1": 0.9075476178360043,
          "xref": "x4",
          "y0": 1,
          "y1": 1,
          "yref": "y4"
         },
         {
          "line": {
           "color": "steelblue",
           "width": 2.5
          },
          "type": "line",
          "x0": 0,
          "x1": 0.8660733560695882,
          "xref": "x4",
          "y0": 2,
          "y1": 2,
          "yref": "y4"
         },
         {
          "line": {
           "color": "steelblue",
           "width": 2.5
          },
          "type": "line",
          "x0": 0,
          "x1": 0.7789524290346965,
          "xref": "x4",
          "y0": 3,
          "y1": 3,
          "yref": "y4"
         },
         {
          "line": {
           "color": "steelblue",
           "width": 2.5
          },
          "type": "line",
          "x0": 0,
          "x1": 0.6197707131527396,
          "xref": "x4",
          "y0": 4,
          "y1": 4,
          "yref": "y4"
         },
         {
          "line": {
           "color": "steelblue",
           "width": 2.5
          },
          "type": "line",
          "x0": 0,
          "x1": 0.5702500307471577,
          "xref": "x4",
          "y0": 5,
          "y1": 5,
          "yref": "y4"
         },
         {
          "line": {
           "color": "steelblue",
           "width": 2.5
          },
          "type": "line",
          "x0": 0,
          "x1": 0.7676967354881691,
          "xref": "x4",
          "y0": 6,
          "y1": 6,
          "yref": "y4"
         },
         {
          "line": {
           "color": "steelblue",
           "width": 2.5
          },
          "type": "line",
          "x0": 0,
          "x1": 0.8614998037677488,
          "xref": "x4",
          "y0": 7,
          "y1": 7,
          "yref": "y4"
         }
        ],
        "template": {
         "data": {
          "bar": [
           {
            "error_x": {
             "color": "#2a3f5f"
            },
            "error_y": {
             "color": "#2a3f5f"
            },
            "marker": {
             "line": {
              "color": "#E5ECF6",
              "width": 0.5
             },
             "pattern": {
              "fillmode": "overlay",
              "size": 10,
              "solidity": 0.2
             }
            },
            "type": "bar"
           }
          ],
          "barpolar": [
           {
            "marker": {
             "line": {
              "color": "#E5ECF6",
              "width": 0.5
             },
             "pattern": {
              "fillmode": "overlay",
              "size": 10,
              "solidity": 0.2
             }
            },
            "type": "barpolar"
           }
          ],
          "carpet": [
           {
            "aaxis": {
             "endlinecolor": "#2a3f5f",
             "gridcolor": "white",
             "linecolor": "white",
             "minorgridcolor": "white",
             "startlinecolor": "#2a3f5f"
            },
            "baxis": {
             "endlinecolor": "#2a3f5f",
             "gridcolor": "white",
             "linecolor": "white",
             "minorgridcolor": "white",
             "startlinecolor": "#2a3f5f"
            },
            "type": "carpet"
           }
          ],
          "choropleth": [
           {
            "colorbar": {
             "outlinewidth": 0,
             "ticks": ""
            },
            "type": "choropleth"
           }
          ],
          "contour": [
           {
            "colorbar": {
             "outlinewidth": 0,
             "ticks": ""
            },
            "colorscale": [
             [
              0,
              "#0d0887"
             ],
             [
              0.1111111111111111,
              "#46039f"
             ],
             [
              0.2222222222222222,
              "#7201a8"
             ],
             [
              0.3333333333333333,
              "#9c179e"
             ],
             [
              0.4444444444444444,
              "#bd3786"
             ],
             [
              0.5555555555555556,
              "#d8576b"
             ],
             [
              0.6666666666666666,
              "#ed7953"
             ],
             [
              0.7777777777777778,
              "#fb9f3a"
             ],
             [
              0.8888888888888888,
              "#fdca26"
             ],
             [
              1,
              "#f0f921"
             ]
            ],
            "type": "contour"
           }
          ],
          "contourcarpet": [
           {
            "colorbar": {
             "outlinewidth": 0,
             "ticks": ""
            },
            "type": "contourcarpet"
           }
          ],
          "heatmap": [
           {
            "colorbar": {
             "outlinewidth": 0,
             "ticks": ""
            },
            "colorscale": [
             [
              0,
              "#0d0887"
             ],
             [
              0.1111111111111111,
              "#46039f"
             ],
             [
              0.2222222222222222,
              "#7201a8"
             ],
             [
              0.3333333333333333,
              "#9c179e"
             ],
             [
              0.4444444444444444,
              "#bd3786"
             ],
             [
              0.5555555555555556,
              "#d8576b"
             ],
             [
              0.6666666666666666,
              "#ed7953"
             ],
             [
              0.7777777777777778,
              "#fb9f3a"
             ],
             [
              0.8888888888888888,
              "#fdca26"
             ],
             [
              1,
              "#f0f921"
             ]
            ],
            "type": "heatmap"
           }
          ],
          "heatmapgl": [
           {
            "colorbar": {
             "outlinewidth": 0,
             "ticks": ""
            },
            "colorscale": [
             [
              0,
              "#0d0887"
             ],
             [
              0.1111111111111111,
              "#46039f"
             ],
             [
              0.2222222222222222,
              "#7201a8"
             ],
             [
              0.3333333333333333,
              "#9c179e"
             ],
             [
              0.4444444444444444,
              "#bd3786"
             ],
             [
              0.5555555555555556,
              "#d8576b"
             ],
             [
              0.6666666666666666,
              "#ed7953"
             ],
             [
              0.7777777777777778,
              "#fb9f3a"
             ],
             [
              0.8888888888888888,
              "#fdca26"
             ],
             [
              1,
              "#f0f921"
             ]
            ],
            "type": "heatmapgl"
           }
          ],
          "histogram": [
           {
            "marker": {
             "pattern": {
              "fillmode": "overlay",
              "size": 10,
              "solidity": 0.2
             }
            },
            "type": "histogram"
           }
          ],
          "histogram2d": [
           {
            "colorbar": {
             "outlinewidth": 0,
             "ticks": ""
            },
            "colorscale": [
             [
              0,
              "#0d0887"
             ],
             [
              0.1111111111111111,
              "#46039f"
             ],
             [
              0.2222222222222222,
              "#7201a8"
             ],
             [
              0.3333333333333333,
              "#9c179e"
             ],
             [
              0.4444444444444444,
              "#bd3786"
             ],
             [
              0.5555555555555556,
              "#d8576b"
             ],
             [
              0.6666666666666666,
              "#ed7953"
             ],
             [
              0.7777777777777778,
              "#fb9f3a"
             ],
             [
              0.8888888888888888,
              "#fdca26"
             ],
             [
              1,
              "#f0f921"
             ]
            ],
            "type": "histogram2d"
           }
          ],
          "histogram2dcontour": [
           {
            "colorbar": {
             "outlinewidth": 0,
             "ticks": ""
            },
            "colorscale": [
             [
              0,
              "#0d0887"
             ],
             [
              0.1111111111111111,
              "#46039f"
             ],
             [
              0.2222222222222222,
              "#7201a8"
             ],
             [
              0.3333333333333333,
              "#9c179e"
             ],
             [
              0.4444444444444444,
              "#bd3786"
             ],
             [
              0.5555555555555556,
              "#d8576b"
             ],
             [
              0.6666666666666666,
              "#ed7953"
             ],
             [
              0.7777777777777778,
              "#fb9f3a"
             ],
             [
              0.8888888888888888,
              "#fdca26"
             ],
             [
              1,
              "#f0f921"
             ]
            ],
            "type": "histogram2dcontour"
           }
          ],
          "mesh3d": [
           {
            "colorbar": {
             "outlinewidth": 0,
             "ticks": ""
            },
            "type": "mesh3d"
           }
          ],
          "parcoords": [
           {
            "line": {
             "colorbar": {
              "outlinewidth": 0,
              "ticks": ""
             }
            },
            "type": "parcoords"
           }
          ],
          "pie": [
           {
            "automargin": true,
            "type": "pie"
           }
          ],
          "scatter": [
           {
            "fillpattern": {
             "fillmode": "overlay",
             "size": 10,
             "solidity": 0.2
            },
            "type": "scatter"
           }
          ],
          "scatter3d": [
           {
            "line": {
             "colorbar": {
              "outlinewidth": 0,
              "ticks": ""
             }
            },
            "marker": {
             "colorbar": {
              "outlinewidth": 0,
              "ticks": ""
             }
            },
            "type": "scatter3d"
           }
          ],
          "scattercarpet": [
           {
            "marker": {
             "colorbar": {
              "outlinewidth": 0,
              "ticks": ""
             }
            },
            "type": "scattercarpet"
           }
          ],
          "scattergeo": [
           {
            "marker": {
             "colorbar": {
              "outlinewidth": 0,
              "ticks": ""
             }
            },
            "type": "scattergeo"
           }
          ],
          "scattergl": [
           {
            "marker": {
             "colorbar": {
              "outlinewidth": 0,
              "ticks": ""
             }
            },
            "type": "scattergl"
           }
          ],
          "scattermapbox": [
           {
            "marker": {
             "colorbar": {
              "outlinewidth": 0,
              "ticks": ""
             }
            },
            "type": "scattermapbox"
           }
          ],
          "scatterpolar": [
           {
            "marker": {
             "colorbar": {
              "outlinewidth": 0,
              "ticks": ""
             }
            },
            "type": "scatterpolar"
           }
          ],
          "scatterpolargl": [
           {
            "marker": {
             "colorbar": {
              "outlinewidth": 0,
              "ticks": ""
             }
            },
            "type": "scatterpolargl"
           }
          ],
          "scatterternary": [
           {
            "marker": {
             "colorbar": {
              "outlinewidth": 0,
              "ticks": ""
             }
            },
            "type": "scatterternary"
           }
          ],
          "surface": [
           {
            "colorbar": {
             "outlinewidth": 0,
             "ticks": ""
            },
            "colorscale": [
             [
              0,
              "#0d0887"
             ],
             [
              0.1111111111111111,
              "#46039f"
             ],
             [
              0.2222222222222222,
              "#7201a8"
             ],
             [
              0.3333333333333333,
              "#9c179e"
             ],
             [
              0.4444444444444444,
              "#bd3786"
             ],
             [
              0.5555555555555556,
              "#d8576b"
             ],
             [
              0.6666666666666666,
              "#ed7953"
             ],
             [
              0.7777777777777778,
              "#fb9f3a"
             ],
             [
              0.8888888888888888,
              "#fdca26"
             ],
             [
              1,
              "#f0f921"
             ]
            ],
            "type": "surface"
           }
          ],
          "table": [
           {
            "cells": {
             "fill": {
              "color": "#EBF0F8"
             },
             "line": {
              "color": "white"
             }
            },
            "header": {
             "fill": {
              "color": "#C8D4E3"
             },
             "line": {
              "color": "white"
             }
            },
            "type": "table"
           }
          ]
         },
         "layout": {
          "annotationdefaults": {
           "arrowcolor": "#2a3f5f",
           "arrowhead": 0,
           "arrowwidth": 1
          },
          "autotypenumbers": "strict",
          "coloraxis": {
           "colorbar": {
            "outlinewidth": 0,
            "ticks": ""
           }
          },
          "colorscale": {
           "diverging": [
            [
             0,
             "#8e0152"
            ],
            [
             0.1,
             "#c51b7d"
            ],
            [
             0.2,
             "#de77ae"
            ],
            [
             0.3,
             "#f1b6da"
            ],
            [
             0.4,
             "#fde0ef"
            ],
            [
             0.5,
             "#f7f7f7"
            ],
            [
             0.6,
             "#e6f5d0"
            ],
            [
             0.7,
             "#b8e186"
            ],
            [
             0.8,
             "#7fbc41"
            ],
            [
             0.9,
             "#4d9221"
            ],
            [
             1,
             "#276419"
            ]
           ],
           "sequential": [
            [
             0,
             "#0d0887"
            ],
            [
             0.1111111111111111,
             "#46039f"
            ],
            [
             0.2222222222222222,
             "#7201a8"
            ],
            [
             0.3333333333333333,
             "#9c179e"
            ],
            [
             0.4444444444444444,
             "#bd3786"
            ],
            [
             0.5555555555555556,
             "#d8576b"
            ],
            [
             0.6666666666666666,
             "#ed7953"
            ],
            [
             0.7777777777777778,
             "#fb9f3a"
            ],
            [
             0.8888888888888888,
             "#fdca26"
            ],
            [
             1,
             "#f0f921"
            ]
           ],
           "sequentialminus": [
            [
             0,
             "#0d0887"
            ],
            [
             0.1111111111111111,
             "#46039f"
            ],
            [
             0.2222222222222222,
             "#7201a8"
            ],
            [
             0.3333333333333333,
             "#9c179e"
            ],
            [
             0.4444444444444444,
             "#bd3786"
            ],
            [
             0.5555555555555556,
             "#d8576b"
            ],
            [
             0.6666666666666666,
             "#ed7953"
            ],
            [
             0.7777777777777778,
             "#fb9f3a"
            ],
            [
             0.8888888888888888,
             "#fdca26"
            ],
            [
             1,
             "#f0f921"
            ]
           ]
          },
          "colorway": [
           "#636efa",
           "#EF553B",
           "#00cc96",
           "#ab63fa",
           "#FFA15A",
           "#19d3f3",
           "#FF6692",
           "#B6E880",
           "#FF97FF",
           "#FECB52"
          ],
          "font": {
           "color": "#2a3f5f"
          },
          "geo": {
           "bgcolor": "white",
           "lakecolor": "white",
           "landcolor": "#E5ECF6",
           "showlakes": true,
           "showland": true,
           "subunitcolor": "white"
          },
          "hoverlabel": {
           "align": "left"
          },
          "hovermode": "closest",
          "mapbox": {
           "style": "light"
          },
          "paper_bgcolor": "white",
          "plot_bgcolor": "#E5ECF6",
          "polar": {
           "angularaxis": {
            "gridcolor": "white",
            "linecolor": "white",
            "ticks": ""
           },
           "bgcolor": "#E5ECF6",
           "radialaxis": {
            "gridcolor": "white",
            "linecolor": "white",
            "ticks": ""
           }
          },
          "scene": {
           "xaxis": {
            "backgroundcolor": "#E5ECF6",
            "gridcolor": "white",
            "gridwidth": 2,
            "linecolor": "white",
            "showbackground": true,
            "ticks": "",
            "zerolinecolor": "white"
           },
           "yaxis": {
            "backgroundcolor": "#E5ECF6",
            "gridcolor": "white",
            "gridwidth": 2,
            "linecolor": "white",
            "showbackground": true,
            "ticks": "",
            "zerolinecolor": "white"
           },
           "zaxis": {
            "backgroundcolor": "#E5ECF6",
            "gridcolor": "white",
            "gridwidth": 2,
            "linecolor": "white",
            "showbackground": true,
            "ticks": "",
            "zerolinecolor": "white"
           }
          },
          "shapedefaults": {
           "line": {
            "color": "#2a3f5f"
           }
          },
          "ternary": {
           "aaxis": {
            "gridcolor": "white",
            "linecolor": "white",
            "ticks": ""
           },
           "baxis": {
            "gridcolor": "white",
            "linecolor": "white",
            "ticks": ""
           },
           "bgcolor": "#E5ECF6",
           "caxis": {
            "gridcolor": "white",
            "linecolor": "white",
            "ticks": ""
           }
          },
          "title": {
           "x": 0.05
          },
          "xaxis": {
           "automargin": true,
           "gridcolor": "white",
           "linecolor": "white",
           "ticks": "",
           "title": {
            "standoff": 15
           },
           "zerolinecolor": "white",
           "zerolinewidth": 2
          },
          "yaxis": {
           "automargin": true,
           "gridcolor": "white",
           "linecolor": "white",
           "ticks": "",
           "title": {
            "standoff": 15
           },
           "zerolinecolor": "white",
           "zerolinewidth": 2
          }
         }
        },
        "title": {
         "text": "Lollipop Charts for Each Metric (Ordered by desired_order)"
        },
        "width": 1200,
        "xaxis": {
         "anchor": "y",
         "domain": [
          0,
          0.2275
         ],
         "title": {
          "text": "Specificity"
         }
        },
        "xaxis2": {
         "anchor": "y2",
         "domain": [
          0.2575,
          0.485
         ],
         "title": {
          "text": "Sensitivity"
         }
        },
        "xaxis3": {
         "anchor": "y3",
         "domain": [
          0.515,
          0.7425
         ],
         "title": {
          "text": "F1"
         }
        },
        "xaxis4": {
         "anchor": "y4",
         "domain": [
          0.7725,
          1
         ],
         "title": {
          "text": "MCC"
         }
        },
        "yaxis": {
         "anchor": "x",
         "autorange": "reversed",
         "domain": [
          0,
          1
         ],
         "tickmode": "array",
         "ticktext": [
          "Framework (1.0)<br> High sensitivity",
          "Framework (2.0)<br> High specificity",
          "SpliceAI (0.2)<br> High sensitivity",
          "SpliceAI (0.5)<br> Recommended",
          "SpliceAI (0.8)<br> High precision",
          "MaxEntScan (2.1)<br> Youden index",
          "Pangolin (0.2)<br> Youden index",
          "Squirls (0.04)<br> Youden index"
         ],
         "tickvals": [
          0,
          1,
          2,
          3,
          4,
          5,
          6,
          7
         ]
        },
        "yaxis2": {
         "anchor": "x2",
         "domain": [
          0,
          1
         ],
         "matches": "y",
         "showticklabels": false
        },
        "yaxis3": {
         "anchor": "x3",
         "domain": [
          0,
          1
         ],
         "matches": "y",
         "showticklabels": false
        },
        "yaxis4": {
         "anchor": "x4",
         "domain": [
          0,
          1
         ],
         "matches": "y",
         "showticklabels": false
        }
       }
      }
     },
     "metadata": {},
     "output_type": "display_data"
    }
   ],
   "source": [
    "fig = make_subplots(rows=1, cols=len(metrics), shared_yaxes=True, horizontal_spacing=0.03)\n",
    "\n",
    "desired_order = [\n",
    "    'Framework (1.0)<br> High sensitivity', \n",
    "    'Framework (2.0)<br> High specificity', \n",
    "    'SpliceAI (0.2)<br> High sensitivity', \n",
    "    'SpliceAI (0.5)<br> Recommended', \n",
    "    'SpliceAI (0.8)<br> High precision',\n",
    "    'MaxEntScan (2.1)<br> Youden index',\n",
    "    'Pangolin (0.2)<br> Youden index',\n",
    "    'Squirls (0.04)<br> Youden index',\n",
    "]\n",
    "\n",
    "# 1) dfの行を並べ替える\n",
    "df_reordered = df.set_index(\"Category\").loc[desired_order].reset_index()\n",
    "\n",
    "for col_idx, metric in enumerate(metrics, start=1):\n",
    "    # 丸マーカー\n",
    "    fig.add_trace(\n",
    "        go.Scatter(\n",
    "            x=df_reindexed[metric],\n",
    "            y=list(range(len(df_reindexed))),     # ← 並べ替え後の行順をそのまま 0,1,2,... に\n",
    "            mode=\"markers+text\",\n",
    "            marker=dict(color=\"steelblue\", size=10),\n",
    "            text=df_reindexed[metric].apply(lambda x: f\"{x:.3f}\"),\n",
    "            textposition=\"bottom center\",\n",
    "            showlegend=False\n",
    "        ),\n",
    "        row=1,\n",
    "        col=col_idx\n",
    "    )\n",
    "    # 棒の部分 (Shapes)\n",
    "    for i, row_ in df_reindexed.iterrows():\n",
    "        fig.add_shape(\n",
    "            type=\"line\",\n",
    "            xref=f\"x{col_idx}\",\n",
    "            yref=f\"y{col_idx}\",\n",
    "            x0=0,\n",
    "            x1=row_[metric],\n",
    "            y0=i,\n",
    "            y1=i,\n",
    "            line=dict(color=\"steelblue\", width=2.5),\n",
    "            row=1,\n",
    "            col=col_idx\n",
    "        )\n",
    "    # X 軸ラベル\n",
    "    fig.update_xaxes(title_text=metric, row=1, col=col_idx)\n",
    "\n",
    "# 左端サブプロットの Y 軸だけカテゴリ名を表示\n",
    "fig.update_yaxes(\n",
    "    tickmode=\"array\",\n",
    "    tickvals=list(range(len(df_reindexed))),\n",
    "    ticktext=df_reindexed[\"Category\"],  # reindexed後の Category\n",
    "    autorange=\"reversed\",\n",
    "    row=1,\n",
    "    col=1\n",
    ")\n",
    "\n",
    "\n",
    "\n",
    "fig.update_layout(\n",
    "    width=300 * len(metrics),\n",
    "    height=600,\n",
    "    plot_bgcolor='rgba(243, 243, 243, 1)',\n",
    "    paper_bgcolor='rgba(243, 243, 243, 0)',\n",
    "    title=\"Lollipop Charts for Each Metric (Ordered by desired_order)\"\n",
    ")\n",
    "fig.show()\n"
   ]
  },
  {
   "cell_type": "code",
   "execution_count": 86,
   "metadata": {},
   "outputs": [
    {
     "ename": "SyntaxError",
     "evalue": "positional argument follows keyword argument (1000424662.py, line 24)",
     "output_type": "error",
     "traceback": [
      "\u001b[0;36m  Cell \u001b[0;32mIn[86], line 24\u001b[0;36m\u001b[0m\n\u001b[0;31m    ...\u001b[0m\n\u001b[0m    ^\u001b[0m\n\u001b[0;31mSyntaxError\u001b[0m\u001b[0;31m:\u001b[0m positional argument follows keyword argument\n"
     ]
    }
   ],
   "source": [
    "desired_order = [\n",
    "    \"Framework (1.0)<br> High sensitivity\",\n",
    "    \"Squirls (0.03)<br> Youden index\",\n",
    "    \"Pangolin (0.15)<br> Youden index\",\n",
    "    \"MaxEntScan (1.8)<br> Youden index\",\n",
    "    \"SpliceAI (0.8)<br> High precision\",\n",
    "    \"SpliceAI (0.5)<br> Recommended\",\n",
    "    \"SpliceAI (0.2)<br> High sensitivity\",\n",
    "    \"Framework (2.0)<br> High specificity\",\n",
    "]\n",
    "\n",
    "# 1) dfの行を並べ替える\n",
    "df_reordered = df.set_index(\"Category\").loc[desired_order].reset_index()\n",
    "\n",
    "# 2) あとは df_reordered を使ってLollipopチャートを作る\n",
    "fig = make_subplots(rows=1, cols=len(metrics), shared_yaxes=True, horizontal_spacing=0.03)\n",
    "for col_idx, metric in enumerate(metrics, start=1):\n",
    "    # 丸の Scatter\n",
    "    fig.add_trace(\n",
    "        go.Scatter(\n",
    "            x=df_reordered[metric],\n",
    "            y=list(range(len(df_reordered))),\n",
    "            mode=\"markers+text\",\n",
    "            ...\n",
    "        ),\n",
    "        row=1,\n",
    "        col=col_idx\n",
    "    )\n",
    "    # 線 (Shapes)\n",
    "    for i, row_ in df_reordered.iterrows():\n",
    "        fig.add_shape(\n",
    "            type=\"line\",\n",
    "            xref=f\"x{col_idx}\",\n",
    "            yref=f\"y{col_idx}\",\n",
    "            x0=0,\n",
    "            x1=row_[metric],\n",
    "            y0=i,\n",
    "            y1=i,\n",
    "            ...\n",
    "        )\n",
    "    ...\n",
    "# 左端のサブプロットだけにカテゴリ名を設定\n",
    "fig.update_yaxes(\n",
    "    tickmode=\"array\",\n",
    "    tickvals=list(range(len(df_reordered))),            # [0,1,2,...,7]\n",
    "    ticktext=df_reordered[\"Category\"],                  # 並べ替え後のカテゴリ順\n",
    "    row=1, \n",
    "    col=1\n",
    ")\n",
    "fig.update_layout(...)\n",
    "fig.show()\n"
   ]
  },
  {
   "cell_type": "code",
   "execution_count": null,
   "metadata": {},
   "outputs": [],
   "source": []
  }
 ],
 "metadata": {
  "kernelspec": {
   "display_name": "sss",
   "language": "python",
   "name": "python3"
  },
  "language_info": {
   "codemirror_mode": {
    "name": "ipython",
    "version": 3
   },
   "file_extension": ".py",
   "mimetype": "text/x-python",
   "name": "python",
   "nbconvert_exporter": "python",
   "pygments_lexer": "ipython3",
   "version": "3.8.20"
  }
 },
 "nbformat": 4,
 "nbformat_minor": 2
}
