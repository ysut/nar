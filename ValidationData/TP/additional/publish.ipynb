{
 "cells": [
  {
   "cell_type": "code",
   "execution_count": 1,
   "metadata": {},
   "outputs": [
    {
     "name": "stdout",
     "output_type": "stream",
     "text": [
      "INFO: Pandarallel will run on 7 workers.\n",
      "INFO: Pandarallel will use standard multiprocessing data transfer (pipe) to transfer data between the main process and workers.\n"
     ]
    }
   ],
   "source": [
    "# conda create -n sss python=3.8 -y && conda activate sss\n",
    "# conda install -y -c bioconda gffutils jupyter tqdm cyvcf2 pathlib2 pandarallel pysam liftover pybedtools\n",
    "\n",
    "import os\n",
    "import numpy as np\n",
    "import pandas as pd\n",
    "# from Bio.Seq import Seq\n",
    "# from liftover import get_lifter\n",
    "from pathlib2 import Path\n",
    "from pandarallel import pandarallel\n",
    "from tqdm import tqdm\n",
    "import gffutils\n",
    "import pysam\n",
    "from cyvcf2 import VCF\n",
    "\n",
    "### Logging setup\n",
    "from logging import getLogger, config\n",
    "import yaml\n",
    "parent_directory = os.path.dirname(os.path.dirname('__file__'))\n",
    "config_path: str = os.path.join(parent_directory, '../../../config/logging.yaml')\n",
    "with open(config_path, 'r') as f:\n",
    "    config.dictConfig(yaml.safe_load(f))\n",
    "logger = getLogger(__name__)\n",
    "\n",
    "########   Initialize and setup pandas methods   ########\n",
    "os.environ['JOBLIB_TEMP_FOLDER'] = '/tmp' \n",
    "pandarallel.initialize(nb_workers=os.cpu_count()-1, progress_bar=False, verbose=2, use_memory_fs=False) \n",
    "tqdm.pandas()\n",
    "\n",
    "import sys\n",
    "try: \n",
    "    __file__\n",
    "    sys.path.append(os.path.join(os.path.dirname('__file__')))\n",
    "except NameError:\n",
    "    Path().resolve()\n",
    "    sys.path.append(os.path.join(Path().resolve(), '../../../'))\n",
    "\n",
    "from libs import utils, preprocess, variantfilter, posparser, splaiparser\n",
    "# from libs import predeffect, scoring\n",
    "from libs import anno_spliceai, anno_clinvar\n",
    "from libs.deco import print_filtering_count\n",
    "# from libs import predeffect\n",
    "from libs.scoring import Scoring\n",
    "from libs import predeffect\n",
    "\n",
    "\n",
    "gencode_gff = '../../../Resources/05_GENCODE_v43lift37/gencode.v43lift37.annotation.sort.gff3.gz'\n",
    "\n",
    "try:\n",
    "    db_anno_gencode = '../../../Resources/06_gffutilsdb/gencode.v43lift37.annotation.gtf.db'\n",
    "    db_anno_intron = '../../../Resources/06_gffutilsdb/gencode.v43lift37.annotation.intron.gtf.db'\n",
    "    db = gffutils.FeatureDB(db_anno_gencode)\n",
    "    db_intron = gffutils.FeatureDB(db_anno_intron)\n",
    "except ValueError:\n",
    "    db_anno_gencode = '/resources/DBs/gencode.v43lift37.annotation.gtf.db'\n",
    "    db_anno_intron = '/resources/DBs/gencode.v43lift37.annotation.intron.gtf.db'\n",
    "    db = gffutils.FeatureDB(db_anno_gencode)\n",
    "    db_intron = gffutils.FeatureDB(db_anno_intron)\n",
    "\n",
    "## Thresholds configuration\n",
    "thresholds_SpliceAI_parser: dict = {\n",
    "    'TH_min_sALDL': 0.02, 'TH_max_sALDL': 0.2, \n",
    "    'TH_min_sAGDG': 0.01, 'TH_max_sAGDG': 0.05,\n",
    "    'TH_min_GExon': 25, 'TH_max_GExon': 500,\n",
    "    'TH_sAG': 0.2, 'TH_sDG': 0.2\n",
    "    }\n",
    "\n",
    "from sklearn.metrics import roc_curve\n",
    "from sklearn.metrics import roc_auc_score\n",
    "from sklearn.metrics import confusion_matrix\n",
    "from sklearn.metrics import accuracy_score\n",
    "from sklearn.metrics import precision_score\n",
    "from sklearn.metrics import recall_score\n",
    "from sklearn.metrics import f1_score\n",
    "import matplotlib.pyplot as plt\n",
    "import seaborn as sns\n",
    "import scipy\n",
    "\n",
    "import plotly.express as px\n",
    "import plotly.graph_objects as go\n",
    "import plotly.io as pio\n",
    "from plotly.subplots import make_subplots\n",
    "\n",
    "try: \n",
    "    __file__\n",
    "    sys.path.append(os.path.join(os.path.dirname('__file__')))\n",
    "except NameError:\n",
    "    Path().resolve()\n",
    "    sys.path.append(os.path.join(Path().resolve(), '../../'))\n",
    "\n",
    "from libs.scoring import Scoring\n",
    "\n",
    "import warnings\n",
    "warnings.simplefilter('ignore')"
   ]
  },
  {
   "cell_type": "markdown",
   "metadata": {},
   "source": [
    "#### 前処理．SQLから抽出したallmut.csvを編集する．(ここは処理済み)"
   ]
  },
  {
   "cell_type": "code",
   "execution_count": null,
   "metadata": {},
   "outputs": [],
   "source": [
    "all_mut_default_colnames: list = [\n",
    "    \"disase\", \"gene\", \"chrom\", \"genename\", \"gdbid\", \"omimid\", \"amino\", \n",
    "    \"deletion\", \"insertion\", \"codon\", \"codonAff\", \"descr\", \"refseq\", \"hgvs\", \n",
    "    \"hgvsAll\", \"dbsnp\", \"chromosome\", \"startCoord\", \"endCoord\", \n",
    "    \"expected_inheritance\", \"gnomad_AC\", \"gnomad_AF\", \"gnomad_AN\", \"tag\", \n",
    "    \"dmsupport\", \"rankscore\", \"mutype\", \"author\", \"title\", \"fullname\", \n",
    "    \"allname\", \"vol\", \"page\", \"year\", \"pmid\", \"pmidAll\", \"reftag\", \"comments\", \n",
    "    \"acc_num\", \"new_date\", \"base\", \"clinvarID\", \"clinvar_clnsig\"\n",
    "]\n",
    "\n",
    "allmut: pd.DataFrame = pd.read_csv(\n",
    "    'allmut.csv', sep=';', encoding='cp1252', names=all_mut_default_colnames, \n",
    "    skiprows=1,low_memory=False)\n",
    "\n",
    "allmut = allmut[\n",
    "    [\"gene\", \"genename\", \"mutype\", \"clinvar_clnsig\", \"tag\",\n",
    "     \"refseq\", \"hgvs\", \"hgvsAll\", \"chromosome\", \"startCoord\", \"endCoord\", \n",
    "     \"amino\", \"deletion\", \"insertion\", \"expected_inheritance\", \"gnomad_AF\"]]\n",
    "\n",
    "# Drop non-numeric values in 'startCoord'\n",
    "allmut = allmut.dropna(subset=['startCoord'])\n",
    "\n",
    "# Drop duplicates in 'chrom', 'startCoord', and 'endCoord'\n",
    "allmut = allmut.drop_duplicates(subset=['chromosome', 'startCoord', 'endCoord'])\n",
    "\n",
    "# Extract tag == \"DM\" from allmut\n",
    "allmut_dm = allmut[allmut.tag == \"DM\"].copy()\n",
    "print(f\"A total of {len(allmut_dm)} DM mutations are found in allmut.\")\n",
    "\n",
    "allmut_dm['startCoord'] = allmut_dm['startCoord'].astype(int)\n",
    "allmut_dm = allmut_dm.rename(columns={'chromosome': 'CHROM', 'startCoord': 'POS_hg38'})\n",
    "\n",
    "# Fillna with empty string in \"gnomad_AF\" colmun in allmut_dm\n",
    "# Extratct MAF 0 from allmut_dm\n",
    "allmut_dm['gnomad_AF'].fillna(0, inplace=True)\n",
    "allmut_dm_maf0 = allmut_dm[allmut_dm['gnomad_AF'] == 0].copy()\n",
    "print(f\"A total of {len(allmut_dm_maf0)} DM mutations are found in allmut with MAF 0.\")\n",
    "\n",
    "# Extract non-deletion or non-insertion from allmut_dm\n",
    "allmut_dm_maf0_snv = allmut_dm_maf0[(allmut_dm_maf0['deletion'].isnull()) & (allmut_dm_maf0['insertion'].isnull())]\n",
    "print(f\"A total of {len(allmut_dm_maf0_snv)} DM mutations are found in allmut with MAF 0 and non-deletion or non-insertion.\")\n",
    "\n",
    "# Extract the mutation type from the mutype column\n",
    "splice_mutations = allmut_dm_maf0_snv[allmut_dm_maf0_snv[\"mutype\"].str.contains(\"splice\")].copy()\n",
    "non_splice_mutations = allmut_dm_maf0_snv[~allmut_dm_maf0_snv[\"mutype\"].str.contains(\"splice\")]\n",
    "print(f\"Splicing_DM: {len(splice_mutations)}, Non-splicing_DM: {len(non_splice_mutations)}\")\n",
    "\n",
    "# Convert startCoord to hg19\n",
    "from liftover import get_lifter\n",
    "\n",
    "def _liftover_to_hg19(chrom, pos):\n",
    "    converter = get_lifter('hg38', 'hg19')\n",
    "    result = converter.query(chrom, pos)\n",
    "    if result:\n",
    "        return result[0]\n",
    "    else:\n",
    "        return None\n",
    "    \n",
    "def anno_hg19_pos(row):\n",
    "    converted = _liftover_to_hg19(row['CHROM'], row['POS_hg38'])\n",
    "    if converted:\n",
    "        return converted[0]\n",
    "    else:\n",
    "        return None\n",
    "\n",
    "allmut_dm_maf0_snv['POS_hg19'] = allmut_dm_maf0_snv.parallel_apply(anno_hg19_pos, axis=1)\n",
    "# allmut_dm_maf0_snv.to_pickle('allmut_dm_maf0_snv_liftover.pkl', mode='x')"
   ]
  },
  {
   "cell_type": "markdown",
   "metadata": {},
   "source": [
    "# Liftoverなどの処理後（ここから解析すればOK）"
   ]
  },
  {
   "cell_type": "code",
   "execution_count": 2,
   "metadata": {},
   "outputs": [
    {
     "name": "stdout",
     "output_type": "stream",
     "text": [
      "179423\n",
      "126859\n",
      "Splicing: 18432, Non-splicing: 102095, total: 120527\n"
     ]
    }
   ],
   "source": [
    "# Loading allmut variants from pickle\n",
    "allmut_dm_maf0_snv_hg19 = pd.read_pickle('allmut_dm_maf0_snv_liftover.pkl')\n",
    "\n",
    "# Rename POS_hg19 to POS\n",
    "allmut_dm_maf0_snv_hg19.rename(columns={'POS_hg19': 'POS'}, inplace=True)\n",
    "\n",
    "# Drop unknown positions in 'POS' column and assign integer type\n",
    "allmut_dm_maf0_snv_hg19.dropna(subset=['POS'], inplace=True)\n",
    "allmut_dm_maf0_snv_hg19 = allmut_dm_maf0_snv_hg19.astype({'POS': int})\n",
    "\n",
    "# Change object name to allmut\n",
    "allmut = allmut_dm_maf0_snv_hg19\n",
    "\n",
    "# Generate ID column\n",
    "allmut['ID'] = allmut['CHROM'].astype(str) + '-' + allmut['POS'].astype(str) + '-' + allmut['hgvs']\n",
    "\n",
    "# Extract useful columns\n",
    "allmut = allmut[['ID', 'mutype', 'clinvar_clnsig', 'tag', 'deletion', 'insertion', 'expected_inheritance', 'gnomad_AF']]\n",
    "\n",
    "# Load VCF file annoteted by analysis pipeline\n",
    "\n",
    "# df = pd.read_pickle('splai_vep_vcfs/hgmd_dm/allchr.DM.splai.vep.nondel.enst.prescore.hgnconly.v2.pkl')\n",
    "df = pd.read_pickle(\"splai_vep_vcfs/hgmd_dm/hgmd_dm.chrALL.splai.vep.snv.vcf.enst.prescore.hgnconly.pkl\")\n",
    "\n",
    "df['HGVSc'] = df['HGVSc'].str.replace('c.', '')\n",
    "df['ID'] = df['CHROM'].astype(str) + '-' + df['POS'].astype(str) + '-' + df['HGVSc']\n",
    "\n",
    "# merge df and allmut on 'ID' column with inner join\n",
    "print(len(df))\n",
    "df = pd.merge(df, allmut, on='ID', how='inner')\n",
    "print(len(df))\n",
    "\n",
    "####\n",
    "# tp = pd.read_pickle('../TP/tp_prescore.pkl')\n",
    "# tp['variant_id'] = tp['CHROM'] + '-' + tp['POS'].astype(str) + '-' + tp['REF'] + '-' + tp['ALT']\n",
    "\n",
    "####\n",
    "\n",
    "\n",
    "exclude_csq = {\n",
    "    '3_prime_UTR_variant', '5_prime_UTR_variant', 'mature_miRNA_variant',\n",
    "    'mature_miRNA_variant', 'downstream_gene_variant', 'upstream_gene_variant',\n",
    "    'non_coding_transcript_exon_variant'\n",
    "}\n",
    "\n",
    "exclude_non_spl_dm: set = {'splice_region_variant'}\n",
    "\n",
    "def is_orf_variants(row):\n",
    "    csqs: list = row['Consequence'].split('&')\n",
    "    if set(csqs).isdisjoint(exclude_csq):\n",
    "        return True\n",
    "    else:\n",
    "        return False\n",
    "    \n",
    "def is_non_spl_tn(row):\n",
    "    csqs: list = row['Consequence'].split('&')\n",
    "    if set(csqs).isdisjoint(exclude_non_spl_dm):\n",
    "        return True\n",
    "    else:\n",
    "        return False\n",
    "\n",
    "def is_gnomad_tn(row):\n",
    "    if row['gnomad_AF'] == 0:\n",
    "        return True\n",
    "    else:\n",
    "        return False\n",
    "\n",
    "\n",
    "df = df[df.apply(is_orf_variants, axis=1)]\n",
    "\n",
    "# df_spl contains splicing mutations (splice, canonical-splice, exonic-splice)\n",
    "df_spl = df[df['mutype'].str.contains('splice')].copy()\n",
    "\n",
    "# df_non_spl contains non-splicing mutations\n",
    "df_non_spl = df[df['mutype'].str.contains('missense|nonsense|synonymous')].copy()\n",
    "# df_non_spl = df[df['mutype'].str.contains('missense|synonymous')].copy()\n",
    "# df_non_spl = df[df['mutype'].str.contains('missense|nonsense')].copy()\n",
    "# df_non_spl = df[df['mutype'].str.contains('missense')].copy()\n",
    "# df_non_spl = df[df['mutype'].str.contains('synonymous')].copy()\n",
    "\n",
    "df_non_spl = df_non_spl[df_non_spl.apply(is_non_spl_tn, axis=1)]\n",
    "\n",
    "print(f\"Splicing: {len(df_spl)}, Non-splicing: {len(df_non_spl)}, total: {len(df_spl) + len(df_non_spl)}\")"
   ]
  },
  {
   "cell_type": "code",
   "execution_count": 3,
   "metadata": {},
   "outputs": [
    {
     "name": "stdout",
     "output_type": "stream",
     "text": [
      "TN: 102095\n",
      "TN: 102095\n",
      "TP: 18432, TN: 102095\n"
     ]
    }
   ],
   "source": [
    "# Annotating the label and variant_id (CHROM-POS-REF-ALT)\n",
    "# When mutype is splice, the label is 1, otherwise 0\n",
    "# df_gnomad = pd.read_pickle('splai_vep_vcfs/gnomadv211/allchr.gnomad.splai.vep.vcf.enst.prescore.hgnconly.v2.pkl')\n",
    "df_gnomad = pd.read_pickle('splai_vep_vcfs/gnomadv211/allchr.gnomad.splai.vep.vcf.enst.prescore.hgnconly.v2.pkl')\n",
    "df_gnomad = df_gnomad[df_gnomad.apply(is_orf_variants, axis=1)]\n",
    "\n",
    "df_spl['LABEL'] = 1\n",
    "df_non_spl['LABEL'] = 0\n",
    "df_gnomad['LABEL'] = 0\n",
    "\n",
    "df_spl['variant_id'] = df_spl['CHROM'].astype(str) + '-' + df_spl['POS'].astype(str) + '-' + df_spl['REF'] + '-' + df_spl['ALT']\n",
    "df_non_spl['variant_id'] = df_non_spl['CHROM'].astype(str) + '-' + df_non_spl['POS'].astype(str) + '-' + df_non_spl['REF'] + '-' + df_non_spl['ALT']\n",
    "df_gnomad['variant_id'] = df_gnomad['CHROM'].astype(str) + '-' + df_gnomad['POS'].astype(str) + '-' + df_gnomad['REF'] + '-' + df_gnomad['ALT']\n",
    "\n",
    "# Create a dataframe tp (True Positive)\n",
    "tp = df_spl.copy()\n",
    "\n",
    "# Concatenate df_gnomad and df_non_spl\n",
    "# n = int(len(tp) / 2)\n",
    "# df_non_spl = df_non_spl.sample(n=int(n/100), random_state=42)\n",
    "# df_gnomad = df_gnomad.sample(n=n, random_state=42)\n",
    "# tn = pd.concat([df_gnomad, df_non_spl], ignore_index=True)\n",
    "# tn = tn.drop_duplicates(subset=['variant_id'], keep='first')\n",
    "\n",
    "tn = df_gnomad.copy()\n",
    "tn = df_non_spl.copy()\n",
    "\n",
    "\n",
    "## Exclude non-ORF variants\n",
    "print(f\"TN: {len(tn)}\")\n",
    "tn['is_ORF'] = tn.apply(is_orf_variants, axis=1)\n",
    "tn = tn[tn['is_ORF']]\n",
    "# tn = pd.read_pickle('../../TN/tn_prescore.pkl')\n",
    "print(f\"TN: {len(tn)}\")\n",
    "\n",
    "## Summary of the dataset\n",
    "print(f\"TP: {len(tp)}, TN: {len(tn)}\")"
   ]
  },
  {
   "cell_type": "markdown",
   "metadata": {},
   "source": [
    "## 関数の設定と重みづけの最適化とパターンの抽出"
   ]
  },
  {
   "cell_type": "code",
   "execution_count": 4,
   "metadata": {},
   "outputs": [
    {
     "name": "stdout",
     "output_type": "stream",
     "text": [
      "Total solutions found: 4850\n"
     ]
    }
   ],
   "source": [
    "def specificity_sensitivity_plotly(data):\n",
    "    thresholds = np.arange(0, 11, 1)\n",
    "    results = []\n",
    "\n",
    "    for threshold in thresholds:\n",
    "        tp = data[(data['PriorityScore'] >= threshold) & (data['LABEL'] == 1)].shape[0]\n",
    "        fn = data[(data['PriorityScore'] < threshold) & (data['LABEL'] == 1)].shape[0]\n",
    "        tn = data[(data['PriorityScore'] < threshold) & (data['LABEL'] == 0)].shape[0]\n",
    "        fp = data[(data['PriorityScore'] >= threshold) & (data['LABEL'] == 0)].shape[0]\n",
    "        specificity = tn / (tn + fp) if (tn + fp) else 0\n",
    "        sensitivity = tp / (tp + fn) if (tp + fn) else 0\n",
    "        # print(f\"Threshold: {threshold}, TP: {tp}, FN: {fn}, TN: {tn}, FP: {fp}\")\n",
    "        # print(f\"Threshold: {threshold}, Specificity: {specificity:.6f}, Sensitivity: {sensitivity:.6f}\")\n",
    "        results.append({'Threshold': threshold, 'Metric': 'Specificity', 'Value': specificity})\n",
    "        results.append({'Threshold': threshold, 'Metric': 'Sensitivity', 'Value': sensitivity})\n",
    "\n",
    "    results_df = pd.DataFrame(results)\n",
    "    return results_df\n",
    "\n",
    "def plot_sensitivity_specificity_plotly(\n",
    "        results_df: pd.DataFrame, w: int, h: int):\n",
    "    # Separate the dataframes for specificity and sensitivity\n",
    "    specificity_df = results_df[results_df['Metric'] == 'Specificity']\n",
    "    sensitivity_df = results_df[results_df['Metric'] == 'Sensitivity']\n",
    "\n",
    "    # Plotly Graph Objectsを使用してプロット\n",
    "    fig = go.Figure()\n",
    "\n",
    "    # 特異性\n",
    "    fig.add_trace(go.Scatter(\n",
    "        x=specificity_df['Threshold'],\n",
    "        y=specificity_df['Value'],\n",
    "        marker=dict(color='#665990'),\n",
    "        mode='lines+markers',\n",
    "        name='Specificity',\n",
    "        text=[f'Threshold: {th}, Specificity: {val:.3f}' for th, val in zip(specificity_df['Threshold'], specificity_df['Value'])],\n",
    "        hoverinfo='text'\n",
    "    ))\n",
    "    \n",
    "    # 感度\n",
    "    fig.add_trace(go.Scatter(\n",
    "        x=sensitivity_df['Threshold'],\n",
    "        y=sensitivity_df['Value'],\n",
    "        marker=dict(color='#F8ACAC'),\n",
    "        mode='lines+markers',\n",
    "        name='Sensitivity',\n",
    "        text=[f'Threshold: {th}, Sensitivity: {val:.3f}' for th, val in zip(sensitivity_df['Threshold'], sensitivity_df['Value'])],\n",
    "        hoverinfo='text'\n",
    "    ))\n",
    "\n",
    "    # Y軸のフォーマット設定\n",
    "    fig.update_yaxes(tickformat=\".1f\")\n",
    "\n",
    "    # グラフのレイアウト設定\n",
    "    fig.update_layout(title='Sensitivity and Specificity for each threshold',\n",
    "                      xaxis_title='Threshold',\n",
    "                      yaxis_title='Sensitivity/Specificity',\n",
    "                      plot_bgcolor='rgba(243, 243, 243, 1)',\n",
    "                      paper_bgcolor='rgba(243, 243, 243, 0)',\n",
    "                      font=dict(family=\"Arial, sans-serif\", size=12, color=\"black\"),\n",
    "                      legend=dict(y=0.075, x=0.75, xanchor='right', yanchor='bottom', \n",
    "                              bgcolor='rgba(243, 243, 243, 1)',\n",
    "                              font=dict(family=\"Arial, sans-serif\", size=12, color=\"black\"))\n",
    "                              )\n",
    "\n",
    "    # グラフサイズの調整\n",
    "    fig.update_layout(width=w, height=h)\n",
    "    fig.write_html(\"sensitivity_specificity_plot.html\")\n",
    "\n",
    "    # fig.show()\n",
    "    return fig\n",
    "\n",
    "def plot_sensitivity_specificity_plotly_without_legened(results_df):\n",
    "    # Separate the dataframes for specificity and sensitivity\n",
    "    specificity_df = results_df[results_df['Metric'] == 'Specificity']\n",
    "    sensitivity_df = results_df[results_df['Metric'] == 'Sensitivity']\n",
    "\n",
    "    # Plotly Graph Objectsを使用してプロット\n",
    "    fig = go.Figure()\n",
    "\n",
    "    # 特異性\n",
    "    fig.add_trace(go.Scatter(\n",
    "        x=specificity_df['Threshold'],\n",
    "        y=specificity_df['Value'],\n",
    "        marker=dict(color='green'),\n",
    "        mode='lines+markers',\n",
    "        name='Specificity',\n",
    "        text=[f'Threshold: {th}, Specificity: {val:.8f}' for th, val in zip(specificity_df['Threshold'], specificity_df['Value'])],\n",
    "        hoverinfo='text',\n",
    "        showlegend=False \n",
    "    ))\n",
    "    \n",
    "    # 感度\n",
    "    fig.add_trace(go.Scatter(\n",
    "        x=sensitivity_df['Threshold'],\n",
    "        y=sensitivity_df['Value'],\n",
    "        marker=dict(color='orange'),\n",
    "        mode='lines+markers',\n",
    "        name='Sensitivity',\n",
    "        text=[f'Threshold: {th}, Sensitivity: {val:.8f}' for th, val in zip(sensitivity_df['Threshold'], sensitivity_df['Value'])],\n",
    "        hoverinfo='text',\n",
    "        showlegend=False\n",
    "    ))\n",
    "\n",
    "    # Y軸のフォーマット設定\n",
    "    fig.update_yaxes(tickformat=\".1f\")\n",
    "\n",
    "    # グラフのレイアウト設定\n",
    "    fig.update_layout(title='Sensitivity and Specificity for each threshold',\n",
    "                      xaxis_title='Threshold',\n",
    "                      yaxis_title='Sensitivity/Specificity',\n",
    "                      plot_bgcolor='rgba(243, 243, 243, 1)',\n",
    "                      paper_bgcolor='rgba(243, 243, 243, 0)',\n",
    "                      font=dict(family=\"Arial, sans-serif\", size=12, color=\"black\"),\n",
    "                      legend=dict(y=0.075, x=0.75, xanchor='right', yanchor='bottom', \n",
    "                              bgcolor='rgba(243, 243, 243, 1)',\n",
    "                              font=dict(family=\"Arial, sans-serif\", size=12, color=\"black\"))\n",
    "                              )\n",
    "\n",
    "    # グラフサイズの調整\n",
    "    fig.update_layout(width=600, height=600)\n",
    "    fig.write_html(\"sensitivity_specificity_plot.html\")\n",
    "\n",
    "    # fig.show()\n",
    "    return fig\n",
    "\n",
    "\n",
    "# Code below is adapted from Netflix's VMAF and BesenbacherLab's ROC-utils\n",
    "# https://github.com/Netflix/vmaf/\n",
    "# https://github.com/BesenbacherLab/ROC-utils\n",
    "# Modifications: np.float -> np.float64\n",
    "\n",
    "def compute_midrank(x):\n",
    "    \"\"\"Computes midranks.\n",
    "    Args:\n",
    "       x - a 1D numpy array\n",
    "    Returns:\n",
    "       array of midranks\n",
    "    \"\"\"\n",
    "    J = np.argsort(x)\n",
    "    Z = x[J]\n",
    "    N = len(x)\n",
    "    T = np.zeros(N, dtype=np.float64)\n",
    "    i = 0\n",
    "    while i < N:\n",
    "        j = i\n",
    "        while j < N and Z[j] == Z[i]:\n",
    "            j += 1\n",
    "        T[i:j] = 0.5*(i + j - 1)\n",
    "        i = j\n",
    "    T2 = np.empty(N, dtype=np.float64)\n",
    "    # Note(kazeevn) +1 is due to Python using 0-based indexing\n",
    "    # instead of 1-based in the AUC formula in the paper\n",
    "    T2[J] = T + 1\n",
    "    return T2\n",
    "\n",
    "\n",
    "def fastDeLong(predictions_sorted_transposed, label_1_count):\n",
    "    \"\"\"\n",
    "    The fast version of DeLong's method for computing the covariance of\n",
    "    unadjusted AUC.\n",
    "    Args:\n",
    "       predictions_sorted_transposed: a 2D numpy.array[n_classifiers, n_examples]\n",
    "          sorted such as the examples with label \"1\" are first\n",
    "    Returns:\n",
    "       (AUC value, DeLong covariance)\n",
    "    Reference:\n",
    "     @article{sun2014fast,\n",
    "       title={Fast Implementation of DeLong's Algorithm for\n",
    "              Comparing the Areas Under Correlated Receiver Operating Characteristic Curves},\n",
    "       author={Xu Sun and Weichao Xu},\n",
    "       journal={IEEE Signal Processing Letters},\n",
    "       volume={21},\n",
    "       number={11},\n",
    "       pages={1389--1393},\n",
    "       year={2014},\n",
    "       publisher={IEEE}\n",
    "     }\n",
    "    \"\"\"\n",
    "    # Short variables are named as they are in the paper\n",
    "    m = label_1_count\n",
    "    n = predictions_sorted_transposed.shape[1] - m\n",
    "    positive_examples = predictions_sorted_transposed[:, :m]\n",
    "    negative_examples = predictions_sorted_transposed[:, m:]\n",
    "    k = predictions_sorted_transposed.shape[0]\n",
    "\n",
    "    tx = np.empty([k, m], dtype=np.float64)\n",
    "    ty = np.empty([k, n], dtype=np.float64)\n",
    "    tz = np.empty([k, m + n], dtype=np.float64)\n",
    "    for r in range(k):\n",
    "        tx[r, :] = compute_midrank(positive_examples[r, :])\n",
    "        ty[r, :] = compute_midrank(negative_examples[r, :])\n",
    "        tz[r, :] = compute_midrank(predictions_sorted_transposed[r, :])\n",
    "    aucs = tz[:, :m].sum(axis=1) / m / n - float(m + 1.0) / 2.0 / n\n",
    "    v01 = (tz[:, :m] - tx[:, :]) / n\n",
    "    v10 = 1.0 - (tz[:, m:] - ty[:, :]) / m\n",
    "    sx = np.cov(v01)\n",
    "    sy = np.cov(v10)\n",
    "    delongcov = sx / m + sy / n\n",
    "    return aucs, delongcov\n",
    "\n",
    "\n",
    "def calc_pvalue(aucs, sigma):\n",
    "    \"\"\"Computes log(10) of p-values.\n",
    "    Args:\n",
    "       aucs: 1D array of AUCs\n",
    "       sigma: AUC DeLong covariances\n",
    "    Returns:\n",
    "       log10(pvalue)\n",
    "    \"\"\"\n",
    "    l = np.array([[1, -1]])\n",
    "    z = np.abs(np.diff(aucs)) / np.sqrt(np.dot(np.dot(l, sigma), l.T))\n",
    "    return np.log10(2) + scipy.stats.norm.logsf(z, loc=0, scale=1) / np.log(10)\n",
    "\n",
    "\n",
    "def compute_ground_truth_statistics(ground_truth):\n",
    "    assert np.array_equal(np.unique(ground_truth), [0, 1])\n",
    "    order = (-ground_truth).argsort()\n",
    "    label_1_count = int(ground_truth.sum())\n",
    "    return order, label_1_count\n",
    "\n",
    "\n",
    "def delong_roc_variance(ground_truth, predictions):\n",
    "    \"\"\"\n",
    "    Computes ROC AUC variance for a single set of predictions\n",
    "    Args:\n",
    "       ground_truth: np.array of 0 and 1\n",
    "       predictions: np.array of floats of the probability of being class 1\n",
    "    \"\"\"\n",
    "    order, label_1_count = compute_ground_truth_statistics(ground_truth)\n",
    "    predictions_sorted_transposed = predictions[np.newaxis, order]\n",
    "    aucs, delongcov = fastDeLong(predictions_sorted_transposed, label_1_count)\n",
    "    assert len(aucs) == 1, \"There is a bug in the code, please forward this to the developers\"\n",
    "    return aucs[0], delongcov\n",
    "\n",
    "\n",
    "def delong_roc_test(ground_truth, predictions_one, predictions_two):\n",
    "    \"\"\"\n",
    "    Computes log(p-value) for hypothesis that two ROC AUCs are different\n",
    "    Args:\n",
    "       ground_truth: np.array of 0 and 1\n",
    "       predictions_one: predictions of the first model,\n",
    "          np.array of floats of the probability of being class 1\n",
    "       predictions_two: predictions of the second model,\n",
    "          np.array of floats of the probability of being class 1\n",
    "    \"\"\"\n",
    "    order, label_1_count = compute_ground_truth_statistics(ground_truth)\n",
    "    predictions_sorted_transposed = np.vstack((predictions_one, predictions_two))[:, order]\n",
    "    aucs, delongcov = fastDeLong(predictions_sorted_transposed, label_1_count)\n",
    "    return calc_pvalue(aucs, delongcov)\n",
    "\n",
    "# Calculate AUC confidence interval (95%)\n",
    "def compute_auc_confidence_interval(auc, var, confidence_level=0.95):\n",
    "    alpha = 1 - confidence_level\n",
    "    z_score = scipy.stats.norm.ppf(1 - alpha/2)  # 2-tailed z score\n",
    "    se = np.sqrt(var)  # Calculate SE from variance\n",
    "    lower_bound = auc - z_score * se\n",
    "    upper_bound = auc + z_score * se\n",
    "    return lower_bound, upper_bound\n",
    "\n",
    "\n",
    "from ortools.sat.python import cp_model\n",
    "\n",
    "class SolutionCollector(cp_model.CpSolverSolutionCallback):\n",
    "    def __init__(self, variables):\n",
    "        cp_model.CpSolverSolutionCallback.__init__(self)\n",
    "        self.__variables = variables\n",
    "        self.__solutions = []\n",
    "\n",
    "    def OnSolutionCallback(self):\n",
    "        solution = {v.Name(): self.Value(v) for v in self.__variables}\n",
    "        self.__solutions.append(solution)\n",
    "\n",
    "    def GetAllSolutions(self):\n",
    "        return self.__solutions\n",
    "\n",
    "def find_all_solutions():\n",
    "    # モデルを初期化\n",
    "    model = cp_model.CpModel()\n",
    "\n",
    "    # 変数の定義\n",
    "    s = {i: model.NewIntVar(-10, 10, f's{i}') for i in range(1, 15)}\n",
    "\n",
    "    # 制約の追加\n",
    "    model.Add(s[3] == 0)                    #\n",
    "    model.Add(s[1] + s[10] + s[14] == 9)    #\n",
    "    model.Add(s[3] + s[11] + s[12] == 0)    #\n",
    "    # model.Add(s[1] + s[7] < 9)\n",
    "    # model.Add(s[10] >= 3)\n",
    "    # model.Add(s[10] <= 7)\n",
    "    \n",
    "    # Knowledge-based\n",
    "    # Absolutes\n",
    "    model.Add(s[2] >= 1)                #\n",
    "    model.Add(s[1] - s[2] > 0)          #   \n",
    "    \n",
    "    # SpliceAI limitation\n",
    "    # Absolutes\n",
    "    model.Add(s[4] < 0)                 #\n",
    "    model.Add(s[5] <= 0)                #\n",
    "    model.Add(s[6] >= 0)                #\n",
    "    # model.Add(s[7] >= 1)\n",
    "    model.Add(s[12] < 0)                #\n",
    "    model.Add(s[13] <= 0)               #\n",
    "    model.Add(s[14] >= 0)               #\n",
    "    # Order\n",
    "    model.Add(s[5] - s[4] > 0)          #\n",
    "    model.Add(s[6] - s[5] > 0)          #\n",
    "    model.Add(s[7] - s[6] > 0)          #\n",
    "    model.Add(s[13] - s[12] > 0)        #\n",
    "    model.Add(s[14] - s[13] > 0)        #\n",
    "    model.Add(s[4] >= s[12])            #\n",
    "\n",
    "    # under limit\n",
    "    # model.Add(s[1] + s[10] + s[12] >= 0)\n",
    "    # model.Add(s[4] <= s[10] + s[12])\n",
    "\n",
    "    # Absolutes\n",
    "    model.Add(s[11] >= 0)               #\n",
    "    # Score order\n",
    "    model.Add(s[9] >= s[7])             #\n",
    "    model.Add(s[8] - s[9] > 0)          #\n",
    "    model.Add(s[10] - s[8] > 0)         #\n",
    "    # model.Add(s[9] - s[11] > 0)         #\n",
    "    model.Add(s[9] - s[11] >= 0)         #\n",
    "\n",
    "\n",
    "    # ソルバの設定と解の探索\n",
    "    solver = cp_model.CpSolver()\n",
    "    solution_collector = SolutionCollector([s[i] for i in range(1, 15)])\n",
    "    solver.SearchForAllSolutions(model, solution_collector)\n",
    "    \n",
    "    # 全ての解を返す\n",
    "    return solution_collector.GetAllSolutions()\n",
    "\n",
    "# 解の計算\n",
    "all_solutions = find_all_solutions()\n",
    "print(f'Total solutions found: {len(all_solutions)}')\n",
    "\n",
    "# Debug and confirm the solutions\n",
    "# for index, solution in enumerate(all_solutions):\n",
    "#     print(f'Solution {index + 1}: {solution}')\n",
    "\n"
   ]
  },
  {
   "cell_type": "code",
   "execution_count": 5,
   "metadata": {},
   "outputs": [],
   "source": [
    "frac = 0.3\n",
    "random_state = 13"
   ]
  },
  {
   "cell_type": "code",
   "execution_count": 6,
   "metadata": {},
   "outputs": [
    {
     "name": "stdout",
     "output_type": "stream",
     "text": [
      "TP: 18432, TN: 102095\n",
      "Filtered out [Warning] ENST_with_Ver_not_available, TP: 17258, TN: 94623\n"
     ]
    }
   ],
   "source": [
    "# prepare the results\n",
    "# tp['is_Canonical'].replace({True: \"Yes\", False: \"No\"}, inplace=True)\n",
    "# tn['is_Canonical'].replace({True: \"Yes\", False: \"No\"}, inplace=True)\n",
    "\n",
    "print(f\"TP: {len(tp)}, TN: {len(tn)}\")\n",
    "tp = tp[tp['ENST_Full'] != \"[Warning] ENST_with_Ver_not_available\"]\n",
    "tn = tn[tn['ENST_Full'] != \"[Warning] ENST_with_Ver_not_available\"]\n",
    "tp = tp[tp['maxsplai'] != \"NA\"]\n",
    "tn = tn[tn['maxsplai'] != \"NA\"]\n",
    "print(f\"Filtered out [Warning] ENST_with_Ver_not_available, TP: {len(tp)}, TN: {len(tn)}\")\n",
    "\n",
    "# Split the data into training and test sets\n",
    "tp_train = tp.sample(frac=frac, random_state=random_state)\n",
    "tp_test = tp.drop(tp_train.index)\n",
    "tn_train = tn.sample(frac=frac, random_state=random_state)\n",
    "tn_test = tn.drop(tn_train.index)\n",
    "\n",
    "# Save the dataframes as pickle files\n",
    "tp_train.to_pickle(f'train_test_pkls/tp_prescore_train_{random_state}.pkl')\n",
    "tp_test.to_pickle(f'train_test_pkls/tp_prescore_test_{random_state}.pkl')\n",
    "tn_train.to_pickle(f'train_test_pkls/tn_prescore_train_{random_state}.pkl')\n",
    "tn_test.to_pickle(f'train_test_pkls/tn_prescore_test_{random_state}.pkl')"
   ]
  },
  {
   "cell_type": "markdown",
   "metadata": {},
   "source": [
    "### Find optimal weights"
   ]
  },
  {
   "cell_type": "code",
   "execution_count": 7,
   "metadata": {},
   "outputs": [
    {
     "name": "stdout",
     "output_type": "stream",
     "text": [
      "\n",
      "===== New best AUC: 0.9871943719 with solution 1 =======\n",
      "New best solution 0: {'s1': 2, 's2': 1, 's3': 0, 's4': -1, 's5': 0, 's6': 1, 's7': 2, 's8': 3, 's9': 2, 's10': 6, 's11': 1, 's12': -1, 's13': 0, 's14': 1} \n",
      "\n",
      "AUC - Framework (95%CI): 0.987 [0.9853-0.9891]\n",
      "AUC - SpliceAI (95%CI) : 0.982 [0.9794-0.9846]\n",
      "p-value (DeLong Test)  : 5.38e-06\n",
      "\n",
      "===========================================================\n",
      "###  Processed 0 solutions  ###\n",
      "\n",
      "===== New best AUC: 0.9876457656 with solution 12 =======\n",
      "New best solution 11: {'s1': 2, 's2': 1, 's3': 0, 's4': -1, 's5': 0, 's6': 1, 's7': 2, 's8': 3, 's9': 2, 's10': 5, 's11': 1, 's12': -1, 's13': 0, 's14': 2} \n",
      "\n",
      "AUC - Framework (95%CI): 0.988 [0.9857-0.9895]\n",
      "AUC - SpliceAI (95%CI) : 0.982 [0.9794-0.9846]\n",
      "p-value (DeLong Test)  : 7.12e-07\n",
      "\n",
      "===========================================================\n",
      "\n",
      "===== New best AUC: 0.9876553925 with solution 13 =======\n",
      "New best solution 12: {'s1': 2, 's2': 1, 's3': 0, 's4': -1, 's5': 0, 's6': 1, 's7': 2, 's8': 3, 's9': 2, 's10': 4, 's11': 1, 's12': -1, 's13': 0, 's14': 3} \n",
      "\n",
      "AUC - Framework (95%CI): 0.988 [0.9858-0.9896]\n",
      "AUC - SpliceAI (95%CI) : 0.982 [0.9794-0.9846]\n",
      "p-value (DeLong Test)  : 6.74e-07\n",
      "\n",
      "===========================================================\n",
      "###  Processed 50 solutions  ###\n",
      "\n",
      "===== New best AUC: 0.9877372099 with solution 87 =======\n",
      "New best solution 86: {'s1': 2, 's2': 1, 's3': 0, 's4': -1, 's5': 0, 's6': 1, 's7': 2, 's8': 5, 's9': 4, 's10': 6, 's11': 2, 's12': -2, 's13': 0, 's14': 1} \n",
      "\n",
      "AUC - Framework (95%CI): 0.988 [0.9858-0.9896]\n",
      "AUC - SpliceAI (95%CI) : 0.982 [0.9794-0.9846]\n",
      "p-value (DeLong Test)  : 5.78e-07\n",
      "\n",
      "===========================================================\n",
      "###  Processed 100 solutions  ###\n",
      "\n",
      "===== New best AUC: 0.9877454634 with solution 128 =======\n",
      "New best solution 127: {'s1': 2, 's2': 1, 's3': 0, 's4': -1, 's5': 0, 's6': 1, 's7': 2, 's8': 4, 's9': 3, 's10': 5, 's11': 1, 's12': -1, 's13': 0, 's14': 2} \n",
      "\n",
      "AUC - Framework (95%CI): 0.988 [0.9858-0.9896]\n",
      "AUC - SpliceAI (95%CI) : 0.982 [0.9794-0.9846]\n",
      "p-value (DeLong Test)  : 5.56e-07\n",
      "\n",
      "===========================================================\n",
      "###  Processed 150 solutions  ###\n",
      "###  Processed 200 solutions  ###\n",
      "###  Processed 250 solutions  ###\n",
      "###  Processed 300 solutions  ###\n",
      "###  Processed 350 solutions  ###\n",
      "###  Processed 400 solutions  ###\n",
      "###  Processed 450 solutions  ###\n",
      "###  Processed 500 solutions  ###\n",
      "###  Processed 550 solutions  ###\n"
     ]
    },
    {
     "ename": "KeyboardInterrupt",
     "evalue": "",
     "output_type": "error",
     "traceback": [
      "\u001b[0;31m---------------------------------------------------------------------------\u001b[0m",
      "\u001b[0;31mAttributeError\u001b[0m                            Traceback (most recent call last)",
      "File \u001b[0;32m~/miniforge3/envs/sss/lib/python3.8/multiprocessing/managers.py:827\u001b[0m, in \u001b[0;36mBaseProxy._callmethod\u001b[0;34m(self, methodname, args, kwds)\u001b[0m\n\u001b[1;32m    826\u001b[0m \u001b[38;5;28;01mtry\u001b[39;00m:\n\u001b[0;32m--> 827\u001b[0m     conn \u001b[38;5;241m=\u001b[39m \u001b[38;5;28;43mself\u001b[39;49m\u001b[38;5;241;43m.\u001b[39;49m\u001b[43m_tls\u001b[49m\u001b[38;5;241;43m.\u001b[39;49m\u001b[43mconnection\u001b[49m\n\u001b[1;32m    828\u001b[0m \u001b[38;5;28;01mexcept\u001b[39;00m \u001b[38;5;167;01mAttributeError\u001b[39;00m:\n",
      "\u001b[0;31mAttributeError\u001b[0m: 'ForkAwareLocal' object has no attribute 'connection'",
      "\nDuring handling of the above exception, another exception occurred:\n",
      "\u001b[0;31mKeyboardInterrupt\u001b[0m                         Traceback (most recent call last)",
      "Cell \u001b[0;32mIn[7], line 38\u001b[0m\n\u001b[1;32m     34\u001b[0m tp_train[\u001b[38;5;124m'\u001b[39m\u001b[38;5;124mPriorityScore\u001b[39m\u001b[38;5;124m'\u001b[39m] \u001b[38;5;241m=\u001b[39m tp_train[\u001b[38;5;124m'\u001b[39m\u001b[38;5;124minsilico_screening\u001b[39m\u001b[38;5;124m'\u001b[39m] \u001b[38;5;241m+\u001b[39m tp_train[\u001b[38;5;124m'\u001b[39m\u001b[38;5;124mclinvar_screening\u001b[39m\u001b[38;5;124m'\u001b[39m]\n\u001b[1;32m     37\u001b[0m tn_train[\u001b[38;5;124m'\u001b[39m\u001b[38;5;124minsilico_screening\u001b[39m\u001b[38;5;124m'\u001b[39m] \u001b[38;5;241m=\u001b[39m tn_train\u001b[38;5;241m.\u001b[39mparallel_apply(scoring\u001b[38;5;241m.\u001b[39minsilico_screening, axis\u001b[38;5;241m=\u001b[39m\u001b[38;5;241m1\u001b[39m)\n\u001b[0;32m---> 38\u001b[0m tn_train[\u001b[38;5;124m'\u001b[39m\u001b[38;5;124mclinvar_screening\u001b[39m\u001b[38;5;124m'\u001b[39m] \u001b[38;5;241m=\u001b[39m \u001b[43mtn_train\u001b[49m\u001b[38;5;241;43m.\u001b[39;49m\u001b[43mparallel_apply\u001b[49m\u001b[43m(\u001b[49m\u001b[43mscoring\u001b[49m\u001b[38;5;241;43m.\u001b[39;49m\u001b[43mclinvar_screening\u001b[49m\u001b[43m,\u001b[49m\u001b[43m \u001b[49m\u001b[43maxis\u001b[49m\u001b[38;5;241;43m=\u001b[39;49m\u001b[38;5;241;43m1\u001b[39;49m\u001b[43m)\u001b[49m\n\u001b[1;32m     39\u001b[0m \u001b[38;5;66;03m# tn_train['PriorityScore'] = tn_train.parallel_apply(scoring.calc_priority_score, axis=1)\u001b[39;00m\n\u001b[1;32m     40\u001b[0m \u001b[38;5;66;03m# tn_train = scoring.calc_priority_score(tn_train)\u001b[39;00m\n\u001b[1;32m     41\u001b[0m tn_train \u001b[38;5;241m=\u001b[39m tn_train[tn_train[\u001b[38;5;124m'\u001b[39m\u001b[38;5;124minsilico_screening\u001b[39m\u001b[38;5;124m'\u001b[39m] \u001b[38;5;241m!=\u001b[39m \u001b[38;5;124m'\u001b[39m\u001b[38;5;124mNot available\u001b[39m\u001b[38;5;124m'\u001b[39m]\n",
      "File \u001b[0;32m~/miniforge3/envs/sss/lib/python3.8/site-packages/pandarallel/core.py:428\u001b[0m, in \u001b[0;36mparallelize_with_pipe.<locals>.closure\u001b[0;34m(data, user_defined_function, *user_defined_function_args, **user_defined_function_kwargs)\u001b[0m\n\u001b[1;32m    423\u001b[0m generation \u001b[38;5;241m=\u001b[39m count()\n\u001b[1;32m    425\u001b[0m \u001b[38;5;28;01mwhile\u001b[39;00m \u001b[38;5;28many\u001b[39m(\n\u001b[1;32m    426\u001b[0m     (worker_status \u001b[38;5;241m==\u001b[39m WorkerStatus\u001b[38;5;241m.\u001b[39mRunning \u001b[38;5;28;01mfor\u001b[39;00m worker_status \u001b[38;5;129;01min\u001b[39;00m workers_status)\n\u001b[1;32m    427\u001b[0m ):\n\u001b[0;32m--> 428\u001b[0m     message: Tuple[\u001b[38;5;28mint\u001b[39m, WorkerStatus, Any] \u001b[38;5;241m=\u001b[39m \u001b[43mmaster_workers_queue\u001b[49m\u001b[38;5;241;43m.\u001b[39;49m\u001b[43mget\u001b[49m\u001b[43m(\u001b[49m\u001b[43m)\u001b[49m\n\u001b[1;32m    429\u001b[0m     worker_index, worker_status, payload \u001b[38;5;241m=\u001b[39m message\n\u001b[1;32m    430\u001b[0m     workers_status[worker_index] \u001b[38;5;241m=\u001b[39m worker_status\n",
      "File \u001b[0;32m<string>:2\u001b[0m, in \u001b[0;36mget\u001b[0;34m(self, *args, **kwds)\u001b[0m\n",
      "File \u001b[0;32m~/miniforge3/envs/sss/lib/python3.8/multiprocessing/managers.py:831\u001b[0m, in \u001b[0;36mBaseProxy._callmethod\u001b[0;34m(self, methodname, args, kwds)\u001b[0m\n\u001b[1;32m    828\u001b[0m \u001b[38;5;28;01mexcept\u001b[39;00m \u001b[38;5;167;01mAttributeError\u001b[39;00m:\n\u001b[1;32m    829\u001b[0m     util\u001b[38;5;241m.\u001b[39mdebug(\u001b[38;5;124m'\u001b[39m\u001b[38;5;124mthread \u001b[39m\u001b[38;5;132;01m%r\u001b[39;00m\u001b[38;5;124m does not own a connection\u001b[39m\u001b[38;5;124m'\u001b[39m,\n\u001b[1;32m    830\u001b[0m                threading\u001b[38;5;241m.\u001b[39mcurrent_thread()\u001b[38;5;241m.\u001b[39mname)\n\u001b[0;32m--> 831\u001b[0m     \u001b[38;5;28;43mself\u001b[39;49m\u001b[38;5;241;43m.\u001b[39;49m\u001b[43m_connect\u001b[49m\u001b[43m(\u001b[49m\u001b[43m)\u001b[49m\n\u001b[1;32m    832\u001b[0m     conn \u001b[38;5;241m=\u001b[39m \u001b[38;5;28mself\u001b[39m\u001b[38;5;241m.\u001b[39m_tls\u001b[38;5;241m.\u001b[39mconnection\n\u001b[1;32m    834\u001b[0m conn\u001b[38;5;241m.\u001b[39msend((\u001b[38;5;28mself\u001b[39m\u001b[38;5;241m.\u001b[39m_id, methodname, args, kwds))\n",
      "File \u001b[0;32m~/miniforge3/envs/sss/lib/python3.8/multiprocessing/managers.py:818\u001b[0m, in \u001b[0;36mBaseProxy._connect\u001b[0;34m(self)\u001b[0m\n\u001b[1;32m    816\u001b[0m \u001b[38;5;28;01mif\u001b[39;00m threading\u001b[38;5;241m.\u001b[39mcurrent_thread()\u001b[38;5;241m.\u001b[39mname \u001b[38;5;241m!=\u001b[39m \u001b[38;5;124m'\u001b[39m\u001b[38;5;124mMainThread\u001b[39m\u001b[38;5;124m'\u001b[39m:\n\u001b[1;32m    817\u001b[0m     name \u001b[38;5;241m+\u001b[39m\u001b[38;5;241m=\u001b[39m \u001b[38;5;124m'\u001b[39m\u001b[38;5;124m|\u001b[39m\u001b[38;5;124m'\u001b[39m \u001b[38;5;241m+\u001b[39m threading\u001b[38;5;241m.\u001b[39mcurrent_thread()\u001b[38;5;241m.\u001b[39mname\n\u001b[0;32m--> 818\u001b[0m conn \u001b[38;5;241m=\u001b[39m \u001b[38;5;28;43mself\u001b[39;49m\u001b[38;5;241;43m.\u001b[39;49m\u001b[43m_Client\u001b[49m\u001b[43m(\u001b[49m\u001b[38;5;28;43mself\u001b[39;49m\u001b[38;5;241;43m.\u001b[39;49m\u001b[43m_token\u001b[49m\u001b[38;5;241;43m.\u001b[39;49m\u001b[43maddress\u001b[49m\u001b[43m,\u001b[49m\u001b[43m \u001b[49m\u001b[43mauthkey\u001b[49m\u001b[38;5;241;43m=\u001b[39;49m\u001b[38;5;28;43mself\u001b[39;49m\u001b[38;5;241;43m.\u001b[39;49m\u001b[43m_authkey\u001b[49m\u001b[43m)\u001b[49m\n\u001b[1;32m    819\u001b[0m dispatch(conn, \u001b[38;5;28;01mNone\u001b[39;00m, \u001b[38;5;124m'\u001b[39m\u001b[38;5;124maccept_connection\u001b[39m\u001b[38;5;124m'\u001b[39m, (name,))\n\u001b[1;32m    820\u001b[0m \u001b[38;5;28mself\u001b[39m\u001b[38;5;241m.\u001b[39m_tls\u001b[38;5;241m.\u001b[39mconnection \u001b[38;5;241m=\u001b[39m conn\n",
      "File \u001b[0;32m~/miniforge3/envs/sss/lib/python3.8/multiprocessing/connection.py:509\u001b[0m, in \u001b[0;36mClient\u001b[0;34m(address, family, authkey)\u001b[0m\n\u001b[1;32m    507\u001b[0m \u001b[38;5;28;01mif\u001b[39;00m authkey \u001b[38;5;129;01mis\u001b[39;00m \u001b[38;5;129;01mnot\u001b[39;00m \u001b[38;5;28;01mNone\u001b[39;00m:\n\u001b[1;32m    508\u001b[0m     answer_challenge(c, authkey)\n\u001b[0;32m--> 509\u001b[0m     \u001b[43mdeliver_challenge\u001b[49m\u001b[43m(\u001b[49m\u001b[43mc\u001b[49m\u001b[43m,\u001b[49m\u001b[43m \u001b[49m\u001b[43mauthkey\u001b[49m\u001b[43m)\u001b[49m\n\u001b[1;32m    511\u001b[0m \u001b[38;5;28;01mreturn\u001b[39;00m c\n",
      "File \u001b[0;32m~/miniforge3/envs/sss/lib/python3.8/multiprocessing/connection.py:737\u001b[0m, in \u001b[0;36mdeliver_challenge\u001b[0;34m(connection, authkey)\u001b[0m\n\u001b[1;32m    734\u001b[0m \u001b[38;5;28;01mif\u001b[39;00m \u001b[38;5;129;01mnot\u001b[39;00m \u001b[38;5;28misinstance\u001b[39m(authkey, \u001b[38;5;28mbytes\u001b[39m):\n\u001b[1;32m    735\u001b[0m     \u001b[38;5;28;01mraise\u001b[39;00m \u001b[38;5;167;01mValueError\u001b[39;00m(\n\u001b[1;32m    736\u001b[0m         \u001b[38;5;124m\"\u001b[39m\u001b[38;5;124mAuthkey must be bytes, not \u001b[39m\u001b[38;5;132;01m{0!s}\u001b[39;00m\u001b[38;5;124m\"\u001b[39m\u001b[38;5;241m.\u001b[39mformat(\u001b[38;5;28mtype\u001b[39m(authkey)))\n\u001b[0;32m--> 737\u001b[0m message \u001b[38;5;241m=\u001b[39m \u001b[43mos\u001b[49m\u001b[38;5;241;43m.\u001b[39;49m\u001b[43murandom\u001b[49m\u001b[43m(\u001b[49m\u001b[43mMESSAGE_LENGTH\u001b[49m\u001b[43m)\u001b[49m\n\u001b[1;32m    738\u001b[0m connection\u001b[38;5;241m.\u001b[39msend_bytes(CHALLENGE \u001b[38;5;241m+\u001b[39m message)\n\u001b[1;32m    739\u001b[0m digest \u001b[38;5;241m=\u001b[39m hmac\u001b[38;5;241m.\u001b[39mnew(authkey, message, \u001b[38;5;124m'\u001b[39m\u001b[38;5;124mmd5\u001b[39m\u001b[38;5;124m'\u001b[39m)\u001b[38;5;241m.\u001b[39mdigest()\n",
      "\u001b[0;31mKeyboardInterrupt\u001b[0m: "
     ]
    }
   ],
   "source": [
    "results = []\n",
    "buf: float = 0.980\n",
    "\n",
    "for i, solution in enumerate(all_solutions):\n",
    "    # if i < 2000:\n",
    "    #     continue\n",
    "\n",
    "    ths_scores = {'clinvar_same_pos': solution['s1'],\n",
    "            'clinvar_same_motif': solution['s2'],\n",
    "            'clinvar_else': solution['s3'],\n",
    "            'non_canon_splai_lte_0.1_outside': solution['s4'],    \n",
    "            'non_canon_splai_lte_0.1_other': solution['s5'],\n",
    "            'non_canon_splai_bet_0.1_0.2': solution['s6'],\n",
    "            'non_canon_splai_gte_0.2': solution['s7'],\n",
    "            'canon_strong': solution['s8'], \n",
    "            'canon_moderate': solution['s9'], \n",
    "            'frameshift_nmd_eloF': solution['s10'], \n",
    "            'frameshift_nmd_not_eloF': solution['s11'],\n",
    "            'canon_splai_lte_0.1': solution['s12'],\n",
    "            'canon_splai_bet_0.1_0.2': solution['s13'],\n",
    "            'canon_splai_gte_0.2': solution['s14']\n",
    "            }\n",
    "    \n",
    "    scoring = Scoring(ths=ths_scores)\n",
    "\n",
    "    tp_train = pd.read_pickle(f'train_test_pkls/tp_prescore_train_{random_state}.pkl')\n",
    "    tn_train = pd.read_pickle(f'train_test_pkls/tn_prescore_train_{random_state}.pkl')\n",
    "\n",
    "    tp_train['insilico_screening'] = tp_train.parallel_apply(scoring.insilico_screening, axis=1)\n",
    "    tp_train['clinvar_screening'] = tp_train.parallel_apply(scoring.clinvar_screening, axis=1)\n",
    "    # tp_train['PriorityScore'] = tp_train.parallel_apply(scoring.calc_priority_score, axis=1)\n",
    "    # tp_train = scoring.calc_priority_score(tp_train)\n",
    "    tp_train = tp_train[tp_train['insilico_screening'] != 'Not available']\n",
    "    tp_train['PriorityScore'] = tp_train['insilico_screening'] + tp_train['clinvar_screening']\n",
    "    \n",
    "\n",
    "    tn_train['insilico_screening'] = tn_train.parallel_apply(scoring.insilico_screening, axis=1)\n",
    "    tn_train['clinvar_screening'] = tn_train.parallel_apply(scoring.clinvar_screening, axis=1)\n",
    "    # tn_train['PriorityScore'] = tn_train.parallel_apply(scoring.calc_priority_score, axis=1)\n",
    "    # tn_train = scoring.calc_priority_score(tn_train)\n",
    "    tn_train = tn_train[tn_train['insilico_screening'] != 'Not available']\n",
    "    tn_train['PriorityScore'] = tn_train['insilico_screening'] + tn_train['clinvar_screening']\n",
    "\n",
    "    # Extract the columns needed\n",
    "    tp_train = tp_train[['variant_id', 'LABEL', 'PriorityScore', 'maxsplai']]\n",
    "    tn_train = tn_train[['variant_id', 'LABEL', 'PriorityScore', 'maxsplai']]\n",
    "\n",
    "    ### ========================================================== ##\n",
    "    data = pd.concat([tp_train, tn_train], ignore_index=True)\n",
    "    data.drop_duplicates(subset='variant_id', keep=False, inplace=True)\n",
    "\n",
    "    # Cast the columns to float type\n",
    "    data['LABEL'] = data['LABEL'].astype(int)\n",
    "    # Extract rows with PriorityScore not 'Not available'\n",
    "    data = data[data['PriorityScore'] != 'Not available']\n",
    "    data['PriorityScore'] = data['PriorityScore'].astype(float)\n",
    "    data['maxsplai'] = data['maxsplai'].astype(float)\n",
    "\n",
    "    ## DeLong test and AUC confidence interval\n",
    "    ground_truth = np.array(data['LABEL'])\n",
    "    predictions_fw = np.array(data['PriorityScore'])\n",
    "\n",
    "    auc1, var1 = delong_roc_variance(ground_truth, predictions_fw)\n",
    "    cilower1, ciupper1 = compute_auc_confidence_interval(auc1, var1)\n",
    "\n",
    "    results.append(\n",
    "        {'index': i+1, 's1': solution['s1'], 's2': solution['s2'], \n",
    "         's3': solution['s3'], 's4': solution['s4'], 's5': solution['s5'], \n",
    "         's6': solution['s6'], 's7': solution['s7'], 's8': solution['s8'], \n",
    "         's9': solution['s9'], 's10': solution['s10'], 's11': solution['s11'], \n",
    "         's12': solution['s12'], 's13': solution['s13'], 's14': solution['s14'],\n",
    "         'auROC': f\"{auc1:.10f}, '95% Confidence Interval': {cilower1:.12f}-{ciupper1:.12f}\"\n",
    "        }\n",
    "    )\n",
    "\n",
    "    if auc1 > buf:\n",
    "        buf = auc1\n",
    "        print(f\"\\n===== New best AUC: {auc1:.10f} with solution {i+1} =======\")\n",
    "        print(f\"New best solution {i}: {solution} \\n\")\n",
    "        predictions_sp = np.array(data['maxsplai'])\n",
    "        auc2, var2 = delong_roc_variance(ground_truth, predictions_sp)\n",
    "        cilower2, ciupper2 = compute_auc_confidence_interval(auc2, var2)\n",
    "        p_value_log = delong_roc_test(ground_truth, predictions_fw, predictions_sp)\n",
    "        print(f\"AUC - Framework (95%CI): {auc1:.3f} [{cilower1:.4f}-{ciupper1:.4f}]\")\n",
    "        print(f\"AUC - SpliceAI (95%CI) : {auc2:.3f} [{cilower2:.4f}-{ciupper2:.4f}]\")\n",
    "        print(f\"p-value (DeLong Test)  : {10**p_value_log[0][0]:.2e}\\n\")\n",
    "        print(\"===========================================================\")\n",
    "        \n",
    "    if i % 50 == 0:\n",
    "        print(f\"###  Processed {i} solutions  ###\")\n"
   ]
  },
  {
   "cell_type": "markdown",
   "metadata": {},
   "source": [
    "#### Performance test using test variant set"
   ]
  },
  {
   "cell_type": "code",
   "execution_count": null,
   "metadata": {},
   "outputs": [],
   "source": []
  },
  {
   "cell_type": "code",
   "execution_count": null,
   "metadata": {},
   "outputs": [
    {
     "name": "stdout",
     "output_type": "stream",
     "text": [
      "AUC - Framework (95%CI): 0.954 [0.9517-0.9562]\n",
      "AUC - SpliceAI (95%CI) : 0.978 [0.9768-0.9802]\n",
      "p-value (DeLong Test)  : 5.36e-167\n"
     ]
    }
   ],
   "source": [
    "thsdict = {\n",
    "    'opti': \n",
    "            {'clinvar_same_pos': 2,\n",
    "             'clinvar_same_motif': 1,\n",
    "             'clinvar_else': 0,\n",
    "             'non_canon_splai_lte_0.1_outside': -3,\n",
    "             'non_canon_splai_lte_0.1_other': -2,\n",
    "             'non_canon_splai_bet_0.1_0.2': 1,\n",
    "             'non_canon_splai_gte_0.2': 2,\n",
    "             'canon_strong': 6, \n",
    "             'canon_moderate': 5, \n",
    "             'frameshift_nmd_eloF': 7, \n",
    "             'frameshift_nmd_not_eloF': 3,\n",
    "             'canon_splai_lte_0.1': -3,\n",
    "             'canon_splai_bet_0.1_0.2': -1,\n",
    "             'canon_splai_gte_0.2': 0},\n",
    "}\n",
    "\n",
    "thsdict = {\n",
    "    'opti': \n",
    "            {'clinvar_same_pos': 2,\n",
    "             'clinvar_same_motif': 1,\n",
    "             'clinvar_else': 0,\n",
    "             'non_canon_splai_lte_0.1_outside': -1,\n",
    "             'non_canon_splai_lte_0.1_other': 0,\n",
    "             'non_canon_splai_bet_0.1_0.2': 1,\n",
    "             'non_canon_splai_gte_0.2': 2,\n",
    "             'canon_strong': 4, \n",
    "             'canon_moderate': 3, \n",
    "             'frameshift_nmd_eloF': 5, \n",
    "             'frameshift_nmd_not_eloF': 1,\n",
    "             'canon_splai_lte_0.1': -1,\n",
    "             'canon_splai_bet_0.1_0.2': 0,\n",
    "             'canon_splai_gte_0.2': 2},\n",
    "}\n",
    "\n",
    "# {'s1': 2, 's2': 1, 's3': 0, 's4': -1, 's5': 0, 's6': 1, 's7': 2, 's8': 4, 's9': 3, 's10': 5, 's11': 1, 's12': -1, 's13': 0, 's14': 2}\n",
    "# {'s1': 2, 's2': 1, 's3': 0, 's4': -1, 's5': 0, 's6': 1, 's7': 3, 's8': 5, 's9': 4, 's10': 6, 's11': 3, 's12': -3, 's13': 0, 's14': 1}\n",
    "\n",
    "# Laod the dataframes from the pickle files as the test set\n",
    "tp_test = pd.read_pickle(f'train_test_pkls/tp_prescore_test_{random_state}.pkl')\n",
    "tn_test = pd.read_pickle(f'train_test_pkls/tn_prescore_test_{random_state}.pkl')\n",
    "\n",
    "ths = thsdict['opti']\n",
    "scoring = Scoring(ths=ths)\n",
    "\n",
    "tp_test['insilico_screening'] = tp_test.parallel_apply(scoring.insilico_screening, axis=1)\n",
    "tp_test['clinvar_screening'] = tp_test.parallel_apply(scoring.clinvar_screening, axis=1)\n",
    "# tp_test['PriorityScore'] = tp_test.parallel_apply(scoring.calc_priority_score, axis=1)\n",
    "# tp_test = scoring.calc_priority_score2(tp_test)\n",
    "tp_test = tp_test[tp_test['insilico_screening'] != 'Not available']\n",
    "tp_test['PriorityScore'] = tp_test['insilico_screening'] + tp_test['clinvar_screening']\n",
    "\n",
    "tn_test['insilico_screening'] = tn_test.parallel_apply(scoring.insilico_screening, axis=1)\n",
    "tn_test['clinvar_screening'] = tn_test.parallel_apply(scoring.clinvar_screening, axis=1)\n",
    "# tn_test['PriorityScore'] = tn_test.parallel_apply(scoring.calc_priority_score, axis=1)\n",
    "# tn_test = scoring.calc_priority_score2(tn_test)\n",
    "tn_test = tn_test[tn_test['insilico_screening'] != 'Not available']\n",
    "tn_test['PriorityScore'] = tn_test['insilico_screening'] + tn_test['clinvar_screening']\n",
    "\n",
    "# Extract the columns needed\n",
    "tp_test = tp_test[['variant_id', 'LABEL', 'PriorityScore', 'maxsplai']]\n",
    "tn_test = tn_test[['variant_id', 'LABEL', 'PriorityScore', 'maxsplai']]\n",
    "\n",
    "### ========================================================== ##\n",
    "data = pd.concat([tp_test, tn_test], ignore_index=True)\n",
    "data.drop_duplicates(subset='variant_id', keep=False, inplace=True)\n",
    "\n",
    "# Cast the columns to float type\n",
    "data['LABEL'] = data['LABEL'].astype(int)\n",
    "data = data[data['PriorityScore'] != 'Not available']   # Exclude rows with PriorityScore not 'Not available'\n",
    "data['PriorityScore'] = data['PriorityScore'].astype(float)\n",
    "data['maxsplai'] = data['maxsplai'].astype(float)\n",
    "\n",
    "# Plot the sensitivity and specificity for each threshold\n",
    "results_df = specificity_sensitivity_plotly(data)\n",
    "fig_opti = plot_sensitivity_specificity_plotly(results_df, 800, 800)\n",
    "# fig2 = plot_sensitivity_specificity_plotly_without_legened(results_df)\n",
    "# print(tp_test['PriorityScore'].isnull().sum(), tn_test['PriorityScore'].isnull().sum())\n",
    "\n",
    "## DeLong test and AUC confidence interval\n",
    "ground_truth = np.array(data['LABEL'])\n",
    "predictions_fw = np.array(data['PriorityScore'])\n",
    "predictions_sp = np.array(data['maxsplai'])\n",
    "\n",
    "auc1, var1 = delong_roc_variance(ground_truth, predictions_fw)\n",
    "cilower1, ciupper1 = compute_auc_confidence_interval(auc1, var1)\n",
    "auc2, var2 = delong_roc_variance(ground_truth, predictions_sp)\n",
    "cilower2, ciupper2 = compute_auc_confidence_interval(auc2, var2)\n",
    "\n",
    "p_value_log = delong_roc_test(ground_truth, predictions_fw, predictions_sp)\n",
    "\n",
    "print(f\"AUC - Framework (95%CI): {auc1:.3f} [{cilower1:.4f}-{ciupper1:.4f}]\")\n",
    "print(f\"AUC - SpliceAI (95%CI) : {auc2:.3f} [{cilower2:.4f}-{ciupper2:.4f}]\")\n",
    "print(f\"p-value (DeLong Test)  : {10**p_value_log[0][0]:.2e}\")\n"
   ]
  },
  {
   "cell_type": "markdown",
   "metadata": {},
   "source": [
    "<!-- ## auROCの比較とperformance metricsの比較 -->"
   ]
  },
  {
   "cell_type": "code",
   "execution_count": 140,
   "metadata": {},
   "outputs": [
    {
     "name": "stdout",
     "output_type": "stream",
     "text": [
      "Optimal threshold (using Youden index): 2.0\n"
     ]
    },
    {
     "data": {
      "application/vnd.plotly.v1+json": {
       "config": {
        "plotlyServerURL": "https://plot.ly"
       },
       "data": [
        {
         "line": {
          "color": "#E41A1C",
          "width": 2
         },
         "mode": "lines",
         "name": "Framework      (0.987 [0.9837-0.9896])",
         "type": "scatter",
         "x": [
          0,
          0,
          0,
          0,
          0,
          0,
          0,
          0.042735042735042736,
          0.04487179487179487,
          0.11324786324786325,
          1
         ],
         "y": [
          0,
          0.09269988412514485,
          0.17033603707995365,
          0.41367323290845887,
          0.518539976825029,
          0.7346465816917729,
          0.8308227114716107,
          0.9522016222479722,
          0.9629200463499421,
          0.9846465816917729,
          1
         ]
        },
        {
         "line": {
          "color": "#377EB8",
          "width": 2
         },
         "mode": "lines",
         "name": "SpliceAI Alone (0.981 [0.9764-0.9850])",
         "type": "scatter",
         "x": [
          0,
          0,
          0,
          0.002136752136752137,
          0.002136752136752137,
          0.002136752136752137,
          0.002136752136752137,
          0.002136752136752137,
          0.002136752136752137,
          0.002136752136752137,
          0.002136752136752137,
          0.002136752136752137,
          0.002136752136752137,
          0.002136752136752137,
          0.002136752136752137,
          0.002136752136752137,
          0.002136752136752137,
          0.002136752136752137,
          0.002136752136752137,
          0.002136752136752137,
          0.002136752136752137,
          0.002136752136752137,
          0.002136752136752137,
          0.002136752136752137,
          0.002136752136752137,
          0.002136752136752137,
          0.002136752136752137,
          0.002136752136752137,
          0.002136752136752137,
          0.002136752136752137,
          0.002136752136752137,
          0.004273504273504274,
          0.004273504273504274,
          0.004273504273504274,
          0.004273504273504274,
          0.004273504273504274,
          0.004273504273504274,
          0.004273504273504274,
          0.004273504273504274,
          0.004273504273504274,
          0.004273504273504274,
          0.004273504273504274,
          0.004273504273504274,
          0.004273504273504274,
          0.004273504273504274,
          0.00641025641025641,
          0.00641025641025641,
          0.00641025641025641,
          0.00641025641025641,
          0.00641025641025641,
          0.00641025641025641,
          0.00641025641025641,
          0.008547008547008548,
          0.008547008547008548,
          0.010683760683760684,
          0.010683760683760684,
          0.010683760683760684,
          0.010683760683760684,
          0.010683760683760684,
          0.01282051282051282,
          0.01282051282051282,
          0.01282051282051282,
          0.017094017094017096,
          0.019230769230769232,
          0.019230769230769232,
          0.019230769230769232,
          0.02564102564102564,
          0.027777777777777776,
          0.027777777777777776,
          0.027777777777777776,
          0.029914529914529916,
          0.029914529914529916,
          0.029914529914529916,
          0.03205128205128205,
          0.03205128205128205,
          0.03418803418803419,
          0.038461538461538464,
          0.0405982905982906,
          0.0405982905982906,
          0.042735042735042736,
          0.04487179487179487,
          0.04487179487179487,
          0.04487179487179487,
          0.049145299145299144,
          0.053418803418803416,
          0.057692307692307696,
          0.05982905982905983,
          0.0641025641025641,
          0.07051282051282051,
          0.07905982905982906,
          0.10042735042735043,
          0.11538461538461539,
          0.1388888888888889,
          0.16025641025641027,
          0.17735042735042736,
          0.22863247863247863,
          0.3076923076923077,
          0.4337606837606838,
          0.6816239316239316,
          1
         ],
         "y": [
          0,
          0.17584009269988413,
          0.3792004634994206,
          0.46552723059096174,
          0.514774044032445,
          0.5538818076477404,
          0.6054461181923523,
          0.626882966396292,
          0.6442641946697567,
          0.660196987253766,
          0.6746813441483198,
          0.6871378910776361,
          0.7004634994206257,
          0.7120509849362688,
          0.7216106604866744,
          0.7320393974507532,
          0.7418887601390498,
          0.7508690614136733,
          0.7563731170336037,
          0.7627462340672074,
          0.772595596755504,
          0.7775202780996524,
          0.7841830822711472,
          0.7914252607184241,
          0.7983777520278099,
          0.8038818076477404,
          0.8085168018539977,
          0.8119930475086906,
          0.8163383545770567,
          0.8227114716106605,
          0.8267670915411356,
          0.8311123986095017,
          0.8348783314020858,
          0.8377752027809965,
          0.8412514484356894,
          0.8455967555040557,
          0.8487833140208575,
          0.8522595596755504,
          0.8554461181923523,
          0.8597914252607184,
          0.8623986095017381,
          0.8644264194669756,
          0.8676129779837776,
          0.869351100811124,
          0.8736964078794901,
          0.8760139049826188,
          0.8786210892236385,
          0.8809385863267671,
          0.8835457705677868,
          0.8858632676709154,
          0.8887601390498262,
          0.8925260718424102,
          0.8939745075318656,
          0.8965816917728853,
          0.8988991888760139,
          0.9017960602549246,
          0.9038238702201622,
          0.9046929316338355,
          0.9058516801853997,
          0.9093279258400927,
          0.9145422943221321,
          0.9165701042873696,
          0.9197566628041715,
          0.9212050984936269,
          0.9229432213209734,
          0.9235225955967555,
          0.925260718424102,
          0.9267091541135574,
          0.9281575898030128,
          0.9301853997682503,
          0.9313441483198146,
          0.933082271147161,
          0.9345307068366164,
          0.9371378910776361,
          0.9382966396292005,
          0.9391657010428737,
          0.9409038238702202,
          0.9432213209733488,
          0.9446697566628042,
          0.9461181923522596,
          0.9484356894553881,
          0.9490150637311703,
          0.9501738122827347,
          0.9519119351100811,
          0.9545191193511008,
          0.9559675550405562,
          0.9574159907300116,
          0.958864426419467,
          0.9603128621089224,
          0.9620509849362688,
          0.9632097334878331,
          0.9649478563151797,
          0.9666859791425261,
          0.9695828505214369,
          0.9721900347624566,
          0.9727694090382387,
          0.9768250289687138,
          0.9843568945538818,
          0.9927578215527231,
          1
         ]
        },
        {
         "line": {
          "color": "gray",
          "dash": "dash",
          "width": 2
         },
         "mode": "lines",
         "name": "Chance",
         "showlegend": false,
         "type": "scatter",
         "x": [
          0,
          1
         ],
         "y": [
          0,
          1
         ]
        },
        {
         "line": {
          "color": "#E41A1C",
          "width": 2
         },
         "mode": "lines",
         "name": "Framework      (0.987 [0.9837-0.9896])",
         "showlegend": false,
         "type": "scatter",
         "x": [
          0,
          0,
          0,
          0,
          0,
          0,
          0,
          0.042735042735042736,
          0.04487179487179487,
          0.11324786324786325,
          1
         ],
         "y": [
          0,
          0.09269988412514485,
          0.17033603707995365,
          0.41367323290845887,
          0.518539976825029,
          0.7346465816917729,
          0.8308227114716107,
          0.9522016222479722,
          0.9629200463499421,
          0.9846465816917729,
          1
         ]
        }
       ],
       "layout": {
        "annotations": [
         {
          "bgcolor": "rgba(243, 243, 243, 1)",
          "borderwidth": 2,
          "font": {
           "color": "black",
           "family": "Arial, sans-serif",
           "size": 12
          },
          "showarrow": false,
          "text": "DeLong's test p-value = 7.89e-04",
          "x": 0.6,
          "xref": "paper",
          "y": 0.05,
          "yref": "paper"
         }
        ],
        "height": 500,
        "legend": {
         "bgcolor": "rgba(243, 243, 243, 1)",
         "font": {
          "color": "black",
          "family": "Arial, sans-serif",
          "size": 12
         },
         "title": {
          "text": "Prediction methods (AUC [95%CI])"
         },
         "x": 0.925,
         "xanchor": "right",
         "y": 0.09,
         "yanchor": "bottom"
        },
        "margin": {
         "b": 40,
         "l": 40,
         "r": 40,
         "t": 40
        },
        "paper_bgcolor": "rgba(243, 243, 243, 0)",
        "plot_bgcolor": "rgba(243, 243, 243, 1)",
        "template": {
         "data": {
          "bar": [
           {
            "error_x": {
             "color": "#2a3f5f"
            },
            "error_y": {
             "color": "#2a3f5f"
            },
            "marker": {
             "line": {
              "color": "#E5ECF6",
              "width": 0.5
             },
             "pattern": {
              "fillmode": "overlay",
              "size": 10,
              "solidity": 0.2
             }
            },
            "type": "bar"
           }
          ],
          "barpolar": [
           {
            "marker": {
             "line": {
              "color": "#E5ECF6",
              "width": 0.5
             },
             "pattern": {
              "fillmode": "overlay",
              "size": 10,
              "solidity": 0.2
             }
            },
            "type": "barpolar"
           }
          ],
          "carpet": [
           {
            "aaxis": {
             "endlinecolor": "#2a3f5f",
             "gridcolor": "white",
             "linecolor": "white",
             "minorgridcolor": "white",
             "startlinecolor": "#2a3f5f"
            },
            "baxis": {
             "endlinecolor": "#2a3f5f",
             "gridcolor": "white",
             "linecolor": "white",
             "minorgridcolor": "white",
             "startlinecolor": "#2a3f5f"
            },
            "type": "carpet"
           }
          ],
          "choropleth": [
           {
            "colorbar": {
             "outlinewidth": 0,
             "ticks": ""
            },
            "type": "choropleth"
           }
          ],
          "contour": [
           {
            "colorbar": {
             "outlinewidth": 0,
             "ticks": ""
            },
            "colorscale": [
             [
              0,
              "#0d0887"
             ],
             [
              0.1111111111111111,
              "#46039f"
             ],
             [
              0.2222222222222222,
              "#7201a8"
             ],
             [
              0.3333333333333333,
              "#9c179e"
             ],
             [
              0.4444444444444444,
              "#bd3786"
             ],
             [
              0.5555555555555556,
              "#d8576b"
             ],
             [
              0.6666666666666666,
              "#ed7953"
             ],
             [
              0.7777777777777778,
              "#fb9f3a"
             ],
             [
              0.8888888888888888,
              "#fdca26"
             ],
             [
              1,
              "#f0f921"
             ]
            ],
            "type": "contour"
           }
          ],
          "contourcarpet": [
           {
            "colorbar": {
             "outlinewidth": 0,
             "ticks": ""
            },
            "type": "contourcarpet"
           }
          ],
          "heatmap": [
           {
            "colorbar": {
             "outlinewidth": 0,
             "ticks": ""
            },
            "colorscale": [
             [
              0,
              "#0d0887"
             ],
             [
              0.1111111111111111,
              "#46039f"
             ],
             [
              0.2222222222222222,
              "#7201a8"
             ],
             [
              0.3333333333333333,
              "#9c179e"
             ],
             [
              0.4444444444444444,
              "#bd3786"
             ],
             [
              0.5555555555555556,
              "#d8576b"
             ],
             [
              0.6666666666666666,
              "#ed7953"
             ],
             [
              0.7777777777777778,
              "#fb9f3a"
             ],
             [
              0.8888888888888888,
              "#fdca26"
             ],
             [
              1,
              "#f0f921"
             ]
            ],
            "type": "heatmap"
           }
          ],
          "heatmapgl": [
           {
            "colorbar": {
             "outlinewidth": 0,
             "ticks": ""
            },
            "colorscale": [
             [
              0,
              "#0d0887"
             ],
             [
              0.1111111111111111,
              "#46039f"
             ],
             [
              0.2222222222222222,
              "#7201a8"
             ],
             [
              0.3333333333333333,
              "#9c179e"
             ],
             [
              0.4444444444444444,
              "#bd3786"
             ],
             [
              0.5555555555555556,
              "#d8576b"
             ],
             [
              0.6666666666666666,
              "#ed7953"
             ],
             [
              0.7777777777777778,
              "#fb9f3a"
             ],
             [
              0.8888888888888888,
              "#fdca26"
             ],
             [
              1,
              "#f0f921"
             ]
            ],
            "type": "heatmapgl"
           }
          ],
          "histogram": [
           {
            "marker": {
             "pattern": {
              "fillmode": "overlay",
              "size": 10,
              "solidity": 0.2
             }
            },
            "type": "histogram"
           }
          ],
          "histogram2d": [
           {
            "colorbar": {
             "outlinewidth": 0,
             "ticks": ""
            },
            "colorscale": [
             [
              0,
              "#0d0887"
             ],
             [
              0.1111111111111111,
              "#46039f"
             ],
             [
              0.2222222222222222,
              "#7201a8"
             ],
             [
              0.3333333333333333,
              "#9c179e"
             ],
             [
              0.4444444444444444,
              "#bd3786"
             ],
             [
              0.5555555555555556,
              "#d8576b"
             ],
             [
              0.6666666666666666,
              "#ed7953"
             ],
             [
              0.7777777777777778,
              "#fb9f3a"
             ],
             [
              0.8888888888888888,
              "#fdca26"
             ],
             [
              1,
              "#f0f921"
             ]
            ],
            "type": "histogram2d"
           }
          ],
          "histogram2dcontour": [
           {
            "colorbar": {
             "outlinewidth": 0,
             "ticks": ""
            },
            "colorscale": [
             [
              0,
              "#0d0887"
             ],
             [
              0.1111111111111111,
              "#46039f"
             ],
             [
              0.2222222222222222,
              "#7201a8"
             ],
             [
              0.3333333333333333,
              "#9c179e"
             ],
             [
              0.4444444444444444,
              "#bd3786"
             ],
             [
              0.5555555555555556,
              "#d8576b"
             ],
             [
              0.6666666666666666,
              "#ed7953"
             ],
             [
              0.7777777777777778,
              "#fb9f3a"
             ],
             [
              0.8888888888888888,
              "#fdca26"
             ],
             [
              1,
              "#f0f921"
             ]
            ],
            "type": "histogram2dcontour"
           }
          ],
          "mesh3d": [
           {
            "colorbar": {
             "outlinewidth": 0,
             "ticks": ""
            },
            "type": "mesh3d"
           }
          ],
          "parcoords": [
           {
            "line": {
             "colorbar": {
              "outlinewidth": 0,
              "ticks": ""
             }
            },
            "type": "parcoords"
           }
          ],
          "pie": [
           {
            "automargin": true,
            "type": "pie"
           }
          ],
          "scatter": [
           {
            "fillpattern": {
             "fillmode": "overlay",
             "size": 10,
             "solidity": 0.2
            },
            "type": "scatter"
           }
          ],
          "scatter3d": [
           {
            "line": {
             "colorbar": {
              "outlinewidth": 0,
              "ticks": ""
             }
            },
            "marker": {
             "colorbar": {
              "outlinewidth": 0,
              "ticks": ""
             }
            },
            "type": "scatter3d"
           }
          ],
          "scattercarpet": [
           {
            "marker": {
             "colorbar": {
              "outlinewidth": 0,
              "ticks": ""
             }
            },
            "type": "scattercarpet"
           }
          ],
          "scattergeo": [
           {
            "marker": {
             "colorbar": {
              "outlinewidth": 0,
              "ticks": ""
             }
            },
            "type": "scattergeo"
           }
          ],
          "scattergl": [
           {
            "marker": {
             "colorbar": {
              "outlinewidth": 0,
              "ticks": ""
             }
            },
            "type": "scattergl"
           }
          ],
          "scattermapbox": [
           {
            "marker": {
             "colorbar": {
              "outlinewidth": 0,
              "ticks": ""
             }
            },
            "type": "scattermapbox"
           }
          ],
          "scatterpolar": [
           {
            "marker": {
             "colorbar": {
              "outlinewidth": 0,
              "ticks": ""
             }
            },
            "type": "scatterpolar"
           }
          ],
          "scatterpolargl": [
           {
            "marker": {
             "colorbar": {
              "outlinewidth": 0,
              "ticks": ""
             }
            },
            "type": "scatterpolargl"
           }
          ],
          "scatterternary": [
           {
            "marker": {
             "colorbar": {
              "outlinewidth": 0,
              "ticks": ""
             }
            },
            "type": "scatterternary"
           }
          ],
          "surface": [
           {
            "colorbar": {
             "outlinewidth": 0,
             "ticks": ""
            },
            "colorscale": [
             [
              0,
              "#0d0887"
             ],
             [
              0.1111111111111111,
              "#46039f"
             ],
             [
              0.2222222222222222,
              "#7201a8"
             ],
             [
              0.3333333333333333,
              "#9c179e"
             ],
             [
              0.4444444444444444,
              "#bd3786"
             ],
             [
              0.5555555555555556,
              "#d8576b"
             ],
             [
              0.6666666666666666,
              "#ed7953"
             ],
             [
              0.7777777777777778,
              "#fb9f3a"
             ],
             [
              0.8888888888888888,
              "#fdca26"
             ],
             [
              1,
              "#f0f921"
             ]
            ],
            "type": "surface"
           }
          ],
          "table": [
           {
            "cells": {
             "fill": {
              "color": "#EBF0F8"
             },
             "line": {
              "color": "white"
             }
            },
            "header": {
             "fill": {
              "color": "#C8D4E3"
             },
             "line": {
              "color": "white"
             }
            },
            "type": "table"
           }
          ]
         },
         "layout": {
          "annotationdefaults": {
           "arrowcolor": "#2a3f5f",
           "arrowhead": 0,
           "arrowwidth": 1
          },
          "autotypenumbers": "strict",
          "coloraxis": {
           "colorbar": {
            "outlinewidth": 0,
            "ticks": ""
           }
          },
          "colorscale": {
           "diverging": [
            [
             0,
             "#8e0152"
            ],
            [
             0.1,
             "#c51b7d"
            ],
            [
             0.2,
             "#de77ae"
            ],
            [
             0.3,
             "#f1b6da"
            ],
            [
             0.4,
             "#fde0ef"
            ],
            [
             0.5,
             "#f7f7f7"
            ],
            [
             0.6,
             "#e6f5d0"
            ],
            [
             0.7,
             "#b8e186"
            ],
            [
             0.8,
             "#7fbc41"
            ],
            [
             0.9,
             "#4d9221"
            ],
            [
             1,
             "#276419"
            ]
           ],
           "sequential": [
            [
             0,
             "#0d0887"
            ],
            [
             0.1111111111111111,
             "#46039f"
            ],
            [
             0.2222222222222222,
             "#7201a8"
            ],
            [
             0.3333333333333333,
             "#9c179e"
            ],
            [
             0.4444444444444444,
             "#bd3786"
            ],
            [
             0.5555555555555556,
             "#d8576b"
            ],
            [
             0.6666666666666666,
             "#ed7953"
            ],
            [
             0.7777777777777778,
             "#fb9f3a"
            ],
            [
             0.8888888888888888,
             "#fdca26"
            ],
            [
             1,
             "#f0f921"
            ]
           ],
           "sequentialminus": [
            [
             0,
             "#0d0887"
            ],
            [
             0.1111111111111111,
             "#46039f"
            ],
            [
             0.2222222222222222,
             "#7201a8"
            ],
            [
             0.3333333333333333,
             "#9c179e"
            ],
            [
             0.4444444444444444,
             "#bd3786"
            ],
            [
             0.5555555555555556,
             "#d8576b"
            ],
            [
             0.6666666666666666,
             "#ed7953"
            ],
            [
             0.7777777777777778,
             "#fb9f3a"
            ],
            [
             0.8888888888888888,
             "#fdca26"
            ],
            [
             1,
             "#f0f921"
            ]
           ]
          },
          "colorway": [
           "#636efa",
           "#EF553B",
           "#00cc96",
           "#ab63fa",
           "#FFA15A",
           "#19d3f3",
           "#FF6692",
           "#B6E880",
           "#FF97FF",
           "#FECB52"
          ],
          "font": {
           "color": "#2a3f5f"
          },
          "geo": {
           "bgcolor": "white",
           "lakecolor": "white",
           "landcolor": "#E5ECF6",
           "showlakes": true,
           "showland": true,
           "subunitcolor": "white"
          },
          "hoverlabel": {
           "align": "left"
          },
          "hovermode": "closest",
          "mapbox": {
           "style": "light"
          },
          "paper_bgcolor": "white",
          "plot_bgcolor": "#E5ECF6",
          "polar": {
           "angularaxis": {
            "gridcolor": "white",
            "linecolor": "white",
            "ticks": ""
           },
           "bgcolor": "#E5ECF6",
           "radialaxis": {
            "gridcolor": "white",
            "linecolor": "white",
            "ticks": ""
           }
          },
          "scene": {
           "xaxis": {
            "backgroundcolor": "#E5ECF6",
            "gridcolor": "white",
            "gridwidth": 2,
            "linecolor": "white",
            "showbackground": true,
            "ticks": "",
            "zerolinecolor": "white"
           },
           "yaxis": {
            "backgroundcolor": "#E5ECF6",
            "gridcolor": "white",
            "gridwidth": 2,
            "linecolor": "white",
            "showbackground": true,
            "ticks": "",
            "zerolinecolor": "white"
           },
           "zaxis": {
            "backgroundcolor": "#E5ECF6",
            "gridcolor": "white",
            "gridwidth": 2,
            "linecolor": "white",
            "showbackground": true,
            "ticks": "",
            "zerolinecolor": "white"
           }
          },
          "shapedefaults": {
           "line": {
            "color": "#2a3f5f"
           }
          },
          "ternary": {
           "aaxis": {
            "gridcolor": "white",
            "linecolor": "white",
            "ticks": ""
           },
           "baxis": {
            "gridcolor": "white",
            "linecolor": "white",
            "ticks": ""
           },
           "bgcolor": "#E5ECF6",
           "caxis": {
            "gridcolor": "white",
            "linecolor": "white",
            "ticks": ""
           }
          },
          "title": {
           "x": 0.05
          },
          "xaxis": {
           "automargin": true,
           "gridcolor": "white",
           "linecolor": "white",
           "ticks": "",
           "title": {
            "standoff": 15
           },
           "zerolinecolor": "white",
           "zerolinewidth": 2
          },
          "yaxis": {
           "automargin": true,
           "gridcolor": "white",
           "linecolor": "white",
           "ticks": "",
           "title": {
            "standoff": 15
           },
           "zerolinecolor": "white",
           "zerolinewidth": 2
          }
         }
        },
        "title": {
         "text": "ROC Curve Comparison"
        },
        "width": 500,
        "xaxis": {
         "range": [
          -0.05,
          1.05
         ],
         "title": {
          "text": "False Positive Rate"
         }
        },
        "yaxis": {
         "range": [
          -0.05,
          1.05
         ],
         "title": {
          "text": "True Positive Rate"
         }
        }
       }
      }
     },
     "metadata": {},
     "output_type": "display_data"
    }
   ],
   "source": [
    "def specificity_sensitivity_plotly(data):\n",
    "    thresholds = [0, 1, 2, 3, 4, 5, 6, 7, 8, 9]\n",
    "    results = []\n",
    "\n",
    "    for threshold in thresholds:\n",
    "        tp = data[(data['PriorityScore'] >= threshold) & (data['LABEL'] == 1)].shape[0]\n",
    "        fn = data[(data['PriorityScore'] < threshold) & (data['LABEL'] == 1)].shape[0]\n",
    "        tn = data[(data['PriorityScore'] < threshold) & (data['LABEL'] == 0)].shape[0]\n",
    "        fp = data[(data['PriorityScore'] >= threshold) & (data['LABEL'] == 0)].shape[0]\n",
    "        specificity = tn / (tn + fp) if (tn + fp) else 0\n",
    "        sensitivity = tp / (tp + fn) if (tp + fn) else 0\n",
    "        results.append({'Threshold': threshold, 'Metric': 'Specificity', 'Value': specificity})\n",
    "        results.append({'Threshold': threshold, 'Metric': 'Sensitivity', 'Value': sensitivity})\n",
    "\n",
    "    return results_df\n",
    "\n",
    "import plotly.graph_objects as go\n",
    "import numpy as np\n",
    "from sklearn.metrics import roc_curve, roc_auc_score\n",
    "\n",
    "# ROC curve (LABEL, PriorityScore)\n",
    "fpr1, tpr1, thresholds1 = roc_curve(data['LABEL'], data['PriorityScore'])\n",
    "auc1 = roc_auc_score(data['LABEL'], data['PriorityScore'])\n",
    "\n",
    "fpr2, tpr2, thresholds2 = roc_curve(data['LABEL'], data['maxsplai'])\n",
    "auc2 = roc_auc_score(data['LABEL'], data['maxsplai'])\n",
    "\n",
    "# Calculate optimal threshold from ROC curve by Youden's J statistic\n",
    "Youden_index = np.argmax(tpr1 - fpr1)\n",
    "optimal_threshold = thresholds1[Youden_index]\n",
    "print('Optimal threshold (using Youden index):', optimal_threshold)\n",
    "\n",
    "# plot ROC curve using Plotly\n",
    "fig = go.Figure()\n",
    "\n",
    "# Add traces\n",
    "fig.add_trace(go.Scatter(\n",
    "    x=fpr1, y=tpr1, mode='lines', \n",
    "    name=f\"Framework      ({auc1:.3f} [{cilower1:.4f}-{ciupper1:.4f}])\", \n",
    "    line=dict(color='#E41A1C', width=2))\n",
    "    )\n",
    "fig.add_trace(go.Scatter(\n",
    "    x=fpr2, y=tpr2, mode='lines', \n",
    "    name=f\"SpliceAI Alone ({auc2:.3f} [{cilower2:.4f}-{ciupper2:.4f}])\", \n",
    "    line=dict(color='#377EB8', width=2))\n",
    "    )\n",
    "fig.add_trace(go.Scatter(\n",
    "    x=[0, 1], y=[0, 1], mode='lines', name='Chance', \n",
    "    line=dict(color='gray', width=2, dash='dash'), showlegend=False)\n",
    "    )\n",
    "\n",
    "# Add an annotation\n",
    "fig.add_annotation(x=0.6, y=0.05, xref=\"paper\", yref=\"paper\",\n",
    "                   text=f\"DeLong's test p-value = {10**p_value_log[0][0]:.2e}\",\n",
    "                   showarrow=False,\n",
    "                   font=dict(family=\"Arial, sans-serif\", size=12, color=\"black\"),\n",
    "                   bgcolor='rgba(243, 243, 243, 1)',\n",
    "                #    bordercolor=\"black\",\n",
    "                   borderwidth=2)\n",
    "\n",
    "# Add titles and labels\n",
    "fig.update_layout(title='ROC Curve Comparison',\n",
    "                  xaxis_title='False Positive Rate',\n",
    "                  yaxis_title='True Positive Rate',\n",
    "                  legend_title='Prediction methods (AUC [95%CI])',\n",
    "                  plot_bgcolor='rgba(243, 243, 243, 1)',\n",
    "                  paper_bgcolor='rgba(243, 243, 243, 0)',\n",
    "                  legend=dict(y=0.09, x=0.925, xanchor='right', yanchor='bottom', \n",
    "                              bgcolor='rgba(243, 243, 243, 1)',\n",
    "                              font=dict(family=\"Arial, sans-serif\", size=12, color=\"black\")),\n",
    "                  margin=dict(l=40, r=40, t=40, b=40))\n",
    "\n",
    "fig.update_xaxes(range=[-0.05, 1.05])\n",
    "fig.update_yaxes(range=[-0.05, 1.05])\n",
    "fig.update_layout(width=500, height=500)\n",
    "fig.write_html(\"roc-auc.html\")\n",
    "\n",
    "# Add zoomed-in ROC curve in the top left corner\n",
    "fig.add_trace(go.Scatter(\n",
    "    x=fpr1, y=tpr1, mode='lines', \n",
    "    name=f\"Framework      ({auc1:.3f} [{cilower1:.4f}-{ciupper1:.4f}])\", \n",
    "    line=dict(color='#E41A1C', width=2), showlegend=False)\n",
    "    )\n",
    "\n",
    "\n",
    "# Show figure\n",
    "fig.show()\n"
   ]
  },
  {
   "cell_type": "code",
   "execution_count": 141,
   "metadata": {},
   "outputs": [
    {
     "data": {
      "application/vnd.plotly.v1+json": {
       "config": {
        "plotlyServerURL": "https://plot.ly"
       },
       "data": [
        {
         "marker": {
          "color": "#8dd3c7"
         },
         "name": "Specificity",
         "type": "bar",
         "x": [
          2,
          "Framework (5)<br> High specificity",
          "SpliceAI (0.2)<br> High sensitivity",
          "SpliceAI (0.5)<br> Recommended",
          "SpliceAI (0.8)<br> High precision"
         ],
         "y": [
          0.9551282051282052,
          1,
          0.9572649572649573,
          0.9935897435897436,
          0.9978632478632479
         ]
        },
        {
         "marker": {
          "color": "#bebada"
         },
         "name": "Sensitivity",
         "type": "bar",
         "x": [
          2,
          "Framework (5)<br> High specificity",
          "SpliceAI (0.2)<br> High sensitivity",
          "SpliceAI (0.5)<br> Recommended",
          "SpliceAI (0.8)<br> High precision"
         ],
         "y": [
          0.9629200463499421,
          0.7346465816917729,
          0.9461181923522596,
          0.8887601390498262,
          0.772595596755504
         ]
        },
        {
         "marker": {
          "color": "#fb8072"
         },
         "name": "Precision",
         "type": "bar",
         "x": [
          2,
          "Framework (5)<br> High specificity",
          "SpliceAI (0.2)<br> High sensitivity",
          "SpliceAI (0.5)<br> Recommended",
          "SpliceAI (0.8)<br> High precision"
         ],
         "y": [
          0.9937219730941704,
          1,
          0.9939135727328059,
          0.9990231195050472,
          0.9996251874062968
         ]
        },
        {
         "marker": {
          "color": "#80b1d3"
         },
         "name": "F-score",
         "type": "bar",
         "x": [
          2,
          "Framework (5)<br> High specificity",
          "SpliceAI (0.2)<br> High sensitivity",
          "SpliceAI (0.5)<br> Recommended",
          "SpliceAI (0.8)<br> High precision"
         ],
         "y": [
          0.9780785640723849,
          0.8470273881095525,
          0.9694271297120809,
          0.9406714701824315,
          0.8715686274509804
         ]
        }
       ],
       "layout": {
        "barmode": "group",
        "height": 600,
        "legend": {
         "bgcolor": "rgba(255, 255, 255, 0.8)",
         "bordercolor": "rgba(0, 0, 0, 0)",
         "font": {
          "color": "black",
          "family": "Arial, sans-serif",
          "size": 12
         },
         "title": {
          "text": "Performance Metrics"
         },
         "x": 0.95,
         "xanchor": "right",
         "y": 0.075,
         "yanchor": "bottom"
        },
        "margin": {
         "b": 40,
         "l": 40,
         "r": 40,
         "t": 40
        },
        "paper_bgcolor": "rgba(243, 243, 243, 0)",
        "plot_bgcolor": "rgba(243, 243, 243, 1)",
        "template": {
         "data": {
          "bar": [
           {
            "error_x": {
             "color": "#2a3f5f"
            },
            "error_y": {
             "color": "#2a3f5f"
            },
            "marker": {
             "line": {
              "color": "#E5ECF6",
              "width": 0.5
             },
             "pattern": {
              "fillmode": "overlay",
              "size": 10,
              "solidity": 0.2
             }
            },
            "type": "bar"
           }
          ],
          "barpolar": [
           {
            "marker": {
             "line": {
              "color": "#E5ECF6",
              "width": 0.5
             },
             "pattern": {
              "fillmode": "overlay",
              "size": 10,
              "solidity": 0.2
             }
            },
            "type": "barpolar"
           }
          ],
          "carpet": [
           {
            "aaxis": {
             "endlinecolor": "#2a3f5f",
             "gridcolor": "white",
             "linecolor": "white",
             "minorgridcolor": "white",
             "startlinecolor": "#2a3f5f"
            },
            "baxis": {
             "endlinecolor": "#2a3f5f",
             "gridcolor": "white",
             "linecolor": "white",
             "minorgridcolor": "white",
             "startlinecolor": "#2a3f5f"
            },
            "type": "carpet"
           }
          ],
          "choropleth": [
           {
            "colorbar": {
             "outlinewidth": 0,
             "ticks": ""
            },
            "type": "choropleth"
           }
          ],
          "contour": [
           {
            "colorbar": {
             "outlinewidth": 0,
             "ticks": ""
            },
            "colorscale": [
             [
              0,
              "#0d0887"
             ],
             [
              0.1111111111111111,
              "#46039f"
             ],
             [
              0.2222222222222222,
              "#7201a8"
             ],
             [
              0.3333333333333333,
              "#9c179e"
             ],
             [
              0.4444444444444444,
              "#bd3786"
             ],
             [
              0.5555555555555556,
              "#d8576b"
             ],
             [
              0.6666666666666666,
              "#ed7953"
             ],
             [
              0.7777777777777778,
              "#fb9f3a"
             ],
             [
              0.8888888888888888,
              "#fdca26"
             ],
             [
              1,
              "#f0f921"
             ]
            ],
            "type": "contour"
           }
          ],
          "contourcarpet": [
           {
            "colorbar": {
             "outlinewidth": 0,
             "ticks": ""
            },
            "type": "contourcarpet"
           }
          ],
          "heatmap": [
           {
            "colorbar": {
             "outlinewidth": 0,
             "ticks": ""
            },
            "colorscale": [
             [
              0,
              "#0d0887"
             ],
             [
              0.1111111111111111,
              "#46039f"
             ],
             [
              0.2222222222222222,
              "#7201a8"
             ],
             [
              0.3333333333333333,
              "#9c179e"
             ],
             [
              0.4444444444444444,
              "#bd3786"
             ],
             [
              0.5555555555555556,
              "#d8576b"
             ],
             [
              0.6666666666666666,
              "#ed7953"
             ],
             [
              0.7777777777777778,
              "#fb9f3a"
             ],
             [
              0.8888888888888888,
              "#fdca26"
             ],
             [
              1,
              "#f0f921"
             ]
            ],
            "type": "heatmap"
           }
          ],
          "heatmapgl": [
           {
            "colorbar": {
             "outlinewidth": 0,
             "ticks": ""
            },
            "colorscale": [
             [
              0,
              "#0d0887"
             ],
             [
              0.1111111111111111,
              "#46039f"
             ],
             [
              0.2222222222222222,
              "#7201a8"
             ],
             [
              0.3333333333333333,
              "#9c179e"
             ],
             [
              0.4444444444444444,
              "#bd3786"
             ],
             [
              0.5555555555555556,
              "#d8576b"
             ],
             [
              0.6666666666666666,
              "#ed7953"
             ],
             [
              0.7777777777777778,
              "#fb9f3a"
             ],
             [
              0.8888888888888888,
              "#fdca26"
             ],
             [
              1,
              "#f0f921"
             ]
            ],
            "type": "heatmapgl"
           }
          ],
          "histogram": [
           {
            "marker": {
             "pattern": {
              "fillmode": "overlay",
              "size": 10,
              "solidity": 0.2
             }
            },
            "type": "histogram"
           }
          ],
          "histogram2d": [
           {
            "colorbar": {
             "outlinewidth": 0,
             "ticks": ""
            },
            "colorscale": [
             [
              0,
              "#0d0887"
             ],
             [
              0.1111111111111111,
              "#46039f"
             ],
             [
              0.2222222222222222,
              "#7201a8"
             ],
             [
              0.3333333333333333,
              "#9c179e"
             ],
             [
              0.4444444444444444,
              "#bd3786"
             ],
             [
              0.5555555555555556,
              "#d8576b"
             ],
             [
              0.6666666666666666,
              "#ed7953"
             ],
             [
              0.7777777777777778,
              "#fb9f3a"
             ],
             [
              0.8888888888888888,
              "#fdca26"
             ],
             [
              1,
              "#f0f921"
             ]
            ],
            "type": "histogram2d"
           }
          ],
          "histogram2dcontour": [
           {
            "colorbar": {
             "outlinewidth": 0,
             "ticks": ""
            },
            "colorscale": [
             [
              0,
              "#0d0887"
             ],
             [
              0.1111111111111111,
              "#46039f"
             ],
             [
              0.2222222222222222,
              "#7201a8"
             ],
             [
              0.3333333333333333,
              "#9c179e"
             ],
             [
              0.4444444444444444,
              "#bd3786"
             ],
             [
              0.5555555555555556,
              "#d8576b"
             ],
             [
              0.6666666666666666,
              "#ed7953"
             ],
             [
              0.7777777777777778,
              "#fb9f3a"
             ],
             [
              0.8888888888888888,
              "#fdca26"
             ],
             [
              1,
              "#f0f921"
             ]
            ],
            "type": "histogram2dcontour"
           }
          ],
          "mesh3d": [
           {
            "colorbar": {
             "outlinewidth": 0,
             "ticks": ""
            },
            "type": "mesh3d"
           }
          ],
          "parcoords": [
           {
            "line": {
             "colorbar": {
              "outlinewidth": 0,
              "ticks": ""
             }
            },
            "type": "parcoords"
           }
          ],
          "pie": [
           {
            "automargin": true,
            "type": "pie"
           }
          ],
          "scatter": [
           {
            "fillpattern": {
             "fillmode": "overlay",
             "size": 10,
             "solidity": 0.2
            },
            "type": "scatter"
           }
          ],
          "scatter3d": [
           {
            "line": {
             "colorbar": {
              "outlinewidth": 0,
              "ticks": ""
             }
            },
            "marker": {
             "colorbar": {
              "outlinewidth": 0,
              "ticks": ""
             }
            },
            "type": "scatter3d"
           }
          ],
          "scattercarpet": [
           {
            "marker": {
             "colorbar": {
              "outlinewidth": 0,
              "ticks": ""
             }
            },
            "type": "scattercarpet"
           }
          ],
          "scattergeo": [
           {
            "marker": {
             "colorbar": {
              "outlinewidth": 0,
              "ticks": ""
             }
            },
            "type": "scattergeo"
           }
          ],
          "scattergl": [
           {
            "marker": {
             "colorbar": {
              "outlinewidth": 0,
              "ticks": ""
             }
            },
            "type": "scattergl"
           }
          ],
          "scattermapbox": [
           {
            "marker": {
             "colorbar": {
              "outlinewidth": 0,
              "ticks": ""
             }
            },
            "type": "scattermapbox"
           }
          ],
          "scatterpolar": [
           {
            "marker": {
             "colorbar": {
              "outlinewidth": 0,
              "ticks": ""
             }
            },
            "type": "scatterpolar"
           }
          ],
          "scatterpolargl": [
           {
            "marker": {
             "colorbar": {
              "outlinewidth": 0,
              "ticks": ""
             }
            },
            "type": "scatterpolargl"
           }
          ],
          "scatterternary": [
           {
            "marker": {
             "colorbar": {
              "outlinewidth": 0,
              "ticks": ""
             }
            },
            "type": "scatterternary"
           }
          ],
          "surface": [
           {
            "colorbar": {
             "outlinewidth": 0,
             "ticks": ""
            },
            "colorscale": [
             [
              0,
              "#0d0887"
             ],
             [
              0.1111111111111111,
              "#46039f"
             ],
             [
              0.2222222222222222,
              "#7201a8"
             ],
             [
              0.3333333333333333,
              "#9c179e"
             ],
             [
              0.4444444444444444,
              "#bd3786"
             ],
             [
              0.5555555555555556,
              "#d8576b"
             ],
             [
              0.6666666666666666,
              "#ed7953"
             ],
             [
              0.7777777777777778,
              "#fb9f3a"
             ],
             [
              0.8888888888888888,
              "#fdca26"
             ],
             [
              1,
              "#f0f921"
             ]
            ],
            "type": "surface"
           }
          ],
          "table": [
           {
            "cells": {
             "fill": {
              "color": "#EBF0F8"
             },
             "line": {
              "color": "white"
             }
            },
            "header": {
             "fill": {
              "color": "#C8D4E3"
             },
             "line": {
              "color": "white"
             }
            },
            "type": "table"
           }
          ]
         },
         "layout": {
          "annotationdefaults": {
           "arrowcolor": "#2a3f5f",
           "arrowhead": 0,
           "arrowwidth": 1
          },
          "autotypenumbers": "strict",
          "coloraxis": {
           "colorbar": {
            "outlinewidth": 0,
            "ticks": ""
           }
          },
          "colorscale": {
           "diverging": [
            [
             0,
             "#8e0152"
            ],
            [
             0.1,
             "#c51b7d"
            ],
            [
             0.2,
             "#de77ae"
            ],
            [
             0.3,
             "#f1b6da"
            ],
            [
             0.4,
             "#fde0ef"
            ],
            [
             0.5,
             "#f7f7f7"
            ],
            [
             0.6,
             "#e6f5d0"
            ],
            [
             0.7,
             "#b8e186"
            ],
            [
             0.8,
             "#7fbc41"
            ],
            [
             0.9,
             "#4d9221"
            ],
            [
             1,
             "#276419"
            ]
           ],
           "sequential": [
            [
             0,
             "#0d0887"
            ],
            [
             0.1111111111111111,
             "#46039f"
            ],
            [
             0.2222222222222222,
             "#7201a8"
            ],
            [
             0.3333333333333333,
             "#9c179e"
            ],
            [
             0.4444444444444444,
             "#bd3786"
            ],
            [
             0.5555555555555556,
             "#d8576b"
            ],
            [
             0.6666666666666666,
             "#ed7953"
            ],
            [
             0.7777777777777778,
             "#fb9f3a"
            ],
            [
             0.8888888888888888,
             "#fdca26"
            ],
            [
             1,
             "#f0f921"
            ]
           ],
           "sequentialminus": [
            [
             0,
             "#0d0887"
            ],
            [
             0.1111111111111111,
             "#46039f"
            ],
            [
             0.2222222222222222,
             "#7201a8"
            ],
            [
             0.3333333333333333,
             "#9c179e"
            ],
            [
             0.4444444444444444,
             "#bd3786"
            ],
            [
             0.5555555555555556,
             "#d8576b"
            ],
            [
             0.6666666666666666,
             "#ed7953"
            ],
            [
             0.7777777777777778,
             "#fb9f3a"
            ],
            [
             0.8888888888888888,
             "#fdca26"
            ],
            [
             1,
             "#f0f921"
            ]
           ]
          },
          "colorway": [
           "#636efa",
           "#EF553B",
           "#00cc96",
           "#ab63fa",
           "#FFA15A",
           "#19d3f3",
           "#FF6692",
           "#B6E880",
           "#FF97FF",
           "#FECB52"
          ],
          "font": {
           "color": "#2a3f5f"
          },
          "geo": {
           "bgcolor": "white",
           "lakecolor": "white",
           "landcolor": "#E5ECF6",
           "showlakes": true,
           "showland": true,
           "subunitcolor": "white"
          },
          "hoverlabel": {
           "align": "left"
          },
          "hovermode": "closest",
          "mapbox": {
           "style": "light"
          },
          "paper_bgcolor": "white",
          "plot_bgcolor": "#E5ECF6",
          "polar": {
           "angularaxis": {
            "gridcolor": "white",
            "linecolor": "white",
            "ticks": ""
           },
           "bgcolor": "#E5ECF6",
           "radialaxis": {
            "gridcolor": "white",
            "linecolor": "white",
            "ticks": ""
           }
          },
          "scene": {
           "xaxis": {
            "backgroundcolor": "#E5ECF6",
            "gridcolor": "white",
            "gridwidth": 2,
            "linecolor": "white",
            "showbackground": true,
            "ticks": "",
            "zerolinecolor": "white"
           },
           "yaxis": {
            "backgroundcolor": "#E5ECF6",
            "gridcolor": "white",
            "gridwidth": 2,
            "linecolor": "white",
            "showbackground": true,
            "ticks": "",
            "zerolinecolor": "white"
           },
           "zaxis": {
            "backgroundcolor": "#E5ECF6",
            "gridcolor": "white",
            "gridwidth": 2,
            "linecolor": "white",
            "showbackground": true,
            "ticks": "",
            "zerolinecolor": "white"
           }
          },
          "shapedefaults": {
           "line": {
            "color": "#2a3f5f"
           }
          },
          "ternary": {
           "aaxis": {
            "gridcolor": "white",
            "linecolor": "white",
            "ticks": ""
           },
           "baxis": {
            "gridcolor": "white",
            "linecolor": "white",
            "ticks": ""
           },
           "bgcolor": "#E5ECF6",
           "caxis": {
            "gridcolor": "white",
            "linecolor": "white",
            "ticks": ""
           }
          },
          "title": {
           "x": 0.05
          },
          "xaxis": {
           "automargin": true,
           "gridcolor": "white",
           "linecolor": "white",
           "ticks": "",
           "title": {
            "standoff": 15
           },
           "zerolinecolor": "white",
           "zerolinewidth": 2
          },
          "yaxis": {
           "automargin": true,
           "gridcolor": "white",
           "linecolor": "white",
           "ticks": "",
           "title": {
            "standoff": 15
           },
           "zerolinecolor": "white",
           "zerolinewidth": 2
          }
         }
        },
        "title": {
         "text": "Performance Metrics Comparison"
        },
        "width": 1000,
        "xaxis": {
         "categoryorder": "array",
         "title": {
          "text": "Methods (cutoff)"
         }
        },
        "yaxis": {
         "title": {
          "text": "Value"
         }
        }
       }
      }
     },
     "metadata": {},
     "output_type": "display_data"
    }
   ],
   "source": [
    "# Compare the performance of the two models\n",
    "# Confusion matrix\n",
    "th_4, th_5 = 2, 5\n",
    "th_02, th_05, th_08 = 0.2, 0.5, 0.8\n",
    "thresholds_fw = [th_4, th_5]\n",
    "thresholds_spl = [th_02, th_05, th_08]\n",
    "\n",
    "def calculate_performance_metrics_fw(data, threshold):\n",
    "    data['Prediction'] = data['PriorityScore'] >= threshold\n",
    "    tn, fp, fn, tp = confusion_matrix(data['LABEL'], data['Prediction']).ravel()\n",
    "    specificity = tn / (tn + fp) if (tn + fp) else 0\n",
    "    sensitivity = tp / (tp + fn) if (tp + fn) else 0\n",
    "    accuracy = accuracy_score(data['LABEL'], data['Prediction'])\n",
    "    precision = precision_score(data['LABEL'], data['Prediction'])\n",
    "    f1 = f1_score(data['LABEL'], data['Prediction'])\n",
    "    return specificity, sensitivity, accuracy, precision, f1\n",
    "\n",
    "def calculate_performance_metrics_spl(data, threshold):\n",
    "    data['Prediction'] = data['maxsplai'] >= threshold\n",
    "    tn, fp, fn, tp = confusion_matrix(data['LABEL'], data['Prediction']).ravel()\n",
    "    specificity = tn / (tn + fp) if (tn + fp) else 0\n",
    "    sensitivity = tp / (tp + fn) if (tp + fn) else 0\n",
    "    accuracy = accuracy_score(data['LABEL'], data['Prediction'])\n",
    "    precision = precision_score(data['LABEL'], data['Prediction'])\n",
    "    \n",
    "    f1 = f1_score(data['LABEL'], data['Prediction'])\n",
    "    return specificity, sensitivity, accuracy, precision, f1\n",
    "\n",
    "performance_metrics = []\n",
    "for threshold in thresholds_fw:\n",
    "    specificity, sensitivity, accuracy, precision, f1 = calculate_performance_metrics_fw(data, threshold)\n",
    "    performance_metrics.append({'Threshold': threshold, 'Specificity': specificity, 'Sensitivity': sensitivity, 'Accuracy': accuracy, 'Precision': precision, 'F1': f1})\n",
    "\n",
    "for threshold in thresholds_spl:\n",
    "    specificity, sensitivity, accuracy, precision, f1 = calculate_performance_metrics_spl(data, threshold)\n",
    "    performance_metrics.append({'Threshold': threshold, 'Specificity': specificity, 'Sensitivity': sensitivity, 'Accuracy': accuracy, 'Precision': precision, 'F1': f1})\n",
    "\n",
    "performance_metrics_df = pd.DataFrame(performance_metrics)\n",
    "columns = ['Category', 'Specificity', 'Sensitivity', 'Accuracy', 'Precision', 'F1']\n",
    "performance_metrics_df.columns = columns\n",
    "performance_metrics_df.replace(\n",
    "    {'Category': {\n",
    "        4.0: 'Framework (4)<br> High sensitivity', \n",
    "        5.0: 'Framework (5)<br> High specificity', \n",
    "        0.2: 'SpliceAI (0.2)<br> High sensitivity', \n",
    "        0.5: 'SpliceAI (0.5)<br> Recommended', \n",
    "        0.8: 'SpliceAI (0.8)<br> High precision'\n",
    "        }}, inplace=True)\n",
    "\n",
    "# print(performance_metrics_df)\n",
    "\n",
    "colors = ['#8dd3c7', '#ffffb3', '#bebada', '#fb8072', '#80b1d3']\n",
    "\n",
    "fig = go.Figure()\n",
    "\n",
    "# Add traces with ggplot2 style\n",
    "fig.add_trace(go.Bar(x=performance_metrics_df['Category'], y=performance_metrics_df['Specificity'], name='Specificity', marker_color=colors[0]))\n",
    "fig.add_trace(go.Bar(x=performance_metrics_df['Category'], y=performance_metrics_df['Sensitivity'], name='Sensitivity', marker_color=colors[2]))\n",
    "# fig.add_trace(go.Bar(x=performance_metrics_df['Category'], y=performance_metrics_df['Accuracy'], name='Accuracy', marker_color=colors[2]))\n",
    "fig.add_trace(go.Bar(x=performance_metrics_df['Category'], y=performance_metrics_df['Precision'], name='Precision', marker_color=colors[3]))\n",
    "fig.add_trace(go.Bar(x=performance_metrics_df['Category'], y=performance_metrics_df['F1'], name='F-score', marker_color=colors[4]))\n",
    "\n",
    "# Add titles and labels with ggplot2 style using bar plot\n",
    "fig.update_layout(title='Performance Metrics Comparison',\n",
    "                  xaxis_title='Methods (cutoff)',\n",
    "                  yaxis_title='Value',\n",
    "                  legend_title='Performance Metrics',\n",
    "                  plot_bgcolor='rgba(243, 243, 243, 1)',\n",
    "                  paper_bgcolor='rgba(243, 243, 243, 0)',\n",
    "                  legend=dict(y=0.075, x=0.95, xanchor='right', yanchor='bottom', \n",
    "                              bgcolor='rgba(255, 255, 255, 0.8)',\n",
    "                              bordercolor='rgba(0, 0, 0, 0)',\n",
    "                              font=dict(family=\"Arial, sans-serif\", size=12, color=\"black\")),\n",
    "                  margin=dict(l=40, r=40, t=40, b=40)\n",
    "                  )\n",
    "\n",
    "# add annotations on top of the bars\n",
    "font = dict(family=\"Arial, sans-serif\", size=9, color=\"black\")\n",
    "# for i, row in performance_metrics_df.iterrows():\n",
    "#     fig.add_annotation(x=row['Category'], y=row['Specificity'], text=f\"{row['Specificity']:.3f}\", showarrow=False, font=font, xshift=-42, yshift=10)\n",
    "#     fig.add_annotation(x=row['Category'], y=row['Sensitivity'], text=f\"{row['Sensitivity']:.3f}\", showarrow=False, font=font, xshift=-14, yshift=10)\n",
    "#     fig.add_annotation(x=row['Category'], y=row['Accuracy'], text=f\"{row['Accuracy']:.3f}\", showarrow=False, font=font, xshift=14, yshift=10)\n",
    "# #     fig.add_annotation(x=row['Category'], y=row['Precision'], text=f\"{row['Precision']:.3f}\", showarrow=False, font=font, xshift=15, yshift=10)\n",
    "#     fig.add_annotation(x=row['Category'], y=row['F1'], text=f\"{row['F1']:.3f}\", showarrow=False, font=font, xshift=42, yshift=10)\n",
    "\n",
    "# fig.add_annotation(x='Framework (2)<br> High sensitivity', \n",
    "#                    y='Specificity', text=\"0.970\", \n",
    "#                    showarrow=False, font=font, xshift=10, yshift=0)\n",
    "\n",
    "\n",
    "fig.update_layout(barmode='group')\n",
    "fig.update_xaxes(categoryorder='total ascending')\n",
    "fig.update_layout(width=1000, height=600)\n",
    "\n",
    "fig.update_xaxes(categoryorder='array')\n",
    "                #  categoryarray=['FW_2', 'FW_3', 'SPL_0.2', 'SPL_0.5', 'SPL_0.8'])\n",
    "fig.write_html(\"performance-metrics.html\")\n",
    "\n",
    "# Show figure\n",
    "fig.show()\n",
    "\n"
   ]
  },
  {
   "cell_type": "code",
   "execution_count": null,
   "metadata": {},
   "outputs": [],
   "source": []
  },
  {
   "cell_type": "code",
   "execution_count": null,
   "metadata": {},
   "outputs": [],
   "source": []
  },
  {
   "cell_type": "code",
   "execution_count": null,
   "metadata": {},
   "outputs": [],
   "source": []
  },
  {
   "cell_type": "code",
   "execution_count": 111,
   "metadata": {},
   "outputs": [
    {
     "data": {
      "text/plain": [
       "1355"
      ]
     },
     "execution_count": 111,
     "metadata": {},
     "output_type": "execute_result"
    }
   ],
   "source": [
    "tes = pd.read_pickle(\"/Users/utsu/work/Github/nar/ValidationData/AUC/non_spl_train_08.pkl\")\n",
    "set1 = set(tn_test['variant_id'].to_list())\n",
    "set2 = set(tes['variant_id'].to_list())\n",
    "\n",
    "len(set1 & set2)"
   ]
  },
  {
   "cell_type": "code",
   "execution_count": null,
   "metadata": {},
   "outputs": [],
   "source": []
  },
  {
   "cell_type": "code",
   "execution_count": 112,
   "metadata": {},
   "outputs": [
    {
     "data": {
      "text/html": [
       "<div>\n",
       "<style scoped>\n",
       "    .dataframe tbody tr th:only-of-type {\n",
       "        vertical-align: middle;\n",
       "    }\n",
       "\n",
       "    .dataframe tbody tr th {\n",
       "        vertical-align: top;\n",
       "    }\n",
       "\n",
       "    .dataframe thead th {\n",
       "        text-align: right;\n",
       "    }\n",
       "</style>\n",
       "<table border=\"1\" class=\"dataframe\">\n",
       "  <thead>\n",
       "    <tr style=\"text-align: right;\">\n",
       "      <th></th>\n",
       "      <th>variant_id</th>\n",
       "      <th>LABEL</th>\n",
       "      <th>PriorityScore</th>\n",
       "      <th>maxsplai</th>\n",
       "    </tr>\n",
       "  </thead>\n",
       "  <tbody>\n",
       "    <tr>\n",
       "      <th>122482</th>\n",
       "      <td>X-138619295-A-G</td>\n",
       "      <td>0</td>\n",
       "      <td>0</td>\n",
       "      <td>0.07</td>\n",
       "    </tr>\n",
       "    <tr>\n",
       "      <th>64848</th>\n",
       "      <td>11-108117714-A-T</td>\n",
       "      <td>0</td>\n",
       "      <td>1</td>\n",
       "      <td>0.12</td>\n",
       "    </tr>\n",
       "    <tr>\n",
       "      <th>105421</th>\n",
       "      <td>19-42364911-A-T</td>\n",
       "      <td>0</td>\n",
       "      <td>0</td>\n",
       "      <td>0.01</td>\n",
       "    </tr>\n",
       "    <tr>\n",
       "      <th>115938</th>\n",
       "      <td>X-41646444-T-C</td>\n",
       "      <td>0</td>\n",
       "      <td>0</td>\n",
       "      <td>0.03</td>\n",
       "    </tr>\n",
       "    <tr>\n",
       "      <th>23298</th>\n",
       "      <td>3-38603976-G-A</td>\n",
       "      <td>0</td>\n",
       "      <td>2</td>\n",
       "      <td>0.01</td>\n",
       "    </tr>\n",
       "    <tr>\n",
       "      <th>...</th>\n",
       "      <td>...</td>\n",
       "      <td>...</td>\n",
       "      <td>...</td>\n",
       "      <td>...</td>\n",
       "    </tr>\n",
       "    <tr>\n",
       "      <th>103975</th>\n",
       "      <td>19-18710530-C-T</td>\n",
       "      <td>0</td>\n",
       "      <td>0</td>\n",
       "      <td>0.00</td>\n",
       "    </tr>\n",
       "    <tr>\n",
       "      <th>111684</th>\n",
       "      <td>22-51064650-T-C</td>\n",
       "      <td>0</td>\n",
       "      <td>0</td>\n",
       "      <td>0.03</td>\n",
       "    </tr>\n",
       "    <tr>\n",
       "      <th>39467</th>\n",
       "      <td>6-76566915-G-A</td>\n",
       "      <td>0</td>\n",
       "      <td>0</td>\n",
       "      <td>0.00</td>\n",
       "    </tr>\n",
       "    <tr>\n",
       "      <th>118587</th>\n",
       "      <td>X-71787871-C-T</td>\n",
       "      <td>0</td>\n",
       "      <td>0</td>\n",
       "      <td>0.01</td>\n",
       "    </tr>\n",
       "    <tr>\n",
       "      <th>115848</th>\n",
       "      <td>X-41205762-C-A</td>\n",
       "      <td>0</td>\n",
       "      <td>3</td>\n",
       "      <td>0.24</td>\n",
       "    </tr>\n",
       "  </tbody>\n",
       "</table>\n",
       "<p>85411 rows × 4 columns</p>\n",
       "</div>"
      ],
      "text/plain": [
       "              variant_id  LABEL PriorityScore maxsplai\n",
       "122482   X-138619295-A-G      0             0     0.07\n",
       "64848   11-108117714-A-T      0             1     0.12\n",
       "105421   19-42364911-A-T      0             0     0.01\n",
       "115938    X-41646444-T-C      0             0     0.03\n",
       "23298     3-38603976-G-A      0             2     0.01\n",
       "...                  ...    ...           ...      ...\n",
       "103975   19-18710530-C-T      0             0     0.00\n",
       "111684   22-51064650-T-C      0             0     0.03\n",
       "39467     6-76566915-G-A      0             0     0.00\n",
       "118587    X-71787871-C-T      0             0     0.01\n",
       "115848    X-41205762-C-A      0             3     0.24\n",
       "\n",
       "[85411 rows x 4 columns]"
      ]
     },
     "execution_count": 112,
     "metadata": {},
     "output_type": "execute_result"
    }
   ],
   "source": [
    "tes"
   ]
  }
 ],
 "metadata": {
  "kernelspec": {
   "display_name": "sss",
   "language": "python",
   "name": "python3"
  },
  "language_info": {
   "codemirror_mode": {
    "name": "ipython",
    "version": 3
   },
   "file_extension": ".py",
   "mimetype": "text/x-python",
   "name": "python",
   "nbconvert_exporter": "python",
   "pygments_lexer": "ipython3",
   "version": "3.8.20"
  }
 },
 "nbformat": 4,
 "nbformat_minor": 2
}
