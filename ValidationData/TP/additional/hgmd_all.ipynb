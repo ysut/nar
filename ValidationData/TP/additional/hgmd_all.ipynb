{
 "cells": [
  {
   "cell_type": "markdown",
   "metadata": {},
   "source": [
    "##### Import package"
   ]
  },
  {
   "cell_type": "code",
   "execution_count": 2,
   "metadata": {},
   "outputs": [
    {
     "ename": "FileNotFoundError",
     "evalue": "[Errno 2] No such file or directory: '../../config/logging.yaml'",
     "output_type": "error",
     "traceback": [
      "\u001b[0;31m---------------------------------------------------------------------------\u001b[0m",
      "\u001b[0;31mFileNotFoundError\u001b[0m                         Traceback (most recent call last)",
      "Cell \u001b[0;32mIn[2], line 45\u001b[0m\n\u001b[1;32m     43\u001b[0m \u001b[38;5;66;03m# from libs import predeffect\u001b[39;00m\n\u001b[1;32m     44\u001b[0m \u001b[38;5;28;01mfrom\u001b[39;00m \u001b[38;5;21;01mlibs\u001b[39;00m\u001b[38;5;21;01m.\u001b[39;00m\u001b[38;5;21;01mscoring\u001b[39;00m \u001b[38;5;28;01mimport\u001b[39;00m Scoring\n\u001b[0;32m---> 45\u001b[0m \u001b[38;5;28;01mfrom\u001b[39;00m \u001b[38;5;21;01mlibs\u001b[39;00m \u001b[38;5;28;01mimport\u001b[39;00m predeffect\n\u001b[1;32m     48\u001b[0m gencode_gff \u001b[38;5;241m=\u001b[39m \u001b[38;5;124m'\u001b[39m\u001b[38;5;124m../../../Resources/05_GENCODE_v43lift37/gencode.v43lift37.annotation.sort.gff3.gz\u001b[39m\u001b[38;5;124m'\u001b[39m\n\u001b[1;32m     50\u001b[0m \u001b[38;5;28;01mtry\u001b[39;00m:\n",
      "File \u001b[0;32m~/work/Github/nar/ValidationData/TP/additional/../../../libs/predeffect.py:19\u001b[0m\n\u001b[1;32m     17\u001b[0m config_path: \u001b[38;5;28mstr\u001b[39m \u001b[38;5;241m=\u001b[39m os\u001b[38;5;241m.\u001b[39mpath\u001b[38;5;241m.\u001b[39mjoin(parent_directory, \u001b[38;5;124m'\u001b[39m\u001b[38;5;124m../../../config/logging.yaml\u001b[39m\u001b[38;5;124m'\u001b[39m)\n\u001b[1;32m     18\u001b[0m config_path: \u001b[38;5;28mstr\u001b[39m \u001b[38;5;241m=\u001b[39m os\u001b[38;5;241m.\u001b[39mpath\u001b[38;5;241m.\u001b[39mjoin(parent_directory, \u001b[38;5;124m'\u001b[39m\u001b[38;5;124m../../config/logging.yaml\u001b[39m\u001b[38;5;124m'\u001b[39m)\n\u001b[0;32m---> 19\u001b[0m \u001b[38;5;28;01mwith\u001b[39;00m \u001b[38;5;28;43mopen\u001b[39;49m\u001b[43m(\u001b[49m\u001b[43mconfig_path\u001b[49m\u001b[43m,\u001b[49m\u001b[43m \u001b[49m\u001b[38;5;124;43m'\u001b[39;49m\u001b[38;5;124;43mr\u001b[39;49m\u001b[38;5;124;43m'\u001b[39;49m\u001b[43m)\u001b[49m \u001b[38;5;28;01mas\u001b[39;00m f:\n\u001b[1;32m     20\u001b[0m     config\u001b[38;5;241m.\u001b[39mdictConfig(yaml\u001b[38;5;241m.\u001b[39msafe_load(f))\n\u001b[1;32m     21\u001b[0m logger \u001b[38;5;241m=\u001b[39m getLogger(\u001b[38;5;18m__name__\u001b[39m)\n",
      "\u001b[0;31mFileNotFoundError\u001b[0m: [Errno 2] No such file or directory: '../../config/logging.yaml'"
     ]
    }
   ],
   "source": [
    "# conda create -n sss python=3.8 -y && conda activate sss\n",
    "# conda install -y -c bioconda gffutils jupyter tqdm cyvcf2 pathlib2 pandarallel pysam liftover pybedtools\n",
    "\n",
    "import os\n",
    "import re\n",
    "import numpy as np\n",
    "import pandas as pd\n",
    "# from Bio.Seq import Seq\n",
    "# from liftover import get_lifter\n",
    "from pathlib2 import Path\n",
    "from pandarallel import pandarallel\n",
    "from tqdm import tqdm\n",
    "import gffutils\n",
    "import pysam\n",
    "from cyvcf2 import VCF\n",
    "\n",
    "### Logging setup\n",
    "from logging import getLogger, config\n",
    "import yaml\n",
    "parent_directory = os.path.dirname(os.path.dirname('__file__'))\n",
    "config_path: str = os.path.join(parent_directory, '../../../config/logging.yaml')\n",
    "with open(config_path, 'r') as f:\n",
    "    config.dictConfig(yaml.safe_load(f))\n",
    "logger = getLogger(__name__)\n",
    "\n",
    "########   Initialize and setup pandas methods   ########\n",
    "os.environ['JOBLIB_TEMP_FOLDER'] = '/tmp' \n",
    "pandarallel.initialize(nb_workers=5, progress_bar=True, verbose=1, use_memory_fs=False) \n",
    "tqdm.pandas()\n",
    "\n",
    "import sys\n",
    "try: \n",
    "    __file__\n",
    "    sys.path.append(os.path.join(os.path.dirname('__file__')))\n",
    "except NameError:\n",
    "    Path().resolve()\n",
    "    sys.path.append(os.path.join(Path().resolve(), '../../../'))\n",
    "\n",
    "from libs import utils, preprocess, variantfilter, posparser, splaiparser\n",
    "# from libs import predeffect, scoring\n",
    "from libs import anno_spliceai, anno_clinvar\n",
    "from libs.deco import print_filtering_count\n",
    "# from libs import predeffect\n",
    "from libs.scoring import Scoring\n",
    "from libs import predeffect\n",
    "\n",
    "\n",
    "gencode_gff = '../../../Resources/05_GENCODE_v43lift37/gencode.v43lift37.annotation.sort.gff3.gz'\n",
    "\n",
    "try:\n",
    "    db_anno_gencode = '../../../Resources/06_gffutilsdb/gencode.v43lift37.annotation.gtf.db'\n",
    "    db_anno_intron = '../../../Resources/06_gffutilsdb/gencode.v43lift37.annotation.intron.gtf.db'\n",
    "    db = gffutils.FeatureDB(db_anno_gencode)\n",
    "    db_intron = gffutils.FeatureDB(db_anno_intron)\n",
    "except ValueError:\n",
    "    db_anno_gencode = '/resources/DBs/gencode.v43lift37.annotation.gtf.db'\n",
    "    db_anno_intron = '/resources/DBs/gencode.v43lift37.annotation.intron.gtf.db'\n",
    "    db = gffutils.FeatureDB(db_anno_gencode)\n",
    "    db_intron = gffutils.FeatureDB(db_anno_intron)\n",
    "\n",
    "## Thresholds configuration\n",
    "thresholds_SpliceAI_parser: dict = {\n",
    "    'TH_min_sALDL': 0.02, 'TH_max_sALDL': 0.2, \n",
    "    'TH_min_sAGDG': 0.01, 'TH_max_sAGDG': 0.05,\n",
    "    'TH_min_GExon': 25, 'TH_max_GExon': 500,\n",
    "    'TH_sAG': 0.2, 'TH_sDG': 0.2\n",
    "    }"
   ]
  },
  {
   "cell_type": "code",
   "execution_count": null,
   "metadata": {},
   "outputs": [],
   "source": [
    "## Parse VCF to simple input table\n",
    "chr: str = \"22\"\n",
    "raw_vcf: str = f\"splai_vep_vcfs/hgmd_dm/all_DM_chr{chr}.splai.vep.nondel.vcf\"\n",
    "\n",
    "vcf = VCF(raw_vcf)\n",
    "header = vcf.header_iter()\n",
    "for h in header:\n",
    "\ttry:\n",
    "\t\th['ID']\n",
    "\texcept KeyError:\n",
    "\t\tcontinue\n",
    "\telse:\n",
    "\t\tif h['ID'] == 'CSQ':\n",
    "\t\t\tvep_cols_list = h['Description'].split('Format: ')[1].rstrip('\"').split('|')\n",
    "\t\telif h['ID'] == 'SpliceAI':\n",
    "\t\t\tsplai_cols_list = h['Description'].split('Format: ')[1].rstrip('\"').split('|')\n",
    "\t\telse:\n",
    "\t\t\tpass\n",
    "\n",
    "vepidx: dict = {col: i for i, col in enumerate(vep_cols_list)}\n",
    "splaidx: dict = {col: i for i, col in enumerate(splai_cols_list)}\n",
    "\n",
    "cols = [\n",
    "\t'CHROM', 'POS', 'REF', 'ALT', 'GeneSymbol', 'SymbolSource', 'HGNC_ID', \n",
    "\t'ENST', 'HGVSc', 'Consequence', 'EXON', 'INTRON', 'Strand',\n",
    "\t'DS_AG', 'DS_AL', 'DS_DG', 'DS_DL', 'DP_AG', 'DP_AL', 'DP_DG', 'DP_DL', 'maxsplai'\n",
    "]\n",
    "\n",
    "# print(vepidx)\n",
    "\n",
    "df: pd.DataFrame = pd.DataFrame(columns=cols)\n",
    "for v in VCF(raw_vcf):\n",
    "\tvep: list = v.INFO.get('CSQ').split('|')\n",
    "\n",
    "\t# Get SpliceAI scores\n",
    "\tif v.INFO.get('SpliceAI'):\n",
    "\t\tsplai: list = v.INFO.get('SpliceAI').split(',')[0].split('|')\n",
    "\telse:\n",
    "\t\tsplai = ['NA'] * len(splai_cols_list)\n",
    "\n",
    "\t# Get HGVSc from VEP\n",
    "\ttry:\n",
    "\t\thgvsc = re.search('(?<=:).*',vep[vepidx['HGVSc']])[0]\n",
    "\texcept TypeError:\n",
    "\t\thgvsc = \"NA\"\n",
    "\n",
    "\t# Convert strand to +/- \n",
    "\tstrand = lambda s: '+' if s == '1' else '-'\n",
    "\n",
    "\t# Get max SpliceAI scores\n",
    "\tds_ag: float = splai[splaidx['DS_AG']]\n",
    "\tds_al: float = splai[splaidx['DS_AL']]\n",
    "\tds_dg: float = splai[splaidx['DS_DG']]\n",
    "\tds_dl: float = splai[splaidx['DS_DL']]\n",
    "\tif splai[splaidx['DP_AG']] == 'NA':\n",
    "\t\tmaxsplai: str = \"NA\"\n",
    "\tmaxsplai: float = max(ds_ag, ds_al, ds_dg, ds_dl)\n",
    "\n",
    "\t# Add df row\n",
    "\tdf = pd.concat([df, pd.DataFrame([[\n",
    "\t\tv.CHROM, v.POS, v.REF, v.ALT[0], \n",
    "\t\tvep[vepidx['SYMBOL']], vep[vepidx['SYMBOL_SOURCE']], vep[vepidx['HGNC_ID']], \n",
    "\t\tvep[vepidx['Feature']], hgvsc, vep[vepidx['Consequence']], \n",
    "\t\tvep[vepidx['EXON']], vep[vepidx['INTRON']],\n",
    "\t\tstrand(vep[vepidx['STRAND']]), \n",
    "\t\tds_ag, ds_al, ds_dg, ds_dl,\n",
    "\t\tsplai[splaidx['DP_AG']], splai[splaidx['DP_AL']], \n",
    "\t\tsplai[splaidx['DP_DG']], splai[splaidx['DP_DL']],\n",
    "\t\tmaxsplai\n",
    "\t]], columns=cols)], ignore_index=True)\n",
    "\n",
    "\t# if hgvsc == \"NA\":\n",
    "\t#     logger.warning(f\"[{v.CHROM}:{v.POS}] HGVSc not found\")\n",
    "\t# if maxsplai == \"NA\":\n",
    "\t#     logger.warning(f\"[{v.CHROM}:{v.POS}] SpliceAI scores not found\")\n",
    "\n",
    "# ALLELE|SYMBOL|DS_AG|DS_AL|DS_DG|DS_DL|DP_AG|DP_AL|DP_DG|DP_DL\n",
    "# CHROM, POS, REF, ALT, GeneSymbol, NCBI_ID, ENST, ExonIntronNumbers, FLAGS, SYMBOL_SOURCE|\n",
    "\n"
   ]
  },
  {
   "cell_type": "code",
   "execution_count": 135,
   "metadata": {},
   "outputs": [
    {
     "data": {
      "text/plain": [
       "0"
      ]
     },
     "execution_count": 135,
     "metadata": {},
     "output_type": "execute_result"
    }
   ],
   "source": [
    "from cyvcf2 import VCF, Writer\n",
    "chr: str = \"22\"\n",
    "raw_vcf: str = f\"splai_vep_vcfs/hgmd_dm/all_DM_chr{chr}.splai.vep.nondel.vcf\"\n",
    "\n",
    "psps_description = 'Priortiy Score for Pathogenic Splicing variant screening, ranging 0-9, more higher, more likely pathogenic. -1 means not available'\n",
    "\n",
    "vcf = VCF(raw_vcf)\n",
    "vcf.add_info_to_header(\n",
    "\t{'ID': 'PSPS', \n",
    "  'Description': psps_description, \n",
    "  'Type':'Integer', \n",
    "  'Number': '1',\n",
    "  'HeaderType': 'INFO'\n",
    "  }\n",
    "  )"
   ]
  },
  {
   "cell_type": "code",
   "execution_count": null,
   "metadata": {},
   "outputs": [],
   "source": [
    "header = vcf.header_iter()"
   ]
  },
  {
   "cell_type": "code",
   "execution_count": null,
   "metadata": {},
   "outputs": [],
   "source": [
    "## Parse VCF to simple input table\n",
    "chr_list = [str(i) for i in range(1, 23)] + ['X', 'Y']\n",
    "\n",
    "for chr in chr_list:\n",
    "    print(f\"Processing chr{chr}\")\n",
    "    raw_vcf: str = f\"splai_vep_vcfs/hgmd_dm/all_DM_chr{chr}.splai.vep.nondel.vcf\"\n",
    "\n",
    "    vcf = VCF(raw_vcf)\n",
    "    header = vcf.header_iter()\n",
    "    for h in header:\n",
    "        try:\n",
    "            h['ID']\n",
    "        except KeyError:\n",
    "            continue\n",
    "        else:\n",
    "            if h['ID'] == 'CSQ':\n",
    "                vep_cols_list = h['Description'].split('Format: ')[1].rstrip('\"').split('|')\n",
    "            elif h['ID'] == 'SpliceAI':\n",
    "                splai_cols_list = h['Description'].split('Format: ')[1].rstrip('\"').split('|')\n",
    "            else:\n",
    "                pass\n",
    "\n",
    "    vepidx: dict = {col: i for i, col in enumerate(vep_cols_list)}\n",
    "    splaidx: dict = {col: i for i, col in enumerate(splai_cols_list)}\n",
    "\n",
    "    cols = [\n",
    "        'CHROM', 'POS', 'REF', 'ALT', 'GeneSymbol', 'SymbolSource', 'HGNC_ID', \n",
    "        'ENST', 'HGVSc', 'Consequence', 'EXON', 'INTRON', 'Strand',\n",
    "        'DS_AG', 'DS_AL', 'DS_DG', 'DS_DL', 'DP_AG', 'DP_AL', 'DP_DG', 'DP_DL', 'maxsplai'\n",
    "    ]\n",
    "\n",
    "    # print(vepidx)\n",
    "\n",
    "    df: pd.DataFrame = pd.DataFrame(columns=cols)\n",
    "    for v in VCF(raw_vcf):\n",
    "        vep: list = v.INFO.get('CSQ').split('|')\n",
    "\n",
    "        # Get SpliceAI scores\n",
    "        if v.INFO.get('SpliceAI'):\n",
    "            splai: list = v.INFO.get('SpliceAI').split(',')[0].split('|')\n",
    "        else:\n",
    "            splai = ['NA'] * len(splai_cols_list)\n",
    "\n",
    "        # Get HGVSc from VEP\n",
    "        try:\n",
    "            hgvsc = re.search('(?<=:).*',vep[vepidx['HGVSc']])[0]\n",
    "        except TypeError:\n",
    "            hgvsc = \"NA\"\n",
    "\n",
    "        # Convert strand to +/- \n",
    "        strand = lambda s: '+' if s == '1' else '-'\n",
    "\n",
    "        # Get max SpliceAI scores\n",
    "        ds_ag: float = splai[splaidx['DS_AG']]\n",
    "        ds_al: float = splai[splaidx['DS_AL']]\n",
    "        ds_dg: float = splai[splaidx['DS_DG']]\n",
    "        ds_dl: float = splai[splaidx['DS_DL']]\n",
    "        if splai[splaidx['DP_AG']] == 'NA':\n",
    "            maxsplai: str = \"NA\"\n",
    "        maxsplai: float = max(ds_ag, ds_al, ds_dg, ds_dl)\n",
    "\n",
    "        # Add df row\n",
    "        df = pd.concat([df, pd.DataFrame([[\n",
    "            v.CHROM, v.POS, v.REF, v.ALT[0], \n",
    "            vep[vepidx['SYMBOL']], vep[vepidx['SYMBOL_SOURCE']], vep[vepidx['HGNC_ID']], \n",
    "            vep[vepidx['Feature']], hgvsc, vep[vepidx['Consequence']], \n",
    "            vep[vepidx['EXON']], vep[vepidx['INTRON']],\n",
    "            strand(vep[vepidx['STRAND']]), \n",
    "            ds_ag, ds_al, ds_dg, ds_dl,\n",
    "            splai[splaidx['DP_AG']], splai[splaidx['DP_AL']], \n",
    "            splai[splaidx['DP_DG']], splai[splaidx['DP_DL']],\n",
    "            maxsplai\n",
    "        ]], columns=cols)], ignore_index=True)\n",
    "\n",
    "        # if hgvsc == \"NA\":\n",
    "        #     logger.warning(f\"[{v.CHROM}:{v.POS}] HGVSc not found\")\n",
    "        # if maxsplai == \"NA\":\n",
    "        #     logger.warning(f\"[{v.CHROM}:{v.POS}] SpliceAI scores not found\")\n",
    "\n",
    "    # ALLELE|SYMBOL|DS_AG|DS_AL|DS_DG|DS_DL|DP_AG|DP_AL|DP_DG|DP_DL\n",
    "    # CHROM, POS, REF, ALT, GeneSymbol, NCBI_ID, ENST, ExonIntronNumbers, FLAGS, SYMBOL_SOURCE|\n",
    "\n",
    "    df.to_pickle(f\"splai_vep_vcfs/hgmd_dm/all_DM_chr{chr}.splai.vep.nondel.vcf.pkl\")\n"
   ]
  },
  {
   "cell_type": "code",
   "execution_count": 6,
   "metadata": {},
   "outputs": [
    {
     "name": "stdout",
     "output_type": "stream",
     "text": [
      "20701\n",
      "20687\n"
     ]
    }
   ],
   "source": [
    "# df = pd.read_pickle('splai_vep_vcfs/hgmd_dm/all_DM_chr1.splai.vep.pkl')\n",
    "print(len(df))\n",
    "df.drop_duplicates(inplace=True)\n",
    "print(len(df))"
   ]
  },
  {
   "cell_type": "code",
   "execution_count": null,
   "metadata": {},
   "outputs": [],
   "source": [
    "#### Very slow process ####\n",
    "# Annotate ENST Full ID for fetching variant information from GENCODE database\n",
    "\n",
    "for chr in chr_list:\n",
    "\tlogger.info(f\"chr{chr}\")\n",
    "\tdf = pd.read_pickle(f'splai_vep_vcfs/hgmd_dm/all_DM_chr{chr}.splai.vep.nondel.vcf.pkl')\n",
    "\tdf.drop_duplicates(inplace=True)\n",
    "\tdf['ENST_Full'] = df.progress_apply(posparser.fetch_enst_full, db=db, axis=1)\n",
    "\tdf.to_pickle(f'splai_vep_vcfs/hgmd_dm/all_DM_chr{chr}.splai.vep.nondel.vcf.enst.pkl')"
   ]
  },
  {
   "cell_type": "markdown",
   "metadata": {},
   "source": [
    "## ここから解析"
   ]
  },
  {
   "cell_type": "code",
   "execution_count": 3,
   "metadata": {},
   "outputs": [
    {
     "name": "stdout",
     "output_type": "stream",
     "text": [
      "2024/11/13 06:25:59 [INFO   ] (__main__) - Classify \"Canonical\" splice site or \"Non-canonical\" splice site...\n",
      "2024/11/13 06:25:59 [INFO   ] (__main__) - Calculate the distance to the nearest splice site in intron variant...\n"
     ]
    },
    {
     "name": "stderr",
     "output_type": "stream",
     "text": [
      "100%|██████████| 4092/4092 [00:00<00:00, 4211.80it/s]\n",
      "100%|██████████| 4092/4092 [00:03<00:00, 1273.64it/s]\n"
     ]
    },
    {
     "name": "stdout",
     "output_type": "stream",
     "text": [
      "2024/11/13 06:26:04 [INFO   ] (__main__) - Annotating splicing information...\n",
      "2024/11/13 06:26:04 [INFO   ] (__main__) - Annotating ClinVar varaints interpretations...\n"
     ]
    },
    {
     "name": "stderr",
     "output_type": "stream",
     "text": [
      "100%|██████████| 4092/4092 [00:00<00:00, 25525.27it/s]\n",
      "100%|██████████| 4092/4092 [00:00<00:00, 25704.80it/s]"
     ]
    },
    {
     "name": "stdout",
     "output_type": "stream",
     "text": [
      "2024/11/13 06:26:04 [INFO   ] (__main__) - Parsing SpliceAI results...\n",
      "2024/11/13 06:26:04 [INFO   ] (__main__) - Annotating Exon/Intron position information...\n"
     ]
    },
    {
     "name": "stderr",
     "output_type": "stream",
     "text": [
      "\n",
      "100%|██████████| 4092/4092 [00:01<00:00, 2797.78it/s]\n",
      "  0%|          | 1/4092 [00:00<00:07, 571.43it/s]\n"
     ]
    },
    {
     "ename": "KeyError",
     "evalue": "'maxsplai'",
     "output_type": "error",
     "traceback": [
      "\u001b[0;31m---------------------------------------------------------------------------\u001b[0m",
      "\u001b[0;31mKeyError\u001b[0m                                  Traceback (most recent call last)",
      "File \u001b[0;32m~/miniforge3/envs/sss/lib/python3.8/site-packages/pandas/core/indexes/base.py:3653\u001b[0m, in \u001b[0;36mIndex.get_loc\u001b[0;34m(self, key)\u001b[0m\n\u001b[1;32m   3652\u001b[0m \u001b[38;5;28;01mtry\u001b[39;00m:\n\u001b[0;32m-> 3653\u001b[0m     \u001b[38;5;28;01mreturn\u001b[39;00m \u001b[38;5;28;43mself\u001b[39;49m\u001b[38;5;241;43m.\u001b[39;49m\u001b[43m_engine\u001b[49m\u001b[38;5;241;43m.\u001b[39;49m\u001b[43mget_loc\u001b[49m\u001b[43m(\u001b[49m\u001b[43mcasted_key\u001b[49m\u001b[43m)\u001b[49m\n\u001b[1;32m   3654\u001b[0m \u001b[38;5;28;01mexcept\u001b[39;00m \u001b[38;5;167;01mKeyError\u001b[39;00m \u001b[38;5;28;01mas\u001b[39;00m err:\n",
      "File \u001b[0;32m~/miniforge3/envs/sss/lib/python3.8/site-packages/pandas/_libs/index.pyx:147\u001b[0m, in \u001b[0;36mpandas._libs.index.IndexEngine.get_loc\u001b[0;34m()\u001b[0m\n",
      "File \u001b[0;32m~/miniforge3/envs/sss/lib/python3.8/site-packages/pandas/_libs/index.pyx:176\u001b[0m, in \u001b[0;36mpandas._libs.index.IndexEngine.get_loc\u001b[0;34m()\u001b[0m\n",
      "File \u001b[0;32mpandas/_libs/hashtable_class_helper.pxi:7080\u001b[0m, in \u001b[0;36mpandas._libs.hashtable.PyObjectHashTable.get_item\u001b[0;34m()\u001b[0m\n",
      "File \u001b[0;32mpandas/_libs/hashtable_class_helper.pxi:7088\u001b[0m, in \u001b[0;36mpandas._libs.hashtable.PyObjectHashTable.get_item\u001b[0;34m()\u001b[0m\n",
      "\u001b[0;31mKeyError\u001b[0m: 'maxsplai'",
      "\nThe above exception was the direct cause of the following exception:\n",
      "\u001b[0;31mKeyError\u001b[0m                                  Traceback (most recent call last)",
      "Cell \u001b[0;32mIn[3], line 50\u001b[0m\n\u001b[1;32m     46\u001b[0m df[\u001b[38;5;124m'\u001b[39m\u001b[38;5;124mExInt_INFO\u001b[39m\u001b[38;5;124m'\u001b[39m] \u001b[38;5;241m=\u001b[39m df\u001b[38;5;241m.\u001b[39mprogress_apply(\n\u001b[1;32m     47\u001b[0m     splaiparser\u001b[38;5;241m.\u001b[39mcalc_exint_info, db\u001b[38;5;241m=\u001b[39mdb, db_intron\u001b[38;5;241m=\u001b[39mdb_intron, axis\u001b[38;5;241m=\u001b[39m\u001b[38;5;241m1\u001b[39m)\n\u001b[1;32m     49\u001b[0m \u001b[38;5;66;03m#6-3. Predict splicing effects\u001b[39;00m\n\u001b[0;32m---> 50\u001b[0m df[\u001b[38;5;124m'\u001b[39m\u001b[38;5;124mPseudoexon\u001b[39m\u001b[38;5;124m'\u001b[39m] \u001b[38;5;241m=\u001b[39m \u001b[43mdf\u001b[49m\u001b[38;5;241;43m.\u001b[39;49m\u001b[43mprogress_apply\u001b[49m\u001b[43m(\u001b[49m\n\u001b[1;32m     51\u001b[0m \u001b[43m    \u001b[49m\u001b[43msplaiparser\u001b[49m\u001b[38;5;241;43m.\u001b[39;49m\u001b[43mpseudoexon_activation\u001b[49m\u001b[43m,\u001b[49m\n\u001b[1;32m     52\u001b[0m \u001b[43m    \u001b[49m\u001b[43mthresholds\u001b[49m\u001b[38;5;241;43m=\u001b[39;49m\u001b[43mthresholds_SpliceAI_parser\u001b[49m\u001b[43m,\u001b[49m\u001b[43m \u001b[49m\n\u001b[1;32m     53\u001b[0m \u001b[43m    \u001b[49m\u001b[43mdb_intron\u001b[49m\u001b[38;5;241;43m=\u001b[39;49m\u001b[43mdb_intron\u001b[49m\u001b[43m,\u001b[49m\n\u001b[1;32m     54\u001b[0m \u001b[43m    \u001b[49m\u001b[43maxis\u001b[49m\u001b[38;5;241;43m=\u001b[39;49m\u001b[38;5;241;43m1\u001b[39;49m\u001b[43m)\u001b[49m\n\u001b[1;32m     56\u001b[0m df[\u001b[38;5;124m'\u001b[39m\u001b[38;5;124mPart_IntRet\u001b[39m\u001b[38;5;124m'\u001b[39m] \u001b[38;5;241m=\u001b[39m df\u001b[38;5;241m.\u001b[39mparallel_apply(\n\u001b[1;32m     57\u001b[0m     splaiparser\u001b[38;5;241m.\u001b[39mpartial_intron_retention,\n\u001b[1;32m     58\u001b[0m     thresholds\u001b[38;5;241m=\u001b[39mthresholds_SpliceAI_parser, \n\u001b[1;32m     59\u001b[0m     axis\u001b[38;5;241m=\u001b[39m\u001b[38;5;241m1\u001b[39m)\n\u001b[1;32m     61\u001b[0m df[\u001b[38;5;124m'\u001b[39m\u001b[38;5;124mPart_ExDel\u001b[39m\u001b[38;5;124m'\u001b[39m] \u001b[38;5;241m=\u001b[39m df\u001b[38;5;241m.\u001b[39mparallel_apply(\n\u001b[1;32m     62\u001b[0m     splaiparser\u001b[38;5;241m.\u001b[39mpartial_exon_deletion,\n\u001b[1;32m     63\u001b[0m     thresholds\u001b[38;5;241m=\u001b[39mthresholds_SpliceAI_parser, \n\u001b[1;32m     64\u001b[0m     axis\u001b[38;5;241m=\u001b[39m\u001b[38;5;241m1\u001b[39m)\n",
      "File \u001b[0;32m~/miniforge3/envs/sss/lib/python3.8/site-packages/tqdm/std.py:917\u001b[0m, in \u001b[0;36mtqdm.pandas.<locals>.inner_generator.<locals>.inner\u001b[0;34m(df, func, *args, **kwargs)\u001b[0m\n\u001b[1;32m    914\u001b[0m \u001b[38;5;66;03m# Apply the provided function (in **kwargs)\u001b[39;00m\n\u001b[1;32m    915\u001b[0m \u001b[38;5;66;03m# on the df using our wrapper (which provides bar updating)\u001b[39;00m\n\u001b[1;32m    916\u001b[0m \u001b[38;5;28;01mtry\u001b[39;00m:\n\u001b[0;32m--> 917\u001b[0m     \u001b[38;5;28;01mreturn\u001b[39;00m \u001b[38;5;28;43mgetattr\u001b[39;49m\u001b[43m(\u001b[49m\u001b[43mdf\u001b[49m\u001b[43m,\u001b[49m\u001b[43m \u001b[49m\u001b[43mdf_function\u001b[49m\u001b[43m)\u001b[49m\u001b[43m(\u001b[49m\u001b[43mwrapper\u001b[49m\u001b[43m,\u001b[49m\u001b[43m \u001b[49m\u001b[38;5;241;43m*\u001b[39;49m\u001b[38;5;241;43m*\u001b[39;49m\u001b[43mkwargs\u001b[49m\u001b[43m)\u001b[49m\n\u001b[1;32m    918\u001b[0m \u001b[38;5;28;01mfinally\u001b[39;00m:\n\u001b[1;32m    919\u001b[0m     t\u001b[38;5;241m.\u001b[39mclose()\n",
      "File \u001b[0;32m~/miniforge3/envs/sss/lib/python3.8/site-packages/pandas/core/frame.py:9423\u001b[0m, in \u001b[0;36mDataFrame.apply\u001b[0;34m(self, func, axis, raw, result_type, args, **kwargs)\u001b[0m\n\u001b[1;32m   9412\u001b[0m \u001b[38;5;28;01mfrom\u001b[39;00m \u001b[38;5;21;01mpandas\u001b[39;00m\u001b[38;5;21;01m.\u001b[39;00m\u001b[38;5;21;01mcore\u001b[39;00m\u001b[38;5;21;01m.\u001b[39;00m\u001b[38;5;21;01mapply\u001b[39;00m \u001b[38;5;28;01mimport\u001b[39;00m frame_apply\n\u001b[1;32m   9414\u001b[0m op \u001b[38;5;241m=\u001b[39m frame_apply(\n\u001b[1;32m   9415\u001b[0m     \u001b[38;5;28mself\u001b[39m,\n\u001b[1;32m   9416\u001b[0m     func\u001b[38;5;241m=\u001b[39mfunc,\n\u001b[0;32m   (...)\u001b[0m\n\u001b[1;32m   9421\u001b[0m     kwargs\u001b[38;5;241m=\u001b[39mkwargs,\n\u001b[1;32m   9422\u001b[0m )\n\u001b[0;32m-> 9423\u001b[0m \u001b[38;5;28;01mreturn\u001b[39;00m \u001b[43mop\u001b[49m\u001b[38;5;241;43m.\u001b[39;49m\u001b[43mapply\u001b[49m\u001b[43m(\u001b[49m\u001b[43m)\u001b[49m\u001b[38;5;241m.\u001b[39m__finalize__(\u001b[38;5;28mself\u001b[39m, method\u001b[38;5;241m=\u001b[39m\u001b[38;5;124m\"\u001b[39m\u001b[38;5;124mapply\u001b[39m\u001b[38;5;124m\"\u001b[39m)\n",
      "File \u001b[0;32m~/miniforge3/envs/sss/lib/python3.8/site-packages/pandas/core/apply.py:678\u001b[0m, in \u001b[0;36mFrameApply.apply\u001b[0;34m(self)\u001b[0m\n\u001b[1;32m    675\u001b[0m \u001b[38;5;28;01melif\u001b[39;00m \u001b[38;5;28mself\u001b[39m\u001b[38;5;241m.\u001b[39mraw:\n\u001b[1;32m    676\u001b[0m     \u001b[38;5;28;01mreturn\u001b[39;00m \u001b[38;5;28mself\u001b[39m\u001b[38;5;241m.\u001b[39mapply_raw()\n\u001b[0;32m--> 678\u001b[0m \u001b[38;5;28;01mreturn\u001b[39;00m \u001b[38;5;28;43mself\u001b[39;49m\u001b[38;5;241;43m.\u001b[39;49m\u001b[43mapply_standard\u001b[49m\u001b[43m(\u001b[49m\u001b[43m)\u001b[49m\n",
      "File \u001b[0;32m~/miniforge3/envs/sss/lib/python3.8/site-packages/pandas/core/apply.py:798\u001b[0m, in \u001b[0;36mFrameApply.apply_standard\u001b[0;34m(self)\u001b[0m\n\u001b[1;32m    797\u001b[0m \u001b[38;5;28;01mdef\u001b[39;00m \u001b[38;5;21mapply_standard\u001b[39m(\u001b[38;5;28mself\u001b[39m):\n\u001b[0;32m--> 798\u001b[0m     results, res_index \u001b[38;5;241m=\u001b[39m \u001b[38;5;28;43mself\u001b[39;49m\u001b[38;5;241;43m.\u001b[39;49m\u001b[43mapply_series_generator\u001b[49m\u001b[43m(\u001b[49m\u001b[43m)\u001b[49m\n\u001b[1;32m    800\u001b[0m     \u001b[38;5;66;03m# wrap results\u001b[39;00m\n\u001b[1;32m    801\u001b[0m     \u001b[38;5;28;01mreturn\u001b[39;00m \u001b[38;5;28mself\u001b[39m\u001b[38;5;241m.\u001b[39mwrap_results(results, res_index)\n",
      "File \u001b[0;32m~/miniforge3/envs/sss/lib/python3.8/site-packages/pandas/core/apply.py:814\u001b[0m, in \u001b[0;36mFrameApply.apply_series_generator\u001b[0;34m(self)\u001b[0m\n\u001b[1;32m    811\u001b[0m \u001b[38;5;28;01mwith\u001b[39;00m option_context(\u001b[38;5;124m\"\u001b[39m\u001b[38;5;124mmode.chained_assignment\u001b[39m\u001b[38;5;124m\"\u001b[39m, \u001b[38;5;28;01mNone\u001b[39;00m):\n\u001b[1;32m    812\u001b[0m     \u001b[38;5;28;01mfor\u001b[39;00m i, v \u001b[38;5;129;01min\u001b[39;00m \u001b[38;5;28menumerate\u001b[39m(series_gen):\n\u001b[1;32m    813\u001b[0m         \u001b[38;5;66;03m# ignore SettingWithCopy here in case the user mutates\u001b[39;00m\n\u001b[0;32m--> 814\u001b[0m         results[i] \u001b[38;5;241m=\u001b[39m \u001b[38;5;28;43mself\u001b[39;49m\u001b[38;5;241;43m.\u001b[39;49m\u001b[43mf\u001b[49m\u001b[43m(\u001b[49m\u001b[43mv\u001b[49m\u001b[43m)\u001b[49m\n\u001b[1;32m    815\u001b[0m         \u001b[38;5;28;01mif\u001b[39;00m \u001b[38;5;28misinstance\u001b[39m(results[i], ABCSeries):\n\u001b[1;32m    816\u001b[0m             \u001b[38;5;66;03m# If we have a view on v, we need to make a copy because\u001b[39;00m\n\u001b[1;32m    817\u001b[0m             \u001b[38;5;66;03m#  series_generator will swap out the underlying data\u001b[39;00m\n\u001b[1;32m    818\u001b[0m             results[i] \u001b[38;5;241m=\u001b[39m results[i]\u001b[38;5;241m.\u001b[39mcopy(deep\u001b[38;5;241m=\u001b[39m\u001b[38;5;28;01mFalse\u001b[39;00m)\n",
      "File \u001b[0;32m~/miniforge3/envs/sss/lib/python3.8/site-packages/pandas/core/apply.py:133\u001b[0m, in \u001b[0;36mApply.__init__.<locals>.f\u001b[0;34m(x)\u001b[0m\n\u001b[1;32m    132\u001b[0m \u001b[38;5;28;01mdef\u001b[39;00m \u001b[38;5;21mf\u001b[39m(x):\n\u001b[0;32m--> 133\u001b[0m     \u001b[38;5;28;01mreturn\u001b[39;00m \u001b[43mfunc\u001b[49m\u001b[43m(\u001b[49m\u001b[43mx\u001b[49m\u001b[43m,\u001b[49m\u001b[43m \u001b[49m\u001b[38;5;241;43m*\u001b[39;49m\u001b[43margs\u001b[49m\u001b[43m,\u001b[49m\u001b[43m \u001b[49m\u001b[38;5;241;43m*\u001b[39;49m\u001b[38;5;241;43m*\u001b[39;49m\u001b[43mkwargs\u001b[49m\u001b[43m)\u001b[49m\n",
      "File \u001b[0;32m~/miniforge3/envs/sss/lib/python3.8/site-packages/tqdm/std.py:912\u001b[0m, in \u001b[0;36mtqdm.pandas.<locals>.inner_generator.<locals>.inner.<locals>.wrapper\u001b[0;34m(*args, **kwargs)\u001b[0m\n\u001b[1;32m    906\u001b[0m \u001b[38;5;28;01mdef\u001b[39;00m \u001b[38;5;21mwrapper\u001b[39m(\u001b[38;5;241m*\u001b[39margs, \u001b[38;5;241m*\u001b[39m\u001b[38;5;241m*\u001b[39mkwargs):\n\u001b[1;32m    907\u001b[0m     \u001b[38;5;66;03m# update tbar correctly\u001b[39;00m\n\u001b[1;32m    908\u001b[0m     \u001b[38;5;66;03m# it seems `pandas apply` calls `func` twice\u001b[39;00m\n\u001b[1;32m    909\u001b[0m     \u001b[38;5;66;03m# on the first column/row to decide whether it can\u001b[39;00m\n\u001b[1;32m    910\u001b[0m     \u001b[38;5;66;03m# take a fast or slow code path; so stop when t.total==t.n\u001b[39;00m\n\u001b[1;32m    911\u001b[0m     t\u001b[38;5;241m.\u001b[39mupdate(n\u001b[38;5;241m=\u001b[39m\u001b[38;5;241m1\u001b[39m \u001b[38;5;28;01mif\u001b[39;00m \u001b[38;5;129;01mnot\u001b[39;00m t\u001b[38;5;241m.\u001b[39mtotal \u001b[38;5;129;01mor\u001b[39;00m t\u001b[38;5;241m.\u001b[39mn \u001b[38;5;241m<\u001b[39m t\u001b[38;5;241m.\u001b[39mtotal \u001b[38;5;28;01melse\u001b[39;00m \u001b[38;5;241m0\u001b[39m)\n\u001b[0;32m--> 912\u001b[0m     \u001b[38;5;28;01mreturn\u001b[39;00m \u001b[43mfunc\u001b[49m\u001b[43m(\u001b[49m\u001b[38;5;241;43m*\u001b[39;49m\u001b[43margs\u001b[49m\u001b[43m,\u001b[49m\u001b[43m \u001b[49m\u001b[38;5;241;43m*\u001b[39;49m\u001b[38;5;241;43m*\u001b[39;49m\u001b[43mkwargs\u001b[49m\u001b[43m)\u001b[49m\n",
      "File \u001b[0;32m~/work/Github/nar/ValidationData/TP/additional/../../../libs/splaiparser.py:451\u001b[0m, in \u001b[0;36mpseudoexon_activation\u001b[0;34m(row, thresholds, db_intron)\u001b[0m\n\u001b[1;32m    450\u001b[0m \u001b[38;5;28;01mdef\u001b[39;00m \u001b[38;5;21mpseudoexon_activation\u001b[39m(row, thresholds, db_intron):\n\u001b[0;32m--> 451\u001b[0m     \u001b[38;5;28;01mif\u001b[39;00m \u001b[43m__exits_spliceai_scores\u001b[49m\u001b[43m(\u001b[49m\u001b[43mrow\u001b[49m\u001b[43m)\u001b[49m:\n\u001b[1;32m    452\u001b[0m         \u001b[38;5;28;01mpass\u001b[39;00m\n\u001b[1;32m    453\u001b[0m     \u001b[38;5;28;01melse\u001b[39;00m:\n",
      "File \u001b[0;32m~/work/Github/nar/ValidationData/TP/additional/../../../libs/splaiparser.py:6\u001b[0m, in \u001b[0;36m__exits_spliceai_scores\u001b[0;34m(row)\u001b[0m\n\u001b[1;32m      5\u001b[0m \u001b[38;5;28;01mdef\u001b[39;00m \u001b[38;5;21m__exits_spliceai_scores\u001b[39m(row):\n\u001b[0;32m----> 6\u001b[0m     \u001b[38;5;28;01mif\u001b[39;00m \u001b[43mrow\u001b[49m\u001b[43m[\u001b[49m\u001b[38;5;124;43m'\u001b[39;49m\u001b[38;5;124;43mmaxsplai\u001b[39;49m\u001b[38;5;124;43m'\u001b[39;49m\u001b[43m]\u001b[49m \u001b[38;5;241m==\u001b[39m \u001b[38;5;124m'\u001b[39m\u001b[38;5;124mNA\u001b[39m\u001b[38;5;124m'\u001b[39m \u001b[38;5;129;01mor\u001b[39;00m row[\u001b[38;5;124m'\u001b[39m\u001b[38;5;124mmaxsplai\u001b[39m\u001b[38;5;124m'\u001b[39m] \u001b[38;5;241m==\u001b[39m \u001b[38;5;124m'\u001b[39m\u001b[38;5;124m.\u001b[39m\u001b[38;5;124m'\u001b[39m:\n\u001b[1;32m      7\u001b[0m         \u001b[38;5;28;01mreturn\u001b[39;00m \u001b[38;5;28;01mFalse\u001b[39;00m\n\u001b[1;32m      8\u001b[0m     \u001b[38;5;28;01melse\u001b[39;00m:\n",
      "File \u001b[0;32m~/miniforge3/envs/sss/lib/python3.8/site-packages/pandas/core/series.py:1007\u001b[0m, in \u001b[0;36mSeries.__getitem__\u001b[0;34m(self, key)\u001b[0m\n\u001b[1;32m   1004\u001b[0m     \u001b[38;5;28;01mreturn\u001b[39;00m \u001b[38;5;28mself\u001b[39m\u001b[38;5;241m.\u001b[39m_values[key]\n\u001b[1;32m   1006\u001b[0m \u001b[38;5;28;01melif\u001b[39;00m key_is_scalar:\n\u001b[0;32m-> 1007\u001b[0m     \u001b[38;5;28;01mreturn\u001b[39;00m \u001b[38;5;28;43mself\u001b[39;49m\u001b[38;5;241;43m.\u001b[39;49m\u001b[43m_get_value\u001b[49m\u001b[43m(\u001b[49m\u001b[43mkey\u001b[49m\u001b[43m)\u001b[49m\n\u001b[1;32m   1009\u001b[0m \u001b[38;5;28;01mif\u001b[39;00m is_hashable(key):\n\u001b[1;32m   1010\u001b[0m     \u001b[38;5;66;03m# Otherwise index.get_value will raise InvalidIndexError\u001b[39;00m\n\u001b[1;32m   1011\u001b[0m     \u001b[38;5;28;01mtry\u001b[39;00m:\n\u001b[1;32m   1012\u001b[0m         \u001b[38;5;66;03m# For labels that don't resolve as scalars like tuples and frozensets\u001b[39;00m\n",
      "File \u001b[0;32m~/miniforge3/envs/sss/lib/python3.8/site-packages/pandas/core/series.py:1116\u001b[0m, in \u001b[0;36mSeries._get_value\u001b[0;34m(self, label, takeable)\u001b[0m\n\u001b[1;32m   1113\u001b[0m     \u001b[38;5;28;01mreturn\u001b[39;00m \u001b[38;5;28mself\u001b[39m\u001b[38;5;241m.\u001b[39m_values[label]\n\u001b[1;32m   1115\u001b[0m \u001b[38;5;66;03m# Similar to Index.get_value, but we do not fall back to positional\u001b[39;00m\n\u001b[0;32m-> 1116\u001b[0m loc \u001b[38;5;241m=\u001b[39m \u001b[38;5;28;43mself\u001b[39;49m\u001b[38;5;241;43m.\u001b[39;49m\u001b[43mindex\u001b[49m\u001b[38;5;241;43m.\u001b[39;49m\u001b[43mget_loc\u001b[49m\u001b[43m(\u001b[49m\u001b[43mlabel\u001b[49m\u001b[43m)\u001b[49m\n\u001b[1;32m   1118\u001b[0m \u001b[38;5;28;01mif\u001b[39;00m is_integer(loc):\n\u001b[1;32m   1119\u001b[0m     \u001b[38;5;28;01mreturn\u001b[39;00m \u001b[38;5;28mself\u001b[39m\u001b[38;5;241m.\u001b[39m_values[loc]\n",
      "File \u001b[0;32m~/miniforge3/envs/sss/lib/python3.8/site-packages/pandas/core/indexes/base.py:3655\u001b[0m, in \u001b[0;36mIndex.get_loc\u001b[0;34m(self, key)\u001b[0m\n\u001b[1;32m   3653\u001b[0m     \u001b[38;5;28;01mreturn\u001b[39;00m \u001b[38;5;28mself\u001b[39m\u001b[38;5;241m.\u001b[39m_engine\u001b[38;5;241m.\u001b[39mget_loc(casted_key)\n\u001b[1;32m   3654\u001b[0m \u001b[38;5;28;01mexcept\u001b[39;00m \u001b[38;5;167;01mKeyError\u001b[39;00m \u001b[38;5;28;01mas\u001b[39;00m err:\n\u001b[0;32m-> 3655\u001b[0m     \u001b[38;5;28;01mraise\u001b[39;00m \u001b[38;5;167;01mKeyError\u001b[39;00m(key) \u001b[38;5;28;01mfrom\u001b[39;00m \u001b[38;5;21;01merr\u001b[39;00m\n\u001b[1;32m   3656\u001b[0m \u001b[38;5;28;01mexcept\u001b[39;00m \u001b[38;5;167;01mTypeError\u001b[39;00m:\n\u001b[1;32m   3657\u001b[0m     \u001b[38;5;66;03m# If we have a listlike key, _check_indexing_error will raise\u001b[39;00m\n\u001b[1;32m   3658\u001b[0m     \u001b[38;5;66;03m#  InvalidIndexError. Otherwise we fall through and re-raise\u001b[39;00m\n\u001b[1;32m   3659\u001b[0m     \u001b[38;5;66;03m#  the TypeError.\u001b[39;00m\n\u001b[1;32m   3660\u001b[0m     \u001b[38;5;28mself\u001b[39m\u001b[38;5;241m.\u001b[39m_check_indexing_error(key)\n",
      "\u001b[0;31mKeyError\u001b[0m: 'maxsplai'"
     ]
    }
   ],
   "source": [
    "chr_list = [str(i) for i in range(1, 23)] + ['X', 'Y']\n",
    "chr_list = ['22']\n",
    "\n",
    "for chr in chr_list:\n",
    "    df = pd.read_pickle(f'splai_vep_vcfs/hgmd_dm/all_DM_chr{chr}.splai.vep.nondel.vcf.enst.pkl')\n",
    "\n",
    "    logger.info('Classify \"Canonical\" splice site or \"Non-canonical\" splice site...')\n",
    "    df = posparser.classifying_canonical(df)\n",
    "\n",
    "    logger.info('Calculate the distance to the nearest splice site in intron variant...')\n",
    "    df['IntronDist'] = df.progress_apply(\n",
    "        posparser.signed_distance_to_exon_boundary, \n",
    "        db=db, db_intron=db_intron, axis=1)\n",
    "\n",
    "    tbx_anno = pysam.TabixFile(gencode_gff)\n",
    "    df['exon_loc'] = df.progress_apply(\n",
    "        posparser.calc_exon_loc, tabixfile=tbx_anno, enstcolname='ENST', axis=1)\n",
    "    df = pd.concat([df, df['exon_loc'].str.split(':', expand=True)], axis=1)\n",
    "    df.rename(columns={0: 'ex_up_dist', 1: 'ex_down_dist'}, inplace=True)\n",
    "    df.drop(columns=['exon_loc'], inplace=True)\n",
    "\n",
    "    #2-2. Select minimum distance from upstream distance and downstream distance\n",
    "    df['exon_pos'] = df.parallel_apply(posparser.select_exon_pos, axis=1)\n",
    "    #2-3. Relative exon location\n",
    "    df['prc_exon_loc'] = df.parallel_apply(posparser.calc_prc_exon_loc, axis=1)\n",
    "\n",
    "    #2-4. Decision exonic splice sites (1 nt in acceptor site or 3 nts on Donor site)\n",
    "    df['exon_splice_site'] = df.parallel_apply(posparser.extract_splicing_region, axis=1)\n",
    "\n",
    "    #3.   Additional Splicing information\n",
    "    logger.info('Annotating splicing information...')\n",
    "    #3-1. Annotate splicing type ('Exonic Acceptor' etc.)\n",
    "    df['SpliceType'] = df.parallel_apply(posparser.select_donor_acceptor, axis=1)\n",
    "\n",
    "    #5.   Annotate ClinVar varaints interpretations\n",
    "    logger.info('Annotating ClinVar varaints interpretations...')\n",
    "    clinvar_file = '../../../Resources/03_ClinVar/variant_summary.snv.grch37.germline.criteria.sort.bed.gz'\n",
    "    tbx_clinvar = pysam.TabixFile(clinvar_file)\n",
    "    df['clinvar_same_pos'] = df.progress_apply(\n",
    "        anno_clinvar.anno_same_pos_vars, tabixfile=tbx_clinvar, axis=1)\n",
    "    df['clinvar_same_motif'] = df.progress_apply(\n",
    "        anno_clinvar.anno_same_motif_vars, tabixfile=tbx_clinvar, axis=1)\n",
    "\n",
    "    logger.info('Parsing SpliceAI results...')\n",
    "    logger.info('Annotating Exon/Intron position information...')\n",
    "    df['ExInt_INFO'] = df.progress_apply(\n",
    "        splaiparser.calc_exint_info, db=db, db_intron=db_intron, axis=1)\n",
    "\n",
    "    #6-3. Predict splicing effects\n",
    "    df['Pseudoexon'] = df.progress_apply(\n",
    "        splaiparser.pseudoexon_activation,\n",
    "        thresholds=thresholds_SpliceAI_parser, \n",
    "        db_intron=db_intron,\n",
    "        axis=1)\n",
    "\n",
    "    df['Part_IntRet'] = df.parallel_apply(\n",
    "        splaiparser.partial_intron_retention,\n",
    "        thresholds=thresholds_SpliceAI_parser, \n",
    "        axis=1)\n",
    "\n",
    "    df['Part_ExDel'] = df.parallel_apply(\n",
    "        splaiparser.partial_exon_deletion,\n",
    "        thresholds=thresholds_SpliceAI_parser, \n",
    "        axis=1)\n",
    "\n",
    "    df['Exon_skipping'] = df.parallel_apply(\n",
    "        splaiparser.exon_skipping, \n",
    "        thresholds=thresholds_SpliceAI_parser, \n",
    "        axis=1)\n",
    "                                            \n",
    "    df['Int_Retention'] = df.parallel_apply(\n",
    "        splaiparser.intron_retention, \n",
    "        thresholds=thresholds_SpliceAI_parser, \n",
    "        axis=1)\n",
    "\n",
    "    df['multiexs'] = df.parallel_apply(\n",
    "        splaiparser.multi_exon_skipping, \n",
    "        thresholds=thresholds_SpliceAI_parser, \n",
    "        axis=1)\n",
    "\n",
    "    #7.   Annotate aberrant splicing size (bp)\n",
    "    logger.info('Annotating aberrant splicing size (bp)...')\n",
    "    #7-1. Annotate size of \n",
    "    df['Size_Part_ExDel'] = df.parallel_apply(\n",
    "        splaiparser.anno_partial_exon_del_size, \n",
    "        thresholds=thresholds_SpliceAI_parser, \n",
    "        axis=1)\n",
    "\n",
    "    #7-3. Annotate size of partial intron retention\n",
    "    df['Size_Part_IntRet'] = df.parallel_apply(\n",
    "        splaiparser.anno_partial_intron_retention_size, \n",
    "        thresholds=thresholds_SpliceAI_parser,\n",
    "        axis=1)\n",
    "\n",
    "    #7-2. Annotate size of pseudoexon\n",
    "    df['Size_pseudoexon'] = df.parallel_apply(\n",
    "        splaiparser.anno_gained_exon_size, \n",
    "        thresholds=thresholds_SpliceAI_parser, \n",
    "        axis=1)\n",
    "\n",
    "    #7-4. Annotate size of intron retention\n",
    "    df['Size_IntRet'] = df.parallel_apply(\n",
    "        splaiparser.anno_intron_retention_size, \n",
    "        thresholds=thresholds_SpliceAI_parser,\n",
    "        axis=1)\n",
    "\n",
    "    #7-5. Annotate size of exon skipping\n",
    "    df['Size_skipped_exon'] = df.parallel_apply(\n",
    "        splaiparser.anno_skipped_exon_size, \n",
    "        thresholds=thresholds_SpliceAI_parser,\n",
    "        axis=1)\n",
    "\n",
    "    df['variant_id'] = df['CHROM'].astype(str) + '-' \\\n",
    "        + df['POS'].astype(str) + '-' + df['REF'] + '-' + df['ALT']\n",
    "\n",
    "    #8.   Evaluate splicing effects\n",
    "    logger.info('Predicting CDS change...')\n",
    "    #8-1. Predict CDS change\n",
    "    df['CDS_Length'] = df.progress_apply(predeffect.calc_cds_len, db=db, axis=1)\n",
    "    df['is_10%_truncation'] = df.progress_apply(predeffect.calc_cds_len_shorten, axis=1)\n",
    "\n",
    "    #8-2. Determine if the gene is included in eLoFs genes\n",
    "    df['is_eLoF'] = df.parallel_apply(predeffect.elofs_judge, axis=1)\n",
    "\n",
    "    #8-3. Determine causing NMD or not\n",
    "    df['is_NMD_at_Canon'] = df.parallel_apply(predeffect.nmd_judge, axis=1)\n",
    "\n",
    "    #8-4. Frame check\n",
    "    # Covert to str (Cannot predict splicing event) to np.nan\n",
    "\n",
    "\n",
    "    cannot_predict: str = 'Cannot predict splicing event'\n",
    "    df['Size_Part_ExDel'] = df['Size_Part_ExDel'].replace(cannot_predict, np.nan)\n",
    "    df['Size_Part_IntRet'] = df['Size_Part_IntRet'].replace(cannot_predict, np.nan)\n",
    "    df['Size_pseudoexon'] = df['Size_pseudoexon'].replace(cannot_predict, np.nan)\n",
    "    df['Size_IntRet'] = df['Size_IntRet'].replace(cannot_predict, np.nan)\n",
    "    df['Size_skipped_exon'] = df['Size_skipped_exon'].replace(cannot_predict, np.nan)\n",
    "\n",
    "    df['is_Frameshift_Part_ExDel'] = df['Size_Part_ExDel'].parallel_apply(\n",
    "        predeffect.frame_check)\n",
    "    df['is_Frameshift_Part_IntRet'] = df['Size_Part_IntRet'].parallel_apply(\n",
    "        predeffect.frame_check)\n",
    "    df['is_Frameshift_pseudoexon'] = df['Size_pseudoexon'].parallel_apply(\n",
    "        predeffect.frame_check)\n",
    "    df['is_Frameshift_IntRet'] = df['Size_IntRet'].parallel_apply(\n",
    "        predeffect.frame_check)\n",
    "    df['is_Frameshift_skipped_exon'] = df['Size_skipped_exon'].parallel_apply(\n",
    "        predeffect.frame_check)\n",
    "    df['is_Frameshift'] = df[['is_Frameshift_Part_ExDel', \n",
    "                            'is_Frameshift_Part_IntRet', \n",
    "                            'is_Frameshift_pseudoexon', \n",
    "                            'is_Frameshift_IntRet', \n",
    "                            'is_Frameshift_skipped_exon'\n",
    "                            ]].any(axis=1)\n",
    "\n",
    "    #9.   CCRs\n",
    "    logger.info('Annotating CCRs info...')\n",
    "    #9-1. Annotate truncated regions \n",
    "    df['skipped_region'] = df.parallel_apply(\n",
    "        splaiparser.anno_skipped_regions, axis=1)\n",
    "    df['deleted_region'] = df.parallel_apply(\n",
    "        splaiparser.anno_deleted_regions, \n",
    "        thresholds=thresholds_SpliceAI_parser, axis=1)\n",
    "\n",
    "    #9-2. Intersect with CCRs\n",
    "    logger.info('Annotate CCR score')\n",
    "    df = predeffect.anno_ccr_score(df)\n",
    "\n",
    "    # df.to_pickle(f'splai_vep_vcfs/hgmd_dm/all_DM_chr{chr}.splai.vep.nondel.vcf.enst.prescore.pkl')\n",
    "    logger.info(f\"Comleted chr{chr}\")"
   ]
  },
  {
   "cell_type": "code",
   "execution_count": null,
   "metadata": {},
   "outputs": [],
   "source": [
    "df.to_pickle(f'splai_vep_vcfs/hgmd_dm/all_DM_chr{chr}.splai.vep.nondel.vcf.enst.prescore.pkl')"
   ]
  },
  {
   "cell_type": "code",
   "execution_count": 9,
   "metadata": {},
   "outputs": [
    {
     "name": "stdout",
     "output_type": "stream",
     "text": [
      "2024/10/21 02:15:04 [INFO   ] (__main__) - Annotating Screening scores...\n"
     ]
    }
   ],
   "source": [
    "df: pd.DataFrame = pd.concat([pd.read_pickle(f'splai_vep_vcfs/hgmd_dm/all_DM_chr{chr}.splai.vep.nondel.vcf.enst.prescore.pkl') for chr in chr_list])\n",
    "\n",
    "#10.  Scoring\n",
    "sccore_ths = {'clinvar_same_pos': 2,     \n",
    "                'clinvar_same_motif': 1,\n",
    "                'clinvar_else': 0,\n",
    "                'non_canon_splai_lte_0.1_outside': -3,\n",
    "                'non_canon_splai_lte_0.1_other': -2,\n",
    "                'non_canon_splai_bet_0.1_0.2': 1,\n",
    "                'non_canon_splai_gte_0.2': 2,\n",
    "                'canon_strong': 6, \n",
    "                'canon_moderate': 5, \n",
    "                'frameshift_nmd_eloF': 7, \n",
    "                'frameshift_nmd_not_eloF': 3,\n",
    "                'canon_splai_lte_0.1': -3,\n",
    "                'canon_splai_bet_0.1_0.2': -1,\n",
    "                'canon_splai_gte_0.2': 0}\n",
    "scoring = Scoring(ths=sccore_ths)\n",
    "\n",
    "logger.info('Annotating Screening scores...')\n",
    "df.rename(columns={'MaxSpliceAI': 'maxsplai'}, inplace=True)\n",
    "df['insilico_screening'] = df.parallel_apply(scoring.insilico_screening, axis=1)\n",
    "df['clinvar_screening'] = df.parallel_apply(scoring.clinvar_screening, axis=1)\n",
    "df['PriorityScore'] = df.parallel_apply(scoring.calc_priority_score, axis=1)"
   ]
  },
  {
   "cell_type": "code",
   "execution_count": null,
   "metadata": {},
   "outputs": [],
   "source": [
    "# df.to_pickle('splai_vep_vcfs/hgmd_dm/all_DM_chr1-22.splai.vep.nondel.vcf.enst.scored.pkl')"
   ]
  },
  {
   "cell_type": "code",
   "execution_count": 73,
   "metadata": {},
   "outputs": [],
   "source": []
  },
  {
   "cell_type": "code",
   "execution_count": 74,
   "metadata": {},
   "outputs": [],
   "source": []
  },
  {
   "cell_type": "code",
   "execution_count": 75,
   "metadata": {},
   "outputs": [
    {
     "data": {
      "text/plain": [
       "0          1-879375-1888C>T\n",
       "1           1-949363-4-1G>A\n",
       "2            1-949443-83T>A\n",
       "3           1-949523-163C>T\n",
       "4           1-949643-285del\n",
       "               ...         \n",
       "110        Y-9305052-443G>T\n",
       "111        Y-9305713-497A>C\n",
       "112        Y-9306424-875dup\n",
       "113        Y-9306438-890del\n",
       "114    Y-14850246-1317+3A>G\n",
       "Name: ID, Length: 250733, dtype: object"
      ]
     },
     "execution_count": 75,
     "metadata": {},
     "output_type": "execute_result"
    }
   ],
   "source": [
    "df['ID']"
   ]
  },
  {
   "cell_type": "code",
   "execution_count": 20,
   "metadata": {},
   "outputs": [],
   "source": [
    "all_mut_default_colnames: list = [\n",
    "    \"disase\", \"gene\", \"chrom\", \"genename\", \"gdbid\", \"omimid\", \"amino\", \n",
    "    \"deletion\", \"insertion\", \"codon\", \"codonAff\", \"descr\", \"refseq\", \"hgvs\", \n",
    "    \"hgvsAll\", \"dbsnp\", \"chromosome\", \"startCoord\", \"endCoord\", \n",
    "    \"expected_inheritance\", \"gnomad_AC\", \"gnomad_AF\", \"gnomad_AN\", \"tag\", \n",
    "    \"dmsupport\", \"rankscore\", \"mutype\", \"author\", \"title\", \"fullname\", \n",
    "    \"allname\", \"vol\", \"page\", \"year\", \"pmid\", \"pmidAll\", \"reftag\", \"comments\", \n",
    "    \"acc_num\", \"new_date\", \"base\", \"clinvarID\", \"clinvar_clnsig\"\n",
    "]\n",
    "\n",
    "allmut: pd.DataFrame = pd.read_csv(\n",
    "    'allmut.csv', sep=';', encoding='cp1252', names=all_mut_default_colnames, \n",
    "    skiprows=1,low_memory=False)\n"
   ]
  },
  {
   "cell_type": "code",
   "execution_count": null,
   "metadata": {},
   "outputs": [],
   "source": [
    "allmut: pd.DataFrame = pd.read_csv(\n",
    "    'allmut.csv', sep=';', encoding='cp1252', names=all_mut_default_colnames, \n",
    "    skiprows=1,low_memory=False)\n",
    "\n",
    "allmut = allmut[\n",
    "    [\"gene\", \"genename\", \"mutype\", \"clinvar_clnsig\", \"tag\",\n",
    "     \"refseq\", \"hgvs\", \"hgvsAll\", \"chromosome\", \"startCoord\", \"endCoord\", \n",
    "     \"amino\", \"deletion\", \"insertion\", \"expected_inheritance\", \"gnomad_AF\"]]\n",
    "\n",
    "# Drop non-numeric values in 'startCoord'\n",
    "allmut = allmut.dropna(subset=['startCoord'])\n",
    "\n",
    "# Drop duplicates in 'chrom', 'startCoord', and 'endCoord'\n",
    "allmut = allmut.drop_duplicates(subset=['chromosome', 'startCoord', 'endCoord'])\n",
    "\n",
    "# Extract tag == \"DM\" from allmut\n",
    "allmut_dm = allmut[allmut.tag == \"DM\"].copy()\n",
    "print(f\"A total of {len(allmut_dm)} DM mutations are found in allmut.\")\n",
    "\n",
    "allmut_dm['startCoord'] = allmut_dm['startCoord'].astype(int)\n",
    "allmut_dm = allmut_dm.rename(columns={'chromosome': 'CHROM', 'startCoord': 'POS_hg38'})\n",
    "# allmut_dm['variant_id2'] = allmut_dm['chromosome'].astype(str) + '-' \\\n",
    "# \t+ allmut_dm['startCoord'].astype(str) + '-' + allmut_dm['hgvs']"
   ]
  },
  {
   "cell_type": "code",
   "execution_count": 3,
   "metadata": {},
   "outputs": [
    {
     "name": "stdout",
     "output_type": "stream",
     "text": [
      "A total of 231981 DM mutations are found in allmut with MAF 0.\n",
      "A total of 154107 DM mutations are found in allmut with MAF 0 and non-deletion or non-insertion.\n",
      "Splicing_DM: 22178, Non-splicing_DM: 131929\n"
     ]
    }
   ],
   "source": [
    "# Fillna with empty string in \"gnomad_AF\" colmun in allmut_dm\n",
    "# Extratct MAF 0 from allmut_dm\n",
    "allmut_dm['gnomad_AF'].fillna(0, inplace=True)\n",
    "allmut_dm_maf0 = allmut_dm[allmut_dm['gnomad_AF'] == 0].copy()\n",
    "print(f\"A total of {len(allmut_dm_maf0)} DM mutations are found in allmut with MAF 0.\")\n",
    "\n",
    "# Extract non-deletion or non-insertion from allmut_dm\n",
    "allmut_dm_maf0_snv = allmut_dm_maf0[(allmut_dm_maf0['deletion'].isnull()) & (allmut_dm_maf0['insertion'].isnull())]\n",
    "print(f\"A total of {len(allmut_dm_maf0_snv)} DM mutations are found in allmut with MAF 0 and non-deletion or non-insertion.\")\n",
    "\n",
    "# Extract the mutation type from the mutype column\n",
    "splice_mutations = allmut_dm_maf0_snv[allmut_dm_maf0_snv[\"mutype\"].str.contains(\"splice\")].copy()\n",
    "non_splice_mutations = allmut_dm_maf0_snv[~allmut_dm_maf0_snv[\"mutype\"].str.contains(\"splice\")]\n",
    "print(f\"Splicing_DM: {len(splice_mutations)}, Non-splicing_DM: {len(non_splice_mutations)}\")"
   ]
  },
  {
   "cell_type": "code",
   "execution_count": null,
   "metadata": {},
   "outputs": [],
   "source": [
    "# Convert startCoord to hg19\n",
    "from liftover import get_lifter\n",
    "\n",
    "def _liftover_to_hg19(chrom, pos):\n",
    "    converter = get_lifter('hg38', 'hg19')\n",
    "    result = converter.query(chrom, pos)\n",
    "    if result:\n",
    "        return result[0]\n",
    "    else:\n",
    "        return None\n",
    "    \n",
    "def anno_hg19_pos(row):\n",
    "    converted = _liftover_to_hg19(row['CHROM'], row['POS_hg38'])\n",
    "    if converted:\n",
    "        return converted[0]\n",
    "    else:\n",
    "        return None\n",
    "\n",
    "# sampledf = allmut_dm_maf0_snv.sample(100)\n",
    "# sampledf['POS_hg19'] = sampledf.parallel_apply(anno_hg19_pos, axis=1)\n",
    "\n",
    "allmut_dm_maf0_snv['POS_hg19'] = allmut_dm_maf0_snv.parallel_apply(anno_hg19_pos, axis=1)\n",
    "# allmut_dm_maf0_snv.to_pickle('allmut_dm_maf0_snv_liftover.pkl')"
   ]
  },
  {
   "cell_type": "markdown",
   "metadata": {},
   "source": [
    "長い作業終わった(liftover)"
   ]
  },
  {
   "cell_type": "code",
   "execution_count": 90,
   "metadata": {},
   "outputs": [],
   "source": [
    "# scored variants\n",
    "df = pd.read_pickle('splai_vep_vcfs/hgmd_dm/all_DM_chr1-22.splai.vep.nondel.vcf.enst.scored.pkl')\n",
    "df = df[['variant_id', 'CHROM', 'POS', 'HGVSc', 'maxsplai', 'clinvar_screening', 'insilico_screening', 'PriorityScore']]\n",
    "df = df.loc[df['PriorityScore'] != 'Not available']\n",
    "df['HGVSc'] = df['HGVSc'].str.replace('c.', '')\n",
    "df['ID'] = df['CHROM'].astype(str) + '-' + df['POS'].astype(str) + '-' + df['HGVSc']"
   ]
  },
  {
   "cell_type": "code",
   "execution_count": 92,
   "metadata": {},
   "outputs": [
    {
     "name": "stdout",
     "output_type": "stream",
     "text": [
      "154107\n",
      "154098\n"
     ]
    }
   ],
   "source": [
    "# allmut variants\n",
    "allmut_dm_maf0_snv_hg19 = pd.read_pickle('allmut_dm_maf0_snv_liftover.pkl')\n",
    "allmut_dm_maf0_snv_hg19.rename(columns={'POS_hg19': 'POS'}, inplace=True)\n",
    "print(len(allmut_dm_maf0_snv_hg19))\n",
    "allmut_dm_maf0_snv_hg19.dropna(subset=['POS'], inplace=True)\n",
    "allmut_dm_maf0_snv_hg19 = allmut_dm_maf0_snv_hg19.astype({'POS': int})\n",
    "print(len(allmut_dm_maf0_snv_hg19))\n",
    "\n",
    "allmut = allmut_dm_maf0_snv_hg19\n",
    "allmut['ID'] = allmut['CHROM'].astype(str) + '-' + allmut['POS'].astype(str) + '-' + allmut['hgvs']"
   ]
  },
  {
   "cell_type": "code",
   "execution_count": 93,
   "metadata": {},
   "outputs": [
    {
     "data": {
      "text/plain": [
       "0          1-879375-1888C>T\n",
       "1           1-949363-4-1G>A\n",
       "2            1-949443-83T>A\n",
       "3           1-949523-163C>T\n",
       "4           1-949643-285del\n",
       "               ...         \n",
       "110        Y-9305052-443G>T\n",
       "111        Y-9305713-497A>C\n",
       "112        Y-9306424-875dup\n",
       "113        Y-9306438-890del\n",
       "114    Y-14850246-1317+3A>G\n",
       "Name: ID, Length: 250733, dtype: object"
      ]
     },
     "execution_count": 93,
     "metadata": {},
     "output_type": "execute_result"
    }
   ],
   "source": [
    "df['ID']"
   ]
  },
  {
   "cell_type": "code",
   "execution_count": 94,
   "metadata": {},
   "outputs": [
    {
     "data": {
      "text/plain": [
       "0           3-164777814-1022T>C\n",
       "1            22-51064480-991G>A\n",
       "2               16-2376465-3G>C\n",
       "3            4-55594075-1861G>T\n",
       "5           21-46907403-1876C>T\n",
       "                  ...          \n",
       "510785      1-40555081-536+1G>A\n",
       "510786    5-112162799-1409-6A>G\n",
       "510789      1-45480611-876-1G>C\n",
       "510791    11-112100954-186+1G>A\n",
       "510792     X-148571979-880-8A>G\n",
       "Name: ID, Length: 154098, dtype: object"
      ]
     },
     "execution_count": 94,
     "metadata": {},
     "output_type": "execute_result"
    }
   ],
   "source": [
    "allmut['ID']"
   ]
  },
  {
   "cell_type": "code",
   "execution_count": 95,
   "metadata": {},
   "outputs": [
    {
     "data": {
      "text/plain": [
       "mutype\n",
       "missense            91524\n",
       "nonsense            33756\n",
       "canonical-splice    18475\n",
       "gross                4372\n",
       "splice               2366\n",
       "exonic-splice        1337\n",
       "initiation            911\n",
       "regulatory            805\n",
       "synonymous            277\n",
       "nonstop               275\n",
       "Name: count, dtype: int64"
      ]
     },
     "execution_count": 95,
     "metadata": {},
     "output_type": "execute_result"
    }
   ],
   "source": [
    "allmut['mutype'].value_counts()"
   ]
  },
  {
   "cell_type": "code",
   "execution_count": 96,
   "metadata": {},
   "outputs": [
    {
     "name": "stdout",
     "output_type": "stream",
     "text": [
      "250733\n",
      "126537\n"
     ]
    }
   ],
   "source": [
    "# merge df and allmut\n",
    "print(len(df))\n",
    "df = pd.merge(df, allmut, on='ID', how='inner')\n",
    "print(len(df))"
   ]
  },
  {
   "cell_type": "code",
   "execution_count": 97,
   "metadata": {},
   "outputs": [
    {
     "name": "stdout",
     "output_type": "stream",
     "text": [
      "Splicing: 18382, Non-splicing: 106764, total: 125146\n"
     ]
    }
   ],
   "source": [
    "# df_spl contains splicing mutations (splice, canonical-splice, exonic-splice)\n",
    "df_spl = df[df['mutype'].str.contains('splice')].copy()\n",
    "\n",
    "# df_non_spl contains non-splicing mutations (missense, nonsense, synonymous)\n",
    "df_non_spl = df[df['mutype'].str.contains('missense|nonsense|synonymous')].copy()\n",
    "\n",
    "print(f\"Splicing: {len(df_spl)}, Non-splicing: {len(df_non_spl)}, total: {len(df_spl) + len(df_non_spl)}\")"
   ]
  },
  {
   "cell_type": "code",
   "execution_count": 98,
   "metadata": {},
   "outputs": [
    {
     "data": {
      "text/plain": [
       "mutype\n",
       "missense      78469\n",
       "nonsense      28087\n",
       "synonymous      208\n",
       "Name: count, dtype: int64"
      ]
     },
     "execution_count": 98,
     "metadata": {},
     "output_type": "execute_result"
    }
   ],
   "source": [
    "df_non_spl['mutype'].value_counts()"
   ]
  },
  {
   "cell_type": "code",
   "execution_count": 99,
   "metadata": {},
   "outputs": [
    {
     "data": {
      "text/plain": [
       "mutype\n",
       "canonical-splice    15380\n",
       "splice               1878\n",
       "exonic-splice        1124\n",
       "Name: count, dtype: int64"
      ]
     },
     "execution_count": 99,
     "metadata": {},
     "output_type": "execute_result"
    }
   ],
   "source": [
    "df_spl['mutype'].value_counts()"
   ]
  },
  {
   "cell_type": "code",
   "execution_count": 104,
   "metadata": {},
   "outputs": [
    {
     "data": {
      "text/html": [
       "<div>\n",
       "<style scoped>\n",
       "    .dataframe tbody tr th:only-of-type {\n",
       "        vertical-align: middle;\n",
       "    }\n",
       "\n",
       "    .dataframe tbody tr th {\n",
       "        vertical-align: top;\n",
       "    }\n",
       "\n",
       "    .dataframe thead th {\n",
       "        text-align: right;\n",
       "    }\n",
       "</style>\n",
       "<table border=\"1\" class=\"dataframe\">\n",
       "  <thead>\n",
       "    <tr style=\"text-align: right;\">\n",
       "      <th></th>\n",
       "      <th>variant_id</th>\n",
       "      <th>maxsplai</th>\n",
       "      <th>clinvar_screening</th>\n",
       "      <th>insilico_screening</th>\n",
       "      <th>PriorityScore</th>\n",
       "      <th>mutype</th>\n",
       "      <th>clinvar_clnsig</th>\n",
       "    </tr>\n",
       "  </thead>\n",
       "  <tbody>\n",
       "    <tr>\n",
       "      <th>0</th>\n",
       "      <td>1-879375-C-T</td>\n",
       "      <td>0.03</td>\n",
       "      <td>2</td>\n",
       "      <td>0</td>\n",
       "      <td>2</td>\n",
       "      <td>nonsense</td>\n",
       "      <td>Pathogenic</td>\n",
       "    </tr>\n",
       "    <tr>\n",
       "      <th>2</th>\n",
       "      <td>1-949443-T-A</td>\n",
       "      <td>0.03</td>\n",
       "      <td>1</td>\n",
       "      <td>0</td>\n",
       "      <td>1</td>\n",
       "      <td>missense</td>\n",
       "      <td>Conflicting_interpretations_of_pathogenicity</td>\n",
       "    </tr>\n",
       "    <tr>\n",
       "      <th>3</th>\n",
       "      <td>1-949523-C-T</td>\n",
       "      <td>0.01</td>\n",
       "      <td>1</td>\n",
       "      <td>0</td>\n",
       "      <td>1</td>\n",
       "      <td>nonsense</td>\n",
       "      <td>Pathogenic</td>\n",
       "    </tr>\n",
       "    <tr>\n",
       "      <th>4</th>\n",
       "      <td>1-949648-C-G</td>\n",
       "      <td>0.01</td>\n",
       "      <td>1</td>\n",
       "      <td>0</td>\n",
       "      <td>1</td>\n",
       "      <td>nonsense</td>\n",
       "      <td>NaN</td>\n",
       "    </tr>\n",
       "    <tr>\n",
       "      <th>5</th>\n",
       "      <td>1-949670-G-A</td>\n",
       "      <td>0.00</td>\n",
       "      <td>1</td>\n",
       "      <td>0</td>\n",
       "      <td>1</td>\n",
       "      <td>missense</td>\n",
       "      <td>Uncertain_significance</td>\n",
       "    </tr>\n",
       "    <tr>\n",
       "      <th>...</th>\n",
       "      <td>...</td>\n",
       "      <td>...</td>\n",
       "      <td>...</td>\n",
       "      <td>...</td>\n",
       "      <td>...</td>\n",
       "      <td>...</td>\n",
       "      <td>...</td>\n",
       "    </tr>\n",
       "    <tr>\n",
       "      <th>126530</th>\n",
       "      <td>Y-2655641-G-A</td>\n",
       "      <td>0.03</td>\n",
       "      <td>0</td>\n",
       "      <td>0</td>\n",
       "      <td>0</td>\n",
       "      <td>nonsense</td>\n",
       "      <td>Pathogenic</td>\n",
       "    </tr>\n",
       "    <tr>\n",
       "      <th>126532</th>\n",
       "      <td>Y-9304757-G-C</td>\n",
       "      <td>0.00</td>\n",
       "      <td>0</td>\n",
       "      <td>0</td>\n",
       "      <td>0</td>\n",
       "      <td>missense</td>\n",
       "      <td>NaN</td>\n",
       "    </tr>\n",
       "    <tr>\n",
       "      <th>126533</th>\n",
       "      <td>Y-9305001-C-T</td>\n",
       "      <td>0.01</td>\n",
       "      <td>0</td>\n",
       "      <td>0</td>\n",
       "      <td>0</td>\n",
       "      <td>missense</td>\n",
       "      <td>NaN</td>\n",
       "    </tr>\n",
       "    <tr>\n",
       "      <th>126534</th>\n",
       "      <td>Y-9305052-G-T</td>\n",
       "      <td>0.01</td>\n",
       "      <td>0</td>\n",
       "      <td>0</td>\n",
       "      <td>0</td>\n",
       "      <td>missense</td>\n",
       "      <td>NaN</td>\n",
       "    </tr>\n",
       "    <tr>\n",
       "      <th>126535</th>\n",
       "      <td>Y-9305713-A-C</td>\n",
       "      <td>0.21</td>\n",
       "      <td>0</td>\n",
       "      <td>2</td>\n",
       "      <td>2</td>\n",
       "      <td>missense</td>\n",
       "      <td>NaN</td>\n",
       "    </tr>\n",
       "  </tbody>\n",
       "</table>\n",
       "<p>106764 rows × 7 columns</p>\n",
       "</div>"
      ],
      "text/plain": [
       "           variant_id maxsplai clinvar_screening insilico_screening  \\\n",
       "0        1-879375-C-T     0.03                 2                  0   \n",
       "2        1-949443-T-A     0.03                 1                  0   \n",
       "3        1-949523-C-T     0.01                 1                  0   \n",
       "4        1-949648-C-G     0.01                 1                  0   \n",
       "5        1-949670-G-A     0.00                 1                  0   \n",
       "...               ...      ...               ...                ...   \n",
       "126530  Y-2655641-G-A     0.03                 0                  0   \n",
       "126532  Y-9304757-G-C     0.00                 0                  0   \n",
       "126533  Y-9305001-C-T     0.01                 0                  0   \n",
       "126534  Y-9305052-G-T     0.01                 0                  0   \n",
       "126535  Y-9305713-A-C     0.21                 0                  2   \n",
       "\n",
       "       PriorityScore    mutype                                clinvar_clnsig  \n",
       "0                  2  nonsense                                    Pathogenic  \n",
       "2                  1  missense  Conflicting_interpretations_of_pathogenicity  \n",
       "3                  1  nonsense                                    Pathogenic  \n",
       "4                  1  nonsense                                           NaN  \n",
       "5                  1  missense                        Uncertain_significance  \n",
       "...              ...       ...                                           ...  \n",
       "126530             0  nonsense                                    Pathogenic  \n",
       "126532             0  missense                                           NaN  \n",
       "126533             0  missense                                           NaN  \n",
       "126534             0  missense                                           NaN  \n",
       "126535             2  missense                                           NaN  \n",
       "\n",
       "[106764 rows x 7 columns]"
      ]
     },
     "execution_count": 104,
     "metadata": {},
     "output_type": "execute_result"
    }
   ],
   "source": [
    "usecol = ['variant_id', 'maxsplai', 'clinvar_screening', 'insilico_screening', 'PriorityScore', 'mutype', 'clinvar_clnsig']\n",
    "df_spl = df_spl[usecol]\n",
    "df_non_spl = df_non_spl[usecol]"
   ]
  },
  {
   "cell_type": "code",
   "execution_count": 105,
   "metadata": {},
   "outputs": [],
   "source": [
    "df_spl.to_pickle('splai_vep_vcfs/hgmd_dm/scored.df_spl.pkl')\n",
    "df_non_spl.to_pickle('splai_vep_vcfs/hgmd_dm/scored.df_non_spl.pkl')"
   ]
  },
  {
   "cell_type": "code",
   "execution_count": 26,
   "metadata": {},
   "outputs": [],
   "source": [
    "non_splice_mutations_sample['variant_id3'] = non_splice_mutations_sample['CHROM'].astype(str) + '-' \\\n",
    "\t+ non_splice_mutations_sample['POS_hg19'].astype(str)\n",
    "\n",
    "non_splice_mutations_variants3: list = non_splice_mutations_sample['variant_id3'].tolist()\n",
    "df['variant_id3'] = df['CHROM'].astype(str) + '-' + df['POS'].astype(str)\n",
    "df['is_non_splice_DM'] = df['variant_id3'].isin(non_splice_mutations_variants3)"
   ]
  },
  {
   "cell_type": "code",
   "execution_count": 30,
   "metadata": {},
   "outputs": [
    {
     "name": "stderr",
     "output_type": "stream",
     "text": [
      "/var/folders/39/q9rpt60x7m74m_l4hj8fj7q40000gn/T/ipykernel_63858/1515533730.py:2: SettingWithCopyWarning: \n",
      "A value is trying to be set on a copy of a slice from a DataFrame\n",
      "\n",
      "See the caveats in the documentation: https://pandas.pydata.org/pandas-docs/stable/user_guide/indexing.html#returning-a-view-versus-a-copy\n",
      "  df_eval.drop_duplicates(inplace=True)\n"
     ]
    }
   ],
   "source": [
    "df_eval = df.loc[df['is_non_splice_DM'] == True]\n",
    "df_eval.drop_duplicates(inplace=True)"
   ]
  },
  {
   "cell_type": "code",
   "execution_count": 37,
   "metadata": {},
   "outputs": [
    {
     "name": "stderr",
     "output_type": "stream",
     "text": [
      "/var/folders/39/q9rpt60x7m74m_l4hj8fj7q40000gn/T/ipykernel_63858/2996705062.py:2: SettingWithCopyWarning: \n",
      "A value is trying to be set on a copy of a slice from a DataFrame.\n",
      "Try using .loc[row_indexer,col_indexer] = value instead\n",
      "\n",
      "See the caveats in the documentation: https://pandas.pydata.org/pandas-docs/stable/user_guide/indexing.html#returning-a-view-versus-a-copy\n",
      "  df_eval['maxsplai'] = df_eval['maxsplai'].astype(float)\n"
     ]
    },
    {
     "data": {
      "text/plain": [
       "<Axes: >"
      ]
     },
     "execution_count": 37,
     "metadata": {},
     "output_type": "execute_result"
    },
    {
     "data": {
      "image/png": "[encoded data removed]",
      "text/plain": [
       "<Figure size 640x480 with 1 Axes>"
      ]
     },
     "metadata": {},
     "output_type": "display_data"
    }
   ],
   "source": [
    "# Distribution of maxsplai in non-splice_DM\n",
    "df_eval['maxsplai'] = df_eval['maxsplai'].astype(float)"
   ]
  },
  {
   "cell_type": "code",
   "execution_count": 2,
   "metadata": {},
   "outputs": [
    {
     "ename": "NameError",
     "evalue": "name 'df_eval' is not defined",
     "output_type": "error",
     "traceback": [
      "\u001b[0;31m---------------------------------------------------------------------------\u001b[0m",
      "\u001b[0;31mNameError\u001b[0m                                 Traceback (most recent call last)",
      "Cell \u001b[0;32mIn[2], line 2\u001b[0m\n\u001b[1;32m      1\u001b[0m \u001b[38;5;66;03m# cast \u001b[39;00m\n\u001b[0;32m----> 2\u001b[0m df_eval[\u001b[38;5;124m'\u001b[39m\u001b[38;5;124mmaxsplai\u001b[39m\u001b[38;5;124m'\u001b[39m] \u001b[38;5;241m=\u001b[39m \u001b[43mdf_eval\u001b[49m[\u001b[38;5;124m'\u001b[39m\u001b[38;5;124mmaxsplai\u001b[39m\u001b[38;5;124m'\u001b[39m]\u001b[38;5;241m.\u001b[39mastype(\u001b[38;5;28mfloat\u001b[39m)\n\u001b[1;32m      3\u001b[0m df_eval[\u001b[38;5;124m'\u001b[39m\u001b[38;5;124mPriorityScore\u001b[39m\u001b[38;5;124m'\u001b[39m] \u001b[38;5;241m=\u001b[39m df_eval[\u001b[38;5;124m'\u001b[39m\u001b[38;5;124mPriorityScore\u001b[39m\u001b[38;5;124m'\u001b[39m]\u001b[38;5;241m.\u001b[39mastype(\u001b[38;5;28mint\u001b[39m)\n\u001b[1;32m      5\u001b[0m splai_2 \u001b[38;5;241m=\u001b[39m df_eval\u001b[38;5;241m.\u001b[39mloc[df_eval[\u001b[38;5;124m'\u001b[39m\u001b[38;5;124mmaxsplai\u001b[39m\u001b[38;5;124m'\u001b[39m] \u001b[38;5;241m>\u001b[39m\u001b[38;5;241m=\u001b[39m \u001b[38;5;241m0.2\u001b[39m]\n",
      "\u001b[0;31mNameError\u001b[0m: name 'df_eval' is not defined"
     ]
    }
   ],
   "source": [
    "# cast \n",
    "df_eval['maxsplai'] = df_eval['maxsplai'].astype(float)\n",
    "df_eval['PriorityScore'] = df_eval['PriorityScore'].astype(int)\n",
    "\n",
    "splai_2 = df_eval.loc[df_eval['maxsplai'] >= 0.2]\n",
    "splai_5 = df_eval.loc[df_eval['maxsplai'] >= 0.5]\n",
    "splai_8 = df_eval.loc[df_eval['maxsplai'] >= 0.8]\n",
    "ps_3 = df_eval.loc[df_eval['PriorityScore'] >= 3]\n",
    "ps_4 = df_eval.loc[df_eval['PriorityScore'] >= 4]\n",
    "ps_5 = df_eval.loc[df_eval['PriorityScore'] >= 5]\n",
    "ps_6 = df_eval.loc[df_eval['PriorityScore'] >= 6]\n",
    "\n",
    "# calucrate false positive rate (FPR)\n",
    "fpr_splai_2 = len(splai_2) / len(df_eval)\n",
    "fpr_splai_5 = len(splai_5) / len(df_eval)\n",
    "fpr_splai_8 = len(splai_8) / len(df_eval)\n",
    "fpr_ps_3 = len(ps_3) / len(df_eval)\n",
    "fpr_ps_4 = len(ps_4) / len(df_eval)\n",
    "fpr_ps_5 = len(ps_5) / len(df_eval)\n",
    "fpr_ps_6 = len(ps_6) / len(df_eval)\n",
    "\n",
    "\n",
    "# Plot bar graph of FPR\n",
    "import matplotlib.pyplot as plt\n",
    "import seaborn as sns\n",
    "\n",
    "fpr = [fpr_splai_2, fpr_splai_5, fpr_splai_8, fpr_ps_3, fpr_ps_4, fpr_ps_5, fpr_ps_6]\n",
    "labels = ['SpliceAI >= 2', 'SpliceAI >= 5', 'SpliceAI >= 8', 'PriorityScore >= 3', 'PriorityScore >= 4', 'PriorityScore >= 5', 'PriorityScore >= 6']\n",
    "\n",
    "plt.figure(figsize=(10, 6))\n",
    "sns.barplot(x=labels, y=fpr)\n",
    "plt.title('False Positive Rate')\n",
    "plt.xlabel('Thresholds')\n",
    "plt.ylabel('FPR')\n",
    "plt.show()\n"
   ]
  },
  {
   "cell_type": "code",
   "execution_count": 1,
   "metadata": {},
   "outputs": [
    {
     "ename": "NameError",
     "evalue": "name 'fpr_splai_2' is not defined",
     "output_type": "error",
     "traceback": [
      "\u001b[0;31m---------------------------------------------------------------------------\u001b[0m",
      "\u001b[0;31mNameError\u001b[0m                                 Traceback (most recent call last)",
      "Cell \u001b[0;32mIn[1], line 1\u001b[0m\n\u001b[0;32m----> 1\u001b[0m [\u001b[43mfpr_splai_2\u001b[49m, fpr_splai_5, fpr_splai_8, fpr_ps_3, fpr_ps_4]\n",
      "\u001b[0;31mNameError\u001b[0m: name 'fpr_splai_2' is not defined"
     ]
    }
   ],
   "source": [
    "[fpr_splai_2, fpr_splai_5, fpr_splai_8, fpr_ps_3, fpr_ps_4]"
   ]
  },
  {
   "cell_type": "code",
   "execution_count": 19,
   "metadata": {},
   "outputs": [
    {
     "data": {
      "text/plain": [
       "134478                    16-68719191-1508G>A\n",
       "70244              4-111539357-157_740del3059\n",
       "145605                    X-154176123-1963T>C\n",
       "174305                      5-41807456-817G>T\n",
       "83190     18-60032270-731-1671_783+168del1892\n",
       "                         ...                 \n",
       "191681                    1-150530497-2254C>T\n",
       "130789                     19-11216124-542C>G\n",
       "373246                     11-88911744-623T>G\n",
       "362845                     7-150439553-326C>T\n",
       "166914                    15-31323243-3004A>T\n",
       "Name: variant_id2, Length: 5000, dtype: object"
      ]
     },
     "execution_count": 19,
     "metadata": {},
     "output_type": "execute_result"
    }
   ],
   "source": [
    "non_splice_mutations_sample['variant_id2']"
   ]
  },
  {
   "cell_type": "code",
   "execution_count": 18,
   "metadata": {},
   "outputs": [
    {
     "data": {
      "text/plain": [
       "is_non_splice_DM\n",
       "False    250733\n",
       "Name: count, dtype: int64"
      ]
     },
     "execution_count": 18,
     "metadata": {},
     "output_type": "execute_result"
    }
   ],
   "source": [
    "df['is_non_splice_DM'].value_counts()"
   ]
  },
  {
   "cell_type": "code",
   "execution_count": 72,
   "metadata": {},
   "outputs": [
    {
     "ename": "KeyboardInterrupt",
     "evalue": "",
     "output_type": "error",
     "traceback": [
      "\u001b[0;31m---------------------------------------------------------------------------\u001b[0m",
      "\u001b[0;31mKeyboardInterrupt\u001b[0m                         Traceback (most recent call last)",
      "Cell \u001b[0;32mIn[72], line 2\u001b[0m\n\u001b[1;32m      1\u001b[0m \u001b[38;5;28;01mfor\u001b[39;00m row \u001b[38;5;129;01min\u001b[39;00m df\u001b[38;5;241m.\u001b[39mitertuples():\n\u001b[0;32m----> 2\u001b[0m \t\u001b[38;5;28;01mif\u001b[39;00m \u001b[43mrow\u001b[49m\u001b[38;5;241;43m.\u001b[39;49m\u001b[43mvariant_id2\u001b[49m\u001b[43m \u001b[49m\u001b[38;5;129;43;01min\u001b[39;49;00m\u001b[43m \u001b[49m\u001b[43mnon_splice_mutations_variants\u001b[49m:\n\u001b[1;32m      3\u001b[0m \t\t\u001b[38;5;66;03m# df.at[row.Index, 'is_non_splice_DM'] = True\u001b[39;00m\n\u001b[1;32m      4\u001b[0m \t\t\u001b[38;5;28mprint\u001b[39m(row\u001b[38;5;241m.\u001b[39mvariant_id2)\n",
      "\u001b[0;31mKeyboardInterrupt\u001b[0m: "
     ]
    }
   ],
   "source": [
    "for row in df.itertuples():\n",
    "\tif row.variant_id2 in non_splice_mutations_variants:\n",
    "\t\t# df.at[row.Index, 'is_non_splice_DM'] = True\n",
    "\t\tprint(row.variant_id2)"
   ]
  },
  {
   "cell_type": "code",
   "execution_count": 64,
   "metadata": {},
   "outputs": [
    {
     "data": {
      "text/plain": [
       "250733"
      ]
     },
     "execution_count": 64,
     "metadata": {},
     "output_type": "execute_result"
    }
   ],
   "source": [
    "len(df['variant_id2'])"
   ]
  },
  {
   "cell_type": "code",
   "execution_count": 34,
   "metadata": {},
   "outputs": [
    {
     "data": {
      "text/plain": [
       "510804"
      ]
     },
     "execution_count": 34,
     "metadata": {},
     "output_type": "execute_result"
    }
   ],
   "source": [
    "len(allmut)"
   ]
  },
  {
   "cell_type": "code",
   "execution_count": 2,
   "metadata": {},
   "outputs": [],
   "source": [
    "def _liftover_to_hg19(chrom, pos):\n",
    "    converter = get_lifter('hg38', 'hg19')\n",
    "    result = converter.query(chrom, pos)\n",
    "    if result:\n",
    "        return result[0]\n",
    "    else:\n",
    "        return None\n",
    "    \n",
    "def anno_vars_id(row):\n",
    "    variant_id = f'{row[\"CHROM\"]}:{row[\"POS_hg19\"]}-{row[\"REF\"]}-{row[\"ALT\"]}'\n",
    "    return variant_id\n",
    "\n",
    "def anno_hg19_pos(row):\n",
    "    converted = _liftover_to_hg19(row['CHROM'], row['POS_hg38'])\n",
    "    return converted[1]\n",
    "\n",
    "def remove_dot_ver(x):\n",
    "    if x == '.':\n",
    "        pass\n",
    "    else:\n",
    "        return re.match(r'[a-zA-Z_]+\\d+', x).group()\n",
    "    \n",
    "def remove_non_canon(x):\n",
    "    if x in enst_set:\n",
    "        return True\n",
    "    else:\n",
    "        pass\n",
    "\n",
    "def create_refalt(row, nt):\n",
    "    if row['Strand'] == '+':\n",
    "        return row[nt]\n",
    "    elif row['Strand'] == '-':\n",
    "        return str(Seq(row[nt]).complement())\n",
    "    else:\n",
    "        pass"
   ]
  },
  {
   "cell_type": "code",
   "execution_count": 3,
   "metadata": {},
   "outputs": [],
   "source": [
    "canonlist = '/Github/Projects/DeNovo/data/CanonicalTranscripts_COMP/CanonicalTranscripts.exoncount.tsv'\n",
    "refseq = '/work/CanonicalTrasncripts/gencode.v43lift37.metadata.RefSeq.gz'\n",
    "\n",
    "df_canon = pd.read_table(canonlist, header=0)\n",
    "df_canon = df_canon[(df_canon['ENST'] != 'ENST00000649912')\n",
    "                    & (df_canon['ENST'] != 'ENST00000609375')]\n",
    "df_enst = df_canon.drop_duplicates(subset='ENST')\n",
    "enst_set = set(df_enst['ENST'])\n",
    "df_refseq = pd.read_table(refseq, header=None, \n",
    "                          names=['ENST_refseq', 'RefSeq_RNA', 'RefSeq_Pro'])\n",
    "df_refseq.fillna(value='.', inplace=True)\n",
    "\n",
    "df_refseq['ENST_refseq'] = df_refseq['ENST_refseq'].apply(remove_dot_ver)\n",
    "df_refseq['RefSeq_RNA'] = df_refseq['RefSeq_RNA'].apply(remove_dot_ver)\n",
    "df_refseq['RefSeq_Pro'] = df_refseq['RefSeq_Pro'].apply(remove_dot_ver)\n",
    "\n",
    "df_refseq['is_Canonical'] =  df_refseq['ENST_refseq'].apply(remove_non_canon)\n",
    "df_refseq_canon = df_refseq[df_refseq['is_Canonical'] == True].copy()"
   ]
  },
  {
   "cell_type": "markdown",
   "metadata": {},
   "source": [
    "##### Generate VCF"
   ]
  },
  {
   "cell_type": "code",
   "execution_count": 4,
   "metadata": {},
   "outputs": [],
   "source": [
    "# Loading HGMD splicing variants list (tsv)\n",
    "hgmd_file = '/Github/MyProjects/DeNovo/data/ValidationData/Positive/allmut.trim.colfixed.maf0.tsv.txt'\n",
    "df = pd.read_table(hgmd_file, header=0)\n",
    "\n",
    "# Pre-processing\n",
    "df = df.dropna(subset=['startCoord'])\n",
    "df['startCoord'] = df['startCoord'].astype(int)\n",
    "df['refseq'] = df['refseq'].apply(remove_dot_ver)\n",
    "\n",
    "# Extract REF and ALT from HGVS descriptions\n",
    "sr_alt_nt = df['hgvs'].str[-1:].rename('alt_nt')\n",
    "sr_ref_nt = df['hgvs'].str[-3:-2].rename('ref_nt')\n",
    "df = pd.concat([df, sr_ref_nt, sr_alt_nt], axis=1)\n",
    "\n",
    "# Insert cols as VCF\n",
    "df.loc[:,'ID'] = '.'\n",
    "df.loc[:,'QUAL'] = '.'\n",
    "df.loc[:,'FILTER'] = '.'\n",
    "df.loc[:,'INFO'] = '.'\n",
    "\n",
    "# Annotate ENST IDs\n",
    "df = pd.merge(df, df_enst, how='left', \n",
    "              left_on='gene', right_on='GeneSymbol')\n",
    "\n",
    "# Rename cols for downstream processing\n",
    "df = df.rename(columns={'CHROM': 'Chr',\n",
    "                        'chromosome': 'CHROM', \n",
    "                        'startCoord': 'POS_hg38'})\n",
    "\n",
    "# Create REF and ALT columns\n",
    "df['REF'] = df.apply(create_refalt, nt='ref_nt', axis=1)\n",
    "df['ALT'] = df.apply(create_refalt, nt='alt_nt', axis=1)"
   ]
  },
  {
   "cell_type": "code",
   "execution_count": 5,
   "metadata": {},
   "outputs": [],
   "source": [
    "# Liftover to hg19\n",
    "df['POS_hg19'] = df.apply(anno_hg19_pos, axis=1)"
   ]
  },
  {
   "cell_type": "code",
   "execution_count": null,
   "metadata": {},
   "outputs": [],
   "source": [
    "df2 = df.copy()\n",
    "df2 = df2.astype({'POS_hg19': str})\n",
    "\n",
    "# Annotate variant IDs\n",
    "df2['variant_id'] = df2.apply(anno_vars_id, axis=1)\n",
    "\n",
    "# Extract columns for VCF\n",
    "df_19 = df2[['CHROM', 'POS_hg19', \n",
    "             'ID', 'REF', 'ALT', 'QUAL', 'FILTER', 'INFO']]\n",
    "df_38 = df2[['CHROM', 'POS_hg38', \n",
    "             'ID', 'REF', 'ALT', 'QUAL', 'FILTER', 'INFO']]"
   ]
  },
  {
   "cell_type": "code",
   "execution_count": 265,
   "metadata": {},
   "outputs": [],
   "source": [
    "df_19 = df_19.dropna(subset=['REF'])\n",
    "df_38 = df_38.dropna(subset=['REF'])"
   ]
  },
  {
   "cell_type": "code",
   "execution_count": 266,
   "metadata": {},
   "outputs": [],
   "source": [
    "# Output as VCF\n",
    "df_19.to_csv('./patho.hg19.vcf', sep='\\t', index=False, header=False)\n",
    "df_38.to_csv('./patho.hg38.vcf', sep='\\t', index=False, header=False)"
   ]
  },
  {
   "cell_type": "markdown",
   "metadata": {},
   "source": [
    "##### Concatenate header and variant list"
   ]
  },
  {
   "cell_type": "code",
   "execution_count": 267,
   "metadata": {},
   "outputs": [],
   "source": [
    "!cat ../header_for_VCF.tsv ./patho.hg19.vcf > patho.hg19.header.vcf\n",
    "!cat ../header_for_VCF.tsv ./patho.hg38.vcf > patho.hg38.header.vcf"
   ]
  },
  {
   "cell_type": "code",
   "execution_count": 263,
   "metadata": {},
   "outputs": [
    {
     "data": {
      "text/html": [
       "<div>\n",
       "<style scoped>\n",
       "    .dataframe tbody tr th:only-of-type {\n",
       "        vertical-align: middle;\n",
       "    }\n",
       "\n",
       "    .dataframe tbody tr th {\n",
       "        vertical-align: top;\n",
       "    }\n",
       "\n",
       "    .dataframe thead th {\n",
       "        text-align: right;\n",
       "    }\n",
       "</style>\n",
       "<table border=\"1\" class=\"dataframe\">\n",
       "  <thead>\n",
       "    <tr style=\"text-align: right;\">\n",
       "      <th></th>\n",
       "      <th>Strand</th>\n",
       "      <th>ref_nt</th>\n",
       "      <th>REF</th>\n",
       "      <th>alt_nt</th>\n",
       "      <th>ALT</th>\n",
       "    </tr>\n",
       "  </thead>\n",
       "  <tbody>\n",
       "    <tr>\n",
       "      <th>0</th>\n",
       "      <td>+</td>\n",
       "      <td>A</td>\n",
       "      <td>A</td>\n",
       "      <td>G</td>\n",
       "      <td>G</td>\n",
       "    </tr>\n",
       "    <tr>\n",
       "      <th>1</th>\n",
       "      <td>-</td>\n",
       "      <td>T</td>\n",
       "      <td>A</td>\n",
       "      <td>G</td>\n",
       "      <td>C</td>\n",
       "    </tr>\n",
       "    <tr>\n",
       "      <th>2</th>\n",
       "      <td>-</td>\n",
       "      <td>G</td>\n",
       "      <td>C</td>\n",
       "      <td>A</td>\n",
       "      <td>T</td>\n",
       "    </tr>\n",
       "    <tr>\n",
       "      <th>3</th>\n",
       "      <td>+</td>\n",
       "      <td>A</td>\n",
       "      <td>A</td>\n",
       "      <td>G</td>\n",
       "      <td>G</td>\n",
       "    </tr>\n",
       "    <tr>\n",
       "      <th>4</th>\n",
       "      <td>-</td>\n",
       "      <td>A</td>\n",
       "      <td>T</td>\n",
       "      <td>G</td>\n",
       "      <td>C</td>\n",
       "    </tr>\n",
       "    <tr>\n",
       "      <th>...</th>\n",
       "      <td>...</td>\n",
       "      <td>...</td>\n",
       "      <td>...</td>\n",
       "      <td>...</td>\n",
       "      <td>...</td>\n",
       "    </tr>\n",
       "    <tr>\n",
       "      <th>10553</th>\n",
       "      <td>NaN</td>\n",
       "      <td>G</td>\n",
       "      <td>None</td>\n",
       "      <td>A</td>\n",
       "      <td>None</td>\n",
       "    </tr>\n",
       "    <tr>\n",
       "      <th>10554</th>\n",
       "      <td>+</td>\n",
       "      <td>G</td>\n",
       "      <td>G</td>\n",
       "      <td>A</td>\n",
       "      <td>A</td>\n",
       "    </tr>\n",
       "    <tr>\n",
       "      <th>10555</th>\n",
       "      <td>-</td>\n",
       "      <td>G</td>\n",
       "      <td>C</td>\n",
       "      <td>A</td>\n",
       "      <td>T</td>\n",
       "    </tr>\n",
       "    <tr>\n",
       "      <th>10556</th>\n",
       "      <td>-</td>\n",
       "      <td>G</td>\n",
       "      <td>C</td>\n",
       "      <td>A</td>\n",
       "      <td>T</td>\n",
       "    </tr>\n",
       "    <tr>\n",
       "      <th>10557</th>\n",
       "      <td>+</td>\n",
       "      <td>G</td>\n",
       "      <td>G</td>\n",
       "      <td>A</td>\n",
       "      <td>A</td>\n",
       "    </tr>\n",
       "  </tbody>\n",
       "</table>\n",
       "<p>10558 rows × 5 columns</p>\n",
       "</div>"
      ],
      "text/plain": [
       "      Strand ref_nt   REF alt_nt   ALT\n",
       "0          +      A     A      G     G\n",
       "1          -      T     A      G     C\n",
       "2          -      G     C      A     T\n",
       "3          +      A     A      G     G\n",
       "4          -      A     T      G     C\n",
       "...      ...    ...   ...    ...   ...\n",
       "10553    NaN      G  None      A  None\n",
       "10554      +      G     G      A     A\n",
       "10555      -      G     C      A     T\n",
       "10556      -      G     C      A     T\n",
       "10557      +      G     G      A     A\n",
       "\n",
       "[10558 rows x 5 columns]"
      ]
     },
     "execution_count": 263,
     "metadata": {},
     "output_type": "execute_result"
    }
   ],
   "source": [
    "df[['Strand', 'ref_nt', 'REF', 'alt_nt', 'ALT']]"
   ]
  },
  {
   "cell_type": "code",
   "execution_count": 277,
   "metadata": {},
   "outputs": [],
   "source": [
    "df2 =df2[['gene', 'gdbid', 'omimid', 'amino', 'codon', 'codonAff', 'descr',\n",
    "       'refseq', 'hgvs', 'CHROM', 'POS_hg38', 'endCoord', \n",
    "       'expected_inheritance', 'dmsupport', 'mutype', 'acc_num', 'new_date', \n",
    "       'clinvarID', 'clinvar_clnsig', 'Chr', 'Start', 'End', 'Strand', \n",
    "       'GeneSymbol', 'HGNC_ID', 'ENSG', 'ENST', 'GeneType', 'Tag', \n",
    "       'REF', 'ALT', 'POS_hg19', 'variant_id']]"
   ]
  },
  {
   "cell_type": "code",
   "execution_count": 278,
   "metadata": {},
   "outputs": [],
   "source": [
    "df2.to_csv('./patho2.tsv', sep='\\t', index=False)"
   ]
  },
  {
   "cell_type": "code",
   "execution_count": null,
   "metadata": {},
   "outputs": [],
   "source": [
    "#解除後の賃料はどうなっているか"
   ]
  }
 ],
 "metadata": {
  "kernelspec": {
   "display_name": "sss",
   "language": "python",
   "name": "python3"
  },
  "language_info": {
   "codemirror_mode": {
    "name": "ipython",
    "version": 3
   },
   "file_extension": ".py",
   "mimetype": "text/x-python",
   "name": "python",
   "nbconvert_exporter": "python",
   "pygments_lexer": "ipython3",
   "version": "3.8.20"
  },
  "orig_nbformat": 4
 },
 "nbformat": 4,
 "nbformat_minor": 2
}
