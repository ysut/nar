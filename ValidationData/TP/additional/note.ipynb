{
 "cells": [
  {
   "cell_type": "code",
   "execution_count": 1,
   "metadata": {},
   "outputs": [],
   "source": [
    "# conda create -n sss python=3.8 -y && conda activate sss\n",
    "# conda install -y -c bioconda gffutils jupyter tqdm cyvcf2 pathlib2 pandarallel pysam liftover pybedtools\n",
    "\n",
    "import os\n",
    "import re\n",
    "import numpy as np\n",
    "import pandas as pd\n",
    "# from Bio.Seq import Seq\n",
    "# from liftover import get_lifter\n",
    "from pathlib2 import Path\n",
    "from pandarallel import pandarallel\n",
    "from tqdm import tqdm\n",
    "import gffutils\n",
    "import pysam\n",
    "from cyvcf2 import VCF\n",
    "\n",
    "### Logging setup\n",
    "from logging import getLogger, config\n",
    "import yaml\n",
    "parent_directory = os.path.dirname(os.path.dirname('__file__'))\n",
    "config_path: str = os.path.join(parent_directory, '../../../config/logging.yaml')\n",
    "with open(config_path, 'r') as f:\n",
    "    config.dictConfig(yaml.safe_load(f))\n",
    "logger = getLogger(__name__)\n",
    "\n",
    "########   Initialize and setup pandas methods   ########\n",
    "os.environ['JOBLIB_TEMP_FOLDER'] = '/tmp' \n",
    "pandarallel.initialize(nb_workers=5, progress_bar=True, verbose=1, use_memory_fs=False) \n",
    "tqdm.pandas()\n",
    "\n",
    "import sys\n",
    "try: \n",
    "    __file__\n",
    "    sys.path.append(os.path.join(os.path.dirname('__file__')))\n",
    "except NameError:\n",
    "    Path().resolve()\n",
    "    sys.path.append(os.path.join(Path().resolve(), '../../../'))\n",
    "\n",
    "from libs import utils, preprocess, variantfilter, posparser, splaiparser\n",
    "# from libs import predeffect, scoring\n",
    "from libs import anno_spliceai, anno_clinvar\n",
    "from libs.deco import print_filtering_count\n",
    "# from libs import predeffect\n",
    "from libs.scoring import Scoring\n",
    "from libs import predeffect\n",
    "\n",
    "\n",
    "gencode_gff = '../../../Resources/05_GENCODE_v43lift37/gencode.v43lift37.annotation.sort.gff3.gz'\n",
    "\n",
    "try:\n",
    "    db_anno_gencode = '../../../Resources/06_gffutilsdb/gencode.v43lift37.annotation.gtf.db'\n",
    "    db_anno_intron = '../../../Resources/06_gffutilsdb/gencode.v43lift37.annotation.intron.gtf.db'\n",
    "    db = gffutils.FeatureDB(db_anno_gencode)\n",
    "    db_intron = gffutils.FeatureDB(db_anno_intron)\n",
    "except ValueError:\n",
    "    db_anno_gencode = '/resources/DBs/gencode.v43lift37.annotation.gtf.db'\n",
    "    db_anno_intron = '/resources/DBs/gencode.v43lift37.annotation.intron.gtf.db'\n",
    "    db = gffutils.FeatureDB(db_anno_gencode)\n",
    "    db_intron = gffutils.FeatureDB(db_anno_intron)\n",
    "\n",
    "## Thresholds configuration\n",
    "thresholds_SpliceAI_parser: dict = {\n",
    "    'TH_min_sALDL': 0.02, 'TH_max_sALDL': 0.2, \n",
    "    'TH_min_sAGDG': 0.01, 'TH_max_sAGDG': 0.05,\n",
    "    'TH_min_GExon': 25, 'TH_max_GExon': 500,\n",
    "    'TH_sAG': 0.2, 'TH_sDG': 0.2\n",
    "    }"
   ]
  },
  {
   "cell_type": "code",
   "execution_count": 2,
   "metadata": {},
   "outputs": [
    {
     "name": "stdout",
     "output_type": "stream",
     "text": [
      "256603\n",
      "126859\n",
      "Splicing: 18441, Non-splicing: 107021, total: 125462\n"
     ]
    }
   ],
   "source": [
    "# Loading allmut variants from pickle\n",
    "allmut_dm_maf0_snv_hg19 = pd.read_pickle('allmut_dm_maf0_snv_liftover.pkl')\n",
    "\n",
    "# Rename POS_hg19 to POS\n",
    "allmut_dm_maf0_snv_hg19.rename(columns={'POS_hg19': 'POS'}, inplace=True)\n",
    "\n",
    "# Drop unknown positions in 'POS' column and assign integer type\n",
    "allmut_dm_maf0_snv_hg19.dropna(subset=['POS'], inplace=True)\n",
    "allmut_dm_maf0_snv_hg19 = allmut_dm_maf0_snv_hg19.astype({'POS': int})\n",
    "\n",
    "# Change object name to allmut\n",
    "allmut = allmut_dm_maf0_snv_hg19\n",
    "\n",
    "# Generate ID column\n",
    "allmut['ID'] = allmut['CHROM'].astype(str) + '-' + allmut['POS'].astype(str) + '-' + allmut['hgvs']\n",
    "\n",
    "# Extract useful columns\n",
    "allmut = allmut[['ID', 'mutype', 'clinvar_clnsig', 'tag', 'deletion', 'insertion', 'expected_inheritance', 'gnomad_AF']]\n",
    "\n",
    "# Load VCF file annoteted by analysis pipeline\n",
    "df = pd.read_pickle('splai_vep_vcfs/hgmd_dm/allchr.DM.splai.vep.nondel.enst.prescore.hgnconly.pkl')\n",
    "df['HGVSc'] = df['HGVSc'].str.replace('c.', '')\n",
    "df['ID'] = df['CHROM'].astype(str) + '-' + df['POS'].astype(str) + '-' + df['HGVSc']\n",
    "\n",
    "# merge df and allmut on 'ID' column with inner join\n",
    "print(len(df))\n",
    "df = pd.merge(df, allmut, on='ID', how='inner')\n",
    "print(len(df))\n",
    "\n",
    "# df_spl contains splicing mutations (splice, canonical-splice, exonic-splice)\n",
    "df_spl = df[df['mutype'].str.contains('splice')].copy()\n",
    "\n",
    "# df_non_spl contains non-splicing mutations (missense, nonsense, synonymous)\n",
    "df_non_spl = df[df['mutype'].str.contains('missense|nonsense|synonymous')].copy()\n",
    "\n",
    "print(f\"Splicing: {len(df_spl)}, Non-splicing: {len(df_non_spl)}, total: {len(df_spl) + len(df_non_spl)}\")"
   ]
  },
  {
   "cell_type": "code",
   "execution_count": 4,
   "metadata": {},
   "outputs": [
    {
     "data": {
      "text/plain": [
       "Index(['CHROM', 'POS', 'REF', 'ALT', 'GeneSymbol', 'SymbolSource', 'HGNC_ID',\n",
       "       'ENST', 'HGVSc', 'Consequence', 'EXON', 'INTRON', 'Strand', 'DS_AG',\n",
       "       'DS_AL', 'DS_DG', 'DS_DL', 'DP_AG', 'DP_AL', 'DP_DG', 'DP_DL',\n",
       "       'maxsplai', 'ENST_Full', 'is_Canonical', 'IntronDist', 'ex_up_dist',\n",
       "       'ex_down_dist', 'exon_pos', 'prc_exon_loc', 'exon_splice_site',\n",
       "       'SpliceType', 'clinvar_same_pos', 'clinvar_same_motif', 'ExInt_INFO',\n",
       "       'Pseudoexon', 'Part_IntRet', 'Part_ExDel', 'Exon_skipping',\n",
       "       'Int_Retention', 'multiexs', 'Size_Part_ExDel', 'Size_Part_IntRet',\n",
       "       'Size_pseudoexon', 'Size_IntRet', 'Size_skipped_exon', 'variant_id',\n",
       "       'CDS_Length', 'is_10%_truncation', 'is_eLoF', 'is_NMD_at_Canon',\n",
       "       'is_Frameshift_Part_ExDel', 'is_Frameshift_Part_IntRet',\n",
       "       'is_Frameshift_pseudoexon', 'is_Frameshift_IntRet',\n",
       "       'is_Frameshift_skipped_exon', 'is_Frameshift', 'skipped_region',\n",
       "       'deleted_region', 'skipped_ccrs', 'deleted_ccrs', 'ID', 'mutype',\n",
       "       'clinvar_clnsig', 'tag', 'deletion', 'insertion',\n",
       "       'expected_inheritance', 'gnomad_AF'],\n",
       "      dtype='object')"
      ]
     },
     "execution_count": 4,
     "metadata": {},
     "output_type": "execute_result"
    }
   ],
   "source": [
    "df_spl.columns"
   ]
  },
  {
   "cell_type": "code",
   "execution_count": 10,
   "metadata": {},
   "outputs": [
    {
     "data": {
      "text/plain": [
       "Consequence\n",
       "splice_donor_variant                                                        6753\n",
       "splice_acceptor_variant                                                     6093\n",
       "splice_donor_5th_base_variant&intron_variant                                1194\n",
       "splice_donor_region_variant&intron_variant                                   999\n",
       "splice_region_variant&splice_polypyrimidine_tract_variant&intron_variant     977\n",
       "intron_variant                                                               764\n",
       "splice_polypyrimidine_tract_variant&intron_variant                           487\n",
       "missense_variant&splice_region_variant                                       376\n",
       "splice_region_variant&synonymous_variant                                     363\n",
       "synonymous_variant                                                           218\n",
       "missense_variant                                                             126\n",
       "splice_region_variant&intron_variant                                          46\n",
       "stop_gained                                                                   20\n",
       "stop_gained&splice_region_variant                                             16\n",
       "splice_region_variant&5_prime_UTR_variant                                      6\n",
       "5_prime_UTR_variant                                                            2\n",
       "3_prime_UTR_variant                                                            1\n",
       "Name: count, dtype: int64"
      ]
     },
     "execution_count": 10,
     "metadata": {},
     "output_type": "execute_result"
    }
   ],
   "source": [
    "df_spl['Consequence'].value_counts()"
   ]
  },
  {
   "cell_type": "code",
   "execution_count": 11,
   "metadata": {},
   "outputs": [
    {
     "data": {
      "text/html": [
       "<div>\n",
       "<style scoped>\n",
       "    .dataframe tbody tr th:only-of-type {\n",
       "        vertical-align: middle;\n",
       "    }\n",
       "\n",
       "    .dataframe tbody tr th {\n",
       "        vertical-align: top;\n",
       "    }\n",
       "\n",
       "    .dataframe thead th {\n",
       "        text-align: right;\n",
       "    }\n",
       "</style>\n",
       "<table border=\"1\" class=\"dataframe\">\n",
       "  <thead>\n",
       "    <tr style=\"text-align: right;\">\n",
       "      <th></th>\n",
       "      <th>Consequence</th>\n",
       "      <th>mutype</th>\n",
       "    </tr>\n",
       "  </thead>\n",
       "  <tbody>\n",
       "    <tr>\n",
       "      <th>307</th>\n",
       "      <td>5_prime_UTR_variant</td>\n",
       "      <td>exonic-splice</td>\n",
       "    </tr>\n",
       "    <tr>\n",
       "      <th>81264</th>\n",
       "      <td>5_prime_UTR_variant</td>\n",
       "      <td>exonic-splice</td>\n",
       "    </tr>\n",
       "  </tbody>\n",
       "</table>\n",
       "</div>"
      ],
      "text/plain": [
       "               Consequence         mutype\n",
       "307    5_prime_UTR_variant  exonic-splice\n",
       "81264  5_prime_UTR_variant  exonic-splice"
      ]
     },
     "execution_count": 11,
     "metadata": {},
     "output_type": "execute_result"
    }
   ],
   "source": [
    "df_spl.loc[df['Consequence'] == '5_prime_UTR_variant', ['Consequence', 'mutype']]"
   ]
  }
 ],
 "metadata": {
  "kernelspec": {
   "display_name": "nar",
   "language": "python",
   "name": "python3"
  },
  "language_info": {
   "codemirror_mode": {
    "name": "ipython",
    "version": 3
   },
   "file_extension": ".py",
   "mimetype": "text/x-python",
   "name": "python",
   "nbconvert_exporter": "python",
   "pygments_lexer": "ipython3",
   "version": "3.8.20"
  }
 },
 "nbformat": 4,
 "nbformat_minor": 2
}
