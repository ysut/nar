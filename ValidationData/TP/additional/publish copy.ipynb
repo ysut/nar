{
 "cells": [
  {
   "cell_type": "code",
   "execution_count": 1,
   "metadata": {},
   "outputs": [],
   "source": [
    "# conda create -n sss python=3.8 -y && conda activate sss\n",
    "# conda install -y -c bioconda gffutils jupyter tqdm cyvcf2 pathlib2 pandarallel pysam liftover pybedtools\n",
    "\n",
    "import os\n",
    "import re\n",
    "import numpy as np\n",
    "import pandas as pd\n",
    "# from Bio.Seq import Seq\n",
    "# from liftover import get_lifter\n",
    "from pathlib2 import Path\n",
    "from pandarallel import pandarallel\n",
    "from tqdm import tqdm\n",
    "import gffutils\n",
    "import pysam\n",
    "from cyvcf2 import VCF\n",
    "\n",
    "### Logging setup\n",
    "from logging import getLogger, config\n",
    "import yaml\n",
    "parent_directory = os.path.dirname(os.path.dirname('__file__'))\n",
    "config_path: str = os.path.join(parent_directory, '../../../config/logging.yaml')\n",
    "with open(config_path, 'r') as f:\n",
    "    config.dictConfig(yaml.safe_load(f))\n",
    "logger = getLogger(__name__)\n",
    "\n",
    "########   Initialize and setup pandas methods   ########\n",
    "os.environ['JOBLIB_TEMP_FOLDER'] = '/tmp' \n",
    "pandarallel.initialize(nb_workers=5, progress_bar=True, verbose=1, use_memory_fs=False) \n",
    "tqdm.pandas()\n",
    "\n",
    "import sys\n",
    "try: \n",
    "    __file__\n",
    "    sys.path.append(os.path.join(os.path.dirname('__file__')))\n",
    "except NameError:\n",
    "    Path().resolve()\n",
    "    sys.path.append(os.path.join(Path().resolve(), '../../../'))\n",
    "\n",
    "from libs import utils, preprocess, variantfilter, posparser, splaiparser\n",
    "# from libs import predeffect, scoring\n",
    "from libs import anno_spliceai, anno_clinvar\n",
    "from libs.deco import print_filtering_count\n",
    "# from libs import predeffect\n",
    "from libs.scoring import Scoring\n",
    "from libs import predeffect\n",
    "\n",
    "\n",
    "gencode_gff = '../../../Resources/05_GENCODE_v43lift37/gencode.v43lift37.annotation.sort.gff3.gz'\n",
    "\n",
    "try:\n",
    "    db_anno_gencode = '../../../Resources/06_gffutilsdb/gencode.v43lift37.annotation.gtf.db'\n",
    "    db_anno_intron = '../../../Resources/06_gffutilsdb/gencode.v43lift37.annotation.intron.gtf.db'\n",
    "    db = gffutils.FeatureDB(db_anno_gencode)\n",
    "    db_intron = gffutils.FeatureDB(db_anno_intron)\n",
    "except ValueError:\n",
    "    db_anno_gencode = '/resources/DBs/gencode.v43lift37.annotation.gtf.db'\n",
    "    db_anno_intron = '/resources/DBs/gencode.v43lift37.annotation.intron.gtf.db'\n",
    "    db = gffutils.FeatureDB(db_anno_gencode)\n",
    "    db_intron = gffutils.FeatureDB(db_anno_intron)\n",
    "\n",
    "## Thresholds configuration\n",
    "thresholds_SpliceAI_parser: dict = {\n",
    "    'TH_min_sALDL': 0.02, 'TH_max_sALDL': 0.2, \n",
    "    'TH_min_sAGDG': 0.01, 'TH_max_sAGDG': 0.05,\n",
    "    'TH_min_GExon': 25, 'TH_max_GExon': 500,\n",
    "    'TH_sAG': 0.2, 'TH_sDG': 0.2\n",
    "    }"
   ]
  },
  {
   "cell_type": "markdown",
   "metadata": {},
   "source": [
    "#### 前処理．SQLから抽出したallmut.csvを編集する．"
   ]
  },
  {
   "cell_type": "code",
   "execution_count": null,
   "metadata": {},
   "outputs": [],
   "source": [
    "all_mut_default_colnames: list = [\n",
    "    \"disase\", \"gene\", \"chrom\", \"genename\", \"gdbid\", \"omimid\", \"amino\", \n",
    "    \"deletion\", \"insertion\", \"codon\", \"codonAff\", \"descr\", \"refseq\", \"hgvs\", \n",
    "    \"hgvsAll\", \"dbsnp\", \"chromosome\", \"startCoord\", \"endCoord\", \n",
    "    \"expected_inheritance\", \"gnomad_AC\", \"gnomad_AF\", \"gnomad_AN\", \"tag\", \n",
    "    \"dmsupport\", \"rankscore\", \"mutype\", \"author\", \"title\", \"fullname\", \n",
    "    \"allname\", \"vol\", \"page\", \"year\", \"pmid\", \"pmidAll\", \"reftag\", \"comments\", \n",
    "    \"acc_num\", \"new_date\", \"base\", \"clinvarID\", \"clinvar_clnsig\"\n",
    "]\n",
    "\n",
    "allmut: pd.DataFrame = pd.read_csv(\n",
    "    'allmut.csv', sep=';', encoding='cp1252', names=all_mut_default_colnames, \n",
    "    skiprows=1,low_memory=False)\n",
    "\n",
    "\n",
    "allmut: pd.DataFrame = pd.read_csv(\n",
    "    'allmut.csv', sep=';', encoding='cp1252', names=all_mut_default_colnames, \n",
    "    skiprows=1,low_memory=False)\n",
    "\n",
    "allmut = allmut[\n",
    "    [\"gene\", \"genename\", \"mutype\", \"clinvar_clnsig\", \"tag\",\n",
    "     \"refseq\", \"hgvs\", \"hgvsAll\", \"chromosome\", \"startCoord\", \"endCoord\", \n",
    "     \"amino\", \"deletion\", \"insertion\", \"expected_inheritance\", \"gnomad_AF\"]]\n",
    "\n",
    "# Drop non-numeric values in 'startCoord'\n",
    "allmut = allmut.dropna(subset=['startCoord'])\n",
    "\n",
    "# Drop duplicates in 'chrom', 'startCoord', and 'endCoord'\n",
    "allmut = allmut.drop_duplicates(subset=['chromosome', 'startCoord', 'endCoord'])\n",
    "\n",
    "# Extract tag == \"DM\" from allmut\n",
    "allmut_dm = allmut[allmut.tag == \"DM\"].copy()\n",
    "print(f\"A total of {len(allmut_dm)} DM mutations are found in allmut.\")\n",
    "\n",
    "allmut_dm['startCoord'] = allmut_dm['startCoord'].astype(int)\n",
    "allmut_dm = allmut_dm.rename(columns={'chromosome': 'CHROM', 'startCoord': 'POS_hg38'})\n",
    "\n",
    "# Fillna with empty string in \"gnomad_AF\" colmun in allmut_dm\n",
    "# Extratct MAF 0 from allmut_dm\n",
    "allmut_dm['gnomad_AF'].fillna(0, inplace=True)\n",
    "allmut_dm_maf0 = allmut_dm[allmut_dm['gnomad_AF'] == 0].copy()\n",
    "print(f\"A total of {len(allmut_dm_maf0)} DM mutations are found in allmut with MAF 0.\")\n",
    "\n",
    "# Extract non-deletion or non-insertion from allmut_dm\n",
    "allmut_dm_maf0_snv = allmut_dm_maf0[(allmut_dm_maf0['deletion'].isnull()) & (allmut_dm_maf0['insertion'].isnull())]\n",
    "print(f\"A total of {len(allmut_dm_maf0_snv)} DM mutations are found in allmut with MAF 0 and non-deletion or non-insertion.\")\n",
    "\n",
    "# Extract the mutation type from the mutype column\n",
    "splice_mutations = allmut_dm_maf0_snv[allmut_dm_maf0_snv[\"mutype\"].str.contains(\"splice\")].copy()\n",
    "non_splice_mutations = allmut_dm_maf0_snv[~allmut_dm_maf0_snv[\"mutype\"].str.contains(\"splice\")]\n",
    "print(f\"Splicing_DM: {len(splice_mutations)}, Non-splicing_DM: {len(non_splice_mutations)}\")\n",
    "\n",
    "# Convert startCoord to hg19\n",
    "from liftover import get_lifter\n",
    "\n",
    "def _liftover_to_hg19(chrom, pos):\n",
    "    converter = get_lifter('hg38', 'hg19')\n",
    "    result = converter.query(chrom, pos)\n",
    "    if result:\n",
    "        return result[0]\n",
    "    else:\n",
    "        return None\n",
    "    \n",
    "def anno_hg19_pos(row):\n",
    "    converted = _liftover_to_hg19(row['CHROM'], row['POS_hg38'])\n",
    "    if converted:\n",
    "        return converted[0]\n",
    "    else:\n",
    "        return None\n",
    "\n",
    "allmut_dm_maf0_snv['POS_hg19'] = allmut_dm_maf0_snv.parallel_apply(anno_hg19_pos, axis=1)\n",
    "# allmut_dm_maf0_snv.to_pickle('allmut_dm_maf0_snv_liftover.pkl', mode='x')"
   ]
  },
  {
   "cell_type": "markdown",
   "metadata": {},
   "source": [
    "### Liftover処理後（ここから解析すればOK）"
   ]
  },
  {
   "cell_type": "code",
   "execution_count": 9,
   "metadata": {},
   "outputs": [
    {
     "name": "stdout",
     "output_type": "stream",
     "text": [
      "256603\n",
      "126859\n",
      "Splicing: 18432, Non-splicing: 107021, total: 125453\n"
     ]
    }
   ],
   "source": [
    "# Loading allmut variants from pickle\n",
    "allmut_dm_maf0_snv_hg19 = pd.read_pickle('allmut_dm_maf0_snv_liftover.pkl')\n",
    "\n",
    "# Rename POS_hg19 to POS\n",
    "allmut_dm_maf0_snv_hg19.rename(columns={'POS_hg19': 'POS'}, inplace=True)\n",
    "\n",
    "# Drop unknown positions in 'POS' column and assign integer type\n",
    "allmut_dm_maf0_snv_hg19.dropna(subset=['POS'], inplace=True)\n",
    "allmut_dm_maf0_snv_hg19 = allmut_dm_maf0_snv_hg19.astype({'POS': int})\n",
    "\n",
    "# Change object name to allmut\n",
    "allmut = allmut_dm_maf0_snv_hg19\n",
    "\n",
    "# Generate ID column\n",
    "allmut['ID'] = allmut['CHROM'].astype(str) + '-' + allmut['POS'].astype(str) + '-' + allmut['hgvs']\n",
    "\n",
    "# Extract useful columns\n",
    "allmut = allmut[['ID', 'mutype', 'clinvar_clnsig', 'tag', 'deletion', 'insertion', 'expected_inheritance', 'gnomad_AF']]\n",
    "\n",
    "# Load VCF file annoteted by analysis pipeline\n",
    "df = pd.read_pickle('splai_vep_vcfs/hgmd_dm/allchr.DM.splai.vep.nondel.enst.prescore.hgnconly.pkl')\n",
    "df['HGVSc'] = df['HGVSc'].str.replace('c.', '')\n",
    "df['ID'] = df['CHROM'].astype(str) + '-' + df['POS'].astype(str) + '-' + df['HGVSc']\n",
    "\n",
    "# merge df and allmut on 'ID' column with inner join\n",
    "print(len(df))\n",
    "df = pd.merge(df, allmut, on='ID', how='inner')\n",
    "print(len(df))\n",
    "\n",
    "exclude_csq = {\n",
    "    '3_prime_UTR_variant', '5_prime_UTR_variant', 'mature_miRNA_variant',\n",
    "    'mature_miRNA_variant', 'downstream_gene_variant', 'upstream_gene_variant'\n",
    "}\n",
    "\n",
    "def is_orf_variants(row):\n",
    "    csqs: list = row['Consequence'].split('&')\n",
    "    if set(csqs).isdisjoint(exclude_csq):\n",
    "        return True\n",
    "    else:\n",
    "        return False\n",
    "\n",
    "df['is_ORF'] = df.apply(is_orf_variants, axis=1)\n",
    "df = df[df['is_ORF']]\n",
    "\n",
    "# df_spl contains splicing mutations (splice, canonical-splice, exonic-splice)\n",
    "df_spl = df[df['mutype'].str.contains('splice')].copy()\n",
    "\n",
    "# df_non_spl contains non-splicing mutations (missense, nonsense, synonymous)\n",
    "df_non_spl = df[df['mutype'].str.contains('missense|nonsense|synonymous')].copy()\n",
    "\n",
    "print(f\"Splicing: {len(df_spl)}, Non-splicing: {len(df_non_spl)}, total: {len(df_spl) + len(df_non_spl)}\")"
   ]
  },
  {
   "cell_type": "code",
   "execution_count": 11,
   "metadata": {},
   "outputs": [],
   "source": [
    "# Save as tsv\n",
    "df_spl.to_csv('excel/allchr.DM.splai.vep.nondel.enst.prescore.hgnconly.spl.tsv', sep='\\t', index=False)\n",
    "df_non_spl.to_csv('excel/allchr.DM.splai.vep.nondel.enst.prescore.hgnconly.nonspl.tsv', sep='\\t', index=False)"
   ]
  },
  {
   "cell_type": "code",
   "execution_count": 25,
   "metadata": {},
   "outputs": [
    {
     "data": {
      "text/html": [
       "<div>\n",
       "<style scoped>\n",
       "    .dataframe tbody tr th:only-of-type {\n",
       "        vertical-align: middle;\n",
       "    }\n",
       "\n",
       "    .dataframe tbody tr th {\n",
       "        vertical-align: top;\n",
       "    }\n",
       "\n",
       "    .dataframe thead th {\n",
       "        text-align: right;\n",
       "    }\n",
       "</style>\n",
       "<table border=\"1\" class=\"dataframe\">\n",
       "  <thead>\n",
       "    <tr style=\"text-align: right;\">\n",
       "      <th></th>\n",
       "      <th>CHROM</th>\n",
       "      <th>POS</th>\n",
       "      <th>REF</th>\n",
       "      <th>ALT</th>\n",
       "      <th>GeneSymbol</th>\n",
       "      <th>SymbolSource</th>\n",
       "      <th>HGNC_ID</th>\n",
       "      <th>ENST</th>\n",
       "      <th>HGVSc</th>\n",
       "      <th>Consequence</th>\n",
       "      <th>...</th>\n",
       "      <th>deleted_ccrs</th>\n",
       "      <th>ID</th>\n",
       "      <th>mutype</th>\n",
       "      <th>clinvar_clnsig</th>\n",
       "      <th>tag</th>\n",
       "      <th>deletion</th>\n",
       "      <th>insertion</th>\n",
       "      <th>expected_inheritance</th>\n",
       "      <th>gnomad_AF</th>\n",
       "      <th>is_ORF</th>\n",
       "    </tr>\n",
       "  </thead>\n",
       "  <tbody>\n",
       "    <tr>\n",
       "      <th>12175</th>\n",
       "      <td>2</td>\n",
       "      <td>25497957</td>\n",
       "      <td>C</td>\n",
       "      <td>T</td>\n",
       "      <td>DNMT3A</td>\n",
       "      <td>HGNC</td>\n",
       "      <td>2978</td>\n",
       "      <td>ENST00000264709</td>\n",
       "      <td>493-1G&gt;A</td>\n",
       "      <td>splice_acceptor_variant</td>\n",
       "      <td>...</td>\n",
       "      <td>NaN</td>\n",
       "      <td>2-25497957-493-1G&gt;A</td>\n",
       "      <td>canonical-splice</td>\n",
       "      <td>NaN</td>\n",
       "      <td>DM</td>\n",
       "      <td>NaN</td>\n",
       "      <td>NaN</td>\n",
       "      <td>AD</td>\n",
       "      <td>0.0</td>\n",
       "      <td>True</td>\n",
       "    </tr>\n",
       "    <tr>\n",
       "      <th>33786</th>\n",
       "      <td>5</td>\n",
       "      <td>93788776</td>\n",
       "      <td>T</td>\n",
       "      <td>C</td>\n",
       "      <td>KIAA0825</td>\n",
       "      <td>HGNC</td>\n",
       "      <td>28532</td>\n",
       "      <td>ENST00000427991</td>\n",
       "      <td>2247-2A&gt;G</td>\n",
       "      <td>splice_acceptor_variant</td>\n",
       "      <td>...</td>\n",
       "      <td>NaN</td>\n",
       "      <td>5-93788776-2247-2A&gt;G</td>\n",
       "      <td>canonical-splice</td>\n",
       "      <td>NaN</td>\n",
       "      <td>DM</td>\n",
       "      <td>NaN</td>\n",
       "      <td>NaN</td>\n",
       "      <td>UNK</td>\n",
       "      <td>0.0</td>\n",
       "      <td>True</td>\n",
       "    </tr>\n",
       "    <tr>\n",
       "      <th>40991</th>\n",
       "      <td>6</td>\n",
       "      <td>152841593</td>\n",
       "      <td>C</td>\n",
       "      <td>T</td>\n",
       "      <td>SYNE1</td>\n",
       "      <td>HGNC</td>\n",
       "      <td>17089</td>\n",
       "      <td>ENST00000367255</td>\n",
       "      <td>309+1G&gt;A</td>\n",
       "      <td>splice_donor_variant</td>\n",
       "      <td>...</td>\n",
       "      <td>NaN</td>\n",
       "      <td>6-152841593-309+1G&gt;A</td>\n",
       "      <td>canonical-splice</td>\n",
       "      <td>NaN</td>\n",
       "      <td>DM</td>\n",
       "      <td>NaN</td>\n",
       "      <td>NaN</td>\n",
       "      <td>ADAR</td>\n",
       "      <td>0.0</td>\n",
       "      <td>True</td>\n",
       "    </tr>\n",
       "    <tr>\n",
       "      <th>40993</th>\n",
       "      <td>6</td>\n",
       "      <td>152949399</td>\n",
       "      <td>C</td>\n",
       "      <td>T</td>\n",
       "      <td>SYNE1</td>\n",
       "      <td>HGNC</td>\n",
       "      <td>17089</td>\n",
       "      <td>ENST00000367255</td>\n",
       "      <td>67+1G&gt;A</td>\n",
       "      <td>splice_donor_variant</td>\n",
       "      <td>...</td>\n",
       "      <td>NaN</td>\n",
       "      <td>6-152949399-67+1G&gt;A</td>\n",
       "      <td>canonical-splice</td>\n",
       "      <td>Pathogenic</td>\n",
       "      <td>DM</td>\n",
       "      <td>NaN</td>\n",
       "      <td>NaN</td>\n",
       "      <td>ADAR</td>\n",
       "      <td>0.0</td>\n",
       "      <td>True</td>\n",
       "    </tr>\n",
       "    <tr>\n",
       "      <th>51458</th>\n",
       "      <td>9</td>\n",
       "      <td>36249395</td>\n",
       "      <td>C</td>\n",
       "      <td>A</td>\n",
       "      <td>GNE</td>\n",
       "      <td>HGNC</td>\n",
       "      <td>23657</td>\n",
       "      <td>ENST00000396594</td>\n",
       "      <td>52-1G&gt;T</td>\n",
       "      <td>splice_acceptor_variant</td>\n",
       "      <td>...</td>\n",
       "      <td>NaN</td>\n",
       "      <td>9-36249395-52-1G&gt;T</td>\n",
       "      <td>canonical-splice</td>\n",
       "      <td>Pathogenic</td>\n",
       "      <td>DM</td>\n",
       "      <td>NaN</td>\n",
       "      <td>NaN</td>\n",
       "      <td>AR</td>\n",
       "      <td>0.0</td>\n",
       "      <td>True</td>\n",
       "    </tr>\n",
       "    <tr>\n",
       "      <th>...</th>\n",
       "      <td>...</td>\n",
       "      <td>...</td>\n",
       "      <td>...</td>\n",
       "      <td>...</td>\n",
       "      <td>...</td>\n",
       "      <td>...</td>\n",
       "      <td>...</td>\n",
       "      <td>...</td>\n",
       "      <td>...</td>\n",
       "      <td>...</td>\n",
       "      <td>...</td>\n",
       "      <td>...</td>\n",
       "      <td>...</td>\n",
       "      <td>...</td>\n",
       "      <td>...</td>\n",
       "      <td>...</td>\n",
       "      <td>...</td>\n",
       "      <td>...</td>\n",
       "      <td>...</td>\n",
       "      <td>...</td>\n",
       "      <td>...</td>\n",
       "    </tr>\n",
       "    <tr>\n",
       "      <th>118235</th>\n",
       "      <td>X</td>\n",
       "      <td>69253386</td>\n",
       "      <td>C</td>\n",
       "      <td>G</td>\n",
       "      <td>EDA</td>\n",
       "      <td>HGNC</td>\n",
       "      <td>3157</td>\n",
       "      <td>ENST00000374552</td>\n",
       "      <td>924+8C&gt;G</td>\n",
       "      <td>splice_region_variant&amp;intron_variant</td>\n",
       "      <td>...</td>\n",
       "      <td>NaN</td>\n",
       "      <td>X-69253386-924+8C&gt;G</td>\n",
       "      <td>splice</td>\n",
       "      <td>NaN</td>\n",
       "      <td>DM</td>\n",
       "      <td>NaN</td>\n",
       "      <td>NaN</td>\n",
       "      <td>XLD</td>\n",
       "      <td>0.0</td>\n",
       "      <td>True</td>\n",
       "    </tr>\n",
       "    <tr>\n",
       "      <th>118236</th>\n",
       "      <td>X</td>\n",
       "      <td>69255205</td>\n",
       "      <td>C</td>\n",
       "      <td>G</td>\n",
       "      <td>EDA</td>\n",
       "      <td>HGNC</td>\n",
       "      <td>3157</td>\n",
       "      <td>ENST00000374552</td>\n",
       "      <td>925-3C&gt;G</td>\n",
       "      <td>splice_region_variant&amp;splice_polypyrimidine_tr...</td>\n",
       "      <td>...</td>\n",
       "      <td>NaN</td>\n",
       "      <td>X-69255205-925-3C&gt;G</td>\n",
       "      <td>canonical-splice</td>\n",
       "      <td>NaN</td>\n",
       "      <td>DM</td>\n",
       "      <td>NaN</td>\n",
       "      <td>NaN</td>\n",
       "      <td>XLD</td>\n",
       "      <td>0.0</td>\n",
       "      <td>True</td>\n",
       "    </tr>\n",
       "    <tr>\n",
       "      <th>118237</th>\n",
       "      <td>X</td>\n",
       "      <td>69255206</td>\n",
       "      <td>A</td>\n",
       "      <td>G</td>\n",
       "      <td>EDA</td>\n",
       "      <td>HGNC</td>\n",
       "      <td>3157</td>\n",
       "      <td>ENST00000374552</td>\n",
       "      <td>925-2A&gt;G</td>\n",
       "      <td>splice_acceptor_variant</td>\n",
       "      <td>...</td>\n",
       "      <td>NaN</td>\n",
       "      <td>X-69255206-925-2A&gt;G</td>\n",
       "      <td>canonical-splice</td>\n",
       "      <td>NaN</td>\n",
       "      <td>DM</td>\n",
       "      <td>NaN</td>\n",
       "      <td>NaN</td>\n",
       "      <td>XLD</td>\n",
       "      <td>0.0</td>\n",
       "      <td>True</td>\n",
       "    </tr>\n",
       "    <tr>\n",
       "      <th>118238</th>\n",
       "      <td>X</td>\n",
       "      <td>69255207</td>\n",
       "      <td>G</td>\n",
       "      <td>C</td>\n",
       "      <td>EDA</td>\n",
       "      <td>HGNC</td>\n",
       "      <td>3157</td>\n",
       "      <td>ENST00000374552</td>\n",
       "      <td>925-1G&gt;C</td>\n",
       "      <td>splice_acceptor_variant</td>\n",
       "      <td>...</td>\n",
       "      <td>NaN</td>\n",
       "      <td>X-69255207-925-1G&gt;C</td>\n",
       "      <td>canonical-splice</td>\n",
       "      <td>NaN</td>\n",
       "      <td>DM</td>\n",
       "      <td>NaN</td>\n",
       "      <td>NaN</td>\n",
       "      <td>XLD</td>\n",
       "      <td>0.0</td>\n",
       "      <td>True</td>\n",
       "    </tr>\n",
       "    <tr>\n",
       "      <th>121602</th>\n",
       "      <td>X</td>\n",
       "      <td>110951254</td>\n",
       "      <td>G</td>\n",
       "      <td>A</td>\n",
       "      <td>ALG13</td>\n",
       "      <td>HGNC</td>\n",
       "      <td>30881</td>\n",
       "      <td>ENST00000394780</td>\n",
       "      <td>384-1G&gt;A</td>\n",
       "      <td>splice_acceptor_variant</td>\n",
       "      <td>...</td>\n",
       "      <td>NaN</td>\n",
       "      <td>X-110951254-384-1G&gt;A</td>\n",
       "      <td>canonical-splice</td>\n",
       "      <td>NaN</td>\n",
       "      <td>DM</td>\n",
       "      <td>NaN</td>\n",
       "      <td>NaN</td>\n",
       "      <td>UNK</td>\n",
       "      <td>0.0</td>\n",
       "      <td>True</td>\n",
       "    </tr>\n",
       "  </tbody>\n",
       "</table>\n",
       "<p>70 rows × 69 columns</p>\n",
       "</div>"
      ],
      "text/plain": [
       "       CHROM        POS REF ALT GeneSymbol SymbolSource HGNC_ID  \\\n",
       "12175      2   25497957   C   T     DNMT3A         HGNC    2978   \n",
       "33786      5   93788776   T   C   KIAA0825         HGNC   28532   \n",
       "40991      6  152841593   C   T      SYNE1         HGNC   17089   \n",
       "40993      6  152949399   C   T      SYNE1         HGNC   17089   \n",
       "51458      9   36249395   C   A        GNE         HGNC   23657   \n",
       "...      ...        ...  ..  ..        ...          ...     ...   \n",
       "118235     X   69253386   C   G        EDA         HGNC    3157   \n",
       "118236     X   69255205   C   G        EDA         HGNC    3157   \n",
       "118237     X   69255206   A   G        EDA         HGNC    3157   \n",
       "118238     X   69255207   G   C        EDA         HGNC    3157   \n",
       "121602     X  110951254   G   A      ALG13         HGNC   30881   \n",
       "\n",
       "                   ENST      HGVSc  \\\n",
       "12175   ENST00000264709   493-1G>A   \n",
       "33786   ENST00000427991  2247-2A>G   \n",
       "40991   ENST00000367255   309+1G>A   \n",
       "40993   ENST00000367255    67+1G>A   \n",
       "51458   ENST00000396594    52-1G>T   \n",
       "...                 ...        ...   \n",
       "118235  ENST00000374552   924+8C>G   \n",
       "118236  ENST00000374552   925-3C>G   \n",
       "118237  ENST00000374552   925-2A>G   \n",
       "118238  ENST00000374552   925-1G>C   \n",
       "121602  ENST00000394780   384-1G>A   \n",
       "\n",
       "                                              Consequence  ... deleted_ccrs  \\\n",
       "12175                             splice_acceptor_variant  ...          NaN   \n",
       "33786                             splice_acceptor_variant  ...          NaN   \n",
       "40991                                splice_donor_variant  ...          NaN   \n",
       "40993                                splice_donor_variant  ...          NaN   \n",
       "51458                             splice_acceptor_variant  ...          NaN   \n",
       "...                                                   ...  ...          ...   \n",
       "118235               splice_region_variant&intron_variant  ...          NaN   \n",
       "118236  splice_region_variant&splice_polypyrimidine_tr...  ...          NaN   \n",
       "118237                            splice_acceptor_variant  ...          NaN   \n",
       "118238                            splice_acceptor_variant  ...          NaN   \n",
       "121602                            splice_acceptor_variant  ...          NaN   \n",
       "\n",
       "                          ID            mutype clinvar_clnsig tag deletion  \\\n",
       "12175    2-25497957-493-1G>A  canonical-splice            NaN  DM      NaN   \n",
       "33786   5-93788776-2247-2A>G  canonical-splice            NaN  DM      NaN   \n",
       "40991   6-152841593-309+1G>A  canonical-splice            NaN  DM      NaN   \n",
       "40993    6-152949399-67+1G>A  canonical-splice     Pathogenic  DM      NaN   \n",
       "51458     9-36249395-52-1G>T  canonical-splice     Pathogenic  DM      NaN   \n",
       "...                      ...               ...            ...  ..      ...   \n",
       "118235   X-69253386-924+8C>G            splice            NaN  DM      NaN   \n",
       "118236   X-69255205-925-3C>G  canonical-splice            NaN  DM      NaN   \n",
       "118237   X-69255206-925-2A>G  canonical-splice            NaN  DM      NaN   \n",
       "118238   X-69255207-925-1G>C  canonical-splice            NaN  DM      NaN   \n",
       "121602  X-110951254-384-1G>A  canonical-splice            NaN  DM      NaN   \n",
       "\n",
       "       insertion expected_inheritance gnomad_AF is_ORF  \n",
       "12175        NaN                   AD       0.0   True  \n",
       "33786        NaN                  UNK       0.0   True  \n",
       "40991        NaN                 ADAR       0.0   True  \n",
       "40993        NaN                 ADAR       0.0   True  \n",
       "51458        NaN                   AR       0.0   True  \n",
       "...          ...                  ...       ...    ...  \n",
       "118235       NaN                  XLD       0.0   True  \n",
       "118236       NaN                  XLD       0.0   True  \n",
       "118237       NaN                  XLD       0.0   True  \n",
       "118238       NaN                  XLD       0.0   True  \n",
       "121602       NaN                  UNK       0.0   True  \n",
       "\n",
       "[70 rows x 69 columns]"
      ]
     },
     "execution_count": 25,
     "metadata": {},
     "output_type": "execute_result"
    }
   ],
   "source": [
    "df_spl[df_spl['maxsplai'] == \"NA\"]"
   ]
  },
  {
   "cell_type": "code",
   "execution_count": null,
   "metadata": {},
   "outputs": [],
   "source": [
    "# Annotating the label and variant_id (CHROM-POS-REF_ALT)\n",
    "# When mutype is splice, the label is 1, otherwise 0\n",
    "df_gnomad = pd.read_pickle('splai_vep_vcfs/gnomadv211/allchr.gnomad.splai.vep.vcf.enst.prescore.hgnconly.pkl')\n",
    "df_gnomad['is_ORF'] = df_gnomad.apply(is_orf_variants, axis=1)\n",
    "df_gnomad = df_gnomad[df_gnomad['is_ORF']]\n",
    "\n",
    "df_spl['LABEL'] = 1\n",
    "df_non_spl['LABEL'] = 0\n",
    "df_gnomad['LABEL'] = 0\n",
    "\n",
    "df_spl['variant_id'] = df_spl['CHROM'].astype(str) + '-' + df_spl['POS'].astype(str) + '-' + df_spl['REF'] + '-' + df_spl['ALT']\n",
    "df_non_spl['variant_id'] = df_non_spl['CHROM'].astype(str) + '-' + df_non_spl['POS'].astype(str) + '-' + df_non_spl['REF'] + '-' + df_non_spl['ALT']\n",
    "df_gnomad['variant_id'] = df_gnomad['CHROM'].astype(str) + '-' + df_gnomad['POS'].astype(str) + '-' + df_gnomad['REF'] + '-' + df_gnomad['ALT']\n",
    "\n",
    "# Create a dataframe tp\n",
    "tp = df_spl.copy()\n",
    "\n",
    "# Concatenate df_gnomad and df_non_spl\n",
    "tn = pd.concat([df_gnomad, df_non_spl], ignore_index=True)\n",
    "tn = tn.drop_duplicates(subset=['variant_id'], keep='first')"
   ]
  },
  {
   "cell_type": "code",
   "execution_count": 2,
   "metadata": {},
   "outputs": [
    {
     "name": "stdout",
     "output_type": "stream",
     "text": [
      "INFO: Pandarallel will run on 1 workers.\n",
      "INFO: Pandarallel will use standard multiprocessing data transfer (pipe) to transfer data between the main process and workers.\n"
     ]
    }
   ],
   "source": [
    "import pandas as pd\n",
    "import numpy as np\n",
    "from sklearn.metrics import roc_curve\n",
    "from sklearn.metrics import roc_auc_score\n",
    "from sklearn.metrics import confusion_matrix\n",
    "from sklearn.metrics import accuracy_score\n",
    "from sklearn.metrics import precision_score\n",
    "from sklearn.metrics import recall_score\n",
    "from sklearn.metrics import f1_score\n",
    "import matplotlib.pyplot as plt\n",
    "import seaborn as sns\n",
    "import scipy\n",
    "import os, sys\n",
    "from pathlib import Path\n",
    "from pandarallel import pandarallel\n",
    "from tqdm import tqdm\n",
    "\n",
    "import plotly.express as px\n",
    "import plotly.graph_objects as go\n",
    "import plotly.io as pio\n",
    "from plotly.subplots import make_subplots\n",
    "\n",
    "########   Initialize and setup pandas methods   ########\n",
    "pandarallel.initialize(nb_workers=1, progress_bar=False, \n",
    "                       verbose=2, use_memory_fs=False) \n",
    "os.environ['JOBLIB_TEMP_FOLDER'] = '/tmp' \n",
    "\n",
    "try: \n",
    "    __file__\n",
    "    sys.path.append(os.path.join(os.path.dirname('__file__')))\n",
    "except NameError:\n",
    "    Path().resolve()\n",
    "    sys.path.append(os.path.join(Path().resolve(), '../../'))\n",
    "\n",
    "from libs.scoring import Scoring\n",
    "\n",
    "import warnings\n",
    "warnings.simplefilter('ignore')"
   ]
  },
  {
   "cell_type": "code",
   "execution_count": 3,
   "metadata": {},
   "outputs": [
    {
     "name": "stdout",
     "output_type": "stream",
     "text": [
      "Total solutions found: 4850\n"
     ]
    }
   ],
   "source": [
    "def specificity_sensitivity_plotly(data):\n",
    "    thresholds = np.arange(0, 11, 1)\n",
    "    results = []\n",
    "\n",
    "    for threshold in thresholds:\n",
    "        tp = data[(data['PriorityScore'] >= threshold) & (data['LABEL'] == 1)].shape[0]\n",
    "        fn = data[(data['PriorityScore'] < threshold) & (data['LABEL'] == 1)].shape[0]\n",
    "        tn = data[(data['PriorityScore'] < threshold) & (data['LABEL'] == 0)].shape[0]\n",
    "        fp = data[(data['PriorityScore'] >= threshold) & (data['LABEL'] == 0)].shape[0]\n",
    "        specificity = tn / (tn + fp) if (tn + fp) else 0\n",
    "        sensitivity = tp / (tp + fn) if (tp + fn) else 0\n",
    "        # print(f\"Threshold: {threshold}, TP: {tp}, FN: {fn}, TN: {tn}, FP: {fp}\")\n",
    "        # print(f\"Threshold: {threshold}, Specificity: {specificity:.6f}, Sensitivity: {sensitivity:.6f}\")\n",
    "        results.append({'Threshold': threshold, 'Metric': 'Specificity', 'Value': specificity})\n",
    "        results.append({'Threshold': threshold, 'Metric': 'Sensitivity', 'Value': sensitivity})\n",
    "\n",
    "    results_df = pd.DataFrame(results)\n",
    "    return results_df\n",
    "\n",
    "def plot_sensitivity_specificity_plotly(\n",
    "        results_df: pd.DataFrame, w: int, h: int):\n",
    "    # Separate the dataframes for specificity and sensitivity\n",
    "    specificity_df = results_df[results_df['Metric'] == 'Specificity']\n",
    "    sensitivity_df = results_df[results_df['Metric'] == 'Sensitivity']\n",
    "\n",
    "    # Plotly Graph Objectsを使用してプロット\n",
    "    fig = go.Figure()\n",
    "\n",
    "    # 特異性\n",
    "    fig.add_trace(go.Scatter(\n",
    "        x=specificity_df['Threshold'],\n",
    "        y=specificity_df['Value'],\n",
    "        marker=dict(color='#665990'),\n",
    "        mode='lines+markers',\n",
    "        name='Specificity',\n",
    "        text=[f'Threshold: {th}, Specificity: {val:.3f}' for th, val in zip(specificity_df['Threshold'], specificity_df['Value'])],\n",
    "        hoverinfo='text'\n",
    "    ))\n",
    "    \n",
    "    # 感度\n",
    "    fig.add_trace(go.Scatter(\n",
    "        x=sensitivity_df['Threshold'],\n",
    "        y=sensitivity_df['Value'],\n",
    "        marker=dict(color='#F8ACAC'),\n",
    "        mode='lines+markers',\n",
    "        name='Sensitivity',\n",
    "        text=[f'Threshold: {th}, Sensitivity: {val:.3f}' for th, val in zip(sensitivity_df['Threshold'], sensitivity_df['Value'])],\n",
    "        hoverinfo='text'\n",
    "    ))\n",
    "\n",
    "    # Y軸のフォーマット設定\n",
    "    fig.update_yaxes(tickformat=\".1f\")\n",
    "\n",
    "    # グラフのレイアウト設定\n",
    "    fig.update_layout(title='Sensitivity and Specificity for each threshold',\n",
    "                      xaxis_title='Threshold',\n",
    "                      yaxis_title='Sensitivity/Specificity',\n",
    "                      plot_bgcolor='rgba(243, 243, 243, 1)',\n",
    "                      paper_bgcolor='rgba(243, 243, 243, 0)',\n",
    "                      font=dict(family=\"Arial, sans-serif\", size=12, color=\"black\"),\n",
    "                      legend=dict(y=0.075, x=0.75, xanchor='right', yanchor='bottom', \n",
    "                              bgcolor='rgba(243, 243, 243, 1)',\n",
    "                              font=dict(family=\"Arial, sans-serif\", size=12, color=\"black\"))\n",
    "                              )\n",
    "\n",
    "    # グラフサイズの調整\n",
    "    fig.update_layout(width=w, height=h)\n",
    "    fig.write_html(\"sensitivity_specificity_plot.html\")\n",
    "\n",
    "    # fig.show()\n",
    "    return fig\n",
    "\n",
    "def plot_sensitivity_specificity_plotly_without_legened(results_df):\n",
    "    # Separate the dataframes for specificity and sensitivity\n",
    "    specificity_df = results_df[results_df['Metric'] == 'Specificity']\n",
    "    sensitivity_df = results_df[results_df['Metric'] == 'Sensitivity']\n",
    "\n",
    "    # Plotly Graph Objectsを使用してプロット\n",
    "    fig = go.Figure()\n",
    "\n",
    "    # 特異性\n",
    "    fig.add_trace(go.Scatter(\n",
    "        x=specificity_df['Threshold'],\n",
    "        y=specificity_df['Value'],\n",
    "        marker=dict(color='green'),\n",
    "        mode='lines+markers',\n",
    "        name='Specificity',\n",
    "        text=[f'Threshold: {th}, Specificity: {val:.8f}' for th, val in zip(specificity_df['Threshold'], specificity_df['Value'])],\n",
    "        hoverinfo='text',\n",
    "        showlegend=False \n",
    "    ))\n",
    "    \n",
    "    # 感度\n",
    "    fig.add_trace(go.Scatter(\n",
    "        x=sensitivity_df['Threshold'],\n",
    "        y=sensitivity_df['Value'],\n",
    "        marker=dict(color='orange'),\n",
    "        mode='lines+markers',\n",
    "        name='Sensitivity',\n",
    "        text=[f'Threshold: {th}, Sensitivity: {val:.8f}' for th, val in zip(sensitivity_df['Threshold'], sensitivity_df['Value'])],\n",
    "        hoverinfo='text',\n",
    "        showlegend=False\n",
    "    ))\n",
    "\n",
    "    # Y軸のフォーマット設定\n",
    "    fig.update_yaxes(tickformat=\".1f\")\n",
    "\n",
    "    # グラフのレイアウト設定\n",
    "    fig.update_layout(title='Sensitivity and Specificity for each threshold',\n",
    "                      xaxis_title='Threshold',\n",
    "                      yaxis_title='Sensitivity/Specificity',\n",
    "                      plot_bgcolor='rgba(243, 243, 243, 1)',\n",
    "                      paper_bgcolor='rgba(243, 243, 243, 0)',\n",
    "                      font=dict(family=\"Arial, sans-serif\", size=12, color=\"black\"),\n",
    "                      legend=dict(y=0.075, x=0.75, xanchor='right', yanchor='bottom', \n",
    "                              bgcolor='rgba(243, 243, 243, 1)',\n",
    "                              font=dict(family=\"Arial, sans-serif\", size=12, color=\"black\"))\n",
    "                              )\n",
    "\n",
    "    # グラフサイズの調整\n",
    "    fig.update_layout(width=600, height=600)\n",
    "    fig.write_html(\"sensitivity_specificity_plot.html\")\n",
    "\n",
    "    # fig.show()\n",
    "    return fig\n",
    "\n",
    "\n",
    "# Code below is adapted from Netflix's VMAF and BesenbacherLab's ROC-utils\n",
    "# https://github.com/Netflix/vmaf/\n",
    "# https://github.com/BesenbacherLab/ROC-utils\n",
    "# Modifications: np.float -> np.float64\n",
    "\n",
    "def compute_midrank(x):\n",
    "    \"\"\"Computes midranks.\n",
    "    Args:\n",
    "       x - a 1D numpy array\n",
    "    Returns:\n",
    "       array of midranks\n",
    "    \"\"\"\n",
    "    J = np.argsort(x)\n",
    "    Z = x[J]\n",
    "    N = len(x)\n",
    "    T = np.zeros(N, dtype=np.float64)\n",
    "    i = 0\n",
    "    while i < N:\n",
    "        j = i\n",
    "        while j < N and Z[j] == Z[i]:\n",
    "            j += 1\n",
    "        T[i:j] = 0.5*(i + j - 1)\n",
    "        i = j\n",
    "    T2 = np.empty(N, dtype=np.float64)\n",
    "    # Note(kazeevn) +1 is due to Python using 0-based indexing\n",
    "    # instead of 1-based in the AUC formula in the paper\n",
    "    T2[J] = T + 1\n",
    "    return T2\n",
    "\n",
    "\n",
    "def fastDeLong(predictions_sorted_transposed, label_1_count):\n",
    "    \"\"\"\n",
    "    The fast version of DeLong's method for computing the covariance of\n",
    "    unadjusted AUC.\n",
    "    Args:\n",
    "       predictions_sorted_transposed: a 2D numpy.array[n_classifiers, n_examples]\n",
    "          sorted such as the examples with label \"1\" are first\n",
    "    Returns:\n",
    "       (AUC value, DeLong covariance)\n",
    "    Reference:\n",
    "     @article{sun2014fast,\n",
    "       title={Fast Implementation of DeLong's Algorithm for\n",
    "              Comparing the Areas Under Correlated Receiver Operating Characteristic Curves},\n",
    "       author={Xu Sun and Weichao Xu},\n",
    "       journal={IEEE Signal Processing Letters},\n",
    "       volume={21},\n",
    "       number={11},\n",
    "       pages={1389--1393},\n",
    "       year={2014},\n",
    "       publisher={IEEE}\n",
    "     }\n",
    "    \"\"\"\n",
    "    # Short variables are named as they are in the paper\n",
    "    m = label_1_count\n",
    "    n = predictions_sorted_transposed.shape[1] - m\n",
    "    positive_examples = predictions_sorted_transposed[:, :m]\n",
    "    negative_examples = predictions_sorted_transposed[:, m:]\n",
    "    k = predictions_sorted_transposed.shape[0]\n",
    "\n",
    "    tx = np.empty([k, m], dtype=np.float64)\n",
    "    ty = np.empty([k, n], dtype=np.float64)\n",
    "    tz = np.empty([k, m + n], dtype=np.float64)\n",
    "    for r in range(k):\n",
    "        tx[r, :] = compute_midrank(positive_examples[r, :])\n",
    "        ty[r, :] = compute_midrank(negative_examples[r, :])\n",
    "        tz[r, :] = compute_midrank(predictions_sorted_transposed[r, :])\n",
    "    aucs = tz[:, :m].sum(axis=1) / m / n - float(m + 1.0) / 2.0 / n\n",
    "    v01 = (tz[:, :m] - tx[:, :]) / n\n",
    "    v10 = 1.0 - (tz[:, m:] - ty[:, :]) / m\n",
    "    sx = np.cov(v01)\n",
    "    sy = np.cov(v10)\n",
    "    delongcov = sx / m + sy / n\n",
    "    return aucs, delongcov\n",
    "\n",
    "\n",
    "def calc_pvalue(aucs, sigma):\n",
    "    \"\"\"Computes log(10) of p-values.\n",
    "    Args:\n",
    "       aucs: 1D array of AUCs\n",
    "       sigma: AUC DeLong covariances\n",
    "    Returns:\n",
    "       log10(pvalue)\n",
    "    \"\"\"\n",
    "    l = np.array([[1, -1]])\n",
    "    z = np.abs(np.diff(aucs)) / np.sqrt(np.dot(np.dot(l, sigma), l.T))\n",
    "    return np.log10(2) + scipy.stats.norm.logsf(z, loc=0, scale=1) / np.log(10)\n",
    "\n",
    "\n",
    "def compute_ground_truth_statistics(ground_truth):\n",
    "    assert np.array_equal(np.unique(ground_truth), [0, 1])\n",
    "    order = (-ground_truth).argsort()\n",
    "    label_1_count = int(ground_truth.sum())\n",
    "    return order, label_1_count\n",
    "\n",
    "\n",
    "def delong_roc_variance(ground_truth, predictions):\n",
    "    \"\"\"\n",
    "    Computes ROC AUC variance for a single set of predictions\n",
    "    Args:\n",
    "       ground_truth: np.array of 0 and 1\n",
    "       predictions: np.array of floats of the probability of being class 1\n",
    "    \"\"\"\n",
    "    order, label_1_count = compute_ground_truth_statistics(ground_truth)\n",
    "    predictions_sorted_transposed = predictions[np.newaxis, order]\n",
    "    aucs, delongcov = fastDeLong(predictions_sorted_transposed, label_1_count)\n",
    "    assert len(aucs) == 1, \"There is a bug in the code, please forward this to the developers\"\n",
    "    return aucs[0], delongcov\n",
    "\n",
    "\n",
    "def delong_roc_test(ground_truth, predictions_one, predictions_two):\n",
    "    \"\"\"\n",
    "    Computes log(p-value) for hypothesis that two ROC AUCs are different\n",
    "    Args:\n",
    "       ground_truth: np.array of 0 and 1\n",
    "       predictions_one: predictions of the first model,\n",
    "          np.array of floats of the probability of being class 1\n",
    "       predictions_two: predictions of the second model,\n",
    "          np.array of floats of the probability of being class 1\n",
    "    \"\"\"\n",
    "    order, label_1_count = compute_ground_truth_statistics(ground_truth)\n",
    "    predictions_sorted_transposed = np.vstack((predictions_one, predictions_two))[:, order]\n",
    "    aucs, delongcov = fastDeLong(predictions_sorted_transposed, label_1_count)\n",
    "    return calc_pvalue(aucs, delongcov)\n",
    "\n",
    "# Calculate AUC confidence interval (95%)\n",
    "def compute_auc_confidence_interval(auc, var, confidence_level=0.95):\n",
    "    alpha = 1 - confidence_level\n",
    "    z_score = scipy.stats.norm.ppf(1 - alpha/2)  # 2-tailed z score\n",
    "    se = np.sqrt(var)  # Calculate SE from variance\n",
    "    lower_bound = auc - z_score * se\n",
    "    upper_bound = auc + z_score * se\n",
    "    return lower_bound, upper_bound\n",
    "\n",
    "\n",
    "from ortools.sat.python import cp_model\n",
    "\n",
    "class SolutionCollector(cp_model.CpSolverSolutionCallback):\n",
    "    def __init__(self, variables):\n",
    "        cp_model.CpSolverSolutionCallback.__init__(self)\n",
    "        self.__variables = variables\n",
    "        self.__solutions = []\n",
    "\n",
    "    def OnSolutionCallback(self):\n",
    "        solution = {v.Name(): self.Value(v) for v in self.__variables}\n",
    "        self.__solutions.append(solution)\n",
    "\n",
    "    def GetAllSolutions(self):\n",
    "        return self.__solutions\n",
    "\n",
    "def find_all_solutions():\n",
    "    # モデルを初期化\n",
    "    model = cp_model.CpModel()\n",
    "\n",
    "    # 変数の定義\n",
    "    s = {i: model.NewIntVar(-10, 10, f's{i}') for i in range(1, 15)}\n",
    "\n",
    "    # 制約の追加\n",
    "    model.Add(s[3] == 0)                    #\n",
    "    model.Add(s[1] + s[10] + s[14] == 9)    #\n",
    "    model.Add(s[3] + s[11] + s[12] == 0)    #\n",
    "    # model.Add(s[1] + s[7] < 9)\n",
    "    # model.Add(s[10] >= 3)\n",
    "    # model.Add(s[10] <= 7)\n",
    "    \n",
    "    # Knowledge-based\n",
    "    # Absolutes\n",
    "    model.Add(s[2] >= 1)                #\n",
    "    model.Add(s[1] - s[2] > 0)          #   \n",
    "    \n",
    "    # SpliceAI limitation\n",
    "    # Absolutes\n",
    "    model.Add(s[4] < 0)                 #\n",
    "    model.Add(s[5] <= 0)                #\n",
    "    model.Add(s[6] >= 0)                #\n",
    "    # model.Add(s[7] >= 1)\n",
    "    model.Add(s[12] < 0)                #\n",
    "    model.Add(s[13] <= 0)               #\n",
    "    model.Add(s[14] >= 0)               #\n",
    "    # Order\n",
    "    model.Add(s[5] - s[4] > 0)          #\n",
    "    model.Add(s[6] - s[5] > 0)          #\n",
    "    model.Add(s[7] - s[6] > 0)          #\n",
    "    model.Add(s[13] - s[12] > 0)        #\n",
    "    model.Add(s[14] - s[13] > 0)        #\n",
    "    model.Add(s[4] >= s[12])            #\n",
    "\n",
    "    # under limit\n",
    "    # model.Add(s[1] + s[10] + s[12] >= 0)\n",
    "    # model.Add(s[4] <= s[10] + s[12])\n",
    "\n",
    "    # Absolutes\n",
    "    model.Add(s[11] >= 0)               #\n",
    "    # Score order\n",
    "    model.Add(s[9] >= s[7])             #\n",
    "    model.Add(s[8] - s[9] > 0)          #\n",
    "    model.Add(s[10] - s[8] > 0)         #\n",
    "    # model.Add(s[9] - s[11] > 0)         #\n",
    "    model.Add(s[9] - s[11] >= 0)         #\n",
    "\n",
    "\n",
    "    # ソルバの設定と解の探索\n",
    "    solver = cp_model.CpSolver()\n",
    "    solution_collector = SolutionCollector([s[i] for i in range(1, 15)])\n",
    "    solver.SearchForAllSolutions(model, solution_collector)\n",
    "    \n",
    "    # 全ての解を返す\n",
    "    return solution_collector.GetAllSolutions()\n",
    "\n",
    "# 解の計算\n",
    "all_solutions = find_all_solutions()\n",
    "print(f'Total solutions found: {len(all_solutions)}')\n",
    "\n",
    "# Debug and confirm the solutions\n",
    "# for index, solution in enumerate(all_solutions):\n",
    "#     print(f'Solution {index + 1}: {solution}')\n",
    "\n"
   ]
  },
  {
   "cell_type": "code",
   "execution_count": 4,
   "metadata": {},
   "outputs": [],
   "source": [
    "frac = 0.8\n",
    "random_state = 42"
   ]
  },
  {
   "cell_type": "code",
   "execution_count": null,
   "metadata": {},
   "outputs": [],
   "source": [
    "# prepare the results\n",
    "tp['is_Canonical'].replace({True: \"Yes\", False: \"No\"}, inplace=True)\n",
    "tn['is_Canonical'].replace({True: \"Yes\", False: \"No\"}, inplace=True)\n",
    "\n",
    "# Split the data into training and test sets\n",
    "tp_train = tp.sample(frac=frac, random_state=random_state)\n",
    "tp_test = tp.drop(tp_train.index)\n",
    "tn_train = tn.sample(frac=frac, random_state=random_state)\n",
    "tn_test = tn.drop(tn_train.index)\n",
    "\n",
    "# Save the dataframes as pickle files\n",
    "tp_train.to_pickle(f'train_test_pkls/tp_prescore_train_{random_state}.pkl')\n",
    "tp_test.to_pickle(f'train_test_pkls/tp_prescore_test_{random_state}.pkl')\n",
    "tn_train.to_pickle(f'train_test_pkls/tn_prescore_train_{random_state}.pkl')\n",
    "tn_test.to_pickle(f'train_test_pkls/tn_prescore_test_{random_state}.pkl')"
   ]
  },
  {
   "cell_type": "markdown",
   "metadata": {},
   "source": [
    "### Find optimal weights"
   ]
  },
  {
   "cell_type": "code",
   "execution_count": null,
   "metadata": {},
   "outputs": [
    {
     "name": "stdout",
     "output_type": "stream",
     "text": [
      "###  Processed 0 solutions  ###\n",
      "###  Processed 10 solutions  ###\n",
      "###  Processed 20 solutions  ###\n",
      "###  Processed 30 solutions  ###\n",
      "\n",
      "===== New best AUC: 0.9780930580 with solution 41 =======\n",
      "New best solution 40: {'s1': 2, 's2': 1, 's3': 0, 's4': -1, 's5': 0, 's6': 1, 's7': 3, 's8': 5, 's9': 4, 's10': 6, 's11': 1, 's12': -1, 's13': 0, 's14': 1} \n",
      "\n",
      "AUC - Framework (95%CI): 0.978 [0.9768-0.9794]\n",
      "AUC - SpliceAI (95%CI) : 0.976 [0.9748-0.9782]\n",
      "p-value (DeLong Test)  : 1.69e-02\n",
      "\n",
      "===========================================================\n",
      "###  Processed 40 solutions  ###\n",
      "###  Processed 50 solutions  ###\n",
      "\n",
      "===== New best AUC: 0.9786732224 with solution 57 =======\n",
      "New best solution 56: {'s1': 2, 's2': 1, 's3': 0, 's4': -1, 's5': 0, 's6': 1, 's7': 3, 's8': 5, 's9': 4, 's10': 6, 's11': 2, 's12': -2, 's13': 0, 's14': 1} \n",
      "\n",
      "AUC - Framework (95%CI): 0.979 [0.9774-0.9800]\n",
      "AUC - SpliceAI (95%CI) : 0.976 [0.9748-0.9782]\n",
      "p-value (DeLong Test)  : 9.82e-04\n",
      "\n",
      "===========================================================\n",
      "###  Processed 60 solutions  ###\n",
      "###  Processed 70 solutions  ###\n",
      "###  Processed 80 solutions  ###\n",
      "###  Processed 90 solutions  ###\n",
      "###  Processed 100 solutions  ###\n",
      "###  Processed 110 solutions  ###\n",
      "###  Processed 120 solutions  ###\n",
      "###  Processed 130 solutions  ###\n",
      "###  Processed 140 solutions  ###\n",
      "###  Processed 150 solutions  ###\n",
      "###  Processed 160 solutions  ###\n",
      "###  Processed 170 solutions  ###\n",
      "###  Processed 180 solutions  ###\n",
      "###  Processed 190 solutions  ###\n",
      "###  Processed 200 solutions  ###\n",
      "###  Processed 210 solutions  ###\n",
      "###  Processed 220 solutions  ###\n",
      "###  Processed 230 solutions  ###\n",
      "###  Processed 240 solutions  ###\n",
      "###  Processed 250 solutions  ###\n",
      "###  Processed 260 solutions  ###\n",
      "###  Processed 270 solutions  ###\n",
      "###  Processed 280 solutions  ###\n",
      "###  Processed 290 solutions  ###\n",
      "###  Processed 300 solutions  ###\n",
      "###  Processed 310 solutions  ###\n",
      "###  Processed 320 solutions  ###\n",
      "###  Processed 330 solutions  ###\n",
      "###  Processed 340 solutions  ###\n",
      "###  Processed 350 solutions  ###\n",
      "###  Processed 360 solutions  ###\n",
      "###  Processed 370 solutions  ###\n",
      "###  Processed 380 solutions  ###\n",
      "###  Processed 390 solutions  ###\n",
      "###  Processed 400 solutions  ###\n",
      "###  Processed 410 solutions  ###\n",
      "###  Processed 420 solutions  ###\n",
      "###  Processed 430 solutions  ###\n",
      "###  Processed 440 solutions  ###\n",
      "###  Processed 450 solutions  ###\n",
      "###  Processed 460 solutions  ###\n",
      "###  Processed 470 solutions  ###\n",
      "###  Processed 480 solutions  ###\n",
      "###  Processed 490 solutions  ###\n",
      "###  Processed 500 solutions  ###\n",
      "###  Processed 510 solutions  ###\n",
      "###  Processed 520 solutions  ###\n",
      "###  Processed 530 solutions  ###\n",
      "###  Processed 540 solutions  ###\n",
      "###  Processed 550 solutions  ###\n",
      "###  Processed 560 solutions  ###\n",
      "###  Processed 570 solutions  ###\n",
      "###  Processed 580 solutions  ###\n",
      "###  Processed 590 solutions  ###\n",
      "###  Processed 600 solutions  ###\n",
      "###  Processed 610 solutions  ###\n",
      "###  Processed 620 solutions  ###\n",
      "###  Processed 630 solutions  ###\n",
      "###  Processed 640 solutions  ###\n",
      "###  Processed 650 solutions  ###\n",
      "###  Processed 660 solutions  ###\n",
      "###  Processed 670 solutions  ###\n",
      "###  Processed 680 solutions  ###\n",
      "###  Processed 690 solutions  ###\n",
      "###  Processed 700 solutions  ###\n",
      "###  Processed 710 solutions  ###\n",
      "###  Processed 720 solutions  ###\n",
      "###  Processed 730 solutions  ###\n",
      "###  Processed 740 solutions  ###\n",
      "###  Processed 750 solutions  ###\n",
      "###  Processed 760 solutions  ###\n",
      "###  Processed 770 solutions  ###\n",
      "###  Processed 780 solutions  ###\n",
      "###  Processed 790 solutions  ###\n",
      "###  Processed 800 solutions  ###\n",
      "###  Processed 810 solutions  ###\n",
      "###  Processed 820 solutions  ###\n",
      "###  Processed 830 solutions  ###\n",
      "###  Processed 840 solutions  ###\n",
      "###  Processed 850 solutions  ###\n",
      "###  Processed 860 solutions  ###\n",
      "###  Processed 870 solutions  ###\n",
      "###  Processed 880 solutions  ###\n",
      "###  Processed 890 solutions  ###\n",
      "###  Processed 900 solutions  ###\n",
      "###  Processed 910 solutions  ###\n",
      "###  Processed 920 solutions  ###\n",
      "###  Processed 930 solutions  ###\n",
      "###  Processed 940 solutions  ###\n",
      "###  Processed 950 solutions  ###\n",
      "###  Processed 960 solutions  ###\n",
      "###  Processed 970 solutions  ###\n",
      "###  Processed 980 solutions  ###\n",
      "###  Processed 990 solutions  ###\n",
      "###  Processed 1000 solutions  ###\n",
      "###  Processed 1010 solutions  ###\n",
      "###  Processed 1020 solutions  ###\n",
      "###  Processed 1030 solutions  ###\n",
      "###  Processed 1040 solutions  ###\n",
      "###  Processed 1050 solutions  ###\n",
      "###  Processed 1060 solutions  ###\n",
      "###  Processed 1070 solutions  ###\n",
      "###  Processed 1080 solutions  ###\n",
      "###  Processed 1090 solutions  ###\n",
      "###  Processed 1100 solutions  ###\n",
      "###  Processed 1110 solutions  ###\n",
      "###  Processed 1120 solutions  ###\n",
      "###  Processed 1130 solutions  ###\n",
      "###  Processed 1140 solutions  ###\n",
      "###  Processed 1150 solutions  ###\n",
      "###  Processed 1160 solutions  ###\n",
      "###  Processed 1170 solutions  ###\n",
      "###  Processed 1180 solutions  ###\n",
      "###  Processed 1190 solutions  ###\n",
      "###  Processed 1200 solutions  ###\n",
      "###  Processed 1210 solutions  ###\n",
      "###  Processed 1220 solutions  ###\n",
      "###  Processed 1230 solutions  ###\n",
      "###  Processed 1240 solutions  ###\n",
      "###  Processed 1250 solutions  ###\n",
      "###  Processed 1260 solutions  ###\n",
      "###  Processed 1270 solutions  ###\n",
      "###  Processed 1280 solutions  ###\n",
      "###  Processed 1290 solutions  ###\n",
      "###  Processed 1300 solutions  ###\n",
      "###  Processed 1310 solutions  ###\n",
      "###  Processed 1320 solutions  ###\n",
      "###  Processed 1330 solutions  ###\n",
      "###  Processed 1340 solutions  ###\n",
      "###  Processed 1350 solutions  ###\n",
      "###  Processed 1360 solutions  ###\n",
      "###  Processed 1370 solutions  ###\n",
      "###  Processed 1380 solutions  ###\n",
      "###  Processed 1390 solutions  ###\n",
      "###  Processed 1400 solutions  ###\n",
      "###  Processed 1410 solutions  ###\n",
      "###  Processed 1420 solutions  ###\n",
      "###  Processed 1430 solutions  ###\n",
      "###  Processed 1440 solutions  ###\n",
      "###  Processed 1450 solutions  ###\n",
      "###  Processed 1460 solutions  ###\n",
      "###  Processed 1470 solutions  ###\n",
      "###  Processed 1480 solutions  ###\n",
      "###  Processed 1490 solutions  ###\n",
      "###  Processed 1500 solutions  ###\n",
      "###  Processed 1510 solutions  ###\n",
      "###  Processed 1520 solutions  ###\n",
      "###  Processed 1530 solutions  ###\n",
      "###  Processed 1540 solutions  ###\n",
      "###  Processed 1550 solutions  ###\n",
      "###  Processed 1560 solutions  ###\n",
      "###  Processed 1570 solutions  ###\n",
      "###  Processed 1580 solutions  ###\n",
      "###  Processed 1590 solutions  ###\n",
      "###  Processed 1600 solutions  ###\n",
      "###  Processed 1610 solutions  ###\n",
      "###  Processed 1620 solutions  ###\n",
      "###  Processed 1630 solutions  ###\n",
      "###  Processed 1640 solutions  ###\n",
      "###  Processed 1650 solutions  ###\n",
      "###  Processed 1660 solutions  ###\n",
      "###  Processed 1670 solutions  ###\n",
      "###  Processed 1680 solutions  ###\n",
      "###  Processed 1690 solutions  ###\n",
      "###  Processed 1700 solutions  ###\n",
      "###  Processed 1710 solutions  ###\n",
      "###  Processed 1720 solutions  ###\n",
      "###  Processed 1730 solutions  ###\n",
      "###  Processed 1740 solutions  ###\n",
      "###  Processed 1750 solutions  ###\n",
      "###  Processed 1760 solutions  ###\n",
      "###  Processed 1770 solutions  ###\n",
      "###  Processed 1780 solutions  ###\n",
      "###  Processed 1790 solutions  ###\n",
      "###  Processed 1800 solutions  ###\n",
      "###  Processed 1810 solutions  ###\n",
      "###  Processed 1820 solutions  ###\n",
      "###  Processed 1830 solutions  ###\n",
      "###  Processed 1840 solutions  ###\n",
      "###  Processed 1850 solutions  ###\n",
      "###  Processed 1860 solutions  ###\n",
      "###  Processed 1870 solutions  ###\n",
      "###  Processed 1880 solutions  ###\n",
      "###  Processed 1890 solutions  ###\n",
      "###  Processed 1900 solutions  ###\n",
      "###  Processed 1910 solutions  ###\n",
      "###  Processed 1920 solutions  ###\n",
      "###  Processed 1930 solutions  ###\n",
      "###  Processed 1940 solutions  ###\n",
      "###  Processed 1950 solutions  ###\n",
      "###  Processed 1960 solutions  ###\n",
      "###  Processed 1970 solutions  ###\n",
      "###  Processed 1980 solutions  ###\n",
      "###  Processed 1990 solutions  ###\n",
      "###  Processed 2000 solutions  ###\n",
      "###  Processed 2010 solutions  ###\n",
      "###  Processed 2020 solutions  ###\n",
      "###  Processed 2030 solutions  ###\n",
      "###  Processed 2040 solutions  ###\n",
      "###  Processed 2050 solutions  ###\n",
      "###  Processed 2060 solutions  ###\n",
      "###  Processed 2070 solutions  ###\n",
      "###  Processed 2080 solutions  ###\n",
      "###  Processed 2090 solutions  ###\n",
      "###  Processed 2100 solutions  ###\n",
      "###  Processed 2110 solutions  ###\n",
      "###  Processed 2120 solutions  ###\n",
      "###  Processed 2130 solutions  ###\n",
      "###  Processed 2140 solutions  ###\n",
      "###  Processed 2150 solutions  ###\n",
      "###  Processed 2160 solutions  ###\n",
      "###  Processed 2170 solutions  ###\n",
      "###  Processed 2180 solutions  ###\n",
      "###  Processed 2190 solutions  ###\n",
      "###  Processed 2200 solutions  ###\n",
      "###  Processed 2210 solutions  ###\n",
      "###  Processed 2220 solutions  ###\n",
      "###  Processed 2230 solutions  ###\n",
      "###  Processed 2240 solutions  ###\n",
      "###  Processed 2250 solutions  ###\n",
      "###  Processed 2260 solutions  ###\n",
      "###  Processed 2270 solutions  ###\n",
      "###  Processed 2280 solutions  ###\n",
      "###  Processed 2290 solutions  ###\n",
      "###  Processed 2300 solutions  ###\n",
      "###  Processed 2310 solutions  ###\n",
      "###  Processed 2320 solutions  ###\n",
      "###  Processed 2330 solutions  ###\n",
      "###  Processed 2340 solutions  ###\n",
      "###  Processed 2350 solutions  ###\n",
      "###  Processed 2360 solutions  ###\n",
      "###  Processed 2370 solutions  ###\n",
      "###  Processed 2380 solutions  ###\n",
      "###  Processed 2390 solutions  ###\n",
      "###  Processed 2400 solutions  ###\n",
      "###  Processed 2410 solutions  ###\n",
      "###  Processed 2420 solutions  ###\n",
      "###  Processed 2430 solutions  ###\n",
      "###  Processed 2440 solutions  ###\n",
      "###  Processed 2450 solutions  ###\n",
      "###  Processed 2460 solutions  ###\n",
      "###  Processed 2470 solutions  ###\n",
      "###  Processed 2480 solutions  ###\n",
      "###  Processed 2490 solutions  ###\n",
      "###  Processed 2500 solutions  ###\n"
     ]
    }
   ],
   "source": [
    "results = []\n",
    "buf: float = 0.978\n",
    "\n",
    "for i, solution in enumerate(all_solutions):\n",
    "    ths_scores = {'clinvar_same_pos': solution['s1'],\n",
    "            'clinvar_same_motif': solution['s2'],\n",
    "            'clinvar_else': solution['s3'],\n",
    "            'non_canon_splai_lte_0.1_outside': solution['s4'],    \n",
    "            'non_canon_splai_lte_0.1_other': solution['s5'],\n",
    "            'non_canon_splai_bet_0.1_0.2': solution['s6'],\n",
    "            'non_canon_splai_gte_0.2': solution['s7'],\n",
    "            'canon_strong': solution['s8'], \n",
    "            'canon_moderate': solution['s9'], \n",
    "            'frameshift_nmd_eloF': solution['s10'], \n",
    "            'frameshift_nmd_not_eloF': solution['s11'],\n",
    "            'canon_splai_lte_0.1': solution['s12'],\n",
    "            'canon_splai_bet_0.1_0.2': solution['s13'],\n",
    "            'canon_splai_gte_0.2': solution['s14']\n",
    "            }\n",
    "    \n",
    "    scoring = Scoring(ths=ths_scores)\n",
    "\n",
    "    tp_train = pd.read_pickle(f'train_test_pkls/tp_prescore_train_{random_state}.pkl')\n",
    "    tn_train = pd.read_pickle(f'train_test_pkls/tn_prescore_train_{random_state}.pkl')\n",
    "\n",
    "    tp_train['insilico_screening'] = tp_train.parallel_apply(scoring.insilico_screening, axis=1)\n",
    "    tp_train['clinvar_screening'] = tp_train.parallel_apply(scoring.clinvar_screening, axis=1)\n",
    "    tp_train['PriorityScore'] = tp_train.parallel_apply(scoring.calc_priority_score, axis=1)\n",
    "    # tp_train = scoring.calc_priority_score(tp_train)\n",
    "\n",
    "    tn_train['insilico_screening'] = tn_train.parallel_apply(scoring.insilico_screening, axis=1)\n",
    "    tn_train['clinvar_screening'] = tn_train.parallel_apply(scoring.clinvar_screening, axis=1)\n",
    "    tn_train['PriorityScore'] = tn_train.parallel_apply(scoring.calc_priority_score, axis=1)\n",
    "    # tn_train = scoring.calc_priority_score(tn_train)\n",
    "\n",
    "    # Extract the columns needed\n",
    "    tp_train = tp_train[['variant_id', 'LABEL', 'PriorityScore', 'maxsplai']]\n",
    "    tn_train = tn_train[['variant_id', 'LABEL', 'PriorityScore', 'maxsplai']]\n",
    "\n",
    "    ### ========================================================== ##\n",
    "    data = pd.concat([tp_train, tn_train], ignore_index=True)\n",
    "    data.drop_duplicates(subset='variant_id', keep=False, inplace=True)\n",
    "\n",
    "    # Cast the columns to float type\n",
    "    data['LABEL'] = data['LABEL'].astype(int)\n",
    "    # Extract rows with PriorityScore not 'Not available'\n",
    "    data = data[data['PriorityScore'] != 'Not available']\n",
    "    data['PriorityScore'] = data['PriorityScore'].astype(float)\n",
    "    data['maxsplai'] = data['maxsplai'].astype(float)\n",
    "\n",
    "    ## DeLong test and AUC confidence interval\n",
    "    ground_truth = np.array(data['LABEL'])\n",
    "    predictions_fw = np.array(data['PriorityScore'])\n",
    "\n",
    "    auc1, var1 = delong_roc_variance(ground_truth, predictions_fw)\n",
    "    cilower1, ciupper1 = compute_auc_confidence_interval(auc1, var1)\n",
    "\n",
    "    results.append(\n",
    "        {'index': i+1, 's1': solution['s1'], 's2': solution['s2'], \n",
    "         's3': solution['s3'], 's4': solution['s4'], 's5': solution['s5'], \n",
    "         's6': solution['s6'], 's7': solution['s7'], 's8': solution['s8'], \n",
    "         's9': solution['s9'], 's10': solution['s10'], 's11': solution['s11'], \n",
    "         's12': solution['s12'], 's13': solution['s13'], 's14': solution['s14'],\n",
    "         'auROC': f\"{auc1:.10f}, '95% Confidence Interval': {cilower1:.12f}-{ciupper1:.12f}\"\n",
    "        }\n",
    "    )\n",
    "\n",
    "    if auc1 > buf:\n",
    "        buf = auc1\n",
    "        print(f\"\\n===== New best AUC: {auc1:.10f} with solution {i+1} =======\")\n",
    "        print(f\"New best solution {i}: {solution} \\n\")\n",
    "        predictions_sp = np.array(data['maxsplai'])\n",
    "        auc2, var2 = delong_roc_variance(ground_truth, predictions_sp)\n",
    "        cilower2, ciupper2 = compute_auc_confidence_interval(auc2, var2)\n",
    "        p_value_log = delong_roc_test(ground_truth, predictions_fw, predictions_sp)\n",
    "        print(f\"AUC - Framework (95%CI): {auc1:.3f} [{cilower1:.4f}-{ciupper1:.4f}]\")\n",
    "        print(f\"AUC - SpliceAI (95%CI) : {auc2:.3f} [{cilower2:.4f}-{ciupper2:.4f}]\")\n",
    "        print(f\"p-value (DeLong Test)  : {10**p_value_log[0][0]:.2e}\\n\")\n",
    "        print(\"===========================================================\")\n",
    "        \n",
    "    if i % 10 == 0:\n",
    "        print(f\"###  Processed {i} solutions  ###\")\n"
   ]
  },
  {
   "cell_type": "markdown",
   "metadata": {},
   "source": [
    "#### Performance test using test variant set"
   ]
  },
  {
   "cell_type": "code",
   "execution_count": 41,
   "metadata": {},
   "outputs": [],
   "source": [
    "thsdict = {\n",
    "    'opti': \n",
    "            {'clinvar_same_pos': 2,\n",
    "             'clinvar_same_motif': 1,\n",
    "             'clinvar_else': 0,\n",
    "             'non_canon_splai_lte_0.1_outside': -3,\n",
    "             'non_canon_splai_lte_0.1_other': -2,\n",
    "             'non_canon_splai_bet_0.1_0.2': 1,\n",
    "             'non_canon_splai_gte_0.2': 2,\n",
    "             'canon_strong': 6, \n",
    "             'canon_moderate': 5, \n",
    "             'frameshift_nmd_eloF': 7, \n",
    "             'frameshift_nmd_not_eloF': 3,\n",
    "             'canon_splai_lte_0.1': -3,\n",
    "             'canon_splai_bet_0.1_0.2': -1,\n",
    "             'canon_splai_gte_0.2': 0},\n",
    "}\n",
    "\n",
    "thsdict = {\n",
    "    'opti': \n",
    "            {'clinvar_same_pos': 2,\n",
    "             'clinvar_same_motif': 1,\n",
    "             'clinvar_else': 0,\n",
    "             'non_canon_splai_lte_0.1_outside': -1,\n",
    "             'non_canon_splai_lte_0.1_other': 0,\n",
    "             'non_canon_splai_bet_0.1_0.2': 1,\n",
    "             'non_canon_splai_gte_0.2': 3,\n",
    "             'canon_strong': 5, \n",
    "             'canon_moderate': 4, \n",
    "             'frameshift_nmd_eloF': 6, \n",
    "             'frameshift_nmd_not_eloF': 3,\n",
    "             'canon_splai_lte_0.1': -3,\n",
    "             'canon_splai_bet_0.1_0.2': 0,\n",
    "             'canon_splai_gte_0.2': 1},\n",
    "}\n",
    "\n",
    "\n",
    "# Memo\n",
    "# {'s1': 2, 's2': 1, 's3': 0, 's4': -1, 's5': 0, 's6': 1, 's7': 3, 's8': 5, 's9': 4, 's10': 6, 's11': 2, 's12': -2, 's13': 0, 's14': 1}\n",
    "# {'s1': 2, 's2': 1, 's3': 0, 's4': -1, 's5': 0, 's6': 1, 's7': 3, 's8': 5, 's9': 4, 's10': 6, 's11': 2, 's12': -2, 's13': 0, 's14': 1}\n",
    "# {'s1': 2, 's2': 1, 's3': 0, 's4': -1, 's5': 0, 's6': 1, 's7': 3, 's8': 5, 's9': 4, 's10': 6, 's11': 3, 's12': -3, 's13': 0, 's14': 1}\n",
    "\n",
    "thsdict = {\n",
    "    'opti': \n",
    "            {'clinvar_same_pos': 3,\n",
    "             'clinvar_same_motif': 2,\n",
    "             'clinvar_else': 0,\n",
    "             'non_canon_splai_lte_0.1_outside': -4,\n",
    "             'non_canon_splai_lte_0.1_other': -3,\n",
    "             'non_canon_splai_bet_0.1_0.2': 3,\n",
    "             'non_canon_splai_gte_0.2': 4,\n",
    "             'canon_strong': 5, \n",
    "             'canon_moderate': 4, \n",
    "             'frameshift_nmd_eloF': 6, \n",
    "             'frameshift_nmd_not_eloF': 4,\n",
    "             'canon_splai_lte_0.1': -4,\n",
    "             'canon_splai_bet_0.1_0.2': -1,\n",
    "             'canon_splai_gte_0.2': 0},\n",
    "}\n",
    "\n",
    "tp_test = pd.read_pickle(f'train_test_pkls/tp_prescore_test_{random_state}.pkl')\n",
    "tn_test = pd.read_pickle(f'train_test_pkls/tn_prescore_test_{random_state}.pkl')\n",
    "\n",
    "\n",
    "# Exclude not available values\n",
    "tp_test = tp_test[tp_test['ENST_Full'] != \"[Warning] ENST_with_Ver_not_available\"]\n",
    "tn_test = tn_test[tn_test['ENST_Full'] != \"[Warning] ENST_with_Ver_not_available\"]\n",
    "tp_test = tp_test[tp_test['maxsplai'] != \"NA\"]\n",
    "tn_test = tn_test[tn_test['maxsplai'] != \"NA\"]"
   ]
  },
  {
   "cell_type": "code",
   "execution_count": null,
   "metadata": {},
   "outputs": [],
   "source": []
  },
  {
   "cell_type": "code",
   "execution_count": 42,
   "metadata": {},
   "outputs": [
    {
     "name": "stdout",
     "output_type": "stream",
     "text": [
      "AUC - Framework (95%CI): 0.969 [0.9666-0.9721]\n",
      "AUC - SpliceAI (95%CI) : 0.977 [0.9733-0.9801]\n",
      "p-value (DeLong Test)  : 1.19e-10\n"
     ]
    }
   ],
   "source": [
    "ths = thsdict['opti']\n",
    "scoring = Scoring(ths=ths)\n",
    "\n",
    "tp_test['insilico_screening'] = tp_test.parallel_apply(scoring.insilico_screening, axis=1)\n",
    "tp_test['clinvar_screening'] = tp_test.parallel_apply(scoring.clinvar_screening, axis=1)\n",
    "tp_test['PriorityScore'] = tp_test.parallel_apply(scoring.calc_priority_score, axis=1)\n",
    "# tp_test = scoring.calc_priority_score2(tp_test)\n",
    "\n",
    "\n",
    "tn_test['insilico_screening'] = tn_test.parallel_apply(scoring.insilico_screening, axis=1)\n",
    "tn_test['clinvar_screening'] = tn_test.parallel_apply(scoring.clinvar_screening, axis=1)\n",
    "tn_test['PriorityScore'] = tn_test.parallel_apply(scoring.calc_priority_score, axis=1)\n",
    "# tn_test = scoring.calc_priority_score2(tn_test)\n",
    "\n",
    "######### save as tsv \n",
    "tp_test.to_csv('excel/tp_test_score.tsv', sep='\\t', index=False)\n",
    "tn_test.to_csv('excel/tn_test_score.tsv', sep='\\t', index=False)\n",
    "#########\n",
    "\n",
    "# Extract the columns needed\n",
    "tp_test = tp_test[['variant_id', 'LABEL', 'PriorityScore', 'maxsplai']]\n",
    "tn_test = tn_test[['variant_id', 'LABEL', 'PriorityScore', 'maxsplai']]\n",
    "\n",
    "### ========================================================== ##\n",
    "data = pd.concat([tp_test, tn_test], ignore_index=True)\n",
    "data.drop_duplicates(subset='variant_id', keep=False, inplace=True)\n",
    "\n",
    "# Cast the columns to float type\n",
    "data['LABEL'] = data['LABEL'].astype(int)\n",
    "data = data[data['PriorityScore'] != 'Not available']   # Exclude rows with PriorityScore not 'Not available'\n",
    "data['PriorityScore'] = data['PriorityScore'].astype(float)\n",
    "data['maxsplai'] = data['maxsplai'].astype(float)\n",
    "\n",
    "# Plot the sensitivity and specificity for each threshold\n",
    "results_df = specificity_sensitivity_plotly(data)\n",
    "fig_opti = plot_sensitivity_specificity_plotly(results_df, 800, 800)\n",
    "# fig2 = plot_sensitivity_specificity_plotly_without_legened(results_df)\n",
    "# print(tp_test['PriorityScore'].isnull().sum(), tn_test['PriorityScore'].isnull().sum())\n",
    "\n",
    "## DeLong test and AUC confidence interval\n",
    "ground_truth = np.array(data['LABEL'])\n",
    "predictions_fw = np.array(data['PriorityScore'])\n",
    "predictions_sp = np.array(data['maxsplai'])\n",
    "\n",
    "auc1, var1 = delong_roc_variance(ground_truth, predictions_fw)\n",
    "cilower1, ciupper1 = compute_auc_confidence_interval(auc1, var1)\n",
    "auc2, var2 = delong_roc_variance(ground_truth, predictions_sp)\n",
    "cilower2, ciupper2 = compute_auc_confidence_interval(auc2, var2)\n",
    "\n",
    "p_value_log = delong_roc_test(ground_truth, predictions_fw, predictions_sp)\n",
    "\n",
    "print(f\"AUC - Framework (95%CI): {auc1:.3f} [{cilower1:.4f}-{ciupper1:.4f}]\")\n",
    "print(f\"AUC - SpliceAI (95%CI) : {auc2:.3f} [{cilower2:.4f}-{ciupper2:.4f}]\")\n",
    "print(f\"p-value (DeLong Test)  : {10**p_value_log[0][0]:.2e}\")\n"
   ]
  },
  {
   "cell_type": "code",
   "execution_count": 35,
   "metadata": {},
   "outputs": [
    {
     "name": "stdout",
     "output_type": "stream",
     "text": [
      "Optimal threshold (using Youden index): 4.0\n"
     ]
    },
    {
     "data": {
      "application/vnd.plotly.v1+json": {
       "config": {
        "plotlyServerURL": "https://plot.ly"
       },
       "data": [
        {
         "line": {
          "color": "#E41A1C",
          "width": 2
         },
         "mode": "lines",
         "name": "Framework      (0.979 [0.9766-0.9818])",
         "type": "scatter",
         "x": [
          0,
          0,
          0.00002987125489141799,
          0.00002987125489141799,
          0.0002090987842399259,
          0.01514472622994892,
          0.028407563401738507,
          0.07312483197419123,
          0.21838874451115692,
          0.48627415837739346,
          1
         ],
         "y": [
          0,
          0.09267303793802491,
          0.27309585867361713,
          0.42600637127135826,
          0.6747755574862438,
          0.754416449464234,
          0.9281783955980307,
          0.9545322907616566,
          0.9675644367216912,
          0.9956559513466551,
          1
         ]
        },
        {
         "line": {
          "color": "#377EB8",
          "width": 2
         },
         "mode": "lines",
         "name": "SpliceAI Alone (0.977 [0.9733-0.9801])",
         "type": "scatter",
         "x": [
          0,
          0.0002688412940227619,
          0.0009260089016339577,
          0.0018818890581593333,
          0.002359829136422021,
          0.002718284195119037,
          0.003196224273381725,
          0.0034949368222959047,
          0.0037040356065358307,
          0.004092361920124264,
          0.004510559488604116,
          0.0048092720375182965,
          0.004958628311975386,
          0.005317083370672402,
          0.005735280939152254,
          0.006123607252740687,
          0.006571676076111957,
          0.006900259879917555,
          0.007169101173940318,
          0.0074080712130716615,
          0.007617169997311587,
          0.007766526271768677,
          0.008095110075574275,
          0.008423693879379872,
          0.008782148938076889,
          0.009110732741882486,
          0.00934970278101383,
          0.009708157839710846,
          0.010126355408190698,
          0.010634166741344804,
          0.01099262180004182,
          0.011261463094064582,
          0.011560175642978761,
          0.01173940317232727,
          0.011978373211458613,
          0.012277085760372793,
          0.01263554081906981,
          0.013023867132658244,
          0.013442064701138096,
          0.013710905995160857,
          0.01409923230874929,
          0.014427816112554889,
          0.014726528661469068,
          0.01529408250440601,
          0.01574215132777728,
          0.016249962660931386,
          0.016817516503868327,
          0.01741494160169669,
          0.017743525405502284,
          0.018191594228873554,
          0.018729276816919077,
          0.019386444424530275,
          0.019924127012575798,
          0.02049168085551274,
          0.021029363443558265,
          0.021447561012038117,
          0.02213459987454073,
          0.022672282462586252,
          0.023419063834871703,
          0.024195716462048572,
          0.02527108163813962,
          0.026167219284882158,
          0.02703348567673328,
          0.02778026704901873,
          0.028437434656629925,
          0.02969202736206948,
          0.030349194969680676,
          0.03148430265555456,
          0.0327090241061027,
          0.034232458105565015,
          0.03572602085013592,
          0.03698061355557547,
          0.038862502613734806,
          0.04059503539743704,
          0.042088598142007945,
          0.04379125967081877,
          0.04644980135615497,
          0.048958986767034085,
          0.05167727096215312,
          0.05487349523553484,
          0.05765152194043672,
          0.06057890491979568,
          0.06517907817307406,
          0.06951041013232966,
          0.07431968216984795,
          0.07945753801117185,
          0.0851928189503241,
          0.09242166263404726,
          0.0997998625922275,
          0.10768587388356185,
          0.1182304268602324,
          0.12937240493473132,
          0.14338202347880635,
          0.15963198613973772,
          0.17988469695611914,
          0.20396092839860203,
          0.23917913791558384,
          0.2844639603309735,
          0.35095737371926994,
          0.4657227350120979,
          0.7227648833527497,
          1
         ],
         "y": [
          0,
          0.18245004344048654,
          0.3912539820445989,
          0.4755285259194903,
          0.5209962351578338,
          0.5577758470894874,
          0.5852881552273386,
          0.6093252244425138,
          0.6258326093252244,
          0.6420503909643788,
          0.6588473790906458,
          0.6730379380249059,
          0.6883869099333912,
          0.6982334202143065,
          0.7103967564436722,
          0.7193744569939183,
          0.7257457283521576,
          0.7324066029539531,
          0.7405154937735302,
          0.7477555748624385,
          0.7558644656820156,
          0.7642629597451491,
          0.7700550246162757,
          0.774688676513177,
          0.7822183608456414,
          0.7900376484216624,
          0.7972777295105705,
          0.8039386041123661,
          0.8097306689834927,
          0.8155227338546192,
          0.822473211699971,
          0.8273964668404287,
          0.8323197219808862,
          0.8372429771213438,
          0.8415870257746887,
          0.8441934549666956,
          0.8470894874022589,
          0.8511439328120475,
          0.8540399652476107,
          0.8563567911960615,
          0.8609904430929627,
          0.8635968722849696,
          0.8664929047205329,
          0.8702577468867652,
          0.8746017955401101,
          0.8786562409498987,
          0.8832898928467999,
          0.8861859252823632,
          0.8911091804228207,
          0.8937156096148277,
          0.896611642050391,
          0.9006660874601795,
          0.9035621198957429,
          0.9044309296264118,
          0.9067477555748624,
          0.907326962061975,
          0.9079061685490878,
          0.9096437880104257,
          0.910802200984651,
          0.912539820445989,
          0.914277439907327,
          0.9160150593686649,
          0.9180422820735592,
          0.9192006950477846,
          0.9203591080220098,
          0.9215175209962352,
          0.9235447437011295,
          0.9247031566753547,
          0.9261511728931364,
          0.9281783955980307,
          0.9296264118158123,
          0.9325224442513756,
          0.9333912539820446,
          0.9354184766869389,
          0.9365768896611643,
          0.9380249058789458,
          0.9388937156096149,
          0.9400521285838401,
          0.9432377642629598,
          0.9441065739936287,
          0.9458441934549667,
          0.9484506226469737,
          0.9498986388647553,
          0.9516362583260932,
          0.9530842745438749,
          0.9545322907616566,
          0.9556907037358818,
          0.9585867361714451,
          0.9603243556327831,
          0.9614827686070084,
          0.96293078482479,
          0.9643788010425717,
          0.9658268172603534,
          0.9678540399652477,
          0.9693020561830292,
          0.9716188821314798,
          0.9748045178105995,
          0.9753837242977121,
          0.9777005502461628,
          0.984071821604402,
          0.9916015059368665,
          1
         ]
        },
        {
         "line": {
          "color": "gray",
          "dash": "dash",
          "width": 2
         },
         "mode": "lines",
         "name": "Chance",
         "showlegend": false,
         "type": "scatter",
         "x": [
          0,
          1
         ],
         "y": [
          0,
          1
         ]
        },
        {
         "line": {
          "color": "#E41A1C",
          "width": 2
         },
         "mode": "lines",
         "name": "Framework      (0.979 [0.9766-0.9818])",
         "showlegend": false,
         "type": "scatter",
         "x": [
          0,
          0,
          0.00002987125489141799,
          0.00002987125489141799,
          0.0002090987842399259,
          0.01514472622994892,
          0.028407563401738507,
          0.07312483197419123,
          0.21838874451115692,
          0.48627415837739346,
          1
         ],
         "y": [
          0,
          0.09267303793802491,
          0.27309585867361713,
          0.42600637127135826,
          0.6747755574862438,
          0.754416449464234,
          0.9281783955980307,
          0.9545322907616566,
          0.9675644367216912,
          0.9956559513466551,
          1
         ]
        }
       ],
       "layout": {
        "annotations": [
         {
          "bgcolor": "rgba(243, 243, 243, 1)",
          "borderwidth": 2,
          "font": {
           "color": "black",
           "family": "Arial, sans-serif",
           "size": 12
          },
          "showarrow": false,
          "text": "DeLong's test p-value = 3.24e-02",
          "x": 0.6,
          "xref": "paper",
          "y": 0.05,
          "yref": "paper"
         }
        ],
        "height": 600,
        "legend": {
         "bgcolor": "rgba(243, 243, 243, 1)",
         "font": {
          "color": "black",
          "family": "Arial, sans-serif",
          "size": 12
         },
         "title": {
          "text": "Prediction methods (AUC [95%CI])"
         },
         "x": 0.925,
         "xanchor": "right",
         "y": 0.09,
         "yanchor": "bottom"
        },
        "margin": {
         "b": 40,
         "l": 40,
         "r": 40,
         "t": 40
        },
        "paper_bgcolor": "rgba(243, 243, 243, 0)",
        "plot_bgcolor": "rgba(243, 243, 243, 1)",
        "template": {
         "data": {
          "bar": [
           {
            "error_x": {
             "color": "#2a3f5f"
            },
            "error_y": {
             "color": "#2a3f5f"
            },
            "marker": {
             "line": {
              "color": "#E5ECF6",
              "width": 0.5
             },
             "pattern": {
              "fillmode": "overlay",
              "size": 10,
              "solidity": 0.2
             }
            },
            "type": "bar"
           }
          ],
          "barpolar": [
           {
            "marker": {
             "line": {
              "color": "#E5ECF6",
              "width": 0.5
             },
             "pattern": {
              "fillmode": "overlay",
              "size": 10,
              "solidity": 0.2
             }
            },
            "type": "barpolar"
           }
          ],
          "carpet": [
           {
            "aaxis": {
             "endlinecolor": "#2a3f5f",
             "gridcolor": "white",
             "linecolor": "white",
             "minorgridcolor": "white",
             "startlinecolor": "#2a3f5f"
            },
            "baxis": {
             "endlinecolor": "#2a3f5f",
             "gridcolor": "white",
             "linecolor": "white",
             "minorgridcolor": "white",
             "startlinecolor": "#2a3f5f"
            },
            "type": "carpet"
           }
          ],
          "choropleth": [
           {
            "colorbar": {
             "outlinewidth": 0,
             "ticks": ""
            },
            "type": "choropleth"
           }
          ],
          "contour": [
           {
            "colorbar": {
             "outlinewidth": 0,
             "ticks": ""
            },
            "colorscale": [
             [
              0,
              "#0d0887"
             ],
             [
              0.1111111111111111,
              "#46039f"
             ],
             [
              0.2222222222222222,
              "#7201a8"
             ],
             [
              0.3333333333333333,
              "#9c179e"
             ],
             [
              0.4444444444444444,
              "#bd3786"
             ],
             [
              0.5555555555555556,
              "#d8576b"
             ],
             [
              0.6666666666666666,
              "#ed7953"
             ],
             [
              0.7777777777777778,
              "#fb9f3a"
             ],
             [
              0.8888888888888888,
              "#fdca26"
             ],
             [
              1,
              "#f0f921"
             ]
            ],
            "type": "contour"
           }
          ],
          "contourcarpet": [
           {
            "colorbar": {
             "outlinewidth": 0,
             "ticks": ""
            },
            "type": "contourcarpet"
           }
          ],
          "heatmap": [
           {
            "colorbar": {
             "outlinewidth": 0,
             "ticks": ""
            },
            "colorscale": [
             [
              0,
              "#0d0887"
             ],
             [
              0.1111111111111111,
              "#46039f"
             ],
             [
              0.2222222222222222,
              "#7201a8"
             ],
             [
              0.3333333333333333,
              "#9c179e"
             ],
             [
              0.4444444444444444,
              "#bd3786"
             ],
             [
              0.5555555555555556,
              "#d8576b"
             ],
             [
              0.6666666666666666,
              "#ed7953"
             ],
             [
              0.7777777777777778,
              "#fb9f3a"
             ],
             [
              0.8888888888888888,
              "#fdca26"
             ],
             [
              1,
              "#f0f921"
             ]
            ],
            "type": "heatmap"
           }
          ],
          "heatmapgl": [
           {
            "colorbar": {
             "outlinewidth": 0,
             "ticks": ""
            },
            "colorscale": [
             [
              0,
              "#0d0887"
             ],
             [
              0.1111111111111111,
              "#46039f"
             ],
             [
              0.2222222222222222,
              "#7201a8"
             ],
             [
              0.3333333333333333,
              "#9c179e"
             ],
             [
              0.4444444444444444,
              "#bd3786"
             ],
             [
              0.5555555555555556,
              "#d8576b"
             ],
             [
              0.6666666666666666,
              "#ed7953"
             ],
             [
              0.7777777777777778,
              "#fb9f3a"
             ],
             [
              0.8888888888888888,
              "#fdca26"
             ],
             [
              1,
              "#f0f921"
             ]
            ],
            "type": "heatmapgl"
           }
          ],
          "histogram": [
           {
            "marker": {
             "pattern": {
              "fillmode": "overlay",
              "size": 10,
              "solidity": 0.2
             }
            },
            "type": "histogram"
           }
          ],
          "histogram2d": [
           {
            "colorbar": {
             "outlinewidth": 0,
             "ticks": ""
            },
            "colorscale": [
             [
              0,
              "#0d0887"
             ],
             [
              0.1111111111111111,
              "#46039f"
             ],
             [
              0.2222222222222222,
              "#7201a8"
             ],
             [
              0.3333333333333333,
              "#9c179e"
             ],
             [
              0.4444444444444444,
              "#bd3786"
             ],
             [
              0.5555555555555556,
              "#d8576b"
             ],
             [
              0.6666666666666666,
              "#ed7953"
             ],
             [
              0.7777777777777778,
              "#fb9f3a"
             ],
             [
              0.8888888888888888,
              "#fdca26"
             ],
             [
              1,
              "#f0f921"
             ]
            ],
            "type": "histogram2d"
           }
          ],
          "histogram2dcontour": [
           {
            "colorbar": {
             "outlinewidth": 0,
             "ticks": ""
            },
            "colorscale": [
             [
              0,
              "#0d0887"
             ],
             [
              0.1111111111111111,
              "#46039f"
             ],
             [
              0.2222222222222222,
              "#7201a8"
             ],
             [
              0.3333333333333333,
              "#9c179e"
             ],
             [
              0.4444444444444444,
              "#bd3786"
             ],
             [
              0.5555555555555556,
              "#d8576b"
             ],
             [
              0.6666666666666666,
              "#ed7953"
             ],
             [
              0.7777777777777778,
              "#fb9f3a"
             ],
             [
              0.8888888888888888,
              "#fdca26"
             ],
             [
              1,
              "#f0f921"
             ]
            ],
            "type": "histogram2dcontour"
           }
          ],
          "mesh3d": [
           {
            "colorbar": {
             "outlinewidth": 0,
             "ticks": ""
            },
            "type": "mesh3d"
           }
          ],
          "parcoords": [
           {
            "line": {
             "colorbar": {
              "outlinewidth": 0,
              "ticks": ""
             }
            },
            "type": "parcoords"
           }
          ],
          "pie": [
           {
            "automargin": true,
            "type": "pie"
           }
          ],
          "scatter": [
           {
            "fillpattern": {
             "fillmode": "overlay",
             "size": 10,
             "solidity": 0.2
            },
            "type": "scatter"
           }
          ],
          "scatter3d": [
           {
            "line": {
             "colorbar": {
              "outlinewidth": 0,
              "ticks": ""
             }
            },
            "marker": {
             "colorbar": {
              "outlinewidth": 0,
              "ticks": ""
             }
            },
            "type": "scatter3d"
           }
          ],
          "scattercarpet": [
           {
            "marker": {
             "colorbar": {
              "outlinewidth": 0,
              "ticks": ""
             }
            },
            "type": "scattercarpet"
           }
          ],
          "scattergeo": [
           {
            "marker": {
             "colorbar": {
              "outlinewidth": 0,
              "ticks": ""
             }
            },
            "type": "scattergeo"
           }
          ],
          "scattergl": [
           {
            "marker": {
             "colorbar": {
              "outlinewidth": 0,
              "ticks": ""
             }
            },
            "type": "scattergl"
           }
          ],
          "scattermapbox": [
           {
            "marker": {
             "colorbar": {
              "outlinewidth": 0,
              "ticks": ""
             }
            },
            "type": "scattermapbox"
           }
          ],
          "scatterpolar": [
           {
            "marker": {
             "colorbar": {
              "outlinewidth": 0,
              "ticks": ""
             }
            },
            "type": "scatterpolar"
           }
          ],
          "scatterpolargl": [
           {
            "marker": {
             "colorbar": {
              "outlinewidth": 0,
              "ticks": ""
             }
            },
            "type": "scatterpolargl"
           }
          ],
          "scatterternary": [
           {
            "marker": {
             "colorbar": {
              "outlinewidth": 0,
              "ticks": ""
             }
            },
            "type": "scatterternary"
           }
          ],
          "surface": [
           {
            "colorbar": {
             "outlinewidth": 0,
             "ticks": ""
            },
            "colorscale": [
             [
              0,
              "#0d0887"
             ],
             [
              0.1111111111111111,
              "#46039f"
             ],
             [
              0.2222222222222222,
              "#7201a8"
             ],
             [
              0.3333333333333333,
              "#9c179e"
             ],
             [
              0.4444444444444444,
              "#bd3786"
             ],
             [
              0.5555555555555556,
              "#d8576b"
             ],
             [
              0.6666666666666666,
              "#ed7953"
             ],
             [
              0.7777777777777778,
              "#fb9f3a"
             ],
             [
              0.8888888888888888,
              "#fdca26"
             ],
             [
              1,
              "#f0f921"
             ]
            ],
            "type": "surface"
           }
          ],
          "table": [
           {
            "cells": {
             "fill": {
              "color": "#EBF0F8"
             },
             "line": {
              "color": "white"
             }
            },
            "header": {
             "fill": {
              "color": "#C8D4E3"
             },
             "line": {
              "color": "white"
             }
            },
            "type": "table"
           }
          ]
         },
         "layout": {
          "annotationdefaults": {
           "arrowcolor": "#2a3f5f",
           "arrowhead": 0,
           "arrowwidth": 1
          },
          "autotypenumbers": "strict",
          "coloraxis": {
           "colorbar": {
            "outlinewidth": 0,
            "ticks": ""
           }
          },
          "colorscale": {
           "diverging": [
            [
             0,
             "#8e0152"
            ],
            [
             0.1,
             "#c51b7d"
            ],
            [
             0.2,
             "#de77ae"
            ],
            [
             0.3,
             "#f1b6da"
            ],
            [
             0.4,
             "#fde0ef"
            ],
            [
             0.5,
             "#f7f7f7"
            ],
            [
             0.6,
             "#e6f5d0"
            ],
            [
             0.7,
             "#b8e186"
            ],
            [
             0.8,
             "#7fbc41"
            ],
            [
             0.9,
             "#4d9221"
            ],
            [
             1,
             "#276419"
            ]
           ],
           "sequential": [
            [
             0,
             "#0d0887"
            ],
            [
             0.1111111111111111,
             "#46039f"
            ],
            [
             0.2222222222222222,
             "#7201a8"
            ],
            [
             0.3333333333333333,
             "#9c179e"
            ],
            [
             0.4444444444444444,
             "#bd3786"
            ],
            [
             0.5555555555555556,
             "#d8576b"
            ],
            [
             0.6666666666666666,
             "#ed7953"
            ],
            [
             0.7777777777777778,
             "#fb9f3a"
            ],
            [
             0.8888888888888888,
             "#fdca26"
            ],
            [
             1,
             "#f0f921"
            ]
           ],
           "sequentialminus": [
            [
             0,
             "#0d0887"
            ],
            [
             0.1111111111111111,
             "#46039f"
            ],
            [
             0.2222222222222222,
             "#7201a8"
            ],
            [
             0.3333333333333333,
             "#9c179e"
            ],
            [
             0.4444444444444444,
             "#bd3786"
            ],
            [
             0.5555555555555556,
             "#d8576b"
            ],
            [
             0.6666666666666666,
             "#ed7953"
            ],
            [
             0.7777777777777778,
             "#fb9f3a"
            ],
            [
             0.8888888888888888,
             "#fdca26"
            ],
            [
             1,
             "#f0f921"
            ]
           ]
          },
          "colorway": [
           "#636efa",
           "#EF553B",
           "#00cc96",
           "#ab63fa",
           "#FFA15A",
           "#19d3f3",
           "#FF6692",
           "#B6E880",
           "#FF97FF",
           "#FECB52"
          ],
          "font": {
           "color": "#2a3f5f"
          },
          "geo": {
           "bgcolor": "white",
           "lakecolor": "white",
           "landcolor": "#E5ECF6",
           "showlakes": true,
           "showland": true,
           "subunitcolor": "white"
          },
          "hoverlabel": {
           "align": "left"
          },
          "hovermode": "closest",
          "mapbox": {
           "style": "light"
          },
          "paper_bgcolor": "white",
          "plot_bgcolor": "#E5ECF6",
          "polar": {
           "angularaxis": {
            "gridcolor": "white",
            "linecolor": "white",
            "ticks": ""
           },
           "bgcolor": "#E5ECF6",
           "radialaxis": {
            "gridcolor": "white",
            "linecolor": "white",
            "ticks": ""
           }
          },
          "scene": {
           "xaxis": {
            "backgroundcolor": "#E5ECF6",
            "gridcolor": "white",
            "gridwidth": 2,
            "linecolor": "white",
            "showbackground": true,
            "ticks": "",
            "zerolinecolor": "white"
           },
           "yaxis": {
            "backgroundcolor": "#E5ECF6",
            "gridcolor": "white",
            "gridwidth": 2,
            "linecolor": "white",
            "showbackground": true,
            "ticks": "",
            "zerolinecolor": "white"
           },
           "zaxis": {
            "backgroundcolor": "#E5ECF6",
            "gridcolor": "white",
            "gridwidth": 2,
            "linecolor": "white",
            "showbackground": true,
            "ticks": "",
            "zerolinecolor": "white"
           }
          },
          "shapedefaults": {
           "line": {
            "color": "#2a3f5f"
           }
          },
          "ternary": {
           "aaxis": {
            "gridcolor": "white",
            "linecolor": "white",
            "ticks": ""
           },
           "baxis": {
            "gridcolor": "white",
            "linecolor": "white",
            "ticks": ""
           },
           "bgcolor": "#E5ECF6",
           "caxis": {
            "gridcolor": "white",
            "linecolor": "white",
            "ticks": ""
           }
          },
          "title": {
           "x": 0.05
          },
          "xaxis": {
           "automargin": true,
           "gridcolor": "white",
           "linecolor": "white",
           "ticks": "",
           "title": {
            "standoff": 15
           },
           "zerolinecolor": "white",
           "zerolinewidth": 2
          },
          "yaxis": {
           "automargin": true,
           "gridcolor": "white",
           "linecolor": "white",
           "ticks": "",
           "title": {
            "standoff": 15
           },
           "zerolinecolor": "white",
           "zerolinewidth": 2
          }
         }
        },
        "title": {
         "text": "ROC Curve Comparison"
        },
        "width": 600,
        "xaxis": {
         "range": [
          -0.05,
          1.05
         ],
         "title": {
          "text": "False Positive Rate"
         }
        },
        "yaxis": {
         "range": [
          -0.05,
          1.05
         ],
         "title": {
          "text": "True Positive Rate"
         }
        }
       }
      }
     },
     "metadata": {},
     "output_type": "display_data"
    }
   ],
   "source": [
    "def specificity_sensitivity_plotly(data):\n",
    "    thresholds = [0, 1, 2, 3, 4, 5, 6, 7, 8, 9]\n",
    "    results = []\n",
    "\n",
    "    for threshold in thresholds:\n",
    "        tp = data[(data['PriorityScore'] >= threshold) & (data['LABEL'] == 1)].shape[0]\n",
    "        fn = data[(data['PriorityScore'] < threshold) & (data['LABEL'] == 1)].shape[0]\n",
    "        tn = data[(data['PriorityScore'] < threshold) & (data['LABEL'] == 0)].shape[0]\n",
    "        fp = data[(data['PriorityScore'] >= threshold) & (data['LABEL'] == 0)].shape[0]\n",
    "        specificity = tn / (tn + fp) if (tn + fp) else 0\n",
    "        sensitivity = tp / (tp + fn) if (tp + fn) else 0\n",
    "        results.append({'Threshold': threshold, 'Metric': 'Specificity', 'Value': specificity})\n",
    "        results.append({'Threshold': threshold, 'Metric': 'Sensitivity', 'Value': sensitivity})\n",
    "\n",
    "    return results_df\n",
    "\n",
    "import plotly.graph_objects as go\n",
    "import numpy as np\n",
    "from sklearn.metrics import roc_curve, roc_auc_score\n",
    "\n",
    "# ROC curve (LABEL, PriorityScore)\n",
    "fpr1, tpr1, thresholds1 = roc_curve(data['LABEL'], data['PriorityScore'])\n",
    "auc1 = roc_auc_score(data['LABEL'], data['PriorityScore'])\n",
    "\n",
    "fpr2, tpr2, thresholds2 = roc_curve(data['LABEL'], data['maxsplai'])\n",
    "auc2 = roc_auc_score(data['LABEL'], data['maxsplai'])\n",
    "\n",
    "# Calculate optimal threshold from ROC curve by Youden's J statistic\n",
    "Youden_index = np.argmax(tpr1 - fpr1)\n",
    "optimal_threshold = thresholds1[Youden_index]\n",
    "print('Optimal threshold (using Youden index):', optimal_threshold)\n",
    "\n",
    "# plot ROC curve using Plotly\n",
    "fig = go.Figure()\n",
    "\n",
    "# Add traces\n",
    "fig.add_trace(go.Scatter(\n",
    "    x=fpr1, y=tpr1, mode='lines', \n",
    "    name=f\"Framework      ({auc1:.3f} [{cilower1:.4f}-{ciupper1:.4f}])\", \n",
    "    line=dict(color='#E41A1C', width=2))\n",
    "    )\n",
    "fig.add_trace(go.Scatter(\n",
    "    x=fpr2, y=tpr2, mode='lines', \n",
    "    name=f\"SpliceAI Alone ({auc2:.3f} [{cilower2:.4f}-{ciupper2:.4f}])\", \n",
    "    line=dict(color='#377EB8', width=2))\n",
    "    )\n",
    "fig.add_trace(go.Scatter(\n",
    "    x=[0, 1], y=[0, 1], mode='lines', name='Chance', \n",
    "    line=dict(color='gray', width=2, dash='dash'), showlegend=False)\n",
    "    )\n",
    "\n",
    "# Add an annotation\n",
    "fig.add_annotation(x=0.6, y=0.05, xref=\"paper\", yref=\"paper\",\n",
    "                   text=f\"DeLong's test p-value = {10**p_value_log[0][0]:.2e}\",\n",
    "                   showarrow=False,\n",
    "                   font=dict(family=\"Arial, sans-serif\", size=12, color=\"black\"),\n",
    "                   bgcolor='rgba(243, 243, 243, 1)',\n",
    "                #    bordercolor=\"black\",\n",
    "                   borderwidth=2)\n",
    "\n",
    "# Add titles and labels\n",
    "fig.update_layout(title='ROC Curve Comparison',\n",
    "                  xaxis_title='False Positive Rate',\n",
    "                  yaxis_title='True Positive Rate',\n",
    "                  legend_title='Prediction methods (AUC [95%CI])',\n",
    "                  plot_bgcolor='rgba(243, 243, 243, 1)',\n",
    "                  paper_bgcolor='rgba(243, 243, 243, 0)',\n",
    "                  legend=dict(y=0.09, x=0.925, xanchor='right', yanchor='bottom', \n",
    "                              bgcolor='rgba(243, 243, 243, 1)',\n",
    "                              font=dict(family=\"Arial, sans-serif\", size=12, color=\"black\")),\n",
    "                  margin=dict(l=40, r=40, t=40, b=40))\n",
    "\n",
    "fig.update_xaxes(range=[-0.05, 1.05])\n",
    "fig.update_yaxes(range=[-0.05, 1.05])\n",
    "fig.update_layout(width=600, height=600)\n",
    "fig.write_html(\"roc-auc.html\")\n",
    "\n",
    "# Add zoomed-in ROC curve in the top left corner\n",
    "fig.add_trace(go.Scatter(\n",
    "    x=fpr1, y=tpr1, mode='lines', \n",
    "    name=f\"Framework      ({auc1:.3f} [{cilower1:.4f}-{ciupper1:.4f}])\", \n",
    "    line=dict(color='#E41A1C', width=2), showlegend=False)\n",
    "    )\n",
    "\n",
    "\n",
    "# Show figure\n",
    "fig.show()\n"
   ]
  },
  {
   "cell_type": "code",
   "execution_count": 36,
   "metadata": {},
   "outputs": [
    {
     "data": {
      "application/vnd.plotly.v1+json": {
       "config": {
        "plotlyServerURL": "https://plot.ly"
       },
       "data": [
        {
         "marker": {
          "color": "#8dd3c7"
         },
         "name": "Specificity",
         "type": "bar",
         "x": [
          "Framework (4)<br> High sensitivity",
          "Framework (5)<br> High specificity",
          "SpliceAI (0.2)<br> High sensitivity",
          "SpliceAI (0.5)<br> Recommended",
          "SpliceAI (0.8)<br> High precision"
         ],
         "y": [
          0.9715924365982614,
          0.9848552737700511,
          0.9394210950802043,
          0.9806135555754697,
          0.9922334737282313
         ]
        },
        {
         "marker": {
          "color": "#bebada"
         },
         "name": "Sensitivity",
         "type": "bar",
         "x": [
          "Framework (4)<br> High sensitivity",
          "Framework (5)<br> High specificity",
          "SpliceAI (0.2)<br> High sensitivity",
          "SpliceAI (0.5)<br> Recommended",
          "SpliceAI (0.8)<br> High precision"
         ],
         "y": [
          0.9281783955980307,
          0.754416449464234,
          0.9484506226469737,
          0.9006660874601795,
          0.7642629597451491
         ]
        },
        {
         "marker": {
          "color": "#fb8072"
         },
         "name": "Precision",
         "type": "bar",
         "x": [
          "Framework (4)<br> High sensitivity",
          "Framework (5)<br> High specificity",
          "SpliceAI (0.2)<br> High sensitivity",
          "SpliceAI (0.5)<br> Recommended",
          "SpliceAI (0.8)<br> High precision"
         ],
         "y": [
          0.7711742059672763,
          0.837082262210797,
          0.6175749575711861,
          0.8273476988560787,
          0.9103139013452914
         ]
        },
        {
         "marker": {
          "color": "#80b1d3"
         },
         "name": "F-score",
         "type": "bar",
         "x": [
          "Framework (4)<br> High sensitivity",
          "Framework (5)<br> High specificity",
          "SpliceAI (0.2)<br> High sensitivity",
          "SpliceAI (0.5)<br> Recommended",
          "SpliceAI (0.8)<br> High precision"
         ],
         "y": [
          0.8424234459193061,
          0.7936024371667937,
          0.7480584741891275,
          0.8624514697726013,
          0.8309193954659949
         ]
        }
       ],
       "layout": {
        "barmode": "group",
        "height": 600,
        "legend": {
         "bgcolor": "rgba(255, 255, 255, 0.8)",
         "bordercolor": "rgba(0, 0, 0, 0)",
         "font": {
          "color": "black",
          "family": "Arial, sans-serif",
          "size": 12
         },
         "title": {
          "text": "Performance Metrics"
         },
         "x": 0.95,
         "xanchor": "right",
         "y": 0.075,
         "yanchor": "bottom"
        },
        "margin": {
         "b": 40,
         "l": 40,
         "r": 40,
         "t": 40
        },
        "paper_bgcolor": "rgba(243, 243, 243, 0)",
        "plot_bgcolor": "rgba(243, 243, 243, 1)",
        "template": {
         "data": {
          "bar": [
           {
            "error_x": {
             "color": "#2a3f5f"
            },
            "error_y": {
             "color": "#2a3f5f"
            },
            "marker": {
             "line": {
              "color": "#E5ECF6",
              "width": 0.5
             },
             "pattern": {
              "fillmode": "overlay",
              "size": 10,
              "solidity": 0.2
             }
            },
            "type": "bar"
           }
          ],
          "barpolar": [
           {
            "marker": {
             "line": {
              "color": "#E5ECF6",
              "width": 0.5
             },
             "pattern": {
              "fillmode": "overlay",
              "size": 10,
              "solidity": 0.2
             }
            },
            "type": "barpolar"
           }
          ],
          "carpet": [
           {
            "aaxis": {
             "endlinecolor": "#2a3f5f",
             "gridcolor": "white",
             "linecolor": "white",
             "minorgridcolor": "white",
             "startlinecolor": "#2a3f5f"
            },
            "baxis": {
             "endlinecolor": "#2a3f5f",
             "gridcolor": "white",
             "linecolor": "white",
             "minorgridcolor": "white",
             "startlinecolor": "#2a3f5f"
            },
            "type": "carpet"
           }
          ],
          "choropleth": [
           {
            "colorbar": {
             "outlinewidth": 0,
             "ticks": ""
            },
            "type": "choropleth"
           }
          ],
          "contour": [
           {
            "colorbar": {
             "outlinewidth": 0,
             "ticks": ""
            },
            "colorscale": [
             [
              0,
              "#0d0887"
             ],
             [
              0.1111111111111111,
              "#46039f"
             ],
             [
              0.2222222222222222,
              "#7201a8"
             ],
             [
              0.3333333333333333,
              "#9c179e"
             ],
             [
              0.4444444444444444,
              "#bd3786"
             ],
             [
              0.5555555555555556,
              "#d8576b"
             ],
             [
              0.6666666666666666,
              "#ed7953"
             ],
             [
              0.7777777777777778,
              "#fb9f3a"
             ],
             [
              0.8888888888888888,
              "#fdca26"
             ],
             [
              1,
              "#f0f921"
             ]
            ],
            "type": "contour"
           }
          ],
          "contourcarpet": [
           {
            "colorbar": {
             "outlinewidth": 0,
             "ticks": ""
            },
            "type": "contourcarpet"
           }
          ],
          "heatmap": [
           {
            "colorbar": {
             "outlinewidth": 0,
             "ticks": ""
            },
            "colorscale": [
             [
              0,
              "#0d0887"
             ],
             [
              0.1111111111111111,
              "#46039f"
             ],
             [
              0.2222222222222222,
              "#7201a8"
             ],
             [
              0.3333333333333333,
              "#9c179e"
             ],
             [
              0.4444444444444444,
              "#bd3786"
             ],
             [
              0.5555555555555556,
              "#d8576b"
             ],
             [
              0.6666666666666666,
              "#ed7953"
             ],
             [
              0.7777777777777778,
              "#fb9f3a"
             ],
             [
              0.8888888888888888,
              "#fdca26"
             ],
             [
              1,
              "#f0f921"
             ]
            ],
            "type": "heatmap"
           }
          ],
          "heatmapgl": [
           {
            "colorbar": {
             "outlinewidth": 0,
             "ticks": ""
            },
            "colorscale": [
             [
              0,
              "#0d0887"
             ],
             [
              0.1111111111111111,
              "#46039f"
             ],
             [
              0.2222222222222222,
              "#7201a8"
             ],
             [
              0.3333333333333333,
              "#9c179e"
             ],
             [
              0.4444444444444444,
              "#bd3786"
             ],
             [
              0.5555555555555556,
              "#d8576b"
             ],
             [
              0.6666666666666666,
              "#ed7953"
             ],
             [
              0.7777777777777778,
              "#fb9f3a"
             ],
             [
              0.8888888888888888,
              "#fdca26"
             ],
             [
              1,
              "#f0f921"
             ]
            ],
            "type": "heatmapgl"
           }
          ],
          "histogram": [
           {
            "marker": {
             "pattern": {
              "fillmode": "overlay",
              "size": 10,
              "solidity": 0.2
             }
            },
            "type": "histogram"
           }
          ],
          "histogram2d": [
           {
            "colorbar": {
             "outlinewidth": 0,
             "ticks": ""
            },
            "colorscale": [
             [
              0,
              "#0d0887"
             ],
             [
              0.1111111111111111,
              "#46039f"
             ],
             [
              0.2222222222222222,
              "#7201a8"
             ],
             [
              0.3333333333333333,
              "#9c179e"
             ],
             [
              0.4444444444444444,
              "#bd3786"
             ],
             [
              0.5555555555555556,
              "#d8576b"
             ],
             [
              0.6666666666666666,
              "#ed7953"
             ],
             [
              0.7777777777777778,
              "#fb9f3a"
             ],
             [
              0.8888888888888888,
              "#fdca26"
             ],
             [
              1,
              "#f0f921"
             ]
            ],
            "type": "histogram2d"
           }
          ],
          "histogram2dcontour": [
           {
            "colorbar": {
             "outlinewidth": 0,
             "ticks": ""
            },
            "colorscale": [
             [
              0,
              "#0d0887"
             ],
             [
              0.1111111111111111,
              "#46039f"
             ],
             [
              0.2222222222222222,
              "#7201a8"
             ],
             [
              0.3333333333333333,
              "#9c179e"
             ],
             [
              0.4444444444444444,
              "#bd3786"
             ],
             [
              0.5555555555555556,
              "#d8576b"
             ],
             [
              0.6666666666666666,
              "#ed7953"
             ],
             [
              0.7777777777777778,
              "#fb9f3a"
             ],
             [
              0.8888888888888888,
              "#fdca26"
             ],
             [
              1,
              "#f0f921"
             ]
            ],
            "type": "histogram2dcontour"
           }
          ],
          "mesh3d": [
           {
            "colorbar": {
             "outlinewidth": 0,
             "ticks": ""
            },
            "type": "mesh3d"
           }
          ],
          "parcoords": [
           {
            "line": {
             "colorbar": {
              "outlinewidth": 0,
              "ticks": ""
             }
            },
            "type": "parcoords"
           }
          ],
          "pie": [
           {
            "automargin": true,
            "type": "pie"
           }
          ],
          "scatter": [
           {
            "fillpattern": {
             "fillmode": "overlay",
             "size": 10,
             "solidity": 0.2
            },
            "type": "scatter"
           }
          ],
          "scatter3d": [
           {
            "line": {
             "colorbar": {
              "outlinewidth": 0,
              "ticks": ""
             }
            },
            "marker": {
             "colorbar": {
              "outlinewidth": 0,
              "ticks": ""
             }
            },
            "type": "scatter3d"
           }
          ],
          "scattercarpet": [
           {
            "marker": {
             "colorbar": {
              "outlinewidth": 0,
              "ticks": ""
             }
            },
            "type": "scattercarpet"
           }
          ],
          "scattergeo": [
           {
            "marker": {
             "colorbar": {
              "outlinewidth": 0,
              "ticks": ""
             }
            },
            "type": "scattergeo"
           }
          ],
          "scattergl": [
           {
            "marker": {
             "colorbar": {
              "outlinewidth": 0,
              "ticks": ""
             }
            },
            "type": "scattergl"
           }
          ],
          "scattermapbox": [
           {
            "marker": {
             "colorbar": {
              "outlinewidth": 0,
              "ticks": ""
             }
            },
            "type": "scattermapbox"
           }
          ],
          "scatterpolar": [
           {
            "marker": {
             "colorbar": {
              "outlinewidth": 0,
              "ticks": ""
             }
            },
            "type": "scatterpolar"
           }
          ],
          "scatterpolargl": [
           {
            "marker": {
             "colorbar": {
              "outlinewidth": 0,
              "ticks": ""
             }
            },
            "type": "scatterpolargl"
           }
          ],
          "scatterternary": [
           {
            "marker": {
             "colorbar": {
              "outlinewidth": 0,
              "ticks": ""
             }
            },
            "type": "scatterternary"
           }
          ],
          "surface": [
           {
            "colorbar": {
             "outlinewidth": 0,
             "ticks": ""
            },
            "colorscale": [
             [
              0,
              "#0d0887"
             ],
             [
              0.1111111111111111,
              "#46039f"
             ],
             [
              0.2222222222222222,
              "#7201a8"
             ],
             [
              0.3333333333333333,
              "#9c179e"
             ],
             [
              0.4444444444444444,
              "#bd3786"
             ],
             [
              0.5555555555555556,
              "#d8576b"
             ],
             [
              0.6666666666666666,
              "#ed7953"
             ],
             [
              0.7777777777777778,
              "#fb9f3a"
             ],
             [
              0.8888888888888888,
              "#fdca26"
             ],
             [
              1,
              "#f0f921"
             ]
            ],
            "type": "surface"
           }
          ],
          "table": [
           {
            "cells": {
             "fill": {
              "color": "#EBF0F8"
             },
             "line": {
              "color": "white"
             }
            },
            "header": {
             "fill": {
              "color": "#C8D4E3"
             },
             "line": {
              "color": "white"
             }
            },
            "type": "table"
           }
          ]
         },
         "layout": {
          "annotationdefaults": {
           "arrowcolor": "#2a3f5f",
           "arrowhead": 0,
           "arrowwidth": 1
          },
          "autotypenumbers": "strict",
          "coloraxis": {
           "colorbar": {
            "outlinewidth": 0,
            "ticks": ""
           }
          },
          "colorscale": {
           "diverging": [
            [
             0,
             "#8e0152"
            ],
            [
             0.1,
             "#c51b7d"
            ],
            [
             0.2,
             "#de77ae"
            ],
            [
             0.3,
             "#f1b6da"
            ],
            [
             0.4,
             "#fde0ef"
            ],
            [
             0.5,
             "#f7f7f7"
            ],
            [
             0.6,
             "#e6f5d0"
            ],
            [
             0.7,
             "#b8e186"
            ],
            [
             0.8,
             "#7fbc41"
            ],
            [
             0.9,
             "#4d9221"
            ],
            [
             1,
             "#276419"
            ]
           ],
           "sequential": [
            [
             0,
             "#0d0887"
            ],
            [
             0.1111111111111111,
             "#46039f"
            ],
            [
             0.2222222222222222,
             "#7201a8"
            ],
            [
             0.3333333333333333,
             "#9c179e"
            ],
            [
             0.4444444444444444,
             "#bd3786"
            ],
            [
             0.5555555555555556,
             "#d8576b"
            ],
            [
             0.6666666666666666,
             "#ed7953"
            ],
            [
             0.7777777777777778,
             "#fb9f3a"
            ],
            [
             0.8888888888888888,
             "#fdca26"
            ],
            [
             1,
             "#f0f921"
            ]
           ],
           "sequentialminus": [
            [
             0,
             "#0d0887"
            ],
            [
             0.1111111111111111,
             "#46039f"
            ],
            [
             0.2222222222222222,
             "#7201a8"
            ],
            [
             0.3333333333333333,
             "#9c179e"
            ],
            [
             0.4444444444444444,
             "#bd3786"
            ],
            [
             0.5555555555555556,
             "#d8576b"
            ],
            [
             0.6666666666666666,
             "#ed7953"
            ],
            [
             0.7777777777777778,
             "#fb9f3a"
            ],
            [
             0.8888888888888888,
             "#fdca26"
            ],
            [
             1,
             "#f0f921"
            ]
           ]
          },
          "colorway": [
           "#636efa",
           "#EF553B",
           "#00cc96",
           "#ab63fa",
           "#FFA15A",
           "#19d3f3",
           "#FF6692",
           "#B6E880",
           "#FF97FF",
           "#FECB52"
          ],
          "font": {
           "color": "#2a3f5f"
          },
          "geo": {
           "bgcolor": "white",
           "lakecolor": "white",
           "landcolor": "#E5ECF6",
           "showlakes": true,
           "showland": true,
           "subunitcolor": "white"
          },
          "hoverlabel": {
           "align": "left"
          },
          "hovermode": "closest",
          "mapbox": {
           "style": "light"
          },
          "paper_bgcolor": "white",
          "plot_bgcolor": "#E5ECF6",
          "polar": {
           "angularaxis": {
            "gridcolor": "white",
            "linecolor": "white",
            "ticks": ""
           },
           "bgcolor": "#E5ECF6",
           "radialaxis": {
            "gridcolor": "white",
            "linecolor": "white",
            "ticks": ""
           }
          },
          "scene": {
           "xaxis": {
            "backgroundcolor": "#E5ECF6",
            "gridcolor": "white",
            "gridwidth": 2,
            "linecolor": "white",
            "showbackground": true,
            "ticks": "",
            "zerolinecolor": "white"
           },
           "yaxis": {
            "backgroundcolor": "#E5ECF6",
            "gridcolor": "white",
            "gridwidth": 2,
            "linecolor": "white",
            "showbackground": true,
            "ticks": "",
            "zerolinecolor": "white"
           },
           "zaxis": {
            "backgroundcolor": "#E5ECF6",
            "gridcolor": "white",
            "gridwidth": 2,
            "linecolor": "white",
            "showbackground": true,
            "ticks": "",
            "zerolinecolor": "white"
           }
          },
          "shapedefaults": {
           "line": {
            "color": "#2a3f5f"
           }
          },
          "ternary": {
           "aaxis": {
            "gridcolor": "white",
            "linecolor": "white",
            "ticks": ""
           },
           "baxis": {
            "gridcolor": "white",
            "linecolor": "white",
            "ticks": ""
           },
           "bgcolor": "#E5ECF6",
           "caxis": {
            "gridcolor": "white",
            "linecolor": "white",
            "ticks": ""
           }
          },
          "title": {
           "x": 0.05
          },
          "xaxis": {
           "automargin": true,
           "gridcolor": "white",
           "linecolor": "white",
           "ticks": "",
           "title": {
            "standoff": 15
           },
           "zerolinecolor": "white",
           "zerolinewidth": 2
          },
          "yaxis": {
           "automargin": true,
           "gridcolor": "white",
           "linecolor": "white",
           "ticks": "",
           "title": {
            "standoff": 15
           },
           "zerolinecolor": "white",
           "zerolinewidth": 2
          }
         }
        },
        "title": {
         "text": "Performance Metrics Comparison"
        },
        "width": 1000,
        "xaxis": {
         "categoryorder": "array",
         "title": {
          "text": "Methods (cutoff)"
         }
        },
        "yaxis": {
         "title": {
          "text": "Value"
         }
        }
       }
      }
     },
     "metadata": {},
     "output_type": "display_data"
    }
   ],
   "source": [
    "# Compare the performance of the two models\n",
    "# Confusion matrix\n",
    "th_4, th_5 = 4, 5\n",
    "th_02, th_05, th_08 = 0.2, 0.5, 0.8\n",
    "thresholds_fw = [th_4, th_5]\n",
    "thresholds_spl = [th_02, th_05, th_08]\n",
    "\n",
    "def calculate_performance_metrics_fw(data, threshold):\n",
    "    data['Prediction'] = data['PriorityScore'] >= threshold\n",
    "    tn, fp, fn, tp = confusion_matrix(data['LABEL'], data['Prediction']).ravel()\n",
    "    specificity = tn / (tn + fp) if (tn + fp) else 0\n",
    "    sensitivity = tp / (tp + fn) if (tp + fn) else 0\n",
    "    accuracy = accuracy_score(data['LABEL'], data['Prediction'])\n",
    "    precision = precision_score(data['LABEL'], data['Prediction'])\n",
    "    f1 = f1_score(data['LABEL'], data['Prediction'])\n",
    "    return specificity, sensitivity, accuracy, precision, f1\n",
    "\n",
    "def calculate_performance_metrics_spl(data, threshold):\n",
    "    data['Prediction'] = data['maxsplai'] >= threshold\n",
    "    tn, fp, fn, tp = confusion_matrix(data['LABEL'], data['Prediction']).ravel()\n",
    "    specificity = tn / (tn + fp) if (tn + fp) else 0\n",
    "    sensitivity = tp / (tp + fn) if (tp + fn) else 0\n",
    "    accuracy = accuracy_score(data['LABEL'], data['Prediction'])\n",
    "    precision = precision_score(data['LABEL'], data['Prediction'])\n",
    "    \n",
    "    f1 = f1_score(data['LABEL'], data['Prediction'])\n",
    "    return specificity, sensitivity, accuracy, precision, f1\n",
    "\n",
    "performance_metrics = []\n",
    "for threshold in thresholds_fw:\n",
    "    specificity, sensitivity, accuracy, precision, f1 = calculate_performance_metrics_fw(data, threshold)\n",
    "    performance_metrics.append({'Threshold': threshold, 'Specificity': specificity, 'Sensitivity': sensitivity, 'Accuracy': accuracy, 'Precision': precision, 'F1': f1})\n",
    "\n",
    "for threshold in thresholds_spl:\n",
    "    specificity, sensitivity, accuracy, precision, f1 = calculate_performance_metrics_spl(data, threshold)\n",
    "    performance_metrics.append({'Threshold': threshold, 'Specificity': specificity, 'Sensitivity': sensitivity, 'Accuracy': accuracy, 'Precision': precision, 'F1': f1})\n",
    "\n",
    "performance_metrics_df = pd.DataFrame(performance_metrics)\n",
    "columns = ['Category', 'Specificity', 'Sensitivity', 'Accuracy', 'Precision', 'F1']\n",
    "performance_metrics_df.columns = columns\n",
    "performance_metrics_df.replace(\n",
    "    {'Category': {\n",
    "        4.0: 'Framework (4)<br> High sensitivity', \n",
    "        5.0: 'Framework (5)<br> High specificity', \n",
    "        0.2: 'SpliceAI (0.2)<br> High sensitivity', \n",
    "        0.5: 'SpliceAI (0.5)<br> Recommended', \n",
    "        0.8: 'SpliceAI (0.8)<br> High precision'\n",
    "        }}, inplace=True)\n",
    "\n",
    "# print(performance_metrics_df)\n",
    "\n",
    "colors = ['#8dd3c7', '#ffffb3', '#bebada', '#fb8072', '#80b1d3']\n",
    "\n",
    "fig = go.Figure()\n",
    "\n",
    "# Add traces with ggplot2 style\n",
    "fig.add_trace(go.Bar(x=performance_metrics_df['Category'], y=performance_metrics_df['Specificity'], name='Specificity', marker_color=colors[0]))\n",
    "fig.add_trace(go.Bar(x=performance_metrics_df['Category'], y=performance_metrics_df['Sensitivity'], name='Sensitivity', marker_color=colors[2]))\n",
    "# fig.add_trace(go.Bar(x=performance_metrics_df['Category'], y=performance_metrics_df['Accuracy'], name='Accuracy', marker_color=colors[2]))\n",
    "fig.add_trace(go.Bar(x=performance_metrics_df['Category'], y=performance_metrics_df['Precision'], name='Precision', marker_color=colors[3]))\n",
    "fig.add_trace(go.Bar(x=performance_metrics_df['Category'], y=performance_metrics_df['F1'], name='F-score', marker_color=colors[4]))\n",
    "\n",
    "# Add titles and labels with ggplot2 style using bar plot\n",
    "fig.update_layout(title='Performance Metrics Comparison',\n",
    "                  xaxis_title='Methods (cutoff)',\n",
    "                  yaxis_title='Value',\n",
    "                  legend_title='Performance Metrics',\n",
    "                  plot_bgcolor='rgba(243, 243, 243, 1)',\n",
    "                  paper_bgcolor='rgba(243, 243, 243, 0)',\n",
    "                  legend=dict(y=0.075, x=0.95, xanchor='right', yanchor='bottom', \n",
    "                              bgcolor='rgba(255, 255, 255, 0.8)',\n",
    "                              bordercolor='rgba(0, 0, 0, 0)',\n",
    "                              font=dict(family=\"Arial, sans-serif\", size=12, color=\"black\")),\n",
    "                  margin=dict(l=40, r=40, t=40, b=40)\n",
    "                  )\n",
    "\n",
    "# add annotations on top of the bars\n",
    "font = dict(family=\"Arial, sans-serif\", size=9, color=\"black\")\n",
    "# for i, row in performance_metrics_df.iterrows():\n",
    "#     fig.add_annotation(x=row['Category'], y=row['Specificity'], text=f\"{row['Specificity']:.3f}\", showarrow=False, font=font, xshift=-42, yshift=10)\n",
    "#     fig.add_annotation(x=row['Category'], y=row['Sensitivity'], text=f\"{row['Sensitivity']:.3f}\", showarrow=False, font=font, xshift=-14, yshift=10)\n",
    "#     fig.add_annotation(x=row['Category'], y=row['Accuracy'], text=f\"{row['Accuracy']:.3f}\", showarrow=False, font=font, xshift=14, yshift=10)\n",
    "# #     fig.add_annotation(x=row['Category'], y=row['Precision'], text=f\"{row['Precision']:.3f}\", showarrow=False, font=font, xshift=15, yshift=10)\n",
    "#     fig.add_annotation(x=row['Category'], y=row['F1'], text=f\"{row['F1']:.3f}\", showarrow=False, font=font, xshift=42, yshift=10)\n",
    "\n",
    "# fig.add_annotation(x='Framework (2)<br> High sensitivity', \n",
    "#                    y='Specificity', text=\"0.970\", \n",
    "#                    showarrow=False, font=font, xshift=10, yshift=0)\n",
    "\n",
    "\n",
    "fig.update_layout(barmode='group')\n",
    "fig.update_xaxes(categoryorder='total ascending')\n",
    "fig.update_layout(width=1000, height=600)\n",
    "\n",
    "fig.update_xaxes(categoryorder='array')\n",
    "                #  categoryarray=['FW_2', 'FW_3', 'SPL_0.2', 'SPL_0.5', 'SPL_0.8'])\n",
    "fig.write_html(\"performance-metrics.html\")\n",
    "\n",
    "# Show figure\n",
    "fig.show()\n",
    "\n"
   ]
  },
  {
   "cell_type": "code",
   "execution_count": null,
   "metadata": {},
   "outputs": [],
   "source": []
  }
 ],
 "metadata": {
  "kernelspec": {
   "display_name": "nar",
   "language": "python",
   "name": "python3"
  },
  "language_info": {
   "codemirror_mode": {
    "name": "ipython",
    "version": 3
   },
   "file_extension": ".py",
   "mimetype": "text/x-python",
   "name": "python",
   "nbconvert_exporter": "python",
   "pygments_lexer": "ipython3",
   "version": "3.8.20"
  }
 },
 "nbformat": 4,
 "nbformat_minor": 2
}
