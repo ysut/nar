{
 "cells": [
  {
   "cell_type": "code",
   "execution_count": 1,
   "metadata": {},
   "outputs": [
    {
     "name": "stdout",
     "output_type": "stream",
     "text": [
      "INFO: Pandarallel will run on 3 workers.\n",
      "INFO: Pandarallel will use standard multiprocessing data transfer (pipe) to transfer data between the main process and workers.\n"
     ]
    }
   ],
   "source": [
    "import os\n",
    "import pandas as pd\n",
    "import numpy as np\n",
    "import sqlite3\n",
    "from pandarallel import pandarallel\n",
    "\n",
    "pandarallel.initialize(progress_bar=True, nb_workers=os.cpu_count()-1, \n",
    "                       use_memory_fs=False)\n",
    "os.environ['JOBLIB_TEMP_FOLDER'] = '/tmp' "
   ]
  },
  {
   "cell_type": "code",
   "execution_count": 2,
   "metadata": {},
   "outputs": [],
   "source": [
    "mydata = './original.snpeff_parsed.tsv'\n",
    "mydb = './ycudb.db'\n",
    "\n",
    "# Load my data\n",
    "df = pd.read_csv(mydata, sep='\\t', header=0, index_col=False, dtype=str)\n",
    "df['DNA_ID'] = df['sample'].str.split('_').str[1]\n",
    "\n",
    "# Connect to db\n",
    "conn = sqlite3.connect(mydb)\n",
    "c = conn.cursor()"
   ]
  },
  {
   "cell_type": "code",
   "execution_count": 3,
   "metadata": {},
   "outputs": [
    {
     "data": {
      "application/vnd.jupyter.widget-view+json": {
       "model_id": "61d6d274bafa4c139c44bb22b35ed42d",
       "version_major": 2,
       "version_minor": 0
      },
      "text/plain": [
       "VBox(children=(HBox(children=(IntProgress(value=0, description='0.00%', max=7339), Label(value='0 / 7339'))), …"
      ]
     },
     "metadata": {},
     "output_type": "display_data"
    },
    {
     "data": {
      "application/vnd.jupyter.widget-view+json": {
       "model_id": "6d0584d99daa4b88b52f7830aad8fae6",
       "version_major": 2,
       "version_minor": 0
      },
      "text/plain": [
       "VBox(children=(HBox(children=(IntProgress(value=0, description='0.00%', max=7339), Label(value='0 / 7339'))), …"
      ]
     },
     "metadata": {},
     "output_type": "display_data"
    },
    {
     "data": {
      "application/vnd.jupyter.widget-view+json": {
       "model_id": "13a37152f5ab4f6e80704cf229f38ab2",
       "version_major": 2,
       "version_minor": 0
      },
      "text/plain": [
       "VBox(children=(HBox(children=(IntProgress(value=0, description='0.00%', max=7339), Label(value='0 / 7339'))), …"
      ]
     },
     "metadata": {},
     "output_type": "display_data"
    }
   ],
   "source": [
    "# Fetch state info\n",
    "def __fetch_state_from_mailed(query_dna_id) -> str:\n",
    "    sql = f\"SELECT State FROM mailed_samples WHERE DNA_ID = '{query_dna_id}'\"\n",
    "    try:\n",
    "        return c.execute(sql).fetchone()[0]\n",
    "    except TypeError:\n",
    "        return 'None'\n",
    "    \n",
    "def __fetch_state_from_new(query_dna_id) -> str:\n",
    "    sql = f\"SELECT State FROM new_samples WHERE DNA_ID = '{query_dna_id}'\"\n",
    "    try:\n",
    "        return c.execute(sql).fetchone()[0]\n",
    "    except TypeError:\n",
    "        return 'None'\n",
    "\n",
    "def annotate_state(row):\n",
    "    query_dna_id = row['DNA_ID']\n",
    "    if __fetch_state_from_mailed(query_dna_id) != 'None':\n",
    "        return __fetch_state_from_mailed(query_dna_id)\n",
    "    else:\n",
    "        if __fetch_state_from_new(query_dna_id) != 'None':\n",
    "            return __fetch_state_from_new(query_dna_id)\n",
    "        else:\n",
    "            return 'Undetermined'\n",
    "\n",
    "\n",
    "# Fetch disease info\n",
    "def __fetch_disease_from_mailed(query_dna_id) -> str:\n",
    "    sql = f\"SELECT Diagnosis FROM mailed_samples WHERE DNA_ID = '{query_dna_id}'\"\n",
    "    try:\n",
    "        return c.execute(sql).fetchone()[0]\n",
    "    except TypeError:\n",
    "        return 'None'\n",
    "    \n",
    "def __fetch_disease_from_new(query_dna_id) -> str:\n",
    "    sql = f\"SELECT Diagnosis FROM new_samples WHERE DNA_ID = '{query_dna_id}'\"\n",
    "    try:\n",
    "        return c.execute(sql).fetchone()[0]\n",
    "    except TypeError:\n",
    "        return 'None'\n",
    "    \n",
    "def __fetch_disease_from_old(query_dna_id) -> str:\n",
    "    sql = f\"SELECT Diagnosis FROM old_samples WHERE DNA_ID = '{query_dna_id}'\"\n",
    "    try:\n",
    "        return c.execute(sql).fetchone()[0]\n",
    "    except TypeError:\n",
    "        return 'None'\n",
    "    \n",
    "def annotate_disease(row):\n",
    "    query_dna_id = row['DNA_ID']\n",
    "    result = []\n",
    "    if __fetch_disease_from_mailed(query_dna_id) != 'None':\n",
    "        result.append(__fetch_disease_from_mailed(query_dna_id))\n",
    "    else:\n",
    "        pass\n",
    "    if __fetch_disease_from_new(query_dna_id) != 'None':\n",
    "        result.append(__fetch_disease_from_new(query_dna_id))\n",
    "    else:\n",
    "        pass\n",
    "    if __fetch_disease_from_old(query_dna_id) != 'None':\n",
    "        result.append(__fetch_disease_from_old(query_dna_id))\n",
    "    else:\n",
    "        pass\n",
    "\n",
    "    return ','.join(result)\n",
    "\n",
    "\n",
    "# Fetch Identified_Gene info\n",
    "def __fetch_identified_gene_from_mailed(query_dna_id) -> str:\n",
    "    sql = f\"SELECT Identified_Gene FROM mailed_samples WHERE DNA_ID = '{query_dna_id}'\"\n",
    "    if isinstance(c.execute(sql).fetchone(), tuple):\n",
    "        if c.execute(sql).fetchone()[0] is not None:\n",
    "            return c.execute(sql).fetchone()[0]\n",
    "        else:\n",
    "            return 'None'\n",
    "    else:\n",
    "        return 'None'\n",
    "\n",
    "\n",
    "def __fetch_identified_gene_from_new(query_dna_id) -> str:\n",
    "    sql = f\"SELECT Identified_Gene FROM new_samples WHERE DNA_ID = '{query_dna_id}'\"\n",
    "    # if c.execute(sql).fetchone() is not None:\n",
    "    #     return c.execute(sql).fetchone()[0]\n",
    "    # else:\n",
    "    #     return 'None'\n",
    "    \n",
    "    if isinstance(c.execute(sql).fetchone(), tuple):\n",
    "        if c.execute(sql).fetchone()[0] is not None:\n",
    "            return c.execute(sql).fetchone()[0]\n",
    "        else:\n",
    "            return 'None'\n",
    "    else:\n",
    "        return 'None'\n",
    "    \n",
    "    \n",
    "def annotate_identified_gene(row):\n",
    "    query_dna_id = row['DNA_ID']\n",
    "    result = []\n",
    "    if __fetch_identified_gene_from_mailed(query_dna_id) != 'None':\n",
    "        result.append(__fetch_identified_gene_from_mailed(query_dna_id))\n",
    "    else:\n",
    "        pass\n",
    "    if __fetch_identified_gene_from_new(query_dna_id) != 'None':\n",
    "        result.append(__fetch_identified_gene_from_new(query_dna_id))\n",
    "    else:\n",
    "        pass\n",
    "\n",
    "    return ','.join(result)\n",
    "\n",
    "\n",
    "df['Identified_Gene'] = df.parallel_apply(lambda row: annotate_identified_gene(row), axis=1)\n",
    "df['Disease'] = df.parallel_apply(lambda row: annotate_disease(row), axis=1)\n",
    "df['State'] = df.parallel_apply(lambda row: annotate_state(row), axis=1)"
   ]
  },
  {
   "cell_type": "code",
   "execution_count": 4,
   "metadata": {},
   "outputs": [],
   "source": [
    "outfilename = './original.snpeff.state.disease.identifiedgene.tsv'"
   ]
  },
  {
   "cell_type": "code",
   "execution_count": 5,
   "metadata": {},
   "outputs": [],
   "source": [
    "df.to_csv(outfilename, sep='\\t', index=False)"
   ]
  },
  {
   "cell_type": "code",
   "execution_count": 20,
   "metadata": {},
   "outputs": [
    {
     "ename": "TypeError",
     "evalue": "sequence item 0: expected str instance, NoneType found",
     "output_type": "error",
     "traceback": [
      "\u001b[0;31m---------------------------------------------------------------------------\u001b[0m",
      "\u001b[0;31mTypeError\u001b[0m                                 Traceback (most recent call last)",
      "Cell \u001b[0;32mIn[20], line 2\u001b[0m\n\u001b[1;32m      1\u001b[0m result \u001b[38;5;241m=\u001b[39m []\n\u001b[0;32m----> 2\u001b[0m j \u001b[38;5;241m=\u001b[39m \u001b[38;5;124;43m'\u001b[39;49m\u001b[38;5;124;43m,\u001b[39;49m\u001b[38;5;124;43m'\u001b[39;49m\u001b[38;5;241;43m.\u001b[39;49m\u001b[43mjoin\u001b[49m\u001b[43m(\u001b[49m\u001b[43m[\u001b[49m\u001b[38;5;28;43;01mNone\u001b[39;49;00m\u001b[43m]\u001b[49m\u001b[43m)\u001b[49m\n",
      "\u001b[0;31mTypeError\u001b[0m: sequence item 0: expected str instance, NoneType found"
     ]
    }
   ],
   "source": [
    "result = []\n",
    "j = ','.join([None])"
   ]
  },
  {
   "cell_type": "code",
   "execution_count": 6,
   "metadata": {},
   "outputs": [
    {
     "data": {
      "text/plain": [
       "str"
      ]
     },
     "execution_count": 6,
     "metadata": {},
     "output_type": "execute_result"
    }
   ],
   "source": [
    "type(j)"
   ]
  },
  {
   "cell_type": "code",
   "execution_count": null,
   "metadata": {},
   "outputs": [],
   "source": []
  }
 ],
 "metadata": {
  "kernelspec": {
   "display_name": "wesanno",
   "language": "python",
   "name": "python3"
  },
  "language_info": {
   "codemirror_mode": {
    "name": "ipython",
    "version": 3
   },
   "file_extension": ".py",
   "mimetype": "text/x-python",
   "name": "python",
   "nbconvert_exporter": "python",
   "pygments_lexer": "ipython3",
   "version": "3.9.18"
  }
 },
 "nbformat": 4,
 "nbformat_minor": 2
}
