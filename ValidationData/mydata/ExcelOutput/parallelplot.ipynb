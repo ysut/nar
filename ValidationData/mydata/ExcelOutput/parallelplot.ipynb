{
 "cells": [
  {
   "cell_type": "code",
   "execution_count": 1,
   "metadata": {},
   "outputs": [],
   "source": [
    "## Plot parallel plot using plotly\n",
    "import plotly.graph_objects as go\n",
    "from ipywidgets import widgets\n",
    "import pandas as pd\n",
    "import numpy as np"
   ]
  },
  {
   "cell_type": "code",
   "execution_count": 2,
   "metadata": {},
   "outputs": [],
   "source": [
    "cars_df = pd.read_csv('https://raw.githubusercontent.com/plotly/datasets/master/imports-85.csv')"
   ]
  },
  {
   "cell_type": "code",
   "execution_count": 10,
   "metadata": {},
   "outputs": [],
   "source": [
    "df = pd.read_pickle('/Users/utsu/work/Github/dev/ValidationData/mydata/ExcelOutput/Fixed_FINAL_mydata.denovo.all.pkl')"
   ]
  },
  {
   "cell_type": "code",
   "execution_count": 11,
   "metadata": {},
   "outputs": [
    {
     "data": {
      "text/plain": [
       "Index(['symboling', 'normalized-losses', 'make', 'fuel-type', 'aspiration',\n",
       "       'num-of-doors', 'body-style', 'drive-wheels', 'engine-location',\n",
       "       'wheel-base', 'length', 'width', 'height', 'curb-weight', 'engine-type',\n",
       "       'num-of-cylinders', 'engine-size', 'fuel-system', 'bore', 'stroke',\n",
       "       'compression-ratio', 'horsepower', 'peak-rpm', 'city-mpg',\n",
       "       'highway-mpg', 'price'],\n",
       "      dtype='object')"
      ]
     },
     "execution_count": 11,
     "metadata": {},
     "output_type": "execute_result"
    }
   ],
   "source": [
    "cars_df.columns"
   ]
  },
  {
   "cell_type": "code",
   "execution_count": 4,
   "metadata": {},
   "outputs": [],
   "source": [
    "categorical_dimensions = ['body-style', 'drive-wheels', 'fuel-type']\n",
    "dimensions = [dict(values=cars_df[label], label=label) for label in categorical_dimensions]"
   ]
  },
  {
   "cell_type": "code",
   "execution_count": 12,
   "metadata": {},
   "outputs": [],
   "source": [
    "dimensions = []\n",
    "for label in ['body-style', 'drive-wheels', 'fuel-type']:\n",
    "\tdimensions.append(dict(values=cars_df[label], label=label))"
   ]
  },
  {
   "cell_type": "code",
   "execution_count": null,
   "metadata": {},
   "outputs": [],
   "source": []
  },
  {
   "cell_type": "code",
   "execution_count": 13,
   "metadata": {},
   "outputs": [],
   "source": [
    "# Build colorscale\n",
    "color = np.zeros(len(cars_df), dtype='uint8')\n",
    "colorscale = [[0, 'gray'], [1, 'firebrick']]"
   ]
  },
  {
   "cell_type": "code",
   "execution_count": 14,
   "metadata": {},
   "outputs": [
    {
     "data": {
      "text/plain": [
       "[{'values': 0      convertible\n",
       "  1      convertible\n",
       "  2        hatchback\n",
       "  3            sedan\n",
       "  4            sedan\n",
       "            ...     \n",
       "  200          sedan\n",
       "  201          sedan\n",
       "  202          sedan\n",
       "  203          sedan\n",
       "  204          sedan\n",
       "  Name: body-style, Length: 205, dtype: object,\n",
       "  'label': 'body-style'},\n",
       " {'values': 0      rwd\n",
       "  1      rwd\n",
       "  2      rwd\n",
       "  3      fwd\n",
       "  4      4wd\n",
       "        ... \n",
       "  200    rwd\n",
       "  201    rwd\n",
       "  202    rwd\n",
       "  203    rwd\n",
       "  204    rwd\n",
       "  Name: drive-wheels, Length: 205, dtype: object,\n",
       "  'label': 'drive-wheels'},\n",
       " {'values': 0         gas\n",
       "  1         gas\n",
       "  2         gas\n",
       "  3         gas\n",
       "  4         gas\n",
       "          ...  \n",
       "  200       gas\n",
       "  201       gas\n",
       "  202       gas\n",
       "  203    diesel\n",
       "  204       gas\n",
       "  Name: fuel-type, Length: 205, dtype: object,\n",
       "  'label': 'fuel-type'}]"
      ]
     },
     "execution_count": 14,
     "metadata": {},
     "output_type": "execute_result"
    }
   ],
   "source": [
    "dimensions"
   ]
  },
  {
   "cell_type": "code",
   "execution_count": 15,
   "metadata": {},
   "outputs": [
    {
     "data": {
      "application/vnd.jupyter.widget-view+json": {
       "model_id": "7e1d05e53b3c46e0a0f994743f246872",
       "version_major": 2,
       "version_minor": 0
      },
      "text/plain": [
       "FigureWidget({\n",
       "    'data': [{'marker': {'color': 'gray'},\n",
       "              'mode': 'markers',\n",
       "              'selected': {'marker': {'color': 'firebrick'}},\n",
       "              'type': 'scatter',\n",
       "              'uid': '97842f96-8be0-4296-b310-7de0a3a1be3a',\n",
       "              'unselected': {'marker': {'opacity': 0.3}},\n",
       "              'x': array([111., 111., 154., ..., 134., 106., 114.]),\n",
       "              'y': array([27, 27, 26, ..., 23, 27, 25])},\n",
       "             {'dimensions': [{'label': 'body-style',\n",
       "                              'values': array(['convertible', 'convertible', 'hatchback', ..., 'sedan', 'sedan',\n",
       "                                               'sedan'], dtype=object)},\n",
       "                             {'label': 'drive-wheels',\n",
       "                              'values': array(['rwd', 'rwd', 'rwd', ..., 'rwd', 'rwd', 'rwd'], dtype=object)},\n",
       "                             {'label': 'fuel-type',\n",
       "                              'values': array(['gas', 'gas', 'gas', ..., 'gas', 'diesel', 'gas'], dtype=object)}],\n",
       "              'domain': {'y': [0, 0.4]},\n",
       "              'line': {'cmax': 1,\n",
       "                       'cmin': 0,\n",
       "                       'color': array([0, 0, 0, ..., 0, 0, 0], dtype=uint8),\n",
       "                       'colorscale': [[0, 'gray'], [1, 'firebrick']],\n",
       "                       'shape': 'hspline'},\n",
       "              'type': 'parcats',\n",
       "              'uid': '2d2c56f2-c517-41bd-afc2-4a3a728d00bb'}],\n",
       "    'layout': {'dragmode': 'lasso',\n",
       "               'height': 800,\n",
       "               'hovermode': 'closest',\n",
       "               'template': '...',\n",
       "               'xaxis': {'title': {'text': 'Horsepower'}},\n",
       "               'yaxis': {'domain': [0.6, 1], 'title': {'text': 'MPG'}}}\n",
       "})"
      ]
     },
     "execution_count": 15,
     "metadata": {},
     "output_type": "execute_result"
    }
   ],
   "source": [
    "# Build figure as FigureWidget\n",
    "fig = go.FigureWidget(\n",
    "    data=[go.Scatter(x=cars_df.horsepower, y=cars_df['highway-mpg'],\n",
    "    marker={'color': 'gray'}, mode='markers', selected={'marker': {'color': 'firebrick'}},\n",
    "    unselected={'marker': {'opacity': 0.3}}), go.Parcats(\n",
    "        domain={'y': [0, 0.4]}, dimensions=dimensions,\n",
    "        line={'colorscale': colorscale, 'cmin': 0,\n",
    "              'cmax': 1, 'color': color, 'shape': 'hspline'})\n",
    "    ])\n",
    "\n",
    "fig.update_layout(\n",
    "        height=800, xaxis={'title': 'Horsepower'},\n",
    "        yaxis={'title': 'MPG', 'domain': [0.6, 1]},\n",
    "        dragmode='lasso', hovermode='closest')\n",
    "\n",
    "# Update color callback\n",
    "def update_color(trace, points, state):\n",
    "    # Update scatter selection\n",
    "    fig.data[0].selectedpoints = points.point_inds\n",
    "\n",
    "    # Update parcats colors\n",
    "    new_color = np.zeros(len(cars_df), dtype='uint8')\n",
    "    new_color[points.point_inds] = 1\n",
    "    fig.data[1].line.color = new_color\n",
    "\n",
    "# Register callback on scatter selection...\n",
    "fig.data[0].on_selection(update_color)\n",
    "# and parcats click\n",
    "fig.data[1].on_click(update_color)\n",
    "\n",
    "fig"
   ]
  },
  {
   "cell_type": "code",
   "execution_count": null,
   "metadata": {},
   "outputs": [],
   "source": []
  }
 ],
 "metadata": {
  "kernelspec": {
   "display_name": "gakui",
   "language": "python",
   "name": "python3"
  },
  "language_info": {
   "codemirror_mode": {
    "name": "ipython",
    "version": 3
   },
   "file_extension": ".py",
   "mimetype": "text/x-python",
   "name": "python",
   "nbconvert_exporter": "python",
   "pygments_lexer": "ipython3",
   "version": "3.9.18"
  }
 },
 "nbformat": 4,
 "nbformat_minor": 2
}
