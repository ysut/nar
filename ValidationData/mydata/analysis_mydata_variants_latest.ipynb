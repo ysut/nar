{
 "cells": [
  {
   "cell_type": "markdown",
   "metadata": {},
   "source": [
    "##### Import package"
   ]
  },
  {
   "cell_type": "code",
   "execution_count": 1,
   "metadata": {},
   "outputs": [
    {
     "name": "stdout",
     "output_type": "stream",
     "text": [
      "INFO: Pandarallel will run on 7 workers.\n",
      "INFO: Pandarallel will use standard multiprocessing data transfer (pipe) to transfer data between the main process and workers.\n"
     ]
    }
   ],
   "source": [
    "import os\n",
    "import re\n",
    "import sys\n",
    "from pathlib import Path\n",
    "\n",
    "import gffutils\n",
    "import numpy as np\n",
    "import pandas as pd\n",
    "import pysam\n",
    "from pandarallel import pandarallel\n",
    "from tqdm import tqdm\n",
    "\n",
    "import plotly.graph_objects as go\n",
    "from ipywidgets import widgets\n",
    "\n",
    "### Import my modules in libs directory\n",
    "try: \n",
    "    __file__\n",
    "    sys.path.append(os.path.join(os.path.dirname(__file__)))\n",
    "except NameError:\n",
    "    Path().resolve()\n",
    "    sys.path.append(os.path.join(Path().resolve(), '../../'))\n",
    "\n",
    "from libs import utils, preprocess, variantfilter, posparser, splaiparser\n",
    "from libs import predeffect, scoring\n",
    "from libs import anno_spliceai, anno_clinvar\n",
    "from libs.deco import print_filtering_count\n",
    "\n",
    "### Logging setup\n",
    "from logging import getLogger, config\n",
    "import yaml\n",
    "parent_directory = os.path.dirname(os.path.dirname('__file__'))\n",
    "config_path: str = os.path.join(parent_directory, '../../config/logging.yaml')\n",
    "with open(config_path, 'r') as f:\n",
    "    config.dictConfig(yaml.safe_load(f))\n",
    "logger = getLogger(__name__)\n",
    "\n",
    "\n",
    "########   Initialize and setup pandas methods   ########\n",
    "pandarallel.initialize(nb_workers=os.cpu_count()-1, progress_bar=False, \n",
    "                       verbose=2, use_memory_fs=False) \n",
    "os.environ['JOBLIB_TEMP_FOLDER'] = '/tmp' \n",
    "tqdm.pandas()"
   ]
  },
  {
   "cell_type": "code",
   "execution_count": null,
   "metadata": {},
   "outputs": [],
   "source": [
    "########   Import genocode DBs (exon DB and intron DB)   ########\n",
    "try:\n",
    "    db_anno_gencode = '../../Resources/06_gffutilsdb/gencode.v43lift37.annotation.gtf.db'\n",
    "    db_anno_intron = '../../Resources/06_gffutilsdb/gencode.v43lift37.annotation.intron.gtf.db'\n",
    "    db = gffutils.FeatureDB(db_anno_gencode)\n",
    "    db_intron = gffutils.FeatureDB(db_anno_intron)\n",
    "except ValueError:\n",
    "    db_anno_gencode = '/resources/DBs/gencode.v43lift37.annotation.gtf.db'\n",
    "    db_anno_intron = '/resources/DBs/gencode.v43lift37.annotation.intron.gtf.db'\n",
    "    db = gffutils.FeatureDB(db_anno_gencode)\n",
    "    db_intron = gffutils.FeatureDB(db_anno_intron)\n",
    "\n",
    "########   Import TSVs, VCFs and GFFs   ########\n",
    "### Downloaded database files\n",
    "#1. Clinvar variants (BED format)\n",
    "clinvar_file = '../../Resources/03_ClinVar/variant_summary.snv.grch37.germline.criteria.sort.bed.gz'\n",
    "tbx_clinvar = pysam.TabixFile(clinvar_file)\n",
    "#2. GENCODE file (GFF3 format)\n",
    "gencode_gff = '../../Resources/05_GENCODE_v43lift37/gencode.v43lift37.annotation.sort.gff3.gz'\n",
    "tbx_anno = pysam.TabixFile(gencode_gff)\n",
    "#3. Canonical transcripts table\n",
    "# canonlist = '../../CanonicalTranscripts_COMP/CanonicalTranscripts.exoncount.tsv'\n",
    "canonlist = '../../Resources/01_CanonicalTranscripts/CanonicalTranscripts.exoncount.tsv'\n",
    "#4. CCRs (BED format)\n",
    "autoccr = '../../Resources/04_CCRs/ccrs.autosomes.v2.20180420.sort.bed.gz'\n",
    "xccr = '../../Resources/04_CCRs/ccrs.xchrom.v2.20180420.sort.bed.gz'\n",
    "\n",
    "\n",
    "## Thresholds configuration\n",
    "thresholds_SpliceAI_parser: dict = {\n",
    "    'TH_min_sALDL': 0.02, 'TH_max_sALDL': 0.2, \n",
    "    'TH_min_sAGDG': 0.01, 'TH_max_sAGDG': 0.05,\n",
    "    'TH_min_GExon': 25, 'TH_max_GExon': 500,\n",
    "    'TH_sAG': 0.2, 'TH_sDG': 0.2\n",
    "    }\n",
    "\n",
    "############ Functions for cleansing and adjusting HGMD data ############\n",
    "def adjust_enst_for_hgmd(df: pd.DataFrame) -> pd.DataFrame:\n",
    "    result = df.replace(\n",
    "        {'gene': {'PRKN': 'PARK2', 'MICOS13': 'C19orf70'},\n",
    "         'ENST': {'ENST00000263201': 'ENST00000437685'},\n",
    "         'ENST_Full': {'ENST00000263201.7_4': 'ENST00000437685.6_1',\n",
    "                       'ENST00000361547.7_7': 'ENST00000361547.7_8',\n",
    "                       'ENST00000609375.1_7': 'ENST00000347364.7_5',\n",
    "                       'ENST00000649912.1_4': 'ENST00000347364.7_5'}})\n",
    "    return result\n",
    "\n",
    "@print_filtering_count\n",
    "def remove_unkown_refalt(df: pd.DataFrame) -> pd.DataFrame:\n",
    "    result = df.dropna(subset='REF', axis=0)\n",
    "    return result\n",
    "\n",
    "## loading original file and setting output base path\n",
    "# mydata = './original.snpeff.state.disease.filtered.splai.tsv'\n",
    "mydata = './original.snpeff.state.disease.identifiedgene.filtered.splai.tsv'\n",
    "results_splai = './results_spliceai_mydata.vcf'\n",
    "\n",
    "### Loading files as pandas DataFrame ###\n",
    "df = pd.read_table(mydata, sep='\\t', dtype=str)\n",
    "output_base: str = utils.configure_output(mydata)\n",
    "vcf_columns = ['CHROM', 'POS', 'ID', 'REF', 'ALT', 'QUAL', 'FILTER', 'INFO']\n",
    "splai = pd.read_table(results_splai, sep='\\t', header=None, names=vcf_columns)\n",
    "canon = pd.read_table(canonlist, sep='\\t', header=0)\n"
   ]
  },
  {
   "cell_type": "code",
   "execution_count": 4,
   "metadata": {},
   "outputs": [
    {
     "name": "stdout",
     "output_type": "stream",
     "text": [
      "16353\n",
      "Start extract_denovo\n",
      "Filtering : 16353 --> 9944\n",
      "\n",
      "9944\n"
     ]
    }
   ],
   "source": [
    "print(len(df))\n",
    "df = variantfilter.extract_denovo(df)\n",
    "print(len(df))"
   ]
  },
  {
   "cell_type": "code",
   "execution_count": 9,
   "metadata": {},
   "outputs": [],
   "source": [
    "df.rename(columns={'csq': 'Consequence'}, inplace=True)"
   ]
  },
  {
   "cell_type": "code",
   "execution_count": 20,
   "metadata": {},
   "outputs": [
    {
     "data": {
      "text/plain": [
       "Consequence\n",
       "missense_variant                            5203\n",
       "synonymous_variant                          2422\n",
       "intron_variant                              1181\n",
       "splice_region_variant&intron_variant         467\n",
       "stop_gained                                  225\n",
       "missense_variant&splice_region_variant       154\n",
       "splice_donor_variant&intron_variant           74\n",
       "splice_region_variant&synonymous_variant      65\n",
       "non_coding_transcript_exon_variant            62\n",
       "splice_acceptor_variant&intron_variant        53\n",
       "start_lost                                    18\n",
       "stop_gained&splice_region_variant             14\n",
       "initiator_codon_variant                        3\n",
       "stop_retained_variant                          1\n",
       "splice_region_variant                          1\n",
       "stop_lost                                      1\n",
       "Name: count, dtype: int64"
      ]
     },
     "execution_count": 20,
     "metadata": {},
     "output_type": "execute_result"
    }
   ],
   "source": [
    "df['Consequence'].value_counts()"
   ]
  },
  {
   "cell_type": "code",
   "execution_count": null,
   "metadata": {},
   "outputs": [],
   "source": [
    "################################################################################\n",
    "#### Annotation step  ####\n",
    "\n",
    "#1.   Classify 'Canonical' splice site or 'Non-canonical' splice site\n",
    "logger.info('Classify \"Canonical\" splice site or \"Non-canonical\" splice site...')\n",
    "df = posparser.classifying_canonical(df)\n",
    "\n",
    "#2.   Calculate exonic positions\n",
    "logger.info('Calculating exonic positions...')\n",
    "#2-1. Generate 'exonic upstream distance and exonic downstream distance\n",
    "df['exon_loc'] = df.progress_apply(posparser.calc_exon_loc, tabixfile=tbx_anno, \n",
    "                          enstcolname='ENST', axis=1)\n",
    "df = pd.concat([df, df['exon_loc'].str.split(':', expand=True)], axis=1)\n",
    "df.rename(columns={0: 'ex_up_dist', 1: 'ex_down_dist'}, inplace=True)\n",
    "\n",
    "\n",
    "#2-2. Select minimum distance from upstream distance and downstream distance\n",
    "df['exon_pos'] = df.parallel_apply(posparser.select_exon_pos, axis=1)\n",
    "\n",
    "\n",
    "#2-3. Decision exonic splice sites (1 nt in acceptor site or 3 nts on Donor site)\n",
    "df['exon_splice_site'] = df.parallel_apply(posparser.extract_splicing_region, axis=1)\n",
    "\n",
    "#3.   Additional Splicing information\n",
    "logger.info('Annotating splicing information...')\n",
    "#3-1. Annotate splicing type ('Exonic Acceptor' etc.)\n",
    "df['SpliceType'] = df.parallel_apply(posparser.select_donor_acceptor, axis=1)\n",
    "\n",
    "#3-2. Annotate rank of exon or intron\n",
    "df['Num_ExInt'] = df.progress_apply(posparser.calc_ex_int_num, \n",
    "                                    db=db, db_intron=db_intron, axis=1)\n",
    "\n",
    "\n",
    "#5.   Annotate ClinVar varaints interpretations\n",
    "logger.info('Annotating ClinVar varaints interpretations...')\n",
    "df['clinvar_same_pos'] = df.progress_apply(anno_clinvar.anno_same_pos_vars, \n",
    "                                           tabixfile=tbx_clinvar, axis=1)\n",
    "df['clinvar_same_motif'] = df.progress_apply(anno_clinvar.anno_same_motif_vars, \n",
    "                                             tabixfile=tbx_clinvar, axis=1)\n",
    "\n",
    "#6.   Parising SpliceAI results (For PVS1 decision tree)\n",
    "logger.info('Parsing SpliceAI results...')\n",
    "## Thresholds configuration\n",
    "TH_min_sALDL, TH_max_sALDL = 0.02, 0.2\n",
    "TH_min_sAGDG, TH_max_sAGDG = 0.01, 0.05\n",
    "TH_min_GExon, TH_max_GExon = 25, 500\n",
    "TH_sAG, TH_sDG = 0.2, 0.2\n",
    "\n",
    "\n",
    "#6-1. Annotate Exon/Intron position information\n",
    "df['ExInt_INFO'] = df.progress_apply(splaiparser.calc_exint_info, \n",
    "                                     db=db, \n",
    "                                     db_intron=db_intron, \n",
    "                                     axis=1)\n",
    "\n",
    "#6-2. Relative exon location\n",
    "df['prc_exon_loc'] = df.parallel_apply(posparser.calc_prc_exon_loc, axis=1)\n",
    "\n",
    "\n",
    "#6-3. Predict splicing effects\n",
    "df['Pseudoexon'] = df.progress_apply(\n",
    "    splaiparser.pseudoexon_activation,\n",
    "    thresholds=thresholds_SpliceAI_parser, \n",
    "    db_intron=db_intron,\n",
    "    axis=1)\n",
    "\n",
    "df['Part_IntRet'] = df.parallel_apply(\n",
    "    splaiparser.partial_intron_retention,\n",
    "    thresholds=thresholds_SpliceAI_parser, \n",
    "    axis=1)\n",
    "\n",
    "df['Part_ExDel'] = df.parallel_apply(\n",
    "    splaiparser.partial_exon_deletion,\n",
    "    thresholds=thresholds_SpliceAI_parser, \n",
    "    axis=1)\n",
    "\n",
    "df['Exon_skipping'] = df.parallel_apply(\n",
    "    splaiparser.exon_skipping, \n",
    "    thresholds=thresholds_SpliceAI_parser, \n",
    "    axis=1)\n",
    "                                        \n",
    "df['Int_Retention'] = df.parallel_apply(\n",
    "    splaiparser.intron_retention, \n",
    "    thresholds=thresholds_SpliceAI_parser, \n",
    "    axis=1)\n",
    "\n",
    "df['multiexs'] = df.parallel_apply(\n",
    "    splaiparser.multi_exon_skipping, \n",
    "    thresholds=thresholds_SpliceAI_parser, \n",
    "    axis=1)\n",
    "\n",
    "\n",
    "#7.   Annotate aberrant splicing size (bp)\n",
    "logger.info('Annotating aberrant splicing size (bp)...')\n",
    "#7-1. Annotate size of \n",
    "df['Size_Part_ExDel'] = df.parallel_apply(\n",
    "    splaiparser.anno_partial_exon_del_size, \n",
    "    thresholds=thresholds_SpliceAI_parser, \n",
    "    axis=1)\n",
    "\n",
    "#7-3. Annotate size of partial intron retention\n",
    "df['Size_Part_IntRet'] = df.parallel_apply(\n",
    "    splaiparser.anno_partial_intron_retention_size, \n",
    "    thresholds=thresholds_SpliceAI_parser,\n",
    "    axis=1)\n",
    "\n",
    "#7-2. Annotate size of pseudoexon\n",
    "df['Size_pseudoexon'] = df.parallel_apply(\n",
    "    splaiparser.anno_gained_exon_size, \n",
    "    thresholds=thresholds_SpliceAI_parser, \n",
    "    axis=1)\n",
    "\n",
    "#7-4. Annotate size of intron retention\n",
    "df['Size_IntRet'] = df.parallel_apply(\n",
    "    splaiparser.anno_intron_retention_size, \n",
    "    thresholds=thresholds_SpliceAI_parser,\n",
    "    axis=1)\n",
    "\n",
    "#7-5. Annotate size of exon skipping\n",
    "df['Size_skipped_exon'] = df.parallel_apply(\n",
    "    splaiparser.anno_skipped_exon_size, \n",
    "    thresholds=thresholds_SpliceAI_parser,\n",
    "    axis=1)\n",
    "\n",
    "#8.   Evaluate splicing effects\n",
    "logger.info('Predicting CDS change...')\n",
    "#8-1. Predict CDS change\n",
    "df['CDS_Length'] = df.progress_apply(predeffect.calc_cds_len, db=db, axis=1)\n",
    "df['is_10%_truncation'] = df.progress_apply(predeffect.calc_cds_len_shorten, axis=1)\n",
    "\n",
    "#8-2. Determine if the gene is included in eLoFs genes\n",
    "df['is_eLoF'] = df.parallel_apply(predeffect.elofs_judge, axis=1)\n",
    "\n",
    "#8-3. Determine causing NMD or not\n",
    "df['is_NMD_at_Canon'] = df.parallel_apply(predeffect.nmd_judge, axis=1)\n",
    "\n",
    "#8-4. Frame check\n",
    "df['is_Frameshift_Part_ExDel'] = df['Size_Part_ExDel'].parallel_apply(\n",
    "    predeffect.frame_check)\n",
    "df['is_Frameshift_Part_IntRet'] = df['Size_Part_IntRet'].parallel_apply(\n",
    "    predeffect.frame_check)\n",
    "df['is_Frameshift_pseudoexon'] = df['Size_pseudoexon'].parallel_apply(\n",
    "    predeffect.frame_check)\n",
    "df['is_Frameshift_IntRet'] = df['Size_IntRet'].parallel_apply(\n",
    "    predeffect.frame_check)\n",
    "df['is_Frameshift_skipped_exon'] = df['Size_skipped_exon'].parallel_apply(\n",
    "    predeffect.frame_check)\n",
    "df['is_Frameshift'] = df[['is_Frameshift_Part_ExDel', \n",
    "                          'is_Frameshift_Part_IntRet', \n",
    "                          'is_Frameshift_pseudoexon', \n",
    "                          'is_Frameshift_IntRet', \n",
    "                          'is_Frameshift_skipped_exon'\n",
    "                          ]].any(axis=1)\n",
    "\n",
    "\n",
    "#9.   CCRs\n",
    "logger.info('Annotating CCRs info...')\n",
    "\n",
    "#9-1. Annotate truncated regions \n",
    "df['skipped_region'] = df.parallel_apply(\n",
    "    splaiparser.anno_skipped_regions, axis=1)\n",
    "\n",
    "df['deleted_region'] = df.parallel_apply(\n",
    "    splaiparser.anno_deleted_regions, \n",
    "    thresholds=thresholds_SpliceAI_parser, axis=1)\n",
    "\n",
    "#9-2. Intersect with CCRs\n",
    "logger.info('Annotate CCR score')\n",
    "df = predeffect.anno_ccr_score(df)\n",
    "\n",
    "df.to_pickle('mydata.tmp_20241023.pkl')\n",
    "df = pd.read_pickle('mydata.tmp_20241023.pkl')"
   ]
  },
  {
   "cell_type": "code",
   "execution_count": 7,
   "metadata": {},
   "outputs": [],
   "source": [
    "### Don't touch the original data ###\n",
    "### Save the result as pickle file before scoring ###\n",
    "df.to_pickle('./pickles/mydata_prescore_Gene_HGNC.pkl')"
   ]
  },
  {
   "cell_type": "markdown",
   "metadata": {},
   "source": [
    "## ここから下で解析する！！"
   ]
  },
  {
   "cell_type": "code",
   "execution_count": 83,
   "metadata": {},
   "outputs": [],
   "source": [
    "df = pd.read_pickle('./pickles/mydata_prescore_Gene_HGNC.pkl')"
   ]
  },
  {
   "cell_type": "code",
   "execution_count": 54,
   "metadata": {},
   "outputs": [
    {
     "name": "stdout",
     "output_type": "stream",
     "text": [
      "2024/10/24 09:27:14 [INFO   ] (__main__) - Annotating Screening scores...\n",
      "PriorityScore\n",
      "0    5348\n",
      "2     427\n",
      "3     339\n",
      "1     208\n",
      "5      44\n",
      "4      21\n",
      "7      13\n",
      "8       3\n",
      "6       2\n",
      "9       1\n",
      "Name: count, dtype: int64\n"
     ]
    }
   ],
   "source": [
    "#10.   Scoring\n",
    "# df = pd.read_pickle('./pickles/mydata_prescore.pkl')\n",
    "\n",
    "df = pd.read_pickle(f'./pickles/mydata.scored.pickle')\n",
    "df['is_Canonical'] = df['is_Canonical'].replace({'True': \"Yes\", 'False': \"No\"}).copy()\n",
    "\n",
    "from libs.scoring import Scoring\n",
    "logger.info('Annotating Screening scores...')\n",
    "df = df.astype({'maxsplai': 'float', 'vqslod': 'float', \n",
    "                'denovogear': float, 'triodenovo': float, 'dnmfilter': float})\n",
    "\n",
    "# Recalibrate the thresholds for De novo detection\n",
    "df = df[df['vqslod'] > -7.18]\n",
    "df = df[((df['denovogear'] > 0.02) | (df['denovogear'].isnull()))\n",
    "        & ((df['triodenovo'] > 5.72) | (df['triodenovo'].isnull()))\n",
    "        & ((df['dnmfilter'] > 0.196) | (df['dnmfilter'].isnull()))]\n",
    "\n",
    "# df = df[df['vqslod'] > -7.18]\n",
    "# df = df[((df['denovogear'] > 0.02) \n",
    "#         & (df['triodenovo'] > 5.72)\n",
    "#         & (df['dnmfilter'] > 0.196))]\n",
    "\n",
    "sccore_ths = {'clinvar_same_pos': 2,\n",
    "             'clinvar_same_motif': 1,\n",
    "             'clinvar_else': 0,\n",
    "             'non_canon_splai_lte_0.1_outside': -1,\n",
    "             'non_canon_splai_lte_0.1_other': 0,\n",
    "             'non_canon_splai_bet_0.1_0.2': 2,\n",
    "             'non_canon_splai_gte_0.2': 3,\n",
    "             'canon_strong': 4, \n",
    "             'canon_moderate': 3, \n",
    "             'frameshift_nmd_eloF': 5, \n",
    "             'frameshift_nmd_not_eloF': 1,\n",
    "             'canon_splai_lte_0.1': -1,\n",
    "             'canon_splai_bet_0.1_0.2': 0,\n",
    "             'canon_splai_gte_0.2': 2}\n",
    "\n",
    "thsdict = {\n",
    "    'opti': \n",
    "            {'clinvar_same_pos': 3,\n",
    "             'clinvar_same_motif': 2,\n",
    "             'clinvar_else': 0,\n",
    "             'non_canon_splai_lte_0.1_outside': -4,\n",
    "             'non_canon_splai_lte_0.1_other': -3,\n",
    "             'non_canon_splai_bet_0.1_0.2': 3,\n",
    "             'non_canon_splai_gte_0.2': 4,\n",
    "             'canon_strong': 5, \n",
    "             'canon_moderate': 4, \n",
    "             'frameshift_nmd_eloF': 6, \n",
    "             'frameshift_nmd_not_eloF': 4,\n",
    "             'canon_splai_lte_0.1': -4,\n",
    "             'canon_splai_bet_0.1_0.2': -1,\n",
    "             'canon_splai_gte_0.2': 0},\n",
    "}\n",
    "\n",
    "# original\n",
    "# sccore_ths = {'clinvar_same_pos': 2,     \n",
    "#                  'clinvar_same_motif': 1,\n",
    "#                  'clinvar_else': 0,\n",
    "#                  'non_canon_splai_lte_0.1_outside': -3,\n",
    "#                  'non_canon_splai_lte_0.1_other': -2,\n",
    "#                  'non_canon_splai_bet_0.1_0.2': 1,\n",
    "#                  'non_canon_splai_gte_0.2': 2,\n",
    "#                  'canon_strong': 6, \n",
    "#                  'canon_moderate': 5, \n",
    "#                  'frameshift_nmd_eloF': 7, \n",
    "#                  'frameshift_nmd_not_eloF': 3,\n",
    "#                  'canon_splai_lte_0.1': -3,\n",
    "#                  'canon_splai_bet_0.1_0.2': -1,\n",
    "#                  'canon_splai_gte_0.2': 0}\n",
    "\n",
    "scoring = Scoring(ths=sccore_ths)\n",
    "\n",
    "df['insilico_screening'] = df.parallel_apply(scoring.insilico_screening, axis=1)\n",
    "df['clinvar_screening'] = df.parallel_apply(scoring.clinvar_screening, axis=1)\n",
    "# df['PriorityScore'] = df.parallel_apply(scoring.calc_priority_score, axis=1)\n",
    "# df.to_pickle(f'./pickles/mydata.scored_gene_fixed_HGNC.pickle')\n",
    "# df['PriorityScore'] = df.parallel_apply(scoring.calc_priority_score, axis=1)\n",
    "df = scoring.calc_priority_score2(df)\n",
    "\n",
    "print(df['PriorityScore'].value_counts())"
   ]
  },
  {
   "cell_type": "code",
   "execution_count": 55,
   "metadata": {},
   "outputs": [
    {
     "name": "stderr",
     "output_type": "stream",
     "text": [
      "/var/folders/60/yz_x62ts3ln6z030yykm0h2r0000gn/T/ipykernel_77129/1013456568.py:2: FutureWarning:\n",
      "\n",
      "Setting an item of incompatible dtype is deprecated and will raise an error in a future version of pandas. Value '.' has dtype incompatible with float64, please explicitly cast to a compatible dtype first.\n",
      "\n"
     ]
    },
    {
     "name": "stdout",
     "output_type": "stream",
     "text": [
      "280\n",
      "6139\n"
     ]
    },
    {
     "name": "stderr",
     "output_type": "stream",
     "text": [
      "/var/folders/60/yz_x62ts3ln6z030yykm0h2r0000gn/T/ipykernel_77129/1013456568.py:34: FutureWarning:\n",
      "\n",
      "Downcasting behavior in `replace` is deprecated and will be removed in a future version. To retain the old behavior, explicitly call `result.infer_objects(copy=False)`. To opt-in to the future behavior, set `pd.set_option('future.no_silent_downcasting', True)`\n",
      "\n",
      "/var/folders/60/yz_x62ts3ln6z030yykm0h2r0000gn/T/ipykernel_77129/1013456568.py:35: FutureWarning:\n",
      "\n",
      "Downcasting behavior in `replace` is deprecated and will be removed in a future version. To retain the old behavior, explicitly call `result.infer_objects(copy=False)`. To opt-in to the future behavior, set `pd.set_option('future.no_silent_downcasting', True)`\n",
      "\n"
     ]
    }
   ],
   "source": [
    "df.replace({'\\u2161': 'II', '\\u2163': 'IV', '\\u2162': 'III'}, inplace=True, regex=True)\n",
    "df.fillna('.', inplace=True)\n",
    "df = df.rename(columns={'gene_x': 'gene', 'ID_x': 'ID'}).copy()\n",
    "path_to_hgmd = '../../Resources/07_HGMD_GeneBasedInfo/HGMD_GeneBasedInfo_2024.1.tsv.gz'\n",
    "# path_to_hgmd = '../../Resources/07_HGMD_GeneBasedInfo/HGMD_GeneBasedInfo_2023.4.tsv.gz'\n",
    "\n",
    "def anno_hgmd(df: pd.DataFrame) -> pd.DataFrame:\n",
    "    hgmd = pd.read_table(path_to_hgmd, header=0, dtype=str)\n",
    "    hgmd = hgmd[['gene', 'altsymbol', 'refseq', \n",
    "                 'expected_inheritance', 'hgncID', 'omimid', 'DM']]\n",
    "    hgmd = hgmd.astype({'DM': 'float64'})\n",
    "    df = pd.merge(\n",
    "        df, hgmd, left_on='Gene.refGene', right_on='gene', how='left'\n",
    "        )\n",
    "\n",
    "    return df\n",
    "\n",
    "def anno_sf(df: pd.DataFrame) -> pd.DataFrame:\n",
    "    df_sf = pd.read_table('../../Resources/ACMG_SFv3.2.txt', header=0, dtype=str)\n",
    "    df_sf = df_sf[['Gene', 'Disease/Phentyope', 'Inheritance ', 'Variants to report']]\n",
    "    df = pd.merge(df, df_sf, left_on='Gene.refGene', right_on='Gene', how='left'\n",
    "        )\n",
    "\n",
    "    return df\n",
    "\n",
    "df = anno_hgmd(df)\n",
    "df = anno_sf(df)\n",
    "# df = df.drop(columns=['gene_y', 'ID_y'])\n",
    "print(df.duplicated(subset=['sample', 'ID']).sum())\n",
    "df = df.drop_duplicates(subset=['sample', 'ID']).copy()\n",
    "print(len(df))\n",
    "# Replace '.' to np.nan in 'skipped_ccrs' and 'deleted_ccrs'\n",
    "# Change type to float in 'skipped_ccrs' and 'deleted_ccrs'\n",
    "df['skipped_ccrs'] = df['skipped_ccrs'].replace('.', np.nan).astype(float).copy()\n",
    "df['deleted_ccrs'] = df['deleted_ccrs'].replace('.', np.nan).astype(float)\n",
    "df['is_95%_CCRs'] = df.apply(lambda row: True if (row['skipped_ccrs'] > 95 or row['deleted_ccrs'] > 95) else False, axis=1)"
   ]
  },
  {
   "cell_type": "code",
   "execution_count": 56,
   "metadata": {},
   "outputs": [],
   "source": [
    "df = df[[\n",
    "    'DM', 'PriorityScore', 'expected_inheritance', 'Gene.refGene', 'c.HGVS', 'p.HVGS', \n",
    "    'Disease', 'maxsplai', 'is_Canonical', 'is_Frameshift', 'is_NMD_at_Canon', \n",
    "    'is_eLoF', 'is_10%_truncation', 'is_95%_CCRs', 'variant_id', \n",
    "    'clinvar_same_pos', 'clinvar_same_motif', 'sample', 'fa', 'mo', \n",
    "    'Disease/Phentyope', 'Inheritance ', 'type', 'ID', \n",
    "    'vqslod', 'triodenovo', 'dnmfilter', 'denovogear', 'denovofilter', 'sanger', \n",
    "    'SIFT_score', 'SIFT_pred', 'Polyphen2_HVAR_score', 'Polyphen2_HVAR_pred', \n",
    "    'PROVEAN_score', 'PROVEAN_pred', 'CADD_phred', 'GERP++_RS', 'gerp++gt2',\n",
    "    'phyloP7way_vertebrate', 'phastCons7way_vertebrate', 'ExAC_ALL', 'ExAC_AFR',\n",
    "    'ExAC_AMR', 'ExAC_EAS', 'ExAC_FIN', 'ExAC_NFE', 'ExAC_OTH', 'ExAC_SAS',\n",
    "    'snp138NonFlagged', 'snp20160620_tommo_exome', 'esp6500siv2_all', 'CHROM',\n",
    "    'POS', 'REF', 'ALT', 'ENSG', 'ENST', 'Rank', \n",
    "    # 'Consequence',\n",
    "    'csq',\n",
    "    'Biotype', 'DNA_ID', 'Identified_Gene', 'State', 'GeneSymbol', \n",
    "    'ENST_Full', 'ENSG_Full', 'Strand', 'Tag', 'is_Multi', 'SpliceAI', \n",
    "    'DS_AG', 'DS_AL', 'DS_DG', 'DS_DL', 'DP_AG', 'DP_AL', 'DP_DG', 'DP_DL',\n",
    "    'Int_loc', 'exon_loc', 'ex_up_dist', 'ex_down_dist', 'exon_pos', \n",
    "    'exon_splice_site', 'SpliceType', 'Num_ExInt', 'ExInt_INFO', 'prc_exon_loc',\n",
    "    'Pseudoexon', 'Part_IntRet', 'Part_ExDel', 'Exon_skipping', 'Int_Retention',\n",
    "    'multiexs', 'Size_Part_ExDel', 'Size_Part_IntRet', 'Size_pseudoexon',\n",
    "    'Size_IntRet', 'Size_skipped_exon', 'CDS_Length', 'is_Frameshift_Part_ExDel', \n",
    "    'is_Frameshift_Part_IntRet', 'is_Frameshift_pseudoexon',\n",
    "    'is_Frameshift_IntRet', 'is_Frameshift_skipped_exon', \n",
    "    'skipped_region', 'deleted_region', 'skipped_ccrs', 'deleted_ccrs',\n",
    "    'insilico_screening', 'clinvar_screening', 'altsymbol',\n",
    "    'refseq', 'hgncID', 'omimid', 'Variants to report'\n",
    "]]"
   ]
  },
  {
   "cell_type": "code",
   "execution_count": 57,
   "metadata": {},
   "outputs": [
    {
     "name": "stdout",
     "output_type": "stream",
     "text": [
      "1525 + 4250\n",
      "1330\n"
     ]
    }
   ],
   "source": [
    "df.loc[df['Identified_Gene'] != '.', 'State'] = 'Identified'\n",
    "df_solved = df[df['State'] == 'Identified']\n",
    "solved_case_ids = [\n",
    "    'Sample_4143', 'Sample_8803', 'Sample_17110', 'Sample_9768', 'Sample_16992',\n",
    "    'Sample_16970', 'Sample_17367', 'Sample_4938', 'Sample_11555']\n",
    "df.loc[df['sample'].isin(solved_case_ids), 'State'] = 'Identified'\n",
    "df_unsolved = df[df['State'] == 'Undetermined']\n",
    "\n",
    "print(f\"{len(df_solved)} + {len(df_unsolved)}\")\n",
    "print(len(df_unsolved['sample'].unique().tolist()))"
   ]
  },
  {
   "cell_type": "code",
   "execution_count": 58,
   "metadata": {},
   "outputs": [],
   "source": [
    "# For parallel coordinates plot\n",
    "df_bk = df.copy()"
   ]
  },
  {
   "cell_type": "code",
   "execution_count": 54,
   "metadata": {},
   "outputs": [],
   "source": [
    "df = df_bk.copy()"
   ]
  },
  {
   "cell_type": "code",
   "execution_count": 59,
   "metadata": {},
   "outputs": [
    {
     "name": "stdout",
     "output_type": "stream",
     "text": [
      "4250\n"
     ]
    }
   ],
   "source": [
    "df = df.loc[df['State'] == 'Undetermined']\n",
    "print(len(df))\n",
    "df.rename(columns={'is_eLoF': 'eLoF', 'PriorityScore': 'Priority Score', \n",
    "                   'is_Canonical': 'Canonical splice cite'}, inplace=True)"
   ]
  },
  {
   "cell_type": "code",
   "execution_count": 60,
   "metadata": {},
   "outputs": [
    {
     "name": "stdout",
     "output_type": "stream",
     "text": [
      "Screen Positive: 37, Screen Negative: 4213\n"
     ]
    }
   ],
   "source": [
    "cutoff = 4\n",
    "n_pos: int = len(df.loc[df['Priority Score'] >= cutoff])\n",
    "n_neg: int = len(df.loc[df['Priority Score'] < cutoff])\n",
    "print(f\"Screen Positive: {n_pos}, Screen Negative: {n_neg}\")\n",
    "\n",
    "def add_screening_result_col(x) -> str:\n",
    "    if x >= cutoff:\n",
    "        return f\"Positive (n = {n_pos})\"\n",
    "    else:\n",
    "        return f\"Negative (n = {n_neg})\"\n",
    "    \n",
    "def change_boolen_to_str(x) -> str:\n",
    "    if x == 'true':\n",
    "        return 'eLoF gene'\n",
    "    else:\n",
    "        return 'Non-eLoF gene'\n",
    "    \n",
    "df['Screening Result'] = df['Priority Score'].apply(add_screening_result_col)\n",
    "df['eLoF'] = df['eLoF'].replace({True: 'eLoF gene', False: 'Non-eLoF gene'})\n",
    "df['Canonical splice cite'] = df['Canonical splice cite'].replace({'True': 'Canonical', 'False': 'Non-canonical'})"
   ]
  },
  {
   "cell_type": "code",
   "execution_count": 61,
   "metadata": {},
   "outputs": [],
   "source": [
    "### Add Sample_IDs that have been solved to the true_list below \n",
    "true_list = ['Sample_20526', 'Sample_17367', 'Sample_5100', 'Sample_21599',\n",
    "            'Sample_11750', 'Sample_7528', 'Sample_2288', 'Sample_17367',\n",
    "            'Sample_11873', 'Sample_6024', 'Sample_21407', 'Sample_7605',\n",
    "            'Sample_11467', 'Sample_17483', 'Sample_8021', 'Sample_5037',\n",
    "            'Sample_12927', 'Sample_20526', 'Sample_17367', 'Sample_22460',\n",
    "            'Sample_13765', 'Sample_52', 'Sample_5766', 'Sample_16260',\n",
    "            'Sample_5766', 'Sample_3986', 'Sample_13920', 'Sample_22025',\n",
    "            'Sample_13635', 'Sample_7723', 'Sample_19560', 'Sample_8928',\n",
    "            'Sample_17579', 'Sample_20287', 'Sample_12988', 'Sample_9869', \n",
    "            'Sample_20078', 'Sample_21789', 'Sample_21156', 'Sample_19227', \n",
    "            'Sample_17367', 'Sample_14452', 'Sample_11444', 'Sample_10713', \n",
    "            'Sample_9091', 'Sample_8436', 'Sample_4752', 'Sample_372', \n",
    "            'Sample_20468', 'Sample_9043', 'Sample_6024', 'Sample_21206',\n",
    "            'Sample_19880', 'Sample_13387', 'Sample_12988', 'Sample_12291', \n",
    "            'Sample_11555', 'Sample_4938', 'Sample_4413', 'Sample_2325']\n",
    "\n",
    "len(true_list)\n",
    "\n",
    "# Remove above samples from dataframe\n",
    "df = df.loc[df['sample'].isin(true_list)]\n",
    "\n",
    "for s in list(df.loc[df['Screening Result'] == f\"Positive (n = {n_pos})\", 'sample']):\n",
    "    if s not in set(true_list):\n",
    "        print(s)"
   ]
  },
  {
   "cell_type": "code",
   "execution_count": 72,
   "metadata": {},
   "outputs": [
    {
     "data": {
      "text/html": [
       "<div>\n",
       "<style scoped>\n",
       "    .dataframe tbody tr th:only-of-type {\n",
       "        vertical-align: middle;\n",
       "    }\n",
       "\n",
       "    .dataframe tbody tr th {\n",
       "        vertical-align: top;\n",
       "    }\n",
       "\n",
       "    .dataframe thead th {\n",
       "        text-align: right;\n",
       "    }\n",
       "</style>\n",
       "<table border=\"1\" class=\"dataframe\">\n",
       "  <thead>\n",
       "    <tr style=\"text-align: right;\">\n",
       "      <th></th>\n",
       "      <th>sample</th>\n",
       "    </tr>\n",
       "  </thead>\n",
       "  <tbody>\n",
       "    <tr>\n",
       "      <th>200</th>\n",
       "      <td>Sample_21156</td>\n",
       "    </tr>\n",
       "    <tr>\n",
       "      <th>811</th>\n",
       "      <td>Sample_8021</td>\n",
       "    </tr>\n",
       "    <tr>\n",
       "      <th>888</th>\n",
       "      <td>Sample_6024</td>\n",
       "    </tr>\n",
       "    <tr>\n",
       "      <th>929</th>\n",
       "      <td>Sample_14452</td>\n",
       "    </tr>\n",
       "    <tr>\n",
       "      <th>1302</th>\n",
       "      <td>Sample_4752</td>\n",
       "    </tr>\n",
       "    <tr>\n",
       "      <th>1449</th>\n",
       "      <td>Sample_21407</td>\n",
       "    </tr>\n",
       "    <tr>\n",
       "      <th>1494</th>\n",
       "      <td>Sample_7528</td>\n",
       "    </tr>\n",
       "    <tr>\n",
       "      <th>1764</th>\n",
       "      <td>Sample_20526</td>\n",
       "    </tr>\n",
       "    <tr>\n",
       "      <th>1923</th>\n",
       "      <td>Sample_22460</td>\n",
       "    </tr>\n",
       "    <tr>\n",
       "      <th>2027</th>\n",
       "      <td>Sample_5100</td>\n",
       "    </tr>\n",
       "    <tr>\n",
       "      <th>2254</th>\n",
       "      <td>Sample_9869</td>\n",
       "    </tr>\n",
       "    <tr>\n",
       "      <th>2608</th>\n",
       "      <td>Sample_19227</td>\n",
       "    </tr>\n",
       "    <tr>\n",
       "      <th>2611</th>\n",
       "      <td>Sample_12988</td>\n",
       "    </tr>\n",
       "    <tr>\n",
       "      <th>2889</th>\n",
       "      <td>Sample_20287</td>\n",
       "    </tr>\n",
       "    <tr>\n",
       "      <th>3072</th>\n",
       "      <td>Sample_13765</td>\n",
       "    </tr>\n",
       "    <tr>\n",
       "      <th>3557</th>\n",
       "      <td>Sample_10713</td>\n",
       "    </tr>\n",
       "    <tr>\n",
       "      <th>3821</th>\n",
       "      <td>Sample_11750</td>\n",
       "    </tr>\n",
       "    <tr>\n",
       "      <th>3860</th>\n",
       "      <td>Sample_372</td>\n",
       "    </tr>\n",
       "    <tr>\n",
       "      <th>3984</th>\n",
       "      <td>Sample_8436</td>\n",
       "    </tr>\n",
       "    <tr>\n",
       "      <th>4198</th>\n",
       "      <td>Sample_11444</td>\n",
       "    </tr>\n",
       "    <tr>\n",
       "      <th>4623</th>\n",
       "      <td>Sample_21599</td>\n",
       "    </tr>\n",
       "    <tr>\n",
       "      <th>4753</th>\n",
       "      <td>Sample_16260</td>\n",
       "    </tr>\n",
       "    <tr>\n",
       "      <th>4834</th>\n",
       "      <td>Sample_9091</td>\n",
       "    </tr>\n",
       "    <tr>\n",
       "      <th>5039</th>\n",
       "      <td>Sample_7605</td>\n",
       "    </tr>\n",
       "    <tr>\n",
       "      <th>5230</th>\n",
       "      <td>Sample_2288</td>\n",
       "    </tr>\n",
       "    <tr>\n",
       "      <th>5284</th>\n",
       "      <td>Sample_20526</td>\n",
       "    </tr>\n",
       "    <tr>\n",
       "      <th>5300</th>\n",
       "      <td>Sample_3986</td>\n",
       "    </tr>\n",
       "    <tr>\n",
       "      <th>5373</th>\n",
       "      <td>Sample_13920</td>\n",
       "    </tr>\n",
       "    <tr>\n",
       "      <th>5383</th>\n",
       "      <td>Sample_22025</td>\n",
       "    </tr>\n",
       "    <tr>\n",
       "      <th>5611</th>\n",
       "      <td>Sample_7723</td>\n",
       "    </tr>\n",
       "    <tr>\n",
       "      <th>5799</th>\n",
       "      <td>Sample_19560</td>\n",
       "    </tr>\n",
       "    <tr>\n",
       "      <th>5909</th>\n",
       "      <td>Sample_11873</td>\n",
       "    </tr>\n",
       "    <tr>\n",
       "      <th>5911</th>\n",
       "      <td>Sample_20078</td>\n",
       "    </tr>\n",
       "    <tr>\n",
       "      <th>5926</th>\n",
       "      <td>Sample_21789</td>\n",
       "    </tr>\n",
       "    <tr>\n",
       "      <th>5952</th>\n",
       "      <td>Sample_8928</td>\n",
       "    </tr>\n",
       "    <tr>\n",
       "      <th>6308</th>\n",
       "      <td>Sample_11467</td>\n",
       "    </tr>\n",
       "    <tr>\n",
       "      <th>6328</th>\n",
       "      <td>Sample_17483</td>\n",
       "    </tr>\n",
       "  </tbody>\n",
       "</table>\n",
       "</div>"
      ],
      "text/plain": [
       "            sample\n",
       "200   Sample_21156\n",
       "811    Sample_8021\n",
       "888    Sample_6024\n",
       "929   Sample_14452\n",
       "1302   Sample_4752\n",
       "1449  Sample_21407\n",
       "1494   Sample_7528\n",
       "1764  Sample_20526\n",
       "1923  Sample_22460\n",
       "2027   Sample_5100\n",
       "2254   Sample_9869\n",
       "2608  Sample_19227\n",
       "2611  Sample_12988\n",
       "2889  Sample_20287\n",
       "3072  Sample_13765\n",
       "3557  Sample_10713\n",
       "3821  Sample_11750\n",
       "3860    Sample_372\n",
       "3984   Sample_8436\n",
       "4198  Sample_11444\n",
       "4623  Sample_21599\n",
       "4753  Sample_16260\n",
       "4834   Sample_9091\n",
       "5039   Sample_7605\n",
       "5230   Sample_2288\n",
       "5284  Sample_20526\n",
       "5300   Sample_3986\n",
       "5373  Sample_13920\n",
       "5383  Sample_22025\n",
       "5611   Sample_7723\n",
       "5799  Sample_19560\n",
       "5909  Sample_11873\n",
       "5911  Sample_20078\n",
       "5926  Sample_21789\n",
       "5952   Sample_8928\n",
       "6308  Sample_11467\n",
       "6328  Sample_17483"
      ]
     },
     "execution_count": 72,
     "metadata": {},
     "output_type": "execute_result"
    }
   ],
   "source": [
    "df[['sample']]"
   ]
  },
  {
   "cell_type": "code",
   "execution_count": 62,
   "metadata": {},
   "outputs": [],
   "source": [
    "df.to_excel('20241023_screening_result.xlsx', index=False)"
   ]
  },
  {
   "cell_type": "code",
   "execution_count": 63,
   "metadata": {},
   "outputs": [],
   "source": [
    "# dimensions = [dict(values=cars_df[label], label=label) for label in categorical_dimensions]\n",
    "categorical_dimensions = [\"Canonical splice cite\", \"eLoF\", \"Priority Score\", \"Screening Result\"]\n",
    "dimensions = [dict(values=df[label], label=label) for label in categorical_dimensions]\n",
    "\n",
    "# Build colorscale\n",
    "color = np.zeros(len(df), dtype='uint8')\n",
    "colorscale = [[0, 'lightgray'], [1, 'red']]"
   ]
  },
  {
   "cell_type": "code",
   "execution_count": 64,
   "metadata": {},
   "outputs": [
    {
     "data": {
      "text/plain": [
       "50"
      ]
     },
     "execution_count": 64,
     "metadata": {},
     "output_type": "execute_result"
    }
   ],
   "source": [
    "# total number of unsoloved cases\n",
    "len(df['sample'].unique().tolist())"
   ]
  },
  {
   "cell_type": "code",
   "execution_count": 65,
   "metadata": {},
   "outputs": [
    {
     "data": {
      "application/vnd.jupyter.widget-view+json": {
       "model_id": "3576e8c91d2c4d9e9b55b6447baadd1e",
       "version_major": 2,
       "version_minor": 0
      },
      "text/plain": [
       "FigureWidget({\n",
       "    'data': [{'marker': {'color': 'gray'},\n",
       "              'mode': 'markers',\n",
       "              'selected': {'marker': {'color': 'firebrick'}},\n",
       "              'type': 'scatter',\n",
       "              'uid': 'bb07bf32-322d-48ad-926f-6fa035f542cb',\n",
       "              'unselected': {'marker': {'opacity': 0.3}},\n",
       "              'x': array([0, 0, 3, ..., 5, 0, 1]),\n",
       "              'y': array([0.01, 0.04, 0.99, ..., 0.75, 0.02, 0.  ])},\n",
       "             {'dimensions': [{'label': 'Canonical splice cite',\n",
       "                              'values': array(['No', 'No', 'Yes', ..., 'No', 'No', 'No'], dtype=object)},\n",
       "                             {'label': 'eLoF',\n",
       "                              'values': array(['Non-eLoF gene', 'eLoF gene', 'Non-eLoF gene', ..., 'eLoF gene',\n",
       "                                               'eLoF gene', 'eLoF gene'], dtype=object)},\n",
       "                             {'label': 'Priority Score', 'values': array([0, 0, 3, ..., 5, 0, 1])},\n",
       "                             {'label': 'Screening Result',\n",
       "                              'values': array(['Negative (n = 4213)', 'Negative (n = 4213)', 'Negative (n = 4213)',\n",
       "                                               ..., 'Positive (n = 37)', 'Negative (n = 4213)', 'Negative (n = 4213)'],\n",
       "                                              dtype=object)}],\n",
       "              'domain': {'y': [0, 0.5]},\n",
       "              'line': {'cmax': 1,\n",
       "                       'cmin': 0,\n",
       "                       'color': array([0, 0, 0, ..., 0, 0, 0], dtype=uint8),\n",
       "                       'colorscale': [[0, 'lightgray'], [1, 'red']],\n",
       "                       'shape': 'hspline'},\n",
       "              'type': 'parcats',\n",
       "              'uid': 'ba8983d9-200c-43db-9925-5d915c65c55b'}],\n",
       "    'layout': {'dragmode': 'lasso',\n",
       "               'height': 1000,\n",
       "               'hovermode': 'closest',\n",
       "               'template': '...',\n",
       "               'width': 1200,\n",
       "               'xaxis': {'tickvals': [0, 1, 2, 3, 4, 5, 6, 7, 8, 9], 'title': {'text': 'Priority Score'}},\n",
       "               'yaxis': {'domain': [0.6, 1], 'title': {'text': 'Maximum SpliceAI ∆score'}}}\n",
       "})"
      ]
     },
     "execution_count": 65,
     "metadata": {},
     "output_type": "execute_result"
    }
   ],
   "source": [
    "# Build figure as FigureWidget\n",
    "fig = go.FigureWidget(\n",
    "    data=[\n",
    "        go.Scatter(\n",
    "            x=df['Priority Score'], y=df['maxsplai'],\n",
    "            marker={'color': 'gray'}, mode='markers', selected={'marker': {'color': 'firebrick'}},\n",
    "            unselected={'marker': {'opacity': 0.3}}), \n",
    "        go.Parcats(\n",
    "            domain={'y': [0, 0.5]}, \n",
    "            dimensions=dimensions,\n",
    "            line={'colorscale': colorscale, 'cmin': 0,'cmax': 1, 'color': color, 'shape': 'hspline'})\n",
    "    ])\n",
    "\n",
    "fig.update_layout(\n",
    "        height=800, xaxis={'title': 'Priority Score', 'tickvals': [0, 1, 2, 3, 4, 5, 6, 7, 8, 9]},\n",
    "        yaxis={'title': 'Maximum SpliceAI ∆score', 'domain': [0.6, 1]},\n",
    "        dragmode='lasso', hovermode='closest')\n",
    "\n",
    "\n",
    "def update_color(trace, points, state):\n",
    "    # Update scatter selection\n",
    "    fig.data[0].selectedpoints = points.point_inds\n",
    "\n",
    "    # Update parcats colors\n",
    "    new_color = np.zeros(len(df), dtype='uint8')\n",
    "    new_color[points.point_inds] = 1\n",
    "    fig.data[1].line.color = new_color\n",
    "\n",
    "# Register callback on scatter selection...\n",
    "fig.data[0].on_selection(update_color)\n",
    "# and parcats click\n",
    "fig.data[1].on_click(update_color)\n",
    "\n",
    "# Update fig size\n",
    "fig.update_layout(width=1200, height=1000)\n",
    "\n",
    "# Save as html\n",
    "# fig.write_html('FigureS3.html')"
   ]
  },
  {
   "cell_type": "code",
   "execution_count": 108,
   "metadata": {},
   "outputs": [
    {
     "data": {
      "application/vnd.plotly.v1+json": {
       "config": {
        "plotlyServerURL": "https://plot.ly"
       },
       "data": [
        {
         "marker": {
          "color": "gray"
         },
         "mode": "markers",
         "selected": {
          "marker": {
           "color": "firebrick"
          }
         },
         "type": "scatter",
         "uid": "f5e57286-becc-47eb-97ea-023ea17ddd98",
         "unselected": {
          "marker": {
           "opacity": 0.3
          }
         },
         "x": [
          3,
          3,
          3,
          5,
          3,
          3,
          4,
          3,
          5,
          5,
          4,
          5,
          3,
          3,
          3,
          7,
          3,
          3,
          5,
          7,
          7,
          3,
          5,
          3,
          3,
          6,
          5,
          5,
          5,
          3,
          3,
          3,
          7,
          3,
          5,
          3,
          4,
          5,
          9,
          3,
          3,
          3,
          3,
          3,
          3,
          3,
          3,
          5,
          6,
          5,
          3,
          3,
          3,
          4,
          4
         ],
         "y": [
          0.99,
          0.87,
          0.99,
          0.99,
          0.58,
          0.94,
          0.24,
          0.98,
          1,
          0.95,
          0.91,
          0.98,
          0.15,
          0.99,
          0.21,
          1,
          0.9,
          0.98,
          0.68,
          0.99,
          0.58,
          0.42,
          0.98,
          1,
          0.9,
          1,
          0.98,
          0.48,
          0.99,
          0.99,
          0.99,
          1,
          1,
          0.91,
          0.99,
          0.99,
          0.5,
          1,
          0.99,
          0.3,
          0.66,
          0.12,
          0.2,
          0.98,
          0.85,
          0.2,
          0.21,
          0.98,
          0.98,
          1,
          0.68,
          1,
          1,
          0.99,
          0.75
         ]
        },
        {
         "dimensions": [
          {
           "label": "Known disease genes",
           "values": [
            "Unknown <br>(n = 25)",
            "Unknown <br>(n = 25)",
            "Unknown <br>(n = 25)",
            "Unknown <br>(n = 25)",
            "Unknown <br>(n = 25)",
            "Unknown <br>(n = 25)",
            "Unknown <br>(n = 25)",
            "Unknown <br>(n = 25)",
            "Unknown <br>(n = 25)",
            "Unknown <br>(n = 25)",
            "Unknown <br>(n = 25)",
            "Unknown <br>(n = 25)",
            "Unknown <br>(n = 25)",
            "Unknown <br>(n = 25)",
            "Unknown <br>(n = 25)",
            "Unknown <br>(n = 25)",
            "Unknown <br>(n = 25)",
            "Unknown <br>(n = 25)",
            "Unknown <br>(n = 25)",
            "Unknown <br>(n = 25)",
            "Unknown <br>(n = 25)",
            "Unknown <br>(n = 25)",
            "Unknown <br>(n = 25)",
            "Unknown <br>(n = 25)",
            "Unknown <br>(n = 25)",
            "Known <br>(n = 30)",
            "Known <br>(n = 30)",
            "Known <br>(n = 30)",
            "Known <br>(n = 30)",
            "Known <br>(n = 30)",
            "Known <br>(n = 30)",
            "Known <br>(n = 30)",
            "Known <br>(n = 30)",
            "Known <br>(n = 30)",
            "Known <br>(n = 30)",
            "Known <br>(n = 30)",
            "Known <br>(n = 30)",
            "Known <br>(n = 30)",
            "Known <br>(n = 30)",
            "Known <br>(n = 30)",
            "Known <br>(n = 30)",
            "Known <br>(n = 30)",
            "Known <br>(n = 30)",
            "Known <br>(n = 30)",
            "Known <br>(n = 30)",
            "Known <br>(n = 30)",
            "Known <br>(n = 30)",
            "Known <br>(n = 30)",
            "Known <br>(n = 30)",
            "Known <br>(n = 30)",
            "Known <br>(n = 30)",
            "Known <br>(n = 30)",
            "Known <br>(n = 30)",
            "Known <br>(n = 30)",
            "Known <br>(n = 30)"
           ]
          },
          {
           "label": "Reported inheritance",
           "values": [
            "Unknown",
            "Unknown",
            "Unknown",
            "Unknown",
            "Unknown",
            "Unknown",
            "Unknown",
            "Unknown",
            "Unknown",
            "Unknown",
            "Unknown",
            "Unknown",
            "Unknown",
            "Unknown",
            "Unknown",
            "Unknown",
            "Unknown",
            "Unknown",
            "Unknown",
            "Unknown",
            "Unknown",
            "Unknown",
            "Unknown",
            "Unknown",
            "Unknown",
            "AR",
            "AR",
            "AD",
            "AR",
            "AD",
            "AR",
            "AR",
            "AR",
            "AD",
            "AR",
            "XLD",
            "XLD",
            "AR",
            "AR",
            "AR",
            "AR",
            "AR",
            "AR",
            "AD",
            "AD",
            "AR",
            "AR",
            "AR",
            "AD",
            "AR",
            "AR",
            "AD",
            "AR",
            "AD/AR",
            "AD"
           ]
          },
          {
           "label": "eLoF",
           "values": [
            "eLoF gene",
            "eLoF gene",
            "eLoF gene",
            "Non-eLoF gene",
            "Non-eLoF gene",
            "Non-eLoF gene",
            "Non-eLoF gene",
            "Non-eLoF gene",
            "eLoF gene",
            "Non-eLoF gene",
            "Non-eLoF gene",
            "Non-eLoF gene",
            "Non-eLoF gene",
            "Non-eLoF gene",
            "Non-eLoF gene",
            "Non-eLoF gene",
            "Non-eLoF gene",
            "Non-eLoF gene",
            "Non-eLoF gene",
            "Non-eLoF gene",
            "Non-eLoF gene",
            "Non-eLoF gene",
            "Non-eLoF gene",
            "Non-eLoF gene",
            "Non-eLoF gene",
            "eLoF gene",
            "eLoF gene",
            "eLoF gene",
            "eLoF gene",
            "Non-eLoF gene",
            "eLoF gene",
            "Non-eLoF gene",
            "eLoF gene",
            "eLoF gene",
            "eLoF gene",
            "eLoF gene",
            "eLoF gene",
            "eLoF gene",
            "Non-eLoF gene",
            "Non-eLoF gene",
            "eLoF gene",
            "eLoF gene",
            "eLoF gene",
            "Non-eLoF gene",
            "Non-eLoF gene",
            "eLoF gene",
            "Non-eLoF gene",
            "eLoF gene",
            "eLoF gene",
            "Non-eLoF gene",
            "Non-eLoF gene",
            "eLoF gene",
            "eLoF gene",
            "Non-eLoF gene",
            "Non-eLoF gene"
           ]
          },
          {
           "label": "Priority Score",
           "values": [
            7,
            7,
            7,
            6,
            5,
            5,
            5,
            5,
            5,
            5,
            5,
            5,
            5,
            5,
            3,
            3,
            3,
            3,
            3,
            3,
            3,
            3,
            3,
            3,
            3,
            9,
            7,
            7,
            6,
            5,
            5,
            5,
            4,
            4,
            4,
            4,
            4,
            3,
            3,
            3,
            3,
            3,
            3,
            3,
            3,
            3,
            3,
            3,
            3,
            3,
            3,
            3,
            3,
            3,
            3
           ]
          },
          {
           "label": "Final interpretation",
           "values": [
            "Novel candidate gene (n = 3)",
            "Novel candidate gene (n = 3)",
            "Novel candidate gene (n = 3)",
            "VUS (n = 22)",
            "VUS (n = 22)",
            "VUS (n = 22)",
            "VUS (n = 22)",
            "VUS (n = 22)",
            "VUS (n = 22)",
            "VUS (n = 22)",
            "VUS (n = 22)",
            "VUS (n = 22)",
            "VUS (n = 22)",
            "VUS (n = 22)",
            "VUS (n = 22)",
            "VUS (n = 22)",
            "VUS (n = 22)",
            "VUS (n = 22)",
            "VUS (n = 22)",
            "VUS (n = 22)",
            "VUS (n = 22)",
            "VUS (n = 22)",
            "VUS (n = 22)",
            "VUS (n = 22)",
            "VUS (n = 22)",
            "Mismatched phenotype (n = 23)",
            "Mismatched phenotype (n = 23)",
            "LP (Novel) (n = 1)",
            "Mismatched phenotype (n = 23)",
            "Mismatched phenotype (n = 23)",
            "Mismatched phenotype (n = 23)",
            "Mismatched phenotype (n = 23)",
            "Mismatched phenotype (n = 23)",
            "P (Reported) (n = 3)",
            "Mismatched phenotype (n = 23)",
            "P (Reported) (n = 3)",
            "P (Novel) (n = 1)",
            "Mismatched phenotype (n = 23)",
            "Mismatched phenotype (n = 23)",
            "Mismatched phenotype (n = 23)",
            "Mismatched phenotype (n = 23)",
            "Mismatched phenotype (n = 23)",
            "Mismatched phenotype (n = 23)",
            "Mismatched phenotype (n = 23)",
            "Mismatched phenotype (n = 23)",
            "Mismatched phenotype (n = 23)",
            "Mismatched phenotype (n = 23)",
            "Mismatched phenotype (n = 23)",
            "P (Reported) (n = 3)",
            "Mismatched phenotype (n = 23)",
            "Mismatched inheritance (n = 2)",
            "Mismatched phenotype (n = 23)",
            "Mismatched inheritance (n = 2)",
            "Mismatched phenotype (n = 23)",
            "Mismatched phenotype (n = 23)"
           ]
          }
         ],
         "domain": {
          "y": [
           0,
           0.5
          ]
         },
         "line": {
          "cmax": 1,
          "cmin": 0,
          "color": [
           0,
           0,
           0,
           0,
           0,
           0,
           0,
           0,
           0,
           0,
           0,
           0,
           0,
           0,
           0,
           0,
           0,
           0,
           0,
           0,
           0,
           0,
           0,
           0,
           0,
           0,
           0,
           0,
           0,
           0,
           0,
           0,
           0,
           0,
           0,
           0,
           0,
           0,
           0,
           0,
           0,
           0,
           0,
           0,
           0,
           0,
           0,
           0,
           0,
           0,
           0,
           0,
           0,
           0,
           0
          ],
          "colorscale": [
           [
            0,
            "gray"
           ],
           [
            0.14,
            "gray"
           ],
           [
            0.14,
            "firebrick"
           ],
           [
            0.28,
            "firebrick"
           ],
           [
            0.28,
            "#82C6EF"
           ],
           [
            0.42,
            "#82C6EF"
           ],
           [
            0.42,
            "#EAA63A"
           ],
           [
            0.56,
            "#EAA63A"
           ],
           [
            0.56,
            "#4FAC7E"
           ],
           [
            0.7,
            "#4FAC7E"
           ],
           [
            0.7,
            "#E3948D"
           ],
           [
            0.84,
            "#E3948D"
           ],
           [
            0.84,
            "#804031"
           ],
           [
            1,
            "#804031"
           ]
          ],
          "shape": "hspline"
         },
         "type": "parcats",
         "uid": "1e89316c-521d-4ea0-9042-249ebf13d901"
        }
       ],
       "layout": {
        "dragmode": "lasso",
        "height": 800,
        "hovermode": "closest",
        "template": {
         "data": {
          "bar": [
           {
            "error_x": {
             "color": "#2a3f5f"
            },
            "error_y": {
             "color": "#2a3f5f"
            },
            "marker": {
             "line": {
              "color": "#E5ECF6",
              "width": 0.5
             },
             "pattern": {
              "fillmode": "overlay",
              "size": 10,
              "solidity": 0.2
             }
            },
            "type": "bar"
           }
          ],
          "barpolar": [
           {
            "marker": {
             "line": {
              "color": "#E5ECF6",
              "width": 0.5
             },
             "pattern": {
              "fillmode": "overlay",
              "size": 10,
              "solidity": 0.2
             }
            },
            "type": "barpolar"
           }
          ],
          "carpet": [
           {
            "aaxis": {
             "endlinecolor": "#2a3f5f",
             "gridcolor": "white",
             "linecolor": "white",
             "minorgridcolor": "white",
             "startlinecolor": "#2a3f5f"
            },
            "baxis": {
             "endlinecolor": "#2a3f5f",
             "gridcolor": "white",
             "linecolor": "white",
             "minorgridcolor": "white",
             "startlinecolor": "#2a3f5f"
            },
            "type": "carpet"
           }
          ],
          "choropleth": [
           {
            "colorbar": {
             "outlinewidth": 0,
             "ticks": ""
            },
            "type": "choropleth"
           }
          ],
          "contour": [
           {
            "colorbar": {
             "outlinewidth": 0,
             "ticks": ""
            },
            "colorscale": [
             [
              0,
              "#0d0887"
             ],
             [
              0.1111111111111111,
              "#46039f"
             ],
             [
              0.2222222222222222,
              "#7201a8"
             ],
             [
              0.3333333333333333,
              "#9c179e"
             ],
             [
              0.4444444444444444,
              "#bd3786"
             ],
             [
              0.5555555555555556,
              "#d8576b"
             ],
             [
              0.6666666666666666,
              "#ed7953"
             ],
             [
              0.7777777777777778,
              "#fb9f3a"
             ],
             [
              0.8888888888888888,
              "#fdca26"
             ],
             [
              1,
              "#f0f921"
             ]
            ],
            "type": "contour"
           }
          ],
          "contourcarpet": [
           {
            "colorbar": {
             "outlinewidth": 0,
             "ticks": ""
            },
            "type": "contourcarpet"
           }
          ],
          "heatmap": [
           {
            "colorbar": {
             "outlinewidth": 0,
             "ticks": ""
            },
            "colorscale": [
             [
              0,
              "#0d0887"
             ],
             [
              0.1111111111111111,
              "#46039f"
             ],
             [
              0.2222222222222222,
              "#7201a8"
             ],
             [
              0.3333333333333333,
              "#9c179e"
             ],
             [
              0.4444444444444444,
              "#bd3786"
             ],
             [
              0.5555555555555556,
              "#d8576b"
             ],
             [
              0.6666666666666666,
              "#ed7953"
             ],
             [
              0.7777777777777778,
              "#fb9f3a"
             ],
             [
              0.8888888888888888,
              "#fdca26"
             ],
             [
              1,
              "#f0f921"
             ]
            ],
            "type": "heatmap"
           }
          ],
          "heatmapgl": [
           {
            "colorbar": {
             "outlinewidth": 0,
             "ticks": ""
            },
            "colorscale": [
             [
              0,
              "#0d0887"
             ],
             [
              0.1111111111111111,
              "#46039f"
             ],
             [
              0.2222222222222222,
              "#7201a8"
             ],
             [
              0.3333333333333333,
              "#9c179e"
             ],
             [
              0.4444444444444444,
              "#bd3786"
             ],
             [
              0.5555555555555556,
              "#d8576b"
             ],
             [
              0.6666666666666666,
              "#ed7953"
             ],
             [
              0.7777777777777778,
              "#fb9f3a"
             ],
             [
              0.8888888888888888,
              "#fdca26"
             ],
             [
              1,
              "#f0f921"
             ]
            ],
            "type": "heatmapgl"
           }
          ],
          "histogram": [
           {
            "marker": {
             "pattern": {
              "fillmode": "overlay",
              "size": 10,
              "solidity": 0.2
             }
            },
            "type": "histogram"
           }
          ],
          "histogram2d": [
           {
            "colorbar": {
             "outlinewidth": 0,
             "ticks": ""
            },
            "colorscale": [
             [
              0,
              "#0d0887"
             ],
             [
              0.1111111111111111,
              "#46039f"
             ],
             [
              0.2222222222222222,
              "#7201a8"
             ],
             [
              0.3333333333333333,
              "#9c179e"
             ],
             [
              0.4444444444444444,
              "#bd3786"
             ],
             [
              0.5555555555555556,
              "#d8576b"
             ],
             [
              0.6666666666666666,
              "#ed7953"
             ],
             [
              0.7777777777777778,
              "#fb9f3a"
             ],
             [
              0.8888888888888888,
              "#fdca26"
             ],
             [
              1,
              "#f0f921"
             ]
            ],
            "type": "histogram2d"
           }
          ],
          "histogram2dcontour": [
           {
            "colorbar": {
             "outlinewidth": 0,
             "ticks": ""
            },
            "colorscale": [
             [
              0,
              "#0d0887"
             ],
             [
              0.1111111111111111,
              "#46039f"
             ],
             [
              0.2222222222222222,
              "#7201a8"
             ],
             [
              0.3333333333333333,
              "#9c179e"
             ],
             [
              0.4444444444444444,
              "#bd3786"
             ],
             [
              0.5555555555555556,
              "#d8576b"
             ],
             [
              0.6666666666666666,
              "#ed7953"
             ],
             [
              0.7777777777777778,
              "#fb9f3a"
             ],
             [
              0.8888888888888888,
              "#fdca26"
             ],
             [
              1,
              "#f0f921"
             ]
            ],
            "type": "histogram2dcontour"
           }
          ],
          "mesh3d": [
           {
            "colorbar": {
             "outlinewidth": 0,
             "ticks": ""
            },
            "type": "mesh3d"
           }
          ],
          "parcoords": [
           {
            "line": {
             "colorbar": {
              "outlinewidth": 0,
              "ticks": ""
             }
            },
            "type": "parcoords"
           }
          ],
          "pie": [
           {
            "automargin": true,
            "type": "pie"
           }
          ],
          "scatter": [
           {
            "fillpattern": {
             "fillmode": "overlay",
             "size": 10,
             "solidity": 0.2
            },
            "type": "scatter"
           }
          ],
          "scatter3d": [
           {
            "line": {
             "colorbar": {
              "outlinewidth": 0,
              "ticks": ""
             }
            },
            "marker": {
             "colorbar": {
              "outlinewidth": 0,
              "ticks": ""
             }
            },
            "type": "scatter3d"
           }
          ],
          "scattercarpet": [
           {
            "marker": {
             "colorbar": {
              "outlinewidth": 0,
              "ticks": ""
             }
            },
            "type": "scattercarpet"
           }
          ],
          "scattergeo": [
           {
            "marker": {
             "colorbar": {
              "outlinewidth": 0,
              "ticks": ""
             }
            },
            "type": "scattergeo"
           }
          ],
          "scattergl": [
           {
            "marker": {
             "colorbar": {
              "outlinewidth": 0,
              "ticks": ""
             }
            },
            "type": "scattergl"
           }
          ],
          "scattermapbox": [
           {
            "marker": {
             "colorbar": {
              "outlinewidth": 0,
              "ticks": ""
             }
            },
            "type": "scattermapbox"
           }
          ],
          "scatterpolar": [
           {
            "marker": {
             "colorbar": {
              "outlinewidth": 0,
              "ticks": ""
             }
            },
            "type": "scatterpolar"
           }
          ],
          "scatterpolargl": [
           {
            "marker": {
             "colorbar": {
              "outlinewidth": 0,
              "ticks": ""
             }
            },
            "type": "scatterpolargl"
           }
          ],
          "scatterternary": [
           {
            "marker": {
             "colorbar": {
              "outlinewidth": 0,
              "ticks": ""
             }
            },
            "type": "scatterternary"
           }
          ],
          "surface": [
           {
            "colorbar": {
             "outlinewidth": 0,
             "ticks": ""
            },
            "colorscale": [
             [
              0,
              "#0d0887"
             ],
             [
              0.1111111111111111,
              "#46039f"
             ],
             [
              0.2222222222222222,
              "#7201a8"
             ],
             [
              0.3333333333333333,
              "#9c179e"
             ],
             [
              0.4444444444444444,
              "#bd3786"
             ],
             [
              0.5555555555555556,
              "#d8576b"
             ],
             [
              0.6666666666666666,
              "#ed7953"
             ],
             [
              0.7777777777777778,
              "#fb9f3a"
             ],
             [
              0.8888888888888888,
              "#fdca26"
             ],
             [
              1,
              "#f0f921"
             ]
            ],
            "type": "surface"
           }
          ],
          "table": [
           {
            "cells": {
             "fill": {
              "color": "#EBF0F8"
             },
             "line": {
              "color": "white"
             }
            },
            "header": {
             "fill": {
              "color": "#C8D4E3"
             },
             "line": {
              "color": "white"
             }
            },
            "type": "table"
           }
          ]
         },
         "layout": {
          "annotationdefaults": {
           "arrowcolor": "#2a3f5f",
           "arrowhead": 0,
           "arrowwidth": 1
          },
          "autotypenumbers": "strict",
          "coloraxis": {
           "colorbar": {
            "outlinewidth": 0,
            "ticks": ""
           }
          },
          "colorscale": {
           "diverging": [
            [
             0,
             "#8e0152"
            ],
            [
             0.1,
             "#c51b7d"
            ],
            [
             0.2,
             "#de77ae"
            ],
            [
             0.3,
             "#f1b6da"
            ],
            [
             0.4,
             "#fde0ef"
            ],
            [
             0.5,
             "#f7f7f7"
            ],
            [
             0.6,
             "#e6f5d0"
            ],
            [
             0.7,
             "#b8e186"
            ],
            [
             0.8,
             "#7fbc41"
            ],
            [
             0.9,
             "#4d9221"
            ],
            [
             1,
             "#276419"
            ]
           ],
           "sequential": [
            [
             0,
             "#0d0887"
            ],
            [
             0.1111111111111111,
             "#46039f"
            ],
            [
             0.2222222222222222,
             "#7201a8"
            ],
            [
             0.3333333333333333,
             "#9c179e"
            ],
            [
             0.4444444444444444,
             "#bd3786"
            ],
            [
             0.5555555555555556,
             "#d8576b"
            ],
            [
             0.6666666666666666,
             "#ed7953"
            ],
            [
             0.7777777777777778,
             "#fb9f3a"
            ],
            [
             0.8888888888888888,
             "#fdca26"
            ],
            [
             1,
             "#f0f921"
            ]
           ],
           "sequentialminus": [
            [
             0,
             "#0d0887"
            ],
            [
             0.1111111111111111,
             "#46039f"
            ],
            [
             0.2222222222222222,
             "#7201a8"
            ],
            [
             0.3333333333333333,
             "#9c179e"
            ],
            [
             0.4444444444444444,
             "#bd3786"
            ],
            [
             0.5555555555555556,
             "#d8576b"
            ],
            [
             0.6666666666666666,
             "#ed7953"
            ],
            [
             0.7777777777777778,
             "#fb9f3a"
            ],
            [
             0.8888888888888888,
             "#fdca26"
            ],
            [
             1,
             "#f0f921"
            ]
           ]
          },
          "colorway": [
           "#636efa",
           "#EF553B",
           "#00cc96",
           "#ab63fa",
           "#FFA15A",
           "#19d3f3",
           "#FF6692",
           "#B6E880",
           "#FF97FF",
           "#FECB52"
          ],
          "font": {
           "color": "#2a3f5f"
          },
          "geo": {
           "bgcolor": "white",
           "lakecolor": "white",
           "landcolor": "#E5ECF6",
           "showlakes": true,
           "showland": true,
           "subunitcolor": "white"
          },
          "hoverlabel": {
           "align": "left"
          },
          "hovermode": "closest",
          "mapbox": {
           "style": "light"
          },
          "paper_bgcolor": "white",
          "plot_bgcolor": "#E5ECF6",
          "polar": {
           "angularaxis": {
            "gridcolor": "white",
            "linecolor": "white",
            "ticks": ""
           },
           "bgcolor": "#E5ECF6",
           "radialaxis": {
            "gridcolor": "white",
            "linecolor": "white",
            "ticks": ""
           }
          },
          "scene": {
           "xaxis": {
            "backgroundcolor": "#E5ECF6",
            "gridcolor": "white",
            "gridwidth": 2,
            "linecolor": "white",
            "showbackground": true,
            "ticks": "",
            "zerolinecolor": "white"
           },
           "yaxis": {
            "backgroundcolor": "#E5ECF6",
            "gridcolor": "white",
            "gridwidth": 2,
            "linecolor": "white",
            "showbackground": true,
            "ticks": "",
            "zerolinecolor": "white"
           },
           "zaxis": {
            "backgroundcolor": "#E5ECF6",
            "gridcolor": "white",
            "gridwidth": 2,
            "linecolor": "white",
            "showbackground": true,
            "ticks": "",
            "zerolinecolor": "white"
           }
          },
          "shapedefaults": {
           "line": {
            "color": "#2a3f5f"
           }
          },
          "ternary": {
           "aaxis": {
            "gridcolor": "white",
            "linecolor": "white",
            "ticks": ""
           },
           "baxis": {
            "gridcolor": "white",
            "linecolor": "white",
            "ticks": ""
           },
           "bgcolor": "#E5ECF6",
           "caxis": {
            "gridcolor": "white",
            "linecolor": "white",
            "ticks": ""
           }
          },
          "title": {
           "x": 0.05
          },
          "xaxis": {
           "automargin": true,
           "gridcolor": "white",
           "linecolor": "white",
           "ticks": "",
           "title": {
            "standoff": 15
           },
           "zerolinecolor": "white",
           "zerolinewidth": 2
          },
          "yaxis": {
           "automargin": true,
           "gridcolor": "white",
           "linecolor": "white",
           "ticks": "",
           "title": {
            "standoff": 15
           },
           "zerolinecolor": "white",
           "zerolinewidth": 2
          }
         }
        },
        "xaxis": {
         "tickvals": [
          0,
          1,
          2,
          3,
          4,
          5,
          6,
          7,
          8,
          9
         ],
         "title": {
          "text": "Priority Score"
         }
        },
        "yaxis": {
         "domain": [
          0.6,
          1
         ],
         "title": {
          "text": "Maximum SpliceAI ∆score"
         }
        }
       }
      }
     },
     "metadata": {},
     "output_type": "display_data"
    }
   ],
   "source": [
    "fig.show()"
   ]
  },
  {
   "cell_type": "code",
   "execution_count": 19,
   "metadata": {},
   "outputs": [],
   "source": [
    "df2 = pd.read_csv(\"screenpositives.txt\", sep='\\t', header=0)\n"
   ]
  },
  {
   "cell_type": "code",
   "execution_count": 78,
   "metadata": {},
   "outputs": [
    {
     "data": {
      "text/html": [
       "<div>\n",
       "<style scoped>\n",
       "    .dataframe tbody tr th:only-of-type {\n",
       "        vertical-align: middle;\n",
       "    }\n",
       "\n",
       "    .dataframe tbody tr th {\n",
       "        vertical-align: top;\n",
       "    }\n",
       "\n",
       "    .dataframe thead th {\n",
       "        text-align: right;\n",
       "    }\n",
       "</style>\n",
       "<table border=\"1\" class=\"dataframe\">\n",
       "  <thead>\n",
       "    <tr style=\"text-align: right;\">\n",
       "      <th></th>\n",
       "      <th>DM</th>\n",
       "      <th>Priority Score</th>\n",
       "      <th>expected_inheritance</th>\n",
       "      <th>Gene.refGene</th>\n",
       "      <th>c.HGVS</th>\n",
       "      <th>p.HVGS</th>\n",
       "      <th>Disease</th>\n",
       "      <th>maxsplai</th>\n",
       "      <th>Canonical splice cite</th>\n",
       "      <th>is_Frameshift</th>\n",
       "      <th>...</th>\n",
       "      <th>skipped_ccrs</th>\n",
       "      <th>deleted_ccrs</th>\n",
       "      <th>insilico_screening</th>\n",
       "      <th>clinvar_screening</th>\n",
       "      <th>altsymbol</th>\n",
       "      <th>refseq</th>\n",
       "      <th>hgncID</th>\n",
       "      <th>omimid</th>\n",
       "      <th>Variants to report</th>\n",
       "      <th>Screening Result</th>\n",
       "    </tr>\n",
       "  </thead>\n",
       "  <tbody>\n",
       "    <tr>\n",
       "      <th>200</th>\n",
       "      <td>NaN</td>\n",
       "      <td>5</td>\n",
       "      <td>NaN</td>\n",
       "      <td>SFT2D2</td>\n",
       "      <td>c.444-2A&gt;C</td>\n",
       "      <td>.</td>\n",
       "      <td>Epilepsy ,Epilepsy</td>\n",
       "      <td>0.99</td>\n",
       "      <td>Yes</td>\n",
       "      <td>False</td>\n",
       "      <td>...</td>\n",
       "      <td>NaN</td>\n",
       "      <td>56.218302</td>\n",
       "      <td>5</td>\n",
       "      <td>0</td>\n",
       "      <td>NaN</td>\n",
       "      <td>NaN</td>\n",
       "      <td>NaN</td>\n",
       "      <td>NaN</td>\n",
       "      <td>NaN</td>\n",
       "      <td>Positive (n = 37)</td>\n",
       "    </tr>\n",
       "    <tr>\n",
       "      <th>811</th>\n",
       "      <td>443.0</td>\n",
       "      <td>4</td>\n",
       "      <td>AR</td>\n",
       "      <td>CDH23</td>\n",
       "      <td>c.2304+6T&gt;G</td>\n",
       "      <td>.</td>\n",
       "      <td>Axial_SMD</td>\n",
       "      <td>0.58</td>\n",
       "      <td>No</td>\n",
       "      <td>True</td>\n",
       "      <td>...</td>\n",
       "      <td>NaN</td>\n",
       "      <td>NaN</td>\n",
       "      <td>3</td>\n",
       "      <td>1</td>\n",
       "      <td>CDHR23|PITA5|USH1D</td>\n",
       "      <td>NM_022124.6</td>\n",
       "      <td>13733</td>\n",
       "      <td>605516</td>\n",
       "      <td>NaN</td>\n",
       "      <td>Positive (n = 37)</td>\n",
       "    </tr>\n",
       "    <tr>\n",
       "      <th>888</th>\n",
       "      <td>317.0</td>\n",
       "      <td>5</td>\n",
       "      <td>AR</td>\n",
       "      <td>DYNC2H1</td>\n",
       "      <td>c.1078C&gt;T</td>\n",
       "      <td>p.Arg360*</td>\n",
       "      <td>ASD</td>\n",
       "      <td>0.24</td>\n",
       "      <td>No</td>\n",
       "      <td>False</td>\n",
       "      <td>...</td>\n",
       "      <td>NaN</td>\n",
       "      <td>NaN</td>\n",
       "      <td>3</td>\n",
       "      <td>2</td>\n",
       "      <td>ATD3|DHC1b|DHC2|DNCH2|DYH1B|hdhc11|SRPS2B|SRTD3</td>\n",
       "      <td>NM_001080463.2</td>\n",
       "      <td>2962</td>\n",
       "      <td>603297</td>\n",
       "      <td>NaN</td>\n",
       "      <td>Positive (n = 37)</td>\n",
       "    </tr>\n",
       "    <tr>\n",
       "      <th>929</th>\n",
       "      <td>0.0</td>\n",
       "      <td>5</td>\n",
       "      <td>UNK</td>\n",
       "      <td>USP2</td>\n",
       "      <td>c.826-2A&gt;G</td>\n",
       "      <td>.</td>\n",
       "      <td>Lennox-Gastaut症候群,Lennox-Gastaut症候群</td>\n",
       "      <td>1.00</td>\n",
       "      <td>Yes</td>\n",
       "      <td>False</td>\n",
       "      <td>...</td>\n",
       "      <td>NaN</td>\n",
       "      <td>81.947918</td>\n",
       "      <td>5</td>\n",
       "      <td>0</td>\n",
       "      <td>UBP41|USP9</td>\n",
       "      <td>NM_004205.5</td>\n",
       "      <td>12618</td>\n",
       "      <td>604725</td>\n",
       "      <td>NaN</td>\n",
       "      <td>Positive (n = 37)</td>\n",
       "    </tr>\n",
       "    <tr>\n",
       "      <th>1302</th>\n",
       "      <td>0.0</td>\n",
       "      <td>5</td>\n",
       "      <td>UNK</td>\n",
       "      <td>CCDC63</td>\n",
       "      <td>c.489+1G&gt;A</td>\n",
       "      <td>.</td>\n",
       "      <td>Adrenal_failure</td>\n",
       "      <td>0.95</td>\n",
       "      <td>Yes</td>\n",
       "      <td>False</td>\n",
       "      <td>...</td>\n",
       "      <td>80.385564</td>\n",
       "      <td>NaN</td>\n",
       "      <td>5</td>\n",
       "      <td>0</td>\n",
       "      <td>ODA5</td>\n",
       "      <td>NM_152591.3</td>\n",
       "      <td>26669</td>\n",
       "      <td>617969</td>\n",
       "      <td>NaN</td>\n",
       "      <td>Positive (n = 37)</td>\n",
       "    </tr>\n",
       "  </tbody>\n",
       "</table>\n",
       "<p>5 rows × 118 columns</p>\n",
       "</div>"
      ],
      "text/plain": [
       "         DM  Priority Score expected_inheritance Gene.refGene       c.HGVS  \\\n",
       "200     NaN               5                  NaN       SFT2D2   c.444-2A>C   \n",
       "811   443.0               4                   AR        CDH23  c.2304+6T>G   \n",
       "888   317.0               5                   AR      DYNC2H1    c.1078C>T   \n",
       "929     0.0               5                  UNK         USP2   c.826-2A>G   \n",
       "1302    0.0               5                  UNK       CCDC63   c.489+1G>A   \n",
       "\n",
       "         p.HVGS                              Disease  maxsplai  \\\n",
       "200           .                  Epilepsy ,Epilepsy       0.99   \n",
       "811           .                            Axial_SMD      0.58   \n",
       "888   p.Arg360*                                  ASD      0.24   \n",
       "929           .  Lennox-Gastaut症候群,Lennox-Gastaut症候群      1.00   \n",
       "1302          .                      Adrenal_failure      0.95   \n",
       "\n",
       "     Canonical splice cite  is_Frameshift  ... skipped_ccrs deleted_ccrs  \\\n",
       "200                    Yes          False  ...          NaN    56.218302   \n",
       "811                     No           True  ...          NaN          NaN   \n",
       "888                     No          False  ...          NaN          NaN   \n",
       "929                    Yes          False  ...          NaN    81.947918   \n",
       "1302                   Yes          False  ...    80.385564          NaN   \n",
       "\n",
       "      insilico_screening  clinvar_screening  \\\n",
       "200                    5                  0   \n",
       "811                    3                  1   \n",
       "888                    3                  2   \n",
       "929                    5                  0   \n",
       "1302                   5                  0   \n",
       "\n",
       "                                            altsymbol          refseq hgncID  \\\n",
       "200                                               NaN             NaN    NaN   \n",
       "811                                CDHR23|PITA5|USH1D     NM_022124.6  13733   \n",
       "888   ATD3|DHC1b|DHC2|DNCH2|DYH1B|hdhc11|SRPS2B|SRTD3  NM_001080463.2   2962   \n",
       "929                                        UBP41|USP9     NM_004205.5  12618   \n",
       "1302                                             ODA5     NM_152591.3  26669   \n",
       "\n",
       "      omimid Variants to report   Screening Result  \n",
       "200      NaN                NaN  Positive (n = 37)  \n",
       "811   605516                NaN  Positive (n = 37)  \n",
       "888   603297                NaN  Positive (n = 37)  \n",
       "929   604725                NaN  Positive (n = 37)  \n",
       "1302  617969                NaN  Positive (n = 37)  \n",
       "\n",
       "[5 rows x 118 columns]"
      ]
     },
     "execution_count": 78,
     "metadata": {},
     "output_type": "execute_result"
    }
   ],
   "source": [
    "df2.head()"
   ]
  },
  {
   "cell_type": "code",
   "execution_count": 81,
   "metadata": {},
   "outputs": [],
   "source": [
    "\n",
    "df = df.loc[df['Priority Score'] >=cutoff]\n",
    "df2 = df\n",
    "df2 = df2.rename(columns={'sample': 'Case'})\n"
   ]
  },
  {
   "cell_type": "code",
   "execution_count": null,
   "metadata": {},
   "outputs": [],
   "source": []
  },
  {
   "cell_type": "code",
   "execution_count": 79,
   "metadata": {},
   "outputs": [],
   "source": [
    "\n",
    "df2['Removed'] = df2['Case'].apply(\n",
    "    lambda x: 'Removed' if f\"Sample_{x}\" not in set(df['sample']) else 'Remain'\n",
    "    )\n",
    "df2 = df2.loc[df2['Removed'] == 'Remain']\n",
    "\n",
    "# Add reported case interpretation\n",
    "# df2.loc[df2['Case'] == 13920, 'Final interpretation'] = 'P (Reported)'\n"
   ]
  },
  {
   "cell_type": "code",
   "execution_count": null,
   "metadata": {},
   "outputs": [],
   "source": [
    "\n",
    "# counting\n",
    "n_knwon = len(df2.loc[df2['Known disease genes'] == 'Known'])\n",
    "n_unknown = len(df2.loc[df2['Known disease genes'] == 'Unknown'])\n",
    "\n",
    "n_novel = len(df2.loc[df2['Final interpretation'] == 'Novel candidate gene'])\n",
    "n_vus = len(df2.loc[df2['Final interpretation'] == 'VUS'])\n",
    "n_phenomismatch = len(df2.loc[df2['Final interpretation'] == 'Phenotype mismatch'])\n",
    "n_lp = len(df2.loc[df2['Final interpretation'] == 'LP (Novel)'])\n",
    "n_p_reported = len(df2.loc[df2['Final interpretation'] == 'P (Reported)'])\n",
    "n_p_novel = len(df2.loc[df2['Final interpretation'] == 'P (Novel)'])\n",
    "n_inhmismatch = len(df2.loc[df2['Final interpretation'] == 'Inheritance mismatch'])\n",
    "\n",
    "def add_num_to_gene_class(x) -> str:\n",
    "    if x == 'Known':\n",
    "        return f\"Known <br>(n = {n_knwon})\"\n",
    "    else:\n",
    "        return f\"Unknown <br>(n = {n_unknown})\"\n",
    "\n",
    "def add_num_to_interpretation(x) -> str:\n",
    "    if x == 'Novel candidate gene':\n",
    "        return f\"Novel candidate gene (n = {n_novel})\"\n",
    "    elif x == 'VUS':\n",
    "        return f\"VUS (n = {n_vus})\"\n",
    "    elif x == 'Phenotype mismatch':\n",
    "        return f\"Mismatched phenotype (n = {n_phenomismatch})\"\n",
    "    elif x == 'LP (Novel)':\n",
    "        return f\"LP (Novel) (n = {n_lp})\"\n",
    "    elif x == 'P (Reported)':\n",
    "        return f\"P (Reported) (n = {n_p_reported})\"\n",
    "    elif x == 'P (Novel)':\n",
    "        return f\"P (Novel) (n = {n_p_novel})\"\n",
    "    elif x == 'Inheritance mismatch':\n",
    "        return f\"Mismatched inheritance (n = {n_inhmismatch})\"\n",
    "    else:\n",
    "        return x\n",
    "\n",
    "df2['Known disease genes'] = df2['Known disease genes'].apply(add_num_to_gene_class)\n",
    "df2['Final interpretation'] = df2['Final interpretation'].apply(add_num_to_interpretation)    \n",
    "\n",
    "categorical_dimensions = [\"Known disease genes\", \"Reported inheritance\", \"eLoF\", \"Priority Score\", \"Final interpretation\"]\n",
    "dimensions = [dict(values=df2[label], label=label) for label in categorical_dimensions]\n",
    "\n",
    "# Build colorscale\n",
    "color = np.zeros(len(df), dtype='uint8')\n",
    "colorscale = [[0, 'lightgray'], [1, 'red']]"
   ]
  },
  {
   "cell_type": "code",
   "execution_count": 17,
   "metadata": {},
   "outputs": [],
   "source": [
    "# Build colorscale\n",
    "color = np.zeros(len(df2), dtype='uint8')\n",
    "colorscale = [[0, 'gray'], [0.14, 'gray'],                  # Gray\n",
    "              [0.14, 'firebrick'], [0.28, 'firebrick'],     # Red\n",
    "              [0.28, '#82C6EF'], [0.42, '#82C6EF'],          # Blue\n",
    "              [0.42, '#EAA63A'], [0.56, '#EAA63A'],          # Orange\n",
    "              [0.56, '#4FAC7E'], [0.70, '#4FAC7E'],          # Green\n",
    "              [0.70, '#E3948D'], [0.84, '#E3948D'],         # Pink\n",
    "              [0.84, '#804031'], [1, '#804031']]            # Brown\n",
    "cmin, cmax = 0, 7\n",
    "# cmin, cmax = 0, 1"
   ]
  },
  {
   "cell_type": "code",
   "execution_count": 18,
   "metadata": {},
   "outputs": [
    {
     "data": {
      "application/vnd.jupyter.widget-view+json": {
       "model_id": "91f0002c6535494c95465d82a4baa677",
       "version_major": 2,
       "version_minor": 0
      },
      "text/plain": [
       "VBox(children=(ToggleButtons(description='Brush Color:', index=1, options=('None', 'Red', 'Blue', 'Orange', 'G…"
      ]
     },
     "execution_count": 18,
     "metadata": {},
     "output_type": "execute_result"
    }
   ],
   "source": [
    "fig = go.FigureWidget(\n",
    "    data=[\n",
    "        go.Scatter(\n",
    "            x=df2['Final interpretation'], \n",
    "            y=df2['Priority Score'],\n",
    "            marker={\n",
    "                'color': color, 'cmin': cmin, 'cmax': cmax,\n",
    "                'colorscale': colorscale, 'showscale': False,\n",
    "                'colorbar': {\n",
    "                    'tickvals': [0, 1, 2, 3, 4, 5, 6], \n",
    "                    'ticktext': ['None', 'Red', 'Blue', 'Pink', 'Orange', 'Green', 'Yellow']\n",
    "                    }\n",
    "                },\n",
    "            mode='markers'),\n",
    "        go.Parcats(\n",
    "            domain={'y': [0, 0.4]}, dimensions=dimensions,\n",
    "            line={'colorscale': colorscale, 'cmin': cmin,\n",
    "                   'cmax': cmax, 'color': color, 'shape': 'hspline'})]\n",
    ")\n",
    "\n",
    "x_labels = ['Novel<br>candidate gene', 'VUS', 'P<br>(Reported)', 'P<br>(Novel)', \n",
    "            'LP<br>(Novel)', 'Mismatched<br>phenotype', 'Mismatched<br>inhritance']\n",
    "\n",
    "fig.update_layout(height=800, width=1000,\n",
    "                  xaxis={\n",
    "                      'title': 'Final Interpretation', \n",
    "                      'tickvals': [0, 1, 2, 3, 4, 5, 6],\n",
    "                      'ticktext': x_labels\n",
    "                      },\n",
    "                  yaxis={'title': 'Priority Score', 'domain': [0.6, 1]},\n",
    "                  dragmode='lasso', hovermode='closest')\n",
    "\n",
    "# fig.update_xaxes(categoryorder='array', categoryarray=x_labels)\n",
    "\n",
    "# Build color selection widget\n",
    "color_toggle = widgets.ToggleButtons(\n",
    "    options=['None', 'Red', 'Blue', 'Orange', 'Green', 'Pink', 'Brown'],\n",
    "    style={'button_width': '96px', 'font_size': '14px'},\n",
    "    index=1, description='Brush Color:', disabled=False)\n",
    "\n",
    "# Update color callback\n",
    "def update_color(trace, points, state):\n",
    "    # Compute new color array\n",
    "    new_color = np.array(fig.data[0].marker.color)\n",
    "    new_color[points.point_inds] = color_toggle.index\n",
    "\n",
    "    with fig.batch_update():\n",
    "        # Update scatter color\n",
    "        fig.data[0].marker.color = new_color\n",
    "\n",
    "        # Update parcats colors\n",
    "        fig.data[1].line.color = new_color\n",
    "\n",
    "# Register callback on scatter selection...\n",
    "fig.data[0].on_selection(update_color)\n",
    "# and parcats click\n",
    "fig.data[1].on_click(update_color)\n",
    "fig.update_layout(margin=dict(t=20, b=20, l=10, r=120))\n",
    "# Update fig size\n",
    "fig.update_layout(width=800, height=1200)\n",
    "\n",
    "# Display figure\n",
    "widgets.VBox([color_toggle, fig])\n",
    "\n",
    "\n",
    "\n",
    "# Save as html\n",
    "# fig.write_html('FigureS4.html')"
   ]
  },
  {
   "cell_type": "code",
   "execution_count": 125,
   "metadata": {},
   "outputs": [
    {
     "data": {
      "text/plain": [
       "<module 'ipywidgets.widgets' from '/Users/utsu/miniforge3/envs/wesanno/lib/python3.9/site-packages/ipywidgets/widgets/__init__.py'>"
      ]
     },
     "execution_count": 125,
     "metadata": {},
     "output_type": "execute_result"
    }
   ],
   "source": [
    "widgets"
   ]
  },
  {
   "cell_type": "code",
   "execution_count": 123,
   "metadata": {},
   "outputs": [],
   "source": []
  },
  {
   "cell_type": "code",
   "execution_count": 124,
   "metadata": {},
   "outputs": [
    {
     "data": {
      "application/vnd.jupyter.widget-view+json": {
       "model_id": "7485cf90406344a9b734e2ccdb63eaaa",
       "version_major": 2,
       "version_minor": 0
      },
      "text/plain": [
       "Output(layout=Layout(border_bottom='1px solid black', border_left='1px solid black', border_right='1px solid b…"
      ]
     },
     "execution_count": 124,
     "metadata": {},
     "output_type": "execute_result"
    }
   ],
   "source": []
  },
  {
   "cell_type": "code",
   "execution_count": null,
   "metadata": {},
   "outputs": [],
   "source": []
  },
  {
   "cell_type": "code",
   "execution_count": 23,
   "metadata": {},
   "outputs": [],
   "source": [
    "df.to_pickle(f'./ExcelOutput/Fixed_FINAL_mydata.denovo.all.pkl')"
   ]
  },
  {
   "cell_type": "code",
   "execution_count": 14,
   "metadata": {},
   "outputs": [],
   "source": [
    "# Save as tsv\n",
    "df.to_csv(f'./ExcelOutput/Fixed_FINAL_mydata.denovo.all_gene_fix.tsv', sep='\\t', index=False, encoding='shift-jis')\n",
    "\n",
    "# Save as xlsx\n",
    "df.to_excel(f'./ExcelOutput/Fixed_FINAL_mydata.denovo.all_gene_fix.xlsx', index=False)\n",
    "df_unsolved.to_excel(f'./ExcelOutput/Fixed_FINAL_mydata.denovo.unsolved_gene_fix.xlsx', index=False)\n",
    "df_solved.to_excel(f'./ExcelOutput/Fixed_FINAL_mydata.denovo.solved_gene_fix.xlsx', index=False)"
   ]
  },
  {
   "cell_type": "code",
   "execution_count": 5,
   "metadata": {},
   "outputs": [],
   "source": [
    "elofs = pd.read_table('../../Resources/02_EstimatedLoFGenes/lof_genes.txt', \n",
    "                      header=None, names=['gene'], sep='\\t')\n",
    "elofs_genes = elofs['gene'].unique().tolist()\n",
    "\n",
    "\n",
    "def elofs_judge(row):\n",
    "    if row['gene'] in elofs_genes:\n",
    "        return True\n",
    "    else:\n",
    "        return False"
   ]
  },
  {
   "cell_type": "code",
   "execution_count": null,
   "metadata": {},
   "outputs": [],
   "source": []
  },
  {
   "cell_type": "code",
   "execution_count": 15,
   "metadata": {},
   "outputs": [
    {
     "data": {
      "text/plain": [
       "67"
      ]
     },
     "execution_count": 15,
     "metadata": {},
     "output_type": "execute_result"
    }
   ],
   "source": [
    "len(df_unsolved[df_unsolved['PriorityScore'] >= 3])"
   ]
  },
  {
   "cell_type": "code",
   "execution_count": 27,
   "metadata": {},
   "outputs": [],
   "source": [
    "# Visualizations\n",
    "import matplotlib.pyplot as plt\n",
    "import seaborn as sns\n",
    "import plotly.express as px\n",
    "import plotly.graph_objects as go"
   ]
  },
  {
   "cell_type": "code",
   "execution_count": 19,
   "metadata": {},
   "outputs": [
    {
     "data": {
      "text/plain": [
       "FinalScore\n",
       "1    8835\n",
       "0    4711\n",
       "2     933\n",
       "3     859\n",
       "4      92\n",
       "5      80\n",
       "6      65\n",
       "7      21\n",
       "8       8\n",
       "9       1\n",
       "Name: count, dtype: int64"
      ]
     },
     "execution_count": 19,
     "metadata": {},
     "output_type": "execute_result"
    }
   ],
   "source": [
    "df['FinalScore'].value_counts()"
   ]
  },
  {
   "cell_type": "code",
   "execution_count": 27,
   "metadata": {},
   "outputs": [],
   "source": [
    "cars_df = pd.read_csv('https://raw.githubusercontent.com/plotly/datasets/master/imports-85.csv')\n",
    "\n",
    "categorical_dimensions = ['body-style', 'drive-wheels', 'fuel-type']\n",
    "dimensions = [dict(values=cars_df[label], label=label) for label in categorical_dimensions]\n",
    "\n",
    "# Build colorscale\n",
    "color = np.zeros(len(cars_df), dtype='uint8')\n",
    "colorscale = [[0, 'gray'], [0.33, 'gray'],\n",
    "              [0.33, 'firebrick'], [0.66, 'firebrick'],\n",
    "              [0.66, 'blue'], [1.0, 'blue']]\n",
    "cmin = -0.5\n",
    "cmax = 2.5"
   ]
  },
  {
   "cell_type": "code",
   "execution_count": 28,
   "metadata": {},
   "outputs": [
    {
     "data": {
      "application/vnd.plotly.v1+json": {
       "config": {
        "plotlyServerURL": "https://plot.ly"
       },
       "data": [
        {
         "marker": {
          "cmax": 2.5,
          "cmin": -0.5,
          "color": [
           0,
           0,
           0,
           0,
           0,
           0,
           0,
           0,
           0,
           0,
           0,
           0,
           0,
           0,
           0,
           0,
           0,
           0,
           0,
           0,
           0,
           0,
           0,
           0,
           0,
           0,
           0,
           0,
           0,
           0,
           0,
           0,
           0,
           0,
           0,
           0,
           0,
           0,
           0,
           0,
           0,
           0,
           0,
           0,
           0,
           0,
           0,
           0,
           0,
           0,
           0,
           0,
           0,
           0,
           0,
           0,
           0,
           0,
           0,
           0,
           0,
           0,
           0,
           0,
           0,
           0,
           0,
           0,
           0,
           0,
           0,
           0,
           0,
           0,
           0,
           0,
           0,
           0,
           0,
           0,
           0,
           0,
           0,
           0,
           0,
           0,
           0,
           0,
           0,
           0,
           0,
           0,
           0,
           0,
           0,
           0,
           0,
           0,
           0,
           0,
           0,
           0,
           0,
           0,
           0,
           0,
           0,
           0,
           0,
           0,
           0,
           0,
           0,
           0,
           0,
           0,
           0,
           0,
           0,
           0,
           0,
           0,
           0,
           0,
           0,
           0,
           0,
           0,
           0,
           0,
           0,
           0,
           0,
           0,
           0,
           0,
           0,
           0,
           0,
           0,
           0,
           0,
           0,
           0,
           0,
           0,
           0,
           0,
           0,
           0,
           0,
           0,
           0,
           0,
           0,
           0,
           0,
           0,
           0,
           0,
           0,
           0,
           0,
           0,
           0,
           0,
           0,
           0,
           0,
           0,
           0,
           0,
           0,
           0,
           0,
           0,
           0,
           0,
           0,
           0,
           0,
           0,
           0,
           0,
           0,
           0,
           0,
           0,
           0,
           0,
           0,
           0,
           0,
           0,
           0,
           0,
           0,
           0,
           0,
           0,
           0,
           0,
           0,
           0,
           0
          ],
          "colorbar": {
           "ticktext": [
            "None",
            "Red",
            "Blue"
           ],
           "tickvals": [
            0,
            1,
            2
           ]
          },
          "colorscale": [
           [
            0,
            "gray"
           ],
           [
            0.33,
            "gray"
           ],
           [
            0.33,
            "firebrick"
           ],
           [
            0.66,
            "firebrick"
           ],
           [
            0.66,
            "blue"
           ],
           [
            1,
            "blue"
           ]
          ],
          "showscale": true
         },
         "mode": "markers",
         "type": "scatter",
         "uid": "189309ad-3fac-4041-9bf0-b2a30bc12896",
         "x": [
          111,
          111,
          154,
          102,
          115,
          110,
          110,
          110,
          140,
          160,
          101,
          101,
          121,
          121,
          121,
          182,
          182,
          182,
          48,
          70,
          70,
          68,
          68,
          102,
          68,
          68,
          68,
          102,
          88,
          145,
          58,
          76,
          60,
          76,
          76,
          76,
          76,
          86,
          86,
          86,
          86,
          101,
          100,
          78,
          70,
          70,
          90,
          176,
          176,
          262,
          68,
          68,
          68,
          68,
          68,
          101,
          101,
          101,
          135,
          84,
          84,
          84,
          84,
          64,
          84,
          120,
          72,
          123,
          123,
          123,
          123,
          155,
          155,
          184,
          184,
          175,
          68,
          68,
          68,
          102,
          116,
          88,
          145,
          145,
          145,
          88,
          88,
          116,
          116,
          69,
          55,
          69,
          69,
          69,
          69,
          69,
          69,
          69,
          69,
          97,
          97,
          152,
          152,
          152,
          160,
          200,
          160,
          97,
          95,
          97,
          95,
          95,
          95,
          95,
          95,
          97,
          95,
          142,
          68,
          102,
          68,
          68,
          68,
          88,
          145,
          143,
          207,
          207,
          207,
          288,
          null,
          null,
          110,
          110,
          110,
          110,
          160,
          160,
          69,
          73,
          73,
          82,
          82,
          94,
          82,
          111,
          82,
          94,
          82,
          111,
          62,
          62,
          62,
          62,
          62,
          62,
          70,
          70,
          56,
          56,
          70,
          70,
          70,
          70,
          70,
          112,
          112,
          116,
          116,
          116,
          116,
          116,
          116,
          92,
          73,
          92,
          92,
          92,
          161,
          161,
          156,
          156,
          52,
          85,
          52,
          85,
          85,
          68,
          100,
          90,
          90,
          110,
          68,
          88,
          114,
          114,
          114,
          114,
          162,
          162,
          114,
          160,
          134,
          106,
          114
         ],
         "y": [
          27,
          27,
          26,
          30,
          22,
          25,
          25,
          25,
          20,
          22,
          29,
          29,
          28,
          28,
          25,
          22,
          22,
          20,
          53,
          43,
          43,
          41,
          38,
          30,
          38,
          38,
          38,
          30,
          30,
          24,
          54,
          38,
          42,
          34,
          34,
          34,
          34,
          33,
          33,
          33,
          33,
          28,
          31,
          29,
          43,
          43,
          29,
          19,
          19,
          17,
          31,
          38,
          38,
          38,
          38,
          23,
          23,
          23,
          23,
          32,
          32,
          32,
          32,
          42,
          32,
          27,
          39,
          25,
          25,
          25,
          25,
          18,
          18,
          16,
          16,
          24,
          41,
          38,
          38,
          30,
          30,
          32,
          24,
          24,
          24,
          32,
          32,
          30,
          30,
          37,
          50,
          37,
          37,
          37,
          37,
          37,
          37,
          37,
          37,
          34,
          34,
          22,
          22,
          25,
          25,
          23,
          25,
          24,
          33,
          24,
          25,
          24,
          33,
          24,
          25,
          24,
          33,
          24,
          41,
          30,
          38,
          38,
          38,
          30,
          24,
          27,
          25,
          25,
          25,
          28,
          31,
          31,
          28,
          28,
          28,
          28,
          26,
          26,
          36,
          31,
          31,
          37,
          33,
          32,
          25,
          29,
          32,
          31,
          29,
          23,
          39,
          38,
          38,
          37,
          32,
          32,
          37,
          37,
          36,
          47,
          47,
          34,
          34,
          34,
          34,
          29,
          29,
          30,
          30,
          30,
          30,
          30,
          30,
          34,
          33,
          32,
          32,
          32,
          24,
          24,
          24,
          24,
          46,
          34,
          46,
          34,
          34,
          42,
          32,
          29,
          29,
          24,
          38,
          31,
          28,
          28,
          28,
          28,
          22,
          22,
          28,
          25,
          23,
          27,
          25
         ]
        },
        {
         "dimensions": [
          {
           "label": "body-style",
           "values": [
            "convertible",
            "convertible",
            "hatchback",
            "sedan",
            "sedan",
            "sedan",
            "sedan",
            "wagon",
            "sedan",
            "hatchback",
            "sedan",
            "sedan",
            "sedan",
            "sedan",
            "sedan",
            "sedan",
            "sedan",
            "sedan",
            "hatchback",
            "hatchback",
            "sedan",
            "hatchback",
            "hatchback",
            "hatchback",
            "hatchback",
            "sedan",
            "sedan",
            "sedan",
            "wagon",
            "hatchback",
            "hatchback",
            "hatchback",
            "hatchback",
            "hatchback",
            "hatchback",
            "sedan",
            "wagon",
            "hatchback",
            "hatchback",
            "sedan",
            "sedan",
            "sedan",
            "sedan",
            "sedan",
            "sedan",
            "sedan",
            "hatchback",
            "sedan",
            "sedan",
            "sedan",
            "hatchback",
            "hatchback",
            "hatchback",
            "sedan",
            "sedan",
            "hatchback",
            "hatchback",
            "hatchback",
            "hatchback",
            "hatchback",
            "sedan",
            "hatchback",
            "sedan",
            "sedan",
            "hatchback",
            "sedan",
            "sedan",
            "sedan",
            "wagon",
            "hardtop",
            "sedan",
            "sedan",
            "convertible",
            "sedan",
            "hardtop",
            "hatchback",
            "hatchback",
            "hatchback",
            "hatchback",
            "hatchback",
            "hatchback",
            "hatchback",
            "hatchback",
            "hatchback",
            "hatchback",
            "sedan",
            "sedan",
            "sedan",
            "sedan",
            "sedan",
            "sedan",
            "sedan",
            "sedan",
            "wagon",
            "sedan",
            "hatchback",
            "sedan",
            "wagon",
            "hardtop",
            "hatchback",
            "sedan",
            "sedan",
            "wagon",
            "sedan",
            "hatchback",
            "hatchback",
            "hatchback",
            "sedan",
            "sedan",
            "wagon",
            "wagon",
            "sedan",
            "sedan",
            "wagon",
            "wagon",
            "sedan",
            "sedan",
            "sedan",
            "hatchback",
            "hatchback",
            "hatchback",
            "sedan",
            "sedan",
            "wagon",
            "hatchback",
            "hatchback",
            "hardtop",
            "hardtop",
            "convertible",
            "hatchback",
            "wagon",
            "hatchback",
            "hatchback",
            "sedan",
            "hatchback",
            "sedan",
            "hatchback",
            "sedan",
            "hatchback",
            "hatchback",
            "hatchback",
            "sedan",
            "sedan",
            "sedan",
            "sedan",
            "sedan",
            "wagon",
            "wagon",
            "wagon",
            "wagon",
            "hatchback",
            "hatchback",
            "hatchback",
            "wagon",
            "wagon",
            "wagon",
            "sedan",
            "hatchback",
            "sedan",
            "hatchback",
            "sedan",
            "hatchback",
            "sedan",
            "sedan",
            "hatchback",
            "sedan",
            "hatchback",
            "hardtop",
            "hardtop",
            "hatchback",
            "hardtop",
            "hatchback",
            "convertible",
            "sedan",
            "sedan",
            "hatchback",
            "sedan",
            "hatchback",
            "hatchback",
            "hatchback",
            "sedan",
            "wagon",
            "sedan",
            "sedan",
            "sedan",
            "sedan",
            "sedan",
            "sedan",
            "sedan",
            "convertible",
            "hatchback",
            "sedan",
            "sedan",
            "wagon",
            "sedan",
            "wagon",
            "sedan",
            "wagon",
            "sedan",
            "wagon",
            "sedan",
            "sedan",
            "sedan",
            "sedan",
            "sedan"
           ]
          },
          {
           "label": "drive-wheels",
           "values": [
            "rwd",
            "rwd",
            "rwd",
            "fwd",
            "4wd",
            "fwd",
            "fwd",
            "fwd",
            "fwd",
            "4wd",
            "rwd",
            "rwd",
            "rwd",
            "rwd",
            "rwd",
            "rwd",
            "rwd",
            "rwd",
            "fwd",
            "fwd",
            "fwd",
            "fwd",
            "fwd",
            "fwd",
            "fwd",
            "fwd",
            "fwd",
            "fwd",
            "fwd",
            "fwd",
            "fwd",
            "fwd",
            "fwd",
            "fwd",
            "fwd",
            "fwd",
            "fwd",
            "fwd",
            "fwd",
            "fwd",
            "fwd",
            "fwd",
            "fwd",
            "rwd",
            "fwd",
            "fwd",
            "rwd",
            "rwd",
            "rwd",
            "rwd",
            "fwd",
            "fwd",
            "fwd",
            "fwd",
            "fwd",
            "rwd",
            "rwd",
            "rwd",
            "rwd",
            "fwd",
            "fwd",
            "fwd",
            "fwd",
            "fwd",
            "fwd",
            "rwd",
            "rwd",
            "rwd",
            "rwd",
            "rwd",
            "rwd",
            "rwd",
            "rwd",
            "rwd",
            "rwd",
            "rwd",
            "fwd",
            "fwd",
            "fwd",
            "fwd",
            "fwd",
            "fwd",
            "fwd",
            "fwd",
            "fwd",
            "fwd",
            "fwd",
            "fwd",
            "fwd",
            "fwd",
            "fwd",
            "fwd",
            "fwd",
            "fwd",
            "fwd",
            "fwd",
            "fwd",
            "fwd",
            "fwd",
            "fwd",
            "fwd",
            "fwd",
            "fwd",
            "fwd",
            "rwd",
            "rwd",
            "rwd",
            "rwd",
            "rwd",
            "rwd",
            "rwd",
            "rwd",
            "rwd",
            "rwd",
            "rwd",
            "rwd",
            "rwd",
            "rwd",
            "fwd",
            "fwd",
            "fwd",
            "fwd",
            "fwd",
            "fwd",
            "rwd",
            "rwd",
            "rwd",
            "rwd",
            "rwd",
            "rwd",
            "fwd",
            "fwd",
            "fwd",
            "fwd",
            "fwd",
            "fwd",
            "fwd",
            "fwd",
            "fwd",
            "fwd",
            "4wd",
            "fwd",
            "fwd",
            "fwd",
            "4wd",
            "4wd",
            "fwd",
            "fwd",
            "4wd",
            "4wd",
            "fwd",
            "fwd",
            "fwd",
            "fwd",
            "4wd",
            "4wd",
            "fwd",
            "fwd",
            "fwd",
            "fwd",
            "fwd",
            "fwd",
            "fwd",
            "rwd",
            "rwd",
            "rwd",
            "rwd",
            "rwd",
            "rwd",
            "rwd",
            "rwd",
            "rwd",
            "rwd",
            "fwd",
            "fwd",
            "fwd",
            "fwd",
            "fwd",
            "rwd",
            "rwd",
            "rwd",
            "rwd",
            "fwd",
            "fwd",
            "fwd",
            "fwd",
            "fwd",
            "fwd",
            "fwd",
            "fwd",
            "fwd",
            "fwd",
            "fwd",
            "fwd",
            "rwd",
            "rwd",
            "rwd",
            "rwd",
            "rwd",
            "rwd",
            "rwd",
            "rwd",
            "rwd",
            "rwd",
            "rwd"
           ]
          },
          {
           "label": "fuel-type",
           "values": [
            "gas",
            "gas",
            "gas",
            "gas",
            "gas",
            "gas",
            "gas",
            "gas",
            "gas",
            "gas",
            "gas",
            "gas",
            "gas",
            "gas",
            "gas",
            "gas",
            "gas",
            "gas",
            "gas",
            "gas",
            "gas",
            "gas",
            "gas",
            "gas",
            "gas",
            "gas",
            "gas",
            "gas",
            "gas",
            "gas",
            "gas",
            "gas",
            "gas",
            "gas",
            "gas",
            "gas",
            "gas",
            "gas",
            "gas",
            "gas",
            "gas",
            "gas",
            "gas",
            "gas",
            "gas",
            "gas",
            "gas",
            "gas",
            "gas",
            "gas",
            "gas",
            "gas",
            "gas",
            "gas",
            "gas",
            "gas",
            "gas",
            "gas",
            "gas",
            "gas",
            "gas",
            "gas",
            "gas",
            "diesel",
            "gas",
            "gas",
            "diesel",
            "diesel",
            "diesel",
            "diesel",
            "diesel",
            "gas",
            "gas",
            "gas",
            "gas",
            "gas",
            "gas",
            "gas",
            "gas",
            "gas",
            "gas",
            "gas",
            "gas",
            "gas",
            "gas",
            "gas",
            "gas",
            "gas",
            "gas",
            "gas",
            "diesel",
            "gas",
            "gas",
            "gas",
            "gas",
            "gas",
            "gas",
            "gas",
            "gas",
            "gas",
            "gas",
            "gas",
            "gas",
            "gas",
            "gas",
            "gas",
            "gas",
            "gas",
            "diesel",
            "gas",
            "diesel",
            "gas",
            "diesel",
            "gas",
            "diesel",
            "gas",
            "diesel",
            "gas",
            "gas",
            "gas",
            "gas",
            "gas",
            "gas",
            "gas",
            "gas",
            "gas",
            "gas",
            "gas",
            "gas",
            "gas",
            "gas",
            "gas",
            "gas",
            "gas",
            "gas",
            "gas",
            "gas",
            "gas",
            "gas",
            "gas",
            "gas",
            "gas",
            "gas",
            "gas",
            "gas",
            "gas",
            "gas",
            "gas",
            "gas",
            "gas",
            "gas",
            "gas",
            "gas",
            "gas",
            "gas",
            "gas",
            "gas",
            "gas",
            "diesel",
            "diesel",
            "gas",
            "gas",
            "gas",
            "gas",
            "gas",
            "gas",
            "gas",
            "gas",
            "gas",
            "gas",
            "gas",
            "gas",
            "gas",
            "gas",
            "diesel",
            "gas",
            "gas",
            "gas",
            "gas",
            "gas",
            "gas",
            "gas",
            "diesel",
            "gas",
            "diesel",
            "gas",
            "gas",
            "diesel",
            "gas",
            "gas",
            "gas",
            "gas",
            "diesel",
            "gas",
            "gas",
            "gas",
            "gas",
            "gas",
            "gas",
            "gas",
            "gas",
            "gas",
            "gas",
            "diesel",
            "gas"
           ]
          }
         ],
         "domain": {
          "y": [
           0,
           0.4
          ]
         },
         "line": {
          "cmax": 2.5,
          "cmin": -0.5,
          "color": [
           0,
           0,
           0,
           0,
           0,
           0,
           0,
           0,
           0,
           0,
           0,
           0,
           0,
           0,
           0,
           0,
           0,
           0,
           0,
           0,
           0,
           0,
           0,
           0,
           0,
           0,
           0,
           0,
           0,
           0,
           0,
           0,
           0,
           0,
           0,
           0,
           0,
           0,
           0,
           0,
           0,
           0,
           0,
           0,
           0,
           0,
           0,
           0,
           0,
           0,
           0,
           0,
           0,
           0,
           0,
           0,
           0,
           0,
           0,
           0,
           0,
           0,
           0,
           0,
           0,
           0,
           0,
           0,
           0,
           0,
           0,
           0,
           0,
           0,
           0,
           0,
           0,
           0,
           0,
           0,
           0,
           0,
           0,
           0,
           0,
           0,
           0,
           0,
           0,
           0,
           0,
           0,
           0,
           0,
           0,
           0,
           0,
           0,
           0,
           0,
           0,
           0,
           0,
           0,
           0,
           0,
           0,
           0,
           0,
           0,
           0,
           0,
           0,
           0,
           0,
           0,
           0,
           0,
           0,
           0,
           0,
           0,
           0,
           0,
           0,
           0,
           0,
           0,
           0,
           0,
           0,
           0,
           0,
           0,
           0,
           0,
           0,
           0,
           0,
           0,
           0,
           0,
           0,
           0,
           0,
           0,
           0,
           0,
           0,
           0,
           0,
           0,
           0,
           0,
           0,
           0,
           0,
           0,
           0,
           0,
           0,
           0,
           0,
           0,
           0,
           0,
           0,
           0,
           0,
           0,
           0,
           0,
           0,
           0,
           0,
           0,
           0,
           0,
           0,
           0,
           0,
           0,
           0,
           0,
           0,
           0,
           0,
           0,
           0,
           0,
           0,
           0,
           0,
           0,
           0,
           0,
           0,
           0,
           0,
           0,
           0,
           0,
           0,
           0,
           0
          ],
          "colorscale": [
           [
            0,
            "gray"
           ],
           [
            0.33,
            "gray"
           ],
           [
            0.33,
            "firebrick"
           ],
           [
            0.66,
            "firebrick"
           ],
           [
            0.66,
            "blue"
           ],
           [
            1,
            "blue"
           ]
          ],
          "shape": "hspline"
         },
         "type": "parcats",
         "uid": "b40bd281-fb71-425a-93af-0d35b68f9087"
        }
       ],
       "layout": {
        "template": {
         "data": {
          "bar": [
           {
            "error_x": {
             "color": "#2a3f5f"
            },
            "error_y": {
             "color": "#2a3f5f"
            },
            "marker": {
             "line": {
              "color": "#E5ECF6",
              "width": 0.5
             },
             "pattern": {
              "fillmode": "overlay",
              "size": 10,
              "solidity": 0.2
             }
            },
            "type": "bar"
           }
          ],
          "barpolar": [
           {
            "marker": {
             "line": {
              "color": "#E5ECF6",
              "width": 0.5
             },
             "pattern": {
              "fillmode": "overlay",
              "size": 10,
              "solidity": 0.2
             }
            },
            "type": "barpolar"
           }
          ],
          "carpet": [
           {
            "aaxis": {
             "endlinecolor": "#2a3f5f",
             "gridcolor": "white",
             "linecolor": "white",
             "minorgridcolor": "white",
             "startlinecolor": "#2a3f5f"
            },
            "baxis": {
             "endlinecolor": "#2a3f5f",
             "gridcolor": "white",
             "linecolor": "white",
             "minorgridcolor": "white",
             "startlinecolor": "#2a3f5f"
            },
            "type": "carpet"
           }
          ],
          "choropleth": [
           {
            "colorbar": {
             "outlinewidth": 0,
             "ticks": ""
            },
            "type": "choropleth"
           }
          ],
          "contour": [
           {
            "colorbar": {
             "outlinewidth": 0,
             "ticks": ""
            },
            "colorscale": [
             [
              0,
              "#0d0887"
             ],
             [
              0.1111111111111111,
              "#46039f"
             ],
             [
              0.2222222222222222,
              "#7201a8"
             ],
             [
              0.3333333333333333,
              "#9c179e"
             ],
             [
              0.4444444444444444,
              "#bd3786"
             ],
             [
              0.5555555555555556,
              "#d8576b"
             ],
             [
              0.6666666666666666,
              "#ed7953"
             ],
             [
              0.7777777777777778,
              "#fb9f3a"
             ],
             [
              0.8888888888888888,
              "#fdca26"
             ],
             [
              1,
              "#f0f921"
             ]
            ],
            "type": "contour"
           }
          ],
          "contourcarpet": [
           {
            "colorbar": {
             "outlinewidth": 0,
             "ticks": ""
            },
            "type": "contourcarpet"
           }
          ],
          "heatmap": [
           {
            "colorbar": {
             "outlinewidth": 0,
             "ticks": ""
            },
            "colorscale": [
             [
              0,
              "#0d0887"
             ],
             [
              0.1111111111111111,
              "#46039f"
             ],
             [
              0.2222222222222222,
              "#7201a8"
             ],
             [
              0.3333333333333333,
              "#9c179e"
             ],
             [
              0.4444444444444444,
              "#bd3786"
             ],
             [
              0.5555555555555556,
              "#d8576b"
             ],
             [
              0.6666666666666666,
              "#ed7953"
             ],
             [
              0.7777777777777778,
              "#fb9f3a"
             ],
             [
              0.8888888888888888,
              "#fdca26"
             ],
             [
              1,
              "#f0f921"
             ]
            ],
            "type": "heatmap"
           }
          ],
          "heatmapgl": [
           {
            "colorbar": {
             "outlinewidth": 0,
             "ticks": ""
            },
            "colorscale": [
             [
              0,
              "#0d0887"
             ],
             [
              0.1111111111111111,
              "#46039f"
             ],
             [
              0.2222222222222222,
              "#7201a8"
             ],
             [
              0.3333333333333333,
              "#9c179e"
             ],
             [
              0.4444444444444444,
              "#bd3786"
             ],
             [
              0.5555555555555556,
              "#d8576b"
             ],
             [
              0.6666666666666666,
              "#ed7953"
             ],
             [
              0.7777777777777778,
              "#fb9f3a"
             ],
             [
              0.8888888888888888,
              "#fdca26"
             ],
             [
              1,
              "#f0f921"
             ]
            ],
            "type": "heatmapgl"
           }
          ],
          "histogram": [
           {
            "marker": {
             "pattern": {
              "fillmode": "overlay",
              "size": 10,
              "solidity": 0.2
             }
            },
            "type": "histogram"
           }
          ],
          "histogram2d": [
           {
            "colorbar": {
             "outlinewidth": 0,
             "ticks": ""
            },
            "colorscale": [
             [
              0,
              "#0d0887"
             ],
             [
              0.1111111111111111,
              "#46039f"
             ],
             [
              0.2222222222222222,
              "#7201a8"
             ],
             [
              0.3333333333333333,
              "#9c179e"
             ],
             [
              0.4444444444444444,
              "#bd3786"
             ],
             [
              0.5555555555555556,
              "#d8576b"
             ],
             [
              0.6666666666666666,
              "#ed7953"
             ],
             [
              0.7777777777777778,
              "#fb9f3a"
             ],
             [
              0.8888888888888888,
              "#fdca26"
             ],
             [
              1,
              "#f0f921"
             ]
            ],
            "type": "histogram2d"
           }
          ],
          "histogram2dcontour": [
           {
            "colorbar": {
             "outlinewidth": 0,
             "ticks": ""
            },
            "colorscale": [
             [
              0,
              "#0d0887"
             ],
             [
              0.1111111111111111,
              "#46039f"
             ],
             [
              0.2222222222222222,
              "#7201a8"
             ],
             [
              0.3333333333333333,
              "#9c179e"
             ],
             [
              0.4444444444444444,
              "#bd3786"
             ],
             [
              0.5555555555555556,
              "#d8576b"
             ],
             [
              0.6666666666666666,
              "#ed7953"
             ],
             [
              0.7777777777777778,
              "#fb9f3a"
             ],
             [
              0.8888888888888888,
              "#fdca26"
             ],
             [
              1,
              "#f0f921"
             ]
            ],
            "type": "histogram2dcontour"
           }
          ],
          "mesh3d": [
           {
            "colorbar": {
             "outlinewidth": 0,
             "ticks": ""
            },
            "type": "mesh3d"
           }
          ],
          "parcoords": [
           {
            "line": {
             "colorbar": {
              "outlinewidth": 0,
              "ticks": ""
             }
            },
            "type": "parcoords"
           }
          ],
          "pie": [
           {
            "automargin": true,
            "type": "pie"
           }
          ],
          "scatter": [
           {
            "fillpattern": {
             "fillmode": "overlay",
             "size": 10,
             "solidity": 0.2
            },
            "type": "scatter"
           }
          ],
          "scatter3d": [
           {
            "line": {
             "colorbar": {
              "outlinewidth": 0,
              "ticks": ""
             }
            },
            "marker": {
             "colorbar": {
              "outlinewidth": 0,
              "ticks": ""
             }
            },
            "type": "scatter3d"
           }
          ],
          "scattercarpet": [
           {
            "marker": {
             "colorbar": {
              "outlinewidth": 0,
              "ticks": ""
             }
            },
            "type": "scattercarpet"
           }
          ],
          "scattergeo": [
           {
            "marker": {
             "colorbar": {
              "outlinewidth": 0,
              "ticks": ""
             }
            },
            "type": "scattergeo"
           }
          ],
          "scattergl": [
           {
            "marker": {
             "colorbar": {
              "outlinewidth": 0,
              "ticks": ""
             }
            },
            "type": "scattergl"
           }
          ],
          "scattermapbox": [
           {
            "marker": {
             "colorbar": {
              "outlinewidth": 0,
              "ticks": ""
             }
            },
            "type": "scattermapbox"
           }
          ],
          "scatterpolar": [
           {
            "marker": {
             "colorbar": {
              "outlinewidth": 0,
              "ticks": ""
             }
            },
            "type": "scatterpolar"
           }
          ],
          "scatterpolargl": [
           {
            "marker": {
             "colorbar": {
              "outlinewidth": 0,
              "ticks": ""
             }
            },
            "type": "scatterpolargl"
           }
          ],
          "scatterternary": [
           {
            "marker": {
             "colorbar": {
              "outlinewidth": 0,
              "ticks": ""
             }
            },
            "type": "scatterternary"
           }
          ],
          "surface": [
           {
            "colorbar": {
             "outlinewidth": 0,
             "ticks": ""
            },
            "colorscale": [
             [
              0,
              "#0d0887"
             ],
             [
              0.1111111111111111,
              "#46039f"
             ],
             [
              0.2222222222222222,
              "#7201a8"
             ],
             [
              0.3333333333333333,
              "#9c179e"
             ],
             [
              0.4444444444444444,
              "#bd3786"
             ],
             [
              0.5555555555555556,
              "#d8576b"
             ],
             [
              0.6666666666666666,
              "#ed7953"
             ],
             [
              0.7777777777777778,
              "#fb9f3a"
             ],
             [
              0.8888888888888888,
              "#fdca26"
             ],
             [
              1,
              "#f0f921"
             ]
            ],
            "type": "surface"
           }
          ],
          "table": [
           {
            "cells": {
             "fill": {
              "color": "#EBF0F8"
             },
             "line": {
              "color": "white"
             }
            },
            "header": {
             "fill": {
              "color": "#C8D4E3"
             },
             "line": {
              "color": "white"
             }
            },
            "type": "table"
           }
          ]
         },
         "layout": {
          "annotationdefaults": {
           "arrowcolor": "#2a3f5f",
           "arrowhead": 0,
           "arrowwidth": 1
          },
          "autotypenumbers": "strict",
          "coloraxis": {
           "colorbar": {
            "outlinewidth": 0,
            "ticks": ""
           }
          },
          "colorscale": {
           "diverging": [
            [
             0,
             "#8e0152"
            ],
            [
             0.1,
             "#c51b7d"
            ],
            [
             0.2,
             "#de77ae"
            ],
            [
             0.3,
             "#f1b6da"
            ],
            [
             0.4,
             "#fde0ef"
            ],
            [
             0.5,
             "#f7f7f7"
            ],
            [
             0.6,
             "#e6f5d0"
            ],
            [
             0.7,
             "#b8e186"
            ],
            [
             0.8,
             "#7fbc41"
            ],
            [
             0.9,
             "#4d9221"
            ],
            [
             1,
             "#276419"
            ]
           ],
           "sequential": [
            [
             0,
             "#0d0887"
            ],
            [
             0.1111111111111111,
             "#46039f"
            ],
            [
             0.2222222222222222,
             "#7201a8"
            ],
            [
             0.3333333333333333,
             "#9c179e"
            ],
            [
             0.4444444444444444,
             "#bd3786"
            ],
            [
             0.5555555555555556,
             "#d8576b"
            ],
            [
             0.6666666666666666,
             "#ed7953"
            ],
            [
             0.7777777777777778,
             "#fb9f3a"
            ],
            [
             0.8888888888888888,
             "#fdca26"
            ],
            [
             1,
             "#f0f921"
            ]
           ],
           "sequentialminus": [
            [
             0,
             "#0d0887"
            ],
            [
             0.1111111111111111,
             "#46039f"
            ],
            [
             0.2222222222222222,
             "#7201a8"
            ],
            [
             0.3333333333333333,
             "#9c179e"
            ],
            [
             0.4444444444444444,
             "#bd3786"
            ],
            [
             0.5555555555555556,
             "#d8576b"
            ],
            [
             0.6666666666666666,
             "#ed7953"
            ],
            [
             0.7777777777777778,
             "#fb9f3a"
            ],
            [
             0.8888888888888888,
             "#fdca26"
            ],
            [
             1,
             "#f0f921"
            ]
           ]
          },
          "colorway": [
           "#636efa",
           "#EF553B",
           "#00cc96",
           "#ab63fa",
           "#FFA15A",
           "#19d3f3",
           "#FF6692",
           "#B6E880",
           "#FF97FF",
           "#FECB52"
          ],
          "font": {
           "color": "#2a3f5f"
          },
          "geo": {
           "bgcolor": "white",
           "lakecolor": "white",
           "landcolor": "#E5ECF6",
           "showlakes": true,
           "showland": true,
           "subunitcolor": "white"
          },
          "hoverlabel": {
           "align": "left"
          },
          "hovermode": "closest",
          "mapbox": {
           "style": "light"
          },
          "paper_bgcolor": "white",
          "plot_bgcolor": "#E5ECF6",
          "polar": {
           "angularaxis": {
            "gridcolor": "white",
            "linecolor": "white",
            "ticks": ""
           },
           "bgcolor": "#E5ECF6",
           "radialaxis": {
            "gridcolor": "white",
            "linecolor": "white",
            "ticks": ""
           }
          },
          "scene": {
           "xaxis": {
            "backgroundcolor": "#E5ECF6",
            "gridcolor": "white",
            "gridwidth": 2,
            "linecolor": "white",
            "showbackground": true,
            "ticks": "",
            "zerolinecolor": "white"
           },
           "yaxis": {
            "backgroundcolor": "#E5ECF6",
            "gridcolor": "white",
            "gridwidth": 2,
            "linecolor": "white",
            "showbackground": true,
            "ticks": "",
            "zerolinecolor": "white"
           },
           "zaxis": {
            "backgroundcolor": "#E5ECF6",
            "gridcolor": "white",
            "gridwidth": 2,
            "linecolor": "white",
            "showbackground": true,
            "ticks": "",
            "zerolinecolor": "white"
           }
          },
          "shapedefaults": {
           "line": {
            "color": "#2a3f5f"
           }
          },
          "ternary": {
           "aaxis": {
            "gridcolor": "white",
            "linecolor": "white",
            "ticks": ""
           },
           "baxis": {
            "gridcolor": "white",
            "linecolor": "white",
            "ticks": ""
           },
           "bgcolor": "#E5ECF6",
           "caxis": {
            "gridcolor": "white",
            "linecolor": "white",
            "ticks": ""
           }
          },
          "title": {
           "x": 0.05
          },
          "xaxis": {
           "automargin": true,
           "gridcolor": "white",
           "linecolor": "white",
           "ticks": "",
           "title": {
            "standoff": 15
           },
           "zerolinecolor": "white",
           "zerolinewidth": 2
          },
          "yaxis": {
           "automargin": true,
           "gridcolor": "white",
           "linecolor": "white",
           "ticks": "",
           "title": {
            "standoff": 15
           },
           "zerolinecolor": "white",
           "zerolinewidth": 2
          }
         }
        }
       }
      }
     },
     "metadata": {},
     "output_type": "display_data"
    }
   ],
   "source": [
    "fig = go.FigureWidget(\n",
    "    data=[go.Scatter(x=cars_df.horsepower, y=cars_df['highway-mpg'],\n",
    "                marker={'color': color, 'cmin': cmin, 'cmax': cmax,\n",
    "                        'colorscale': colorscale, 'showscale': True,\n",
    "                        'colorbar': {'tickvals': [0, 1, 2], 'ticktext': ['None', 'Red', 'Blue']}},\n",
    "                     mode='markers'),\n",
    "\n",
    "      go.Parcats(domain={'y': [0, 0.4]}, dimensions=dimensions,\n",
    "                   line={'colorscale': colorscale, 'cmin': cmin,\n",
    "                   'cmax': cmax, 'color': color, 'shape': 'hspline'})]\n",
    ")\n",
    "\n",
    "fig.show()"
   ]
  },
  {
   "cell_type": "code",
   "execution_count": 23,
   "metadata": {},
   "outputs": [
    {
     "data": {
      "text/html": [
       "<div>\n",
       "<style scoped>\n",
       "    .dataframe tbody tr th:only-of-type {\n",
       "        vertical-align: middle;\n",
       "    }\n",
       "\n",
       "    .dataframe tbody tr th {\n",
       "        vertical-align: top;\n",
       "    }\n",
       "\n",
       "    .dataframe thead th {\n",
       "        text-align: right;\n",
       "    }\n",
       "</style>\n",
       "<table border=\"1\" class=\"dataframe\">\n",
       "  <thead>\n",
       "    <tr style=\"text-align: right;\">\n",
       "      <th></th>\n",
       "      <th>symboling</th>\n",
       "      <th>normalized-losses</th>\n",
       "      <th>make</th>\n",
       "      <th>fuel-type</th>\n",
       "      <th>aspiration</th>\n",
       "      <th>num-of-doors</th>\n",
       "      <th>body-style</th>\n",
       "      <th>drive-wheels</th>\n",
       "      <th>engine-location</th>\n",
       "      <th>wheel-base</th>\n",
       "      <th>...</th>\n",
       "      <th>engine-size</th>\n",
       "      <th>fuel-system</th>\n",
       "      <th>bore</th>\n",
       "      <th>stroke</th>\n",
       "      <th>compression-ratio</th>\n",
       "      <th>horsepower</th>\n",
       "      <th>peak-rpm</th>\n",
       "      <th>city-mpg</th>\n",
       "      <th>highway-mpg</th>\n",
       "      <th>price</th>\n",
       "    </tr>\n",
       "  </thead>\n",
       "  <tbody>\n",
       "    <tr>\n",
       "      <th>0</th>\n",
       "      <td>3</td>\n",
       "      <td>NaN</td>\n",
       "      <td>alfa-romero</td>\n",
       "      <td>gas</td>\n",
       "      <td>std</td>\n",
       "      <td>two</td>\n",
       "      <td>convertible</td>\n",
       "      <td>rwd</td>\n",
       "      <td>front</td>\n",
       "      <td>88.6</td>\n",
       "      <td>...</td>\n",
       "      <td>130</td>\n",
       "      <td>mpfi</td>\n",
       "      <td>3.47</td>\n",
       "      <td>2.68</td>\n",
       "      <td>9.0</td>\n",
       "      <td>111.0</td>\n",
       "      <td>5000.0</td>\n",
       "      <td>21</td>\n",
       "      <td>27</td>\n",
       "      <td>13495.0</td>\n",
       "    </tr>\n",
       "    <tr>\n",
       "      <th>1</th>\n",
       "      <td>3</td>\n",
       "      <td>NaN</td>\n",
       "      <td>alfa-romero</td>\n",
       "      <td>gas</td>\n",
       "      <td>std</td>\n",
       "      <td>two</td>\n",
       "      <td>convertible</td>\n",
       "      <td>rwd</td>\n",
       "      <td>front</td>\n",
       "      <td>88.6</td>\n",
       "      <td>...</td>\n",
       "      <td>130</td>\n",
       "      <td>mpfi</td>\n",
       "      <td>3.47</td>\n",
       "      <td>2.68</td>\n",
       "      <td>9.0</td>\n",
       "      <td>111.0</td>\n",
       "      <td>5000.0</td>\n",
       "      <td>21</td>\n",
       "      <td>27</td>\n",
       "      <td>16500.0</td>\n",
       "    </tr>\n",
       "    <tr>\n",
       "      <th>2</th>\n",
       "      <td>1</td>\n",
       "      <td>NaN</td>\n",
       "      <td>alfa-romero</td>\n",
       "      <td>gas</td>\n",
       "      <td>std</td>\n",
       "      <td>two</td>\n",
       "      <td>hatchback</td>\n",
       "      <td>rwd</td>\n",
       "      <td>front</td>\n",
       "      <td>94.5</td>\n",
       "      <td>...</td>\n",
       "      <td>152</td>\n",
       "      <td>mpfi</td>\n",
       "      <td>2.68</td>\n",
       "      <td>3.47</td>\n",
       "      <td>9.0</td>\n",
       "      <td>154.0</td>\n",
       "      <td>5000.0</td>\n",
       "      <td>19</td>\n",
       "      <td>26</td>\n",
       "      <td>16500.0</td>\n",
       "    </tr>\n",
       "    <tr>\n",
       "      <th>3</th>\n",
       "      <td>2</td>\n",
       "      <td>164.0</td>\n",
       "      <td>audi</td>\n",
       "      <td>gas</td>\n",
       "      <td>std</td>\n",
       "      <td>four</td>\n",
       "      <td>sedan</td>\n",
       "      <td>fwd</td>\n",
       "      <td>front</td>\n",
       "      <td>99.8</td>\n",
       "      <td>...</td>\n",
       "      <td>109</td>\n",
       "      <td>mpfi</td>\n",
       "      <td>3.19</td>\n",
       "      <td>3.40</td>\n",
       "      <td>10.0</td>\n",
       "      <td>102.0</td>\n",
       "      <td>5500.0</td>\n",
       "      <td>24</td>\n",
       "      <td>30</td>\n",
       "      <td>13950.0</td>\n",
       "    </tr>\n",
       "    <tr>\n",
       "      <th>4</th>\n",
       "      <td>2</td>\n",
       "      <td>164.0</td>\n",
       "      <td>audi</td>\n",
       "      <td>gas</td>\n",
       "      <td>std</td>\n",
       "      <td>four</td>\n",
       "      <td>sedan</td>\n",
       "      <td>4wd</td>\n",
       "      <td>front</td>\n",
       "      <td>99.4</td>\n",
       "      <td>...</td>\n",
       "      <td>136</td>\n",
       "      <td>mpfi</td>\n",
       "      <td>3.19</td>\n",
       "      <td>3.40</td>\n",
       "      <td>8.0</td>\n",
       "      <td>115.0</td>\n",
       "      <td>5500.0</td>\n",
       "      <td>18</td>\n",
       "      <td>22</td>\n",
       "      <td>17450.0</td>\n",
       "    </tr>\n",
       "    <tr>\n",
       "      <th>...</th>\n",
       "      <td>...</td>\n",
       "      <td>...</td>\n",
       "      <td>...</td>\n",
       "      <td>...</td>\n",
       "      <td>...</td>\n",
       "      <td>...</td>\n",
       "      <td>...</td>\n",
       "      <td>...</td>\n",
       "      <td>...</td>\n",
       "      <td>...</td>\n",
       "      <td>...</td>\n",
       "      <td>...</td>\n",
       "      <td>...</td>\n",
       "      <td>...</td>\n",
       "      <td>...</td>\n",
       "      <td>...</td>\n",
       "      <td>...</td>\n",
       "      <td>...</td>\n",
       "      <td>...</td>\n",
       "      <td>...</td>\n",
       "      <td>...</td>\n",
       "    </tr>\n",
       "    <tr>\n",
       "      <th>200</th>\n",
       "      <td>-1</td>\n",
       "      <td>95.0</td>\n",
       "      <td>volvo</td>\n",
       "      <td>gas</td>\n",
       "      <td>std</td>\n",
       "      <td>four</td>\n",
       "      <td>sedan</td>\n",
       "      <td>rwd</td>\n",
       "      <td>front</td>\n",
       "      <td>109.1</td>\n",
       "      <td>...</td>\n",
       "      <td>141</td>\n",
       "      <td>mpfi</td>\n",
       "      <td>3.78</td>\n",
       "      <td>3.15</td>\n",
       "      <td>9.5</td>\n",
       "      <td>114.0</td>\n",
       "      <td>5400.0</td>\n",
       "      <td>23</td>\n",
       "      <td>28</td>\n",
       "      <td>16845.0</td>\n",
       "    </tr>\n",
       "    <tr>\n",
       "      <th>201</th>\n",
       "      <td>-1</td>\n",
       "      <td>95.0</td>\n",
       "      <td>volvo</td>\n",
       "      <td>gas</td>\n",
       "      <td>turbo</td>\n",
       "      <td>four</td>\n",
       "      <td>sedan</td>\n",
       "      <td>rwd</td>\n",
       "      <td>front</td>\n",
       "      <td>109.1</td>\n",
       "      <td>...</td>\n",
       "      <td>141</td>\n",
       "      <td>mpfi</td>\n",
       "      <td>3.78</td>\n",
       "      <td>3.15</td>\n",
       "      <td>8.7</td>\n",
       "      <td>160.0</td>\n",
       "      <td>5300.0</td>\n",
       "      <td>19</td>\n",
       "      <td>25</td>\n",
       "      <td>19045.0</td>\n",
       "    </tr>\n",
       "    <tr>\n",
       "      <th>202</th>\n",
       "      <td>-1</td>\n",
       "      <td>95.0</td>\n",
       "      <td>volvo</td>\n",
       "      <td>gas</td>\n",
       "      <td>std</td>\n",
       "      <td>four</td>\n",
       "      <td>sedan</td>\n",
       "      <td>rwd</td>\n",
       "      <td>front</td>\n",
       "      <td>109.1</td>\n",
       "      <td>...</td>\n",
       "      <td>173</td>\n",
       "      <td>mpfi</td>\n",
       "      <td>3.58</td>\n",
       "      <td>2.87</td>\n",
       "      <td>8.8</td>\n",
       "      <td>134.0</td>\n",
       "      <td>5500.0</td>\n",
       "      <td>18</td>\n",
       "      <td>23</td>\n",
       "      <td>21485.0</td>\n",
       "    </tr>\n",
       "    <tr>\n",
       "      <th>203</th>\n",
       "      <td>-1</td>\n",
       "      <td>95.0</td>\n",
       "      <td>volvo</td>\n",
       "      <td>diesel</td>\n",
       "      <td>turbo</td>\n",
       "      <td>four</td>\n",
       "      <td>sedan</td>\n",
       "      <td>rwd</td>\n",
       "      <td>front</td>\n",
       "      <td>109.1</td>\n",
       "      <td>...</td>\n",
       "      <td>145</td>\n",
       "      <td>idi</td>\n",
       "      <td>3.01</td>\n",
       "      <td>3.40</td>\n",
       "      <td>23.0</td>\n",
       "      <td>106.0</td>\n",
       "      <td>4800.0</td>\n",
       "      <td>26</td>\n",
       "      <td>27</td>\n",
       "      <td>22470.0</td>\n",
       "    </tr>\n",
       "    <tr>\n",
       "      <th>204</th>\n",
       "      <td>-1</td>\n",
       "      <td>95.0</td>\n",
       "      <td>volvo</td>\n",
       "      <td>gas</td>\n",
       "      <td>turbo</td>\n",
       "      <td>four</td>\n",
       "      <td>sedan</td>\n",
       "      <td>rwd</td>\n",
       "      <td>front</td>\n",
       "      <td>109.1</td>\n",
       "      <td>...</td>\n",
       "      <td>141</td>\n",
       "      <td>mpfi</td>\n",
       "      <td>3.78</td>\n",
       "      <td>3.15</td>\n",
       "      <td>9.5</td>\n",
       "      <td>114.0</td>\n",
       "      <td>5400.0</td>\n",
       "      <td>19</td>\n",
       "      <td>25</td>\n",
       "      <td>22625.0</td>\n",
       "    </tr>\n",
       "  </tbody>\n",
       "</table>\n",
       "<p>205 rows × 26 columns</p>\n",
       "</div>"
      ],
      "text/plain": [
       "     symboling  normalized-losses         make fuel-type aspiration  \\\n",
       "0            3                NaN  alfa-romero       gas        std   \n",
       "1            3                NaN  alfa-romero       gas        std   \n",
       "2            1                NaN  alfa-romero       gas        std   \n",
       "3            2              164.0         audi       gas        std   \n",
       "4            2              164.0         audi       gas        std   \n",
       "..         ...                ...          ...       ...        ...   \n",
       "200         -1               95.0        volvo       gas        std   \n",
       "201         -1               95.0        volvo       gas      turbo   \n",
       "202         -1               95.0        volvo       gas        std   \n",
       "203         -1               95.0        volvo    diesel      turbo   \n",
       "204         -1               95.0        volvo       gas      turbo   \n",
       "\n",
       "    num-of-doors   body-style drive-wheels engine-location  wheel-base  ...  \\\n",
       "0            two  convertible          rwd           front        88.6  ...   \n",
       "1            two  convertible          rwd           front        88.6  ...   \n",
       "2            two    hatchback          rwd           front        94.5  ...   \n",
       "3           four        sedan          fwd           front        99.8  ...   \n",
       "4           four        sedan          4wd           front        99.4  ...   \n",
       "..           ...          ...          ...             ...         ...  ...   \n",
       "200         four        sedan          rwd           front       109.1  ...   \n",
       "201         four        sedan          rwd           front       109.1  ...   \n",
       "202         four        sedan          rwd           front       109.1  ...   \n",
       "203         four        sedan          rwd           front       109.1  ...   \n",
       "204         four        sedan          rwd           front       109.1  ...   \n",
       "\n",
       "     engine-size  fuel-system  bore  stroke compression-ratio  horsepower  \\\n",
       "0            130         mpfi  3.47    2.68               9.0       111.0   \n",
       "1            130         mpfi  3.47    2.68               9.0       111.0   \n",
       "2            152         mpfi  2.68    3.47               9.0       154.0   \n",
       "3            109         mpfi  3.19    3.40              10.0       102.0   \n",
       "4            136         mpfi  3.19    3.40               8.0       115.0   \n",
       "..           ...          ...   ...     ...               ...         ...   \n",
       "200          141         mpfi  3.78    3.15               9.5       114.0   \n",
       "201          141         mpfi  3.78    3.15               8.7       160.0   \n",
       "202          173         mpfi  3.58    2.87               8.8       134.0   \n",
       "203          145          idi  3.01    3.40              23.0       106.0   \n",
       "204          141         mpfi  3.78    3.15               9.5       114.0   \n",
       "\n",
       "     peak-rpm city-mpg  highway-mpg    price  \n",
       "0      5000.0       21           27  13495.0  \n",
       "1      5000.0       21           27  16500.0  \n",
       "2      5000.0       19           26  16500.0  \n",
       "3      5500.0       24           30  13950.0  \n",
       "4      5500.0       18           22  17450.0  \n",
       "..        ...      ...          ...      ...  \n",
       "200    5400.0       23           28  16845.0  \n",
       "201    5300.0       19           25  19045.0  \n",
       "202    5500.0       18           23  21485.0  \n",
       "203    4800.0       26           27  22470.0  \n",
       "204    5400.0       19           25  22625.0  \n",
       "\n",
       "[205 rows x 26 columns]"
      ]
     },
     "execution_count": 23,
     "metadata": {},
     "output_type": "execute_result"
    }
   ],
   "source": [
    "cars_df"
   ]
  },
  {
   "cell_type": "code",
   "execution_count": 18,
   "metadata": {},
   "outputs": [],
   "source": [
    "# Visualizations\n",
    "import matplotlib.pyplot as plt\n",
    "import seaborn as sns\n",
    "import plotly.express as px\n",
    "import plotly.graph_objects as go\n",
    "from ipywidgets import widgets"
   ]
  },
  {
   "cell_type": "code",
   "execution_count": 40,
   "metadata": {},
   "outputs": [
    {
     "name": "stdout",
     "output_type": "stream",
     "text": [
      "3892 11713\n"
     ]
    },
    {
     "data": {
      "application/vnd.plotly.v1+json": {
       "config": {
        "plotlyServerURL": "https://plot.ly"
       },
       "data": [
        {
         "labels": [
          "Identified",
          "Undetermined"
         ],
         "marker": {
          "colors": [
           [
            0.6313725490196078,
            0.788235294117647,
            0.9568627450980393
           ],
           [
            1,
            0.7058823529411765,
            0.5098039215686274
           ]
          ]
         },
         "type": "pie",
         "values": [
          3892,
          11713
         ]
        }
       ],
       "layout": {
        "annotations": [
         {
          "font": {
           "size": 20
          },
          "showarrow": false,
          "text": "Identified: 3892<br>Undetermined: 11713",
          "x": 0.2,
          "y": 0.5
         }
        ],
        "legend": {
         "x": 0.3,
         "xanchor": "left",
         "y": 0.1,
         "yanchor": "top"
        },
        "template": {
         "data": {
          "bar": [
           {
            "error_x": {
             "color": "#2a3f5f"
            },
            "error_y": {
             "color": "#2a3f5f"
            },
            "marker": {
             "line": {
              "color": "#E5ECF6",
              "width": 0.5
             },
             "pattern": {
              "fillmode": "overlay",
              "size": 10,
              "solidity": 0.2
             }
            },
            "type": "bar"
           }
          ],
          "barpolar": [
           {
            "marker": {
             "line": {
              "color": "#E5ECF6",
              "width": 0.5
             },
             "pattern": {
              "fillmode": "overlay",
              "size": 10,
              "solidity": 0.2
             }
            },
            "type": "barpolar"
           }
          ],
          "carpet": [
           {
            "aaxis": {
             "endlinecolor": "#2a3f5f",
             "gridcolor": "white",
             "linecolor": "white",
             "minorgridcolor": "white",
             "startlinecolor": "#2a3f5f"
            },
            "baxis": {
             "endlinecolor": "#2a3f5f",
             "gridcolor": "white",
             "linecolor": "white",
             "minorgridcolor": "white",
             "startlinecolor": "#2a3f5f"
            },
            "type": "carpet"
           }
          ],
          "choropleth": [
           {
            "colorbar": {
             "outlinewidth": 0,
             "ticks": ""
            },
            "type": "choropleth"
           }
          ],
          "contour": [
           {
            "colorbar": {
             "outlinewidth": 0,
             "ticks": ""
            },
            "colorscale": [
             [
              0,
              "#0d0887"
             ],
             [
              0.1111111111111111,
              "#46039f"
             ],
             [
              0.2222222222222222,
              "#7201a8"
             ],
             [
              0.3333333333333333,
              "#9c179e"
             ],
             [
              0.4444444444444444,
              "#bd3786"
             ],
             [
              0.5555555555555556,
              "#d8576b"
             ],
             [
              0.6666666666666666,
              "#ed7953"
             ],
             [
              0.7777777777777778,
              "#fb9f3a"
             ],
             [
              0.8888888888888888,
              "#fdca26"
             ],
             [
              1,
              "#f0f921"
             ]
            ],
            "type": "contour"
           }
          ],
          "contourcarpet": [
           {
            "colorbar": {
             "outlinewidth": 0,
             "ticks": ""
            },
            "type": "contourcarpet"
           }
          ],
          "heatmap": [
           {
            "colorbar": {
             "outlinewidth": 0,
             "ticks": ""
            },
            "colorscale": [
             [
              0,
              "#0d0887"
             ],
             [
              0.1111111111111111,
              "#46039f"
             ],
             [
              0.2222222222222222,
              "#7201a8"
             ],
             [
              0.3333333333333333,
              "#9c179e"
             ],
             [
              0.4444444444444444,
              "#bd3786"
             ],
             [
              0.5555555555555556,
              "#d8576b"
             ],
             [
              0.6666666666666666,
              "#ed7953"
             ],
             [
              0.7777777777777778,
              "#fb9f3a"
             ],
             [
              0.8888888888888888,
              "#fdca26"
             ],
             [
              1,
              "#f0f921"
             ]
            ],
            "type": "heatmap"
           }
          ],
          "heatmapgl": [
           {
            "colorbar": {
             "outlinewidth": 0,
             "ticks": ""
            },
            "colorscale": [
             [
              0,
              "#0d0887"
             ],
             [
              0.1111111111111111,
              "#46039f"
             ],
             [
              0.2222222222222222,
              "#7201a8"
             ],
             [
              0.3333333333333333,
              "#9c179e"
             ],
             [
              0.4444444444444444,
              "#bd3786"
             ],
             [
              0.5555555555555556,
              "#d8576b"
             ],
             [
              0.6666666666666666,
              "#ed7953"
             ],
             [
              0.7777777777777778,
              "#fb9f3a"
             ],
             [
              0.8888888888888888,
              "#fdca26"
             ],
             [
              1,
              "#f0f921"
             ]
            ],
            "type": "heatmapgl"
           }
          ],
          "histogram": [
           {
            "marker": {
             "pattern": {
              "fillmode": "overlay",
              "size": 10,
              "solidity": 0.2
             }
            },
            "type": "histogram"
           }
          ],
          "histogram2d": [
           {
            "colorbar": {
             "outlinewidth": 0,
             "ticks": ""
            },
            "colorscale": [
             [
              0,
              "#0d0887"
             ],
             [
              0.1111111111111111,
              "#46039f"
             ],
             [
              0.2222222222222222,
              "#7201a8"
             ],
             [
              0.3333333333333333,
              "#9c179e"
             ],
             [
              0.4444444444444444,
              "#bd3786"
             ],
             [
              0.5555555555555556,
              "#d8576b"
             ],
             [
              0.6666666666666666,
              "#ed7953"
             ],
             [
              0.7777777777777778,
              "#fb9f3a"
             ],
             [
              0.8888888888888888,
              "#fdca26"
             ],
             [
              1,
              "#f0f921"
             ]
            ],
            "type": "histogram2d"
           }
          ],
          "histogram2dcontour": [
           {
            "colorbar": {
             "outlinewidth": 0,
             "ticks": ""
            },
            "colorscale": [
             [
              0,
              "#0d0887"
             ],
             [
              0.1111111111111111,
              "#46039f"
             ],
             [
              0.2222222222222222,
              "#7201a8"
             ],
             [
              0.3333333333333333,
              "#9c179e"
             ],
             [
              0.4444444444444444,
              "#bd3786"
             ],
             [
              0.5555555555555556,
              "#d8576b"
             ],
             [
              0.6666666666666666,
              "#ed7953"
             ],
             [
              0.7777777777777778,
              "#fb9f3a"
             ],
             [
              0.8888888888888888,
              "#fdca26"
             ],
             [
              1,
              "#f0f921"
             ]
            ],
            "type": "histogram2dcontour"
           }
          ],
          "mesh3d": [
           {
            "colorbar": {
             "outlinewidth": 0,
             "ticks": ""
            },
            "type": "mesh3d"
           }
          ],
          "parcoords": [
           {
            "line": {
             "colorbar": {
              "outlinewidth": 0,
              "ticks": ""
             }
            },
            "type": "parcoords"
           }
          ],
          "pie": [
           {
            "automargin": true,
            "type": "pie"
           }
          ],
          "scatter": [
           {
            "fillpattern": {
             "fillmode": "overlay",
             "size": 10,
             "solidity": 0.2
            },
            "type": "scatter"
           }
          ],
          "scatter3d": [
           {
            "line": {
             "colorbar": {
              "outlinewidth": 0,
              "ticks": ""
             }
            },
            "marker": {
             "colorbar": {
              "outlinewidth": 0,
              "ticks": ""
             }
            },
            "type": "scatter3d"
           }
          ],
          "scattercarpet": [
           {
            "marker": {
             "colorbar": {
              "outlinewidth": 0,
              "ticks": ""
             }
            },
            "type": "scattercarpet"
           }
          ],
          "scattergeo": [
           {
            "marker": {
             "colorbar": {
              "outlinewidth": 0,
              "ticks": ""
             }
            },
            "type": "scattergeo"
           }
          ],
          "scattergl": [
           {
            "marker": {
             "colorbar": {
              "outlinewidth": 0,
              "ticks": ""
             }
            },
            "type": "scattergl"
           }
          ],
          "scattermapbox": [
           {
            "marker": {
             "colorbar": {
              "outlinewidth": 0,
              "ticks": ""
             }
            },
            "type": "scattermapbox"
           }
          ],
          "scatterpolar": [
           {
            "marker": {
             "colorbar": {
              "outlinewidth": 0,
              "ticks": ""
             }
            },
            "type": "scatterpolar"
           }
          ],
          "scatterpolargl": [
           {
            "marker": {
             "colorbar": {
              "outlinewidth": 0,
              "ticks": ""
             }
            },
            "type": "scatterpolargl"
           }
          ],
          "scatterternary": [
           {
            "marker": {
             "colorbar": {
              "outlinewidth": 0,
              "ticks": ""
             }
            },
            "type": "scatterternary"
           }
          ],
          "surface": [
           {
            "colorbar": {
             "outlinewidth": 0,
             "ticks": ""
            },
            "colorscale": [
             [
              0,
              "#0d0887"
             ],
             [
              0.1111111111111111,
              "#46039f"
             ],
             [
              0.2222222222222222,
              "#7201a8"
             ],
             [
              0.3333333333333333,
              "#9c179e"
             ],
             [
              0.4444444444444444,
              "#bd3786"
             ],
             [
              0.5555555555555556,
              "#d8576b"
             ],
             [
              0.6666666666666666,
              "#ed7953"
             ],
             [
              0.7777777777777778,
              "#fb9f3a"
             ],
             [
              0.8888888888888888,
              "#fdca26"
             ],
             [
              1,
              "#f0f921"
             ]
            ],
            "type": "surface"
           }
          ],
          "table": [
           {
            "cells": {
             "fill": {
              "color": "#EBF0F8"
             },
             "line": {
              "color": "white"
             }
            },
            "header": {
             "fill": {
              "color": "#C8D4E3"
             },
             "line": {
              "color": "white"
             }
            },
            "type": "table"
           }
          ]
         },
         "layout": {
          "annotationdefaults": {
           "arrowcolor": "#2a3f5f",
           "arrowhead": 0,
           "arrowwidth": 1
          },
          "autotypenumbers": "strict",
          "coloraxis": {
           "colorbar": {
            "outlinewidth": 0,
            "ticks": ""
           }
          },
          "colorscale": {
           "diverging": [
            [
             0,
             "#8e0152"
            ],
            [
             0.1,
             "#c51b7d"
            ],
            [
             0.2,
             "#de77ae"
            ],
            [
             0.3,
             "#f1b6da"
            ],
            [
             0.4,
             "#fde0ef"
            ],
            [
             0.5,
             "#f7f7f7"
            ],
            [
             0.6,
             "#e6f5d0"
            ],
            [
             0.7,
             "#b8e186"
            ],
            [
             0.8,
             "#7fbc41"
            ],
            [
             0.9,
             "#4d9221"
            ],
            [
             1,
             "#276419"
            ]
           ],
           "sequential": [
            [
             0,
             "#0d0887"
            ],
            [
             0.1111111111111111,
             "#46039f"
            ],
            [
             0.2222222222222222,
             "#7201a8"
            ],
            [
             0.3333333333333333,
             "#9c179e"
            ],
            [
             0.4444444444444444,
             "#bd3786"
            ],
            [
             0.5555555555555556,
             "#d8576b"
            ],
            [
             0.6666666666666666,
             "#ed7953"
            ],
            [
             0.7777777777777778,
             "#fb9f3a"
            ],
            [
             0.8888888888888888,
             "#fdca26"
            ],
            [
             1,
             "#f0f921"
            ]
           ],
           "sequentialminus": [
            [
             0,
             "#0d0887"
            ],
            [
             0.1111111111111111,
             "#46039f"
            ],
            [
             0.2222222222222222,
             "#7201a8"
            ],
            [
             0.3333333333333333,
             "#9c179e"
            ],
            [
             0.4444444444444444,
             "#bd3786"
            ],
            [
             0.5555555555555556,
             "#d8576b"
            ],
            [
             0.6666666666666666,
             "#ed7953"
            ],
            [
             0.7777777777777778,
             "#fb9f3a"
            ],
            [
             0.8888888888888888,
             "#fdca26"
            ],
            [
             1,
             "#f0f921"
            ]
           ]
          },
          "colorway": [
           "#636efa",
           "#EF553B",
           "#00cc96",
           "#ab63fa",
           "#FFA15A",
           "#19d3f3",
           "#FF6692",
           "#B6E880",
           "#FF97FF",
           "#FECB52"
          ],
          "font": {
           "color": "#2a3f5f"
          },
          "geo": {
           "bgcolor": "white",
           "lakecolor": "white",
           "landcolor": "#E5ECF6",
           "showlakes": true,
           "showland": true,
           "subunitcolor": "white"
          },
          "hoverlabel": {
           "align": "left"
          },
          "hovermode": "closest",
          "mapbox": {
           "style": "light"
          },
          "paper_bgcolor": "white",
          "plot_bgcolor": "#E5ECF6",
          "polar": {
           "angularaxis": {
            "gridcolor": "white",
            "linecolor": "white",
            "ticks": ""
           },
           "bgcolor": "#E5ECF6",
           "radialaxis": {
            "gridcolor": "white",
            "linecolor": "white",
            "ticks": ""
           }
          },
          "scene": {
           "xaxis": {
            "backgroundcolor": "#E5ECF6",
            "gridcolor": "white",
            "gridwidth": 2,
            "linecolor": "white",
            "showbackground": true,
            "ticks": "",
            "zerolinecolor": "white"
           },
           "yaxis": {
            "backgroundcolor": "#E5ECF6",
            "gridcolor": "white",
            "gridwidth": 2,
            "linecolor": "white",
            "showbackground": true,
            "ticks": "",
            "zerolinecolor": "white"
           },
           "zaxis": {
            "backgroundcolor": "#E5ECF6",
            "gridcolor": "white",
            "gridwidth": 2,
            "linecolor": "white",
            "showbackground": true,
            "ticks": "",
            "zerolinecolor": "white"
           }
          },
          "shapedefaults": {
           "line": {
            "color": "#2a3f5f"
           }
          },
          "ternary": {
           "aaxis": {
            "gridcolor": "white",
            "linecolor": "white",
            "ticks": ""
           },
           "baxis": {
            "gridcolor": "white",
            "linecolor": "white",
            "ticks": ""
           },
           "bgcolor": "#E5ECF6",
           "caxis": {
            "gridcolor": "white",
            "linecolor": "white",
            "ticks": ""
           }
          },
          "title": {
           "x": 0.05
          },
          "xaxis": {
           "automargin": true,
           "gridcolor": "white",
           "linecolor": "white",
           "ticks": "",
           "title": {
            "standoff": 15
           },
           "zerolinecolor": "white",
           "zerolinewidth": 2
          },
          "yaxis": {
           "automargin": true,
           "gridcolor": "white",
           "linecolor": "white",
           "ticks": "",
           "title": {
            "standoff": 15
           },
           "zerolinecolor": "white",
           "zerolinewidth": 2
          }
         }
        },
        "title": {
         "text": "Ratio between identified and undetermined variants"
        }
       }
      }
     },
     "metadata": {},
     "output_type": "display_data"
    }
   ],
   "source": [
    "# Plot the ratio between identified and undetermined variants\n",
    "print(len(df_solved), len(df_undetermined))\n",
    "\n",
    "# Pie chart\n",
    "# color as soft color palette\n",
    "colors = sns.color_palette('pastel')[0:2]\n",
    "fig = go.Figure(data=[go.Pie(labels=['Identified', 'Undetermined'], \n",
    "                             values=[len(df_solved), len(df_undetermined)])])\n",
    "fig.update_traces(marker=dict(colors=colors))\n",
    "fig.update_layout(title='Ratio between identified and undetermined variants')\n",
    "\n",
    "# Add number of variants\n",
    "fig.add_annotation(\n",
    "    x=0.2, y=0.5, showarrow=False,\n",
    "    text=f'Identified: {len(df_solved)}<br>Undetermined: {len(df_undetermined)}',\n",
    "    font=dict(size=20)\n",
    ")\n",
    "\n",
    "# legend location\n",
    "fig.update_layout(legend=dict(\n",
    "    yanchor='top',\n",
    "    y=0.1,\n",
    "    xanchor='left',\n",
    "    x=0.3\n",
    "))\n",
    "\n",
    "fig.show()\n",
    "\n",
    "# Saving the html file\n",
    "fig.write_html('identified_undetermined_ratio.html')"
   ]
  },
  {
   "cell_type": "code",
   "execution_count": 44,
   "metadata": {},
   "outputs": [],
   "source": [
    "import codecs\n",
    "with codecs.open(\"mydata.solved.patho.matched.txt\", \"r\", \"Shift-JIS\", \"ignore\") as file:\n",
    "    df = pd.read_table(file, delimiter=\"\\t\")"
   ]
  }
 ],
 "metadata": {
  "kernelspec": {
   "display_name": "env",
   "language": "python",
   "name": "python3"
  },
  "language_info": {
   "codemirror_mode": {
    "name": "ipython",
    "version": 3
   },
   "file_extension": ".py",
   "mimetype": "text/x-python",
   "name": "python",
   "nbconvert_exporter": "python",
   "pygments_lexer": "ipython3",
   "version": "3.9.19"
  },
  "orig_nbformat": 4
 },
 "nbformat": 4,
 "nbformat_minor": 2
}
