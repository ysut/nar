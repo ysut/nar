{
 "cells": [
  {
   "cell_type": "markdown",
   "metadata": {},
   "source": [
    "##### To generate the True Negative variants list from gnomAD v2.1.1"
   ]
  },
  {
   "cell_type": "code",
   "execution_count": 1,
   "metadata": {},
   "outputs": [],
   "source": [
    "import re\n",
    "import pandas as pd\n",
    "from cyvcf2 import VCF"
   ]
  },
  {
   "cell_type": "code",
   "execution_count": 2,
   "metadata": {},
   "outputs": [],
   "source": [
    "# !gunzip -c /resources/gnomAD/gnomad.exomes.r2.1.1.sites.vcf.bgz | sed '/^#/d' | wc -l\n",
    "# 17,209,972 variants"
   ]
  },
  {
   "cell_type": "markdown",
   "metadata": {},
   "source": [
    "#### Load gnomAD v2.1.1 data"
   ]
  },
  {
   "cell_type": "code",
   "execution_count": 3,
   "metadata": {},
   "outputs": [],
   "source": [
    "gnomad_variants = '/resources/gnomAD/gnomad.exomes.r2.1.1.sites.vcf.bgz'\n",
    "canons_list = '/workspace/Github/MyProjects/SplicingScreening/data/CanonicalTranscripts_COMP/CanonicalTranscripts.exoncount.tsv'\n",
    "df_canons = pd.read_csv(canons_list, sep='\\t', header=0, index_col=None)\n",
    "canons_set = set(df_canons['ENST'])\n",
    "variant_types: set = {\n",
    "    'inframe_deletion', 'inframe_insertion', 'synonymous_variant', \n",
    "    'inframe_insertion&splice_region_variant', 'intron_variant', \n",
    "    'missense_variant', 'splice_acceptor_variant',\n",
    "    'splice_acceptor_variant&5_prime_UTR_variant&intron_variant',\n",
    "    'splice_acceptor_variant&intron_variant', \n",
    "    'splice_region_variant&intron_variant',\n",
    "    'splice_region_variant&synonymous_variant'\n",
    "    }"
   ]
  },
  {
   "cell_type": "markdown",
   "metadata": {},
   "source": [
    "##### Functions"
   ]
  },
  {
   "cell_type": "code",
   "execution_count": 4,
   "metadata": {},
   "outputs": [],
   "source": [
    "def is_high_quality(info) -> bool:\n",
    "    if ((info.get('variant_type') == 'snv')\n",
    "        & (info.get('n_alt_alleles') == 1)\n",
    "        & (info.get('MQ') >= 40)\n",
    "        & (info.get('FS') <= 60)\n",
    "        & (info.get('QD') >= 2.0)\n",
    "        & (info.get('MQRankSum') >= -12.5)\n",
    "        & (info.get('ReadPosRankSum') >= -8.0)\n",
    "        & (info.get('decoy') is None)\n",
    "        & (info.get('lcr') is None)\n",
    "        & (info.get('segdup') is None)):\n",
    "\n",
    "        return True\n",
    "\n",
    "\n",
    "def is_canonical_snv(splitvep: list) -> bool:\n",
    "    if ((splitvep[6] in canons_set) \n",
    "        &(splitvep[1] in variant_types)\n",
    "        &(splitvep[26] == 'YES')):\n",
    "\n",
    "        return True\n",
    "\n",
    "\n",
    "def format_str(x):\n",
    "    '''\n",
    "    Change numbers to a string, and change list to a string.\n",
    "    '''\n",
    "    if x is None:\n",
    "        y = '.'\n",
    "    else:\n",
    "        if isinstance(x, list):\n",
    "            if not x:\n",
    "                y = ';'.join(x)\n",
    "            else:\n",
    "                y = '.'\n",
    "        else:\n",
    "            y = str(x)\n",
    "    return y\n",
    "\n",
    "\n",
    "def generate_new_record(variant, splitvep) -> list:\n",
    "    try:\n",
    "        hgvs_c = re.search(r'(?<=:)(.*)', splitvep[10]).group(0)\n",
    "    except AttributeError:\n",
    "        hgvs_c = '.'\n",
    "\n",
    "    try:\n",
    "        hgvs_p = re.search(r'p\\.[0-9#%a-zA-Z>]*', splitvep[11]).group(0)\n",
    "    except AttributeError:\n",
    "        hgvs_p = '.'\n",
    "\n",
    "    if splitvep[8]:\n",
    "        rank = splitvep[8]  # Exon No.\n",
    "    else:\n",
    "        rank = splitvep[9]  # Intron No.\n",
    "\n",
    "    new_record = [\n",
    "        format_str(variant.CHROM), \n",
    "        format_str(variant.POS), \n",
    "        format_str(variant.REF), \n",
    "        format_str(variant.ALT[0]),\n",
    "        splitvep[3],                           # Gene Symbol\n",
    "        format_str(variant.INFO.get('AF')),\n",
    "        splitvep[1],                           # Variant Type\n",
    "        splitvep[4],                           # ENSG\n",
    "        splitvep[6],                           # ENST\n",
    "        hgvs_c,\n",
    "        hgvs_p, \n",
    "        rank, \n",
    "        ]\n",
    "    \n",
    "    return new_record"
   ]
  },
  {
   "cell_type": "markdown",
   "metadata": {},
   "source": [
    "##### Generate the True Negative variants list in this directory"
   ]
  },
  {
   "cell_type": "code",
   "execution_count": 5,
   "metadata": {},
   "outputs": [],
   "source": [
    "o = './true_negative_variants.tsv'\n",
    "columns = [\n",
    "    'CHROM', 'POS', 'REF', 'ALT', 'GeneSymbol', 'AF', \n",
    "    'csq', 'ENSG', 'ENST', 'HGVS.c', 'HGVS.p', 'Rank'\n",
    "]\n",
    "utrs = ['5_prime_UTR_variant', '3_prime_UTR_variant']\n",
    "\n",
    "with open(o, 'w') as out_file:\n",
    "    out_file.write('\\t'.join(columns) + '\\n')\n",
    "    vcf = VCF(gnomad_variants)\n",
    "    for variant in vcf:\n",
    "        if variant.FILTER is None:\n",
    "            info = variant.INFO\n",
    "            if ((info.get('MQRankSum') is None) \n",
    "                | (info.get('ReadPosRankSum') is None)):\n",
    "                pass\n",
    "            else:\n",
    "                if (info.get('AF') >= 0.01):\n",
    "                    if is_high_quality(info):\n",
    "                        veps: list = info.get('vep').split(',')\n",
    "                        i = 0 \n",
    "                        for vep in veps:\n",
    "                            splitvep: list = vep.split('|')\n",
    "                            if is_canonical_snv(splitvep):\n",
    "                                if splitvep[2] in utrs:\n",
    "                                    pass\n",
    "                                else:   # In ORF (Not in UTRs)\n",
    "                                    i += 1\n",
    "                            else:\n",
    "                                pass\n",
    "\n",
    "                        if i == 1:  # Pick up variants with unique canonical Tx.\n",
    "                            for vep in veps:\n",
    "                                splitvep: list = vep.split('|')\n",
    "                                if is_canonical_snv(splitvep):\n",
    "                                    new_record = generate_new_record(\n",
    "                                        variant, splitvep)\n",
    "                                    out_file.write('\\t'.join(new_record) + '\\n')\n",
    "                                    continue\n",
    "                                else:\n",
    "                                    pass\n",
    "                        else:   # There are some canonical variants\n",
    "                            pass\n",
    "                    else:   # Low quality variants\n",
    "                        pass\n",
    "                else:   # Rare variants (AF < 0.01)\n",
    "                    pass  \n",
    "        else:   # FILTER is Not 'PASS'\n",
    "            pass"
   ]
  },
  {
   "cell_type": "markdown",
   "metadata": {},
   "source": [
    "##### CHECK the output file"
   ]
  },
  {
   "cell_type": "code",
   "execution_count": 16,
   "metadata": {},
   "outputs": [
    {
     "name": "stdout",
     "output_type": "stream",
     "text": [
      "143921\n"
     ]
    }
   ],
   "source": [
    "o = './benign.tsv'\n",
    "cols = [\n",
    "    'CHROM', 'POS', 'REF', 'ALT', 'gene', 'AlleleFrequency', 'csq', \n",
    "    'ENSG', 'ENST', 'c.HGVS', 'p.HGVS', 'Rank', 'snv_flag'\n",
    "    ]\n",
    "df = pd.read_table(o, sep='\\t', header=None, dtype=str, names=cols)\n",
    "\n",
    "print(len(df))"
   ]
  }
 ],
 "metadata": {
  "kernelspec": {
   "display_name": "env",
   "language": "python",
   "name": "python3"
  },
  "language_info": {
   "codemirror_mode": {
    "name": "ipython",
    "version": 3
   },
   "file_extension": ".py",
   "mimetype": "text/x-python",
   "name": "python",
   "nbconvert_exporter": "python",
   "pygments_lexer": "ipython3",
   "version": "3.9.18"
  },
  "orig_nbformat": 4
 },
 "nbformat": 4,
 "nbformat_minor": 2
}
